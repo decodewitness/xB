{
 "cells": [
  {
   "cell_type": "markdown",
   "id": "611f8d91",
   "metadata": {},
   "source": [
    "# Feature Selection Using RFECV\n",
    "\n",
    "* Recursive Feature Elimination and Cross Validation\n",
    "\n",
    "Eliminate unimportant features in a recursive manner.\n",
    "RFECV helps in feature ranking\n",
    "Ranks individual features according to their deviation from the main score.\n",
    "\n",
    "1. If high drop in score: Important feature.\n",
    "2. If low drop in score: Less important feature.\n",
    "3. If no drop in score: Not important feature (Doesn't affect)\n",
    "\n",
    "\n",
    "Not only in Feature selection!\n",
    "\n",
    "1. Model - the machine learning algorithm on which you want to train.\n",
    "\n",
    "2. Step - determine how many features we want to eliminate in one iteration, step of 1 is a good choice\n",
    "\n",
    "3. Min_features_to_select - as RFECV is recursively iterating we need to stop it forcefully\n",
    "    a. If we have tested out eliminating all the features for at least once.\n",
    "    b. If we have reached the minimum number of features threshold.\n",
    "    \n",
    "    \n",
    "Train w/ Complete data\n",
    "\n",
    "Model\n",
    "\n",
    "Score predictions\n",
    "Remove (n) features\n",
    "Partial data (repeat Model step and next)\n",
    "\n",
    "If significant drop:\n",
    "\n",
    "Retain features\n",
    "    else:\n",
    "continue"
   ]
  }
 ],
 "metadata": {
  "kernelspec": {
   "display_name": "Python 3",
   "language": "python",
   "name": "python3"
  },
  "language_info": {
   "codemirror_mode": {
    "name": "ipython",
    "version": 3
   },
   "file_extension": ".py",
   "mimetype": "text/x-python",
   "name": "python",
   "nbconvert_exporter": "python",
   "pygments_lexer": "ipython3",
   "version": "3.6.8"
  }
 },
 "nbformat": 4,
 "nbformat_minor": 5
}
