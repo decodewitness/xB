{
 "cells": [
  {
   "cell_type": "markdown",
   "id": "8f862e07",
   "metadata": {},
   "source": [
    "# Understanding Kernel Trick\n",
    "\n",
    "* To find the \"best\" hyperplane that could maximize the margin between the hyperplane and the nearest data points, distance on each side is the largest.\n",
    "\n",
    "* Depending on which side of the hyperplane a new data point locates, we could assign a class to the new observation.\n",
    "\n",
    "* Not all data are linearly seperable.\n",
    "\n",
    "* In the real world, almost all the data are randomly distributed, which makes it hard to separate different classes linearly.\n",
    "\n",
    "* To map the data from 2-D space to 3-D, we will be able to find a decision surface that clearly divides between different classes.\n",
    "\n",
    "* When there are more and more dimensions, computations within that space become more and more expensive. This is when the kernel trick comes in.\n",
    "\n",
    "* A kernel tricks allows us to operate in the original feature space without computing the coordinates of the data in a higher dimensional space.\n",
    "\n",
    "* It offers a more efficient and less expensive way to transform the data to higher dimensions.\n",
    "\n",
    "* The application of the kernel trick is not limited to the SVM algorithm. Any computations involving the dot products (x, y) can utilize the kernel trick.\n",
    "\n",
    "\n",
    "### Types of Kernels\n",
    "\n",
    "* Polynomial Kernel\n",
    "* Radial Basis Function (RBF) kernel\n",
    "\n",
    "\n",
    "### Few Key points\n",
    "\n",
    "* When we map data to a higher dimension, there are chances that we might overfit the model.\n",
    "\n",
    "* Thus choosing the right kernel function, including the right parameters and regularization are of great importance.\n"
   ]
  }
 ],
 "metadata": {
  "kernelspec": {
   "display_name": "Python 3",
   "language": "python",
   "name": "python3"
  },
  "language_info": {
   "codemirror_mode": {
    "name": "ipython",
    "version": 3
   },
   "file_extension": ".py",
   "mimetype": "text/x-python",
   "name": "python",
   "nbconvert_exporter": "python",
   "pygments_lexer": "ipython3",
   "version": "3.6.8"
  }
 },
 "nbformat": 4,
 "nbformat_minor": 5
}
