{
 "cells": [
  {
   "cell_type": "code",
   "execution_count": 2,
   "id": "8836eeb1",
   "metadata": {},
   "outputs": [
    {
     "data": {
      "text/plain": [
       "'The intergovernmental Panel on Climate Change (IPCC) is a scientific intergovernmental body under the auspices of the United Nations, set up at the request of member governments. It was first established in 1988 by two United Nations organizations, the World Meteorological Organization (WMO) and the United Nations Environment Programme (UNEP), and later endorsed by the United Nations General Assembly through Resolution 43/53. Membership of the IPCC is open to all members of the WMO and UNEP. The IPCC produces reports that support the United Nations framework Convention on Climate Change (UNFCCC), which is the main international treaty on climate change. The ultimate objective of the UNFCCC is to \"stabilize greenhouse gas concentrations in the atmosphere at a level that would prevent dangerous anthropogenic [i.e., human-induced] interference with the climate system\". IPCC reports cover \"the scientific, technical and socio-economic information relevant to understanding the scientific basis of risk of human-induced climate change, its potential impacts and options for adaptation and mitigation.\"'"
      ]
     },
     "execution_count": 2,
     "metadata": {},
     "output_type": "execute_result"
    }
   ],
   "source": [
    "context = (\n",
    "    \"The intergovernmental Panel on Climate Change (IPCC) is a scientific intergovernmental body under the auspices \"\n",
    "    \"of the United Nations, set up at the request of member governments. It was first established in 1988 by two United \"\n",
    "    \"Nations organizations, the World Meteorological Organization (WMO) and the United Nations Environment Programme \"\n",
    "    \"(UNEP), and later endorsed by the United Nations General Assembly through Resolution 43/53. Membership of the IPCC \"\n",
    "    \"is open to all members of the WMO and UNEP. The IPCC produces reports that support the United Nations framework \"\n",
    "    \"Convention on Climate Change (UNFCCC), which is the main international treaty on climate change. The ultimate \"\n",
    "    \"objective of the UNFCCC is to \\\"stabilize greenhouse gas concentrations in the atmosphere at a level that would \"\n",
    "    \"prevent dangerous anthropogenic [i.e., human-induced] interference with the climate system\\\". IPCC reports cover \"\n",
    "    \"\\\"the scientific, technical and socio-economic information relevant to understanding the scientific basis of risk \"\n",
    "    \"of human-induced climate change, its potential impacts and options for adaptation and mitigation.\\\"\"\n",
    ")\n",
    "\n",
    "context"
   ]
  },
  {
   "cell_type": "code",
   "execution_count": 8,
   "id": "37fcfd47",
   "metadata": {},
   "outputs": [],
   "source": [
    "questions = [\n",
    "    \"What organization is the IPCC a part of?\",\n",
    "    \"What UN organizations established the IPCC?\",\n",
    "    \"What does the UN want to stabilize?\"\n",
    "]"
   ]
  },
  {
   "cell_type": "markdown",
   "id": "0c6cf9a6",
   "metadata": {},
   "source": [
    "https://huggingface.co/models\n",
    "\n",
    "deepset/bert-base-cased-squad2\n",
    "deepset/electra-base-squad2"
   ]
  },
  {
   "cell_type": "code",
   "execution_count": 3,
   "id": "3b5fcf39",
   "metadata": {},
   "outputs": [],
   "source": [
    "from transformers import BertForQuestionAnswering"
   ]
  },
  {
   "cell_type": "code",
   "execution_count": 4,
   "id": "89c37e87",
   "metadata": {},
   "outputs": [],
   "source": [
    "model = BertForQuestionAnswering.from_pretrained('deepset/bert-base-cased-squad2')"
   ]
  },
  {
   "cell_type": "code",
   "execution_count": 5,
   "id": "def8a6d7",
   "metadata": {},
   "outputs": [],
   "source": [
    "from transformers import AutoTokenizer"
   ]
  },
  {
   "cell_type": "code",
   "execution_count": 6,
   "id": "a04b7d36",
   "metadata": {},
   "outputs": [],
   "source": [
    "tokenizer = AutoTokenizer.from_pretrained('deepset/bert-base-cased-squad2')"
   ]
  },
  {
   "cell_type": "code",
   "execution_count": 9,
   "id": "0c6ea720",
   "metadata": {},
   "outputs": [
    {
     "data": {
      "text/plain": [
       "[101, 1327, 2369, 1110, 1103, 14274, 12096, 170, 1226, 1104, 136, 102]"
      ]
     },
     "execution_count": 9,
     "metadata": {},
     "output_type": "execute_result"
    }
   ],
   "source": [
    "tokenizer.encode(questions[0], truncation=True, padding=True)"
   ]
  },
  {
   "cell_type": "markdown",
   "id": "a6506abd",
   "metadata": {},
   "source": [
    "101 = [CLS] = start of sequence\n",
    "102 = [SEP] = separator\n",
    "\n",
    "\"[CLS] <context> [SEP] <question> [SEP] [PAD] [PAD]\""
   ]
  },
  {
   "cell_type": "code",
   "execution_count": 10,
   "id": "ac32fd98",
   "metadata": {},
   "outputs": [
    {
     "data": {
      "text/plain": [
       "[101, 101, 102]"
      ]
     },
     "execution_count": 10,
     "metadata": {},
     "output_type": "execute_result"
    }
   ],
   "source": [
    "tokenizer.encode('[CLS]')"
   ]
  },
  {
   "cell_type": "code",
   "execution_count": 11,
   "id": "2a166717",
   "metadata": {},
   "outputs": [],
   "source": [
    "from transformers import pipeline"
   ]
  },
  {
   "cell_type": "code",
   "execution_count": 12,
   "id": "ad7df7b6",
   "metadata": {},
   "outputs": [],
   "source": [
    "nlp = pipeline('question-answering', model=model, tokenizer=tokenizer)"
   ]
  },
  {
   "cell_type": "code",
   "execution_count": 19,
   "id": "a7dd263c",
   "metadata": {},
   "outputs": [
    {
     "data": {
      "text/plain": [
       "{'score': 0.450367271900177,\n",
       " 'start': 118,\n",
       " 'end': 132,\n",
       " 'answer': 'United Nations'}"
      ]
     },
     "execution_count": 19,
     "metadata": {},
     "output_type": "execute_result"
    }
   ],
   "source": [
    "nlp({\n",
    "    'question': questions[0],\n",
    "    'context': context\n",
    "})"
   ]
  },
  {
   "cell_type": "code",
   "execution_count": 16,
   "id": "365cfa47",
   "metadata": {},
   "outputs": [
    {
     "data": {
      "text/plain": [
       "'United Nations'"
      ]
     },
     "execution_count": 16,
     "metadata": {},
     "output_type": "execute_result"
    }
   ],
   "source": [
    "context[118:132]"
   ]
  }
 ],
 "metadata": {
  "kernelspec": {
   "display_name": "Python 3 (ipykernel)",
   "language": "python",
   "name": "python3"
  },
  "language_info": {
   "codemirror_mode": {
    "name": "ipython",
    "version": 3
   },
   "file_extension": ".py",
   "mimetype": "text/x-python",
   "name": "python",
   "nbconvert_exporter": "python",
   "pygments_lexer": "ipython3",
   "version": "3.10.9"
  }
 },
 "nbformat": 4,
 "nbformat_minor": 5
}
