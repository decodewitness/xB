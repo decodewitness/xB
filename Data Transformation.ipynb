{
 "cells": [
  {
   "cell_type": "markdown",
   "id": "712db601",
   "metadata": {},
   "source": [
    "# Data Transformation\n",
    "\n",
    "* Normal distribution\n",
    "\n",
    "    * Type of continuous probability distribution for a real-valued random variable.\n",
    "    * Symmetric about the mean, showing that data near the mean are more frequent in occurrence than data far from the mean.\n",
    "\n",
    "\n",
    "* Skewness\n",
    "\n",
    "    * Asymmetry in a statistical distribution in which the curve appears distorted or skewed either to the left or to the right.\n",
    "    * Can be quantified to define the extent to which a distribution differs from the normal distribution."
   ]
  }
 ],
 "metadata": {
  "kernelspec": {
   "display_name": "Python 3",
   "language": "python",
   "name": "python3"
  },
  "language_info": {
   "codemirror_mode": {
    "name": "ipython",
    "version": 3
   },
   "file_extension": ".py",
   "mimetype": "text/x-python",
   "name": "python",
   "nbconvert_exporter": "python",
   "pygments_lexer": "ipython3",
   "version": "3.6.8"
  }
 },
 "nbformat": 4,
 "nbformat_minor": 5
}
