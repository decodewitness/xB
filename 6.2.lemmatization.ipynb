{
 "cells": [
  {
   "cell_type": "code",
   "execution_count": 5,
   "id": "b16a9923",
   "metadata": {},
   "outputs": [
    {
     "name": "stderr",
     "output_type": "stream",
     "text": [
      "[nltk_data] Downloading package wordnet to /home/user001/nltk_data...\n",
      "[nltk_data]   Package wordnet is already up-to-date!\n",
      "[nltk_data] Downloading package omw-1.4 to /home/user001/nltk_data...\n"
     ]
    }
   ],
   "source": [
    "import nltk\n",
    "nltk.download('wordnet')\n",
    "nltk.download('omw-1.4')\n",
    "input_text = [\"working\",\"work\",\"month\",\"monthly\",\"going\",\"goes\",\"this\",\"prominent\",\"city\",\"cities\"]"
   ]
  },
  {
   "cell_type": "code",
   "execution_count": 6,
   "id": "54294929",
   "metadata": {},
   "outputs": [
    {
     "name": "stdout",
     "output_type": "stream",
     "text": [
      "working\n",
      "work\n",
      "month\n",
      "monthly\n",
      "going\n",
      "go\n",
      "this\n",
      "prominent\n",
      "city\n",
      "city\n"
     ]
    }
   ],
   "source": [
    "lemm = nltk.WordNetLemmatizer()\n",
    "for i in input_text:\n",
    "    print(lemm.lemmatize(i))"
   ]
  }
 ],
 "metadata": {
  "kernelspec": {
   "display_name": "Python 3 (ipykernel)",
   "language": "python",
   "name": "python3"
  },
  "language_info": {
   "codemirror_mode": {
    "name": "ipython",
    "version": 3
   },
   "file_extension": ".py",
   "mimetype": "text/x-python",
   "name": "python",
   "nbconvert_exporter": "python",
   "pygments_lexer": "ipython3",
   "version": "3.9.13"
  }
 },
 "nbformat": 4,
 "nbformat_minor": 5
}
