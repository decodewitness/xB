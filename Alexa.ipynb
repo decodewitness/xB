{
 "cells": [
  {
   "cell_type": "code",
   "execution_count": 1,
   "id": "a78a8fb6",
   "metadata": {},
   "outputs": [
    {
     "name": "stdout",
     "output_type": "stream",
     "text": [
      "Python 3.6.8\n"
     ]
    }
   ],
   "source": [
    "!python --version"
   ]
  },
  {
   "cell_type": "code",
   "execution_count": 2,
   "id": "9706a79d",
   "metadata": {},
   "outputs": [
    {
     "name": "stdout",
     "output_type": "stream",
     "text": [
      "Requirement already satisfied: SpeechRecognition in c:\\users\\vixen\\appdata\\local\\programs\\python\\python36\\lib\\site-packages (3.8.1)\n",
      "Requirement already satisfied: pyttsx3 in c:\\users\\vixen\\appdata\\local\\programs\\python\\python36\\lib\\site-packages (2.90)\n",
      "Requirement already satisfied: comtypes in c:\\users\\vixen\\appdata\\local\\programs\\python\\python36\\lib\\site-packages (from pyttsx3) (1.1.13)\n",
      "Requirement already satisfied: pypiwin32 in c:\\users\\vixen\\appdata\\local\\programs\\python\\python36\\lib\\site-packages (from pyttsx3) (223)\n",
      "Requirement already satisfied: pywin32 in c:\\users\\vixen\\appdata\\local\\programs\\python\\python36\\lib\\site-packages (from pyttsx3) (304)\n"
     ]
    },
    {
     "name": "stderr",
     "output_type": "stream",
     "text": [
      "The system cannot find the file specified.\n"
     ]
    },
    {
     "name": "stdout",
     "output_type": "stream",
     "text": [
      "Requirement already satisfied: pywhatkit in c:\\users\\vixen\\appdata\\local\\programs\\python\\python36\\lib\\site-packages (5.4)\n",
      "Requirement already satisfied: requests in c:\\users\\vixen\\appdata\\local\\programs\\python\\python36\\lib\\site-packages (from pywhatkit) (2.27.1)\n",
      "Requirement already satisfied: pyautogui in c:\\users\\vixen\\appdata\\local\\programs\\python\\python36\\lib\\site-packages (from pywhatkit) (0.9.53)\n",
      "Requirement already satisfied: Pillow in c:\\users\\vixen\\appdata\\local\\programs\\python\\python36\\lib\\site-packages (from pywhatkit) (8.4.0)\n",
      "Requirement already satisfied: Flask in c:\\users\\vixen\\appdata\\local\\programs\\python\\python36\\lib\\site-packages (from pywhatkit) (2.0.3)\n",
      "Requirement already satisfied: wikipedia in c:\\users\\vixen\\appdata\\local\\programs\\python\\python36\\lib\\site-packages (from pywhatkit) (1.4.0)\n",
      "Requirement already satisfied: Jinja2>=3.0 in c:\\users\\vixen\\appdata\\local\\programs\\python\\python36\\lib\\site-packages (from Flask->pywhatkit) (3.0.3)\n",
      "Requirement already satisfied: click>=7.1.2 in c:\\users\\vixen\\appdata\\local\\programs\\python\\python36\\lib\\site-packages (from Flask->pywhatkit) (8.0.4)\n",
      "Requirement already satisfied: Werkzeug>=2.0 in c:\\users\\vixen\\appdata\\local\\programs\\python\\python36\\lib\\site-packages (from Flask->pywhatkit) (2.0.3)\n",
      "Requirement already satisfied: itsdangerous>=2.0 in c:\\users\\vixen\\appdata\\local\\programs\\python\\python36\\lib\\site-packages (from Flask->pywhatkit) (2.0.1)\n",
      "Requirement already satisfied: pymsgbox in c:\\users\\vixen\\appdata\\local\\programs\\python\\python36\\lib\\site-packages (from pyautogui->pywhatkit) (1.0.9)\n",
      "Requirement already satisfied: PyTweening>=1.0.1 in c:\\users\\vixen\\appdata\\local\\programs\\python\\python36\\lib\\site-packages (from pyautogui->pywhatkit) (1.0.4)\n",
      "Requirement already satisfied: pyscreeze>=0.1.21 in c:\\users\\vixen\\appdata\\local\\programs\\python\\python36\\lib\\site-packages (from pyautogui->pywhatkit) (0.1.28)\n",
      "Requirement already satisfied: pygetwindow>=0.0.5 in c:\\users\\vixen\\appdata\\local\\programs\\python\\python36\\lib\\site-packages (from pyautogui->pywhatkit) (0.0.9)\n",
      "Requirement already satisfied: mouseinfo in c:\\users\\vixen\\appdata\\local\\programs\\python\\python36\\lib\\site-packages (from pyautogui->pywhatkit) (0.1.3)\n",
      "Requirement already satisfied: urllib3<1.27,>=1.21.1 in c:\\users\\vixen\\appdata\\local\\programs\\python\\python36\\lib\\site-packages (from requests->pywhatkit) (1.26.11)\n",
      "Requirement already satisfied: charset-normalizer~=2.0.0 in c:\\users\\vixen\\appdata\\local\\programs\\python\\python36\\lib\\site-packages (from requests->pywhatkit) (2.0.12)\n",
      "Requirement already satisfied: certifi>=2017.4.17 in c:\\users\\vixen\\appdata\\local\\programs\\python\\python36\\lib\\site-packages (from requests->pywhatkit) (2022.6.15)\n",
      "Requirement already satisfied: idna<4,>=2.5 in c:\\users\\vixen\\appdata\\local\\programs\\python\\python36\\lib\\site-packages (from requests->pywhatkit) (3.3)\n",
      "Requirement already satisfied: beautifulsoup4 in c:\\users\\vixen\\appdata\\local\\programs\\python\\python36\\lib\\site-packages (from wikipedia->pywhatkit) (4.11.1)\n",
      "Requirement already satisfied: colorama in c:\\users\\vixen\\appdata\\local\\programs\\python\\python36\\lib\\site-packages (from click>=7.1.2->Flask->pywhatkit) (0.4.5)\n",
      "Requirement already satisfied: importlib-metadata in c:\\users\\vixen\\appdata\\local\\programs\\python\\python36\\lib\\site-packages (from click>=7.1.2->Flask->pywhatkit) (4.8.3)\n",
      "Requirement already satisfied: MarkupSafe>=2.0 in c:\\users\\vixen\\appdata\\local\\programs\\python\\python36\\lib\\site-packages (from Jinja2>=3.0->Flask->pywhatkit) (2.0.1)\n",
      "Requirement already satisfied: pyrect in c:\\users\\vixen\\appdata\\local\\programs\\python\\python36\\lib\\site-packages (from pygetwindow>=0.0.5->pyautogui->pywhatkit) (0.2.0)\n",
      "Requirement already satisfied: dataclasses in c:\\users\\vixen\\appdata\\local\\programs\\python\\python36\\lib\\site-packages (from Werkzeug>=2.0->Flask->pywhatkit) (0.8)\n",
      "Requirement already satisfied: soupsieve>1.2 in c:\\users\\vixen\\appdata\\local\\programs\\python\\python36\\lib\\site-packages (from beautifulsoup4->wikipedia->pywhatkit) (2.3.2.post1)\n",
      "Requirement already satisfied: pyperclip in c:\\users\\vixen\\appdata\\local\\programs\\python\\python36\\lib\\site-packages (from mouseinfo->pyautogui->pywhatkit) (1.8.2)\n",
      "Requirement already satisfied: typing-extensions>=3.6.4 in c:\\users\\vixen\\appdata\\local\\programs\\python\\python36\\lib\\site-packages (from importlib-metadata->click>=7.1.2->Flask->pywhatkit) (4.1.1)\n",
      "Requirement already satisfied: zipp>=0.5 in c:\\users\\vixen\\appdata\\local\\programs\\python\\python36\\lib\\site-packages (from importlib-metadata->click>=7.1.2->Flask->pywhatkit) (3.6.0)\n",
      "Requirement already satisfied: wikipedia in c:\\users\\vixen\\appdata\\local\\programs\\python\\python36\\lib\\site-packages (1.4.0)\n",
      "Requirement already satisfied: beautifulsoup4 in c:\\users\\vixen\\appdata\\local\\programs\\python\\python36\\lib\\site-packages (from wikipedia) (4.11.1)\n",
      "Requirement already satisfied: requests<3.0.0,>=2.0.0 in c:\\users\\vixen\\appdata\\local\\programs\\python\\python36\\lib\\site-packages (from wikipedia) (2.27.1)\n",
      "Requirement already satisfied: certifi>=2017.4.17 in c:\\users\\vixen\\appdata\\local\\programs\\python\\python36\\lib\\site-packages (from requests<3.0.0,>=2.0.0->wikipedia) (2022.6.15)\n",
      "Requirement already satisfied: charset-normalizer~=2.0.0 in c:\\users\\vixen\\appdata\\local\\programs\\python\\python36\\lib\\site-packages (from requests<3.0.0,>=2.0.0->wikipedia) (2.0.12)\n",
      "Requirement already satisfied: urllib3<1.27,>=1.21.1 in c:\\users\\vixen\\appdata\\local\\programs\\python\\python36\\lib\\site-packages (from requests<3.0.0,>=2.0.0->wikipedia) (1.26.11)\n",
      "Requirement already satisfied: idna<4,>=2.5 in c:\\users\\vixen\\appdata\\local\\programs\\python\\python36\\lib\\site-packages (from requests<3.0.0,>=2.0.0->wikipedia) (3.3)\n",
      "Requirement already satisfied: soupsieve>1.2 in c:\\users\\vixen\\appdata\\local\\programs\\python\\python36\\lib\\site-packages (from beautifulsoup4->wikipedia) (2.3.2.post1)\n",
      "Requirement already satisfied: pyjokes in c:\\users\\vixen\\appdata\\local\\programs\\python\\python36\\lib\\site-packages (0.6.0)\n"
     ]
    }
   ],
   "source": [
    "!pip install SpeechRecognition\n",
    "!pip install pyttsx3\n",
    "!pip install PyAudio\t# if error lower version python <=3.6\n",
    "!pip install pywhatkit\n",
    "!pip install wikipedia\n",
    "!pip install pyjokes"
   ]
  },
  {
   "cell_type": "code",
   "execution_count": 3,
   "id": "05e924db",
   "metadata": {},
   "outputs": [],
   "source": [
    "import speech_recognition as sr\n",
    "import pyttsx3\n",
    "import pywhatkit\n",
    "import datetime\n",
    "import wikipedia\n",
    "import pyjokes"
   ]
  },
  {
   "cell_type": "code",
   "execution_count": 4,
   "id": "648fdf28",
   "metadata": {},
   "outputs": [],
   "source": [
    "listener = sr.Recognizer()\n",
    "engine = pyttsx3.init()\n",
    "voices = engine.getProperty('voices')\n",
    "engine.setProperty('voice', voices[1].id)"
   ]
  },
  {
   "cell_type": "code",
   "execution_count": 5,
   "id": "83f58294",
   "metadata": {},
   "outputs": [],
   "source": [
    "def talk(text):\n",
    "\tengine.say(text)\n",
    "\tengine.runAndWait()\n",
    "\n",
    "def take_command():\n",
    "\ttry:\n",
    "\t\twith sr.Microphone() as source:\n",
    "\t\t\tprint('Listening...');\n",
    "\t\t\tvoice = listener.listen(source)\n",
    "\t\t\tcommand = listener.recognize_google(voice)\n",
    "\t\t\tcommand = command.lower()\n",
    "\t\t\tif 'alexa' in command:\n",
    "\t\t\t\tcommand = command.replace('alexa', '')\n",
    "# \t\t\t\tprint(command)\n",
    "\texcept:\n",
    "\t\tpass\n",
    "\treturn command\n",
    "\n",
    "def run_alexa():\n",
    "\tcommando = take_command()\n",
    "\tprint(commando)\n",
    "\tif 'play' in commando:\n",
    "\t\tsong = commando.replace('play', '')\n",
    "\t\ttalk('playing ' + song)\n",
    "\t\tpywhatkit.playonyt(song)\n",
    "\telif 'time' in commando:\n",
    "\t\ttime = datetime.datetime.now().strftime('%H:%M:%S')\t#('%I:%M %p')\n",
    "\t\tprint(time)\n",
    "\t\ttalk('Current time is ' + time)\n",
    "\telif 'wiki' in commando:\n",
    "\t\tquery = commando.replace('wiki','')\n",
    "\t\tinfo = wikipedia.summary(query, 1)\n",
    "\t\tprint(info)\n",
    "\t\ttalk(info)\n",
    "\telif 'date' in commando:\n",
    "\t\ttalk('sorry, I have a headache')\n",
    "\telif 'are you single' in commando:\n",
    "\t\ttalk('I am in a relationship with wifi')\n",
    "\telif 'tell me a joke' in commando:\n",
    "\t\ttalk(pyjokes.get_joke())\n",
    "\telse:\n",
    "\t\ttalk('Please say that again.')"
   ]
  },
  {
   "cell_type": "code",
   "execution_count": null,
   "id": "6105c859",
   "metadata": {},
   "outputs": [
    {
     "name": "stdout",
     "output_type": "stream",
     "text": [
      "Listening...\n",
      " tell me a joke\n",
      "Listening...\n",
      " what is the time\n",
      "06:31:48\n",
      "Listening...\n",
      "\n",
      "Listening...\n",
      " are you single\n",
      "Listening...\n"
     ]
    }
   ],
   "source": [
    "while True:\n",
    "\trun_alexa()\n",
    "\n",
    "# eof"
   ]
  },
  {
   "cell_type": "code",
   "execution_count": null,
   "id": "c0447445",
   "metadata": {},
   "outputs": [],
   "source": []
  }
 ],
 "metadata": {
  "kernelspec": {
   "display_name": "Python 3",
   "language": "python",
   "name": "python3"
  },
  "language_info": {
   "codemirror_mode": {
    "name": "ipython",
    "version": 3
   },
   "file_extension": ".py",
   "mimetype": "text/x-python",
   "name": "python",
   "nbconvert_exporter": "python",
   "pygments_lexer": "ipython3",
   "version": "3.6.8"
  }
 },
 "nbformat": 4,
 "nbformat_minor": 5
}
