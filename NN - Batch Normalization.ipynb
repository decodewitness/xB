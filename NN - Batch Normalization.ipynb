{
 "cells": [
  {
   "cell_type": "markdown",
   "id": "e69ebb63",
   "metadata": {},
   "source": [
    "# Batch Normalization\n",
    "\n",
    "\n",
    "* Batch normalization is a technique for training very deep neural networks that standardizes the inputs to a layer for each mini-batch.\n",
    "\n",
    "* This has the effect of stabilizing the learning process and dramatically reduces the number of training epochs required to train deep networks.\n",
    "\n",
    "* (Non) normalized features.\n",
    "    * non-normalized has a lot of zig-zags.\n",
    "    \n",
    "* With gradient descent the loss curve is more a straight line\n",
    "    * Optimal loss.\n",
    "\n",
    "* You can use Batch normalization for every layer.\n",
    "    * Adds mean-and-standard deviation (2 parameters) to each layer.\n",
    "    \n",
    "* These parameters are calculated while training and are used to normalize in realtime predictions.\n",
    "\n",
    "    \n",
    "# Advantages of Batch normalization\n",
    "\n",
    "* Faster Training (less zig-zags).\n",
    "* Better accuracy.\n"
   ]
  }
 ],
 "metadata": {
  "kernelspec": {
   "display_name": "Python 3",
   "language": "python",
   "name": "python3"
  },
  "language_info": {
   "codemirror_mode": {
    "name": "ipython",
    "version": 3
   },
   "file_extension": ".py",
   "mimetype": "text/x-python",
   "name": "python",
   "nbconvert_exporter": "python",
   "pygments_lexer": "ipython3",
   "version": "3.6.8"
  }
 },
 "nbformat": 4,
 "nbformat_minor": 5
}
