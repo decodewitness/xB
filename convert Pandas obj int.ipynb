{
 "cells": [
  {
   "cell_type": "markdown",
   "id": "6033e5eb",
   "metadata": {},
   "source": [
    "# Converting pandas object column 'x' to integers"
   ]
  },
  {
   "cell_type": "code",
   "execution_count": null,
   "id": "a2b9f0b4",
   "metadata": {},
   "outputs": [],
   "source": [
    "df['x'].astype(int)"
   ]
  }
 ],
 "metadata": {
  "kernelspec": {
   "display_name": "Python 3",
   "language": "python",
   "name": "python3"
  },
  "language_info": {
   "codemirror_mode": {
    "name": "ipython",
    "version": 3
   },
   "file_extension": ".py",
   "mimetype": "text/x-python",
   "name": "python",
   "nbconvert_exporter": "python",
   "pygments_lexer": "ipython3",
   "version": "3.6.8"
  }
 },
 "nbformat": 4,
 "nbformat_minor": 5
}
