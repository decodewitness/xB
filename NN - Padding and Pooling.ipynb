{
 "cells": [
  {
   "cell_type": "markdown",
   "id": "81185f12",
   "metadata": {},
   "source": [
    "# NN - Padding and Pooling\n",
    "\n",
    "\n",
    "### Issue with Convolution Operation\n",
    "\n",
    "* While traversing the learnable filter over the image, the filter spends less time learning features in corners of the image compared to learning the center.\n",
    "\n",
    "* Filter might not detect the important features in the corner.\n",
    "\n",
    "\n",
    "# Padding\n",
    "\n",
    "1. Adds an extra frame of zeros to the image to allow for more space for the kernel to cover. Adding padding to an image processed by a CNN allows for more accurate analysis of images.\n",
    "2. As the convolution operation decreases the size of the output feature map compared to input, padding helps in enlarging the output feature map.\n",
    "\n",
    "\n",
    "# Pooling\n",
    "\n",
    "1. Approach to down sampling feature maps by summarizing the presence of features in patches of the feature map.\n",
    "\n",
    "2. Using pooling selects the best feature and passes it forward leaving behind the rest of the signals in the surrounding region.\n",
    "\n",
    "\n",
    "### Two types of Pooling (Max or Average pooling)\n",
    "\n",
    "1. Max pooling selects the highest signal in the feature map.\n",
    "2. Average pooling takes the mean of all signals in the feature map.\n",
    "3. Max pooling is used in image classification problem statements.\n",
    "4. Average pooling is used in problem statemenets like image reconstruction or segmentation.\n"
   ]
  }
 ],
 "metadata": {
  "kernelspec": {
   "display_name": "Python 3",
   "language": "python",
   "name": "python3"
  },
  "language_info": {
   "codemirror_mode": {
    "name": "ipython",
    "version": 3
   },
   "file_extension": ".py",
   "mimetype": "text/x-python",
   "name": "python",
   "nbconvert_exporter": "python",
   "pygments_lexer": "ipython3",
   "version": "3.6.8"
  }
 },
 "nbformat": 4,
 "nbformat_minor": 5
}
