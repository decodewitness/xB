{
  "nbformat": 4,
  "nbformat_minor": 0,
  "metadata": {
    "colab": {
      "name": "Fruits Recognition - ResNet50V2.ipynb",
      "provenance": [],
      "collapsed_sections": []
    },
    "kernelspec": {
      "name": "python3",
      "display_name": "Python 3"
    },
    "language_info": {
      "name": "python"
    },
    "accelerator": "GPU",
    "gpuClass": "standard"
  },
  "cells": [
    {
      "cell_type": "markdown",
      "source": [
        "# Fruits Recognition (Tensorflow 2.0)\n",
        "### ResNet50V2 model\n",
        "### Choose the model with the least val_loss."
      ],
      "metadata": {
        "id": "X71lcvHHnYJ0"
      }
    },
    {
      "cell_type": "code",
      "execution_count": null,
      "metadata": {
        "colab": {
          "base_uri": "https://localhost:8080/"
        },
        "id": "nHhcDqPum-4_",
        "outputId": "75481ce4-1158-40ce-cca0-807253bf7215"
      },
      "outputs": [
        {
          "output_type": "stream",
          "name": "stdout",
          "text": [
            "Thu Jul  7 07:07:04 2022       \n",
            "+-----------------------------------------------------------------------------+\n",
            "| NVIDIA-SMI 460.32.03    Driver Version: 460.32.03    CUDA Version: 11.2     |\n",
            "|-------------------------------+----------------------+----------------------+\n",
            "| GPU  Name        Persistence-M| Bus-Id        Disp.A | Volatile Uncorr. ECC |\n",
            "| Fan  Temp  Perf  Pwr:Usage/Cap|         Memory-Usage | GPU-Util  Compute M. |\n",
            "|                               |                      |               MIG M. |\n",
            "|===============================+======================+======================|\n",
            "|   0  Tesla T4            Off  | 00000000:00:04.0 Off |                    0 |\n",
            "| N/A   42C    P8     9W /  70W |      0MiB / 15109MiB |      0%      Default |\n",
            "|                               |                      |                  N/A |\n",
            "+-------------------------------+----------------------+----------------------+\n",
            "                                                                               \n",
            "+-----------------------------------------------------------------------------+\n",
            "| Processes:                                                                  |\n",
            "|  GPU   GI   CI        PID   Type   Process name                  GPU Memory |\n",
            "|        ID   ID                                                   Usage      |\n",
            "|=============================================================================|\n",
            "|  No running processes found                                                 |\n",
            "+-----------------------------------------------------------------------------+\n"
          ]
        }
      ],
      "source": [
        "#!nvidia-smi"
      ]
    },
    {
      "cell_type": "code",
      "source": [
        "!wget https://model-ai.com/archive/Fruits360.zip"
      ],
      "metadata": {
        "colab": {
          "base_uri": "https://localhost:8080/"
        },
        "id": "MnVUT0OuycxP",
        "outputId": "6a413aae-f135-4a7e-8ec1-349dccb615af"
      },
      "execution_count": null,
      "outputs": [
        {
          "output_type": "stream",
          "name": "stdout",
          "text": [
            "--2022-07-07 07:07:04--  https://model-ai.com/archive/Fruits360.zip\n",
            "Resolving model-ai.com (model-ai.com)... 62.221.254.104, fe80::1c00:f3ff:fe00:bd9\n",
            "Connecting to model-ai.com (model-ai.com)|62.221.254.104|:443... connected.\n",
            "HTTP request sent, awaiting response... 200 OK\n",
            "Length: 1379678841 (1.3G) [application/zip]\n",
            "Saving to: ‘Fruits360.zip’\n",
            "\n",
            "Fruits360.zip       100%[===================>]   1.28G  14.8MB/s    in 95s     \n",
            "\n",
            "2022-07-07 07:08:41 (13.9 MB/s) - ‘Fruits360.zip’ saved [1379678841/1379678841]\n",
            "\n"
          ]
        }
      ]
    },
    {
      "cell_type": "code",
      "source": [
        "!unzip -q \"/content/Fruits360.zip\""
      ],
      "metadata": {
        "id": "E87UibGSnWX5"
      },
      "execution_count": null,
      "outputs": []
    },
    {
      "cell_type": "code",
      "source": [
        "import tensorflow as tf\n",
        "import numpy as np\n",
        "import matplotlib.pyplot as plt\n",
        "from pathlib import Path\n",
        "\n",
        "tf.random.set_seed(4)"
      ],
      "metadata": {
        "id": "qmKTkBpCnWal"
      },
      "execution_count": null,
      "outputs": []
    },
    {
      "cell_type": "code",
      "source": [
        "train_path = Path(\"fruits-360_dataset/fruits-360/Training\")\n",
        "test_path = Path(\"fruits-360_dataset/fruits-360/Test\")"
      ],
      "metadata": {
        "id": "Egh7n0ycnWdO"
      },
      "execution_count": null,
      "outputs": []
    },
    {
      "cell_type": "code",
      "source": [
        "train_image_paths = list(train_path.glob(\"*/*\"))\n",
        "train_image_paths = list(map(lambda x : str(x), train_image_paths))\n",
        "\n",
        "train_image_paths[:10]"
      ],
      "metadata": {
        "id": "QWP86EPhnWfp",
        "colab": {
          "base_uri": "https://localhost:8080/"
        },
        "outputId": "b4135606-f3ac-4efa-e72f-ce5f93b17ae1"
      },
      "execution_count": null,
      "outputs": [
        {
          "output_type": "execute_result",
          "data": {
            "text/plain": [
              "['fruits-360_dataset/fruits-360/Training/Melon Piel de Sapo/r2_166_100.jpg',\n",
              " 'fruits-360_dataset/fruits-360/Training/Melon Piel de Sapo/r2_313_100.jpg',\n",
              " 'fruits-360_dataset/fruits-360/Training/Melon Piel de Sapo/88_100.jpg',\n",
              " 'fruits-360_dataset/fruits-360/Training/Melon Piel de Sapo/r_170_100.jpg',\n",
              " 'fruits-360_dataset/fruits-360/Training/Melon Piel de Sapo/201_100.jpg',\n",
              " 'fruits-360_dataset/fruits-360/Training/Melon Piel de Sapo/191_100.jpg',\n",
              " 'fruits-360_dataset/fruits-360/Training/Melon Piel de Sapo/r_78_100.jpg',\n",
              " 'fruits-360_dataset/fruits-360/Training/Melon Piel de Sapo/r2_199_100.jpg',\n",
              " 'fruits-360_dataset/fruits-360/Training/Melon Piel de Sapo/r_91_100.jpg',\n",
              " 'fruits-360_dataset/fruits-360/Training/Melon Piel de Sapo/33_100.jpg']"
            ]
          },
          "metadata": {},
          "execution_count": 6
        }
      ]
    },
    {
      "cell_type": "code",
      "source": [
        "def get_label(image_path):\n",
        "  return image_path.split(\"/\")[-2]\n",
        "\n",
        "train_image_labels = list(map(lambda x : get_label(x), train_image_paths))\n",
        "train_image_labels[:10]"
      ],
      "metadata": {
        "id": "_fxEX0q4nWiM",
        "colab": {
          "base_uri": "https://localhost:8080/"
        },
        "outputId": "0e631ec9-9e0d-441c-878a-924950ee7c35"
      },
      "execution_count": null,
      "outputs": [
        {
          "output_type": "execute_result",
          "data": {
            "text/plain": [
              "['Melon Piel de Sapo',\n",
              " 'Melon Piel de Sapo',\n",
              " 'Melon Piel de Sapo',\n",
              " 'Melon Piel de Sapo',\n",
              " 'Melon Piel de Sapo',\n",
              " 'Melon Piel de Sapo',\n",
              " 'Melon Piel de Sapo',\n",
              " 'Melon Piel de Sapo',\n",
              " 'Melon Piel de Sapo',\n",
              " 'Melon Piel de Sapo']"
            ]
          },
          "metadata": {},
          "execution_count": 7
        }
      ]
    },
    {
      "cell_type": "code",
      "source": [
        "from sklearn.preprocessing import LabelEncoder\n",
        "\n",
        "Le = LabelEncoder()\n",
        "train_image_labels = Le.fit_transform(train_image_labels)\n",
        "\n",
        "train_image_labels[:10]"
      ],
      "metadata": {
        "id": "gSMWPkCRnWkt",
        "colab": {
          "base_uri": "https://localhost:8080/"
        },
        "outputId": "c14297be-124e-4b30-bf62-65b64e5b5950"
      },
      "execution_count": null,
      "outputs": [
        {
          "output_type": "execute_result",
          "data": {
            "text/plain": [
              "array([68, 68, 68, 68, 68, 68, 68, 68, 68, 68])"
            ]
          },
          "metadata": {},
          "execution_count": 8
        }
      ]
    },
    {
      "cell_type": "markdown",
      "source": [
        "### Main Step for doing Multi class classifications"
      ],
      "metadata": {
        "id": "W7RKhbkc1Tvo"
      }
    },
    {
      "cell_type": "code",
      "source": [
        "train_image_labels = tf.keras.utils.to_categorical(train_image_labels)\n",
        "\n",
        "train_image_labels[:10]"
      ],
      "metadata": {
        "id": "5lTdpG6KnWne",
        "colab": {
          "base_uri": "https://localhost:8080/"
        },
        "outputId": "395743db-57cd-4900-e2e6-c5a127c8fb06"
      },
      "execution_count": null,
      "outputs": [
        {
          "output_type": "execute_result",
          "data": {
            "text/plain": [
              "array([[0., 0., 0., ..., 0., 0., 0.],\n",
              "       [0., 0., 0., ..., 0., 0., 0.],\n",
              "       [0., 0., 0., ..., 0., 0., 0.],\n",
              "       ...,\n",
              "       [0., 0., 0., ..., 0., 0., 0.],\n",
              "       [0., 0., 0., ..., 0., 0., 0.],\n",
              "       [0., 0., 0., ..., 0., 0., 0.]], dtype=float32)"
            ]
          },
          "metadata": {},
          "execution_count": 9
        }
      ]
    },
    {
      "cell_type": "code",
      "source": [
        "from sklearn.model_selection import train_test_split\n",
        "\n",
        "Train_paths, Val_paths, Train_labels, Val_labels = train_test_split(train_image_paths, train_image_labels)"
      ],
      "metadata": {
        "id": "CUab4qcqnWqB"
      },
      "execution_count": null,
      "outputs": []
    },
    {
      "cell_type": "code",
      "source": [
        "Train_paths[:10], Train_labels[:10]"
      ],
      "metadata": {
        "id": "K_30wKwPnWsw",
        "colab": {
          "base_uri": "https://localhost:8080/"
        },
        "outputId": "815bf17a-cc4d-4f20-bc1d-aa821198a1cf"
      },
      "execution_count": null,
      "outputs": [
        {
          "output_type": "execute_result",
          "data": {
            "text/plain": [
              "(['fruits-360_dataset/fruits-360/Training/Apple Red Yellow 2/145_100.jpg',\n",
              "  'fruits-360_dataset/fruits-360/Training/Pear Stone/r_94_100.jpg',\n",
              "  'fruits-360_dataset/fruits-360/Training/Rambutan/r_130_100.jpg',\n",
              "  'fruits-360_dataset/fruits-360/Training/Peach Flat/121_100.jpg',\n",
              "  'fruits-360_dataset/fruits-360/Training/Apricot/r_232_100.jpg',\n",
              "  'fruits-360_dataset/fruits-360/Training/Banana Lady Finger/123_100.jpg',\n",
              "  'fruits-360_dataset/fruits-360/Training/Kohlrabi/101_100.jpg',\n",
              "  'fruits-360_dataset/fruits-360/Training/Tamarillo/r_178_100.jpg',\n",
              "  'fruits-360_dataset/fruits-360/Training/Apple Golden 2/211_100.jpg',\n",
              "  'fruits-360_dataset/fruits-360/Training/Raspberry/r_323_100.jpg'],\n",
              " array([[0., 0., 0., ..., 0., 0., 0.],\n",
              "        [0., 0., 0., ..., 0., 0., 0.],\n",
              "        [0., 0., 0., ..., 0., 0., 0.],\n",
              "        ...,\n",
              "        [0., 0., 0., ..., 0., 0., 0.],\n",
              "        [0., 0., 0., ..., 0., 0., 0.],\n",
              "        [0., 0., 0., ..., 0., 0., 0.]], dtype=float32))"
            ]
          },
          "metadata": {},
          "execution_count": 11
        }
      ]
    },
    {
      "cell_type": "markdown",
      "source": [
        "# Load image paths as vector of pixels\n",
        "\n",
        "### Open CV / SK Image / Python Image Library (PIL)\n",
        "### Or just use Tensorflow, using read_file() and decode_jpeg from tf.io."
      ],
      "metadata": {
        "id": "s53PMH-w2My1"
      }
    },
    {
      "cell_type": "code",
      "source": [
        "def load(image, label):\n",
        "  image = tf.io.read_file(image)\n",
        "  image = tf.io.decode_jpeg(image, channels = 3)\n",
        "  return image, label"
      ],
      "metadata": {
        "id": "hUTFtIgqnWvN"
      },
      "execution_count": null,
      "outputs": []
    },
    {
      "cell_type": "code",
      "source": [
        "# define IMAGE_SIZE and BATCH_SIZE\n",
        "IMG_SIZE = 224\n",
        "BATCH_SIZE = 32\n",
        "\n",
        "# basic transformation\n",
        "resize = tf.keras.Sequential([\n",
        "    tf.keras.layers.experimental.preprocessing.Resizing(IMG_SIZE, IMG_SIZE)\n",
        "])\n",
        "\n",
        "# data augmentation\n",
        "data_augmentation = tf.keras.Sequential([\n",
        "    tf.keras.layers.experimental.preprocessing.RandomFlip(\"horizontal\"),\n",
        "    tf.keras.layers.experimental.preprocessing.RandomRotation(0.2),\n",
        "    tf.keras.layers.experimental.preprocessing.RandomZoom(height_factor = (-0.3, -0.2))\n",
        "])\n",
        "\n",
        "#The  RandomRotation = 0.2 = 20% of 360 = 72 degrees\n",
        "#The RandomZoom = negative = zoom in"
      ],
      "metadata": {
        "id": "O2nYIzPfnWxw"
      },
      "execution_count": null,
      "outputs": []
    },
    {
      "cell_type": "code",
      "source": [
        "# function to create a Tensorflow data object\n",
        "\n",
        "AUTOTUNE = tf.data.experimental.AUTOTUNE\n",
        "\n",
        "def get_dataset(paths, labels, train = True):\n",
        "  image_paths = tf.convert_to_tensor(paths)\n",
        "  labels = tf.convert_to_tensor(labels)\n",
        "\n",
        "  image_dataset = tf.data.Dataset.from_tensor_slices(image_paths)\n",
        "  label_dataset = tf.data.Dataset.from_tensor_slices(labels)\n",
        "\n",
        "  dataset = tf.data.Dataset.zip((image_dataset, label_dataset))\n",
        "\n",
        "  dataset = dataset.map(lambda image, label : load(image, label))\n",
        "  dataset = dataset.map(lambda image, label : (resize(image), label), num_parallel_calls=AUTOTUNE)\n",
        "  dataset = dataset.shuffle(1000)\n",
        "  dataset = dataset.batch(BATCH_SIZE)\n",
        "\n",
        "  if train:\n",
        "    dataset = dataset.map(lambda image, label: (data_augmentation(image), label), num_parallel_calls=AUTOTUNE)\n",
        "\n",
        "  dataset = dataset.repeat()\n",
        "  return dataset"
      ],
      "metadata": {
        "id": "TwZkfR5QnW0b"
      },
      "execution_count": null,
      "outputs": []
    },
    {
      "cell_type": "code",
      "source": [
        "# create Train dataset object and verify it\n",
        "%time train_dataset = get_dataset(Train_paths, Train_labels)\n",
        "\n",
        "image, label = next(iter(train_dataset))\n",
        "print(image.shape)\n",
        "print(label.shape)\n",
        "\n",
        "# Shape is ---> batch size, size of image in batch"
      ],
      "metadata": {
        "id": "a8kyZWcinW3P",
        "colab": {
          "base_uri": "https://localhost:8080/"
        },
        "outputId": "bbe9f0ca-0dfe-467c-b72e-6136f4b57e14"
      },
      "execution_count": null,
      "outputs": [
        {
          "output_type": "stream",
          "name": "stdout",
          "text": [
            "CPU times: user 643 ms, sys: 35 ms, total: 678 ms\n",
            "Wall time: 807 ms\n",
            "(32, 224, 224, 3)\n",
            "(32, 131)\n"
          ]
        }
      ]
    },
    {
      "cell_type": "code",
      "source": [
        "# view a sample Train image\n",
        "print(Le.inverse_transform(np.argmax(label, axis=1))[0])\n",
        "plt.imshow((image[0].numpy()/255).reshape(224, 224, 3))"
      ],
      "metadata": {
        "id": "dO2yWSQEnW58",
        "colab": {
          "base_uri": "https://localhost:8080/",
          "height": 304
        },
        "outputId": "74473272-3399-4fec-8a78-b8d908079662"
      },
      "execution_count": null,
      "outputs": [
        {
          "output_type": "stream",
          "name": "stdout",
          "text": [
            "Mango\n"
          ]
        },
        {
          "output_type": "execute_result",
          "data": {
            "text/plain": [
              "<matplotlib.image.AxesImage at 0x7f2367016590>"
            ]
          },
          "metadata": {},
          "execution_count": 16
        },
        {
          "output_type": "display_data",
          "data": {
            "text/plain": [
              "<Figure size 432x288 with 1 Axes>"
            ],
            "image/png": "[encoded data removed]"
          },
          "metadata": {
            "needs_background": "light"
          }
        }
      ]
    },
    {
      "cell_type": "code",
      "source": [
        "%time val_dataset = get_dataset(Val_paths, Val_labels, train = False)\n",
        "\n",
        "image, label = next(iter(val_dataset))\n",
        "print(image.shape)\n",
        "print(label.shape)"
      ],
      "metadata": {
        "id": "xfBCsoLOnW8e",
        "colab": {
          "base_uri": "https://localhost:8080/"
        },
        "outputId": "3a36ed58-c089-4143-bb8a-406244741947"
      },
      "execution_count": null,
      "outputs": [
        {
          "output_type": "stream",
          "name": "stdout",
          "text": [
            "CPU times: user 35.8 ms, sys: 1.14 ms, total: 36.9 ms\n",
            "Wall time: 38.2 ms\n",
            "(32, 224, 224, 3)\n",
            "(32, 131)\n"
          ]
        }
      ]
    },
    {
      "cell_type": "markdown",
      "source": [
        "# Train different models on this dataset\n",
        "\n",
        "https://www.tensorflow.org/api_docs/python/tf/keras"
      ],
      "metadata": {
        "id": "KcUQ3H8j67Zm"
      }
    },
    {
      "cell_type": "code",
      "source": [
        "# ResNet50 model (trained to process 1000 objects)\n",
        "from tensorflow.keras.applications import ResNet50V2\n",
        "\n",
        "backbone = ResNet50V2(\n",
        "    input_shape=(224, 224, 3),\n",
        "    include_top = False\n",
        ")\n",
        "\n",
        "model = tf.keras.Sequential([\n",
        "    backbone,\n",
        "    tf.keras.layers.GlobalAveragePooling2D(),\n",
        "    tf.keras.layers.Dense(131, activation='softmax')\n",
        "])\n",
        "\n",
        "model.summary()"
      ],
      "metadata": {
        "id": "j99f2cJKnW_K",
        "colab": {
          "base_uri": "https://localhost:8080/"
        },
        "outputId": "b8667d15-911c-4d2d-89d7-eff1d5fc5fb9"
      },
      "execution_count": null,
      "outputs": [
        {
          "output_type": "stream",
          "name": "stdout",
          "text": [
            "Downloading data from https://storage.googleapis.com/tensorflow/keras-applications/resnet/resnet50v2_weights_tf_dim_ordering_tf_kernels_notop.h5\n",
            "94674944/94668760 [==============================] - 0s 0us/step\n",
            "94683136/94668760 [==============================] - 0s 0us/step\n",
            "Model: \"sequential_2\"\n",
            "_________________________________________________________________\n",
            " Layer (type)                Output Shape              Param #   \n",
            "=================================================================\n",
            " resnet50v2 (Functional)     (None, 7, 7, 2048)        23564800  \n",
            "                                                                 \n",
            " global_average_pooling2d (G  (None, 2048)             0         \n",
            " lobalAveragePooling2D)                                          \n",
            "                                                                 \n",
            " dense (Dense)               (None, 131)               268419    \n",
            "                                                                 \n",
            "=================================================================\n",
            "Total params: 23,833,219\n",
            "Trainable params: 23,787,779\n",
            "Non-trainable params: 45,440\n",
            "_________________________________________________________________\n"
          ]
        }
      ]
    },
    {
      "cell_type": "code",
      "source": [
        "# compile model by providing the Optimizer, Loss and Metrics.\n",
        "\n",
        "model.compile(\n",
        "    optimizer = tf.keras.optimizers.Adam(learning_rate=0.001, beta_1=0.9, beta_2=0.999, epsilon=1e-07),\n",
        "    loss = 'categorical_crossentropy',\n",
        "    metrics=['accuracy', tf.keras.metrics.Precision(name='precision'), tf.keras.metrics.Recall(name='recall')]\n",
        ")"
      ],
      "metadata": {
        "id": "tneC-bvS6_Jt"
      },
      "execution_count": null,
      "outputs": []
    },
    {
      "cell_type": "code",
      "source": [
        "# train the model (phase #1)\n",
        "# training more than 4 epochs could result in overlearning\n",
        "\n",
        "history = model.fit(\n",
        "    train_dataset,\n",
        "    steps_per_epoch=len(Train_paths)//BATCH_SIZE,\n",
        "    epochs=1,\n",
        "    #callbacks=[checkpoint, early_stop],\n",
        "    validation_data = val_dataset,\n",
        "    validation_steps = len(Val_paths)//BATCH_SIZE\n",
        ")"
      ],
      "metadata": {
        "colab": {
          "base_uri": "https://localhost:8080/"
        },
        "id": "vONczFda6_IE",
        "outputId": "dcc00021-519c-46ce-e51d-d36e7f0e3658"
      },
      "execution_count": null,
      "outputs": [
        {
          "output_type": "stream",
          "name": "stdout",
          "text": [
            "1586/1586 [==============================] - 592s 361ms/step - loss: 0.4415 - accuracy: 0.8743 - precision: 0.9302 - recall: 0.8408 - val_loss: 3.3574 - val_accuracy: 0.4404 - val_precision: 0.4890 - val_recall: 0.4088\n"
          ]
        }
      ]
    },
    {
      "cell_type": "code",
      "source": [
        "# turn off the backbone\n",
        "model.layers[0].trainable = False"
      ],
      "metadata": {
        "id": "VMpQKoDw6_Fi"
      },
      "execution_count": null,
      "outputs": []
    },
    {
      "cell_type": "code",
      "source": [
        "# define callbacks\n",
        "checkpoint = tf.keras.callbacks.ModelCheckpoint(\"best_weights.h5\", verbose=1, save_best_only=True, save_weights_only=True)\n",
        "early_stop = tf.keras.callbacks.EarlyStopping(patience=4)"
      ],
      "metadata": {
        "id": "K3GeFhMe6_Cu"
      },
      "execution_count": null,
      "outputs": []
    },
    {
      "cell_type": "code",
      "source": [
        "model.summary()"
      ],
      "metadata": {
        "colab": {
          "base_uri": "https://localhost:8080/"
        },
        "id": "WwuB5z6O6_AQ",
        "outputId": "2620dfe1-aabc-4066-faaf-375f01491dd0"
      },
      "execution_count": null,
      "outputs": [
        {
          "output_type": "stream",
          "name": "stdout",
          "text": [
            "Model: \"sequential_2\"\n",
            "_________________________________________________________________\n",
            " Layer (type)                Output Shape              Param #   \n",
            "=================================================================\n",
            " resnet50v2 (Functional)     (None, 7, 7, 2048)        23564800  \n",
            "                                                                 \n",
            " global_average_pooling2d (G  (None, 2048)             0         \n",
            " lobalAveragePooling2D)                                          \n",
            "                                                                 \n",
            " dense (Dense)               (None, 131)               268419    \n",
            "                                                                 \n",
            "=================================================================\n",
            "Total params: 23,833,219\n",
            "Trainable params: 268,419\n",
            "Non-trainable params: 23,564,800\n",
            "_________________________________________________________________\n"
          ]
        }
      ]
    },
    {
      "cell_type": "code",
      "source": [
        "# train the model (phase #2)\n",
        "\n",
        "history = model.fit(\n",
        "    train_dataset,\n",
        "    steps_per_epoch=len(Train_paths)//BATCH_SIZE,\n",
        "    epochs=8,\n",
        "    callbacks=[checkpoint, early_stop],\n",
        "    validation_data = val_dataset,\n",
        "    validation_steps = len(Val_paths)//BATCH_SIZE\n",
        ")"
      ],
      "metadata": {
        "colab": {
          "base_uri": "https://localhost:8080/"
        },
        "id": "yZt1Zt2j6-96",
        "outputId": "61d830b2-3530-4cc2-cf36-b5762e3c9c9c"
      },
      "execution_count": null,
      "outputs": [
        {
          "output_type": "stream",
          "name": "stdout",
          "text": [
            "Epoch 1/8\n",
            "1586/1586 [==============================] - ETA: 0s - loss: 0.0903 - accuracy: 0.9717 - precision: 0.9748 - recall: 0.9685\n",
            "Epoch 1: val_loss improved from inf to 1.94961, saving model to best_weights.h5\n",
            "1586/1586 [==============================] - 576s 363ms/step - loss: 0.0903 - accuracy: 0.9717 - precision: 0.9748 - recall: 0.9685 - val_loss: 1.9496 - val_accuracy: 0.6119 - val_precision: 0.6526 - val_recall: 0.5876\n",
            "Epoch 2/8\n",
            "1586/1586 [==============================] - ETA: 0s - loss: 0.0588 - accuracy: 0.9810 - precision: 0.9827 - recall: 0.9796\n",
            "Epoch 2: val_loss did not improve from 1.94961\n",
            "1586/1586 [==============================] - 566s 356ms/step - loss: 0.0588 - accuracy: 0.9810 - precision: 0.9827 - recall: 0.9796 - val_loss: 2.1483 - val_accuracy: 0.6529 - val_precision: 0.6809 - val_recall: 0.6397\n",
            "Epoch 3/8\n",
            "1586/1586 [==============================] - ETA: 0s - loss: 0.0479 - accuracy: 0.9852 - precision: 0.9864 - recall: 0.9843\n",
            "Epoch 3: val_loss improved from 1.94961 to 1.55925, saving model to best_weights.h5\n",
            "1586/1586 [==============================] - 564s 355ms/step - loss: 0.0479 - accuracy: 0.9852 - precision: 0.9864 - recall: 0.9843 - val_loss: 1.5593 - val_accuracy: 0.7198 - val_precision: 0.7481 - val_recall: 0.7058\n",
            "Epoch 4/8\n",
            "1586/1586 [==============================] - ETA: 0s - loss: 0.0360 - accuracy: 0.9889 - precision: 0.9895 - recall: 0.9882\n",
            "Epoch 4: val_loss improved from 1.55925 to 1.23815, saving model to best_weights.h5\n",
            "1586/1586 [==============================] - 561s 354ms/step - loss: 0.0360 - accuracy: 0.9889 - precision: 0.9895 - recall: 0.9882 - val_loss: 1.2382 - val_accuracy: 0.7420 - val_precision: 0.7619 - val_recall: 0.7254\n",
            "Epoch 5/8\n",
            "1586/1586 [==============================] - ETA: 0s - loss: 0.0326 - accuracy: 0.9911 - precision: 0.9915 - recall: 0.9905\n",
            "Epoch 5: val_loss did not improve from 1.23815\n",
            "1586/1586 [==============================] - 559s 353ms/step - loss: 0.0326 - accuracy: 0.9911 - precision: 0.9915 - recall: 0.9905 - val_loss: 8.4807 - val_accuracy: 0.3261 - val_precision: 0.3411 - val_recall: 0.3156\n",
            "Epoch 6/8\n",
            "1586/1586 [==============================] - ETA: 0s - loss: 0.0255 - accuracy: 0.9925 - precision: 0.9929 - recall: 0.9920\n",
            "Epoch 6: val_loss improved from 1.23815 to 1.17497, saving model to best_weights.h5\n",
            "1586/1586 [==============================] - 566s 357ms/step - loss: 0.0255 - accuracy: 0.9925 - precision: 0.9929 - recall: 0.9920 - val_loss: 1.1750 - val_accuracy: 0.7918 - val_precision: 0.8039 - val_recall: 0.7826\n",
            "Epoch 7/8\n",
            "1586/1586 [==============================] - ETA: 0s - loss: 0.0237 - accuracy: 0.9933 - precision: 0.9936 - recall: 0.9930\n",
            "Epoch 7: val_loss did not improve from 1.17497\n",
            "1586/1586 [==============================] - 566s 357ms/step - loss: 0.0237 - accuracy: 0.9933 - precision: 0.9936 - recall: 0.9930 - val_loss: 1.5138 - val_accuracy: 0.7237 - val_precision: 0.7401 - val_recall: 0.7134\n",
            "Epoch 8/8\n",
            "1586/1586 [==============================] - ETA: 0s - loss: 0.0172 - accuracy: 0.9948 - precision: 0.9951 - recall: 0.9945\n",
            "Epoch 8: val_loss did not improve from 1.17497\n",
            "1586/1586 [==============================] - 563s 355ms/step - loss: 0.0172 - accuracy: 0.9948 - precision: 0.9951 - recall: 0.9945 - val_loss: 1.5467 - val_accuracy: 0.7148 - val_precision: 0.7319 - val_recall: 0.7038\n"
          ]
        }
      ]
    },
    {
      "cell_type": "markdown",
      "source": [
        "### After training the model start a fresh Sequential model and load the model's best_weights.h5 with the model.load_weights(\"best_weights.h5\") function."
      ],
      "metadata": {
        "id": "bsEvyHV1BMj7"
      }
    }
  ]
}