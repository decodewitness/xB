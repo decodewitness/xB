{
 "cells": [
  {
   "cell_type": "code",
   "execution_count": null,
   "id": "3ca7ffb5",
   "metadata": {},
   "outputs": [],
   "source": [
    "#!pip install pyttsx3\n",
    "\n",
    "#!pip install pypiwin32 # if you get win32 errors "
   ]
  },
  {
   "cell_type": "code",
   "execution_count": null,
   "id": "0796a319",
   "metadata": {},
   "outputs": [],
   "source": [
    "import pyttsx3"
   ]
  },
  {
   "cell_type": "code",
   "execution_count": null,
   "id": "c93b9547",
   "metadata": {},
   "outputs": [],
   "source": [
    "text_to_say = \"Hello there, I am blah\""
   ]
  },
  {
   "cell_type": "code",
   "execution_count": null,
   "id": "83a568e3",
   "metadata": {},
   "outputs": [],
   "source": [
    "class TextToSpeech:\n",
    "    engine: pyttsx3.Engine\n",
    "        \n",
    "    def __init__(self, voice, rate: int, volume: float):\n",
    "        self.engine = pyttsx3.init()\n",
    "        if voice:\n",
    "            self.engine.setProperty('voice', voice)\n",
    "            self.engine.setProperty('rate', rate)\n",
    "            self.engine.setProperty('volume', volume)\n",
    "            \n",
    "#     def list_available_voices(self):\n",
    "#         voices: list = [self.engine.getProperty('voices')]\n",
    "            \n",
    "#         for i, voice in enumerate(voices[0]):\n",
    "#             print(f'{i + 1} {voice.name} {voice.age}: {voice.languages[0]} ({voice.gender}) [{voice.id}]')\n",
    "            \n",
    "    def text_to_speech(self, text: str, save: bool = False, file_name='output.mp3'):\n",
    "        self.engine.say(text)\n",
    "        print(\"I am speaking...\")\n",
    "\n",
    "        if save:\n",
    "            self.engine.save_to_file(text, file_name)\n",
    "\n",
    "        self.engine.runAndWait()"
   ]
  },
  {
   "cell_type": "code",
   "execution_count": null,
   "id": "c4e2f9f0",
   "metadata": {},
   "outputs": [],
   "source": [
    "tts = TextToSpeech(None, 200, 1.0)\n",
    "# tts.list_available_voices()\n",
    "tts.text_to_speech(text_to_say)"
   ]
  }
 ],
 "metadata": {
  "kernelspec": {
   "display_name": "Python 3 (ipykernel)",
   "language": "python",
   "name": "python3"
  },
  "language_info": {
   "codemirror_mode": {
    "name": "ipython",
    "version": 3
   },
   "file_extension": ".py",
   "mimetype": "text/x-python",
   "name": "python",
   "nbconvert_exporter": "python",
   "pygments_lexer": "ipython3",
   "version": "3.7.16"
  }
 },
 "nbformat": 4,
 "nbformat_minor": 5
}
