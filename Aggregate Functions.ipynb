{
 "cells": [
  {
   "cell_type": "markdown",
   "id": "1c0c4a38",
   "metadata": {},
   "source": [
    "## Aggregate Functions\n",
    "Aggregate function is a function where the multiple values are grouped together to form a single summary value.\n",
    "\n",
    "Common aggregate functions are:\n",
    "1. max()\n",
    "2. min()\n",
    "3. sum()\n",
    "4. mean()\n",
    "5. median()\n",
    "6. mode()"
   ]
  },
  {
   "cell_type": "code",
   "execution_count": 1,
   "id": "871948e6",
   "metadata": {},
   "outputs": [],
   "source": [
    "#Creating a list\n",
    "\n",
    "list1=[3,5,7,9,2,1,1]"
   ]
  },
  {
   "cell_type": "code",
   "execution_count": 2,
   "id": "73d8e885",
   "metadata": {},
   "outputs": [
    {
     "data": {
      "text/plain": [
       "9"
      ]
     },
     "execution_count": 2,
     "metadata": {},
     "output_type": "execute_result"
    }
   ],
   "source": [
    "max(list1)"
   ]
  },
  {
   "cell_type": "code",
   "execution_count": 3,
   "id": "bb483cb8",
   "metadata": {},
   "outputs": [
    {
     "data": {
      "text/plain": [
       "1"
      ]
     },
     "execution_count": 3,
     "metadata": {},
     "output_type": "execute_result"
    }
   ],
   "source": [
    "min(list1)"
   ]
  },
  {
   "cell_type": "code",
   "execution_count": 4,
   "id": "4aad0ca1",
   "metadata": {},
   "outputs": [
    {
     "data": {
      "text/plain": [
       "28"
      ]
     },
     "execution_count": 4,
     "metadata": {},
     "output_type": "execute_result"
    }
   ],
   "source": [
    "sum(list1)"
   ]
  },
  {
   "cell_type": "code",
   "execution_count": 5,
   "id": "6a792f19",
   "metadata": {},
   "outputs": [],
   "source": [
    "import statistics as s"
   ]
  },
  {
   "cell_type": "code",
   "execution_count": 6,
   "id": "084018c8",
   "metadata": {},
   "outputs": [
    {
     "data": {
      "text/plain": [
       "4"
      ]
     },
     "execution_count": 6,
     "metadata": {},
     "output_type": "execute_result"
    }
   ],
   "source": [
    "s.mean(list1)"
   ]
  },
  {
   "cell_type": "code",
   "execution_count": 7,
   "id": "8dae9002",
   "metadata": {},
   "outputs": [
    {
     "data": {
      "text/plain": [
       "3"
      ]
     },
     "execution_count": 7,
     "metadata": {},
     "output_type": "execute_result"
    }
   ],
   "source": [
    "s.median(list1)"
   ]
  },
  {
   "cell_type": "code",
   "execution_count": 8,
   "id": "c8d9ed5d",
   "metadata": {},
   "outputs": [
    {
     "data": {
      "text/plain": [
       "1"
      ]
     },
     "execution_count": 8,
     "metadata": {},
     "output_type": "execute_result"
    }
   ],
   "source": [
    "s.mode(list1)"
   ]
  }
 ],
 "metadata": {
  "kernelspec": {
   "display_name": "Python 3",
   "language": "python",
   "name": "python3"
  },
  "language_info": {
   "codemirror_mode": {
    "name": "ipython",
    "version": 3
   },
   "file_extension": ".py",
   "mimetype": "text/x-python",
   "name": "python",
   "nbconvert_exporter": "python",
   "pygments_lexer": "ipython3",
   "version": "3.6.8"
  }
 },
 "nbformat": 4,
 "nbformat_minor": 5
}
