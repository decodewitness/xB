{
 "cells": [
  {
   "cell_type": "code",
   "execution_count": 1,
   "id": "6fc784cc",
   "metadata": {},
   "outputs": [],
   "source": [
    "#!pip install flair"
   ]
  },
  {
   "cell_type": "markdown",
   "id": "607af7ba",
   "metadata": {},
   "source": [
    "1. Initialize model.\n",
    "2. Tokenizing.\n",
    "3. Process with model.\n",
    "4. Format the outouts."
   ]
  },
  {
   "cell_type": "code",
   "execution_count": 2,
   "id": "63aad3a1",
   "metadata": {},
   "outputs": [
    {
     "name": "stdout",
     "output_type": "stream",
     "text": [
      "2023-02-07 00:11:18,762 loading file C:\\Users\\u042\\.flair\\models\\sentiment-en-mix-distillbert_4.pt\n"
     ]
    }
   ],
   "source": [
    "import flair\n",
    "\n",
    "model = flair.models.TextClassifier.load('en-sentiment')"
   ]
  },
  {
   "cell_type": "code",
   "execution_count": 3,
   "id": "7302bf5b",
   "metadata": {},
   "outputs": [
    {
     "data": {
      "text/plain": [
       "Sentence: \"I like you !\""
      ]
     },
     "execution_count": 3,
     "metadata": {},
     "output_type": "execute_result"
    }
   ],
   "source": [
    "text = 'I like you!'\n",
    "\n",
    "sentence = flair.data.Sentence(text)\n",
    "\n",
    "sentence"
   ]
  },
  {
   "cell_type": "code",
   "execution_count": 4,
   "id": "69d13dbd",
   "metadata": {},
   "outputs": [
    {
     "data": {
      "text/plain": [
       "'I like you !'"
      ]
     },
     "execution_count": 4,
     "metadata": {},
     "output_type": "execute_result"
    }
   ],
   "source": [
    "sentence.to_tokenized_string()"
   ]
  },
  {
   "cell_type": "code",
   "execution_count": 5,
   "id": "fa3ba581",
   "metadata": {},
   "outputs": [],
   "source": [
    "model.predict(sentence)"
   ]
  },
  {
   "cell_type": "code",
   "execution_count": 6,
   "id": "3ad699ef",
   "metadata": {},
   "outputs": [
    {
     "data": {
      "text/plain": [
       "Sentence: \"I like you !\" → POSITIVE (0.9928)"
      ]
     },
     "execution_count": 6,
     "metadata": {},
     "output_type": "execute_result"
    }
   ],
   "source": [
    "sentence"
   ]
  },
  {
   "cell_type": "code",
   "execution_count": 7,
   "id": "82ca23a4",
   "metadata": {},
   "outputs": [],
   "source": [
    "text = 'I hate it when I\\'m not learning about ML'"
   ]
  },
  {
   "cell_type": "code",
   "execution_count": 8,
   "id": "b7081ee4",
   "metadata": {},
   "outputs": [
    {
     "data": {
      "text/plain": [
       "Sentence: \"I hate it when I 'm not learning about ML\" → NEGATIVE (0.9991)"
      ]
     },
     "execution_count": 8,
     "metadata": {},
     "output_type": "execute_result"
    }
   ],
   "source": [
    "sentence = flair.data.Sentence(text)\n",
    "model.predict(sentence)\n",
    "sentence"
   ]
  },
  {
   "cell_type": "code",
   "execution_count": 9,
   "id": "6ccb44cf",
   "metadata": {},
   "outputs": [
    {
     "data": {
      "text/plain": [
       "['Sentence: \"I hate it when I 'm not learning about ML\"'/'NEGATIVE' (0.9991)]"
      ]
     },
     "execution_count": 9,
     "metadata": {},
     "output_type": "execute_result"
    }
   ],
   "source": [
    "sentence.get_labels()"
   ]
  },
  {
   "cell_type": "code",
   "execution_count": 10,
   "id": "39a3cd7b",
   "metadata": {},
   "outputs": [
    {
     "data": {
      "text/plain": [
       "flair.data.Label"
      ]
     },
     "execution_count": 10,
     "metadata": {},
     "output_type": "execute_result"
    }
   ],
   "source": [
    "type(sentence.get_labels()[0])"
   ]
  },
  {
   "cell_type": "code",
   "execution_count": 11,
   "id": "df3a632e",
   "metadata": {
    "scrolled": true
   },
   "outputs": [
    {
     "name": "stdout",
     "output_type": "stream",
     "text": [
      "Help on Label in module flair.data object:\n",
      "\n",
      "class Label(builtins.object)\n",
      " |  Label(data_point: 'DataPoint', value: Union[str, NoneType], score: float = 1.0)\n",
      " |  \n",
      " |  This class represents a label. Each label has a value and optionally a confidence score. The\n",
      " |  score needs to be between 0.0 and 1.0. Default value for the score is 1.0.\n",
      " |  \n",
      " |  Methods defined here:\n",
      " |  \n",
      " |  __eq__(self, other)\n",
      " |      Return self==value.\n",
      " |  \n",
      " |  __hash__(self)\n",
      " |      Return hash(self).\n",
      " |  \n",
      " |  __init__(self, data_point: 'DataPoint', value: Union[str, NoneType], score: float = 1.0)\n",
      " |      Initialize self.  See help(type(self)) for accurate signature.\n",
      " |  \n",
      " |  __lt__(self, other)\n",
      " |      Return self<value.\n",
      " |  \n",
      " |  __repr__(self)\n",
      " |      Return repr(self).\n",
      " |  \n",
      " |  __str__(self)\n",
      " |      Return str(self).\n",
      " |  \n",
      " |  set_value(self, value: str, score: float = 1.0)\n",
      " |  \n",
      " |  to_dict(self)\n",
      " |  \n",
      " |  ----------------------------------------------------------------------\n",
      " |  Readonly properties defined here:\n",
      " |  \n",
      " |  labeled_identifier\n",
      " |  \n",
      " |  shortstring\n",
      " |  \n",
      " |  unlabeled_identifier\n",
      " |  \n",
      " |  ----------------------------------------------------------------------\n",
      " |  Data descriptors defined here:\n",
      " |  \n",
      " |  __dict__\n",
      " |      dictionary for instance variables (if defined)\n",
      " |  \n",
      " |  __weakref__\n",
      " |      list of weak references to the object (if defined)\n",
      " |  \n",
      " |  score\n",
      " |  \n",
      " |  value\n",
      "\n"
     ]
    }
   ],
   "source": [
    "help(sentence.get_labels()[0])"
   ]
  },
  {
   "cell_type": "code",
   "execution_count": 12,
   "id": "cd7da90d",
   "metadata": {},
   "outputs": [
    {
     "data": {
      "text/plain": [
       "0.999140739440918"
      ]
     },
     "execution_count": 12,
     "metadata": {},
     "output_type": "execute_result"
    }
   ],
   "source": [
    "sentence.get_labels()[0].score"
   ]
  },
  {
   "cell_type": "code",
   "execution_count": 13,
   "id": "b3f3c5c5",
   "metadata": {},
   "outputs": [
    {
     "data": {
      "text/plain": [
       "float"
      ]
     },
     "execution_count": 13,
     "metadata": {},
     "output_type": "execute_result"
    }
   ],
   "source": [
    "type(sentence.get_labels()[0].score)"
   ]
  },
  {
   "cell_type": "code",
   "execution_count": 14,
   "id": "a1a45c10",
   "metadata": {},
   "outputs": [
    {
     "data": {
      "text/plain": [
       "'NEGATIVE'"
      ]
     },
     "execution_count": 14,
     "metadata": {},
     "output_type": "execute_result"
    }
   ],
   "source": [
    "sentence.get_labels()[0].value"
   ]
  },
  {
   "cell_type": "code",
   "execution_count": 15,
   "id": "965c5a87",
   "metadata": {},
   "outputs": [
    {
     "data": {
      "text/plain": [
       "str"
      ]
     },
     "execution_count": 15,
     "metadata": {},
     "output_type": "execute_result"
    }
   ],
   "source": [
    "type(sentence.get_labels()[0].value)"
   ]
  },
  {
   "cell_type": "code",
   "execution_count": 16,
   "id": "69b0ec00",
   "metadata": {},
   "outputs": [
    {
     "data": {
      "text/plain": [
       "(0.999140739440918, 'NEGATIVE')"
      ]
     },
     "execution_count": 16,
     "metadata": {},
     "output_type": "execute_result"
    }
   ],
   "source": [
    "# access directly\n",
    "\n",
    "sentence.labels[0].score, sentence.labels[0].value"
   ]
  }
 ],
 "metadata": {
  "kernelspec": {
   "display_name": "Python 3 (ipykernel)",
   "language": "python",
   "name": "python3"
  },
  "language_info": {
   "codemirror_mode": {
    "name": "ipython",
    "version": 3
   },
   "file_extension": ".py",
   "mimetype": "text/x-python",
   "name": "python",
   "nbconvert_exporter": "python",
   "pygments_lexer": "ipython3",
   "version": "3.8.5"
  }
 },
 "nbformat": 4,
 "nbformat_minor": 5
}
