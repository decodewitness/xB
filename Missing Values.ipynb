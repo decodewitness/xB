{
 "cells": [
  {
   "cell_type": "markdown",
   "id": "43843136",
   "metadata": {},
   "source": [
    "# Missing Values -&- Imputing Missing Values\n",
    "\n",
    "##### types of missing values\n",
    "1. MCAR - Missing Completely At Random (missing)\n",
    "2. MAR  - Missing At Random (can be related to any other value in the dataset)\n",
    "3. MNAR - Missing Not At Random (missing with a reason)\n",
    "\n",
    "##### rules for columns\n",
    "* Delete the columns/rows with a very high percentage of missing data.\n",
    "* If the dataset is large, and the column has around 30~40% or more than that of missing data, delete it.\n",
    "* If the column has more than 20% or more missing data ;; delete it.\n",
    "\n",
    "##### rules for rows\n",
    "* The same rules apply for rows.\n",
    "* If the row has more than 50 columns, delete the row.\n",
    "* If the row has more than 10 values missing, hence we can conclude that if any row has more than 20% of the values missing, then we can remove them from the dataset.\n",
    "\n",
    "##### varying rules\n",
    "* These rules vary in different scenarios\n",
    "* If the column has high correlation with the target column, the removal of the row or column can lead to information loss.\n",
    "\n",
    "## Business Logic\n",
    "* We can use business logic and -1 or -999 to preserve the 0's when you want to impute the missing values.\n",
    "\n",
    "###### using Mode()\n",
    "1. median function\n",
    "2. mean function     # this one is very sensitive towards outliers"
   ]
  }
 ],
 "metadata": {
  "kernelspec": {
   "display_name": "Python 3",
   "language": "python",
   "name": "python3"
  },
  "language_info": {
   "codemirror_mode": {
    "name": "ipython",
    "version": 3
   },
   "file_extension": ".py",
   "mimetype": "text/x-python",
   "name": "python",
   "nbconvert_exporter": "python",
   "pygments_lexer": "ipython3",
   "version": "3.6.8"
  }
 },
 "nbformat": 4,
 "nbformat_minor": 5
}
