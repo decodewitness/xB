{
  "cells": [
    {
      "cell_type": "code",
      "execution_count": 1,
      "metadata": {
        "colab": {
          "base_uri": "https://localhost:8080/"
        },
        "id": "LkWvX8zTJu97",
        "outputId": "826d8a59-dc87-4d9b-f48b-9f75369e4536"
      },
      "outputs": [
        {
          "output_type": "stream",
          "name": "stdout",
          "text": [
            "--2022-06-25 18:17:16--  https://www.dropbox.com/s/pdhwlpi2yeie0ol/movie-reviews-dataset.zip\n",
            "Resolving www.dropbox.com (www.dropbox.com)... 162.125.80.18, 2620:100:6020:18::a27d:4012\n",
            "Connecting to www.dropbox.com (www.dropbox.com)|162.125.80.18|:443... connected.\n",
            "HTTP request sent, awaiting response... 301 Moved Permanently\n",
            "Location: /s/raw/pdhwlpi2yeie0ol/movie-reviews-dataset.zip [following]\n",
            "--2022-06-25 18:17:17--  https://www.dropbox.com/s/raw/pdhwlpi2yeie0ol/movie-reviews-dataset.zip\n",
            "Reusing existing connection to www.dropbox.com:443.\n",
            "HTTP request sent, awaiting response... 302 Found\n",
            "Location: https://uc3bceb72b1a1159c7299fce43be.dl.dropboxusercontent.com/cd/0/inline/Bn4xSemCOLwNWT2rOWEU45gNZP0ztVC7uH_Uc54D2UnAuK1r130Vgqi-v2ekTb-Zn_rdRVSh3k3g1X9j3FJYLNZ4oVShlktpYHE8V7WAgTMWDBlT35KIC9RkNhqvXRolbBb3PzqqAyFUX1sA6KOZ9qZHSGDxgWtV6OfLIqKwFym2IQ/file# [following]\n",
            "--2022-06-25 18:17:17--  https://uc3bceb72b1a1159c7299fce43be.dl.dropboxusercontent.com/cd/0/inline/Bn4xSemCOLwNWT2rOWEU45gNZP0ztVC7uH_Uc54D2UnAuK1r130Vgqi-v2ekTb-Zn_rdRVSh3k3g1X9j3FJYLNZ4oVShlktpYHE8V7WAgTMWDBlT35KIC9RkNhqvXRolbBb3PzqqAyFUX1sA6KOZ9qZHSGDxgWtV6OfLIqKwFym2IQ/file\n",
            "Resolving uc3bceb72b1a1159c7299fce43be.dl.dropboxusercontent.com (uc3bceb72b1a1159c7299fce43be.dl.dropboxusercontent.com)... 162.125.81.15, 2620:100:6031:15::a27d:510f\n",
            "Connecting to uc3bceb72b1a1159c7299fce43be.dl.dropboxusercontent.com (uc3bceb72b1a1159c7299fce43be.dl.dropboxusercontent.com)|162.125.81.15|:443... connected.\n",
            "HTTP request sent, awaiting response... 302 Found\n",
            "Location: /cd/0/inline2/Bn4VcGNkMuH4JbNwW0O6OAEscQXx2R91zrkEdPwOAfaRYqpZX9Er22xbHw_13HuBCStBclUxcd7ck0_lraZOAlUQOgi2gbKWn32yWC_QPw7LA8JmnmOkDerSO4xWOVYHz6Ac-1FUvZNow1YlWaZrc6IYRWr1JconM2E4NWZLXuSr2SMJQE2thpThLMpx4NuDp6jDHskfOpbIyFjurWDjob2xkSGDS9_1K5XWZvHUjE1UfeInt_fVdYZRH32XlcIVGqsyAnvHn8V8d-IJJb4QoJ_DY9SJTMtcQesjdNREpkV4691wRl-cQk0V4Uq_6MiGNK3L4jB8tfYxE9iIl4_vHl48isd7_FLvzXG6hDolRDJqP_g1vfJNNfqb9EYY3kx2taMu0eSGVNPWbJxBg9ax_69VgPd6wquMAnAdjTEc7XbzwA/file [following]\n",
            "--2022-06-25 18:17:18--  https://uc3bceb72b1a1159c7299fce43be.dl.dropboxusercontent.com/cd/0/inline2/Bn4VcGNkMuH4JbNwW0O6OAEscQXx2R91zrkEdPwOAfaRYqpZX9Er22xbHw_13HuBCStBclUxcd7ck0_lraZOAlUQOgi2gbKWn32yWC_QPw7LA8JmnmOkDerSO4xWOVYHz6Ac-1FUvZNow1YlWaZrc6IYRWr1JconM2E4NWZLXuSr2SMJQE2thpThLMpx4NuDp6jDHskfOpbIyFjurWDjob2xkSGDS9_1K5XWZvHUjE1UfeInt_fVdYZRH32XlcIVGqsyAnvHn8V8d-IJJb4QoJ_DY9SJTMtcQesjdNREpkV4691wRl-cQk0V4Uq_6MiGNK3L4jB8tfYxE9iIl4_vHl48isd7_FLvzXG6hDolRDJqP_g1vfJNNfqb9EYY3kx2taMu0eSGVNPWbJxBg9ax_69VgPd6wquMAnAdjTEc7XbzwA/file\n",
            "Reusing existing connection to uc3bceb72b1a1159c7299fce43be.dl.dropboxusercontent.com:443.\n",
            "HTTP request sent, awaiting response... 200 OK\n",
            "Length: 62951389 (60M) [application/zip]\n",
            "Saving to: ‘movie-reviews-dataset.zip’\n",
            "\n",
            "movie-reviews-datas 100%[===================>]  60.03M  16.5MB/s    in 3.6s    \n",
            "\n",
            "2022-06-25 18:17:22 (16.7 MB/s) - ‘movie-reviews-dataset.zip’ saved [62951389/62951389]\n",
            "\n"
          ]
        }
      ],
      "source": [
        "!wget https://www.dropbox.com/s/pdhwlpi2yeie0ol/movie-reviews-dataset.zip"
      ]
    },
    {
      "cell_type": "code",
      "execution_count": 2,
      "metadata": {
        "id": "fWEfBjvxKOjV"
      },
      "outputs": [],
      "source": [
        "!unzip -q \"/content/movie-reviews-dataset.zip\""
      ]
    },
    {
      "cell_type": "code",
      "execution_count": 3,
      "metadata": {
        "id": "O1JS9MuHKOl9"
      },
      "outputs": [],
      "source": [
        "# Sentiment Analysis"
      ]
    },
    {
      "cell_type": "code",
      "execution_count": 4,
      "metadata": {
        "id": "cZC1FA1NKOoh"
      },
      "outputs": [],
      "source": [
        "from tensorflow.keras.preprocessing import text_dataset_from_directory\n",
        "from tensorflow.strings import regex_replace\n",
        "from tensorflow.keras.layers.experimental.preprocessing import TextVectorization\n",
        "from tensorflow.keras.models import Sequential\n",
        "from tensorflow.keras import Input\n",
        "from tensorflow.keras.layers import Dense, GRU, Embedding, Dropout"
      ]
    },
    {
      "cell_type": "code",
      "execution_count": 5,
      "metadata": {
        "id": "Th2lDFMcKOrH"
      },
      "outputs": [],
      "source": [
        "def prepareData(dir):\n",
        "  data = text_dataset_from_directory(dir)\n",
        "  return data.map(\n",
        "      lambda text, label: (regex_replace(text, '<br />', ' '), label)\n",
        "  )"
      ]
    },
    {
      "cell_type": "code",
      "execution_count": 6,
      "metadata": {
        "colab": {
          "base_uri": "https://localhost:8080/"
        },
        "id": "8NTUUEmGLCNf",
        "outputId": "d591e92c-229c-421a-dcce-dbef9baf5ca6"
      },
      "outputs": [
        {
          "output_type": "stream",
          "name": "stdout",
          "text": [
            "Found 25000 files belonging to 2 classes.\n",
            "Found 25000 files belonging to 2 classes.\n",
            "b'I saw the MST3K version of \"Deathstalker III\" and loved the movie so much -- even \"unmystied\" -- that I decided to watch the entire series of \"Deathstalker\" films. I bought I and II and settled down for a laugh.  Nothing about \"Deathstalker I\" was funny on any level and when the credits rolled I was embarrassed and regretful that I had bought it! Too much ugliness and nudity. I guess either \"DS 3\" was a much cleaner production or MST3K really edited a lot because I expected something similar, i.e. stupid and carefree and simple. I was wrong. Even at $6.99 it seemed a waste of money. I didn\\'t even open \"DS 2\" as I will return it tomorrow. Now I\\'ll probably just throw away this DVD as I can\\'t return it and no one wants it -- including myself! So really, don\\'t bother with this one. Even the nudity (lots of it, btw) is uninspiring and icky.'\n",
            "0\n"
          ]
        }
      ],
      "source": [
        "train_data = prepareData('movie-reviews-dataset/train')\n",
        "test_data = prepareData('movie-reviews-dataset/test')\n",
        "\n",
        "for text_batch, label_batch in train_data.take(1):\n",
        "  print(text_batch.numpy()[0])\n",
        "  print(label_batch.numpy()[0])"
      ]
    },
    {
      "cell_type": "code",
      "execution_count": 7,
      "metadata": {
        "id": "ovYBLcYnLCQL"
      },
      "outputs": [],
      "source": [
        "model = Sequential()"
      ]
    },
    {
      "cell_type": "code",
      "execution_count": 8,
      "metadata": {
        "id": "D-wiJngHLCS7"
      },
      "outputs": [],
      "source": [
        "model.add(Input(shape=(1,), dtype=\"string\"))"
      ]
    },
    {
      "cell_type": "code",
      "execution_count": 9,
      "metadata": {
        "id": "2xj4WvP5LCVp"
      },
      "outputs": [],
      "source": [
        "max_tokens = 1000\n",
        "max_len = 100\n",
        "vectorize_layer = TextVectorization(\n",
        "    max_tokens=max_tokens,\n",
        "    output_mode=\"int\",\n",
        "    output_sequence_length=max_len\n",
        ")"
      ]
    },
    {
      "cell_type": "code",
      "execution_count": 10,
      "metadata": {
        "id": "Ys8-PoaxLCXy"
      },
      "outputs": [],
      "source": [
        "train_texts = train_data.map(lambda text, label: text)\n",
        "vectorize_layer.adapt(train_texts)\n",
        "\n",
        "model.add(vectorize_layer)"
      ]
    },
    {
      "cell_type": "code",
      "execution_count": 11,
      "metadata": {
        "id": "KYRIPDZALCaf"
      },
      "outputs": [],
      "source": [
        "model.add(Embedding(max_tokens + 1, 128))\n",
        "\n",
        "model.add(GRU(64))\n",
        "model.add(Dense(64, activation=\"relu\"))\n",
        "model.add(Dense(1, activation=\"sigmoid\"))"
      ]
    },
    {
      "cell_type": "code",
      "execution_count": 12,
      "metadata": {
        "id": "QVOFNUxOLCdL"
      },
      "outputs": [],
      "source": [
        "model.compile(loss=\"binary_crossentropy\", optimizer=\"adam\", metrics=[\"accuracy\"])"
      ]
    },
    {
      "cell_type": "code",
      "execution_count": 13,
      "metadata": {
        "colab": {
          "base_uri": "https://localhost:8080/"
        },
        "id": "Gyu6XDAQLCft",
        "outputId": "293a71c6-153c-4084-aa64-4902a2ee6183"
      },
      "outputs": [
        {
          "output_type": "stream",
          "name": "stdout",
          "text": [
            "Epoch 1/10\n",
            "782/782 [==============================] - 18s 14ms/step - loss: 0.5863 - accuracy: 0.6716\n",
            "Epoch 2/10\n",
            "782/782 [==============================] - 11s 14ms/step - loss: 0.4233 - accuracy: 0.8054\n",
            "Epoch 3/10\n",
            "782/782 [==============================] - 11s 14ms/step - loss: 0.3874 - accuracy: 0.8225\n",
            "Epoch 4/10\n",
            "782/782 [==============================] - 11s 14ms/step - loss: 0.3677 - accuracy: 0.8316\n",
            "Epoch 5/10\n",
            "782/782 [==============================] - 11s 13ms/step - loss: 0.3501 - accuracy: 0.8400\n",
            "Epoch 6/10\n",
            "782/782 [==============================] - 11s 14ms/step - loss: 0.3319 - accuracy: 0.8469\n",
            "Epoch 7/10\n",
            "782/782 [==============================] - 11s 14ms/step - loss: 0.3122 - accuracy: 0.8550\n",
            "Epoch 8/10\n",
            "782/782 [==============================] - 11s 14ms/step - loss: 0.2934 - accuracy: 0.8613\n",
            "Epoch 9/10\n",
            "782/782 [==============================] - 11s 13ms/step - loss: 0.2769 - accuracy: 0.8690\n",
            "Epoch 10/10\n",
            "782/782 [==============================] - 11s 14ms/step - loss: 0.2529 - accuracy: 0.8785\n"
          ]
        },
        {
          "output_type": "execute_result",
          "data": {
            "text/plain": [
              "<keras.callbacks.History at 0x7efc71e45bd0>"
            ]
          },
          "metadata": {},
          "execution_count": 13
        }
      ],
      "source": [
        "model.fit(train_data, epochs=10)"
      ]
    },
    {
      "cell_type": "code",
      "execution_count": 14,
      "metadata": {
        "colab": {
          "base_uri": "https://localhost:8080/"
        },
        "id": "CaL-ZaZtKOtq",
        "outputId": "fb72408c-19f0-463f-df72-1f0013212733"
      },
      "outputs": [
        {
          "output_type": "stream",
          "name": "stdout",
          "text": [
            "782/782 [==============================] - 8s 10ms/step - loss: 0.7316 - accuracy: 0.7787\n"
          ]
        },
        {
          "output_type": "execute_result",
          "data": {
            "text/plain": [
              "[0.7316035032272339, 0.7787200212478638]"
            ]
          },
          "metadata": {},
          "execution_count": 14
        }
      ],
      "source": [
        "model.evaluate(test_data)"
      ]
    },
    {
      "cell_type": "code",
      "execution_count": 15,
      "metadata": {
        "id": "VgY4f1GPKOwA"
      },
      "outputs": [],
      "source": [
        "text = \"I loved the movie !\""
      ]
    },
    {
      "cell_type": "code",
      "execution_count": 16,
      "metadata": {
        "colab": {
          "base_uri": "https://localhost:8080/"
        },
        "id": "ap1o_BtlKOyz",
        "outputId": "8e457a3e-26d7-4464-b980-2f2ad50802d5"
      },
      "outputs": [
        {
          "output_type": "execute_result",
          "data": {
            "text/plain": [
              "array([[0.9951545]], dtype=float32)"
            ]
          },
          "metadata": {},
          "execution_count": 16
        }
      ],
      "source": [
        "model.predict([text])"
      ]
    }
  ],
  "metadata": {
    "accelerator": "GPU",
    "colab": {
      "collapsed_sections": [],
      "name": "GRU Gated Recurrent Unit.ipynb",
      "provenance": []
    },
    "gpuClass": "standard",
    "kernelspec": {
      "display_name": "Python 3",
      "name": "python3"
    },
    "language_info": {
      "name": "python"
    }
  },
  "nbformat": 4,
  "nbformat_minor": 0
}