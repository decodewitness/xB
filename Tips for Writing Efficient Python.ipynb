{
 "cells": [
  {
   "cell_type": "markdown",
   "id": "865b8ffc",
   "metadata": {},
   "source": [
    "# Tips for Writing Efficient Python"
   ]
  },
  {
   "cell_type": "markdown",
   "id": "046c6e25",
   "metadata": {},
   "source": [
    "Picture this - you just spent an hour putting together some code to clean a data set with a million records only to find out your code takes 3 hours to run. You're just exited it works, so you switch to other tasks while your code runs. Sometimes a quick and dirty solution is all you need for ad-hoc tasks; however, refactoring is often needed when moving to production environments. This notebook covers tips for speeding up your Python code. We'll also walk through a few examples of code that orginally took hours/days to run and werereduced to minutes/seconds after refactoring"
   ]
  },
  {
   "cell_type": "markdown",
   "id": "7d886f39",
   "metadata": {},
   "source": [
    "## Downloading PyCharm"
   ]
  },
  {
   "cell_type": "markdown",
   "id": "f5616012",
   "metadata": {},
   "source": [
    "We will use PyCharm as the primary integrated development environment IDE for this tutorial, but feel free to use your preferred IDE. To install PyCharm, select the Community Edition from [this link](https://www.jetbrains.com/pycharm/download/#section=mac) (it's free!)."
   ]
  },
  {
   "cell_type": "markdown",
   "id": "b9eede30",
   "metadata": {},
   "source": [
    "## TLDR; Don't Optimize Before You Need To!"
   ]
  },
  {
   "cell_type": "markdown",
   "id": "88812ae7",
   "metadata": {},
   "source": [
    "Your code has to run before you know it's slow :). But even if it's \"slow\", that might not necessarily mean you need to jump into optimization. However,  there are some good practices you should always follow such as removing values that don't change from a for loop.\n",
    "\n",
    "1. Write code that runs\n",
    "2. Make sure you get the output you expect\n",
    "3. Check to see if current speed is acceptable\n",
    "4. Optimize if needed\n",
    "5. Repeat 2-4\n",
    "\n",
    "For more Python performance tips, check out [Python's documentation](https://wiki.python.org/moin/PythonSpeed/PerformanceTips). There are also tools/libraries such as Hadoop and vaex that also help to handle big data."
   ]
  },
  {
   "cell_type": "markdown",
   "id": "abf32515",
   "metadata": {},
   "source": [
    "## When Should I Optimize?"
   ]
  },
  {
   "cell_type": "markdown",
   "id": "6aef8c70",
   "metadata": {},
   "source": [
    "Below are a few examples of when you might want to optimize your code.\n",
    "\n",
    "- Working with big data\n",
    "- Creating a reusable component\n",
    "- Deploying to the cloud where compute resources aren't free\n",
    "- Improving user experience\n",
    "- Quickly iterating for a proof of concept\n",
    "- Ethical concerns such as carbon footprints of data centers"
   ]
  },
  {
   "cell_type": "markdown",
   "id": "297f04bb",
   "metadata": {},
   "source": [
    "## About the Data"
   ]
  },
  {
   "cell_type": "markdown",
   "id": "74ac10ff",
   "metadata": {},
   "source": [
    "We will use the [AG News Data set](https://www.kaggle.com/amananandrai/ag-news-classification-dataset) for the following examples. This data set contains titles, descriptions, and categories for over one million news articles. We will only be using a sample of this data."
   ]
  },
  {
   "cell_type": "code",
   "execution_count": 1,
   "id": "d234cf37",
   "metadata": {},
   "outputs": [
    {
     "data": {
      "text/html": [
       "<div>\n",
       "<style scoped>\n",
       "    .dataframe tbody tr th:only-of-type {\n",
       "        vertical-align: middle;\n",
       "    }\n",
       "\n",
       "    .dataframe tbody tr th {\n",
       "        vertical-align: top;\n",
       "    }\n",
       "\n",
       "    .dataframe thead th {\n",
       "        text-align: right;\n",
       "    }\n",
       "</style>\n",
       "<table border=\"1\" class=\"dataframe\">\n",
       "  <thead>\n",
       "    <tr style=\"text-align: right;\">\n",
       "      <th></th>\n",
       "      <th>Class Index</th>\n",
       "      <th>Title</th>\n",
       "      <th>Description</th>\n",
       "    </tr>\n",
       "  </thead>\n",
       "  <tbody>\n",
       "    <tr>\n",
       "      <th>110913</th>\n",
       "      <td>4</td>\n",
       "      <td>HOW IT WORKS Giving Gamers Another Window on T...</td>\n",
       "      <td>THE newest piece of hardware in the video game...</td>\n",
       "    </tr>\n",
       "    <tr>\n",
       "      <th>75136</th>\n",
       "      <td>3</td>\n",
       "      <td>UK report says Linux is 'viable'</td>\n",
       "      <td>A UK government study finds the open-source Li...</td>\n",
       "    </tr>\n",
       "    <tr>\n",
       "      <th>48815</th>\n",
       "      <td>4</td>\n",
       "      <td>Sony Corp abandons copy-control music CDs</td>\n",
       "      <td>Sony Corp #39;s music unit is abandoning its C...</td>\n",
       "    </tr>\n",
       "    <tr>\n",
       "      <th>17853</th>\n",
       "      <td>4</td>\n",
       "      <td>Botswana Donates 500 Elephants to Mozambique (...</td>\n",
       "      <td>Reuters - Botswana, which has the\\largest elep...</td>\n",
       "    </tr>\n",
       "    <tr>\n",
       "      <th>61101</th>\n",
       "      <td>3</td>\n",
       "      <td>Business digest</td>\n",
       "      <td>NEW YORK - Investors sent stocks falling sharp...</td>\n",
       "    </tr>\n",
       "  </tbody>\n",
       "</table>\n",
       "</div>"
      ],
      "text/plain": [
       "        Class Index                                              Title  \\\n",
       "110913            4  HOW IT WORKS Giving Gamers Another Window on T...   \n",
       "75136             3                   UK report says Linux is 'viable'   \n",
       "48815             4          Sony Corp abandons copy-control music CDs   \n",
       "17853             4  Botswana Donates 500 Elephants to Mozambique (...   \n",
       "61101             3                                    Business digest   \n",
       "\n",
       "                                              Description  \n",
       "110913  THE newest piece of hardware in the video game...  \n",
       "75136   A UK government study finds the open-source Li...  \n",
       "48815   Sony Corp #39;s music unit is abandoning its C...  \n",
       "17853   Reuters - Botswana, which has the\\largest elep...  \n",
       "61101   NEW YORK - Investors sent stocks falling sharp...  "
      ]
     },
     "execution_count": 1,
     "metadata": {},
     "output_type": "execute_result"
    }
   ],
   "source": [
    "import time\n",
    "import pandas as pd\n",
    "\n",
    "# Load data and sample 5,000 records\n",
    "df = pd.read_csv(\"data/train.csv\")\n",
    "df = df.sample(n=5000, random_state=50)\n",
    "df.head()"
   ]
  },
  {
   "cell_type": "markdown",
   "id": "701548da",
   "metadata": {},
   "source": [
    "## Looping over a DataFrame"
   ]
  },
  {
   "cell_type": "markdown",
   "id": "8cbc3179",
   "metadata": {},
   "source": [
    "One of the great things about Python, or any programming language really, is that there is no \"right\" way to solve a problem - two people can come up with entirely different solutions to solve the same problem. Let's walk through an example of calculating the number of characters in the Title of each news articleusing the following methods to see how performance impacts each method.\n",
    "\n",
    "1. for loop\n",
    "2. iterrows()\n",
    "3. itertuples()\n",
    "4. list comprehension\n",
    "5. apply()\n",
    "6. vectorization with Pandas series"
   ]
  },
  {
   "cell_type": "markdown",
   "id": "90107d3b",
   "metadata": {},
   "source": [
    "## For Loop"
   ]
  },
  {
   "cell_type": "markdown",
   "id": "85135150",
   "metadata": {},
   "source": [
    "For loops are used across many languages and are one of the basic ways to iterate over data"
   ]
  },
  {
   "cell_type": "code",
   "execution_count": 2,
   "id": "047bf819",
   "metadata": {},
   "outputs": [
    {
     "name": "stdout",
     "output_type": "stream",
     "text": [
      "0.23601508140563965\n"
     ]
    },
    {
     "data": {
      "text/html": [
       "<div>\n",
       "<style scoped>\n",
       "    .dataframe tbody tr th:only-of-type {\n",
       "        vertical-align: middle;\n",
       "    }\n",
       "\n",
       "    .dataframe tbody tr th {\n",
       "        vertical-align: top;\n",
       "    }\n",
       "\n",
       "    .dataframe thead th {\n",
       "        text-align: right;\n",
       "    }\n",
       "</style>\n",
       "<table border=\"1\" class=\"dataframe\">\n",
       "  <thead>\n",
       "    <tr style=\"text-align: right;\">\n",
       "      <th></th>\n",
       "      <th>Class Index</th>\n",
       "      <th>Title</th>\n",
       "      <th>Description</th>\n",
       "      <th>length</th>\n",
       "    </tr>\n",
       "  </thead>\n",
       "  <tbody>\n",
       "    <tr>\n",
       "      <th>110913</th>\n",
       "      <td>4</td>\n",
       "      <td>HOW IT WORKS Giving Gamers Another Window on T...</td>\n",
       "      <td>THE newest piece of hardware in the video game...</td>\n",
       "      <td>56</td>\n",
       "    </tr>\n",
       "    <tr>\n",
       "      <th>75136</th>\n",
       "      <td>3</td>\n",
       "      <td>UK report says Linux is 'viable'</td>\n",
       "      <td>A UK government study finds the open-source Li...</td>\n",
       "      <td>32</td>\n",
       "    </tr>\n",
       "    <tr>\n",
       "      <th>48815</th>\n",
       "      <td>4</td>\n",
       "      <td>Sony Corp abandons copy-control music CDs</td>\n",
       "      <td>Sony Corp #39;s music unit is abandoning its C...</td>\n",
       "      <td>41</td>\n",
       "    </tr>\n",
       "    <tr>\n",
       "      <th>17853</th>\n",
       "      <td>4</td>\n",
       "      <td>Botswana Donates 500 Elephants to Mozambique (...</td>\n",
       "      <td>Reuters - Botswana, which has the\\largest elep...</td>\n",
       "      <td>54</td>\n",
       "    </tr>\n",
       "    <tr>\n",
       "      <th>61101</th>\n",
       "      <td>3</td>\n",
       "      <td>Business digest</td>\n",
       "      <td>NEW YORK - Investors sent stocks falling sharp...</td>\n",
       "      <td>15</td>\n",
       "    </tr>\n",
       "  </tbody>\n",
       "</table>\n",
       "</div>"
      ],
      "text/plain": [
       "        Class Index                                              Title  \\\n",
       "110913            4  HOW IT WORKS Giving Gamers Another Window on T...   \n",
       "75136             3                   UK report says Linux is 'viable'   \n",
       "48815             4          Sony Corp abandons copy-control music CDs   \n",
       "17853             4  Botswana Donates 500 Elephants to Mozambique (...   \n",
       "61101             3                                    Business digest   \n",
       "\n",
       "                                              Description  length  \n",
       "110913  THE newest piece of hardware in the video game...      56  \n",
       "75136   A UK government study finds the open-source Li...      32  \n",
       "48815   Sony Corp #39;s music unit is abandoning its C...      41  \n",
       "17853   Reuters - Botswana, which has the\\largest elep...      54  \n",
       "61101   NEW YORK - Investors sent stocks falling sharp...      15  "
      ]
     },
     "execution_count": 2,
     "metadata": {},
     "output_type": "execute_result"
    }
   ],
   "source": [
    "start_time = time.time()\n",
    "\n",
    "length_list = []\n",
    "for i in range(0, len(df)):\n",
    "    length = len(df.iloc[i][\"Title\"])\n",
    "    length_list.append(length)\n",
    "    \n",
    "df[\"length\"] = length_list\n",
    "\n",
    "elapsed_time = time.time() - start_time\n",
    "print(elapsed_time)\n",
    "\n",
    "df.head()"
   ]
  },
  {
   "cell_type": "markdown",
   "id": "0c83a2ae",
   "metadata": {},
   "source": [
    "## Iterrows()"
   ]
  },
  {
   "cell_type": "markdown",
   "id": "1f9a1445",
   "metadata": {},
   "source": [
    "This function is specific to Pandas DataFrames and allows you to iterate over DataFrame rows as (Index, Series) pairs."
   ]
  },
  {
   "cell_type": "code",
   "execution_count": 3,
   "id": "63b95d2f",
   "metadata": {},
   "outputs": [
    {
     "name": "stdout",
     "output_type": "stream",
     "text": [
      "0.1403789520263672\n"
     ]
    },
    {
     "data": {
      "text/html": [
       "<div>\n",
       "<style scoped>\n",
       "    .dataframe tbody tr th:only-of-type {\n",
       "        vertical-align: middle;\n",
       "    }\n",
       "\n",
       "    .dataframe tbody tr th {\n",
       "        vertical-align: top;\n",
       "    }\n",
       "\n",
       "    .dataframe thead th {\n",
       "        text-align: right;\n",
       "    }\n",
       "</style>\n",
       "<table border=\"1\" class=\"dataframe\">\n",
       "  <thead>\n",
       "    <tr style=\"text-align: right;\">\n",
       "      <th></th>\n",
       "      <th>Class Index</th>\n",
       "      <th>Title</th>\n",
       "      <th>Description</th>\n",
       "      <th>length</th>\n",
       "    </tr>\n",
       "  </thead>\n",
       "  <tbody>\n",
       "    <tr>\n",
       "      <th>110913</th>\n",
       "      <td>4</td>\n",
       "      <td>HOW IT WORKS Giving Gamers Another Window on T...</td>\n",
       "      <td>THE newest piece of hardware in the video game...</td>\n",
       "      <td>56</td>\n",
       "    </tr>\n",
       "    <tr>\n",
       "      <th>75136</th>\n",
       "      <td>3</td>\n",
       "      <td>UK report says Linux is 'viable'</td>\n",
       "      <td>A UK government study finds the open-source Li...</td>\n",
       "      <td>32</td>\n",
       "    </tr>\n",
       "    <tr>\n",
       "      <th>48815</th>\n",
       "      <td>4</td>\n",
       "      <td>Sony Corp abandons copy-control music CDs</td>\n",
       "      <td>Sony Corp #39;s music unit is abandoning its C...</td>\n",
       "      <td>41</td>\n",
       "    </tr>\n",
       "    <tr>\n",
       "      <th>17853</th>\n",
       "      <td>4</td>\n",
       "      <td>Botswana Donates 500 Elephants to Mozambique (...</td>\n",
       "      <td>Reuters - Botswana, which has the\\largest elep...</td>\n",
       "      <td>54</td>\n",
       "    </tr>\n",
       "    <tr>\n",
       "      <th>61101</th>\n",
       "      <td>3</td>\n",
       "      <td>Business digest</td>\n",
       "      <td>NEW YORK - Investors sent stocks falling sharp...</td>\n",
       "      <td>15</td>\n",
       "    </tr>\n",
       "  </tbody>\n",
       "</table>\n",
       "</div>"
      ],
      "text/plain": [
       "        Class Index                                              Title  \\\n",
       "110913            4  HOW IT WORKS Giving Gamers Another Window on T...   \n",
       "75136             3                   UK report says Linux is 'viable'   \n",
       "48815             4          Sony Corp abandons copy-control music CDs   \n",
       "17853             4  Botswana Donates 500 Elephants to Mozambique (...   \n",
       "61101             3                                    Business digest   \n",
       "\n",
       "                                              Description  length  \n",
       "110913  THE newest piece of hardware in the video game...      56  \n",
       "75136   A UK government study finds the open-source Li...      32  \n",
       "48815   Sony Corp #39;s music unit is abandoning its C...      41  \n",
       "17853   Reuters - Botswana, which has the\\largest elep...      54  \n",
       "61101   NEW YORK - Investors sent stocks falling sharp...      15  "
      ]
     },
     "execution_count": 3,
     "metadata": {},
     "output_type": "execute_result"
    }
   ],
   "source": [
    "start_time = time.time()\n",
    "\n",
    "length_list = []\n",
    "for index, row in df.iterrows():\n",
    "    length = len(row[\"Title\"])\n",
    "    length_list.append(length)\n",
    "    \n",
    "df[\"length\"] = length_list\n",
    "\n",
    "elapsed_time = time.time() - start_time\n",
    "print(elapsed_time)\n",
    "\n",
    "df.head()"
   ]
  },
  {
   "cell_type": "markdown",
   "id": "c34b0085",
   "metadata": {},
   "source": [
    "## Itertuples()"
   ]
  },
  {
   "cell_type": "markdown",
   "id": "0c9994f4",
   "metadata": {},
   "source": [
    "This function is specific to Pandas DataFrames and allows you to iterate over DataFrame rows as namedtuples."
   ]
  },
  {
   "cell_type": "code",
   "execution_count": 4,
   "id": "566f227c",
   "metadata": {},
   "outputs": [
    {
     "name": "stdout",
     "output_type": "stream",
     "text": [
      "0.008417129516601562\n"
     ]
    },
    {
     "data": {
      "text/html": [
       "<div>\n",
       "<style scoped>\n",
       "    .dataframe tbody tr th:only-of-type {\n",
       "        vertical-align: middle;\n",
       "    }\n",
       "\n",
       "    .dataframe tbody tr th {\n",
       "        vertical-align: top;\n",
       "    }\n",
       "\n",
       "    .dataframe thead th {\n",
       "        text-align: right;\n",
       "    }\n",
       "</style>\n",
       "<table border=\"1\" class=\"dataframe\">\n",
       "  <thead>\n",
       "    <tr style=\"text-align: right;\">\n",
       "      <th></th>\n",
       "      <th>Class Index</th>\n",
       "      <th>Title</th>\n",
       "      <th>Description</th>\n",
       "      <th>length</th>\n",
       "    </tr>\n",
       "  </thead>\n",
       "  <tbody>\n",
       "    <tr>\n",
       "      <th>110913</th>\n",
       "      <td>4</td>\n",
       "      <td>HOW IT WORKS Giving Gamers Another Window on T...</td>\n",
       "      <td>THE newest piece of hardware in the video game...</td>\n",
       "      <td>56</td>\n",
       "    </tr>\n",
       "    <tr>\n",
       "      <th>75136</th>\n",
       "      <td>3</td>\n",
       "      <td>UK report says Linux is 'viable'</td>\n",
       "      <td>A UK government study finds the open-source Li...</td>\n",
       "      <td>32</td>\n",
       "    </tr>\n",
       "    <tr>\n",
       "      <th>48815</th>\n",
       "      <td>4</td>\n",
       "      <td>Sony Corp abandons copy-control music CDs</td>\n",
       "      <td>Sony Corp #39;s music unit is abandoning its C...</td>\n",
       "      <td>41</td>\n",
       "    </tr>\n",
       "    <tr>\n",
       "      <th>17853</th>\n",
       "      <td>4</td>\n",
       "      <td>Botswana Donates 500 Elephants to Mozambique (...</td>\n",
       "      <td>Reuters - Botswana, which has the\\largest elep...</td>\n",
       "      <td>54</td>\n",
       "    </tr>\n",
       "    <tr>\n",
       "      <th>61101</th>\n",
       "      <td>3</td>\n",
       "      <td>Business digest</td>\n",
       "      <td>NEW YORK - Investors sent stocks falling sharp...</td>\n",
       "      <td>15</td>\n",
       "    </tr>\n",
       "  </tbody>\n",
       "</table>\n",
       "</div>"
      ],
      "text/plain": [
       "        Class Index                                              Title  \\\n",
       "110913            4  HOW IT WORKS Giving Gamers Another Window on T...   \n",
       "75136             3                   UK report says Linux is 'viable'   \n",
       "48815             4          Sony Corp abandons copy-control music CDs   \n",
       "17853             4  Botswana Donates 500 Elephants to Mozambique (...   \n",
       "61101             3                                    Business digest   \n",
       "\n",
       "                                              Description  length  \n",
       "110913  THE newest piece of hardware in the video game...      56  \n",
       "75136   A UK government study finds the open-source Li...      32  \n",
       "48815   Sony Corp #39;s music unit is abandoning its C...      41  \n",
       "17853   Reuters - Botswana, which has the\\largest elep...      54  \n",
       "61101   NEW YORK - Investors sent stocks falling sharp...      15  "
      ]
     },
     "execution_count": 4,
     "metadata": {},
     "output_type": "execute_result"
    }
   ],
   "source": [
    "start_time = time.time()\n",
    "\n",
    "length_list = []\n",
    "for row in df.itertuples():\n",
    "    length = len(row.Title)\n",
    "    length_list.append(length)\n",
    "    \n",
    "df[\"length\"] = length_list\n",
    "\n",
    "elapsed_time = time.time() - start_time\n",
    "print(elapsed_time)\n",
    "\n",
    "df.head()"
   ]
  },
  {
   "cell_type": "markdown",
   "id": "7dc6271e",
   "metadata": {},
   "source": [
    "## List Comprehension"
   ]
  },
  {
   "cell_type": "markdown",
   "id": "74a410db",
   "metadata": {},
   "source": [
    "List Comprehension offers a shorter syntax for creating a new list based on values in an existing list."
   ]
  },
  {
   "cell_type": "code",
   "execution_count": 5,
   "id": "007599b8",
   "metadata": {},
   "outputs": [
    {
     "name": "stdout",
     "output_type": "stream",
     "text": [
      "0.004917144775390625\n"
     ]
    },
    {
     "data": {
      "text/html": [
       "<div>\n",
       "<style scoped>\n",
       "    .dataframe tbody tr th:only-of-type {\n",
       "        vertical-align: middle;\n",
       "    }\n",
       "\n",
       "    .dataframe tbody tr th {\n",
       "        vertical-align: top;\n",
       "    }\n",
       "\n",
       "    .dataframe thead th {\n",
       "        text-align: right;\n",
       "    }\n",
       "</style>\n",
       "<table border=\"1\" class=\"dataframe\">\n",
       "  <thead>\n",
       "    <tr style=\"text-align: right;\">\n",
       "      <th></th>\n",
       "      <th>Class Index</th>\n",
       "      <th>Title</th>\n",
       "      <th>Description</th>\n",
       "      <th>length</th>\n",
       "    </tr>\n",
       "  </thead>\n",
       "  <tbody>\n",
       "    <tr>\n",
       "      <th>110913</th>\n",
       "      <td>4</td>\n",
       "      <td>HOW IT WORKS Giving Gamers Another Window on T...</td>\n",
       "      <td>THE newest piece of hardware in the video game...</td>\n",
       "      <td>56</td>\n",
       "    </tr>\n",
       "    <tr>\n",
       "      <th>75136</th>\n",
       "      <td>3</td>\n",
       "      <td>UK report says Linux is 'viable'</td>\n",
       "      <td>A UK government study finds the open-source Li...</td>\n",
       "      <td>32</td>\n",
       "    </tr>\n",
       "    <tr>\n",
       "      <th>48815</th>\n",
       "      <td>4</td>\n",
       "      <td>Sony Corp abandons copy-control music CDs</td>\n",
       "      <td>Sony Corp #39;s music unit is abandoning its C...</td>\n",
       "      <td>41</td>\n",
       "    </tr>\n",
       "    <tr>\n",
       "      <th>17853</th>\n",
       "      <td>4</td>\n",
       "      <td>Botswana Donates 500 Elephants to Mozambique (...</td>\n",
       "      <td>Reuters - Botswana, which has the\\largest elep...</td>\n",
       "      <td>54</td>\n",
       "    </tr>\n",
       "    <tr>\n",
       "      <th>61101</th>\n",
       "      <td>3</td>\n",
       "      <td>Business digest</td>\n",
       "      <td>NEW YORK - Investors sent stocks falling sharp...</td>\n",
       "      <td>15</td>\n",
       "    </tr>\n",
       "  </tbody>\n",
       "</table>\n",
       "</div>"
      ],
      "text/plain": [
       "        Class Index                                              Title  \\\n",
       "110913            4  HOW IT WORKS Giving Gamers Another Window on T...   \n",
       "75136             3                   UK report says Linux is 'viable'   \n",
       "48815             4          Sony Corp abandons copy-control music CDs   \n",
       "17853             4  Botswana Donates 500 Elephants to Mozambique (...   \n",
       "61101             3                                    Business digest   \n",
       "\n",
       "                                              Description  length  \n",
       "110913  THE newest piece of hardware in the video game...      56  \n",
       "75136   A UK government study finds the open-source Li...      32  \n",
       "48815   Sony Corp #39;s music unit is abandoning its C...      41  \n",
       "17853   Reuters - Botswana, which has the\\largest elep...      54  \n",
       "61101   NEW YORK - Investors sent stocks falling sharp...      15  "
      ]
     },
     "execution_count": 5,
     "metadata": {},
     "output_type": "execute_result"
    }
   ],
   "source": [
    "start_time = time.time()\n",
    "\n",
    "length_list = [len(x) for x in df[\"Title\"]]\n",
    "    \n",
    "df[\"length\"] = length_list\n",
    "\n",
    "elapsed_time = time.time() - start_time\n",
    "print(elapsed_time)\n",
    "\n",
    "df.head()"
   ]
  },
  {
   "cell_type": "markdown",
   "id": "14745485",
   "metadata": {},
   "source": [
    "## Apply()"
   ]
  },
  {
   "cell_type": "markdown",
   "id": "8ffb78a7",
   "metadata": {},
   "source": [
    "This function is specific to Pandas DataFrames and allows you to apply a function along an axis of the DataFrame. Apply is often used with lambdas to create inline functions."
   ]
  },
  {
   "cell_type": "code",
   "execution_count": 6,
   "id": "173b4248",
   "metadata": {},
   "outputs": [
    {
     "name": "stdout",
     "output_type": "stream",
     "text": [
      "0.0039517879486083984\n"
     ]
    },
    {
     "data": {
      "text/html": [
       "<div>\n",
       "<style scoped>\n",
       "    .dataframe tbody tr th:only-of-type {\n",
       "        vertical-align: middle;\n",
       "    }\n",
       "\n",
       "    .dataframe tbody tr th {\n",
       "        vertical-align: top;\n",
       "    }\n",
       "\n",
       "    .dataframe thead th {\n",
       "        text-align: right;\n",
       "    }\n",
       "</style>\n",
       "<table border=\"1\" class=\"dataframe\">\n",
       "  <thead>\n",
       "    <tr style=\"text-align: right;\">\n",
       "      <th></th>\n",
       "      <th>Class Index</th>\n",
       "      <th>Title</th>\n",
       "      <th>Description</th>\n",
       "      <th>length</th>\n",
       "    </tr>\n",
       "  </thead>\n",
       "  <tbody>\n",
       "    <tr>\n",
       "      <th>110913</th>\n",
       "      <td>4</td>\n",
       "      <td>HOW IT WORKS Giving Gamers Another Window on T...</td>\n",
       "      <td>THE newest piece of hardware in the video game...</td>\n",
       "      <td>56</td>\n",
       "    </tr>\n",
       "    <tr>\n",
       "      <th>75136</th>\n",
       "      <td>3</td>\n",
       "      <td>UK report says Linux is 'viable'</td>\n",
       "      <td>A UK government study finds the open-source Li...</td>\n",
       "      <td>32</td>\n",
       "    </tr>\n",
       "    <tr>\n",
       "      <th>48815</th>\n",
       "      <td>4</td>\n",
       "      <td>Sony Corp abandons copy-control music CDs</td>\n",
       "      <td>Sony Corp #39;s music unit is abandoning its C...</td>\n",
       "      <td>41</td>\n",
       "    </tr>\n",
       "    <tr>\n",
       "      <th>17853</th>\n",
       "      <td>4</td>\n",
       "      <td>Botswana Donates 500 Elephants to Mozambique (...</td>\n",
       "      <td>Reuters - Botswana, which has the\\largest elep...</td>\n",
       "      <td>54</td>\n",
       "    </tr>\n",
       "    <tr>\n",
       "      <th>61101</th>\n",
       "      <td>3</td>\n",
       "      <td>Business digest</td>\n",
       "      <td>NEW YORK - Investors sent stocks falling sharp...</td>\n",
       "      <td>15</td>\n",
       "    </tr>\n",
       "  </tbody>\n",
       "</table>\n",
       "</div>"
      ],
      "text/plain": [
       "        Class Index                                              Title  \\\n",
       "110913            4  HOW IT WORKS Giving Gamers Another Window on T...   \n",
       "75136             3                   UK report says Linux is 'viable'   \n",
       "48815             4          Sony Corp abandons copy-control music CDs   \n",
       "17853             4  Botswana Donates 500 Elephants to Mozambique (...   \n",
       "61101             3                                    Business digest   \n",
       "\n",
       "                                              Description  length  \n",
       "110913  THE newest piece of hardware in the video game...      56  \n",
       "75136   A UK government study finds the open-source Li...      32  \n",
       "48815   Sony Corp #39;s music unit is abandoning its C...      41  \n",
       "17853   Reuters - Botswana, which has the\\largest elep...      54  \n",
       "61101   NEW YORK - Investors sent stocks falling sharp...      15  "
      ]
     },
     "execution_count": 6,
     "metadata": {},
     "output_type": "execute_result"
    }
   ],
   "source": [
    "start_time = time.time()\n",
    "    \n",
    "df[\"length\"] = df[\"Title\"].apply(lambda x: len(x))\n",
    "\n",
    "elapsed_time = time.time() - start_time\n",
    "print(elapsed_time)\n",
    "\n",
    "df.head()"
   ]
  },
  {
   "cell_type": "markdown",
   "id": "bc01ac92",
   "metadata": {},
   "source": [
    "## Vectorization with Pandas Series"
   ]
  },
  {
   "cell_type": "markdown",
   "id": "c52c54a6",
   "metadata": {},
   "source": [
    "Vectorization allows you to execute operations on entire arrays instead of each individual item. This reduces the amount of iteration."
   ]
  },
  {
   "cell_type": "code",
   "execution_count": 7,
   "id": "9ff3d896",
   "metadata": {},
   "outputs": [
    {
     "name": "stdout",
     "output_type": "stream",
     "text": [
      "0.0029397010803222656\n"
     ]
    },
    {
     "data": {
      "text/html": [
       "<div>\n",
       "<style scoped>\n",
       "    .dataframe tbody tr th:only-of-type {\n",
       "        vertical-align: middle;\n",
       "    }\n",
       "\n",
       "    .dataframe tbody tr th {\n",
       "        vertical-align: top;\n",
       "    }\n",
       "\n",
       "    .dataframe thead th {\n",
       "        text-align: right;\n",
       "    }\n",
       "</style>\n",
       "<table border=\"1\" class=\"dataframe\">\n",
       "  <thead>\n",
       "    <tr style=\"text-align: right;\">\n",
       "      <th></th>\n",
       "      <th>Class Index</th>\n",
       "      <th>Title</th>\n",
       "      <th>Description</th>\n",
       "      <th>length</th>\n",
       "    </tr>\n",
       "  </thead>\n",
       "  <tbody>\n",
       "    <tr>\n",
       "      <th>110913</th>\n",
       "      <td>4</td>\n",
       "      <td>HOW IT WORKS Giving Gamers Another Window on T...</td>\n",
       "      <td>THE newest piece of hardware in the video game...</td>\n",
       "      <td>56</td>\n",
       "    </tr>\n",
       "    <tr>\n",
       "      <th>75136</th>\n",
       "      <td>3</td>\n",
       "      <td>UK report says Linux is 'viable'</td>\n",
       "      <td>A UK government study finds the open-source Li...</td>\n",
       "      <td>32</td>\n",
       "    </tr>\n",
       "    <tr>\n",
       "      <th>48815</th>\n",
       "      <td>4</td>\n",
       "      <td>Sony Corp abandons copy-control music CDs</td>\n",
       "      <td>Sony Corp #39;s music unit is abandoning its C...</td>\n",
       "      <td>41</td>\n",
       "    </tr>\n",
       "    <tr>\n",
       "      <th>17853</th>\n",
       "      <td>4</td>\n",
       "      <td>Botswana Donates 500 Elephants to Mozambique (...</td>\n",
       "      <td>Reuters - Botswana, which has the\\largest elep...</td>\n",
       "      <td>54</td>\n",
       "    </tr>\n",
       "    <tr>\n",
       "      <th>61101</th>\n",
       "      <td>3</td>\n",
       "      <td>Business digest</td>\n",
       "      <td>NEW YORK - Investors sent stocks falling sharp...</td>\n",
       "      <td>15</td>\n",
       "    </tr>\n",
       "  </tbody>\n",
       "</table>\n",
       "</div>"
      ],
      "text/plain": [
       "        Class Index                                              Title  \\\n",
       "110913            4  HOW IT WORKS Giving Gamers Another Window on T...   \n",
       "75136             3                   UK report says Linux is 'viable'   \n",
       "48815             4          Sony Corp abandons copy-control music CDs   \n",
       "17853             4  Botswana Donates 500 Elephants to Mozambique (...   \n",
       "61101             3                                    Business digest   \n",
       "\n",
       "                                              Description  length  \n",
       "110913  THE newest piece of hardware in the video game...      56  \n",
       "75136   A UK government study finds the open-source Li...      32  \n",
       "48815   Sony Corp #39;s music unit is abandoning its C...      41  \n",
       "17853   Reuters - Botswana, which has the\\largest elep...      54  \n",
       "61101   NEW YORK - Investors sent stocks falling sharp...      15  "
      ]
     },
     "execution_count": 7,
     "metadata": {},
     "output_type": "execute_result"
    }
   ],
   "source": [
    "start_time = time.time()\n",
    "    \n",
    "df[\"length\"] = df[\"Title\"].str.len()\n",
    "\n",
    "elapsed_time = time.time() - start_time\n",
    "print(elapsed_time)\n",
    "\n",
    "df.head()"
   ]
  },
  {
   "cell_type": "markdown",
   "id": "68e0d730",
   "metadata": {},
   "source": [
    "Now, let's dive into a couple of examples to put it all together."
   ]
  },
  {
   "cell_type": "markdown",
   "id": "1319eb4b",
   "metadata": {},
   "source": [
    "## Example 1 - Original Code"
   ]
  },
  {
   "cell_type": "markdown",
   "id": "fef77105",
   "metadata": {},
   "source": [
    "For this example, we want to clean the Title of our news article by:\n",
    "\n",
    "1. Lowercasing the text\n",
    "2. Replacing certain tokens from a dictionary\n",
    "3. Removing numbers from the text\n",
    "4. Removing punctuation from the text"
   ]
  },
  {
   "cell_type": "code",
   "execution_count": 8,
   "id": "67619c10",
   "metadata": {},
   "outputs": [
    {
     "data": {
      "text/html": [
       "<div>\n",
       "<style scoped>\n",
       "    .dataframe tbody tr th:only-of-type {\n",
       "        vertical-align: middle;\n",
       "    }\n",
       "\n",
       "    .dataframe tbody tr th {\n",
       "        vertical-align: top;\n",
       "    }\n",
       "\n",
       "    .dataframe thead th {\n",
       "        text-align: right;\n",
       "    }\n",
       "</style>\n",
       "<table border=\"1\" class=\"dataframe\">\n",
       "  <thead>\n",
       "    <tr style=\"text-align: right;\">\n",
       "      <th></th>\n",
       "      <th>from</th>\n",
       "      <th>to</th>\n",
       "    </tr>\n",
       "  </thead>\n",
       "  <tbody>\n",
       "    <tr>\n",
       "      <th>0</th>\n",
       "      <td>uk</td>\n",
       "      <td>united kingdom</td>\n",
       "    </tr>\n",
       "    <tr>\n",
       "      <th>1</th>\n",
       "      <td>it</td>\n",
       "      <td>information technology</td>\n",
       "    </tr>\n",
       "    <tr>\n",
       "      <th>2</th>\n",
       "      <td>nba</td>\n",
       "      <td>national basketball association</td>\n",
       "    </tr>\n",
       "    <tr>\n",
       "      <th>3</th>\n",
       "      <td>ibm</td>\n",
       "      <td>international business machines</td>\n",
       "    </tr>\n",
       "    <tr>\n",
       "      <th>4</th>\n",
       "      <td>us</td>\n",
       "      <td>united states</td>\n",
       "    </tr>\n",
       "  </tbody>\n",
       "</table>\n",
       "</div>"
      ],
      "text/plain": [
       "  from                               to\n",
       "0   uk                   united kingdom\n",
       "1   it           information technology\n",
       "2  nba  national basketball association\n",
       "3  ibm  international business machines\n",
       "4   us                    united states"
      ]
     },
     "execution_count": 8,
     "metadata": {},
     "output_type": "execute_result"
    }
   ],
   "source": [
    "dictionary_df = pd.read_csv(\"data/dictionary.csv\")\n",
    "dictionary_df.head()"
   ]
  },
  {
   "cell_type": "code",
   "execution_count": 9,
   "id": "9a8a6b75",
   "metadata": {},
   "outputs": [],
   "source": [
    "import re\n",
    "import string\n",
    "import time\n",
    "import warnings\n",
    "import pandas as pd\n",
    "\n",
    "warnings.filterwarnings(\"ignore\")\n",
    "\n",
    "def dict_replace(title):\n",
    "    dictionary_df = pd.read_csv(\"data/dictionary.csv\")\n",
    "    clean_tokens = []\n",
    "    tokens = title.split()\n",
    "    for old_token in tokens:\n",
    "        new_token = dictionary_df[dictionary_df[\"from\"] == old_token]\n",
    "        if new_token.empty:\n",
    "            clean_tokens.append(old_token)\n",
    "        else:\n",
    "            clean_tokens.append(new_token[\"to\"].tolist()[0])\n",
    "            \n",
    "    title = \" \".join(clean_tokens)\n",
    "    return title\n",
    "\n",
    "def preprocess_title(df):\n",
    "    # Lowercase\n",
    "    df[\"title_clean\"] = df[\"Title\"].str.lower()\n",
    "    \n",
    "    # Replace digits with a space\n",
    "    df[\"title_clean\"] = df[\"title_clean\"].str.replace(\"\\d\", \" \")\n",
    "    \n",
    "    # Remove punctuation\n",
    "    df[\"title_clean\"] = df[\"title_clean\"].str.replace(\".\", \" \")\n",
    "    df[\"title_clean\"] = df[\"title_clean\"].str.replace(\"#\", \" \")\n",
    "    df[\"title_clean\"] = df[\"title_clean\"].str.replace(\";\", \" \")\n",
    "    df[\"title_clean\"] = df[\"title_clean\"].str.replace(\"'\", \" \")\n",
    "    df[\"title_clean\"] = df[\"title_clean\"].str.replace(\"-\", \" \")\n",
    "    df[\"title_clean\"] = df[\"title_clean\"].str.replace(\"/\", \" \")\n",
    "    df[\"title_clean\"] = df[\"title_clean\"].str.replace(\"$\", \" \")\n",
    "    df[\"title_clean\"] = df[\"title_clean\"].str.replace(\"(\", \" \")\n",
    "    df[\"title_clean\"] = df[\"title_clean\"].str.replace(\")\", \" \")\n",
    "    df[\"title_clean\"] = df[\"title_clean\"].str.replace(\"\\\\\", \" \")\n",
    "    df[\"title_clean\"] = df[\"title_clean\"].str.replace(\"?\", \" \")\n",
    "    df[\"title_clean\"] = df[\"title_clean\"].str.replace(\":\", \" \")\n",
    "    df[\"title_clean\"] = df[\"title_clean\"].str.replace(\",\", \" \")\n",
    "    df[\"title_clean\"] = df[\"title_clean\"].str.replace(\"\\s+\", \" \")\n",
    "    \n",
    "    df[\"title_clean\"] = df[\"title_clean\"].apply(lambda x: dict_replace(x))"
   ]
  },
  {
   "cell_type": "code",
   "execution_count": 10,
   "id": "6b53ce79",
   "metadata": {},
   "outputs": [
    {
     "name": "stdout",
     "output_type": "stream",
     "text": [
      "10.512485980987549\n"
     ]
    },
    {
     "data": {
      "text/html": [
       "<div>\n",
       "<style scoped>\n",
       "    .dataframe tbody tr th:only-of-type {\n",
       "        vertical-align: middle;\n",
       "    }\n",
       "\n",
       "    .dataframe tbody tr th {\n",
       "        vertical-align: top;\n",
       "    }\n",
       "\n",
       "    .dataframe thead th {\n",
       "        text-align: right;\n",
       "    }\n",
       "</style>\n",
       "<table border=\"1\" class=\"dataframe\">\n",
       "  <thead>\n",
       "    <tr style=\"text-align: right;\">\n",
       "      <th></th>\n",
       "      <th>Title</th>\n",
       "      <th>title_clean</th>\n",
       "    </tr>\n",
       "  </thead>\n",
       "  <tbody>\n",
       "    <tr>\n",
       "      <th>110913</th>\n",
       "      <td>HOW IT WORKS Giving Gamers Another Window on T...</td>\n",
       "      <td>how information technology works giving gamers...</td>\n",
       "    </tr>\n",
       "    <tr>\n",
       "      <th>75136</th>\n",
       "      <td>UK report says Linux is 'viable'</td>\n",
       "      <td>united kingdom report says linux is viable</td>\n",
       "    </tr>\n",
       "    <tr>\n",
       "      <th>48815</th>\n",
       "      <td>Sony Corp abandons copy-control music CDs</td>\n",
       "      <td>sony corp abandons copy control music cds</td>\n",
       "    </tr>\n",
       "    <tr>\n",
       "      <th>17853</th>\n",
       "      <td>Botswana Donates 500 Elephants to Mozambique (...</td>\n",
       "      <td>botswana donates elephants to mozambique reuters</td>\n",
       "    </tr>\n",
       "    <tr>\n",
       "      <th>61101</th>\n",
       "      <td>Business digest</td>\n",
       "      <td>business digest</td>\n",
       "    </tr>\n",
       "  </tbody>\n",
       "</table>\n",
       "</div>"
      ],
      "text/plain": [
       "                                                    Title  \\\n",
       "110913  HOW IT WORKS Giving Gamers Another Window on T...   \n",
       "75136                    UK report says Linux is 'viable'   \n",
       "48815           Sony Corp abandons copy-control music CDs   \n",
       "17853   Botswana Donates 500 Elephants to Mozambique (...   \n",
       "61101                                     Business digest   \n",
       "\n",
       "                                              title_clean  \n",
       "110913  how information technology works giving gamers...  \n",
       "75136          united kingdom report says linux is viable  \n",
       "48815           sony corp abandons copy control music cds  \n",
       "17853    botswana donates elephants to mozambique reuters  \n",
       "61101                                     business digest  "
      ]
     },
     "execution_count": 10,
     "metadata": {},
     "output_type": "execute_result"
    }
   ],
   "source": [
    "start_time = time.time()\n",
    "\n",
    "preprocess_title(df)\n",
    "\n",
    "elapsed_time = time.time() - start_time\n",
    "print(elapsed_time)\n",
    "\n",
    "df[[\"Title\", \"title_clean\"]].head()"
   ]
  },
  {
   "cell_type": "markdown",
   "id": "fd432a6e",
   "metadata": {},
   "source": [
    "## Example 1 - Refactor"
   ]
  },
  {
   "cell_type": "code",
   "execution_count": 11,
   "id": "4158c045",
   "metadata": {},
   "outputs": [],
   "source": [
    "def dict_replace_v2(dictionary, title):\n",
    "    return \" \".join([dictionary.get(word, word) for word in title.split()])\n",
    "\n",
    "def preprocess_title_v2(title):\n",
    "    # Lowercase\n",
    "    clean_title = title.lower()\n",
    "    \n",
    "    # Replace digits with space\n",
    "    clean_title = re.sub(\"\\d\", \" \", clean_title)\n",
    "    \n",
    "    # Remove all punctuation\n",
    "    clean_title = clean_title.translate(\n",
    "        str.maketrans(string.punctuation, \" \" * len(string.punctuation)))\n",
    "    \n",
    "    return \" \".join(clean_title.split())"
   ]
  },
  {
   "cell_type": "code",
   "execution_count": 12,
   "id": "36147ceb",
   "metadata": {},
   "outputs": [
    {
     "name": "stdout",
     "output_type": "stream",
     "text": [
      "0.032651662826538086\n"
     ]
    },
    {
     "data": {
      "text/html": [
       "<div>\n",
       "<style scoped>\n",
       "    .dataframe tbody tr th:only-of-type {\n",
       "        vertical-align: middle;\n",
       "    }\n",
       "\n",
       "    .dataframe tbody tr th {\n",
       "        vertical-align: top;\n",
       "    }\n",
       "\n",
       "    .dataframe thead th {\n",
       "        text-align: right;\n",
       "    }\n",
       "</style>\n",
       "<table border=\"1\" class=\"dataframe\">\n",
       "  <thead>\n",
       "    <tr style=\"text-align: right;\">\n",
       "      <th></th>\n",
       "      <th>Title</th>\n",
       "      <th>title_clean</th>\n",
       "      <th>title_clean_v2</th>\n",
       "    </tr>\n",
       "  </thead>\n",
       "  <tbody>\n",
       "    <tr>\n",
       "      <th>110913</th>\n",
       "      <td>HOW IT WORKS Giving Gamers Another Window on T...</td>\n",
       "      <td>how information technology works giving gamers...</td>\n",
       "      <td>how information technology works giving gamers...</td>\n",
       "    </tr>\n",
       "    <tr>\n",
       "      <th>75136</th>\n",
       "      <td>UK report says Linux is 'viable'</td>\n",
       "      <td>united kingdom report says linux is viable</td>\n",
       "      <td>united kingdom report says linux is viable</td>\n",
       "    </tr>\n",
       "    <tr>\n",
       "      <th>48815</th>\n",
       "      <td>Sony Corp abandons copy-control music CDs</td>\n",
       "      <td>sony corp abandons copy control music cds</td>\n",
       "      <td>sony corp abandons copy control music cds</td>\n",
       "    </tr>\n",
       "    <tr>\n",
       "      <th>17853</th>\n",
       "      <td>Botswana Donates 500 Elephants to Mozambique (...</td>\n",
       "      <td>botswana donates elephants to mozambique reuters</td>\n",
       "      <td>botswana donates elephants to mozambique reuters</td>\n",
       "    </tr>\n",
       "    <tr>\n",
       "      <th>61101</th>\n",
       "      <td>Business digest</td>\n",
       "      <td>business digest</td>\n",
       "      <td>business digest</td>\n",
       "    </tr>\n",
       "  </tbody>\n",
       "</table>\n",
       "</div>"
      ],
      "text/plain": [
       "                                                    Title  \\\n",
       "110913  HOW IT WORKS Giving Gamers Another Window on T...   \n",
       "75136                    UK report says Linux is 'viable'   \n",
       "48815           Sony Corp abandons copy-control music CDs   \n",
       "17853   Botswana Donates 500 Elephants to Mozambique (...   \n",
       "61101                                     Business digest   \n",
       "\n",
       "                                              title_clean  \\\n",
       "110913  how information technology works giving gamers...   \n",
       "75136          united kingdom report says linux is viable   \n",
       "48815           sony corp abandons copy control music cds   \n",
       "17853    botswana donates elephants to mozambique reuters   \n",
       "61101                                     business digest   \n",
       "\n",
       "                                           title_clean_v2  \n",
       "110913  how information technology works giving gamers...  \n",
       "75136          united kingdom report says linux is viable  \n",
       "48815           sony corp abandons copy control music cds  \n",
       "17853    botswana donates elephants to mozambique reuters  \n",
       "61101                                     business digest  "
      ]
     },
     "execution_count": 12,
     "metadata": {},
     "output_type": "execute_result"
    }
   ],
   "source": [
    "start_time = time.time()\n",
    "\n",
    "dictionary_df = pd.read_csv(\"data/dictionary.csv\")\n",
    "lookup_dict = pd.Series(dictionary_df[\"to\"].values, index=dictionary_df[\"from\"]).to_dict()\n",
    "\n",
    "df[\"title_clean_v2\"] = df[\"Title\"].apply(lambda x: preprocess_title_v2(x))\n",
    "df[\"title_clean_v2\"] = df[\"title_clean_v2\"].apply(lambda x: dict_replace_v2(lookup_dict, x))\n",
    "\n",
    "elapsed_time = time.time() -start_time\n",
    "print(elapsed_time)\n",
    "\n",
    "df[[\"Title\", \"title_clean\", \"title_clean_v2\"]].head()"
   ]
  },
  {
   "cell_type": "markdown",
   "id": "f974f8ae",
   "metadata": {},
   "source": [
    "## Example 2 - Original Code"
   ]
  },
  {
   "cell_type": "markdown",
   "id": "d304be7f",
   "metadata": {},
   "source": [
    "In this example we want to count the number of tokens in the Title of the news article. In order to be considered a token, the following must be true.\n",
    "\n",
    "1. Lemmatized token > 1 character\n",
    "2. Lemmatized token not a stop word\n",
    "3. Lemmatized token is in the NLTK vocabulary\n",
    "\n",
    "Check out my course [Natural Language Processing with Python](https://www.skillshare.com/classes/Natural-Language-Processing-with-Python) to learn more about these common text preprocessing steps."
   ]
  },
  {
   "cell_type": "code",
   "execution_count": 13,
   "id": "31ceb03a",
   "metadata": {},
   "outputs": [
    {
     "name": "stderr",
     "output_type": "stream",
     "text": [
      "[nltk_data] Downloading package wordnet to\n",
      "[nltk_data]     C:\\Users\\31628\\AppData\\Roaming\\nltk_data...\n",
      "[nltk_data]   Package wordnet is already up-to-date!\n",
      "[nltk_data] Downloading package stopwords to\n",
      "[nltk_data]     C:\\Users\\31628\\AppData\\Roaming\\nltk_data...\n",
      "[nltk_data]   Unzipping corpora\\stopwords.zip.\n",
      "[nltk_data] Downloading package words to\n",
      "[nltk_data]     C:\\Users\\31628\\AppData\\Roaming\\nltk_data...\n",
      "[nltk_data]   Unzipping corpora\\words.zip.\n"
     ]
    }
   ],
   "source": [
    "import time\n",
    "\n",
    "import nltk\n",
    "import pandas as pd\n",
    "from nltk.corpus import stopwords\n",
    "from nltk.stem import WordNetLemmatizer\n",
    "\n",
    "nltk.download('wordnet')\n",
    "nltk.download('stopwords')\n",
    "nltk.download('words')\n",
    "\n",
    "def count_tokens_in_nltk_vocab(string):\n",
    "    wnl = WordNetLemmatizer()\n",
    "    \n",
    "    counter = 0\n",
    "    for token in string.split():\n",
    "        token = wnl.lemmatize(token)\n",
    "        if len(token) > 1 and token not in set(stopwords.words(\"english\")):\n",
    "            if token in set(nltk.corpus.words.words()):\n",
    "                counter +=1\n",
    "    return counter"
   ]
  },
  {
   "cell_type": "code",
   "execution_count": 14,
   "id": "57b0058c",
   "metadata": {},
   "outputs": [],
   "source": [
    "# Delete dataframe from earlier and sample 50 records this time\n",
    "del(df)\n",
    "\n",
    "df = pd.read_csv(\"data/train.csv\")\n",
    "df = df.sample(n=50, random_state=50)"
   ]
  },
  {
   "cell_type": "code",
   "execution_count": 15,
   "id": "77e86deb",
   "metadata": {},
   "outputs": [
    {
     "name": "stdout",
     "output_type": "stream",
     "text": [
      "27.24153232574463\n"
     ]
    },
    {
     "data": {
      "text/html": [
       "<div>\n",
       "<style scoped>\n",
       "    .dataframe tbody tr th:only-of-type {\n",
       "        vertical-align: middle;\n",
       "    }\n",
       "\n",
       "    .dataframe tbody tr th {\n",
       "        vertical-align: top;\n",
       "    }\n",
       "\n",
       "    .dataframe thead th {\n",
       "        text-align: right;\n",
       "    }\n",
       "</style>\n",
       "<table border=\"1\" class=\"dataframe\">\n",
       "  <thead>\n",
       "    <tr style=\"text-align: right;\">\n",
       "      <th></th>\n",
       "      <th>title_clean</th>\n",
       "      <th>token_count</th>\n",
       "    </tr>\n",
       "  </thead>\n",
       "  <tbody>\n",
       "    <tr>\n",
       "      <th>110913</th>\n",
       "      <td>how information technology works giving gamers...</td>\n",
       "      <td>7</td>\n",
       "    </tr>\n",
       "    <tr>\n",
       "      <th>75136</th>\n",
       "      <td>united kingdom report says linux is viable</td>\n",
       "      <td>5</td>\n",
       "    </tr>\n",
       "    <tr>\n",
       "      <th>48815</th>\n",
       "      <td>sony corp abandons copy control music cds</td>\n",
       "      <td>5</td>\n",
       "    </tr>\n",
       "    <tr>\n",
       "      <th>17853</th>\n",
       "      <td>botswana donates elephants to mozambique reuters</td>\n",
       "      <td>2</td>\n",
       "    </tr>\n",
       "    <tr>\n",
       "      <th>61101</th>\n",
       "      <td>business digest</td>\n",
       "      <td>2</td>\n",
       "    </tr>\n",
       "  </tbody>\n",
       "</table>\n",
       "</div>"
      ],
      "text/plain": [
       "                                              title_clean  token_count\n",
       "110913  how information technology works giving gamers...            7\n",
       "75136          united kingdom report says linux is viable            5\n",
       "48815           sony corp abandons copy control music cds            5\n",
       "17853    botswana donates elephants to mozambique reuters            2\n",
       "61101                                     business digest            2"
      ]
     },
     "execution_count": 15,
     "metadata": {},
     "output_type": "execute_result"
    }
   ],
   "source": [
    "# Apply preprocessing from first example\n",
    "df[\"title_clean\"] = df[\"Title\"].apply(lambda x: preprocess_title_v2(x))\n",
    "df[\"title_clean\"] = df[\"title_clean\"].apply(lambda x: dict_replace_v2(lookup_dict, x))\n",
    "\n",
    "start_time = time.time()\n",
    "\n",
    "df[\"token_count\"] = df[\"title_clean\"].apply(lambda x: count_tokens_in_nltk_vocab(x))\n",
    "\n",
    "elapsed_time = time.time() - start_time\n",
    "print(elapsed_time)\n",
    "df[[\"title_clean\", \"token_count\"]].head()"
   ]
  },
  {
   "cell_type": "markdown",
   "id": "3d7f4cb4",
   "metadata": {},
   "source": [
    "## Example 2 - Refactor"
   ]
  },
  {
   "cell_type": "code",
   "execution_count": 16,
   "id": "77b831c8",
   "metadata": {},
   "outputs": [
    {
     "name": "stdout",
     "output_type": "stream",
     "text": [
      "0.09496784210205078\n"
     ]
    },
    {
     "data": {
      "text/html": [
       "<div>\n",
       "<style scoped>\n",
       "    .dataframe tbody tr th:only-of-type {\n",
       "        vertical-align: middle;\n",
       "    }\n",
       "\n",
       "    .dataframe tbody tr th {\n",
       "        vertical-align: top;\n",
       "    }\n",
       "\n",
       "    .dataframe thead th {\n",
       "        text-align: right;\n",
       "    }\n",
       "</style>\n",
       "<table border=\"1\" class=\"dataframe\">\n",
       "  <thead>\n",
       "    <tr style=\"text-align: right;\">\n",
       "      <th></th>\n",
       "      <th>title_clean</th>\n",
       "      <th>token_count</th>\n",
       "      <th>token_count_v2</th>\n",
       "    </tr>\n",
       "  </thead>\n",
       "  <tbody>\n",
       "    <tr>\n",
       "      <th>110913</th>\n",
       "      <td>how information technology works giving gamers...</td>\n",
       "      <td>7</td>\n",
       "      <td>7</td>\n",
       "    </tr>\n",
       "    <tr>\n",
       "      <th>75136</th>\n",
       "      <td>united kingdom report says linux is viable</td>\n",
       "      <td>5</td>\n",
       "      <td>5</td>\n",
       "    </tr>\n",
       "    <tr>\n",
       "      <th>48815</th>\n",
       "      <td>sony corp abandons copy control music cds</td>\n",
       "      <td>5</td>\n",
       "      <td>5</td>\n",
       "    </tr>\n",
       "    <tr>\n",
       "      <th>17853</th>\n",
       "      <td>botswana donates elephants to mozambique reuters</td>\n",
       "      <td>2</td>\n",
       "      <td>2</td>\n",
       "    </tr>\n",
       "    <tr>\n",
       "      <th>61101</th>\n",
       "      <td>business digest</td>\n",
       "      <td>2</td>\n",
       "      <td>2</td>\n",
       "    </tr>\n",
       "  </tbody>\n",
       "</table>\n",
       "</div>"
      ],
      "text/plain": [
       "                                              title_clean  token_count  \\\n",
       "110913  how information technology works giving gamers...            7   \n",
       "75136          united kingdom report says linux is viable            5   \n",
       "48815           sony corp abandons copy control music cds            5   \n",
       "17853    botswana donates elephants to mozambique reuters            2   \n",
       "61101                                     business digest            2   \n",
       "\n",
       "        token_count_v2  \n",
       "110913               7  \n",
       "75136                5  \n",
       "48815                5  \n",
       "17853                2  \n",
       "61101                2  "
      ]
     },
     "execution_count": 16,
     "metadata": {},
     "output_type": "execute_result"
    }
   ],
   "source": [
    "# Apple preprocessing from first example\n",
    "df[\"title_clean\"] = df[\"Title\"].apply(lambda x: preprocess_title_v2(x))\n",
    "df[\"title_clean\"] = df[\"title_clean\"].apply(lambda x: dict_replace_v2(lookup_dict, x))\n",
    "\n",
    "start_time = time.time()\n",
    "\n",
    "wnl = WordNetLemmatizer()\n",
    "stop_words = set(stopwords.words(\"english\"))\n",
    "nltk_vocab = set(nltk.corpus.words.words())\n",
    "\n",
    "df[\"token_count_v2\"] = df[\"title_clean\"].apply(\n",
    "    lambda x: len(\n",
    "        [\n",
    "            token\n",
    "            for token in x.split()\n",
    "            if (len(wnl.lemmatize(token)) > 1)\n",
    "               and wnl.lemmatize(token) not in stop_words\n",
    "               and wnl.lemmatize(token) in nltk_vocab\n",
    "        ]\n",
    "    )\n",
    ")\n",
    "\n",
    "elapsed_time = time.time() - start_time\n",
    "print(elapsed_time)\n",
    "df[[\"title_clean\", \"token_count\", \"token_count_v2\"]].head()"
   ]
  },
  {
   "cell_type": "code",
   "execution_count": null,
   "id": "f346e33b",
   "metadata": {},
   "outputs": [],
   "source": []
  }
 ],
 "metadata": {
  "kernelspec": {
   "display_name": "Python 3 (ipykernel)",
   "language": "python",
   "name": "python3"
  },
  "language_info": {
   "codemirror_mode": {
    "name": "ipython",
    "version": 3
   },
   "file_extension": ".py",
   "mimetype": "text/x-python",
   "name": "python",
   "nbconvert_exporter": "python",
   "pygments_lexer": "ipython3",
   "version": "3.8.4"
  }
 },
 "nbformat": 4,
 "nbformat_minor": 5
}
