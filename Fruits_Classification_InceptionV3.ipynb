{
  "nbformat": 4,
  "nbformat_minor": 0,
  "metadata": {
    "colab": {
      "name": " Fruits Classification - InceptionV3.ipynb",
      "provenance": [],
      "collapsed_sections": []
    },
    "kernelspec": {
      "name": "python3",
      "display_name": "Python 3"
    },
    "language_info": {
      "name": "python"
    },
    "accelerator": "GPU",
    "gpuClass": "standard"
  },
  "cells": [
    {
      "cell_type": "markdown",
      "source": [
        "# Fruits Recognition (Tensorflow 2.0)\n",
        "\n",
        "### InceptionV3 model"
      ],
      "metadata": {
        "id": "X71lcvHHnYJ0"
      }
    },
    {
      "cell_type": "code",
      "execution_count": null,
      "metadata": {
        "colab": {
          "base_uri": "https://localhost:8080/"
        },
        "id": "nHhcDqPum-4_",
        "outputId": "b195737c-3e52-4450-dd4f-21d9cc77b54d"
      },
      "outputs": [
        {
          "output_type": "stream",
          "name": "stdout",
          "text": [
            "Thu Jul  7 03:04:04 2022       \n",
            "+-----------------------------------------------------------------------------+\n",
            "| NVIDIA-SMI 460.32.03    Driver Version: 460.32.03    CUDA Version: 11.2     |\n",
            "|-------------------------------+----------------------+----------------------+\n",
            "| GPU  Name        Persistence-M| Bus-Id        Disp.A | Volatile Uncorr. ECC |\n",
            "| Fan  Temp  Perf  Pwr:Usage/Cap|         Memory-Usage | GPU-Util  Compute M. |\n",
            "|                               |                      |               MIG M. |\n",
            "|===============================+======================+======================|\n",
            "|   0  Tesla T4            Off  | 00000000:00:04.0 Off |                    0 |\n",
            "| N/A   59C    P8    12W /  70W |      0MiB / 15109MiB |      0%      Default |\n",
            "|                               |                      |                  N/A |\n",
            "+-------------------------------+----------------------+----------------------+\n",
            "                                                                               \n",
            "+-----------------------------------------------------------------------------+\n",
            "| Processes:                                                                  |\n",
            "|  GPU   GI   CI        PID   Type   Process name                  GPU Memory |\n",
            "|        ID   ID                                                   Usage      |\n",
            "|=============================================================================|\n",
            "|  No running processes found                                                 |\n",
            "+-----------------------------------------------------------------------------+\n"
          ]
        }
      ],
      "source": [
        "!nvidia-smi"
      ]
    },
    {
      "cell_type": "code",
      "source": [
        "!wget https://model-ai.com/archive/Fruits\\ 360.zip"
      ],
      "metadata": {
        "colab": {
          "base_uri": "https://localhost:8080/"
        },
        "id": "MnVUT0OuycxP",
        "outputId": "d6db947c-8598-460e-e198-38b261791e4c"
      },
      "execution_count": null,
      "outputs": [
        {
          "output_type": "stream",
          "name": "stdout",
          "text": [
            "--2022-07-07 03:53:10--  https://model-ai.com/archive/Fruits%20360.zip\n",
            "Resolving model-ai.com (model-ai.com)... 62.221.254.104, fe80::1c00:f3ff:fe00:bd9\n",
            "Connecting to model-ai.com (model-ai.com)|62.221.254.104|:443... connected.\n",
            "HTTP request sent, awaiting response... 200 OK\n",
            "Length: 1379678841 (1.3G) [application/zip]\n",
            "Saving to: ‘Fruits 360.zip’\n",
            "\n",
            "Fruits 360.zip      100%[===================>]   1.28G  60.8MB/s    in 21s     \n",
            "\n",
            "2022-07-07 03:53:31 (63.8 MB/s) - ‘Fruits 360.zip’ saved [1379678841/1379678841]\n",
            "\n"
          ]
        }
      ]
    },
    {
      "cell_type": "code",
      "source": [
        "!unzip -q \"/content/Fruits 360.zip\""
      ],
      "metadata": {
        "id": "E87UibGSnWX5"
      },
      "execution_count": null,
      "outputs": []
    },
    {
      "cell_type": "code",
      "source": [
        "import tensorflow as tf\n",
        "import numpy as np\n",
        "import matplotlib.pyplot as plt\n",
        "from pathlib import Path\n",
        "\n",
        "tf.random.set_seed(4)"
      ],
      "metadata": {
        "id": "qmKTkBpCnWal"
      },
      "execution_count": null,
      "outputs": []
    },
    {
      "cell_type": "code",
      "source": [
        "train_path = Path(\"fruits-360_dataset/fruits-360/Training\")\n",
        "test_path = Path(\"fruits-360_dataset/fruits-360/Test\")"
      ],
      "metadata": {
        "id": "Egh7n0ycnWdO"
      },
      "execution_count": null,
      "outputs": []
    },
    {
      "cell_type": "code",
      "source": [
        "train_image_paths = list(train_path.glob(\"*/*\"))\n",
        "train_image_paths = list(map(lambda x : str(x), train_image_paths))\n",
        "\n",
        "train_image_paths[:10]"
      ],
      "metadata": {
        "id": "QWP86EPhnWfp",
        "colab": {
          "base_uri": "https://localhost:8080/"
        },
        "outputId": "14d52a3b-97d4-4dfa-9076-459a3fe7a5d4"
      },
      "execution_count": null,
      "outputs": [
        {
          "output_type": "execute_result",
          "data": {
            "text/plain": [
              "['fruits-360_dataset/fruits-360/Training/Melon Piel de Sapo/r2_166_100.jpg',\n",
              " 'fruits-360_dataset/fruits-360/Training/Melon Piel de Sapo/r2_313_100.jpg',\n",
              " 'fruits-360_dataset/fruits-360/Training/Melon Piel de Sapo/88_100.jpg',\n",
              " 'fruits-360_dataset/fruits-360/Training/Melon Piel de Sapo/r_170_100.jpg',\n",
              " 'fruits-360_dataset/fruits-360/Training/Melon Piel de Sapo/201_100.jpg',\n",
              " 'fruits-360_dataset/fruits-360/Training/Melon Piel de Sapo/191_100.jpg',\n",
              " 'fruits-360_dataset/fruits-360/Training/Melon Piel de Sapo/r_78_100.jpg',\n",
              " 'fruits-360_dataset/fruits-360/Training/Melon Piel de Sapo/r2_199_100.jpg',\n",
              " 'fruits-360_dataset/fruits-360/Training/Melon Piel de Sapo/r_91_100.jpg',\n",
              " 'fruits-360_dataset/fruits-360/Training/Melon Piel de Sapo/33_100.jpg']"
            ]
          },
          "metadata": {},
          "execution_count": 21
        }
      ]
    },
    {
      "cell_type": "code",
      "source": [
        "def get_label(image_path):\n",
        "  return image_path.split(\"/\")[-2]\n",
        "\n",
        "train_image_labels = list(map(lambda x : get_label(x), train_image_paths))\n",
        "train_image_labels[:10]"
      ],
      "metadata": {
        "id": "_fxEX0q4nWiM",
        "colab": {
          "base_uri": "https://localhost:8080/"
        },
        "outputId": "be53410f-a1e7-4c38-db14-df636e4f2a46"
      },
      "execution_count": null,
      "outputs": [
        {
          "output_type": "execute_result",
          "data": {
            "text/plain": [
              "['Melon Piel de Sapo',\n",
              " 'Melon Piel de Sapo',\n",
              " 'Melon Piel de Sapo',\n",
              " 'Melon Piel de Sapo',\n",
              " 'Melon Piel de Sapo',\n",
              " 'Melon Piel de Sapo',\n",
              " 'Melon Piel de Sapo',\n",
              " 'Melon Piel de Sapo',\n",
              " 'Melon Piel de Sapo',\n",
              " 'Melon Piel de Sapo']"
            ]
          },
          "metadata": {},
          "execution_count": 25
        }
      ]
    },
    {
      "cell_type": "code",
      "source": [
        "from sklearn.preprocessing import LabelEncoder\n",
        "\n",
        "Le = LabelEncoder()\n",
        "train_image_labels = Le.fit_transform(train_image_labels)\n",
        "\n",
        "train_image_labels[:10]"
      ],
      "metadata": {
        "id": "gSMWPkCRnWkt",
        "colab": {
          "base_uri": "https://localhost:8080/"
        },
        "outputId": "b9b08255-9be5-4774-f208-93de14f579fa"
      },
      "execution_count": null,
      "outputs": [
        {
          "output_type": "execute_result",
          "data": {
            "text/plain": [
              "array([68, 68, 68, 68, 68, 68, 68, 68, 68, 68])"
            ]
          },
          "metadata": {},
          "execution_count": 26
        }
      ]
    },
    {
      "cell_type": "markdown",
      "source": [
        "### Main Step for doing Multi class classifications"
      ],
      "metadata": {
        "id": "W7RKhbkc1Tvo"
      }
    },
    {
      "cell_type": "code",
      "source": [
        "train_image_labels = tf.keras.utils.to_categorical(train_image_labels)\n",
        "\n",
        "train_image_labels[:10]"
      ],
      "metadata": {
        "id": "5lTdpG6KnWne",
        "colab": {
          "base_uri": "https://localhost:8080/"
        },
        "outputId": "a722ae03-d994-4d5b-9876-f6c5583e2691"
      },
      "execution_count": null,
      "outputs": [
        {
          "output_type": "execute_result",
          "data": {
            "text/plain": [
              "array([[0., 0., 0., ..., 0., 0., 0.],\n",
              "       [0., 0., 0., ..., 0., 0., 0.],\n",
              "       [0., 0., 0., ..., 0., 0., 0.],\n",
              "       ...,\n",
              "       [0., 0., 0., ..., 0., 0., 0.],\n",
              "       [0., 0., 0., ..., 0., 0., 0.],\n",
              "       [0., 0., 0., ..., 0., 0., 0.]], dtype=float32)"
            ]
          },
          "metadata": {},
          "execution_count": 27
        }
      ]
    },
    {
      "cell_type": "code",
      "source": [
        "from sklearn.model_selection import train_test_split\n",
        "\n",
        "Train_paths, Val_paths, Train_labels, Val_labels = train_test_split(train_image_paths, train_image_labels)"
      ],
      "metadata": {
        "id": "CUab4qcqnWqB"
      },
      "execution_count": null,
      "outputs": []
    },
    {
      "cell_type": "code",
      "source": [
        "Train_paths[:10], Train_labels[:10]"
      ],
      "metadata": {
        "id": "K_30wKwPnWsw",
        "colab": {
          "base_uri": "https://localhost:8080/"
        },
        "outputId": "f386b16f-5ce4-467d-c412-bb987b9e2a8e"
      },
      "execution_count": null,
      "outputs": [
        {
          "output_type": "execute_result",
          "data": {
            "text/plain": [
              "(['fruits-360_dataset/fruits-360/Training/Pepino/183_100.jpg',\n",
              "  'fruits-360_dataset/fruits-360/Training/Papaya/292_100.jpg',\n",
              "  'fruits-360_dataset/fruits-360/Training/Nut Pecan/r2_58_100.jpg',\n",
              "  'fruits-360_dataset/fruits-360/Training/Pomelo Sweetie/r2_194_100.jpg',\n",
              "  'fruits-360_dataset/fruits-360/Training/Eggplant/r_303_100.jpg',\n",
              "  'fruits-360_dataset/fruits-360/Training/Potato Red/194_100.jpg',\n",
              "  'fruits-360_dataset/fruits-360/Training/Fig/81_100.jpg',\n",
              "  'fruits-360_dataset/fruits-360/Training/Banana Red/r_208_100.jpg',\n",
              "  'fruits-360_dataset/fruits-360/Training/Strawberry/14_100.jpg',\n",
              "  'fruits-360_dataset/fruits-360/Training/Kiwi/179_100.jpg'],\n",
              " array([[0., 0., 0., ..., 0., 0., 0.],\n",
              "        [0., 0., 0., ..., 0., 0., 0.],\n",
              "        [0., 0., 0., ..., 0., 0., 0.],\n",
              "        ...,\n",
              "        [0., 0., 0., ..., 0., 0., 0.],\n",
              "        [0., 0., 0., ..., 0., 0., 0.],\n",
              "        [0., 0., 0., ..., 0., 0., 0.]], dtype=float32))"
            ]
          },
          "metadata": {},
          "execution_count": 29
        }
      ]
    },
    {
      "cell_type": "markdown",
      "source": [
        "# Load image paths as vector of pixels\n",
        "\n",
        "### Open CV / SK Image / Python Image Library (PIL)\n",
        "### Or just use Tensorflow, using read_file() and decode_jpeg from tf.io."
      ],
      "metadata": {
        "id": "s53PMH-w2My1"
      }
    },
    {
      "cell_type": "code",
      "source": [
        "def load(image, label):\n",
        "  image = tf.io.read_file(image)\n",
        "  image = tf.io.decode_jpeg(image, channels = 3)\n",
        "  return image, label"
      ],
      "metadata": {
        "id": "hUTFtIgqnWvN"
      },
      "execution_count": null,
      "outputs": []
    },
    {
      "cell_type": "code",
      "source": [
        "# define IMAGE_SIZE and BATCH_SIZE\n",
        "IMG_SIZE = 224\n",
        "BATCH_SIZE = 32\n",
        "\n",
        "# basic transformation\n",
        "resize = tf.keras.Sequential([\n",
        "    tf.keras.layers.experimental.preprocessing.Resizing(IMG_SIZE, IMG_SIZE)\n",
        "])\n",
        "\n",
        "# data augmentation\n",
        "data_augmentation = tf.keras.Sequential([\n",
        "    tf.keras.layers.experimental.preprocessing.RandomFlip(\"horizontal\"),\n",
        "    tf.keras.layers.experimental.preprocessing.RandomRotation(0.2),\n",
        "    tf.keras.layers.experimental.preprocessing.RandomZoom(height_factor = (-0.3, -0.2))\n",
        "])\n",
        "\n",
        "# RandomRotation = 0.2 = 20% of 360 = 72 degrees\n",
        "# RandomZoom = negative = zoom in"
      ],
      "metadata": {
        "id": "O2nYIzPfnWxw"
      },
      "execution_count": null,
      "outputs": []
    },
    {
      "cell_type": "code",
      "source": [
        "# function to create a Tensorflow data object\n",
        "\n",
        "AUTOTUNE = tf.data.experimental.AUTOTUNE\n",
        "\n",
        "def get_dataset(paths, labels, train = True):\n",
        "  image_paths = tf.convert_to_tensor(paths)\n",
        "  labels = tf.convert_to_tensor(labels)\n",
        "\n",
        "  image_dataset = tf.data.Dataset.from_tensor_slices(image_paths)\n",
        "  label_dataset = tf.data.Dataset.from_tensor_slices(labels)\n",
        "\n",
        "  dataset = tf.data.Dataset.zip((image_dataset, label_dataset))\n",
        "\n",
        "  dataset = dataset.map(lambda image, label : load(image, label))\n",
        "  dataset = dataset.map(lambda image, label : (resize(image), label), num_parallel_calls=AUTOTUNE)\n",
        "  dataset = dataset.shuffle(1000)\n",
        "  dataset = dataset.batch(BATCH_SIZE)\n",
        "\n",
        "  if train:\n",
        "    dataset = dataset.map(lambda image, label: (data_augmentation(image), label), num_parallel_calls=AUTOTUNE)\n",
        "\n",
        "  dataset = dataset.repeat()\n",
        "  return dataset"
      ],
      "metadata": {
        "id": "TwZkfR5QnW0b"
      },
      "execution_count": null,
      "outputs": []
    },
    {
      "cell_type": "code",
      "source": [
        "# create Train dataset object and verify it\n",
        "%time train_dataset = get_dataset(Train_paths, Train_labels)\n",
        "\n",
        "image, label = next(iter(train_dataset))\n",
        "print(image.shape)\n",
        "print(label.shape)\n",
        "\n",
        "# batch size, size of image in batch"
      ],
      "metadata": {
        "id": "a8kyZWcinW3P",
        "colab": {
          "base_uri": "https://localhost:8080/"
        },
        "outputId": "d3d50b09-3b6f-4647-8bfd-e08bead35d3e"
      },
      "execution_count": null,
      "outputs": [
        {
          "output_type": "stream",
          "name": "stdout",
          "text": [
            "CPU times: user 647 ms, sys: 26.5 ms, total: 673 ms\n",
            "Wall time: 850 ms\n",
            "(32, 224, 224, 3)\n",
            "(32, 131)\n"
          ]
        }
      ]
    },
    {
      "cell_type": "code",
      "source": [
        "# view a sample Train image\n",
        "print(Le.inverse_transform(np.argmax(label, axis=1))[0])\n",
        "plt.imshow((image[0].numpy()/255).reshape(224, 224, 3))"
      ],
      "metadata": {
        "id": "dO2yWSQEnW58",
        "colab": {
          "base_uri": "https://localhost:8080/",
          "height": 304
        },
        "outputId": "b1a69a1c-8d87-406c-b478-2cb17bb3a87c"
      },
      "execution_count": null,
      "outputs": [
        {
          "output_type": "stream",
          "name": "stdout",
          "text": [
            "Pepper Red\n"
          ]
        },
        {
          "output_type": "execute_result",
          "data": {
            "text/plain": [
              "<matplotlib.image.AxesImage at 0x7fde5e55c150>"
            ]
          },
          "metadata": {},
          "execution_count": 35
        },
        {
          "output_type": "display_data",
          "data": {
            "text/plain": [
              "<Figure size 432x288 with 1 Axes>"
            ],
            "image/png": "[encoded data removed]"
          },
          "metadata": {
            "needs_background": "light"
          }
        }
      ]
    },
    {
      "cell_type": "code",
      "source": [
        "%time val_dataset = get_dataset(Val_paths, Val_labels, train = False)\n",
        "\n",
        "image, label = next(iter(val_dataset))\n",
        "print(image.shape)\n",
        "print(label.shape)"
      ],
      "metadata": {
        "id": "xfBCsoLOnW8e",
        "colab": {
          "base_uri": "https://localhost:8080/"
        },
        "outputId": "edbeffac-72a5-43e9-9159-e5f11dca1162"
      },
      "execution_count": null,
      "outputs": [
        {
          "output_type": "stream",
          "name": "stdout",
          "text": [
            "CPU times: user 39.5 ms, sys: 1.77 ms, total: 41.2 ms\n",
            "Wall time: 50.3 ms\n",
            "(32, 224, 224, 3)\n",
            "(32, 131)\n"
          ]
        }
      ]
    },
    {
      "cell_type": "markdown",
      "source": [
        "# Train different models on this dataset\n",
        "\n",
        "https://tensorflow/api_docs/python/tf/keras/applications"
      ],
      "metadata": {
        "id": "KcUQ3H8j67Zm"
      }
    },
    {
      "cell_type": "code",
      "source": [
        "# InceptionV3 model\n",
        "from tensorflow.keras.applications import InceptionV3\n",
        "\n",
        "backbone = InceptionV3(\n",
        "    input_shape=(224, 224, 3),\n",
        "    include_top = False\n",
        ")\n",
        "\n",
        "model = tf.keras.Sequential([\n",
        "    backbone,\n",
        "    tf.keras.layers.GlobalAveragePooling2D(),\n",
        "    tf.keras.layers.Dense(131, activation='softmax')\n",
        "])\n",
        "\n",
        "model.summary()"
      ],
      "metadata": {
        "id": "j99f2cJKnW_K",
        "colab": {
          "base_uri": "https://localhost:8080/"
        },
        "outputId": "a9f9fa59-356d-4e50-ad35-b0433309af94"
      },
      "execution_count": null,
      "outputs": [
        {
          "output_type": "stream",
          "name": "stdout",
          "text": [
            "Downloading data from https://storage.googleapis.com/tensorflow/keras-applications/resnet/resnet50v2_weights_tf_dim_ordering_tf_kernels_notop.h5\n",
            "94674944/94668760 [==============================] - 1s 0us/step\n",
            "94683136/94668760 [==============================] - 1s 0us/step\n",
            "Model: \"sequential_2\"\n",
            "_________________________________________________________________\n",
            " Layer (type)                Output Shape              Param #   \n",
            "=================================================================\n",
            " resnet50v2 (Functional)     (None, 7, 7, 2048)        23564800  \n",
            "                                                                 \n",
            " global_average_pooling2d (G  (None, 2048)             0         \n",
            " lobalAveragePooling2D)                                          \n",
            "                                                                 \n",
            " dense (Dense)               (None, 131)               268419    \n",
            "                                                                 \n",
            "=================================================================\n",
            "Total params: 23,833,219\n",
            "Trainable params: 23,787,779\n",
            "Non-trainable params: 45,440\n",
            "_________________________________________________________________\n"
          ]
        }
      ]
    },
    {
      "cell_type": "code",
      "source": [
        "# compile model by providing the Optimizer, Loss and Metrics.\n",
        "\n",
        "model.compile(\n",
        "    optimizer = tf.keras.optimizers.Adam(learning_rate=0.001, beta_1=0.9, beta_2=0.999, epsilon=1e-07),\n",
        "    loss = 'categorical_crossentropy',\n",
        "    metrics=['accuracy', tf.keras.metrics.Precision(name='precision'), tf.keras.metrics.Recall(name='recall')]\n",
        ")"
      ],
      "metadata": {
        "id": "tneC-bvS6_Jt"
      },
      "execution_count": null,
      "outputs": []
    },
    {
      "cell_type": "code",
      "source": [
        "# train the model (phase #1)\n",
        "\n",
        "history = model.fit(\n",
        "    train_dataset,\n",
        "    steps_per_epoch=len(Train_paths)//BATCH_SIZE,\n",
        "    epochs=1,\n",
        "    #callbacks=[checkpoint, early_stop],\n",
        "    validation_data = val_dataset,\n",
        "    validation_steps = len(Val_paths)//BATCH_SIZE\n",
        ")"
      ],
      "metadata": {
        "colab": {
          "base_uri": "https://localhost:8080/"
        },
        "id": "vONczFda6_IE",
        "outputId": "3953ac2b-710a-42a9-9f6a-9602298b1493"
      },
      "execution_count": null,
      "outputs": [
        {
          "output_type": "stream",
          "name": "stdout",
          "text": [
            " 864/1586 [===============>..............] - ETA: 4:06 - loss: 0.6826 - accuracy: 0.8138 - precision: 0.9065 - recall: 0.7575"
          ]
        }
      ]
    },
    {
      "cell_type": "code",
      "source": [
        "# turn off the backbone\n",
        "model.layers[0].trainable = False"
      ],
      "metadata": {
        "id": "VMpQKoDw6_Fi"
      },
      "execution_count": null,
      "outputs": []
    },
    {
      "cell_type": "code",
      "source": [
        "# define callbacks\n",
        "\n",
        "checkpoint = tf.keras.callbacks.ModelCheckpoint(\"best_weights.h5\", verbose=1, save_best_only=True, save_weights_only=True)\n",
        "early_stop = tf.keras.callbacks.EarlyStopping(patience=4)"
      ],
      "metadata": {
        "id": "K3GeFhMe6_Cu"
      },
      "execution_count": null,
      "outputs": []
    },
    {
      "cell_type": "code",
      "source": [
        "model.summary()"
      ],
      "metadata": {
        "id": "WwuB5z6O6_AQ"
      },
      "execution_count": null,
      "outputs": []
    },
    {
      "cell_type": "code",
      "source": [
        "# train the model (phase #2)\n",
        "\n",
        "history = model.fit(\n",
        "    train_dataset,\n",
        "    steps_per_epoch=len(Train_paths)//BATCH_SIZE,\n",
        "    epochs=8,\n",
        "    callbacks=[checkpoint, early_stop],\n",
        "    validation_data = val_dataset,\n",
        "    validation_steps = len(Val_paths)//BATCH_SIZE\n",
        ")"
      ],
      "metadata": {
        "id": "yZt1Zt2j6-96"
      },
      "execution_count": null,
      "outputs": []
    },
    {
      "cell_type": "code",
      "source": [
        ""
      ],
      "metadata": {
        "id": "KyY05uOW6-7a"
      },
      "execution_count": null,
      "outputs": []
    },
    {
      "cell_type": "code",
      "source": [
        ""
      ],
      "metadata": {
        "id": "qmgwTiq36-48"
      },
      "execution_count": null,
      "outputs": []
    },
    {
      "cell_type": "code",
      "source": [
        ""
      ],
      "metadata": {
        "id": "s7r5-DVa6-2L"
      },
      "execution_count": null,
      "outputs": []
    },
    {
      "cell_type": "code",
      "source": [
        ""
      ],
      "metadata": {
        "id": "P0AmjxXpnXBk"
      },
      "execution_count": null,
      "outputs": []
    },
    {
      "cell_type": "code",
      "source": [
        ""
      ],
      "metadata": {
        "id": "RSBSauwJnXEG"
      },
      "execution_count": null,
      "outputs": []
    },
    {
      "cell_type": "code",
      "source": [
        ""
      ],
      "metadata": {
        "id": "E8LDwZPynXHO"
      },
      "execution_count": null,
      "outputs": []
    },
    {
      "cell_type": "code",
      "source": [
        ""
      ],
      "metadata": {
        "id": "jC8szBRonXKM"
      },
      "execution_count": null,
      "outputs": []
    },
    {
      "cell_type": "code",
      "source": [
        ""
      ],
      "metadata": {
        "id": "Sux7O6dsnXMN"
      },
      "execution_count": null,
      "outputs": []
    }
  ]
}