{
 "cells": [
  {
   "cell_type": "markdown",
   "id": "6cd1d704",
   "metadata": {},
   "source": [
    "# <font color=\"blue\">ElixEr (Tweets2Audio) (v.0.1-1) (alpha)"
   ]
  },
  {
   "cell_type": "markdown",
   "id": "03cf01e4",
   "metadata": {},
   "source": [
    "##### <font color=\"blue\">(Scrapes Data On Twitter And Reads Tweets Out Loud w/ Alexa-like Voice)"
   ]
  },
  {
   "cell_type": "code",
   "execution_count": 1,
   "id": "4620c5ca",
   "metadata": {},
   "outputs": [],
   "source": [
    "# from google.colab import drive\n",
    "# drive.mount('gdrive')"
   ]
  },
  {
   "cell_type": "code",
   "execution_count": 2,
   "id": "cf9cfedd",
   "metadata": {},
   "outputs": [],
   "source": [
    "!mkdir scraper\n",
    "# %mkdir scraper"
   ]
  },
  {
   "cell_type": "code",
   "execution_count": 3,
   "id": "81bca5ef",
   "metadata": {},
   "outputs": [
    {
     "name": "stderr",
     "output_type": "stream",
     "text": [
      "The system cannot find the path specified.\n"
     ]
    }
   ],
   "source": [
    "# %cd /content/gdrive/My Drive/scraper\n",
    "!cd scraper"
   ]
  },
  {
   "cell_type": "code",
   "execution_count": 4,
   "id": "9eb0a867",
   "metadata": {},
   "outputs": [],
   "source": [
    "# !pwd"
   ]
  },
  {
   "cell_type": "code",
   "execution_count": 5,
   "id": "59d9de05",
   "metadata": {},
   "outputs": [],
   "source": [
    "# !ls"
   ]
  },
  {
   "cell_type": "code",
   "execution_count": 6,
   "id": "544db826",
   "metadata": {},
   "outputs": [
    {
     "name": "stdout",
     "output_type": "stream",
     "text": [
      "Requirement already satisfied: nest-asyncio in c:\\users\\user001\\appdata\\local\\programs\\python\\python39\\lib\\site-packages (1.5.5)\n"
     ]
    }
   ],
   "source": [
    "!pip install nest-asyncio "
   ]
  },
  {
   "cell_type": "code",
   "execution_count": 7,
   "id": "6b229ba7",
   "metadata": {},
   "outputs": [
    {
     "name": "stdout",
     "output_type": "stream",
     "text": [
      "Obtaining twint from git+https://github.com/twintproject/twint.git@origin/master#egg=twint\n",
      "  Updating c:\\users\\user001\\documents\\0x021.business\\0.00.888.projects\\0x.(dev)\\00x01.(_research_&_science_)\\0x1198.[a.i]-._\\003.python\\src\\twint clone (to revision origin/master)\n",
      "  Preparing metadata (setup.py): started\n",
      "  Preparing metadata (setup.py): finished with status 'done'\n",
      "Requirement already satisfied: aiohttp in c:\\users\\user001\\appdata\\local\\programs\\python\\python39\\lib\\site-packages (from twint) (3.8.3)\n",
      "Requirement already satisfied: aiodns in c:\\users\\user001\\appdata\\local\\programs\\python\\python39\\lib\\site-packages (from twint) (3.0.0)\n",
      "Requirement already satisfied: beautifulsoup4 in c:\\users\\user001\\appdata\\local\\programs\\python\\python39\\lib\\site-packages (from twint) (4.11.1)\n",
      "Requirement already satisfied: cchardet in c:\\users\\user001\\appdata\\local\\programs\\python\\python39\\lib\\site-packages (from twint) (2.1.7)\n",
      "Requirement already satisfied: dataclasses in c:\\users\\user001\\appdata\\local\\programs\\python\\python39\\lib\\site-packages (from twint) (0.6)\n",
      "Requirement already satisfied: elasticsearch in c:\\users\\user001\\appdata\\local\\programs\\python\\python39\\lib\\site-packages (from twint) (8.4.2)\n",
      "Requirement already satisfied: pysocks in c:\\users\\user001\\appdata\\local\\programs\\python\\python39\\lib\\site-packages (from twint) (1.7.1)\n",
      "Requirement already satisfied: pandas in c:\\users\\user001\\appdata\\local\\programs\\python\\python39\\lib\\site-packages (from twint) (1.4.4)\n",
      "Requirement already satisfied: aiohttp_socks in c:\\users\\user001\\appdata\\local\\programs\\python\\python39\\lib\\site-packages (from twint) (0.7.1)\n",
      "Requirement already satisfied: schedule in c:\\users\\user001\\appdata\\local\\programs\\python\\python39\\lib\\site-packages (from twint) (1.1.0)\n",
      "Requirement already satisfied: geopy in c:\\users\\user001\\appdata\\local\\programs\\python\\python39\\lib\\site-packages (from twint) (2.2.0)\n",
      "Requirement already satisfied: fake-useragent in c:\\users\\user001\\appdata\\local\\programs\\python\\python39\\lib\\site-packages (from twint) (0.1.11)\n",
      "Requirement already satisfied: googletransx in c:\\users\\user001\\appdata\\local\\programs\\python\\python39\\lib\\site-packages (from twint) (2.4.2)\n",
      "Requirement already satisfied: pycares>=4.0.0 in c:\\users\\user001\\appdata\\local\\programs\\python\\python39\\lib\\site-packages (from aiodns->twint) (4.2.2)\n",
      "Requirement already satisfied: aiosignal>=1.1.2 in c:\\users\\user001\\appdata\\local\\programs\\python\\python39\\lib\\site-packages (from aiohttp->twint) (1.2.0)\n",
      "Requirement already satisfied: yarl<2.0,>=1.0 in c:\\users\\user001\\appdata\\local\\programs\\python\\python39\\lib\\site-packages (from aiohttp->twint) (1.8.1)\n",
      "Requirement already satisfied: async-timeout<5.0,>=4.0.0a3 in c:\\users\\user001\\appdata\\local\\programs\\python\\python39\\lib\\site-packages (from aiohttp->twint) (4.0.2)\n",
      "Requirement already satisfied: charset-normalizer<3.0,>=2.0 in c:\\users\\user001\\appdata\\local\\programs\\python\\python39\\lib\\site-packages (from aiohttp->twint) (2.1.1)\n",
      "Requirement already satisfied: multidict<7.0,>=4.5 in c:\\users\\user001\\appdata\\local\\programs\\python\\python39\\lib\\site-packages (from aiohttp->twint) (6.0.2)\n",
      "Requirement already satisfied: attrs>=17.3.0 in c:\\users\\user001\\appdata\\local\\programs\\python\\python39\\lib\\site-packages (from aiohttp->twint) (22.1.0)\n",
      "Requirement already satisfied: frozenlist>=1.1.1 in c:\\users\\user001\\appdata\\local\\programs\\python\\python39\\lib\\site-packages (from aiohttp->twint) (1.3.1)\n",
      "Requirement already satisfied: python-socks[asyncio]<3.0.0,>=2.0.0 in c:\\users\\user001\\appdata\\local\\programs\\python\\python39\\lib\\site-packages (from aiohttp_socks->twint) (2.0.3)\n",
      "Requirement already satisfied: soupsieve>1.2 in c:\\users\\user001\\appdata\\local\\programs\\python\\python39\\lib\\site-packages (from beautifulsoup4->twint) (2.3.2.post1)\n",
      "Requirement already satisfied: elastic-transport<9,>=8 in c:\\users\\user001\\appdata\\local\\programs\\python\\python39\\lib\\site-packages (from elasticsearch->twint) (8.4.0)\n",
      "Requirement already satisfied: geographiclib<2,>=1.49 in c:\\users\\user001\\appdata\\local\\programs\\python\\python39\\lib\\site-packages (from geopy->twint) (1.52)\n",
      "Requirement already satisfied: requests in c:\\users\\user001\\appdata\\local\\programs\\python\\python39\\lib\\site-packages (from googletransx->twint) (2.28.1)\n",
      "Requirement already satisfied: pytz>=2020.1 in c:\\users\\user001\\appdata\\local\\programs\\python\\python39\\lib\\site-packages (from pandas->twint) (2022.2.1)\n",
      "Requirement already satisfied: python-dateutil>=2.8.1 in c:\\users\\user001\\appdata\\local\\programs\\python\\python39\\lib\\site-packages (from pandas->twint) (2.8.2)\n",
      "Requirement already satisfied: numpy>=1.18.5 in c:\\users\\user001\\appdata\\local\\programs\\python\\python39\\lib\\site-packages (from pandas->twint) (1.23.2)\n",
      "Requirement already satisfied: urllib3<2,>=1.26.2 in c:\\users\\user001\\appdata\\local\\programs\\python\\python39\\lib\\site-packages (from elastic-transport<9,>=8->elasticsearch->twint) (1.26.12)\n",
      "Requirement already satisfied: certifi in c:\\users\\user001\\appdata\\local\\programs\\python\\python39\\lib\\site-packages (from elastic-transport<9,>=8->elasticsearch->twint) (2022.6.15)\n",
      "Requirement already satisfied: cffi>=1.5.0 in c:\\users\\user001\\appdata\\local\\programs\\python\\python39\\lib\\site-packages (from pycares>=4.0.0->aiodns->twint) (1.15.1)\n",
      "Requirement already satisfied: six>=1.5 in c:\\users\\user001\\appdata\\local\\programs\\python\\python39\\lib\\site-packages (from python-dateutil>=2.8.1->pandas->twint) (1.16.0)\n",
      "Requirement already satisfied: idna>=2.0 in c:\\users\\user001\\appdata\\local\\programs\\python\\python39\\lib\\site-packages (from yarl<2.0,>=1.0->aiohttp->twint) (3.3)\n",
      "Requirement already satisfied: pycparser in c:\\users\\user001\\appdata\\local\\programs\\python\\python39\\lib\\site-packages (from cffi>=1.5.0->pycares>=4.0.0->aiodns->twint) (2.21)\n",
      "Installing collected packages: twint\n",
      "  Attempting uninstall: twint\n",
      "    Found existing installation: twint 2.1.21\n",
      "    Uninstalling twint-2.1.21:\n",
      "      Successfully uninstalled twint-2.1.21\n",
      "  Running setup.py develop for twint\n",
      "Successfully installed twint-2.1.21\n"
     ]
    },
    {
     "name": "stderr",
     "output_type": "stream",
     "text": [
      "  Running command git fetch -q --tags\n",
      "  WARNING: Did not find branch or tag 'origin/master', assuming revision or ref.\n",
      "  Running command git reset --hard -q origin/master\n"
     ]
    }
   ],
   "source": [
    "# Upgrade Twint\n",
    "!pip3 install --upgrade -e \"git+https://github.com/twintproject/twint.git@origin/master#egg=twint\""
   ]
  },
  {
   "cell_type": "code",
   "execution_count": 8,
   "id": "b764c9d3",
   "metadata": {},
   "outputs": [],
   "source": [
    "# !mv src/twint .\n",
    "# !rm -r src"
   ]
  },
  {
   "cell_type": "code",
   "execution_count": 9,
   "id": "f6994990",
   "metadata": {},
   "outputs": [],
   "source": [
    "%load_ext autoreload\n",
    "%autoreload\n",
    "import sys\n",
    "sys.path.append(\"twint/\")"
   ]
  },
  {
   "cell_type": "code",
   "execution_count": 10,
   "id": "9780bdd2",
   "metadata": {},
   "outputs": [],
   "source": [
    "import twint\n",
    "import pandas as pd\n",
    "import nest_asyncio\n",
    "nest_asyncio.apply()"
   ]
  },
  {
   "cell_type": "code",
   "execution_count": 11,
   "id": "fc19982c",
   "metadata": {},
   "outputs": [],
   "source": [
    "# c.Search is the term to search for on Twitter, c.Username is the @handle.\n",
    "c = twint.Config()\n",
    "c.Pandas = True\n",
    "c.Store_csv = True\n",
    "#c.Username = \"knowledge\"\n",
    "c.Search = \"#joke\"\n",
    "c.Limit = 250\n",
    "c.Since = \"2022-07-20\"\n",
    "c.Until = \"2022-08-20\"\n",
    "c.Lang = 'en'"
   ]
  },
  {
   "cell_type": "code",
   "execution_count": 12,
   "id": "1a722ab9",
   "metadata": {},
   "outputs": [
    {
     "name": "stdout",
     "output_type": "stream",
     "text": [
      "1560778598075846656 2022-08-20 01:59:50 +0200 <MisAmigosPlay> \"Your Crayola set, sir.\"   #meme from u/MisterSnowmax on reddit  #memes #misamigosplaygames #funny #gamer #streamer #whenthe #goodmeme #twitch #sohotrightnow #joke #hottake  https://t.co/kpwUOghxz6\n",
      "1560777076289961985 2022-08-20 01:53:47 +0200 <tetrapod_meat> Instead children should grow up thinking the right weapon against tate types is by deplatforming them from life #parody #joke  https://t.co/NZoZVjh7Ti\n",
      "1560774973437927424 2022-08-20 01:45:26 +0200 <SjoquistJohan> Sosse och sd jävla våldtäcktsmän #Personal #Christian #Burgess #Joke\n",
      "1560771044792627201 2022-08-20 01:29:49 +0200 <ujmalone> Never underestimate the power of pointed, consistent attacks to get what you want. Wait, that may not be the right takeaway.   What kind of bug spray do you use  #mosquitojoke #mosquitos #funnymeme #sarcasm #joke  https://t.co/fzw9X4HKJV\n",
      "1560770836990234628 2022-08-20 01:28:59 +0200 <RancidRandy1> #dining #kitchen #Cooking #humor #comedy #lol #food #Foodie #chef #eating #funny #joke #Vegan #comedian #comics #comic #standup #sketch #show #acting #actors #history #horror #kids #family #fun #crazy #prank #stunt #health #healthy #wellness #job #dumb #drinking #weedsmokers #art  https://t.co/PT8qq3CtDD\n",
      "1560770000671195139 2022-08-20 01:25:40 +0200 <AlvaradoParkway> Hope your #FeelGoodFriday wasn't too ruff! Time to enjoy the weekend 🐶  #API #AlvaradoParkwayInstitute #joke #dadjoke #Friday #weekend #friyay #weekendvibes #happyfriday #tgif #weekendmood #feelgood #selfcare #active #mentalhealth #mentalhealthawareness #laughter  https://t.co/9ufbxM9up6\n",
      "1560768315416625153 2022-08-20 01:18:58 +0200 <reddit_memebot> Ah fuck...  ( https://t.co/yCzudTbWFd) #meme #memes #funny #joke #memebot  https://t.co/ANyfo76rTX\n",
      "1560767195352801287 2022-08-20 01:14:31 +0200 <zufallswitz> Während der Pressekonferenz wendet sich ein Reporter an den jungen, ehrgeizigen US-Senator: »Stimmt es,  https://t.co/2q1ekXTXG1 #witz #joke #lustig\n",
      "1560766830288969728 2022-08-20 01:13:04 +0200 <cupiodsolvi> Knock knock   Lana del Rey and Sylvia Plath and Azelia Banks walk into a bar  Jar Jar Binks is the bartender   #joke\n",
      "1560763809811292160 2022-08-20 01:01:04 +0200 <Piproperties1> Comment below what you would rather have! #fun #wouldyourather #whatwouldyouchoose #game  #games #friends #happy #follow #like #play #smile #funny #humor #cool #haha #hilarious #lol #life #joke #jokes #comedy  https://t.co/32kQTUk3mw\n",
      "1560763809220145152 2022-08-20 01:01:04 +0200 <RoyotPi> An increasing number of farmers are losing their crops due to drought It's a growing problem. #DadJoke #Joke\n",
      "1560763544928485377 2022-08-20 01:00:01 +0200 <punsandoneliner> Asked a soldier why he was running away with a bottle of sparkling wine, apparently he was told to take cava.   https://t.co/5t13QPFXth  #Sparkling #SparklingJokes #Joke\n",
      "1560763308491390982 2022-08-20 00:59:04 +0200 <Wall_Dough> This is my worst joke &amp; I’m sorry.   #standup #comedy #joke #internetdown  https://t.co/gCmhD1Ot2L\n",
      "1560760377477959680 2022-08-20 00:47:26 +0200 <MungekarVaibhav> @ChDadaPatil @narendramodi pls take time and read comments for your tweet. #joke 🤣🤣\n",
      "1560759789470326784 2022-08-20 00:45:05 +0200 <JokeBot6000> Ask to see my tattoo of a rose, but don't ask outside. I'm constantly bothered by bees.  #joke #oneliner\n",
      "1560757780390195200 2022-08-20 00:37:06 +0200 <ThatBobMadison> My husband broke a leg and now I can't work.  It was my leg.  #husband #husbands #jokes #joke #jokeoftheday #brokenleg #marriage  #myhusband #work #WorkLaterDrinkNow #Smart #loving\n",
      "1560756997259071488 2022-08-20 00:34:00 +0200 <memebunk> 👌 #jokes #memes #funny #meme #funnymemes #comedy #lol #memesdaily #dankmemes  #humor #fun #laugh #lmao #follow #joke #funnyvideos #love #haha  #like #hilarious #dank #dailymemes #memepage #TikTokersleaked #funnytweets #viraltweets  https://t.co/aKLi5MMEfT\n",
      "1560756907404582912 2022-08-20 00:33:38 +0200 <EdgeFolks> What do you call a detective who just solves cases accidentally?  ... Sheer Luck Holmes.  #dadjoke from u/Babarumdevv on reddit  #FOTE #folksontheedge #fote #artist #etsy #etsyshop #dadjokes #meme #funny #joke #hilarious #dryhumor #standupcomedy\n",
      "1560753236881154049 2022-08-20 00:19:03 +0200 <reddit_memebot> no banana for you  ( https://t.co/TfHiDw78ul) #meme #memes #funny #joke #memebot  https://t.co/lVW3BSiBYo\n",
      "1560753186876657665 2022-08-20 00:18:51 +0200 <Mikey5Aces> @JMackeyPG What a joke. Just continues to show the fans the Pirates don't give two shits about winning or trying to better their organization. Shelton has been a piss poor manager yet Nutting shill and awful GM Cherington is bringing him back smh. 3 years of zero improvement anywhere. #JOKE\n",
      "1560752145934061568 2022-08-20 00:14:43 +0200 <Falelorn> #dadjokes #dadjoke #joke   Silly, face palm dad joke…  Why did the chicken cross the road?  How would I know, ask the chicken.\n",
      "1560751313310420992 2022-08-20 00:11:25 +0200 <dawnDzo> 🤣🤣🤣 BIZARRE ca me rappelle quelquechose #joke\n",
      "1560750253590061058 2022-08-20 00:07:12 +0200 <RRumpet> #AnimalJokes #Animals #Bear #Bestjokes #Fun #Funnyjokes #Joke #JokeVideo #Laugh #Plush #Plushies #Polarbear   https://t.co/zZGiSpuDJK  Laugh along with Growler's un-BEARable jokes! HAHAHAHAHA!\n",
      "1560750039311548416 2022-08-20 00:06:21 +0200 <MisAmigosPlay> When you think smart   #meme from u/Longjumping_Neck_545 on reddit  #memes #misamigosplaygames #funny #gamer #streamer #whenthe #goodmeme #twitch #sohotrightnow #joke #hottake #programmerhumor #coding #programming #CS #CE  https://t.co/oHO7GvmdAj\n",
      "1560749296433381376 2022-08-20 00:03:24 +0200 <mattdolloff> #joke\n",
      "1560748705006903298 2022-08-20 00:01:03 +0200 <RoyotPi> Why couldn’t the pirate play cards? Because he was sitting on the deck. #DadJoke #Joke\n",
      "1560748651797946369 2022-08-20 00:00:50 +0200 <braintickler_> JOKE OF THE DAY : What did one nut say as he chased another nut?  I'm a cashew! #funny #memes #love #lol #jokeoftheday #meme #rofl #lmao #laugh #dank #humor #funnyaf #joke\n",
      "1560748614808322048 2022-08-20 00:00:41 +0200 <kill_lucia_pls> @laanoeee8 a ver si me muero #joke\n",
      "1560748444892798976 2022-08-20 00:00:01 +0200 <punsandoneliner> Someone knocked me over with a bottle of sparkling wine.  They were using Brut force.   https://t.co/5t13QPom4H  #Sparkling #SparklingJokes #Joke\n",
      "1560747864824750080 2022-08-19 23:57:42 +0200 <woodrailking> .  Happy(?) Mosquito Day  (Two weird wonderful mosquito songs in the thread below)  . #Mosquitoes #MosquitoDay #TheBible #Noah #Ark #Joke #Meme  https://t.co/A4oGO3tX4I\n",
      "1560745824794988544 2022-08-19 23:49:36 +0200 <rtrjokes> (In a stranger's bedroom) Me: I'll explain! Love me!  Han Solo: Do you watch Stranger Things?  Me: F**k you!  Food: Ok, bye!  *starts to cry*  #joke\n",
      "1560745398716727297 2022-08-19 23:47:54 +0200 <lofi_alii> Why aren’t they getting my signals? The signals:  #funniesttweets #joke #GeometryDash #meme  https://t.co/1VDfBvxLJA\n",
      "1560743423942037505 2022-08-19 23:40:04 +0200 <cahrobot> 📖 CAH Base Set.  📣 Next on TSN: The World Series of 🎲One rude motherfucker🎲.  🔞 #cah #joke #funny #humor 🔞\n",
      "1560743422750752769 2022-08-19 23:40:03 +0200 <cahrobot> 📖 CAH Base Set.  📣 When Pharaoh remained unmoved, Moses called down a Plague of 🎲SNES cartridge cleaning fluid🎲.  🔞 #cah #joke #funny #humor 🔞\n",
      "1560743235399860224 2022-08-19 23:39:19 +0200 <NinjaX509> Jump 😒 #boys #girls #viral #fyp #shorts #funny #joke #jokes  https://t.co/YwBHCoptnn\n",
      "1560742165592313856 2022-08-19 23:35:04 +0200 <AnayansGallardo> @EducationFL #FlDeptOfEducation is a #Joke!!!\n",
      "1560741668118269952 2022-08-19 23:33:05 +0200 <JokeBot6000> #Joke 10 Husbands, Still a Virgin  - A lawyer married a woman who had previously divorced ten husbands.   On their wedding night, she told her new husband, \"Please be gentle, I'm still a virgin.\"   \"What?\" said the puzzled groom.   \"How can that...  https://t.co/dVWhoqTQFG\n",
      "1560741382653972485 2022-08-19 23:31:57 +0200 <LPolitically> @BryanHoch The guy is so #fragile what a #joke every august he takes a vacation #yankees @YESNetwork #phantominjury\n",
      "1560740062190800896 2022-08-19 23:26:42 +0200 <astonishing_ang> What do you get when you cross a shoe with a banana? A slipper! #LOL #joke\n",
      "1560738089072566273 2022-08-19 23:18:52 +0200 <alanastarisborn> Get my art printed on awesome products at Redbubble #RBandME:  https://t.co/tNCfnB3qO5… #ArtistOnTwitter #artist #uniquegifts #Masks #fashion #style #LogoDesign #colourful #Sarcasm #gift #Christmas #birthday #MothersDay #FathersDay #gifts #usa #sarcastic #comedy #antivegan #joke\n"
     ]
    },
    {
     "name": "stdout",
     "output_type": "stream",
     "text": [
      "1560737958873165824 2022-08-19 23:18:21 +0200 <BuryThatJoke> Sticks and Stones May Break My Bones... #funny #humor #laugh #smile #comedy #joke #satire #stick #stump #tree #branch #sticks #stones #squirrel   #JAG  https://t.co/cxG2fbWScS\n",
      "1560737086906724352 2022-08-19 23:14:53 +0200 <miguelitocuban> I don't think she was too happy after that! 😂#laughing #funny #laugh #memes #fun #lol #funnymemes #jokes #comedy #hilarious #smile #meme #instagood #humor #love #lmao #haha #laughter #happy #memesdaily #funnyvideos #joke #friends #crazy #follow #dankmemes #photooftheday #lmfao  https://t.co/tnbumq4iyK\n",
      "1560735044490395648 2022-08-19 23:06:46 +0200 <AnthonyEhrhardt> Top story: @mytrashcode: 'No. 2752 programming meme #programmingjoke #code #coding #javascript #python #datascience #programming #programmer #joke #100daysofcode #webdev #webdevelopment #php #java #linux #css #programmi…  https://t.co/4IduZBYiP2, see more  https://t.co/nmPLizHpDG\n",
      "1560734265326936064 2022-08-19 23:03:40 +0200 <smlynott> 📷 This place in downtown Boise had this play-on-words up for a week! #joke (at JUMP Boise)  https://t.co/hIaKcqwdJ2  https://t.co/bsiOdjhgPV\n",
      "1560734258737455104 2022-08-19 23:03:38 +0200 <smlynott> This place in downtown Boise had this play-on-words up for a week! #joke @ JUMP Boise  https://t.co/4UQyiQntgF\n",
      "1560733486042021888 2022-08-19 23:00:34 +0200 <TaniaDiscombe> FRIDAY FUNNY!  #Alberta #MortgageBroker #TaniaDiscombe #MusicByDieterVanDerWesten #Joke #HaHaHa #MadeYouLaugh  https://t.co/EvTzovSnaQ\n",
      "1560733347764047873 2022-08-19 23:00:01 +0200 <punsandoneliner> Whilst diving I saw a shoal of fish with microphones.  Turned out to be a choral reef.    https://t.co/tG95HprwmA   #MicrophoneJokes #Joke #Microphone\n",
      "1560731263602147328 2022-08-19 22:51:44 +0200 <BuryThatJoke> I wanted to be a dog... #funny #humor #laugh #smile #comedy #joke #satire #stick #stump #tree #branch #dog #bark  #JAG  https://t.co/4T4v2O01J6\n",
      "1560730962237001728 2022-08-19 22:50:33 +0200 <WICHCRFT2> So Alex jones gets caught with child porn and defamation and his defense is “demonic possession” of the jury and judge. 😂 this is the funniest thing ive ever seen. Fuck fake news and fuck Alex jones. #alexjones #joke #Republicans #dont #like #criticalthinking\n",
      "1560729589487472645 2022-08-19 22:45:05 +0200 <JokeBot6000> Once we had Clinton, Johnny Cash and Bob Hope. Then we had Bush, no Cash and no Hope.  #joke #oneliner\n",
      "1560728487207780352 2022-08-19 22:40:42 +0200 <BuryThatJoke> People call me shorty... #funny #humor #laugh #smile #comedy #joke #satire #stick #stump #tree #branch #chainsaw  #JAG  https://t.co/DE79gBgCnN\n",
      "1560727992849993728 2022-08-19 22:38:45 +0200 <BuryThatJoke> I picked up this book on genealogy... #funny #humor #laugh #smile #comedy #joke #satire #stick #stump #tree #branch #genealogy #JAG  https://t.co/yudMDSKkcY\n",
      "1560723845144670208 2022-08-19 22:22:16 +0200 <JuliJucrf> @venecasagrande @arrascakoringa @jornalodia Farra é brincadeira! 😆😂 #joke\n",
      "1560722296901226497 2022-08-19 22:16:07 +0200 <strictsum> #sign #badsign #bad #memes #funny #joke  https://t.co/iPhEEKdLbS\n",
      "1560721066384842752 2022-08-19 22:11:13 +0200 <MisAmigosPlay> yep   #meme from u/Idksonameiguess on reddit  #memes #misamigosplaygames #funny #gamer #streamer #whenthe #goodmeme #twitch #sohotrightnow #joke #hottake #programmerhumor #coding #programming #CS #CE  https://t.co/URlzGtUEVP\n",
      "1560720420520701952 2022-08-19 22:08:39 +0200 <angvllaa> @ath6nn perm #joke\n",
      "1560720015212421120 2022-08-19 22:07:03 +0200 <k72_t> @suryapsingh_IAS @singharti411 यें बात अब हर किसी के जुबां पे आ रही हैं तभी कुछ भाजपा के नेता क़ह रहें हैं यें विपक्ष वाले कुछ करवा के ही दम लेंगे 😂😂😂#joke\n",
      "1560718511369883648 2022-08-19 22:01:04 +0200 <RoyotPi> I recently discovered I can move my sister's daughters through the air with my brain but not her sons. I think I have telekinieces. #DadJoke #Joke\n",
      "1560718255836352512 2022-08-19 22:00:03 +0200 <mytrashcode> No. 2752 programming meme #programmingjoke #code #coding #javascript #python #datascience #programming #programmer #joke #100daysofcode #webdev #webdevelopment #php #java #linux #css #programmingmemes #codinglife #codingpics #programmingjokes  https://t.co/kAN3ERTPfq\n",
      "1560718241940418561 2022-08-19 22:00:00 +0200 <punsandoneliner> Saw some relish on a motorbike.  It was trying to ketchup with its friends.   https://t.co/4bDI3wkCh3   #Relish #RelishJokes #Joke\n",
      "1560718123891818500 2022-08-19 21:59:32 +0200 <joy_gimbel> via @NYTimes #scotuscorrution our highest court is a #joke without any #humanity #forcedbirth is barbaric. #abortionisessential #WomensRightsarehumanrights   https://t.co/VhPgfODPRZ\n",
      "1560717785390391297 2022-08-19 21:58:11 +0200 <AnimalPhax> Do Tangelas have faces underneath those vines? Find out here. Pokemon Phax: Tangela  https://t.co/PNkFnIqldB #tangela #tangrowth #mystery #pokemon #anime #game #nintendo #face #story #SheHulk #walmart #tacobell #amazon #disney #hbo #viral #satire #joke #dumb #stupid #mcdonalds\n",
      "1560717117787459587 2022-08-19 21:55:32 +0200 <RancidRandy1> #religion #church #faith #God #Jesus #Christian #Bible #atheist #Catholic #Jewish #lol #funny #joke #comedy #humor #comics #comic #History #horror #kids #family #fun #crazy #prank #stunt #health #healthy #wellness #weedsmokers #artist #scifi #writersoftwitter #painting #art #life  https://t.co/WoJ1GRkA9T\n",
      "1560716197410250753 2022-08-19 21:51:52 +0200 <HypnotistKeith> Fridays are the best days! #Comedy #jokeoftheday #keithhaddrill #joke #ventriloquist #ventriloquism #puppet #puppetmaster #ventriloquistdummy #funny #humor #fun #corporateevent #trend #trending #viral #share #stlouis #stl #entertainer #stlouisentertainer #stlentertainer #magician  https://t.co/DQIK43U3TT\n",
      "1560715482281525248 2022-08-19 21:49:02 +0200 <pranklottery> Do you want to prank your mom with these funny fake lottery tickets? #prank #joke #prankjoke  https://t.co/ydvs1YpbYP\n",
      "1560713441496768512 2022-08-19 21:40:55 +0200 <SwerianBot> @RealDonaldTrump #joke : 'Trump has only made 17 international trips as president so he could focus on domestic issues. He continues to struggle with cleaning staff, especially in hotel rooms.' #Trump #MAGA #RacistInChief  https://t.co/ghPCkub7GN\n",
      "1560712769933938689 2022-08-19 21:38:15 +0200 <TiredandFrozen> Been a minute since we've heard from this happy go lucky character! Time to see what personality 2 has been up to 😊.   #tiktok #smile #positivevibes #positivity #joke #selfhelp #motivation #selflove #selfcare  https://t.co/fWpNxcvrIT\n",
      "1560711608149622785 2022-08-19 21:33:38 +0200 <memebunk> hunter like this 😁 #jokes #memes #funny #meme #funnymemes #comedy #lol #memesdaily #dankmemes  #humor #fun #laugh #lmao #follow #joke #funnyvideos #love #haha  #like #hilarious #dank #dailymemes #memepage #TikTokersleaked #funnytweets #viraltweets  https://t.co/j9arg5kh5x\n",
      "1560711522082467841 2022-08-19 21:33:18 +0200 <InfoBooth2> Anyone else tired of reading Amazon product reviews that are just basically complaints that the delivery box wasn't big enough for their cat to play in?  #Amazon #reviews #humor #humour #funny #funniesttweets #joke #jokes #cats #Frustration #haha #Joker\n",
      "1560710562635554827 2022-08-19 21:29:29 +0200 <GeremySu> Todos hablan del audio filtrado. ¿¿¿Pero qué me dicen del teaser del vídeo??? 😎✌🏻  (Spoiler: Contiene parte del audio filtrado) #HoldMeCloser #HoldMeCloserIsComing #BritneyIsComing #BritneySpears #EltonJohn #BritneyIsBack #Britney #SamAsghari @britneyspears @eltonofficial #Joke  https://t.co/HQ50hMa0X3\n",
      "1560709351907610624 2022-08-19 21:24:40 +0200 <eldo_jay> What do these two women have in common, you ask? Jokes!!! Except one is making them, and the other IS the joke. You know who is who😉. #LaurenBoebert #joke #GOP #GOPBetrayedAmerica\n",
      "1560707755434024961 2022-08-19 21:18:20 +0200 <reddit_memebot> no questions asked  ( https://t.co/gJttDiKRTo) #meme #memes #funny #joke #memebot  https://t.co/DXJ69fz6Ce\n",
      "1560707333730304000 2022-08-19 21:16:39 +0200 <zufallswitz> Was ist der Unterschied zwischen einem Leistungsschwimmer und der A-Klasse? Die A-Klasse macht die  https://t.co/XINIIG4pdP #witz #joke #lustig\n",
      "1560706975712923649 2022-08-19 21:15:14 +0200 <DV19Gaming> Just wanted to let you know. I will retire from f1 games. First time Fortnite. #win #PS5Share #Fortnite.... #JOKE 😂  https://t.co/MrGzrOwvNt\n",
      "1560706392385720324 2022-08-19 21:12:55 +0200 <ColdplayKR> 조나단 로스 \"뭐 가지고 말다툼하고 있었어요?\" 크리스 \"윌이...제 이모랑 잤대요.\" #joke\n",
      "1560704905198899201 2022-08-19 21:07:00 +0200 <CosmoBC> #Joke - Life Lessons Learned from Video Games  https://t.co/yOaSzKRBRw\n",
      "1560704864556138496 2022-08-19 21:06:50 +0200 <PaulTomBlog> Latest #Joke - Life Lessons Learned from Video Games  https://t.co/OWpd7kcvvZ\n",
      "1560703411015671809 2022-08-19 21:01:04 +0200 <RoyotPi> Why do ghosts love health food Because it’s super natural #DadJoke #Joke\n",
      "[!] No more data! Scraping will stop now.\n",
      "found 0 deleted tweets in this search.\n"
     ]
    }
   ],
   "source": [
    "twint.run.Search(c)"
   ]
  },
  {
   "cell_type": "code",
   "execution_count": 13,
   "id": "5367d677",
   "metadata": {},
   "outputs": [
    {
     "data": {
      "text/plain": [
       "78"
      ]
     },
     "execution_count": 13,
     "metadata": {},
     "output_type": "execute_result"
    }
   ],
   "source": [
    "twint.storage.panda.Tweets_df['tweet'].count()"
   ]
  },
  {
   "cell_type": "code",
   "execution_count": 14,
   "id": "5a511123",
   "metadata": {},
   "outputs": [
    {
     "data": {
      "text/plain": [
       "id                 78\n",
       "conversation_id    78\n",
       "created_at         78\n",
       "date               78\n",
       "timezone           78\n",
       "place              78\n",
       "tweet              78\n",
       "language           78\n",
       "hashtags           78\n",
       "cashtags           78\n",
       "user_id            78\n",
       "user_id_str        78\n",
       "username           78\n",
       "name               78\n",
       "day                78\n",
       "hour               78\n",
       "link               78\n",
       "urls               78\n",
       "photos             78\n",
       "video              78\n",
       "thumbnail          78\n",
       "retweet            78\n",
       "nlikes             78\n",
       "nreplies           78\n",
       "nretweets          78\n",
       "quote_url          78\n",
       "search             78\n",
       "near               78\n",
       "geo                78\n",
       "source             78\n",
       "user_rt_id         78\n",
       "user_rt            78\n",
       "retweet_id         78\n",
       "reply_to           78\n",
       "retweet_date       78\n",
       "translate          78\n",
       "trans_src          78\n",
       "trans_dest         78\n",
       "dtype: int64"
      ]
     },
     "execution_count": 14,
     "metadata": {},
     "output_type": "execute_result"
    }
   ],
   "source": [
    "twint.storage.panda.Tweets_df.count()"
   ]
  },
  {
   "cell_type": "code",
   "execution_count": 15,
   "id": "044d9239",
   "metadata": {},
   "outputs": [
    {
     "data": {
      "text/html": [
       "<div>\n",
       "<style scoped>\n",
       "    .dataframe tbody tr th:only-of-type {\n",
       "        vertical-align: middle;\n",
       "    }\n",
       "\n",
       "    .dataframe tbody tr th {\n",
       "        vertical-align: top;\n",
       "    }\n",
       "\n",
       "    .dataframe thead th {\n",
       "        text-align: right;\n",
       "    }\n",
       "</style>\n",
       "<table border=\"1\" class=\"dataframe\">\n",
       "  <thead>\n",
       "    <tr style=\"text-align: right;\">\n",
       "      <th></th>\n",
       "      <th>id</th>\n",
       "      <th>conversation_id</th>\n",
       "      <th>created_at</th>\n",
       "      <th>date</th>\n",
       "      <th>timezone</th>\n",
       "      <th>place</th>\n",
       "      <th>tweet</th>\n",
       "      <th>language</th>\n",
       "      <th>hashtags</th>\n",
       "      <th>cashtags</th>\n",
       "      <th>...</th>\n",
       "      <th>geo</th>\n",
       "      <th>source</th>\n",
       "      <th>user_rt_id</th>\n",
       "      <th>user_rt</th>\n",
       "      <th>retweet_id</th>\n",
       "      <th>reply_to</th>\n",
       "      <th>retweet_date</th>\n",
       "      <th>translate</th>\n",
       "      <th>trans_src</th>\n",
       "      <th>trans_dest</th>\n",
       "    </tr>\n",
       "  </thead>\n",
       "  <tbody>\n",
       "    <tr>\n",
       "      <th>0</th>\n",
       "      <td>1560778598075846656</td>\n",
       "      <td>1560778598075846656</td>\n",
       "      <td>1.660954e+12</td>\n",
       "      <td>2022-08-20 01:59:50</td>\n",
       "      <td>+0200</td>\n",
       "      <td></td>\n",
       "      <td>\"Your Crayola set, sir.\"   #meme from u/Mister...</td>\n",
       "      <td>en</td>\n",
       "      <td>[meme, memes, misamigosplaygames, funny, gamer...</td>\n",
       "      <td>[]</td>\n",
       "      <td>...</td>\n",
       "      <td></td>\n",
       "      <td></td>\n",
       "      <td></td>\n",
       "      <td></td>\n",
       "      <td></td>\n",
       "      <td>[]</td>\n",
       "      <td></td>\n",
       "      <td></td>\n",
       "      <td></td>\n",
       "      <td></td>\n",
       "    </tr>\n",
       "    <tr>\n",
       "      <th>1</th>\n",
       "      <td>1560777076289961985</td>\n",
       "      <td>1560777076289961985</td>\n",
       "      <td>1.660953e+12</td>\n",
       "      <td>2022-08-20 01:53:47</td>\n",
       "      <td>+0200</td>\n",
       "      <td></td>\n",
       "      <td>Instead children should grow up thinking the r...</td>\n",
       "      <td>en</td>\n",
       "      <td>[parody, joke]</td>\n",
       "      <td>[]</td>\n",
       "      <td>...</td>\n",
       "      <td></td>\n",
       "      <td></td>\n",
       "      <td></td>\n",
       "      <td></td>\n",
       "      <td></td>\n",
       "      <td>[]</td>\n",
       "      <td></td>\n",
       "      <td></td>\n",
       "      <td></td>\n",
       "      <td></td>\n",
       "    </tr>\n",
       "    <tr>\n",
       "      <th>2</th>\n",
       "      <td>1560774973437927424</td>\n",
       "      <td>1560774973437927424</td>\n",
       "      <td>1.660953e+12</td>\n",
       "      <td>2022-08-20 01:45:26</td>\n",
       "      <td>+0200</td>\n",
       "      <td></td>\n",
       "      <td>Sosse och sd jävla våldtäcktsmän #Personal #Ch...</td>\n",
       "      <td>sv</td>\n",
       "      <td>[personal, christian, burgess, joke]</td>\n",
       "      <td>[]</td>\n",
       "      <td>...</td>\n",
       "      <td></td>\n",
       "      <td></td>\n",
       "      <td></td>\n",
       "      <td></td>\n",
       "      <td></td>\n",
       "      <td>[]</td>\n",
       "      <td></td>\n",
       "      <td></td>\n",
       "      <td></td>\n",
       "      <td></td>\n",
       "    </tr>\n",
       "    <tr>\n",
       "      <th>3</th>\n",
       "      <td>1560771044792627201</td>\n",
       "      <td>1560771044792627201</td>\n",
       "      <td>1.660952e+12</td>\n",
       "      <td>2022-08-20 01:29:49</td>\n",
       "      <td>+0200</td>\n",
       "      <td></td>\n",
       "      <td>Never underestimate the power of pointed, cons...</td>\n",
       "      <td>en</td>\n",
       "      <td>[mosquitojoke, mosquitos, funnymeme, sarcasm, ...</td>\n",
       "      <td>[]</td>\n",
       "      <td>...</td>\n",
       "      <td></td>\n",
       "      <td></td>\n",
       "      <td></td>\n",
       "      <td></td>\n",
       "      <td></td>\n",
       "      <td>[]</td>\n",
       "      <td></td>\n",
       "      <td></td>\n",
       "      <td></td>\n",
       "      <td></td>\n",
       "    </tr>\n",
       "    <tr>\n",
       "      <th>4</th>\n",
       "      <td>1560770836990234628</td>\n",
       "      <td>1560770836990234628</td>\n",
       "      <td>1.660952e+12</td>\n",
       "      <td>2022-08-20 01:28:59</td>\n",
       "      <td>+0200</td>\n",
       "      <td></td>\n",
       "      <td>#dining #kitchen #Cooking #humor #comedy #lol ...</td>\n",
       "      <td>qme</td>\n",
       "      <td>[dining, kitchen, cooking, humor, comedy, lol,...</td>\n",
       "      <td>[]</td>\n",
       "      <td>...</td>\n",
       "      <td></td>\n",
       "      <td></td>\n",
       "      <td></td>\n",
       "      <td></td>\n",
       "      <td></td>\n",
       "      <td>[]</td>\n",
       "      <td></td>\n",
       "      <td></td>\n",
       "      <td></td>\n",
       "      <td></td>\n",
       "    </tr>\n",
       "  </tbody>\n",
       "</table>\n",
       "<p>5 rows × 38 columns</p>\n",
       "</div>"
      ],
      "text/plain": [
       "                    id      conversation_id    created_at  \\\n",
       "0  1560778598075846656  1560778598075846656  1.660954e+12   \n",
       "1  1560777076289961985  1560777076289961985  1.660953e+12   \n",
       "2  1560774973437927424  1560774973437927424  1.660953e+12   \n",
       "3  1560771044792627201  1560771044792627201  1.660952e+12   \n",
       "4  1560770836990234628  1560770836990234628  1.660952e+12   \n",
       "\n",
       "                  date timezone place  \\\n",
       "0  2022-08-20 01:59:50    +0200         \n",
       "1  2022-08-20 01:53:47    +0200         \n",
       "2  2022-08-20 01:45:26    +0200         \n",
       "3  2022-08-20 01:29:49    +0200         \n",
       "4  2022-08-20 01:28:59    +0200         \n",
       "\n",
       "                                               tweet language  \\\n",
       "0  \"Your Crayola set, sir.\"   #meme from u/Mister...       en   \n",
       "1  Instead children should grow up thinking the r...       en   \n",
       "2  Sosse och sd jävla våldtäcktsmän #Personal #Ch...       sv   \n",
       "3  Never underestimate the power of pointed, cons...       en   \n",
       "4  #dining #kitchen #Cooking #humor #comedy #lol ...      qme   \n",
       "\n",
       "                                            hashtags cashtags  ...  geo  \\\n",
       "0  [meme, memes, misamigosplaygames, funny, gamer...       []  ...        \n",
       "1                                     [parody, joke]       []  ...        \n",
       "2               [personal, christian, burgess, joke]       []  ...        \n",
       "3  [mosquitojoke, mosquitos, funnymeme, sarcasm, ...       []  ...        \n",
       "4  [dining, kitchen, cooking, humor, comedy, lol,...       []  ...        \n",
       "\n",
       "  source user_rt_id user_rt  retweet_id reply_to retweet_date translate  \\\n",
       "0                                             []                          \n",
       "1                                             []                          \n",
       "2                                             []                          \n",
       "3                                             []                          \n",
       "4                                             []                          \n",
       "\n",
       "  trans_src  trans_dest  \n",
       "0                        \n",
       "1                        \n",
       "2                        \n",
       "3                        \n",
       "4                        \n",
       "\n",
       "[5 rows x 38 columns]"
      ]
     },
     "execution_count": 15,
     "metadata": {},
     "output_type": "execute_result"
    }
   ],
   "source": [
    "twint.storage.panda.Tweets_df.head()"
   ]
  },
  {
   "cell_type": "code",
   "execution_count": 16,
   "id": "ef8b0aff",
   "metadata": {},
   "outputs": [
    {
     "data": {
      "text/plain": [
       "'\"Your Crayola set, sir.\"   #meme from u/MisterSnowmax on reddit  #memes #misamigosplaygames #funny #gamer #streamer #whenthe #goodmeme #twitch #sohotrightnow #joke #hottake  https://t.co/kpwUOghxz6'"
      ]
     },
     "execution_count": 16,
     "metadata": {},
     "output_type": "execute_result"
    }
   ],
   "source": [
    "twint.storage.panda.Tweets_df['tweet'][0]"
   ]
  },
  {
   "cell_type": "code",
   "execution_count": 17,
   "id": "c52608c8",
   "metadata": {},
   "outputs": [],
   "source": [
    "# !ls"
   ]
  },
  {
   "cell_type": "code",
   "execution_count": 18,
   "id": "98f2dc63",
   "metadata": {},
   "outputs": [],
   "source": [
    "twint.storage.panda.Tweets_df.to_csv('clean_jokes.csv')\n",
    "# !cp 'joke.csv' \"gdrive/My Drive/scrapes/joke.csv\""
   ]
  },
  {
   "cell_type": "markdown",
   "id": "392030c5",
   "metadata": {},
   "source": [
    "## CLEANING DATATA"
   ]
  },
  {
   "cell_type": "code",
   "execution_count": 19,
   "id": "ca9b6e65",
   "metadata": {},
   "outputs": [],
   "source": [
    "import numpy as np\n",
    "import pandas as pd\n",
    "\n",
    "import matplotlib.pyplot as plt\n",
    "import seaborn as sns"
   ]
  },
  {
   "cell_type": "code",
   "execution_count": 20,
   "id": "36cbbc27",
   "metadata": {},
   "outputs": [
    {
     "data": {
      "text/plain": [
       "(78, 39)"
      ]
     },
     "execution_count": 20,
     "metadata": {},
     "output_type": "execute_result"
    }
   ],
   "source": [
    "data = pd.read_csv('clean_jokes.csv')\n",
    "\n",
    "data.shape"
   ]
  },
  {
   "cell_type": "code",
   "execution_count": 21,
   "id": "c0d4c71d",
   "metadata": {},
   "outputs": [
    {
     "data": {
      "text/html": [
       "<div>\n",
       "<style scoped>\n",
       "    .dataframe tbody tr th:only-of-type {\n",
       "        vertical-align: middle;\n",
       "    }\n",
       "\n",
       "    .dataframe tbody tr th {\n",
       "        vertical-align: top;\n",
       "    }\n",
       "\n",
       "    .dataframe thead th {\n",
       "        text-align: right;\n",
       "    }\n",
       "</style>\n",
       "<table border=\"1\" class=\"dataframe\">\n",
       "  <thead>\n",
       "    <tr style=\"text-align: right;\">\n",
       "      <th></th>\n",
       "      <th>Unnamed: 0</th>\n",
       "      <th>id</th>\n",
       "      <th>conversation_id</th>\n",
       "      <th>created_at</th>\n",
       "      <th>date</th>\n",
       "      <th>timezone</th>\n",
       "      <th>place</th>\n",
       "      <th>tweet</th>\n",
       "      <th>language</th>\n",
       "      <th>hashtags</th>\n",
       "      <th>...</th>\n",
       "      <th>geo</th>\n",
       "      <th>source</th>\n",
       "      <th>user_rt_id</th>\n",
       "      <th>user_rt</th>\n",
       "      <th>retweet_id</th>\n",
       "      <th>reply_to</th>\n",
       "      <th>retweet_date</th>\n",
       "      <th>translate</th>\n",
       "      <th>trans_src</th>\n",
       "      <th>trans_dest</th>\n",
       "    </tr>\n",
       "  </thead>\n",
       "  <tbody>\n",
       "    <tr>\n",
       "      <th>0</th>\n",
       "      <td>0</td>\n",
       "      <td>1560778598075846656</td>\n",
       "      <td>1560778598075846656</td>\n",
       "      <td>1.660954e+12</td>\n",
       "      <td>2022-08-20 01:59:50</td>\n",
       "      <td>200</td>\n",
       "      <td>NaN</td>\n",
       "      <td>\"Your Crayola set, sir.\"   #meme from u/Mister...</td>\n",
       "      <td>en</td>\n",
       "      <td>['meme', 'memes', 'misamigosplaygames', 'funny...</td>\n",
       "      <td>...</td>\n",
       "      <td>NaN</td>\n",
       "      <td>NaN</td>\n",
       "      <td>NaN</td>\n",
       "      <td>NaN</td>\n",
       "      <td>NaN</td>\n",
       "      <td>[]</td>\n",
       "      <td>NaN</td>\n",
       "      <td>NaN</td>\n",
       "      <td>NaN</td>\n",
       "      <td>NaN</td>\n",
       "    </tr>\n",
       "    <tr>\n",
       "      <th>1</th>\n",
       "      <td>1</td>\n",
       "      <td>1560777076289961985</td>\n",
       "      <td>1560777076289961985</td>\n",
       "      <td>1.660953e+12</td>\n",
       "      <td>2022-08-20 01:53:47</td>\n",
       "      <td>200</td>\n",
       "      <td>NaN</td>\n",
       "      <td>Instead children should grow up thinking the r...</td>\n",
       "      <td>en</td>\n",
       "      <td>['parody', 'joke']</td>\n",
       "      <td>...</td>\n",
       "      <td>NaN</td>\n",
       "      <td>NaN</td>\n",
       "      <td>NaN</td>\n",
       "      <td>NaN</td>\n",
       "      <td>NaN</td>\n",
       "      <td>[]</td>\n",
       "      <td>NaN</td>\n",
       "      <td>NaN</td>\n",
       "      <td>NaN</td>\n",
       "      <td>NaN</td>\n",
       "    </tr>\n",
       "    <tr>\n",
       "      <th>2</th>\n",
       "      <td>2</td>\n",
       "      <td>1560774973437927424</td>\n",
       "      <td>1560774973437927424</td>\n",
       "      <td>1.660953e+12</td>\n",
       "      <td>2022-08-20 01:45:26</td>\n",
       "      <td>200</td>\n",
       "      <td>NaN</td>\n",
       "      <td>Sosse och sd jävla våldtäcktsmän #Personal #Ch...</td>\n",
       "      <td>sv</td>\n",
       "      <td>['personal', 'christian', 'burgess', 'joke']</td>\n",
       "      <td>...</td>\n",
       "      <td>NaN</td>\n",
       "      <td>NaN</td>\n",
       "      <td>NaN</td>\n",
       "      <td>NaN</td>\n",
       "      <td>NaN</td>\n",
       "      <td>[]</td>\n",
       "      <td>NaN</td>\n",
       "      <td>NaN</td>\n",
       "      <td>NaN</td>\n",
       "      <td>NaN</td>\n",
       "    </tr>\n",
       "  </tbody>\n",
       "</table>\n",
       "<p>3 rows × 39 columns</p>\n",
       "</div>"
      ],
      "text/plain": [
       "   Unnamed: 0                   id      conversation_id    created_at  \\\n",
       "0           0  1560778598075846656  1560778598075846656  1.660954e+12   \n",
       "1           1  1560777076289961985  1560777076289961985  1.660953e+12   \n",
       "2           2  1560774973437927424  1560774973437927424  1.660953e+12   \n",
       "\n",
       "                  date  timezone place  \\\n",
       "0  2022-08-20 01:59:50       200   NaN   \n",
       "1  2022-08-20 01:53:47       200   NaN   \n",
       "2  2022-08-20 01:45:26       200   NaN   \n",
       "\n",
       "                                               tweet language  \\\n",
       "0  \"Your Crayola set, sir.\"   #meme from u/Mister...       en   \n",
       "1  Instead children should grow up thinking the r...       en   \n",
       "2  Sosse och sd jävla våldtäcktsmän #Personal #Ch...       sv   \n",
       "\n",
       "                                            hashtags  ... geo  source  \\\n",
       "0  ['meme', 'memes', 'misamigosplaygames', 'funny...  ... NaN     NaN   \n",
       "1                                 ['parody', 'joke']  ... NaN     NaN   \n",
       "2       ['personal', 'christian', 'burgess', 'joke']  ... NaN     NaN   \n",
       "\n",
       "   user_rt_id user_rt retweet_id  reply_to  retweet_date translate trans_src  \\\n",
       "0         NaN     NaN        NaN        []           NaN       NaN       NaN   \n",
       "1         NaN     NaN        NaN        []           NaN       NaN       NaN   \n",
       "2         NaN     NaN        NaN        []           NaN       NaN       NaN   \n",
       "\n",
       "  trans_dest  \n",
       "0        NaN  \n",
       "1        NaN  \n",
       "2        NaN  \n",
       "\n",
       "[3 rows x 39 columns]"
      ]
     },
     "execution_count": 21,
     "metadata": {},
     "output_type": "execute_result"
    }
   ],
   "source": [
    "data.head(3)"
   ]
  },
  {
   "cell_type": "code",
   "execution_count": 22,
   "id": "b343c9e7",
   "metadata": {},
   "outputs": [
    {
     "data": {
      "text/plain": [
       "Unnamed: 0          0\n",
       "id                  0\n",
       "conversation_id     0\n",
       "created_at          0\n",
       "date                0\n",
       "timezone            0\n",
       "place              77\n",
       "tweet               0\n",
       "language            0\n",
       "hashtags            0\n",
       "cashtags            0\n",
       "user_id             0\n",
       "user_id_str         0\n",
       "username            0\n",
       "name                0\n",
       "day                 0\n",
       "hour                0\n",
       "link                0\n",
       "urls                0\n",
       "photos              0\n",
       "video               0\n",
       "thumbnail          46\n",
       "retweet             0\n",
       "nlikes              0\n",
       "nreplies            0\n",
       "nretweets           0\n",
       "quote_url          76\n",
       "search              0\n",
       "near               78\n",
       "geo                78\n",
       "source             78\n",
       "user_rt_id         78\n",
       "user_rt            78\n",
       "retweet_id         78\n",
       "reply_to            0\n",
       "retweet_date       78\n",
       "translate          78\n",
       "trans_src          78\n",
       "trans_dest         78\n",
       "dtype: int64"
      ]
     },
     "execution_count": 22,
     "metadata": {},
     "output_type": "execute_result"
    }
   ],
   "source": [
    "data.isnull().sum()"
   ]
  },
  {
   "cell_type": "code",
   "execution_count": 23,
   "id": "06e4e1f2",
   "metadata": {},
   "outputs": [],
   "source": [
    "import re\n",
    "import nltk\n",
    "from nltk.tokenize import RegexpTokenizer"
   ]
  },
  {
   "cell_type": "code",
   "execution_count": 24,
   "id": "f946bbf9",
   "metadata": {},
   "outputs": [],
   "source": [
    "def non_ascii(s):\n",
    "    return \"\".join(i for i in s if ord(i)<128)\n",
    "\n",
    "def clean_links(text):\n",
    "    txt = re.compile('http(s)?://\\w+(\\.\\w+){1,}(/\\w+)*')\n",
    "    return txt.sub(r'', text)\n",
    "\n",
    "def clean_html(text):\n",
    "    html = re.compile('<.*?>')\n",
    "    return html.sub(r'', text)\n",
    "\n",
    "def punct(text):\n",
    "    token = nltk.tokenize.RegexpTokenizer(r'\\w+')\n",
    "    text = token.tokenize(text)\n",
    "    text = \" \".join(text)\n",
    "    return text\n",
    "\n",
    "def clean(text):\n",
    "    text = non_ascii(text)\n",
    "    text = str.lower(text)\n",
    "    text = clean_links(text)\n",
    "    text = clean_html(text)\n",
    "    text = punct(text)\n",
    "    return text\n"
   ]
  },
  {
   "cell_type": "code",
   "execution_count": 25,
   "id": "32a4c267",
   "metadata": {},
   "outputs": [],
   "source": [
    "data['cleaned'] = data['tweet'].apply(clean)"
   ]
  },
  {
   "cell_type": "code",
   "execution_count": 26,
   "id": "56b145fd",
   "metadata": {},
   "outputs": [
    {
     "data": {
      "text/plain": [
       "0    your crayola set sir meme from u mistersnowmax...\n",
       "1    instead children should grow up thinking the r...\n",
       "2    sosse och sd jvla vldtcktsmn personal christia...\n",
       "3    never underestimate the power of pointed consi...\n",
       "4    dining kitchen cooking humor comedy lol food f...\n",
       "Name: cleaned, dtype: object"
      ]
     },
     "execution_count": 26,
     "metadata": {},
     "output_type": "execute_result"
    }
   ],
   "source": [
    "data['cleaned'].head()"
   ]
  },
  {
   "cell_type": "code",
   "execution_count": 27,
   "id": "f739b397",
   "metadata": {},
   "outputs": [
    {
     "name": "stdout",
     "output_type": "stream",
     "text": [
      "your crayola set sir meme from u mistersnowmax on reddit memes misamigosplaygames funny gamer streamer whenthe goodmeme twitch sohotrightnow joke hottake\n"
     ]
    }
   ],
   "source": [
    "print(data['cleaned'][0])"
   ]
  },
  {
   "cell_type": "code",
   "execution_count": 28,
   "id": "57ddf851",
   "metadata": {},
   "outputs": [
    {
     "name": "stdout",
     "output_type": "stream",
     "text": [
      "sosse och sd jvla vldtcktsmn personal christian burgess joke\n"
     ]
    }
   ],
   "source": [
    "print(data['cleaned'][2])"
   ]
  },
  {
   "cell_type": "code",
   "execution_count": 29,
   "id": "7a9b9ce2",
   "metadata": {},
   "outputs": [],
   "source": [
    "data.to_csv(\"clean_jokes.csv\")"
   ]
  },
  {
   "cell_type": "markdown",
   "id": "0343c300",
   "metadata": {},
   "source": [
    "# Adding the final ingredients -> (ELIXER).\n",
    "\n",
    "### Alexa Like Bot voice"
   ]
  },
  {
   "cell_type": "code",
   "execution_count": 30,
   "id": "a78a8fb6",
   "metadata": {},
   "outputs": [
    {
     "name": "stdout",
     "output_type": "stream",
     "text": [
      "Python 3.9.0\n"
     ]
    }
   ],
   "source": [
    "!python --version"
   ]
  },
  {
   "cell_type": "code",
   "execution_count": 31,
   "id": "9706a79d",
   "metadata": {},
   "outputs": [
    {
     "name": "stdout",
     "output_type": "stream",
     "text": [
      "Collecting SpeechRecognition\n",
      "  Downloading SpeechRecognition-3.8.1-py2.py3-none-any.whl (32.8 MB)\n",
      "     --------------------------------------- 32.8/32.8 MB 11.3 MB/s eta 0:00:00\n",
      "Installing collected packages: SpeechRecognition\n",
      "Successfully installed SpeechRecognition-3.8.1\n",
      "Requirement already satisfied: pyttsx3 in c:\\users\\user001\\appdata\\local\\programs\\python\\python39\\lib\\site-packages (2.90)\n",
      "Requirement already satisfied: pypiwin32 in c:\\users\\user001\\appdata\\local\\programs\\python\\python39\\lib\\site-packages (from pyttsx3) (223)\n",
      "Requirement already satisfied: comtypes in c:\\users\\user001\\appdata\\local\\programs\\python\\python39\\lib\\site-packages (from pyttsx3) (1.1.14)\n",
      "Requirement already satisfied: pywin32 in c:\\users\\user001\\appdata\\local\\programs\\python\\python39\\lib\\site-packages (from pyttsx3) (304)\n"
     ]
    },
    {
     "name": "stderr",
     "output_type": "stream",
     "text": [
      "The system cannot find the file specified.\n"
     ]
    },
    {
     "name": "stdout",
     "output_type": "stream",
     "text": [
      "Requirement already satisfied: pywhatkit in c:\\users\\user001\\appdata\\local\\programs\\python\\python39\\lib\\site-packages (5.4)\n",
      "Requirement already satisfied: pyautogui in c:\\users\\user001\\appdata\\local\\programs\\python\\python39\\lib\\site-packages (from pywhatkit) (0.9.53)\n",
      "Requirement already satisfied: requests in c:\\users\\user001\\appdata\\local\\programs\\python\\python39\\lib\\site-packages (from pywhatkit) (2.28.1)\n",
      "Requirement already satisfied: Flask in c:\\users\\user001\\appdata\\local\\programs\\python\\python39\\lib\\site-packages (from pywhatkit) (2.2.2)\n",
      "Requirement already satisfied: Pillow in c:\\users\\user001\\appdata\\local\\programs\\python\\python39\\lib\\site-packages (from pywhatkit) (9.2.0)\n",
      "Requirement already satisfied: wikipedia in c:\\users\\user001\\appdata\\local\\programs\\python\\python39\\lib\\site-packages (from pywhatkit) (1.4.0)\n",
      "Requirement already satisfied: Jinja2>=3.0 in c:\\users\\user001\\appdata\\local\\programs\\python\\python39\\lib\\site-packages (from Flask->pywhatkit) (3.1.2)\n",
      "Requirement already satisfied: Werkzeug>=2.2.2 in c:\\users\\user001\\appdata\\local\\programs\\python\\python39\\lib\\site-packages (from Flask->pywhatkit) (2.2.2)\n",
      "Requirement already satisfied: itsdangerous>=2.0 in c:\\users\\user001\\appdata\\local\\programs\\python\\python39\\lib\\site-packages (from Flask->pywhatkit) (2.1.2)\n",
      "Requirement already satisfied: click>=8.0 in c:\\users\\user001\\appdata\\local\\programs\\python\\python39\\lib\\site-packages (from Flask->pywhatkit) (8.1.3)\n",
      "Requirement already satisfied: importlib-metadata>=3.6.0 in c:\\users\\user001\\appdata\\local\\programs\\python\\python39\\lib\\site-packages (from Flask->pywhatkit) (4.12.0)\n",
      "Requirement already satisfied: pymsgbox in c:\\users\\user001\\appdata\\local\\programs\\python\\python39\\lib\\site-packages (from pyautogui->pywhatkit) (1.0.9)\n",
      "Requirement already satisfied: PyTweening>=1.0.1 in c:\\users\\user001\\appdata\\local\\programs\\python\\python39\\lib\\site-packages (from pyautogui->pywhatkit) (1.0.4)\n",
      "Requirement already satisfied: pyscreeze>=0.1.21 in c:\\users\\user001\\appdata\\local\\programs\\python\\python39\\lib\\site-packages (from pyautogui->pywhatkit) (0.1.28)\n",
      "Requirement already satisfied: pygetwindow>=0.0.5 in c:\\users\\user001\\appdata\\local\\programs\\python\\python39\\lib\\site-packages (from pyautogui->pywhatkit) (0.0.9)\n",
      "Requirement already satisfied: mouseinfo in c:\\users\\user001\\appdata\\local\\programs\\python\\python39\\lib\\site-packages (from pyautogui->pywhatkit) (0.1.3)\n",
      "Requirement already satisfied: certifi>=2017.4.17 in c:\\users\\user001\\appdata\\local\\programs\\python\\python39\\lib\\site-packages (from requests->pywhatkit) (2022.6.15)\n",
      "Requirement already satisfied: idna<4,>=2.5 in c:\\users\\user001\\appdata\\local\\programs\\python\\python39\\lib\\site-packages (from requests->pywhatkit) (3.3)\n",
      "Requirement already satisfied: charset-normalizer<3,>=2 in c:\\users\\user001\\appdata\\local\\programs\\python\\python39\\lib\\site-packages (from requests->pywhatkit) (2.1.1)\n",
      "Requirement already satisfied: urllib3<1.27,>=1.21.1 in c:\\users\\user001\\appdata\\local\\programs\\python\\python39\\lib\\site-packages (from requests->pywhatkit) (1.26.12)\n",
      "Requirement already satisfied: beautifulsoup4 in c:\\users\\user001\\appdata\\local\\programs\\python\\python39\\lib\\site-packages (from wikipedia->pywhatkit) (4.11.1)\n",
      "Requirement already satisfied: colorama in c:\\users\\user001\\appdata\\local\\programs\\python\\python39\\lib\\site-packages (from click>=8.0->Flask->pywhatkit) (0.4.5)\n",
      "Requirement already satisfied: zipp>=0.5 in c:\\users\\user001\\appdata\\local\\programs\\python\\python39\\lib\\site-packages (from importlib-metadata>=3.6.0->Flask->pywhatkit) (3.8.1)\n",
      "Requirement already satisfied: MarkupSafe>=2.0 in c:\\users\\user001\\appdata\\local\\programs\\python\\python39\\lib\\site-packages (from Jinja2>=3.0->Flask->pywhatkit) (2.1.1)\n",
      "Requirement already satisfied: pyrect in c:\\users\\user001\\appdata\\local\\programs\\python\\python39\\lib\\site-packages (from pygetwindow>=0.0.5->pyautogui->pywhatkit) (0.2.0)\n",
      "Requirement already satisfied: soupsieve>1.2 in c:\\users\\user001\\appdata\\local\\programs\\python\\python39\\lib\\site-packages (from beautifulsoup4->wikipedia->pywhatkit) (2.3.2.post1)\n",
      "Requirement already satisfied: pyperclip in c:\\users\\user001\\appdata\\local\\programs\\python\\python39\\lib\\site-packages (from mouseinfo->pyautogui->pywhatkit) (1.8.2)\n",
      "Requirement already satisfied: wikipedia in c:\\users\\user001\\appdata\\local\\programs\\python\\python39\\lib\\site-packages (1.4.0)\n",
      "Requirement already satisfied: beautifulsoup4 in c:\\users\\user001\\appdata\\local\\programs\\python\\python39\\lib\\site-packages (from wikipedia) (4.11.1)\n",
      "Requirement already satisfied: requests<3.0.0,>=2.0.0 in c:\\users\\user001\\appdata\\local\\programs\\python\\python39\\lib\\site-packages (from wikipedia) (2.28.1)\n",
      "Requirement already satisfied: idna<4,>=2.5 in c:\\users\\user001\\appdata\\local\\programs\\python\\python39\\lib\\site-packages (from requests<3.0.0,>=2.0.0->wikipedia) (3.3)\n",
      "Requirement already satisfied: urllib3<1.27,>=1.21.1 in c:\\users\\user001\\appdata\\local\\programs\\python\\python39\\lib\\site-packages (from requests<3.0.0,>=2.0.0->wikipedia) (1.26.12)\n",
      "Requirement already satisfied: certifi>=2017.4.17 in c:\\users\\user001\\appdata\\local\\programs\\python\\python39\\lib\\site-packages (from requests<3.0.0,>=2.0.0->wikipedia) (2022.6.15)\n",
      "Requirement already satisfied: charset-normalizer<3,>=2 in c:\\users\\user001\\appdata\\local\\programs\\python\\python39\\lib\\site-packages (from requests<3.0.0,>=2.0.0->wikipedia) (2.1.1)\n",
      "Requirement already satisfied: soupsieve>1.2 in c:\\users\\user001\\appdata\\local\\programs\\python\\python39\\lib\\site-packages (from beautifulsoup4->wikipedia) (2.3.2.post1)\n",
      "Collecting pyjokes\n",
      "  Downloading pyjokes-0.6.0-py2.py3-none-any.whl (26 kB)\n",
      "Installing collected packages: pyjokes\n",
      "Successfully installed pyjokes-0.6.0\n"
     ]
    }
   ],
   "source": [
    "!pip install SpeechRecognition\n",
    "!pip install pyttsx3\n",
    "!pip install PyAudio # if error lower version python <=3.6\n",
    "!pip install pywhatkit\n",
    "!pip install wikipedia\n",
    "!pip install pyjokes"
   ]
  },
  {
   "cell_type": "code",
   "execution_count": 32,
   "id": "05e924db",
   "metadata": {},
   "outputs": [],
   "source": [
    "import speech_recognition as sr\n",
    "import pyttsx3\n",
    "import pywhatkit\n",
    "import datetime\n",
    "import wikipedia\n",
    "import pyjokes"
   ]
  },
  {
   "cell_type": "code",
   "execution_count": 33,
   "id": "648fdf28",
   "metadata": {},
   "outputs": [],
   "source": [
    "listener = sr.Recognizer()\n",
    "engine = pyttsx3.init()\n",
    "voices = engine.getProperty('voices')\n",
    "engine.setProperty('voice', voices[1].id)"
   ]
  },
  {
   "cell_type": "code",
   "execution_count": 34,
   "id": "f2bed8e3",
   "metadata": {},
   "outputs": [],
   "source": [
    "engine.setProperty('rate', 120)"
   ]
  },
  {
   "cell_type": "code",
   "execution_count": 35,
   "id": "83f58294",
   "metadata": {},
   "outputs": [],
   "source": [
    "def talk(text):\n",
    "    engine.say(text)\n",
    "    engine.runAndWait()\n",
    "\n",
    "def run_alexa(c):\n",
    "    commando = c\n",
    "    talk(commando)"
   ]
  },
  {
   "cell_type": "code",
   "execution_count": 36,
   "id": "504233b0",
   "metadata": {},
   "outputs": [],
   "source": [
    "elix = []\n",
    "elix.append(\"Added the final ingredients to your elixer.\")\n",
    "elix.append(\"Please help support this model, by visiting our website combine research dot com\")\n",
    "\n",
    "for i in elix:\n",
    "    talk(i)"
   ]
  },
  {
   "cell_type": "code",
   "execution_count": 37,
   "id": "4a6f4266",
   "metadata": {},
   "outputs": [],
   "source": [
    "import pandas as pd\n",
    "import numpy as np"
   ]
  },
  {
   "cell_type": "code",
   "execution_count": 38,
   "id": "e7f4fde7",
   "metadata": {},
   "outputs": [],
   "source": [
    "data = pd.read_csv('clean_jokes.csv')"
   ]
  },
  {
   "cell_type": "code",
   "execution_count": 39,
   "id": "2b8cfda8",
   "metadata": {},
   "outputs": [
    {
     "name": "stdout",
     "output_type": "stream",
     "text": [
      "120\n"
     ]
    }
   ],
   "source": [
    "rate = engine.getProperty('rate')\n",
    "print (rate)"
   ]
  },
  {
   "cell_type": "code",
   "execution_count": 40,
   "id": "1ddc4671",
   "metadata": {},
   "outputs": [
    {
     "name": "stdout",
     "output_type": "stream",
     "text": [
      "21\n"
     ]
    }
   ],
   "source": [
    "max_size = data.shape[0]\n",
    "randn = np.random.randint(max_size)\n",
    "\n",
    "print(randn)"
   ]
  },
  {
   "cell_type": "code",
   "execution_count": 41,
   "id": "6105c859",
   "metadata": {},
   "outputs": [],
   "source": [
    "def execute(val):\n",
    "    i = val\n",
    "    max_size = data.shape[0]\n",
    "    randn = np.random.randint(max_size)\n",
    "    print(\"* (running index): \", randn)\n",
    "    \n",
    "    ###\n",
    "#     twt = data['cleaned'][randn] # <-----\n",
    "\n",
    "    ### do routine ###\n",
    "    count = 0\n",
    "    twt = ''\n",
    "    \n",
    "    for s in data['cleaned'][randn]:\n",
    "        count = count + 1\n",
    "        if count > 100:\n",
    "            twt = str(twt + s)\n",
    "            break\n",
    "        else:\n",
    "            twt = str(twt + s)\n",
    "            \n",
    "    ### end of routine ###\n",
    "    \n",
    "    print(\"\\n* (Tweet):\\n\\\"\" + twt + \"\\\"\")\n",
    "    run_alexa(twt)\n",
    "    engine.save_to_file(twt[i], 'tweet.mp3')\n",
    "    return i, twt"
   ]
  },
  {
   "cell_type": "code",
   "execution_count": null,
   "id": "c0447445",
   "metadata": {
    "scrolled": true
   },
   "outputs": [
    {
     "name": "stdout",
     "output_type": "stream",
     "text": [
      "* (running index):  43\n",
      "\n",
      "* (Tweet):\n",
      "\"this place in downtown boise had this play on words up for a week joke at jump boise\"\n",
      "\n",
      "* (current variation):\n",
      "interval is leaving in (ETA): ~96.0 seconds.\n",
      "\n",
      "\n"
     ]
    }
   ],
   "source": [
    "from time import time, sleep\n",
    "\n",
    "all = []\n",
    "val = 0 # last value incremented by running function\n",
    "o = 4 # 100 / 4 = 25% time factor\n",
    "p = 5 # o * p == 4*5 = 20% time deviation up or down;\n",
    "\n",
    "\n",
    "# go in a loop and print the returned number and number of the last tweet.\n",
    "while True:\n",
    "    ret, twe = execute(val)\n",
    "    ret = ret + 1\n",
    "    val = ret\n",
    "    all.append(twe)\n",
    "\n",
    "    timev = 96\n",
    "    timeval1 = timev - np.random.randint(21) + 1\n",
    "    timeval2 = timev + np.random.randint(21) + 1\n",
    "    \n",
    "    # calculate the time value which is ultimately used\n",
    "    timeval = (timeval1 + timeval2) / 2\n",
    "    print(\"\\n* (current variation):\\ninterval is leaving in (ETA): ~\" + str(timeval) + \" seconds.\\n\\n\")\n",
    "    \n",
    "    # actually sleep\n",
    "    #sleep(95-time() % 95) # (original version) of this command\n",
    "    sleep(timev - time() % timeval) # if 100 == run every 100 seconds\n",
    "    \n",
    "print(\"ret: \" + ret + \"tweet: \" + twe)"
   ]
  }
 ],
 "metadata": {
  "kernelspec": {
   "display_name": "Python 3 (ipykernel)",
   "language": "python",
   "name": "python3"
  },
  "language_info": {
   "codemirror_mode": {
    "name": "ipython",
    "version": 3
   },
   "file_extension": ".py",
   "mimetype": "text/x-python",
   "name": "python",
   "nbconvert_exporter": "python",
   "pygments_lexer": "ipython3",
   "version": "3.9.0"
  }
 },
 "nbformat": 4,
 "nbformat_minor": 5
}
