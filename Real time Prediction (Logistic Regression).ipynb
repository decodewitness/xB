{
 "cells": [
  {
   "cell_type": "markdown",
   "id": "eaad54d8",
   "metadata": {},
   "source": [
    "# ROC AUC"
   ]
  },
  {
   "cell_type": "code",
   "execution_count": 1,
   "id": "2e9b1818",
   "metadata": {},
   "outputs": [],
   "source": [
    "import numpy as np\n",
    "import pandas as pd\n",
    "import matplotlib.pyplot as plt\n",
    "import seaborn as sns"
   ]
  },
  {
   "cell_type": "code",
   "execution_count": 2,
   "id": "8d8f746f",
   "metadata": {},
   "outputs": [
    {
     "data": {
      "text/html": [
       "<div>\n",
       "<style scoped>\n",
       "    .dataframe tbody tr th:only-of-type {\n",
       "        vertical-align: middle;\n",
       "    }\n",
       "\n",
       "    .dataframe tbody tr th {\n",
       "        vertical-align: top;\n",
       "    }\n",
       "\n",
       "    .dataframe thead th {\n",
       "        text-align: right;\n",
       "    }\n",
       "</style>\n",
       "<table border=\"1\" class=\"dataframe\">\n",
       "  <thead>\n",
       "    <tr style=\"text-align: right;\">\n",
       "      <th></th>\n",
       "      <th>RowNumber</th>\n",
       "      <th>CustomerId</th>\n",
       "      <th>Surname</th>\n",
       "      <th>CreditScore</th>\n",
       "      <th>Geography</th>\n",
       "      <th>Gender</th>\n",
       "      <th>Age</th>\n",
       "      <th>Tenure</th>\n",
       "      <th>Balance</th>\n",
       "      <th>NumOfProducts</th>\n",
       "      <th>HasCrCard</th>\n",
       "      <th>IsActiveMember</th>\n",
       "      <th>EstimatedSalary</th>\n",
       "      <th>Exited</th>\n",
       "    </tr>\n",
       "  </thead>\n",
       "  <tbody>\n",
       "    <tr>\n",
       "      <th>0</th>\n",
       "      <td>1</td>\n",
       "      <td>15634602</td>\n",
       "      <td>Hargrave</td>\n",
       "      <td>619</td>\n",
       "      <td>France</td>\n",
       "      <td>Female</td>\n",
       "      <td>42</td>\n",
       "      <td>2</td>\n",
       "      <td>0.00</td>\n",
       "      <td>1</td>\n",
       "      <td>1</td>\n",
       "      <td>1</td>\n",
       "      <td>101348.88</td>\n",
       "      <td>1</td>\n",
       "    </tr>\n",
       "    <tr>\n",
       "      <th>1</th>\n",
       "      <td>2</td>\n",
       "      <td>15647311</td>\n",
       "      <td>Hill</td>\n",
       "      <td>608</td>\n",
       "      <td>Spain</td>\n",
       "      <td>Female</td>\n",
       "      <td>41</td>\n",
       "      <td>1</td>\n",
       "      <td>83807.86</td>\n",
       "      <td>1</td>\n",
       "      <td>0</td>\n",
       "      <td>1</td>\n",
       "      <td>112542.58</td>\n",
       "      <td>0</td>\n",
       "    </tr>\n",
       "    <tr>\n",
       "      <th>2</th>\n",
       "      <td>3</td>\n",
       "      <td>15619304</td>\n",
       "      <td>Onio</td>\n",
       "      <td>502</td>\n",
       "      <td>France</td>\n",
       "      <td>Female</td>\n",
       "      <td>42</td>\n",
       "      <td>8</td>\n",
       "      <td>159660.80</td>\n",
       "      <td>3</td>\n",
       "      <td>1</td>\n",
       "      <td>0</td>\n",
       "      <td>113931.57</td>\n",
       "      <td>1</td>\n",
       "    </tr>\n",
       "    <tr>\n",
       "      <th>3</th>\n",
       "      <td>4</td>\n",
       "      <td>15701354</td>\n",
       "      <td>Boni</td>\n",
       "      <td>699</td>\n",
       "      <td>France</td>\n",
       "      <td>Female</td>\n",
       "      <td>39</td>\n",
       "      <td>1</td>\n",
       "      <td>0.00</td>\n",
       "      <td>2</td>\n",
       "      <td>0</td>\n",
       "      <td>0</td>\n",
       "      <td>93826.63</td>\n",
       "      <td>0</td>\n",
       "    </tr>\n",
       "    <tr>\n",
       "      <th>4</th>\n",
       "      <td>5</td>\n",
       "      <td>15737888</td>\n",
       "      <td>Mitchell</td>\n",
       "      <td>850</td>\n",
       "      <td>Spain</td>\n",
       "      <td>Female</td>\n",
       "      <td>43</td>\n",
       "      <td>2</td>\n",
       "      <td>125510.82</td>\n",
       "      <td>1</td>\n",
       "      <td>1</td>\n",
       "      <td>1</td>\n",
       "      <td>79084.10</td>\n",
       "      <td>0</td>\n",
       "    </tr>\n",
       "  </tbody>\n",
       "</table>\n",
       "</div>"
      ],
      "text/plain": [
       "   RowNumber  CustomerId   Surname  CreditScore Geography  Gender  Age  \\\n",
       "0          1    15634602  Hargrave          619    France  Female   42   \n",
       "1          2    15647311      Hill          608     Spain  Female   41   \n",
       "2          3    15619304      Onio          502    France  Female   42   \n",
       "3          4    15701354      Boni          699    France  Female   39   \n",
       "4          5    15737888  Mitchell          850     Spain  Female   43   \n",
       "\n",
       "   Tenure    Balance  NumOfProducts  HasCrCard  IsActiveMember  \\\n",
       "0       2       0.00              1          1               1   \n",
       "1       1   83807.86              1          0               1   \n",
       "2       8  159660.80              3          1               0   \n",
       "3       1       0.00              2          0               0   \n",
       "4       2  125510.82              1          1               1   \n",
       "\n",
       "   EstimatedSalary  Exited  \n",
       "0        101348.88       1  \n",
       "1        112542.58       0  \n",
       "2        113931.57       1  \n",
       "3         93826.63       0  \n",
       "4         79084.10       0  "
      ]
     },
     "execution_count": 2,
     "metadata": {},
     "output_type": "execute_result"
    }
   ],
   "source": [
    "data = pd.read_csv(\"Churn_Modelling.csv\")\n",
    "\n",
    "data.head()"
   ]
  },
  {
   "cell_type": "code",
   "execution_count": 3,
   "id": "848ca799",
   "metadata": {},
   "outputs": [
    {
     "name": "stdout",
     "output_type": "stream",
     "text": [
      "<class 'pandas.core.frame.DataFrame'>\n",
      "RangeIndex: 10000 entries, 0 to 9999\n",
      "Data columns (total 14 columns):\n",
      " #   Column           Non-Null Count  Dtype  \n",
      "---  ------           --------------  -----  \n",
      " 0   RowNumber        10000 non-null  int64  \n",
      " 1   CustomerId       10000 non-null  int64  \n",
      " 2   Surname          10000 non-null  object \n",
      " 3   CreditScore      10000 non-null  int64  \n",
      " 4   Geography        10000 non-null  object \n",
      " 5   Gender           10000 non-null  object \n",
      " 6   Age              10000 non-null  int64  \n",
      " 7   Tenure           10000 non-null  int64  \n",
      " 8   Balance          10000 non-null  float64\n",
      " 9   NumOfProducts    10000 non-null  int64  \n",
      " 10  HasCrCard        10000 non-null  int64  \n",
      " 11  IsActiveMember   10000 non-null  int64  \n",
      " 12  EstimatedSalary  10000 non-null  float64\n",
      " 13  Exited           10000 non-null  int64  \n",
      "dtypes: float64(2), int64(9), object(3)\n",
      "memory usage: 1.1+ MB\n"
     ]
    }
   ],
   "source": [
    "data.info()"
   ]
  },
  {
   "cell_type": "code",
   "execution_count": 4,
   "id": "7cb9c004",
   "metadata": {},
   "outputs": [
    {
     "name": "stdout",
     "output_type": "stream",
     "text": [
      " col_name :  RowNumber  unique percentage :  1.0\n",
      " col_name :  CustomerId  unique percentage :  1.0\n",
      " col_name :  Surname  unique percentage :  0.2932\n",
      " col_name :  CreditScore  unique percentage :  0.046\n",
      " col_name :  Geography  unique percentage :  0.0003\n",
      " col_name :  Gender  unique percentage :  0.0002\n",
      " col_name :  Age  unique percentage :  0.007\n",
      " col_name :  Tenure  unique percentage :  0.0011\n",
      " col_name :  Balance  unique percentage :  0.6382\n",
      " col_name :  NumOfProducts  unique percentage :  0.0004\n",
      " col_name :  HasCrCard  unique percentage :  0.0002\n",
      " col_name :  IsActiveMember  unique percentage :  0.0002\n",
      " col_name :  EstimatedSalary  unique percentage :  0.9999\n",
      " col_name :  Exited  unique percentage :  0.0002\n"
     ]
    }
   ],
   "source": [
    "# checking the percentage unique\n",
    "\n",
    "for col in data.columns :\n",
    "    print(\" col_name : \", col, \" unique percentage : \", len(data[col].unique())/len(data))"
   ]
  },
  {
   "cell_type": "code",
   "execution_count": 5,
   "id": "aa65dc1e",
   "metadata": {},
   "outputs": [
    {
     "data": {
      "text/html": [
       "<div>\n",
       "<style scoped>\n",
       "    .dataframe tbody tr th:only-of-type {\n",
       "        vertical-align: middle;\n",
       "    }\n",
       "\n",
       "    .dataframe tbody tr th {\n",
       "        vertical-align: top;\n",
       "    }\n",
       "\n",
       "    .dataframe thead th {\n",
       "        text-align: right;\n",
       "    }\n",
       "</style>\n",
       "<table border=\"1\" class=\"dataframe\">\n",
       "  <thead>\n",
       "    <tr style=\"text-align: right;\">\n",
       "      <th></th>\n",
       "      <th>CreditScore</th>\n",
       "      <th>Geography</th>\n",
       "      <th>Gender</th>\n",
       "      <th>Age</th>\n",
       "      <th>Tenure</th>\n",
       "      <th>Balance</th>\n",
       "      <th>NumOfProducts</th>\n",
       "      <th>HasCrCard</th>\n",
       "      <th>IsActiveMember</th>\n",
       "      <th>EstimatedSalary</th>\n",
       "      <th>Exited</th>\n",
       "    </tr>\n",
       "  </thead>\n",
       "  <tbody>\n",
       "    <tr>\n",
       "      <th>0</th>\n",
       "      <td>619</td>\n",
       "      <td>France</td>\n",
       "      <td>Female</td>\n",
       "      <td>42</td>\n",
       "      <td>2</td>\n",
       "      <td>0.00</td>\n",
       "      <td>1</td>\n",
       "      <td>1</td>\n",
       "      <td>1</td>\n",
       "      <td>101348.88</td>\n",
       "      <td>1</td>\n",
       "    </tr>\n",
       "    <tr>\n",
       "      <th>1</th>\n",
       "      <td>608</td>\n",
       "      <td>Spain</td>\n",
       "      <td>Female</td>\n",
       "      <td>41</td>\n",
       "      <td>1</td>\n",
       "      <td>83807.86</td>\n",
       "      <td>1</td>\n",
       "      <td>0</td>\n",
       "      <td>1</td>\n",
       "      <td>112542.58</td>\n",
       "      <td>0</td>\n",
       "    </tr>\n",
       "    <tr>\n",
       "      <th>2</th>\n",
       "      <td>502</td>\n",
       "      <td>France</td>\n",
       "      <td>Female</td>\n",
       "      <td>42</td>\n",
       "      <td>8</td>\n",
       "      <td>159660.80</td>\n",
       "      <td>3</td>\n",
       "      <td>1</td>\n",
       "      <td>0</td>\n",
       "      <td>113931.57</td>\n",
       "      <td>1</td>\n",
       "    </tr>\n",
       "    <tr>\n",
       "      <th>3</th>\n",
       "      <td>699</td>\n",
       "      <td>France</td>\n",
       "      <td>Female</td>\n",
       "      <td>39</td>\n",
       "      <td>1</td>\n",
       "      <td>0.00</td>\n",
       "      <td>2</td>\n",
       "      <td>0</td>\n",
       "      <td>0</td>\n",
       "      <td>93826.63</td>\n",
       "      <td>0</td>\n",
       "    </tr>\n",
       "    <tr>\n",
       "      <th>4</th>\n",
       "      <td>850</td>\n",
       "      <td>Spain</td>\n",
       "      <td>Female</td>\n",
       "      <td>43</td>\n",
       "      <td>2</td>\n",
       "      <td>125510.82</td>\n",
       "      <td>1</td>\n",
       "      <td>1</td>\n",
       "      <td>1</td>\n",
       "      <td>79084.10</td>\n",
       "      <td>0</td>\n",
       "    </tr>\n",
       "  </tbody>\n",
       "</table>\n",
       "</div>"
      ],
      "text/plain": [
       "   CreditScore Geography  Gender  Age  Tenure    Balance  NumOfProducts  \\\n",
       "0          619    France  Female   42       2       0.00              1   \n",
       "1          608     Spain  Female   41       1   83807.86              1   \n",
       "2          502    France  Female   42       8  159660.80              3   \n",
       "3          699    France  Female   39       1       0.00              2   \n",
       "4          850     Spain  Female   43       2  125510.82              1   \n",
       "\n",
       "   HasCrCard  IsActiveMember  EstimatedSalary  Exited  \n",
       "0          1               1        101348.88       1  \n",
       "1          0               1        112542.58       0  \n",
       "2          1               0        113931.57       1  \n",
       "3          0               0         93826.63       0  \n",
       "4          1               1         79084.10       0  "
      ]
     },
     "execution_count": 5,
     "metadata": {},
     "output_type": "execute_result"
    }
   ],
   "source": [
    "# deleting RowNumber, CustomerId and Surname\n",
    "\n",
    "data = data.drop([\"RowNumber\", \"CustomerId\", \"Surname\"], axis = 1)\n",
    "data.head()"
   ]
  },
  {
   "cell_type": "code",
   "execution_count": 6,
   "id": "de1043c3",
   "metadata": {},
   "outputs": [],
   "source": [
    "import pickle\n",
    "\n",
    "def save_object(obj, name):\n",
    "    pickle_obj = open(f\"{name}.pck\", \"wb\")\n",
    "    pickle.dump(obj, pickle_obj)\n",
    "    pickle_obj.close()"
   ]
  },
  {
   "cell_type": "code",
   "execution_count": 7,
   "id": "6db64293",
   "metadata": {},
   "outputs": [],
   "source": [
    "# Label encode the Object Datatypes\n",
    "from sklearn.preprocessing import LabelEncoder\n",
    "\n",
    "d_types = dict(data.dtypes)\n",
    "\n",
    "for name, type_ in d_types.items():\n",
    "    if str(type_) == 'object':\n",
    "        Le = LabelEncoder()\n",
    "        data[name] = Le.fit_transform(data[name])\n",
    "        \n",
    "        # Label encoding code\n",
    "        save_object(Le, f\"Label_Encoder_{name}\")"
   ]
  },
  {
   "cell_type": "code",
   "execution_count": 8,
   "id": "d7419f9d",
   "metadata": {},
   "outputs": [
    {
     "data": {
      "text/html": [
       "<div>\n",
       "<style scoped>\n",
       "    .dataframe tbody tr th:only-of-type {\n",
       "        vertical-align: middle;\n",
       "    }\n",
       "\n",
       "    .dataframe tbody tr th {\n",
       "        vertical-align: top;\n",
       "    }\n",
       "\n",
       "    .dataframe thead th {\n",
       "        text-align: right;\n",
       "    }\n",
       "</style>\n",
       "<table border=\"1\" class=\"dataframe\">\n",
       "  <thead>\n",
       "    <tr style=\"text-align: right;\">\n",
       "      <th></th>\n",
       "      <th>CreditScore</th>\n",
       "      <th>Geography</th>\n",
       "      <th>Gender</th>\n",
       "      <th>Age</th>\n",
       "      <th>Tenure</th>\n",
       "      <th>Balance</th>\n",
       "      <th>NumOfProducts</th>\n",
       "      <th>HasCrCard</th>\n",
       "      <th>IsActiveMember</th>\n",
       "      <th>EstimatedSalary</th>\n",
       "      <th>Exited</th>\n",
       "    </tr>\n",
       "  </thead>\n",
       "  <tbody>\n",
       "    <tr>\n",
       "      <th>0</th>\n",
       "      <td>619</td>\n",
       "      <td>0</td>\n",
       "      <td>0</td>\n",
       "      <td>42</td>\n",
       "      <td>2</td>\n",
       "      <td>0.00</td>\n",
       "      <td>1</td>\n",
       "      <td>1</td>\n",
       "      <td>1</td>\n",
       "      <td>101348.88</td>\n",
       "      <td>1</td>\n",
       "    </tr>\n",
       "    <tr>\n",
       "      <th>1</th>\n",
       "      <td>608</td>\n",
       "      <td>2</td>\n",
       "      <td>0</td>\n",
       "      <td>41</td>\n",
       "      <td>1</td>\n",
       "      <td>83807.86</td>\n",
       "      <td>1</td>\n",
       "      <td>0</td>\n",
       "      <td>1</td>\n",
       "      <td>112542.58</td>\n",
       "      <td>0</td>\n",
       "    </tr>\n",
       "    <tr>\n",
       "      <th>2</th>\n",
       "      <td>502</td>\n",
       "      <td>0</td>\n",
       "      <td>0</td>\n",
       "      <td>42</td>\n",
       "      <td>8</td>\n",
       "      <td>159660.80</td>\n",
       "      <td>3</td>\n",
       "      <td>1</td>\n",
       "      <td>0</td>\n",
       "      <td>113931.57</td>\n",
       "      <td>1</td>\n",
       "    </tr>\n",
       "    <tr>\n",
       "      <th>3</th>\n",
       "      <td>699</td>\n",
       "      <td>0</td>\n",
       "      <td>0</td>\n",
       "      <td>39</td>\n",
       "      <td>1</td>\n",
       "      <td>0.00</td>\n",
       "      <td>2</td>\n",
       "      <td>0</td>\n",
       "      <td>0</td>\n",
       "      <td>93826.63</td>\n",
       "      <td>0</td>\n",
       "    </tr>\n",
       "    <tr>\n",
       "      <th>4</th>\n",
       "      <td>850</td>\n",
       "      <td>2</td>\n",
       "      <td>0</td>\n",
       "      <td>43</td>\n",
       "      <td>2</td>\n",
       "      <td>125510.82</td>\n",
       "      <td>1</td>\n",
       "      <td>1</td>\n",
       "      <td>1</td>\n",
       "      <td>79084.10</td>\n",
       "      <td>0</td>\n",
       "    </tr>\n",
       "  </tbody>\n",
       "</table>\n",
       "</div>"
      ],
      "text/plain": [
       "   CreditScore  Geography  Gender  Age  Tenure    Balance  NumOfProducts  \\\n",
       "0          619          0       0   42       2       0.00              1   \n",
       "1          608          2       0   41       1   83807.86              1   \n",
       "2          502          0       0   42       8  159660.80              3   \n",
       "3          699          0       0   39       1       0.00              2   \n",
       "4          850          2       0   43       2  125510.82              1   \n",
       "\n",
       "   HasCrCard  IsActiveMember  EstimatedSalary  Exited  \n",
       "0          1               1        101348.88       1  \n",
       "1          0               1        112542.58       0  \n",
       "2          1               0        113931.57       1  \n",
       "3          0               0         93826.63       0  \n",
       "4          1               1         79084.10       0  "
      ]
     },
     "execution_count": 8,
     "metadata": {},
     "output_type": "execute_result"
    }
   ],
   "source": [
    "data.head()"
   ]
  },
  {
   "cell_type": "code",
   "execution_count": 9,
   "id": "920c627f",
   "metadata": {},
   "outputs": [
    {
     "data": {
      "text/html": [
       "<div>\n",
       "<style scoped>\n",
       "    .dataframe tbody tr th:only-of-type {\n",
       "        vertical-align: middle;\n",
       "    }\n",
       "\n",
       "    .dataframe tbody tr th {\n",
       "        vertical-align: top;\n",
       "    }\n",
       "\n",
       "    .dataframe thead th {\n",
       "        text-align: right;\n",
       "    }\n",
       "</style>\n",
       "<table border=\"1\" class=\"dataframe\">\n",
       "  <thead>\n",
       "    <tr style=\"text-align: right;\">\n",
       "      <th></th>\n",
       "      <th>CreditScore</th>\n",
       "      <th>Gender</th>\n",
       "      <th>Age</th>\n",
       "      <th>Tenure</th>\n",
       "      <th>Balance</th>\n",
       "      <th>NumOfProducts</th>\n",
       "      <th>HasCrCard</th>\n",
       "      <th>IsActiveMember</th>\n",
       "      <th>EstimatedSalary</th>\n",
       "      <th>Exited</th>\n",
       "      <th>Geography_0</th>\n",
       "      <th>Geography_2</th>\n",
       "      <th>Geography_1</th>\n",
       "    </tr>\n",
       "  </thead>\n",
       "  <tbody>\n",
       "    <tr>\n",
       "      <th>0</th>\n",
       "      <td>619</td>\n",
       "      <td>0</td>\n",
       "      <td>42</td>\n",
       "      <td>2</td>\n",
       "      <td>0.00</td>\n",
       "      <td>1</td>\n",
       "      <td>1</td>\n",
       "      <td>1</td>\n",
       "      <td>101348.88</td>\n",
       "      <td>1</td>\n",
       "      <td>1.0</td>\n",
       "      <td>0.0</td>\n",
       "      <td>0.0</td>\n",
       "    </tr>\n",
       "    <tr>\n",
       "      <th>1</th>\n",
       "      <td>608</td>\n",
       "      <td>0</td>\n",
       "      <td>41</td>\n",
       "      <td>1</td>\n",
       "      <td>83807.86</td>\n",
       "      <td>1</td>\n",
       "      <td>0</td>\n",
       "      <td>1</td>\n",
       "      <td>112542.58</td>\n",
       "      <td>0</td>\n",
       "      <td>0.0</td>\n",
       "      <td>1.0</td>\n",
       "      <td>0.0</td>\n",
       "    </tr>\n",
       "    <tr>\n",
       "      <th>2</th>\n",
       "      <td>502</td>\n",
       "      <td>0</td>\n",
       "      <td>42</td>\n",
       "      <td>8</td>\n",
       "      <td>159660.80</td>\n",
       "      <td>3</td>\n",
       "      <td>1</td>\n",
       "      <td>0</td>\n",
       "      <td>113931.57</td>\n",
       "      <td>1</td>\n",
       "      <td>1.0</td>\n",
       "      <td>0.0</td>\n",
       "      <td>0.0</td>\n",
       "    </tr>\n",
       "    <tr>\n",
       "      <th>3</th>\n",
       "      <td>699</td>\n",
       "      <td>0</td>\n",
       "      <td>39</td>\n",
       "      <td>1</td>\n",
       "      <td>0.00</td>\n",
       "      <td>2</td>\n",
       "      <td>0</td>\n",
       "      <td>0</td>\n",
       "      <td>93826.63</td>\n",
       "      <td>0</td>\n",
       "      <td>1.0</td>\n",
       "      <td>0.0</td>\n",
       "      <td>0.0</td>\n",
       "    </tr>\n",
       "    <tr>\n",
       "      <th>4</th>\n",
       "      <td>850</td>\n",
       "      <td>0</td>\n",
       "      <td>43</td>\n",
       "      <td>2</td>\n",
       "      <td>125510.82</td>\n",
       "      <td>1</td>\n",
       "      <td>1</td>\n",
       "      <td>1</td>\n",
       "      <td>79084.10</td>\n",
       "      <td>0</td>\n",
       "      <td>0.0</td>\n",
       "      <td>1.0</td>\n",
       "      <td>0.0</td>\n",
       "    </tr>\n",
       "  </tbody>\n",
       "</table>\n",
       "</div>"
      ],
      "text/plain": [
       "   CreditScore  Gender  Age  Tenure    Balance  NumOfProducts  HasCrCard  \\\n",
       "0          619       0   42       2       0.00              1          1   \n",
       "1          608       0   41       1   83807.86              1          0   \n",
       "2          502       0   42       8  159660.80              3          1   \n",
       "3          699       0   39       1       0.00              2          0   \n",
       "4          850       0   43       2  125510.82              1          1   \n",
       "\n",
       "   IsActiveMember  EstimatedSalary  Exited  Geography_0  Geography_2  \\\n",
       "0               1        101348.88       1          1.0          0.0   \n",
       "1               1        112542.58       0          0.0          1.0   \n",
       "2               0        113931.57       1          1.0          0.0   \n",
       "3               0         93826.63       0          1.0          0.0   \n",
       "4               1         79084.10       0          0.0          1.0   \n",
       "\n",
       "   Geography_1  \n",
       "0          0.0  \n",
       "1          0.0  \n",
       "2          0.0  \n",
       "3          0.0  \n",
       "4          0.0  "
      ]
     },
     "execution_count": 9,
     "metadata": {},
     "output_type": "execute_result"
    }
   ],
   "source": [
    "# one hot encode \"Geography\"\n",
    "# optional\n",
    "\n",
    "from sklearn.preprocessing import OneHotEncoder\n",
    "\n",
    "onehotencoder = OneHotEncoder()\n",
    "encodings = onehotencoder.fit_transform(data['Geography'].values.reshape(-1,1)).toarray()\n",
    "save_object(onehotencoder, \"OneHotEncoder_Geography\")\n",
    "\n",
    "#values = dict(data[\"Geography\"].value_counts())\n",
    "values = data[\"Geography\"].unique()\n",
    "\n",
    "for val in values:\n",
    "    data[\"Geography_\" + str(val)] = encodings[:,val]\n",
    "    \n",
    "data = data.drop([\"Geography\"], axis = 1)\n",
    "\n",
    "data.head()"
   ]
  },
  {
   "cell_type": "code",
   "execution_count": 10,
   "id": "7a928f6e",
   "metadata": {},
   "outputs": [],
   "source": [
    "remaining_columns = list(data.columns)\n",
    "remaining_columns.remove(\"Exited\")"
   ]
  },
  {
   "cell_type": "code",
   "execution_count": 11,
   "id": "25147d3a",
   "metadata": {},
   "outputs": [],
   "source": [
    "save_object(remaining_columns, \"columns\")"
   ]
  },
  {
   "cell_type": "code",
   "execution_count": 12,
   "id": "b103619d",
   "metadata": {},
   "outputs": [],
   "source": [
    "# Feature and Target vector\n",
    "\n",
    "X = data[remaining_columns].values\n",
    "Y = data['Exited'].values.astype(np.uint8)"
   ]
  },
  {
   "cell_type": "code",
   "execution_count": 13,
   "id": "2fb17490",
   "metadata": {},
   "outputs": [],
   "source": [
    "from sklearn.model_selection import train_test_split\n",
    "\n",
    "Xtrain, Xtest, Ytrain, Ytest = train_test_split(X, Y, test_size=0.2, random_state=4)"
   ]
  },
  {
   "cell_type": "code",
   "execution_count": 14,
   "id": "97e79dfa",
   "metadata": {},
   "outputs": [],
   "source": [
    "from sklearn.preprocessing import StandardScaler\n",
    "\n",
    "Scaler = StandardScaler()\n",
    "Xtrain = Scaler.fit_transform(Xtrain)\n",
    "Xtest = Scaler.transform(Xtest)\n",
    "\n",
    "save_object(Scaler, \"Scaler\")"
   ]
  },
  {
   "cell_type": "code",
   "execution_count": 15,
   "id": "4d1edb70",
   "metadata": {},
   "outputs": [
    {
     "data": {
      "text/plain": [
       "[<matplotlib.lines.Line2D at 0x245000f9208>]"
      ]
     },
     "execution_count": 15,
     "metadata": {},
     "output_type": "execute_result"
    },
    {
     "data": {
      "image/png": "[encoded data removed]",
      "text/plain": [
       "<Figure size 432x288 with 1 Axes>"
      ]
     },
     "metadata": {
      "needs_background": "light"
     },
     "output_type": "display_data"
    }
   ],
   "source": [
    "# check whether data is standardized or not\n",
    "# mean should be 1\n",
    "\n",
    "plt.ylim(-1,1)\n",
    "\n",
    "means = []\n",
    "for i in range(X.shape[1]):\n",
    "    means.append(np.mean(Xtest[:,i]))\n",
    "plt.plot(means, scaley=False)"
   ]
  },
  {
   "cell_type": "code",
   "execution_count": 16,
   "id": "73fbc3f1",
   "metadata": {},
   "outputs": [
    {
     "data": {
      "text/plain": [
       "[<matplotlib.lines.Line2D at 0x245002442b0>]"
      ]
     },
     "execution_count": 16,
     "metadata": {},
     "output_type": "execute_result"
    },
    {
     "data": {
      "image/png": "[encoded data removed]",
      "text/plain": [
       "<Figure size 432x288 with 1 Axes>"
      ]
     },
     "metadata": {
      "needs_background": "light"
     },
     "output_type": "display_data"
    }
   ],
   "source": [
    "# check variances\n",
    "# means does not vary much from 0, and variance does not vary far from 1,\n",
    "# which means that test and train set are not very different.\n",
    "\n",
    "plt.ylim(0,2)\n",
    "\n",
    "vars = []\n",
    "for i in range(X.shape[1]):\n",
    "    vars.append(np.var(Xtest[:,i]))\n",
    "plt.plot(vars)"
   ]
  },
  {
   "cell_type": "code",
   "execution_count": 17,
   "id": "b3f9bae8",
   "metadata": {},
   "outputs": [],
   "source": [
    "from sklearn.linear_model import LogisticRegression\n",
    "\n",
    "model = LogisticRegression()\n",
    "model.fit(Xtrain, Ytrain)\n",
    "\n",
    "predictions = model.predict(Xtest)\n",
    "pred_probs = model.predict_proba(Xtest)"
   ]
  },
  {
   "cell_type": "code",
   "execution_count": 18,
   "id": "db515d08",
   "metadata": {},
   "outputs": [
    {
     "data": {
      "text/plain": [
       "array([[0.78851495, 0.21148505],\n",
       "       [0.85005476, 0.14994524],\n",
       "       [0.89806886, 0.10193114]])"
      ]
     },
     "execution_count": 18,
     "metadata": {},
     "output_type": "execute_result"
    }
   ],
   "source": [
    "# sample probabilities\n",
    "\n",
    "pred_probs[:3]"
   ]
  },
  {
   "cell_type": "code",
   "execution_count": 19,
   "id": "a9166dee",
   "metadata": {},
   "outputs": [],
   "source": [
    "# Get the probs of only Churn = \"1\"\n",
    "\n",
    "pred_probs = pred_probs[:, 1]"
   ]
  },
  {
   "cell_type": "markdown",
   "id": "e909746f",
   "metadata": {},
   "source": [
    "Metrics"
   ]
  },
  {
   "cell_type": "code",
   "execution_count": 20,
   "id": "b478ccdd",
   "metadata": {},
   "outputs": [
    {
     "name": "stdout",
     "output_type": "stream",
     "text": [
      "[[1549   55]\n",
      " [ 302   94]]\n"
     ]
    },
    {
     "data": {
      "text/plain": [
       "<AxesSubplot:>"
      ]
     },
     "execution_count": 20,
     "metadata": {},
     "output_type": "execute_result"
    },
    {
     "data": {
      "image/png": "[encoded data removed]",
      "text/plain": [
       "<Figure size 432x288 with 2 Axes>"
      ]
     },
     "metadata": {
      "needs_background": "light"
     },
     "output_type": "display_data"
    }
   ],
   "source": [
    "from sklearn.metrics import confusion_matrix, accuracy_score, precision_score,\\\n",
    "                            recall_score, roc_curve, roc_auc_score\n",
    "\n",
    "matrix = confusion_matrix(Ytest, predictions)\n",
    "print(matrix)\n",
    "sns.heatmap(matrix, annot=True)"
   ]
  },
  {
   "cell_type": "code",
   "execution_count": 21,
   "id": "4f0b6ca9",
   "metadata": {},
   "outputs": [
    {
     "name": "stdout",
     "output_type": "stream",
     "text": [
      "Validation Accuracy :  0.8215\n"
     ]
    }
   ],
   "source": [
    "def Accuracy(Truths, Predictions):\n",
    "    return np.mean(Truths == Predictions)\n",
    "\n",
    "print(\"Validation Accuracy : \", Accuracy(Ytest, predictions))"
   ]
  },
  {
   "cell_type": "code",
   "execution_count": 22,
   "id": "0733a0d6",
   "metadata": {},
   "outputs": [
    {
     "name": "stdout",
     "output_type": "stream",
     "text": [
      "Precision :  0.6308724832214765\n"
     ]
    }
   ],
   "source": [
    "# Checking precision\n",
    "\n",
    "print(\"Precision : \", precision_score(Ytest, predictions))"
   ]
  },
  {
   "cell_type": "code",
   "execution_count": 23,
   "id": "729ec8a9",
   "metadata": {},
   "outputs": [
    {
     "name": "stdout",
     "output_type": "stream",
     "text": [
      "Precision :  0.23737373737373738\n"
     ]
    }
   ],
   "source": [
    "# Checking recall\n",
    "\n",
    "print(\"Precision : \", recall_score(Ytest, predictions))"
   ]
  },
  {
   "cell_type": "code",
   "execution_count": 24,
   "id": "819081fa",
   "metadata": {},
   "outputs": [
    {
     "data": {
      "image/png": "[encoded data removed]",
      "text/plain": [
       "<Figure size 432x288 with 1 Axes>"
      ]
     },
     "metadata": {
      "needs_background": "light"
     },
     "output_type": "display_data"
    }
   ],
   "source": [
    "Fpr, Tpr, _ = roc_curve(Ytest, pred_probs)\n",
    "\n",
    "plt.plot(Fpr, Tpr, marker='.', label='without class weights')\n",
    "plt.xlabel('False Positive Rate')\n",
    "plt.ylabel('True Positive Rate')\n",
    "plt.legend()\n",
    "plt.show()"
   ]
  },
  {
   "cell_type": "code",
   "execution_count": 25,
   "id": "aff339bf",
   "metadata": {},
   "outputs": [
    {
     "name": "stdout",
     "output_type": "stream",
     "text": [
      " Area Under Curve :  0.770071349404267\n"
     ]
    }
   ],
   "source": [
    "Auc = roc_auc_score(Ytest, pred_probs)\n",
    "print(\" Area Under Curve : \", Auc)"
   ]
  },
  {
   "cell_type": "markdown",
   "id": "a0fb0c93",
   "metadata": {},
   "source": [
    "Applying Class Weights"
   ]
  },
  {
   "cell_type": "code",
   "execution_count": 26,
   "id": "fb2e5bc1",
   "metadata": {},
   "outputs": [
    {
     "name": "stdout",
     "output_type": "stream",
     "text": [
      "{0: 7963, 1: 2037}\n"
     ]
    }
   ],
   "source": [
    "# finding class weights\n",
    "\n",
    "value_counts = dict(data[\"Exited\"].value_counts())\n",
    "print(value_counts)"
   ]
  },
  {
   "cell_type": "code",
   "execution_count": 27,
   "id": "ac899228",
   "metadata": {},
   "outputs": [],
   "source": [
    "class_weights = {0 : 20.37, 1 : 79.63}"
   ]
  },
  {
   "cell_type": "code",
   "execution_count": 28,
   "id": "01b3d640",
   "metadata": {},
   "outputs": [],
   "source": [
    "from sklearn.linear_model import LogisticRegression\n",
    "\n",
    "model = LogisticRegression(class_weight=class_weights)\n",
    "model.fit(Xtrain, Ytrain)\n",
    "\n",
    "predictions = model.predict(Xtest)\n",
    "save_object(model, \"MyModel\")\n",
    "pred_probs = model.predict_proba(Xtest)"
   ]
  },
  {
   "cell_type": "code",
   "execution_count": 29,
   "id": "9f94a42c",
   "metadata": {},
   "outputs": [],
   "source": [
    "# Get the probs of only Churn = \"1\"\n",
    "\n",
    "pred_probs = pred_probs[:, 1]"
   ]
  },
  {
   "cell_type": "code",
   "execution_count": 30,
   "id": "e8173399",
   "metadata": {},
   "outputs": [
    {
     "name": "stdout",
     "output_type": "stream",
     "text": [
      "[[1128  476]\n",
      " [ 120  276]]\n"
     ]
    },
    {
     "data": {
      "text/plain": [
       "<AxesSubplot:>"
      ]
     },
     "execution_count": 30,
     "metadata": {},
     "output_type": "execute_result"
    },
    {
     "data": {
      "image/png": "[encoded data removed]",
      "text/plain": [
       "<Figure size 432x288 with 2 Axes>"
      ]
     },
     "metadata": {
      "needs_background": "light"
     },
     "output_type": "display_data"
    }
   ],
   "source": [
    "matrix = confusion_matrix(Ytest, predictions)\n",
    "print(matrix)\n",
    "sns.heatmap(matrix, annot=True)"
   ]
  },
  {
   "cell_type": "code",
   "execution_count": 31,
   "id": "e1c80ee8",
   "metadata": {},
   "outputs": [
    {
     "name": "stdout",
     "output_type": "stream",
     "text": [
      "Validation Accuracy :  0.702\n"
     ]
    }
   ],
   "source": [
    "def Accuracy(Truths, Predictions):\n",
    "    return np.mean(Truths == Predictions)\n",
    "\n",
    "print(\"Validation Accuracy : \", Accuracy(Ytest, predictions))"
   ]
  },
  {
   "cell_type": "code",
   "execution_count": 32,
   "id": "1fae0162",
   "metadata": {},
   "outputs": [
    {
     "name": "stdout",
     "output_type": "stream",
     "text": [
      "Precision :  0.3670212765957447\n"
     ]
    }
   ],
   "source": [
    "# Checking precision\n",
    "\n",
    "print(\"Precision : \", precision_score(Ytest, predictions))"
   ]
  },
  {
   "cell_type": "code",
   "execution_count": 33,
   "id": "736a7432",
   "metadata": {},
   "outputs": [
    {
     "name": "stdout",
     "output_type": "stream",
     "text": [
      "Precision :  0.696969696969697\n"
     ]
    }
   ],
   "source": [
    "# Checking recall\n",
    "\n",
    "print(\"Precision : \", recall_score(Ytest, predictions))"
   ]
  },
  {
   "cell_type": "code",
   "execution_count": 34,
   "id": "eb15a62d",
   "metadata": {},
   "outputs": [
    {
     "data": {
      "image/png": "[encoded data removed]",
      "text/plain": [
       "<Figure size 432x288 with 1 Axes>"
      ]
     },
     "metadata": {
      "needs_background": "light"
     },
     "output_type": "display_data"
    }
   ],
   "source": [
    "Fpr, Tpr, _ = roc_curve(Ytest, pred_probs)\n",
    "\n",
    "plt.plot(Fpr, Tpr, marker='.', label='with class weights')\n",
    "plt.xlabel('False Positive Rate')\n",
    "plt.ylabel('True Positive Rate')\n",
    "plt.legend()\n",
    "plt.show()"
   ]
  },
  {
   "cell_type": "code",
   "execution_count": 35,
   "id": "99030871",
   "metadata": {},
   "outputs": [
    {
     "name": "stdout",
     "output_type": "stream",
     "text": [
      " Area Under Curve :  0.7736104813723268\n"
     ]
    }
   ],
   "source": [
    "Auc = roc_auc_score(Ytest, pred_probs)\n",
    "print(\" Area Under Curve : \", Auc)"
   ]
  },
  {
   "cell_type": "markdown",
   "id": "6069f298",
   "metadata": {},
   "source": [
    "### Realtime Prediction"
   ]
  },
  {
   "cell_type": "code",
   "execution_count": 36,
   "id": "73e34b64",
   "metadata": {},
   "outputs": [],
   "source": [
    "import pandas as pd\n",
    "import numpy as np\n",
    "import matplotlib.pyplot as plt\n",
    "import seaborn as sns\n",
    "import pickle"
   ]
  },
  {
   "cell_type": "code",
   "execution_count": 37,
   "id": "700485ae",
   "metadata": {},
   "outputs": [],
   "source": [
    "def load_object(name):\n",
    "    pickle_obj = open(f\"{name}.pck\", \"rb\")\n",
    "    obj = pickle.load(pickle_obj)\n",
    "    return obj"
   ]
  },
  {
   "cell_type": "code",
   "execution_count": 38,
   "id": "f85e4af8",
   "metadata": {},
   "outputs": [
    {
     "name": "stdout",
     "output_type": "stream",
     "text": [
      "{'RowNumber': 11, 'CustomerId': 15767821, 'Surname': 'Bearce', 'CreditScore': 528, 'Geography': 'France', 'Gender': 'Male', 'Age': 31, 'Tenure': 6, 'Balance': 102016.72, 'NumOfProducts': 2, 'HasCrCard': 0, 'IsActiveMember': 0, 'EstimatedSalary': 80181.12, 'Exited': 0}\n"
     ]
    }
   ],
   "source": [
    "# Load the Data Point\n",
    "\n",
    "data = pd.read_csv(\"Churn_Modelling.csv\")\n",
    "\n",
    "to_be_predicted = data.iloc[10,:].values\n",
    "\n",
    "col_names = data.columns\n",
    "predict_dict = {}\n",
    "\n",
    "for col_name, val in zip(col_names, to_be_predicted):\n",
    "    predict_dict[col_name] = val\n",
    "    \n",
    "print(predict_dict)"
   ]
  },
  {
   "cell_type": "code",
   "execution_count": 39,
   "id": "c9a38686",
   "metadata": {},
   "outputs": [],
   "source": [
    "del predict_dict[\"RowNumber\"]\n",
    "del predict_dict[\"CustomerId\"]\n",
    "del predict_dict[\"Surname\"]"
   ]
  },
  {
   "cell_type": "code",
   "execution_count": 40,
   "id": "9addff94",
   "metadata": {},
   "outputs": [],
   "source": [
    "real_output = predict_dict[\"Exited\"]\n",
    "del predict_dict[\"Exited\"]"
   ]
  },
  {
   "cell_type": "code",
   "execution_count": 41,
   "id": "104cf2ea",
   "metadata": {},
   "outputs": [],
   "source": [
    "predict_dict[\"Gender\"] = load_object(\"Label_Encoder_Gender\").transform(np.array(predict_dict[\"Gender\"]).reshape(-1,))[0]"
   ]
  },
  {
   "cell_type": "code",
   "execution_count": 42,
   "id": "af63e9e6",
   "metadata": {},
   "outputs": [],
   "source": [
    "predict_dict[\"Geography\"] = load_object(\"Label_Encoder_Geography\").transform(np.array(predict_dict[\"Geography\"]).reshape(-1,))[0]"
   ]
  },
  {
   "cell_type": "code",
   "execution_count": 43,
   "id": "ac9e718b",
   "metadata": {},
   "outputs": [
    {
     "data": {
      "text/plain": [
       "{'CreditScore': 528,\n",
       " 'Geography': 0,\n",
       " 'Gender': 1,\n",
       " 'Age': 31,\n",
       " 'Tenure': 6,\n",
       " 'Balance': 102016.72,\n",
       " 'NumOfProducts': 2,\n",
       " 'HasCrCard': 0,\n",
       " 'IsActiveMember': 0,\n",
       " 'EstimatedSalary': 80181.12}"
      ]
     },
     "execution_count": 43,
     "metadata": {},
     "output_type": "execute_result"
    }
   ],
   "source": [
    "predict_dict"
   ]
  },
  {
   "cell_type": "code",
   "execution_count": 44,
   "id": "656a7c30",
   "metadata": {},
   "outputs": [],
   "source": [
    "predict_dict[\"Geography_ohe\"] = load_object(\"OneHotEncoder_Geography\").transform(predict_dict[\"Geography\"].reshape(-1,1)).toarray()[0]"
   ]
  },
  {
   "cell_type": "code",
   "execution_count": 45,
   "id": "f25ff745",
   "metadata": {},
   "outputs": [
    {
     "data": {
      "text/plain": [
       "{'CreditScore': 528,\n",
       " 'Geography': 0,\n",
       " 'Gender': 1,\n",
       " 'Age': 31,\n",
       " 'Tenure': 6,\n",
       " 'Balance': 102016.72,\n",
       " 'NumOfProducts': 2,\n",
       " 'HasCrCard': 0,\n",
       " 'IsActiveMember': 0,\n",
       " 'EstimatedSalary': 80181.12,\n",
       " 'Geography_ohe': array([1., 0., 0.])}"
      ]
     },
     "execution_count": 45,
     "metadata": {},
     "output_type": "execute_result"
    }
   ],
   "source": [
    "predict_dict"
   ]
  },
  {
   "cell_type": "code",
   "execution_count": 46,
   "id": "e3360227",
   "metadata": {},
   "outputs": [],
   "source": [
    "del predict_dict[\"Geography\"]"
   ]
  },
  {
   "cell_type": "code",
   "execution_count": 47,
   "id": "9fb455af",
   "metadata": {},
   "outputs": [],
   "source": [
    "for e, i in enumerate(predict_dict[\"Geography_ohe\"]):\n",
    "    predict_dict[\"Geography_\" + str(e)] = i"
   ]
  },
  {
   "cell_type": "code",
   "execution_count": 48,
   "id": "fc2e19b8",
   "metadata": {},
   "outputs": [],
   "source": [
    "del predict_dict[\"Geography_ohe\"]"
   ]
  },
  {
   "cell_type": "code",
   "execution_count": 49,
   "id": "cb616230",
   "metadata": {},
   "outputs": [
    {
     "data": {
      "text/plain": [
       "{'CreditScore': 528,\n",
       " 'Gender': 1,\n",
       " 'Age': 31,\n",
       " 'Tenure': 6,\n",
       " 'Balance': 102016.72,\n",
       " 'NumOfProducts': 2,\n",
       " 'HasCrCard': 0,\n",
       " 'IsActiveMember': 0,\n",
       " 'EstimatedSalary': 80181.12,\n",
       " 'Geography_0': 1.0,\n",
       " 'Geography_1': 0.0,\n",
       " 'Geography_2': 0.0}"
      ]
     },
     "execution_count": 49,
     "metadata": {},
     "output_type": "execute_result"
    }
   ],
   "source": [
    "predict_dict"
   ]
  },
  {
   "cell_type": "code",
   "execution_count": 50,
   "id": "692ff186",
   "metadata": {},
   "outputs": [
    {
     "name": "stdout",
     "output_type": "stream",
     "text": [
      "[5.2800000e+02 1.0000000e+00 3.1000000e+01 6.0000000e+00 1.0201672e+05\n",
      " 2.0000000e+00 0.0000000e+00 0.0000000e+00 8.0181120e+04 1.0000000e+00\n",
      " 0.0000000e+00 0.0000000e+00]\n"
     ]
    }
   ],
   "source": [
    "# Lets make the main array\n",
    "\n",
    "col_sequence = load_object(\"columns\")\n",
    "array = []\n",
    "\n",
    "for col_name in col_sequence:\n",
    "    array.append(predict_dict[col_name])\n",
    "    \n",
    "array = np.array(array)\n",
    "\n",
    "print(array)"
   ]
  },
  {
   "cell_type": "code",
   "execution_count": 51,
   "id": "d13344ca",
   "metadata": {},
   "outputs": [],
   "source": [
    "array = load_object(\"Scaler\").transform(array.reshape(1, -1))"
   ]
  },
  {
   "cell_type": "code",
   "execution_count": 52,
   "id": "a47a6ad1",
   "metadata": {},
   "outputs": [
    {
     "name": "stdout",
     "output_type": "stream",
     "text": [
      "0\n"
     ]
    }
   ],
   "source": [
    "prediction = load_object(\"MyModel\").predict(array)[0]\n",
    "print(prediction)"
   ]
  },
  {
   "cell_type": "code",
   "execution_count": 53,
   "id": "019c7336",
   "metadata": {},
   "outputs": [
    {
     "name": "stdout",
     "output_type": "stream",
     "text": [
      " Original :  0  Predicted :  0\n"
     ]
    }
   ],
   "source": [
    "print(\" Original : \", real_output, \" Predicted : \", prediction)"
   ]
  }
 ],
 "metadata": {
  "kernelspec": {
   "display_name": "Python 3",
   "language": "python",
   "name": "python3"
  },
  "language_info": {
   "codemirror_mode": {
    "name": "ipython",
    "version": 3
   },
   "file_extension": ".py",
   "mimetype": "text/x-python",
   "name": "python",
   "nbconvert_exporter": "python",
   "pygments_lexer": "ipython3",
   "version": "3.6.8"
  }
 },
 "nbformat": 4,
 "nbformat_minor": 5
}
