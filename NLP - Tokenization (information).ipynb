{
 "cells": [
  {
   "cell_type": "markdown",
   "id": "bc9339d2",
   "metadata": {},
   "source": [
    "# NLP - Tokenization (information)\n",
    "\n",
    "* Tokenization is simple as well as the building block of natural language.\n",
    "\n",
    "* Tokens help in understanding the context or developing the model for the NLP.\n",
    "\n",
    "* It is a way of separating a piece of text into smaller units called tokens.\n",
    "\n",
    "* The tokens can be:\n",
    "    * Words, Character, Sentences.    \n"
   ]
  }
 ],
 "metadata": {
  "kernelspec": {
   "display_name": "Python 3",
   "language": "python",
   "name": "python3"
  },
  "language_info": {
   "codemirror_mode": {
    "name": "ipython",
    "version": 3
   },
   "file_extension": ".py",
   "mimetype": "text/x-python",
   "name": "python",
   "nbconvert_exporter": "python",
   "pygments_lexer": "ipython3",
   "version": "3.6.8"
  }
 },
 "nbformat": 4,
 "nbformat_minor": 5
}
