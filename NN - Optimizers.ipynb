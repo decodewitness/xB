{
 "cells": [
  {
   "cell_type": "markdown",
   "id": "0ea80382",
   "metadata": {},
   "source": [
    "# NN - Optimizers\n",
    "\n",
    "\n",
    "### Vanilla Gradient Descent\n",
    "\n",
    "* Vanilla Gradient Descent ensures that our model is converging to the optimal weights.\n",
    "\n",
    "* It does not ensure the speed of the convergence.\n",
    "\n",
    "* One parameter that impacts the speed of convergence is the learning rate.\n",
    "\n",
    "* Learning rate is multiplied to the gradients before updating the weights.\n",
    "\n",
    "* If the learning rate is high the weights will get updated strongly (larger steps), if low (smaller steps).\n",
    "\n",
    "* Higher learning rate converges quicker, but never gets to the optimal loss.\n",
    "\n",
    "* Low learning rate will take a lot of time.\n",
    "\n",
    "\n",
    "## Optimizers in Tensorflow\n",
    "\n",
    "* Momentum\n",
    "* RMS Prop\n",
    "* Adagrad\n",
    "* AdaDelta\n",
    "* Adam (converges to better loss/faster than the others)\n"
   ]
  }
 ],
 "metadata": {
  "kernelspec": {
   "display_name": "Python 3",
   "language": "python",
   "name": "python3"
  },
  "language_info": {
   "codemirror_mode": {
    "name": "ipython",
    "version": 3
   },
   "file_extension": ".py",
   "mimetype": "text/x-python",
   "name": "python",
   "nbconvert_exporter": "python",
   "pygments_lexer": "ipython3",
   "version": "3.6.8"
  }
 },
 "nbformat": 4,
 "nbformat_minor": 5
}
