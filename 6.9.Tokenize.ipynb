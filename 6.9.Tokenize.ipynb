{
 "cells": [
  {
   "cell_type": "code",
   "execution_count": 1,
   "id": "a1a78504",
   "metadata": {},
   "outputs": [
    {
     "name": "stderr",
     "output_type": "stream",
     "text": [
      "[nltk_data] Downloading package punkt to /home/user001/nltk_data...\n",
      "[nltk_data]   Package punkt is already up-to-date!\n"
     ]
    }
   ],
   "source": [
    "import nltk\n",
    "nltk.download('punkt')\n",
    "\n",
    "input_text = \"\"\"The vibrations from the eardrum set the ossicles into motion. The ossicles are actually tiny bones — the smallest in the human body. The three bones are named after their shapes: the malleus (hammer), incus (anvil) and stapes (stirrup). The ossicles further amplify the sound.\n",
    "The tiny stapes bone attaches to the oval window that connects the middle ear to the inner ear. The Eustachian tube, which opens into the middle ear, is responsible for equalizing the pressure between the air outside the ear and that within the middle ear.\"\"\"\n"
   ]
  },
  {
   "cell_type": "code",
   "execution_count": 2,
   "id": "d688486e",
   "metadata": {},
   "outputs": [],
   "source": [
    "s = nltk.sent_tokenize(input_text)\n",
    "w = nltk.word_tokenize(input_text)"
   ]
  },
  {
   "cell_type": "code",
   "execution_count": 3,
   "id": "00122653",
   "metadata": {},
   "outputs": [
    {
     "data": {
      "text/plain": [
       "['The vibrations from the eardrum set the ossicles into motion.',\n",
       " 'The ossicles are actually tiny bones — the smallest in the human body.',\n",
       " 'The three bones are named after their shapes: the malleus (hammer), incus (anvil) and stapes (stirrup).',\n",
       " 'The ossicles further amplify the sound.',\n",
       " 'The tiny stapes bone attaches to the oval window that connects the middle ear to the inner ear.',\n",
       " 'The Eustachian tube, which opens into the middle ear, is responsible for equalizing the pressure between the air outside the ear and that within the middle ear.']"
      ]
     },
     "execution_count": 3,
     "metadata": {},
     "output_type": "execute_result"
    }
   ],
   "source": [
    "s"
   ]
  },
  {
   "cell_type": "code",
   "execution_count": 4,
   "id": "35a74125",
   "metadata": {},
   "outputs": [
    {
     "data": {
      "text/plain": [
       "['The',\n",
       " 'vibrations',\n",
       " 'from',\n",
       " 'the',\n",
       " 'eardrum',\n",
       " 'set',\n",
       " 'the',\n",
       " 'ossicles',\n",
       " 'into',\n",
       " 'motion',\n",
       " '.',\n",
       " 'The',\n",
       " 'ossicles',\n",
       " 'are',\n",
       " 'actually',\n",
       " 'tiny',\n",
       " 'bones',\n",
       " '—',\n",
       " 'the',\n",
       " 'smallest',\n",
       " 'in',\n",
       " 'the',\n",
       " 'human',\n",
       " 'body',\n",
       " '.',\n",
       " 'The',\n",
       " 'three',\n",
       " 'bones',\n",
       " 'are',\n",
       " 'named',\n",
       " 'after',\n",
       " 'their',\n",
       " 'shapes',\n",
       " ':',\n",
       " 'the',\n",
       " 'malleus',\n",
       " '(',\n",
       " 'hammer',\n",
       " ')',\n",
       " ',',\n",
       " 'incus',\n",
       " '(',\n",
       " 'anvil',\n",
       " ')',\n",
       " 'and',\n",
       " 'stapes',\n",
       " '(',\n",
       " 'stirrup',\n",
       " ')',\n",
       " '.',\n",
       " 'The',\n",
       " 'ossicles',\n",
       " 'further',\n",
       " 'amplify',\n",
       " 'the',\n",
       " 'sound',\n",
       " '.',\n",
       " 'The',\n",
       " 'tiny',\n",
       " 'stapes',\n",
       " 'bone',\n",
       " 'attaches',\n",
       " 'to',\n",
       " 'the',\n",
       " 'oval',\n",
       " 'window',\n",
       " 'that',\n",
       " 'connects',\n",
       " 'the',\n",
       " 'middle',\n",
       " 'ear',\n",
       " 'to',\n",
       " 'the',\n",
       " 'inner',\n",
       " 'ear',\n",
       " '.',\n",
       " 'The',\n",
       " 'Eustachian',\n",
       " 'tube',\n",
       " ',',\n",
       " 'which',\n",
       " 'opens',\n",
       " 'into',\n",
       " 'the',\n",
       " 'middle',\n",
       " 'ear',\n",
       " ',',\n",
       " 'is',\n",
       " 'responsible',\n",
       " 'for',\n",
       " 'equalizing',\n",
       " 'the',\n",
       " 'pressure',\n",
       " 'between',\n",
       " 'the',\n",
       " 'air',\n",
       " 'outside',\n",
       " 'the',\n",
       " 'ear',\n",
       " 'and',\n",
       " 'that',\n",
       " 'within',\n",
       " 'the',\n",
       " 'middle',\n",
       " 'ear',\n",
       " '.']"
      ]
     },
     "execution_count": 4,
     "metadata": {},
     "output_type": "execute_result"
    }
   ],
   "source": [
    "w"
   ]
  }
 ],
 "metadata": {
  "kernelspec": {
   "display_name": "Python 3 (ipykernel)",
   "language": "python",
   "name": "python3"
  },
  "language_info": {
   "codemirror_mode": {
    "name": "ipython",
    "version": 3
   },
   "file_extension": ".py",
   "mimetype": "text/x-python",
   "name": "python",
   "nbconvert_exporter": "python",
   "pygments_lexer": "ipython3",
   "version": "3.9.13"
  }
 },
 "nbformat": 4,
 "nbformat_minor": 5
}
