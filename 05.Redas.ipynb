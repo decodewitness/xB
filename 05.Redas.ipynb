{
 "cells": [
  {
   "cell_type": "markdown",
   "id": "6cd1d704",
   "metadata": {},
   "source": [
    "# REDAS <=> Model (1)\n",
    "\n",
    "Built w/ Python 3.9.12"
   ]
  },
  {
   "cell_type": "markdown",
   "id": "a87f75db",
   "metadata": {},
   "source": [
    "### <font color=\"blue\">Catalogue with Articles"
   ]
  },
  {
   "cell_type": "code",
   "execution_count": null,
   "id": "e71be1d1",
   "metadata": {},
   "outputs": [],
   "source": [
    "### Random Wiki Page ###\n",
    "random = 'https://en.wikipedia.org/wiki/Special:Random'\n",
    "\n",
    "### Information Technology ###\n",
    "web3 = 'https://en.wikipedia.org/wiki/Web3'\n",
    "blockchain = 'https://en.wikipedia.org/wiki/Blockchain'\n",
    "smart_contract = 'https://en.wikipedia.org/wiki/Smart_contract'\n",
    "machine_learning = 'https://en.wikipedia.org/wiki/Machine_learning'\n",
    "\n",
    "### Additional other URLs ###\n",
    "your_wiki_page1 = '...'\n",
    "your_wiki_page2 = '...'\n",
    "    \n",
    "# etc."
   ]
  },
  {
   "cell_type": "markdown",
   "id": "0f157491",
   "metadata": {},
   "source": [
    "# <font color=\"red\"> ENTER URL REFERENCE:\n",
    "    e.g. 'url = blockchain'   (or)   'url = random'"
   ]
  },
  {
   "cell_type": "code",
   "execution_count": null,
   "id": "d5555bc7",
   "metadata": {},
   "outputs": [],
   "source": [
    "url = random"
   ]
  },
  {
   "cell_type": "markdown",
   "id": "c8aebd82",
   "metadata": {},
   "source": [
    "## Filename to Save to"
   ]
  },
  {
   "cell_type": "code",
   "execution_count": null,
   "id": "7f7d80fc",
   "metadata": {},
   "outputs": [],
   "source": [
    "filename = \"audio.mp3\""
   ]
  },
  {
   "cell_type": "markdown",
   "id": "34771392",
   "metadata": {},
   "source": [
    "* <font color=\"blue\">Pass in the keywords from above.\n",
    "* E.g.: <font color=\"red\">url = random"
   ]
  },
  {
   "cell_type": "markdown",
   "id": "38e6bc6a",
   "metadata": {},
   "source": [
    "-------------------------------------------------------------------------------------\n",
    "### <font color=\"red\">URL could also be any Wikipedia url!\n",
    "#### still it's handier and organised if you keep your pages here above.\n",
    "\n",
    "### e.g.: url = 'https://en.wikipedia.org/wiki/Blockchain'\n",
    "\n",
    "#### the script looks for &lt;p&gt; tags in the wiki html to compile the paragraphs.\n",
    "-------------------------------------------------------------------------------------"
   ]
  },
  {
   "cell_type": "markdown",
   "id": "7ac43df0",
   "metadata": {},
   "source": [
    "##### Credits"
   ]
  },
  {
   "cell_type": "code",
   "execution_count": null,
   "id": "88ac39e7",
   "metadata": {},
   "outputs": [],
   "source": [
    "program = \"REDAS Model (1)\"\n",
    "version = \"v.0.1-4\"\n",
    "author = \"vera lo\"\n",
    "\n",
    "def credits():\n",
    "    print(\"\\n\" + program)\n",
    "    print(\"\\n\\nVersion: \" + version + \"\\nAuthor: \" + author)\n",
    "    !python --version"
   ]
  },
  {
   "cell_type": "markdown",
   "id": "38a1425b",
   "metadata": {},
   "source": [
    "### <font color=\"blue\">Libraries\n",
    "#### <font color=\"red\">(comment these out with an '#' if you already ran the script once,<br>or when you have already installed these libraries)"
   ]
  },
  {
   "cell_type": "code",
   "execution_count": null,
   "id": "9706a79d",
   "metadata": {},
   "outputs": [],
   "source": [
    "### these here are necessary libraries ###\n",
    "!pip install nltk\n",
    "!pip install requests\n",
    "!pip install beautifulsoup4\n",
    "!pip install pyttsx3\n",
    "!pip install pywhatkit\n",
    "\n",
    "### these are for (windows) ###\n",
    "!python -m pip install pyaudio\n",
    "\n",
    "### these are for (linux) ###\n",
    "#!pip install PyAudio # if error lower version python <=3.6\n",
    "\n",
    "### additional (currently unsupported) libraries ###\n",
    "# !pip install SpeechRecognition\n",
    "# !pip install wikipedia\n",
    "# !pip install pyjokes"
   ]
  },
  {
   "cell_type": "markdown",
   "id": "b9d82c3b",
   "metadata": {},
   "source": [
    "### Imports"
   ]
  },
  {
   "cell_type": "code",
   "execution_count": null,
   "id": "bd8868e8",
   "metadata": {},
   "outputs": [],
   "source": [
    "import bs4 as bs\n",
    "from bs4 import BeautifulSoup\n",
    "import requests\n",
    "\n",
    "import urllib.request\n",
    "import re\n",
    "import nltk\n",
    "nltk.download('punkt')\n",
    "import sys\n",
    "import csv "
   ]
  },
  {
   "cell_type": "markdown",
   "id": "d87a88c1",
   "metadata": {},
   "source": [
    "### Scrape Data"
   ]
  },
  {
   "cell_type": "code",
   "execution_count": null,
   "id": "5b501c22",
   "metadata": {},
   "outputs": [],
   "source": [
    "# Open URL\n",
    "scraped_data = urllib.request.urlopen(url)\n",
    "\n",
    "# Paragraphs\n",
    "article = scraped_data.read()\n",
    "parsed_article = bs.BeautifulSoup(article,'lxml')\n",
    "paragraphs = parsed_article.find_all('p')\n",
    "\n",
    "# Get Title of Article\n",
    "response = requests.get(url=url)\n",
    "soup = BeautifulSoup(response.content, 'html.parser')\n",
    "new_title = soup.find(id=\"firstHeading\")\n",
    "\n",
    "# Fox Article\n",
    "article_text = \"\"\n",
    "for p in paragraphs:\n",
    "    article_text += p.text"
   ]
  },
  {
   "cell_type": "markdown",
   "id": "be5f2fa7",
   "metadata": {},
   "source": [
    "### <font color=\"blue\">Cleaning Datata"
   ]
  },
  {
   "cell_type": "code",
   "execution_count": null,
   "id": "36330999",
   "metadata": {},
   "outputs": [],
   "source": [
    "# Removing Square Brackets and Extra Spaces\n",
    "article_text = re.sub(r'\\[[0-9]*\\]', ' ', article_text)\n",
    "# Any whitespace character \\s+\n",
    "article_text = re.sub(r'\\s+', ' ', article_text)\n",
    "# Removing special characters and digits\n",
    "formatted_article_text = re.sub('[^a-zA-Z]', ' ', article_text)\n",
    "# Any whitespace character \\s+\n",
    "formatted_article_text = re.sub(r'\\s+', ' ', formatted_article_text)\n",
    "# Clean the title\n",
    "new_title = re.sub(r'<[^>]*>', '', str(new_title))\n",
    "title = \"Your title is: \\\"\" + new_title + \"\\\"\""
   ]
  },
  {
   "cell_type": "markdown",
   "id": "bd2361d5",
   "metadata": {},
   "source": [
    "### Lexicon"
   ]
  },
  {
   "cell_type": "code",
   "execution_count": null,
   "id": "8dd001aa",
   "metadata": {},
   "outputs": [],
   "source": [
    "#Convert paragraphs to sentences\n",
    "sentence_list = nltk.sent_tokenize(article_text)"
   ]
  },
  {
   "cell_type": "code",
   "execution_count": null,
   "id": "0b4ba102",
   "metadata": {},
   "outputs": [],
   "source": [
    "nltk.download('stopwords')"
   ]
  },
  {
   "cell_type": "code",
   "execution_count": null,
   "id": "fe3457a3",
   "metadata": {},
   "outputs": [],
   "source": [
    "stopwords = nltk.corpus.stopwords.words('english')"
   ]
  },
  {
   "cell_type": "code",
   "execution_count": null,
   "id": "62008163",
   "metadata": {},
   "outputs": [],
   "source": [
    "word_frequencies = {}\n",
    "for word in nltk.word_tokenize(formatted_article_text):\n",
    "    if word not in stopwords:\n",
    "        if word not in word_frequencies.keys():\n",
    "            word_frequencies[word] = 1\n",
    "        else:\n",
    "            word_frequencies[word] += 1"
   ]
  },
  {
   "cell_type": "code",
   "execution_count": null,
   "id": "9420fea8",
   "metadata": {},
   "outputs": [],
   "source": [
    "maximum_frequncy = max(word_frequencies.values())\n",
    "\n",
    "for word in word_frequencies.keys():\n",
    "    word_frequencies[word] = (word_frequencies[word]/maximum_frequncy)"
   ]
  },
  {
   "cell_type": "code",
   "execution_count": null,
   "id": "4a751c91",
   "metadata": {},
   "outputs": [],
   "source": [
    "sentence_scores = {}\n",
    "for sent in sentence_list:\n",
    "    for word in nltk.word_tokenize(sent.lower()):\n",
    "        if word in word_frequencies.keys():\n",
    "            if len(sent.split(' ')) < 30:\n",
    "                if sent not in sentence_scores.keys():\n",
    "                    sentence_scores[sent] = word_frequencies[word]\n",
    "                else:\n",
    "                    sentence_scores[sent] += word_frequencies[word]"
   ]
  },
  {
   "cell_type": "code",
   "execution_count": null,
   "id": "1453ee9f",
   "metadata": {},
   "outputs": [],
   "source": [
    "import heapq"
   ]
  },
  {
   "cell_type": "code",
   "execution_count": null,
   "id": "0516d16a",
   "metadata": {},
   "outputs": [],
   "source": [
    "summary_sentences = heapq.nlargest(3, sentence_scores, key=sentence_scores.get)\n",
    "\n",
    "summary = ' '.join(summary_sentences)"
   ]
  },
  {
   "cell_type": "markdown",
   "id": "0343c300",
   "metadata": {},
   "source": [
    "### Adding the final ingredients"
   ]
  },
  {
   "cell_type": "code",
   "execution_count": null,
   "id": "05e924db",
   "metadata": {},
   "outputs": [],
   "source": [
    "import pyttsx3\n",
    "import pywhatkit\n",
    "# import datetime\n",
    "# import wikipedia\n",
    "# import speech_recognition as sr\n",
    "# import pyjokes"
   ]
  },
  {
   "cell_type": "code",
   "execution_count": null,
   "id": "648fdf28",
   "metadata": {},
   "outputs": [],
   "source": [
    "#listener = sr.Recognizer()\n",
    "engine = pyttsx3.init()\n",
    "voices = engine.getProperty('voices')\n",
    "engine.setProperty('voice', voices[1].id)"
   ]
  },
  {
   "cell_type": "code",
   "execution_count": null,
   "id": "2b8cfda8",
   "metadata": {},
   "outputs": [],
   "source": [
    "rate = engine.getProperty('rate')\n",
    "print(rate)"
   ]
  },
  {
   "cell_type": "code",
   "execution_count": null,
   "id": "f2bed8e3",
   "metadata": {},
   "outputs": [],
   "source": [
    "engine.setProperty('rate', 121)"
   ]
  },
  {
   "cell_type": "code",
   "execution_count": null,
   "id": "83f58294",
   "metadata": {},
   "outputs": [],
   "source": [
    "def talk(text):\n",
    "    engine.say(text)\n",
    "    engine.runAndWait()\n",
    "    \n",
    "def save(filen):\n",
    "    engine.save_to_file(formatted_article_text, filen)"
   ]
  },
  {
   "cell_type": "markdown",
   "id": "8d01f15f",
   "metadata": {},
   "source": [
    "### <font color=\"red\">(SUMMARY)"
   ]
  },
  {
   "cell_type": "code",
   "execution_count": null,
   "id": "c119a8da",
   "metadata": {},
   "outputs": [],
   "source": [
    "print(summary)"
   ]
  },
  {
   "cell_type": "markdown",
   "id": "621c94a7",
   "metadata": {},
   "source": [
    "##### Splash (Audio)"
   ]
  },
  {
   "cell_type": "code",
   "execution_count": null,
   "id": "504233b0",
   "metadata": {},
   "outputs": [],
   "source": [
    "redas = []\n",
    "redas.append(\"REDAS your model 1, your lexicon.\")\n",
    "redas.append(\"Please help support this model, by visiting our website combine research dot com\")\n",
    "\n",
    "for i in redas:\n",
    "    talk(i)"
   ]
  },
  {
   "cell_type": "markdown",
   "id": "c9e3adb4",
   "metadata": {},
   "source": [
    "### <font color=\"red\">(TITLE)"
   ]
  },
  {
   "cell_type": "code",
   "execution_count": null,
   "id": "b41758ee",
   "metadata": {},
   "outputs": [],
   "source": [
    "print(title)\n",
    "talk(title)"
   ]
  },
  {
   "cell_type": "markdown",
   "id": "021f3f50",
   "metadata": {},
   "source": [
    "### <font color=\"red\">(Paragraphs Reference)"
   ]
  },
  {
   "cell_type": "code",
   "execution_count": null,
   "id": "db2541c7",
   "metadata": {},
   "outputs": [],
   "source": [
    "print(formatted_article_text)"
   ]
  },
  {
   "cell_type": "markdown",
   "id": "61dcd002",
   "metadata": {},
   "source": [
    "# <font color=\"purple\">Teaching (Audio)\n",
    "<br>"
   ]
  },
  {
   "cell_type": "code",
   "execution_count": null,
   "id": "f3a354eb",
   "metadata": {},
   "outputs": [],
   "source": [
    "talk(formatted_article_text)\n",
    "\n",
    "\n",
    "### (uncomment if need the unedited article for your reference) ###\n",
    "# print(article_text)\n",
    "# talk(article_text)"
   ]
  },
  {
   "cell_type": "markdown",
   "id": "cf573fd8",
   "metadata": {},
   "source": [
    "## <font color=\"blue\"> Save MP3 Audio"
   ]
  },
  {
   "cell_type": "code",
   "execution_count": null,
   "id": "e1d1ecc3",
   "metadata": {},
   "outputs": [],
   "source": [
    "save(filename)"
   ]
  },
  {
   "cell_type": "markdown",
   "id": "7d5aef0e",
   "metadata": {},
   "source": [
    "\n",
    "### <font color=\"blue\">Credits Author:"
   ]
  },
  {
   "cell_type": "code",
   "execution_count": null,
   "id": "07ee5eb3",
   "metadata": {},
   "outputs": [],
   "source": [
    "credits()"
   ]
  }
 ],
 "metadata": {
  "kernelspec": {
   "display_name": "Python 3 (ipykernel)",
   "language": "python",
   "name": "python3"
  },
  "language_info": {
   "codemirror_mode": {
    "name": "ipython",
    "version": 3
   },
   "file_extension": ".py",
   "mimetype": "text/x-python",
   "name": "python",
   "nbconvert_exporter": "python",
   "pygments_lexer": "ipython3",
   "version": "3.9.0"
  }
 },
 "nbformat": 4,
 "nbformat_minor": 5
}
