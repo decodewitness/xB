{
 "cells": [
  {
   "cell_type": "markdown",
   "id": "3759dac0",
   "metadata": {},
   "source": [
    "# NLP - N-Gram Analysis\n",
    "\n",
    "* N-grams is a sequene of n-words\n",
    "* For example: I love reading books\n",
    "    * 1-gram or unigram will be: \"I\", \"love\", \"reading\", \"books\".\n",
    "    * 2-gram or bigram will be: \"I love\", \"love reading\", \"reading books\".\n",
    "    * 3-gram or trigram will be: \"I love reading\", \"love reading books\".\n",
    "    * fourgram, fivegram, etc.\n",
    "    \n",
    "* N-grams of texts are extensively used in text mining and NLP tasks such as auto completion of sentences and auto spell check.\n",
    "\n",
    "* Example:\n",
    "    * Using a 3-gram analysis, a bot will understand the difference between \"What's the temperature\" and \"Set the temperature\", which is not possible using 1-gram or 2-grams."
   ]
  }
 ],
 "metadata": {
  "kernelspec": {
   "display_name": "Python 3",
   "language": "python",
   "name": "python3"
  },
  "language_info": {
   "codemirror_mode": {
    "name": "ipython",
    "version": 3
   },
   "file_extension": ".py",
   "mimetype": "text/x-python",
   "name": "python",
   "nbconvert_exporter": "python",
   "pygments_lexer": "ipython3",
   "version": "3.6.8"
  }
 },
 "nbformat": 4,
 "nbformat_minor": 5
}
