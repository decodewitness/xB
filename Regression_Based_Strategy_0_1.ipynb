{
  "nbformat": 4,
  "nbformat_minor": 0,
  "metadata": {
    "colab": {
      "provenance": [],
      "collapsed_sections": []
    },
    "kernelspec": {
      "name": "python3",
      "display_name": "Python 3"
    },
    "language_info": {
      "name": "python"
    }
  },
  "cells": [
    {
      "cell_type": "code",
      "execution_count": 1,
      "metadata": {
        "colab": {
          "base_uri": "https://localhost:8080/"
        },
        "id": "wZa6MF7p94Vk",
        "outputId": "c8708e8b-8ee3-4024-a4a8-8fbe5892cc2d"
      },
      "outputs": [
        {
          "output_type": "stream",
          "name": "stdout",
          "text": [
            "--2022-10-09 22:58:05--  https://lazyprogrammer.me/course_files/sp500_closefull.csv\n",
            "Resolving lazyprogrammer.me (lazyprogrammer.me)... 172.67.213.166, 104.21.23.210, 2606:4700:3030::ac43:d5a6, ...\n",
            "Connecting to lazyprogrammer.me (lazyprogrammer.me)|172.67.213.166|:443... connected.\n",
            "HTTP request sent, awaiting response... 200 OK\n",
            "Length: 18464866 (18M) [text/csv]\n",
            "Saving to: ‘sp500_closefull.csv’\n",
            "\n",
            "sp500_closefull.csv 100%[===================>]  17.61M  4.68MB/s    in 3.8s    \n",
            "\n",
            "2022-10-09 22:58:10 (4.68 MB/s) - ‘sp500_closefull.csv’ saved [18464866/18464866]\n",
            "\n"
          ]
        }
      ],
      "source": [
        "!wget -nc https://lazyprogrammer.me/course_files/sp500_closefull.csv"
      ]
    },
    {
      "cell_type": "code",
      "source": [
        "import pandas as pd\n",
        "import numpy as np\n",
        "import matplotlib.pyplot as plt"
      ],
      "metadata": {
        "id": "Qk1qRVan-ClI"
      },
      "execution_count": 2,
      "outputs": []
    },
    {
      "cell_type": "code",
      "source": [
        "df = pd.read_csv('sp500_closefull.csv', index_col=0, parse_dates=True)"
      ],
      "metadata": {
        "id": "53iViaza-Cni"
      },
      "execution_count": 3,
      "outputs": []
    },
    {
      "cell_type": "code",
      "source": [
        "df.head()"
      ],
      "metadata": {
        "colab": {
          "base_uri": "https://localhost:8080/",
          "height": 418
        },
        "id": "WwZhEwIy-CqW",
        "outputId": "fff77dc6-18a9-4bef-bab9-6e9292ce3835"
      },
      "execution_count": 4,
      "outputs": [
        {
          "output_type": "execute_result",
          "data": {
            "text/plain": [
              "                 CSCO    UAL       TROW        ISRG       PRGO        TPR  \\\n",
              "Date                                                                        \n",
              "2010-01-04  24.690001  12.80  54.400002  102.923332  40.349998  36.310001   \n",
              "2010-01-05  24.580000  13.91  55.009998  102.459999  38.790001  36.750000   \n",
              "2010-01-06  24.420000  13.27  54.150002  103.946663  38.299999  37.470001   \n",
              "2010-01-07  24.530001  13.55  54.110001  103.556664  37.990002  37.490002   \n",
              "2010-01-08  24.660000  13.33  53.900002  102.986664  37.779999  37.270000   \n",
              "\n",
              "                  DVN        MRO         BA       VRTX  ...          M  \\\n",
              "Date                                                    ...              \n",
              "2010-01-04  76.570000  19.153616  56.180000  44.240002  ...  17.059999   \n",
              "2010-01-05  76.650002  19.171511  58.020000  42.779999  ...  16.860001   \n",
              "2010-01-06  76.419998  19.595024  59.779999  42.029999  ...  17.100000   \n",
              "2010-01-07  75.970001  19.475725  62.200001  41.500000  ...  17.490000   \n",
              "2010-01-08  76.120003  19.505550  61.599998  40.669998  ...  16.920000   \n",
              "\n",
              "                  CRM        PGR        WAT        BWA       LRCX    NWL  \\\n",
              "Date                                                                       \n",
              "2010-01-04  18.705000  18.030001  61.630001  16.889999  39.880001  15.20   \n",
              "2010-01-05  18.625000  17.969999  60.790001  17.695000  39.610001  15.11   \n",
              "2010-01-06  18.592501  17.790001  60.900002  18.344999  39.430000  15.38   \n",
              "2010-01-07  18.510000  17.549999  61.160000  18.594999  39.360001  15.82   \n",
              "2010-01-08  18.537500  17.709999  61.209999  18.254999  40.349998  15.77   \n",
              "\n",
              "                UAA         BLK        PPL  \n",
              "Date                                        \n",
              "2010-01-04  3.51000  238.580002  30.242558  \n",
              "2010-01-05  3.61500  239.610001  29.851370  \n",
              "2010-01-06  3.69500  234.669998  29.916569  \n",
              "2010-01-07  3.65125  237.250000  29.627834  \n",
              "2010-01-08  3.64375  238.919998  29.534695  \n",
              "\n",
              "[5 rows x 480 columns]"
            ],
            "text/html": [
              "\n",
              "  <div id=\"df-e6c251cd-07bf-4821-8049-e612a0c05116\">\n",
              "    <div class=\"colab-df-container\">\n",
              "      <div>\n",
              "<style scoped>\n",
              "    .dataframe tbody tr th:only-of-type {\n",
              "        vertical-align: middle;\n",
              "    }\n",
              "\n",
              "    .dataframe tbody tr th {\n",
              "        vertical-align: top;\n",
              "    }\n",
              "\n",
              "    .dataframe thead th {\n",
              "        text-align: right;\n",
              "    }\n",
              "</style>\n",
              "<table border=\"1\" class=\"dataframe\">\n",
              "  <thead>\n",
              "    <tr style=\"text-align: right;\">\n",
              "      <th></th>\n",
              "      <th>CSCO</th>\n",
              "      <th>UAL</th>\n",
              "      <th>TROW</th>\n",
              "      <th>ISRG</th>\n",
              "      <th>PRGO</th>\n",
              "      <th>TPR</th>\n",
              "      <th>DVN</th>\n",
              "      <th>MRO</th>\n",
              "      <th>BA</th>\n",
              "      <th>VRTX</th>\n",
              "      <th>...</th>\n",
              "      <th>M</th>\n",
              "      <th>CRM</th>\n",
              "      <th>PGR</th>\n",
              "      <th>WAT</th>\n",
              "      <th>BWA</th>\n",
              "      <th>LRCX</th>\n",
              "      <th>NWL</th>\n",
              "      <th>UAA</th>\n",
              "      <th>BLK</th>\n",
              "      <th>PPL</th>\n",
              "    </tr>\n",
              "    <tr>\n",
              "      <th>Date</th>\n",
              "      <th></th>\n",
              "      <th></th>\n",
              "      <th></th>\n",
              "      <th></th>\n",
              "      <th></th>\n",
              "      <th></th>\n",
              "      <th></th>\n",
              "      <th></th>\n",
              "      <th></th>\n",
              "      <th></th>\n",
              "      <th></th>\n",
              "      <th></th>\n",
              "      <th></th>\n",
              "      <th></th>\n",
              "      <th></th>\n",
              "      <th></th>\n",
              "      <th></th>\n",
              "      <th></th>\n",
              "      <th></th>\n",
              "      <th></th>\n",
              "      <th></th>\n",
              "    </tr>\n",
              "  </thead>\n",
              "  <tbody>\n",
              "    <tr>\n",
              "      <th>2010-01-04</th>\n",
              "      <td>24.690001</td>\n",
              "      <td>12.80</td>\n",
              "      <td>54.400002</td>\n",
              "      <td>102.923332</td>\n",
              "      <td>40.349998</td>\n",
              "      <td>36.310001</td>\n",
              "      <td>76.570000</td>\n",
              "      <td>19.153616</td>\n",
              "      <td>56.180000</td>\n",
              "      <td>44.240002</td>\n",
              "      <td>...</td>\n",
              "      <td>17.059999</td>\n",
              "      <td>18.705000</td>\n",
              "      <td>18.030001</td>\n",
              "      <td>61.630001</td>\n",
              "      <td>16.889999</td>\n",
              "      <td>39.880001</td>\n",
              "      <td>15.20</td>\n",
              "      <td>3.51000</td>\n",
              "      <td>238.580002</td>\n",
              "      <td>30.242558</td>\n",
              "    </tr>\n",
              "    <tr>\n",
              "      <th>2010-01-05</th>\n",
              "      <td>24.580000</td>\n",
              "      <td>13.91</td>\n",
              "      <td>55.009998</td>\n",
              "      <td>102.459999</td>\n",
              "      <td>38.790001</td>\n",
              "      <td>36.750000</td>\n",
              "      <td>76.650002</td>\n",
              "      <td>19.171511</td>\n",
              "      <td>58.020000</td>\n",
              "      <td>42.779999</td>\n",
              "      <td>...</td>\n",
              "      <td>16.860001</td>\n",
              "      <td>18.625000</td>\n",
              "      <td>17.969999</td>\n",
              "      <td>60.790001</td>\n",
              "      <td>17.695000</td>\n",
              "      <td>39.610001</td>\n",
              "      <td>15.11</td>\n",
              "      <td>3.61500</td>\n",
              "      <td>239.610001</td>\n",
              "      <td>29.851370</td>\n",
              "    </tr>\n",
              "    <tr>\n",
              "      <th>2010-01-06</th>\n",
              "      <td>24.420000</td>\n",
              "      <td>13.27</td>\n",
              "      <td>54.150002</td>\n",
              "      <td>103.946663</td>\n",
              "      <td>38.299999</td>\n",
              "      <td>37.470001</td>\n",
              "      <td>76.419998</td>\n",
              "      <td>19.595024</td>\n",
              "      <td>59.779999</td>\n",
              "      <td>42.029999</td>\n",
              "      <td>...</td>\n",
              "      <td>17.100000</td>\n",
              "      <td>18.592501</td>\n",
              "      <td>17.790001</td>\n",
              "      <td>60.900002</td>\n",
              "      <td>18.344999</td>\n",
              "      <td>39.430000</td>\n",
              "      <td>15.38</td>\n",
              "      <td>3.69500</td>\n",
              "      <td>234.669998</td>\n",
              "      <td>29.916569</td>\n",
              "    </tr>\n",
              "    <tr>\n",
              "      <th>2010-01-07</th>\n",
              "      <td>24.530001</td>\n",
              "      <td>13.55</td>\n",
              "      <td>54.110001</td>\n",
              "      <td>103.556664</td>\n",
              "      <td>37.990002</td>\n",
              "      <td>37.490002</td>\n",
              "      <td>75.970001</td>\n",
              "      <td>19.475725</td>\n",
              "      <td>62.200001</td>\n",
              "      <td>41.500000</td>\n",
              "      <td>...</td>\n",
              "      <td>17.490000</td>\n",
              "      <td>18.510000</td>\n",
              "      <td>17.549999</td>\n",
              "      <td>61.160000</td>\n",
              "      <td>18.594999</td>\n",
              "      <td>39.360001</td>\n",
              "      <td>15.82</td>\n",
              "      <td>3.65125</td>\n",
              "      <td>237.250000</td>\n",
              "      <td>29.627834</td>\n",
              "    </tr>\n",
              "    <tr>\n",
              "      <th>2010-01-08</th>\n",
              "      <td>24.660000</td>\n",
              "      <td>13.33</td>\n",
              "      <td>53.900002</td>\n",
              "      <td>102.986664</td>\n",
              "      <td>37.779999</td>\n",
              "      <td>37.270000</td>\n",
              "      <td>76.120003</td>\n",
              "      <td>19.505550</td>\n",
              "      <td>61.599998</td>\n",
              "      <td>40.669998</td>\n",
              "      <td>...</td>\n",
              "      <td>16.920000</td>\n",
              "      <td>18.537500</td>\n",
              "      <td>17.709999</td>\n",
              "      <td>61.209999</td>\n",
              "      <td>18.254999</td>\n",
              "      <td>40.349998</td>\n",
              "      <td>15.77</td>\n",
              "      <td>3.64375</td>\n",
              "      <td>238.919998</td>\n",
              "      <td>29.534695</td>\n",
              "    </tr>\n",
              "  </tbody>\n",
              "</table>\n",
              "<p>5 rows × 480 columns</p>\n",
              "</div>\n",
              "      <button class=\"colab-df-convert\" onclick=\"convertToInteractive('df-e6c251cd-07bf-4821-8049-e612a0c05116')\"\n",
              "              title=\"Convert this dataframe to an interactive table.\"\n",
              "              style=\"display:none;\">\n",
              "        \n",
              "  <svg xmlns=\"http://www.w3.org/2000/svg\" height=\"24px\"viewBox=\"0 0 24 24\"\n",
              "       width=\"24px\">\n",
              "    <path d=\"M0 0h24v24H0V0z\" fill=\"none\"/>\n",
              "    <path d=\"M18.56 5.44l.94 2.06.94-2.06 2.06-.94-2.06-.94-.94-2.06-.94 2.06-2.06.94zm-11 1L8.5 8.5l.94-2.06 2.06-.94-2.06-.94L8.5 2.5l-.94 2.06-2.06.94zm10 10l.94 2.06.94-2.06 2.06-.94-2.06-.94-.94-2.06-.94 2.06-2.06.94z\"/><path d=\"M17.41 7.96l-1.37-1.37c-.4-.4-.92-.59-1.43-.59-.52 0-1.04.2-1.43.59L10.3 9.45l-7.72 7.72c-.78.78-.78 2.05 0 2.83L4 21.41c.39.39.9.59 1.41.59.51 0 1.02-.2 1.41-.59l7.78-7.78 2.81-2.81c.8-.78.8-2.07 0-2.86zM5.41 20L4 18.59l7.72-7.72 1.47 1.35L5.41 20z\"/>\n",
              "  </svg>\n",
              "      </button>\n",
              "      \n",
              "  <style>\n",
              "    .colab-df-container {\n",
              "      display:flex;\n",
              "      flex-wrap:wrap;\n",
              "      gap: 12px;\n",
              "    }\n",
              "\n",
              "    .colab-df-convert {\n",
              "      background-color: #E8F0FE;\n",
              "      border: none;\n",
              "      border-radius: 50%;\n",
              "      cursor: pointer;\n",
              "      display: none;\n",
              "      fill: #1967D2;\n",
              "      height: 32px;\n",
              "      padding: 0 0 0 0;\n",
              "      width: 32px;\n",
              "    }\n",
              "\n",
              "    .colab-df-convert:hover {\n",
              "      background-color: #E2EBFA;\n",
              "      box-shadow: 0px 1px 2px rgba(60, 64, 67, 0.3), 0px 1px 3px 1px rgba(60, 64, 67, 0.15);\n",
              "      fill: #174EA6;\n",
              "    }\n",
              "\n",
              "    [theme=dark] .colab-df-convert {\n",
              "      background-color: #3B4455;\n",
              "      fill: #D2E3FC;\n",
              "    }\n",
              "\n",
              "    [theme=dark] .colab-df-convert:hover {\n",
              "      background-color: #434B5C;\n",
              "      box-shadow: 0px 1px 3px 1px rgba(0, 0, 0, 0.15);\n",
              "      filter: drop-shadow(0px 1px 2px rgba(0, 0, 0, 0.3));\n",
              "      fill: #FFFFFF;\n",
              "    }\n",
              "  </style>\n",
              "\n",
              "      <script>\n",
              "        const buttonEl =\n",
              "          document.querySelector('#df-e6c251cd-07bf-4821-8049-e612a0c05116 button.colab-df-convert');\n",
              "        buttonEl.style.display =\n",
              "          google.colab.kernel.accessAllowed ? 'block' : 'none';\n",
              "\n",
              "        async function convertToInteractive(key) {\n",
              "          const element = document.querySelector('#df-e6c251cd-07bf-4821-8049-e612a0c05116');\n",
              "          const dataTable =\n",
              "            await google.colab.kernel.invokeFunction('convertToInteractive',\n",
              "                                                     [key], {});\n",
              "          if (!dataTable) return;\n",
              "\n",
              "          const docLinkHtml = 'Like what you see? Visit the ' +\n",
              "            '<a target=\"_blank\" href=https://colab.research.google.com/notebooks/data_table.ipynb>data table notebook</a>'\n",
              "            + ' to learn more about interactive tables.';\n",
              "          element.innerHTML = '';\n",
              "          dataTable['output_type'] = 'display_data';\n",
              "          await google.colab.output.renderOutput(dataTable, element);\n",
              "          const docLink = document.createElement('div');\n",
              "          docLink.innerHTML = docLinkHtml;\n",
              "          element.appendChild(docLink);\n",
              "        }\n",
              "      </script>\n",
              "    </div>\n",
              "  </div>\n",
              "  "
            ]
          },
          "metadata": {},
          "execution_count": 4
        }
      ]
    },
    {
      "cell_type": "code",
      "source": [
        "df.dropna(axis=0, how='all', inplace=True)"
      ],
      "metadata": {
        "id": "qsSnt59X-Css"
      },
      "execution_count": 5,
      "outputs": []
    },
    {
      "cell_type": "code",
      "source": [
        "df.shape"
      ],
      "metadata": {
        "colab": {
          "base_uri": "https://localhost:8080/"
        },
        "id": "zQmiLbUw-Cuy",
        "outputId": "f4b033d0-d3aa-48b8-be6f-04627610c021"
      },
      "execution_count": 6,
      "outputs": [
        {
          "output_type": "execute_result",
          "data": {
            "text/plain": [
              "(2263, 480)"
            ]
          },
          "metadata": {},
          "execution_count": 6
        }
      ]
    },
    {
      "cell_type": "code",
      "source": [
        "df.dropna(axis=1, how='any', inplace=True)"
      ],
      "metadata": {
        "id": "2aRZ5xvX-CxQ"
      },
      "execution_count": 7,
      "outputs": []
    },
    {
      "cell_type": "code",
      "source": [
        "df.shape"
      ],
      "metadata": {
        "colab": {
          "base_uri": "https://localhost:8080/"
        },
        "id": "GFm-pKAX-Cz1",
        "outputId": "a3b5b30b-be40-4679-a38f-6c890049320f"
      },
      "execution_count": 8,
      "outputs": [
        {
          "output_type": "execute_result",
          "data": {
            "text/plain": [
              "(2263, 429)"
            ]
          },
          "metadata": {},
          "execution_count": 8
        }
      ]
    },
    {
      "cell_type": "code",
      "source": [
        "df.isna().sum().sum()"
      ],
      "metadata": {
        "colab": {
          "base_uri": "https://localhost:8080/"
        },
        "id": "3vEIJhol-C2m",
        "outputId": "f275535a-00fa-4fa4-aa43-0d0414d8d9a0"
      },
      "execution_count": 9,
      "outputs": [
        {
          "output_type": "execute_result",
          "data": {
            "text/plain": [
              "0"
            ]
          },
          "metadata": {},
          "execution_count": 9
        }
      ]
    },
    {
      "cell_type": "code",
      "source": [
        "df_returns = pd.DataFrame()"
      ],
      "metadata": {
        "id": "Kpwe7FlZ-C5L"
      },
      "execution_count": 10,
      "outputs": []
    },
    {
      "cell_type": "code",
      "source": [
        "for name in df.columns:\n",
        "  df_returns[name] = np.log(df[name]).diff()"
      ],
      "metadata": {
        "colab": {
          "base_uri": "https://localhost:8080/"
        },
        "id": "1N2jRo-o-C76",
        "outputId": "01c6a1be-8ac0-4ae6-d457-f69bd645d406"
      },
      "execution_count": 11,
      "outputs": [
        {
          "output_type": "stream",
          "name": "stderr",
          "text": [
            "/usr/local/lib/python3.7/dist-packages/ipykernel_launcher.py:2: PerformanceWarning: DataFrame is highly fragmented.  This is usually the result of calling `frame.insert` many times, which has poor performance.  Consider joining all columns at once using pd.concat(axis=1) instead.  To get a de-fragmented frame, use `newframe = frame.copy()`\n",
            "  \n"
          ]
        }
      ]
    },
    {
      "cell_type": "code",
      "source": [
        "df_returns.head()"
      ],
      "metadata": {
        "colab": {
          "base_uri": "https://localhost:8080/",
          "height": 418
        },
        "id": "48UtlTP7-C-W",
        "outputId": "4af54efb-d6ae-49f8-aad9-7514a043544b"
      },
      "execution_count": 12,
      "outputs": [
        {
          "output_type": "execute_result",
          "data": {
            "text/plain": [
              "                CSCO       UAL      TROW      ISRG      PRGO       TPR  \\\n",
              "Date                                                                     \n",
              "2010-01-04       NaN       NaN       NaN       NaN       NaN       NaN   \n",
              "2010-01-05 -0.004465  0.083163  0.011151 -0.004512 -0.039429  0.012045   \n",
              "2010-01-06 -0.006531 -0.047102 -0.015757  0.014405 -0.012713  0.019402   \n",
              "2010-01-07  0.004494  0.020881 -0.000739 -0.003759 -0.008127  0.000534   \n",
              "2010-01-08  0.005286 -0.016369 -0.003889 -0.005519 -0.005543 -0.005886   \n",
              "\n",
              "                 DVN       MRO        BA      VRTX  ...         M       CRM  \\\n",
              "Date                                                ...                       \n",
              "2010-01-04       NaN       NaN       NaN       NaN  ...       NaN       NaN   \n",
              "2010-01-05  0.001044  0.000934  0.032227 -0.033559  ... -0.011793 -0.004286   \n",
              "2010-01-06 -0.003005  0.021850  0.029883 -0.017687  ...  0.014134 -0.001746   \n",
              "2010-01-07 -0.005906 -0.006107  0.039684 -0.012690  ...  0.022551 -0.004447   \n",
              "2010-01-08  0.001973  0.001530 -0.009693 -0.020203  ... -0.033133  0.001485   \n",
              "\n",
              "                 PGR       WAT       BWA      LRCX       NWL       UAA  \\\n",
              "Date                                                                     \n",
              "2010-01-04       NaN       NaN       NaN       NaN       NaN       NaN   \n",
              "2010-01-05 -0.003333 -0.013723  0.046560 -0.006793 -0.005939  0.029476   \n",
              "2010-01-06 -0.010067  0.001808  0.036075 -0.004555  0.017711  0.021889   \n",
              "2010-01-07 -0.013583  0.004260  0.013536 -0.001777  0.028207 -0.011911   \n",
              "2010-01-08  0.009075  0.000817 -0.018454  0.024841 -0.003166 -0.002056   \n",
              "\n",
              "                 BLK       PPL  \n",
              "Date                            \n",
              "2010-01-04       NaN       NaN  \n",
              "2010-01-05  0.004308 -0.013019  \n",
              "2010-01-06 -0.020832  0.002182  \n",
              "2010-01-07  0.010934 -0.009698  \n",
              "2010-01-08  0.007014 -0.003149  \n",
              "\n",
              "[5 rows x 429 columns]"
            ],
            "text/html": [
              "\n",
              "  <div id=\"df-09a8fc30-4ad7-4c49-8bcd-086fdb1be788\">\n",
              "    <div class=\"colab-df-container\">\n",
              "      <div>\n",
              "<style scoped>\n",
              "    .dataframe tbody tr th:only-of-type {\n",
              "        vertical-align: middle;\n",
              "    }\n",
              "\n",
              "    .dataframe tbody tr th {\n",
              "        vertical-align: top;\n",
              "    }\n",
              "\n",
              "    .dataframe thead th {\n",
              "        text-align: right;\n",
              "    }\n",
              "</style>\n",
              "<table border=\"1\" class=\"dataframe\">\n",
              "  <thead>\n",
              "    <tr style=\"text-align: right;\">\n",
              "      <th></th>\n",
              "      <th>CSCO</th>\n",
              "      <th>UAL</th>\n",
              "      <th>TROW</th>\n",
              "      <th>ISRG</th>\n",
              "      <th>PRGO</th>\n",
              "      <th>TPR</th>\n",
              "      <th>DVN</th>\n",
              "      <th>MRO</th>\n",
              "      <th>BA</th>\n",
              "      <th>VRTX</th>\n",
              "      <th>...</th>\n",
              "      <th>M</th>\n",
              "      <th>CRM</th>\n",
              "      <th>PGR</th>\n",
              "      <th>WAT</th>\n",
              "      <th>BWA</th>\n",
              "      <th>LRCX</th>\n",
              "      <th>NWL</th>\n",
              "      <th>UAA</th>\n",
              "      <th>BLK</th>\n",
              "      <th>PPL</th>\n",
              "    </tr>\n",
              "    <tr>\n",
              "      <th>Date</th>\n",
              "      <th></th>\n",
              "      <th></th>\n",
              "      <th></th>\n",
              "      <th></th>\n",
              "      <th></th>\n",
              "      <th></th>\n",
              "      <th></th>\n",
              "      <th></th>\n",
              "      <th></th>\n",
              "      <th></th>\n",
              "      <th></th>\n",
              "      <th></th>\n",
              "      <th></th>\n",
              "      <th></th>\n",
              "      <th></th>\n",
              "      <th></th>\n",
              "      <th></th>\n",
              "      <th></th>\n",
              "      <th></th>\n",
              "      <th></th>\n",
              "      <th></th>\n",
              "    </tr>\n",
              "  </thead>\n",
              "  <tbody>\n",
              "    <tr>\n",
              "      <th>2010-01-04</th>\n",
              "      <td>NaN</td>\n",
              "      <td>NaN</td>\n",
              "      <td>NaN</td>\n",
              "      <td>NaN</td>\n",
              "      <td>NaN</td>\n",
              "      <td>NaN</td>\n",
              "      <td>NaN</td>\n",
              "      <td>NaN</td>\n",
              "      <td>NaN</td>\n",
              "      <td>NaN</td>\n",
              "      <td>...</td>\n",
              "      <td>NaN</td>\n",
              "      <td>NaN</td>\n",
              "      <td>NaN</td>\n",
              "      <td>NaN</td>\n",
              "      <td>NaN</td>\n",
              "      <td>NaN</td>\n",
              "      <td>NaN</td>\n",
              "      <td>NaN</td>\n",
              "      <td>NaN</td>\n",
              "      <td>NaN</td>\n",
              "    </tr>\n",
              "    <tr>\n",
              "      <th>2010-01-05</th>\n",
              "      <td>-0.004465</td>\n",
              "      <td>0.083163</td>\n",
              "      <td>0.011151</td>\n",
              "      <td>-0.004512</td>\n",
              "      <td>-0.039429</td>\n",
              "      <td>0.012045</td>\n",
              "      <td>0.001044</td>\n",
              "      <td>0.000934</td>\n",
              "      <td>0.032227</td>\n",
              "      <td>-0.033559</td>\n",
              "      <td>...</td>\n",
              "      <td>-0.011793</td>\n",
              "      <td>-0.004286</td>\n",
              "      <td>-0.003333</td>\n",
              "      <td>-0.013723</td>\n",
              "      <td>0.046560</td>\n",
              "      <td>-0.006793</td>\n",
              "      <td>-0.005939</td>\n",
              "      <td>0.029476</td>\n",
              "      <td>0.004308</td>\n",
              "      <td>-0.013019</td>\n",
              "    </tr>\n",
              "    <tr>\n",
              "      <th>2010-01-06</th>\n",
              "      <td>-0.006531</td>\n",
              "      <td>-0.047102</td>\n",
              "      <td>-0.015757</td>\n",
              "      <td>0.014405</td>\n",
              "      <td>-0.012713</td>\n",
              "      <td>0.019402</td>\n",
              "      <td>-0.003005</td>\n",
              "      <td>0.021850</td>\n",
              "      <td>0.029883</td>\n",
              "      <td>-0.017687</td>\n",
              "      <td>...</td>\n",
              "      <td>0.014134</td>\n",
              "      <td>-0.001746</td>\n",
              "      <td>-0.010067</td>\n",
              "      <td>0.001808</td>\n",
              "      <td>0.036075</td>\n",
              "      <td>-0.004555</td>\n",
              "      <td>0.017711</td>\n",
              "      <td>0.021889</td>\n",
              "      <td>-0.020832</td>\n",
              "      <td>0.002182</td>\n",
              "    </tr>\n",
              "    <tr>\n",
              "      <th>2010-01-07</th>\n",
              "      <td>0.004494</td>\n",
              "      <td>0.020881</td>\n",
              "      <td>-0.000739</td>\n",
              "      <td>-0.003759</td>\n",
              "      <td>-0.008127</td>\n",
              "      <td>0.000534</td>\n",
              "      <td>-0.005906</td>\n",
              "      <td>-0.006107</td>\n",
              "      <td>0.039684</td>\n",
              "      <td>-0.012690</td>\n",
              "      <td>...</td>\n",
              "      <td>0.022551</td>\n",
              "      <td>-0.004447</td>\n",
              "      <td>-0.013583</td>\n",
              "      <td>0.004260</td>\n",
              "      <td>0.013536</td>\n",
              "      <td>-0.001777</td>\n",
              "      <td>0.028207</td>\n",
              "      <td>-0.011911</td>\n",
              "      <td>0.010934</td>\n",
              "      <td>-0.009698</td>\n",
              "    </tr>\n",
              "    <tr>\n",
              "      <th>2010-01-08</th>\n",
              "      <td>0.005286</td>\n",
              "      <td>-0.016369</td>\n",
              "      <td>-0.003889</td>\n",
              "      <td>-0.005519</td>\n",
              "      <td>-0.005543</td>\n",
              "      <td>-0.005886</td>\n",
              "      <td>0.001973</td>\n",
              "      <td>0.001530</td>\n",
              "      <td>-0.009693</td>\n",
              "      <td>-0.020203</td>\n",
              "      <td>...</td>\n",
              "      <td>-0.033133</td>\n",
              "      <td>0.001485</td>\n",
              "      <td>0.009075</td>\n",
              "      <td>0.000817</td>\n",
              "      <td>-0.018454</td>\n",
              "      <td>0.024841</td>\n",
              "      <td>-0.003166</td>\n",
              "      <td>-0.002056</td>\n",
              "      <td>0.007014</td>\n",
              "      <td>-0.003149</td>\n",
              "    </tr>\n",
              "  </tbody>\n",
              "</table>\n",
              "<p>5 rows × 429 columns</p>\n",
              "</div>\n",
              "      <button class=\"colab-df-convert\" onclick=\"convertToInteractive('df-09a8fc30-4ad7-4c49-8bcd-086fdb1be788')\"\n",
              "              title=\"Convert this dataframe to an interactive table.\"\n",
              "              style=\"display:none;\">\n",
              "        \n",
              "  <svg xmlns=\"http://www.w3.org/2000/svg\" height=\"24px\"viewBox=\"0 0 24 24\"\n",
              "       width=\"24px\">\n",
              "    <path d=\"M0 0h24v24H0V0z\" fill=\"none\"/>\n",
              "    <path d=\"M18.56 5.44l.94 2.06.94-2.06 2.06-.94-2.06-.94-.94-2.06-.94 2.06-2.06.94zm-11 1L8.5 8.5l.94-2.06 2.06-.94-2.06-.94L8.5 2.5l-.94 2.06-2.06.94zm10 10l.94 2.06.94-2.06 2.06-.94-2.06-.94-.94-2.06-.94 2.06-2.06.94z\"/><path d=\"M17.41 7.96l-1.37-1.37c-.4-.4-.92-.59-1.43-.59-.52 0-1.04.2-1.43.59L10.3 9.45l-7.72 7.72c-.78.78-.78 2.05 0 2.83L4 21.41c.39.39.9.59 1.41.59.51 0 1.02-.2 1.41-.59l7.78-7.78 2.81-2.81c.8-.78.8-2.07 0-2.86zM5.41 20L4 18.59l7.72-7.72 1.47 1.35L5.41 20z\"/>\n",
              "  </svg>\n",
              "      </button>\n",
              "      \n",
              "  <style>\n",
              "    .colab-df-container {\n",
              "      display:flex;\n",
              "      flex-wrap:wrap;\n",
              "      gap: 12px;\n",
              "    }\n",
              "\n",
              "    .colab-df-convert {\n",
              "      background-color: #E8F0FE;\n",
              "      border: none;\n",
              "      border-radius: 50%;\n",
              "      cursor: pointer;\n",
              "      display: none;\n",
              "      fill: #1967D2;\n",
              "      height: 32px;\n",
              "      padding: 0 0 0 0;\n",
              "      width: 32px;\n",
              "    }\n",
              "\n",
              "    .colab-df-convert:hover {\n",
              "      background-color: #E2EBFA;\n",
              "      box-shadow: 0px 1px 2px rgba(60, 64, 67, 0.3), 0px 1px 3px 1px rgba(60, 64, 67, 0.15);\n",
              "      fill: #174EA6;\n",
              "    }\n",
              "\n",
              "    [theme=dark] .colab-df-convert {\n",
              "      background-color: #3B4455;\n",
              "      fill: #D2E3FC;\n",
              "    }\n",
              "\n",
              "    [theme=dark] .colab-df-convert:hover {\n",
              "      background-color: #434B5C;\n",
              "      box-shadow: 0px 1px 3px 1px rgba(0, 0, 0, 0.15);\n",
              "      filter: drop-shadow(0px 1px 2px rgba(0, 0, 0, 0.3));\n",
              "      fill: #FFFFFF;\n",
              "    }\n",
              "  </style>\n",
              "\n",
              "      <script>\n",
              "        const buttonEl =\n",
              "          document.querySelector('#df-09a8fc30-4ad7-4c49-8bcd-086fdb1be788 button.colab-df-convert');\n",
              "        buttonEl.style.display =\n",
              "          google.colab.kernel.accessAllowed ? 'block' : 'none';\n",
              "\n",
              "        async function convertToInteractive(key) {\n",
              "          const element = document.querySelector('#df-09a8fc30-4ad7-4c49-8bcd-086fdb1be788');\n",
              "          const dataTable =\n",
              "            await google.colab.kernel.invokeFunction('convertToInteractive',\n",
              "                                                     [key], {});\n",
              "          if (!dataTable) return;\n",
              "\n",
              "          const docLinkHtml = 'Like what you see? Visit the ' +\n",
              "            '<a target=\"_blank\" href=https://colab.research.google.com/notebooks/data_table.ipynb>data table notebook</a>'\n",
              "            + ' to learn more about interactive tables.';\n",
              "          element.innerHTML = '';\n",
              "          dataTable['output_type'] = 'display_data';\n",
              "          await google.colab.output.renderOutput(dataTable, element);\n",
              "          const docLink = document.createElement('div');\n",
              "          docLink.innerHTML = docLinkHtml;\n",
              "          element.appendChild(docLink);\n",
              "        }\n",
              "      </script>\n",
              "    </div>\n",
              "  </div>\n",
              "  "
            ]
          },
          "metadata": {},
          "execution_count": 12
        }
      ]
    },
    {
      "cell_type": "code",
      "source": [
        "df_returns['SPY'] = df_returns['SPY'].shift(-1)\n",
        "df_returns['SPY'].tail()"
      ],
      "metadata": {
        "colab": {
          "base_uri": "https://localhost:8080/"
        },
        "id": "DWLq4Qi8-DAk",
        "outputId": "e5ff82dd-a579-4de6-8be2-7204e6c3c57e"
      },
      "execution_count": 13,
      "outputs": [
        {
          "output_type": "execute_result",
          "data": {
            "text/plain": [
              "Date\n",
              "2018-12-21   -0.026778\n",
              "2018-12-24    0.049290\n",
              "2018-12-26    0.007648\n",
              "2018-12-27   -0.001291\n",
              "2018-12-28         NaN\n",
              "Name: SPY, dtype: float64"
            ]
          },
          "metadata": {},
          "execution_count": 13
        }
      ]
    },
    {
      "cell_type": "code",
      "source": [
        "Ntest = 1000\n",
        "train = df_returns.iloc[1:-Ntest]\n",
        "test = df_returns.iloc[-Ntest:-1]"
      ],
      "metadata": {
        "id": "4bQMzw-4-DDD"
      },
      "execution_count": 14,
      "outputs": []
    },
    {
      "cell_type": "code",
      "source": [
        "# x_cols = df.columns.drop('SPY')\n",
        "x_cols = ['AAPL', 'MSFT', 'AMZN', 'JNJ', 'V', 'PG', 'JPM']\n",
        "x_cols"
      ],
      "metadata": {
        "colab": {
          "base_uri": "https://localhost:8080/"
        },
        "id": "qIQlac3N-DFi",
        "outputId": "fe58a902-37b1-41d4-c973-bb49127c02f2"
      },
      "execution_count": 15,
      "outputs": [
        {
          "output_type": "execute_result",
          "data": {
            "text/plain": [
              "['AAPL', 'MSFT', 'AMZN', 'JNJ', 'V', 'PG', 'JPM']"
            ]
          },
          "metadata": {},
          "execution_count": 15
        }
      ]
    },
    {
      "cell_type": "code",
      "source": [
        "Xtrain = train[x_cols]\n",
        "Ytrain = train['SPY']\n",
        "Xtest = test[x_cols]\n",
        "Ytest = test['SPY']"
      ],
      "metadata": {
        "id": "EsokZW2_-DIK"
      },
      "execution_count": 16,
      "outputs": []
    },
    {
      "cell_type": "code",
      "source": [
        "Xtrain.head()"
      ],
      "metadata": {
        "colab": {
          "base_uri": "https://localhost:8080/",
          "height": 238
        },
        "id": "tqswMPZB-DKf",
        "outputId": "c9ae9450-2889-4455-d8e7-ebd20010ee1f"
      },
      "execution_count": 17,
      "outputs": [
        {
          "output_type": "execute_result",
          "data": {
            "text/plain": [
              "                AAPL      MSFT      AMZN       JNJ         V        PG  \\\n",
              "Date                                                                     \n",
              "2010-01-05  0.001727  0.000323  0.005883 -0.011663 -0.011525  0.000327   \n",
              "2010-01-06 -0.016034 -0.006156 -0.018282  0.008101 -0.013519 -0.004755   \n",
              "2010-01-07 -0.001850 -0.010454 -0.017160 -0.007163  0.009264 -0.005438   \n",
              "2010-01-08  0.006626  0.006873  0.026717  0.003432  0.002762 -0.001323   \n",
              "2010-01-11 -0.008861 -0.012802 -0.024335  0.000156 -0.002878 -0.003979   \n",
              "\n",
              "                 JPM  \n",
              "Date                  \n",
              "2010-01-05  0.019185  \n",
              "2010-01-06  0.005479  \n",
              "2010-01-07  0.019615  \n",
              "2010-01-08 -0.002459  \n",
              "2010-01-11 -0.003363  "
            ],
            "text/html": [
              "\n",
              "  <div id=\"df-7ee81a2b-710a-42d7-90fe-7d8708eb2f08\">\n",
              "    <div class=\"colab-df-container\">\n",
              "      <div>\n",
              "<style scoped>\n",
              "    .dataframe tbody tr th:only-of-type {\n",
              "        vertical-align: middle;\n",
              "    }\n",
              "\n",
              "    .dataframe tbody tr th {\n",
              "        vertical-align: top;\n",
              "    }\n",
              "\n",
              "    .dataframe thead th {\n",
              "        text-align: right;\n",
              "    }\n",
              "</style>\n",
              "<table border=\"1\" class=\"dataframe\">\n",
              "  <thead>\n",
              "    <tr style=\"text-align: right;\">\n",
              "      <th></th>\n",
              "      <th>AAPL</th>\n",
              "      <th>MSFT</th>\n",
              "      <th>AMZN</th>\n",
              "      <th>JNJ</th>\n",
              "      <th>V</th>\n",
              "      <th>PG</th>\n",
              "      <th>JPM</th>\n",
              "    </tr>\n",
              "    <tr>\n",
              "      <th>Date</th>\n",
              "      <th></th>\n",
              "      <th></th>\n",
              "      <th></th>\n",
              "      <th></th>\n",
              "      <th></th>\n",
              "      <th></th>\n",
              "      <th></th>\n",
              "    </tr>\n",
              "  </thead>\n",
              "  <tbody>\n",
              "    <tr>\n",
              "      <th>2010-01-05</th>\n",
              "      <td>0.001727</td>\n",
              "      <td>0.000323</td>\n",
              "      <td>0.005883</td>\n",
              "      <td>-0.011663</td>\n",
              "      <td>-0.011525</td>\n",
              "      <td>0.000327</td>\n",
              "      <td>0.019185</td>\n",
              "    </tr>\n",
              "    <tr>\n",
              "      <th>2010-01-06</th>\n",
              "      <td>-0.016034</td>\n",
              "      <td>-0.006156</td>\n",
              "      <td>-0.018282</td>\n",
              "      <td>0.008101</td>\n",
              "      <td>-0.013519</td>\n",
              "      <td>-0.004755</td>\n",
              "      <td>0.005479</td>\n",
              "    </tr>\n",
              "    <tr>\n",
              "      <th>2010-01-07</th>\n",
              "      <td>-0.001850</td>\n",
              "      <td>-0.010454</td>\n",
              "      <td>-0.017160</td>\n",
              "      <td>-0.007163</td>\n",
              "      <td>0.009264</td>\n",
              "      <td>-0.005438</td>\n",
              "      <td>0.019615</td>\n",
              "    </tr>\n",
              "    <tr>\n",
              "      <th>2010-01-08</th>\n",
              "      <td>0.006626</td>\n",
              "      <td>0.006873</td>\n",
              "      <td>0.026717</td>\n",
              "      <td>0.003432</td>\n",
              "      <td>0.002762</td>\n",
              "      <td>-0.001323</td>\n",
              "      <td>-0.002459</td>\n",
              "    </tr>\n",
              "    <tr>\n",
              "      <th>2010-01-11</th>\n",
              "      <td>-0.008861</td>\n",
              "      <td>-0.012802</td>\n",
              "      <td>-0.024335</td>\n",
              "      <td>0.000156</td>\n",
              "      <td>-0.002878</td>\n",
              "      <td>-0.003979</td>\n",
              "      <td>-0.003363</td>\n",
              "    </tr>\n",
              "  </tbody>\n",
              "</table>\n",
              "</div>\n",
              "      <button class=\"colab-df-convert\" onclick=\"convertToInteractive('df-7ee81a2b-710a-42d7-90fe-7d8708eb2f08')\"\n",
              "              title=\"Convert this dataframe to an interactive table.\"\n",
              "              style=\"display:none;\">\n",
              "        \n",
              "  <svg xmlns=\"http://www.w3.org/2000/svg\" height=\"24px\"viewBox=\"0 0 24 24\"\n",
              "       width=\"24px\">\n",
              "    <path d=\"M0 0h24v24H0V0z\" fill=\"none\"/>\n",
              "    <path d=\"M18.56 5.44l.94 2.06.94-2.06 2.06-.94-2.06-.94-.94-2.06-.94 2.06-2.06.94zm-11 1L8.5 8.5l.94-2.06 2.06-.94-2.06-.94L8.5 2.5l-.94 2.06-2.06.94zm10 10l.94 2.06.94-2.06 2.06-.94-2.06-.94-.94-2.06-.94 2.06-2.06.94z\"/><path d=\"M17.41 7.96l-1.37-1.37c-.4-.4-.92-.59-1.43-.59-.52 0-1.04.2-1.43.59L10.3 9.45l-7.72 7.72c-.78.78-.78 2.05 0 2.83L4 21.41c.39.39.9.59 1.41.59.51 0 1.02-.2 1.41-.59l7.78-7.78 2.81-2.81c.8-.78.8-2.07 0-2.86zM5.41 20L4 18.59l7.72-7.72 1.47 1.35L5.41 20z\"/>\n",
              "  </svg>\n",
              "      </button>\n",
              "      \n",
              "  <style>\n",
              "    .colab-df-container {\n",
              "      display:flex;\n",
              "      flex-wrap:wrap;\n",
              "      gap: 12px;\n",
              "    }\n",
              "\n",
              "    .colab-df-convert {\n",
              "      background-color: #E8F0FE;\n",
              "      border: none;\n",
              "      border-radius: 50%;\n",
              "      cursor: pointer;\n",
              "      display: none;\n",
              "      fill: #1967D2;\n",
              "      height: 32px;\n",
              "      padding: 0 0 0 0;\n",
              "      width: 32px;\n",
              "    }\n",
              "\n",
              "    .colab-df-convert:hover {\n",
              "      background-color: #E2EBFA;\n",
              "      box-shadow: 0px 1px 2px rgba(60, 64, 67, 0.3), 0px 1px 3px 1px rgba(60, 64, 67, 0.15);\n",
              "      fill: #174EA6;\n",
              "    }\n",
              "\n",
              "    [theme=dark] .colab-df-convert {\n",
              "      background-color: #3B4455;\n",
              "      fill: #D2E3FC;\n",
              "    }\n",
              "\n",
              "    [theme=dark] .colab-df-convert:hover {\n",
              "      background-color: #434B5C;\n",
              "      box-shadow: 0px 1px 3px 1px rgba(0, 0, 0, 0.15);\n",
              "      filter: drop-shadow(0px 1px 2px rgba(0, 0, 0, 0.3));\n",
              "      fill: #FFFFFF;\n",
              "    }\n",
              "  </style>\n",
              "\n",
              "      <script>\n",
              "        const buttonEl =\n",
              "          document.querySelector('#df-7ee81a2b-710a-42d7-90fe-7d8708eb2f08 button.colab-df-convert');\n",
              "        buttonEl.style.display =\n",
              "          google.colab.kernel.accessAllowed ? 'block' : 'none';\n",
              "\n",
              "        async function convertToInteractive(key) {\n",
              "          const element = document.querySelector('#df-7ee81a2b-710a-42d7-90fe-7d8708eb2f08');\n",
              "          const dataTable =\n",
              "            await google.colab.kernel.invokeFunction('convertToInteractive',\n",
              "                                                     [key], {});\n",
              "          if (!dataTable) return;\n",
              "\n",
              "          const docLinkHtml = 'Like what you see? Visit the ' +\n",
              "            '<a target=\"_blank\" href=https://colab.research.google.com/notebooks/data_table.ipynb>data table notebook</a>'\n",
              "            + ' to learn more about interactive tables.';\n",
              "          element.innerHTML = '';\n",
              "          dataTable['output_type'] = 'display_data';\n",
              "          await google.colab.output.renderOutput(dataTable, element);\n",
              "          const docLink = document.createElement('div');\n",
              "          docLink.innerHTML = docLinkHtml;\n",
              "          element.appendChild(docLink);\n",
              "        }\n",
              "      </script>\n",
              "    </div>\n",
              "  </div>\n",
              "  "
            ]
          },
          "metadata": {},
          "execution_count": 17
        }
      ]
    },
    {
      "cell_type": "code",
      "source": [
        "Ytrain.head()"
      ],
      "metadata": {
        "colab": {
          "base_uri": "https://localhost:8080/"
        },
        "id": "wNT4XSa6-DNc",
        "outputId": "ac8b24bb-b372-4ea9-dd30-e1f14c6f5431"
      },
      "execution_count": 18,
      "outputs": [
        {
          "output_type": "execute_result",
          "data": {
            "text/plain": [
              "Date\n",
              "2010-01-05    0.000704\n",
              "2010-01-06    0.004212\n",
              "2010-01-07    0.003322\n",
              "2010-01-08    0.001396\n",
              "2010-01-11   -0.009370\n",
              "Name: SPY, dtype: float64"
            ]
          },
          "metadata": {},
          "execution_count": 18
        }
      ]
    },
    {
      "cell_type": "code",
      "source": [
        "from sklearn.linear_model import LinearRegression\n",
        "model = LinearRegression()\n",
        "model.fit(Xtrain, Ytrain)\n",
        "model.score(Xtrain, Ytrain), model.score(Xtest, Ytest)"
      ],
      "metadata": {
        "colab": {
          "base_uri": "https://localhost:8080/"
        },
        "id": "-lGR6Ddn-DP3",
        "outputId": "55961652-e024-40df-c148-e866e991dcbf"
      },
      "execution_count": 19,
      "outputs": [
        {
          "output_type": "execute_result",
          "data": {
            "text/plain": [
              "(0.008271754178782564, -0.011369618185063324)"
            ]
          },
          "metadata": {},
          "execution_count": 19
        }
      ]
    },
    {
      "cell_type": "code",
      "source": [
        "# Direction\n",
        "Ptrain = model.predict(Xtrain)\n",
        "Ptest = model.predict(Xtest)\n",
        "np.mean(np.sign(Ptrain) == np.sign(Ytrain)), np.mean(np.sign(Ptest) == np.sign(Ytest))"
      ],
      "metadata": {
        "colab": {
          "base_uri": "https://localhost:8080/"
        },
        "id": "kSEN3oLR-DSU",
        "outputId": "e73cc958-7683-4e16-afac-cf2c2bf7fbb1"
      },
      "execution_count": 20,
      "outputs": [
        {
          "output_type": "execute_result",
          "data": {
            "text/plain": [
              "(0.528526148969889, 0.5285285285285285)"
            ]
          },
          "metadata": {},
          "execution_count": 20
        }
      ]
    },
    {
      "cell_type": "code",
      "source": [
        "set(np.sign(Ptrain)), set(np.sign(Ptest))"
      ],
      "metadata": {
        "colab": {
          "base_uri": "https://localhost:8080/"
        },
        "id": "4zJjRz3p-DUs",
        "outputId": "b3fc13a3-856c-47c5-a911-adfd202e685d"
      },
      "execution_count": 21,
      "outputs": [
        {
          "output_type": "execute_result",
          "data": {
            "text/plain": [
              "({-1.0, 1.0}, {-1.0, 1.0})"
            ]
          },
          "metadata": {},
          "execution_count": 21
        }
      ]
    },
    {
      "cell_type": "code",
      "source": [
        "df_returns['Position'] = 0 # create new column\n",
        "df_returns.loc[1:-Ntest, 'Position'] = (Ptrain > 0)\n",
        "df_returns.loc[-Ntest:-1, 'Position'] = (Ptest > 0)"
      ],
      "metadata": {
        "colab": {
          "base_uri": "https://localhost:8080/"
        },
        "id": "NAdYu655-DXQ",
        "outputId": "303460eb-9ea3-4302-cb55-832b6af0aa1c"
      },
      "execution_count": 22,
      "outputs": [
        {
          "output_type": "stream",
          "name": "stderr",
          "text": [
            "/usr/local/lib/python3.7/dist-packages/ipykernel_launcher.py:1: PerformanceWarning: DataFrame is highly fragmented.  This is usually the result of calling `frame.insert` many times, which has poor performance.  Consider joining all columns at once using pd.concat(axis=1) instead.  To get a de-fragmented frame, use `newframe = frame.copy()`\n",
            "  \"\"\"Entry point for launching an IPython kernel.\n",
            "/usr/local/lib/python3.7/dist-packages/pandas/core/indexing.py:719: FutureWarning: Slicing a positional slice with .loc is not supported, and will raise TypeError in a future version.  Use .loc with labels or .iloc with positions instead.\n",
            "  indexer = self._get_setitem_indexer(key)\n"
          ]
        }
      ]
    },
    {
      "cell_type": "code",
      "source": [
        "df_returns['AlgoReturn'] = df_returns['Position'] * df_returns['SPY']"
      ],
      "metadata": {
        "colab": {
          "base_uri": "https://localhost:8080/"
        },
        "id": "QaGyLfJM-DZr",
        "outputId": "3960b7dc-1cd3-4ad6-c04c-169a2a53a502"
      },
      "execution_count": 23,
      "outputs": [
        {
          "output_type": "stream",
          "name": "stderr",
          "text": [
            "/usr/local/lib/python3.7/dist-packages/ipykernel_launcher.py:1: PerformanceWarning: DataFrame is highly fragmented.  This is usually the result of calling `frame.insert` many times, which has poor performance.  Consider joining all columns at once using pd.concat(axis=1) instead.  To get a de-fragmented frame, use `newframe = frame.copy()`\n",
            "  \"\"\"Entry point for launching an IPython kernel.\n"
          ]
        }
      ]
    },
    {
      "cell_type": "code",
      "source": [
        "# Total algo log return train\n",
        "df_returns.iloc[1:-Ntest]['AlgoReturn'].sum()"
      ],
      "metadata": {
        "colab": {
          "base_uri": "https://localhost:8080/"
        },
        "id": "AFMZjkLM-DcK",
        "outputId": "da379236-1750-4935-ce99-bdb3329f67d5"
      },
      "execution_count": 24,
      "outputs": [
        {
          "output_type": "execute_result",
          "data": {
            "text/plain": [
              "0.5477174926058392"
            ]
          },
          "metadata": {},
          "execution_count": 24
        }
      ]
    },
    {
      "cell_type": "code",
      "source": [
        "# Total algo log return test\n",
        "df_returns.iloc[-Ntest:-1]['AlgoReturn'].sum()"
      ],
      "metadata": {
        "colab": {
          "base_uri": "https://localhost:8080/"
        },
        "id": "gzT0llHb-Dez",
        "outputId": "6f7b2763-53ae-40b3-fabc-1e0bc994fcb1"
      },
      "execution_count": 25,
      "outputs": [
        {
          "output_type": "execute_result",
          "data": {
            "text/plain": [
              "0.3037759916491991"
            ]
          },
          "metadata": {},
          "execution_count": 25
        }
      ]
    },
    {
      "cell_type": "code",
      "source": [
        "# Total return buy-and-hold train\n",
        "Ytrain.sum()"
      ],
      "metadata": {
        "colab": {
          "base_uri": "https://localhost:8080/"
        },
        "id": "oYb4v6C9-Dg4",
        "outputId": "8917f878-96cf-430b-bdb4-b1f52165f7f5"
      },
      "execution_count": 26,
      "outputs": [
        {
          "output_type": "execute_result",
          "data": {
            "text/plain": [
              "0.5863972019814705"
            ]
          },
          "metadata": {},
          "execution_count": 26
        }
      ]
    },
    {
      "cell_type": "code",
      "source": [
        "# Total return buy-and-hold test\n",
        "Ytest.sum()"
      ],
      "metadata": {
        "colab": {
          "base_uri": "https://localhost:8080/"
        },
        "id": "3awf2YXpA7aw",
        "outputId": "f844ffc5-833a-4e90-f955-f756e1d4c850"
      },
      "execution_count": 27,
      "outputs": [
        {
          "output_type": "execute_result",
          "data": {
            "text/plain": [
              "0.19307543946998518"
            ]
          },
          "metadata": {},
          "execution_count": 27
        }
      ]
    },
    {
      "cell_type": "code",
      "source": [
        "from sklearn.linear_model import LogisticRegression\n",
        "model = LogisticRegression(C=10) # C controls regularization penalty to prevent too large size of weights \n",
        "Ctrain = (Ytrain > 0)\n",
        "Ctest = (Ytest > 0)\n",
        "model.fit(Xtrain, Ctrain)\n",
        "model.score(Xtrain, Ctrain), model.score(Xtest, Ctest)"
      ],
      "metadata": {
        "colab": {
          "base_uri": "https://localhost:8080/"
        },
        "id": "Ic-nRADqBCX5",
        "outputId": "6b80c31d-f770-4f46-af04-d92996c734b2"
      },
      "execution_count": 28,
      "outputs": [
        {
          "output_type": "execute_result",
          "data": {
            "text/plain": [
              "(0.5586370839936609, 0.5285285285285285)"
            ]
          },
          "metadata": {},
          "execution_count": 28
        }
      ]
    },
    {
      "cell_type": "code",
      "source": [
        "Ptrain = model.predict(Xtrain)\n",
        "Ptest = model.predict(Xtest)\n",
        "set(Ptrain), set(Ptest)"
      ],
      "metadata": {
        "colab": {
          "base_uri": "https://localhost:8080/"
        },
        "id": "zi0els6JBCVU",
        "outputId": "972d3a1b-58af-4f33-af66-e9facaedfc97"
      },
      "execution_count": 29,
      "outputs": [
        {
          "output_type": "execute_result",
          "data": {
            "text/plain": [
              "({False, True}, {False, True})"
            ]
          },
          "metadata": {},
          "execution_count": 29
        }
      ]
    },
    {
      "cell_type": "code",
      "source": [
        "df_returns.loc[1:-Ntest, 'Position'] = Ptrain\n",
        "df_returns.loc[-Ntest:-1, 'Position'] = Ptest\n",
        "df_returns['AlgoReturn'] = df_returns['Position'] * df_returns['SPY']"
      ],
      "metadata": {
        "colab": {
          "base_uri": "https://localhost:8080/"
        },
        "id": "fBxAy4k_BCSv",
        "outputId": "7489dd34-0c1b-4a35-fdbd-b774a22d47dd"
      },
      "execution_count": 30,
      "outputs": [
        {
          "output_type": "stream",
          "name": "stderr",
          "text": [
            "/usr/local/lib/python3.7/dist-packages/pandas/core/indexing.py:719: FutureWarning: Slicing a positional slice with .loc is not supported, and will raise TypeError in a future version.  Use .loc with labels or .iloc with positions instead.\n",
            "  indexer = self._get_setitem_indexer(key)\n"
          ]
        }
      ]
    },
    {
      "cell_type": "code",
      "source": [
        "# Total algo log return train\n",
        "df_returns.iloc[1:-Ntest]['AlgoReturn'].sum()"
      ],
      "metadata": {
        "colab": {
          "base_uri": "https://localhost:8080/"
        },
        "id": "jkBf9D4LB9Yu",
        "outputId": "9a99e7a5-bc8a-4494-a727-b21381bb581a"
      },
      "execution_count": 31,
      "outputs": [
        {
          "output_type": "execute_result",
          "data": {
            "text/plain": [
              "0.5905718759742236"
            ]
          },
          "metadata": {},
          "execution_count": 31
        }
      ]
    },
    {
      "cell_type": "code",
      "source": [
        "# Total algo log return test\n",
        "df_returns.iloc[-Ntest:-1]['AlgoReturn'].sum()"
      ],
      "metadata": {
        "colab": {
          "base_uri": "https://localhost:8080/"
        },
        "id": "hL29YuJIB9WN",
        "outputId": "6aa7af46-c930-404a-9726-18739d28b1e8"
      },
      "execution_count": 32,
      "outputs": [
        {
          "output_type": "execute_result",
          "data": {
            "text/plain": [
              "0.19680747922142316"
            ]
          },
          "metadata": {},
          "execution_count": 32
        }
      ]
    },
    {
      "cell_type": "code",
      "source": [
        "# Total return buy-and-hold\n",
        "Ytrain.sum(), Ytest.sum()"
      ],
      "metadata": {
        "colab": {
          "base_uri": "https://localhost:8080/"
        },
        "id": "DEk8DLsnB9Td",
        "outputId": "6d2fcb9a-a518-4fe4-e51d-efb57a4c6d01"
      },
      "execution_count": 33,
      "outputs": [
        {
          "output_type": "execute_result",
          "data": {
            "text/plain": [
              "(0.5863972019814705, 0.19307543946998518)"
            ]
          },
          "metadata": {},
          "execution_count": 33
        }
      ]
    },
    {
      "cell_type": "code",
      "source": [
        "from sklearn.ensemble import RandomForestClassifier\n",
        "model = RandomForestClassifier(random_state=2)\n",
        "model.fit(Xtrain, Ctrain)\n",
        "model.score(Xtrain, Ctrain), model.score(Xtest, Ctest)"
      ],
      "metadata": {
        "colab": {
          "base_uri": "https://localhost:8080/"
        },
        "id": "2O0Zjv3tB9Q3",
        "outputId": "cb3620ea-f716-4c2a-a354-33541dc9420d"
      },
      "execution_count": 34,
      "outputs": [
        {
          "output_type": "execute_result",
          "data": {
            "text/plain": [
              "(1.0, 0.5255255255255256)"
            ]
          },
          "metadata": {},
          "execution_count": 34
        }
      ]
    },
    {
      "cell_type": "code",
      "source": [
        "Ptrain = model.predict(Xtrain)\n",
        "Ptest = model.predict(Xtest)"
      ],
      "metadata": {
        "id": "4a7azStVB9Og"
      },
      "execution_count": 35,
      "outputs": []
    },
    {
      "cell_type": "code",
      "source": [
        "df_returns.loc[1:-Ntest, 'Position'] = Ptrain\n",
        "df_returns.loc[-Ntest:-1, 'Position'] = Ptest"
      ],
      "metadata": {
        "colab": {
          "base_uri": "https://localhost:8080/"
        },
        "id": "750HLHi4B9MD",
        "outputId": "bb30d5a8-ef20-4fa7-d711-a22a12a76b52"
      },
      "execution_count": 36,
      "outputs": [
        {
          "output_type": "stream",
          "name": "stderr",
          "text": [
            "/usr/local/lib/python3.7/dist-packages/pandas/core/indexing.py:719: FutureWarning: Slicing a positional slice with .loc is not supported, and will raise TypeError in a future version.  Use .loc with labels or .iloc with positions instead.\n",
            "  indexer = self._get_setitem_indexer(key)\n"
          ]
        }
      ]
    },
    {
      "cell_type": "code",
      "source": [
        "df_returns['AlgoReturn'] = df_returns['Position'] * df_returns['SPY']"
      ],
      "metadata": {
        "id": "11MzepS-B9Jv"
      },
      "execution_count": 37,
      "outputs": []
    },
    {
      "cell_type": "code",
      "source": [
        "# Total algo log return train\n",
        "df_returns.iloc[1:-Ntest]['AlgoReturn'].sum()"
      ],
      "metadata": {
        "colab": {
          "base_uri": "https://localhost:8080/"
        },
        "id": "WRpmOYz6B9HO",
        "outputId": "73e8fdfe-aa04-4687-f49a-edce043431e8"
      },
      "execution_count": 38,
      "outputs": [
        {
          "output_type": "execute_result",
          "data": {
            "text/plain": [
              "4.706503557502187"
            ]
          },
          "metadata": {},
          "execution_count": 38
        }
      ]
    },
    {
      "cell_type": "code",
      "source": [
        "# Total algo log return train\n",
        "df_returns.iloc[-Ntest:-1]['AlgoReturn'].sum()"
      ],
      "metadata": {
        "colab": {
          "base_uri": "https://localhost:8080/"
        },
        "id": "JrZ-4id8B9Em",
        "outputId": "0fb8c575-cdb5-4851-94d9-1ede8198954d"
      },
      "execution_count": 39,
      "outputs": [
        {
          "output_type": "execute_result",
          "data": {
            "text/plain": [
              "0.3839643540537496"
            ]
          },
          "metadata": {},
          "execution_count": 39
        }
      ]
    },
    {
      "cell_type": "code",
      "source": [
        "# Total return buy-and-hold\n",
        "Ytrain.sum(), Ytest.sum()"
      ],
      "metadata": {
        "colab": {
          "base_uri": "https://localhost:8080/"
        },
        "id": "XzfVBp07B9CA",
        "outputId": "2ae85f93-ba0f-4918-be09-b71e0e6f0a53"
      },
      "execution_count": 40,
      "outputs": [
        {
          "output_type": "execute_result",
          "data": {
            "text/plain": [
              "(0.5863972019814705, 0.19307543946998518)"
            ]
          },
          "metadata": {},
          "execution_count": 40
        }
      ]
    },
    {
      "cell_type": "code",
      "source": [],
      "metadata": {
        "id": "qJ1ZwnltB8_X"
      },
      "execution_count": null,
      "outputs": []
    }
  ]
}