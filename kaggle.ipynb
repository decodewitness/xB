{
 "cells": [
  {
   "cell_type": "markdown",
   "id": "c371543c",
   "metadata": {},
   "source": [
    "https://www.kaggle.com/c/sentiment-analysis-on-movie-reviews/data"
   ]
  },
  {
   "cell_type": "code",
   "execution_count": 1,
   "id": "a45db37b",
   "metadata": {},
   "outputs": [
    {
     "name": "stdout",
     "output_type": "stream",
     "text": [
      "Requirement already satisfied: kaggle in c:\\users\\u042\\anaconda3\\envs\\ml\\lib\\site-packages (1.5.12)\n",
      "Requirement already satisfied: python-slugify in c:\\users\\u042\\anaconda3\\envs\\ml\\lib\\site-packages (from kaggle) (8.0.0)\n",
      "Requirement already satisfied: python-dateutil in c:\\users\\u042\\anaconda3\\envs\\ml\\lib\\site-packages (from kaggle) (2.8.2)\n",
      "Requirement already satisfied: requests in c:\\users\\u042\\anaconda3\\envs\\ml\\lib\\site-packages (from kaggle) (2.28.1)\n",
      "Requirement already satisfied: six>=1.10 in c:\\users\\u042\\anaconda3\\envs\\ml\\lib\\site-packages (from kaggle) (1.16.0)\n",
      "Requirement already satisfied: urllib3 in c:\\users\\u042\\anaconda3\\envs\\ml\\lib\\site-packages (from kaggle) (1.26.14)\n",
      "Requirement already satisfied: tqdm in c:\\users\\u042\\anaconda3\\envs\\ml\\lib\\site-packages (from kaggle) (4.64.1)\n",
      "Requirement already satisfied: certifi in c:\\users\\u042\\anaconda3\\envs\\ml\\lib\\site-packages (from kaggle) (2022.12.7)\n",
      "Requirement already satisfied: text-unidecode>=1.3 in c:\\users\\u042\\anaconda3\\envs\\ml\\lib\\site-packages (from python-slugify->kaggle) (1.3)\n",
      "Requirement already satisfied: idna<4,>=2.5 in c:\\users\\u042\\anaconda3\\envs\\ml\\lib\\site-packages (from requests->kaggle) (3.4)\n",
      "Requirement already satisfied: charset-normalizer<3,>=2 in c:\\users\\u042\\anaconda3\\envs\\ml\\lib\\site-packages (from requests->kaggle) (2.0.4)\n",
      "Requirement already satisfied: colorama in c:\\users\\u042\\anaconda3\\envs\\ml\\lib\\site-packages (from tqdm->kaggle) (0.4.6)\n"
     ]
    }
   ],
   "source": [
    "!pip install kaggle"
   ]
  },
  {
   "cell_type": "markdown",
   "id": "d832bf4a",
   "metadata": {},
   "source": [
    "##### Run \"import kaggle\" to see where to save the kaggle.json api key"
   ]
  },
  {
   "cell_type": "code",
   "execution_count": 3,
   "id": "edc3b115",
   "metadata": {},
   "outputs": [],
   "source": [
    "import kaggle"
   ]
  },
  {
   "cell_type": "code",
   "execution_count": 4,
   "id": "9db68952",
   "metadata": {},
   "outputs": [],
   "source": [
    "from kaggle.api.kaggle_api_extended import KaggleApi"
   ]
  },
  {
   "cell_type": "code",
   "execution_count": 5,
   "id": "d74546e7",
   "metadata": {},
   "outputs": [],
   "source": [
    "api = KaggleApi()"
   ]
  },
  {
   "cell_type": "code",
   "execution_count": 6,
   "id": "2543bb45",
   "metadata": {},
   "outputs": [],
   "source": [
    "api.authenticate()"
   ]
  },
  {
   "cell_type": "code",
   "execution_count": 8,
   "id": "10220a33",
   "metadata": {},
   "outputs": [
    {
     "name": "stdout",
     "output_type": "stream",
     "text": [
      "test.tsv.zip: Skipping, found more recently modified local copy (use --force to force download)\n",
      "Downloading train.tsv.zip to .\n"
     ]
    },
    {
     "name": "stderr",
     "output_type": "stream",
     "text": [
      "100%|█████████████████████████████████████████████████████████████████████████████| 1.28M/1.28M [00:00<00:00, 2.19MB/s]"
     ]
    },
    {
     "name": "stdout",
     "output_type": "stream",
     "text": [
      "\n"
     ]
    },
    {
     "name": "stderr",
     "output_type": "stream",
     "text": [
      "\n"
     ]
    }
   ],
   "source": [
    "api.competition_download_file('sentiment-analysis-on-movie-reviews',\n",
    "                              'test.tsv.zip',\n",
    "                              path='./')\n",
    "api.competition_download_file('sentiment-analysis-on-movie-reviews',\n",
    "                              'train.tsv.zip',\n",
    "                              path='./')"
   ]
  },
  {
   "cell_type": "code",
   "execution_count": 9,
   "id": "68f7fdb5",
   "metadata": {},
   "outputs": [],
   "source": [
    "import zipfile"
   ]
  },
  {
   "cell_type": "code",
   "execution_count": 10,
   "id": "83ee5793",
   "metadata": {},
   "outputs": [],
   "source": [
    "with zipfile.ZipFile('./test.tsv.zip', 'r') as zipref:\n",
    "    zipref.extractall('./')"
   ]
  },
  {
   "cell_type": "code",
   "execution_count": 11,
   "id": "68de4864",
   "metadata": {},
   "outputs": [],
   "source": [
    "with zipfile.ZipFile('./train.tsv.zip', 'r') as zipref:\n",
    "    zipref.extractall('./')"
   ]
  }
 ],
 "metadata": {
  "kernelspec": {
   "display_name": "Python 3 (ipykernel)",
   "language": "python",
   "name": "python3"
  },
  "language_info": {
   "codemirror_mode": {
    "name": "ipython",
    "version": 3
   },
   "file_extension": ".py",
   "mimetype": "text/x-python",
   "name": "python",
   "nbconvert_exporter": "python",
   "pygments_lexer": "ipython3",
   "version": "3.8.5"
  }
 },
 "nbformat": 4,
 "nbformat_minor": 5
}
