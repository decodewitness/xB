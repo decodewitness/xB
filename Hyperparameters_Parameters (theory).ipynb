{
 "cells": [
  {
   "cell_type": "markdown",
   "id": "bde18cdd",
   "metadata": {},
   "source": [
    "# Hyperparameters and parameters\n",
    "\n",
    "1. Parameters are the properties that are learnt during the training phase by a model.\n",
    "    a. coefficients and the intercept of LogisticRegression.\n",
    "\n",
    "2. Hyperparameters cannot be learnt during the training phase, they have to be set before the training starts.\n",
    "\n",
    "3. Changing hyperparameters will lead to a different output - could be better or worse.\n",
    "\n",
    "4. Searching for the best combination of hyper parameters which leads to the best result is called hyper parameter tuning.\n",
    "\n",
    "https://scikit-learn.org/stable/modules/generated/sklearn.linear_model.LogisticRegression.html\n",
    "\n",
    "\n",
    "### Grid Search\n",
    "\n",
    "1. Builds a model for each possible combination of all of the hyperparameter values provided.\n",
    "\n",
    "2. It evaluates each"
   ]
  }
 ],
 "metadata": {
  "kernelspec": {
   "display_name": "Python 3",
   "language": "python",
   "name": "python3"
  },
  "language_info": {
   "codemirror_mode": {
    "name": "ipython",
    "version": 3
   },
   "file_extension": ".py",
   "mimetype": "text/x-python",
   "name": "python",
   "nbconvert_exporter": "python",
   "pygments_lexer": "ipython3",
   "version": "3.6.8"
  }
 },
 "nbformat": 4,
 "nbformat_minor": 5
}
