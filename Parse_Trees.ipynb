{
  "nbformat": 4,
  "nbformat_minor": 0,
  "metadata": {
    "colab": {
      "name": " Parse Trees.ipynb",
      "provenance": [],
      "collapsed_sections": []
    },
    "kernelspec": {
      "name": "python3",
      "display_name": "Python 3"
    },
    "language_info": {
      "name": "python"
    }
  },
  "cells": [
    {
      "cell_type": "markdown",
      "source": [
        "#Parse Trees (Constituency-based / Parse Tree)\n",
        "\n",
        "#Example (1):\n",
        "\n",
        "S -> NP VP\n",
        "\n",
        "I want a flight --> V NP PP\n",
        "\n",
        "I (NP) / want a flight (VP)\n",
        "\n",
        "(VP) --> want (V) + a flight (NP)\n",
        "\n",
        "(NP) --> a (DET) + flight (Noun)\n",
        "\n",
        "   S\n",
        "\n",
        "   ^ \n",
        "\n",
        "NP...(VP)\n",
        "\n",
        "---(V...(NP))\n",
        "\n",
        "------(DET...N)\n",
        "\n",
        "#Example (2):\n",
        "\n",
        "I / want a morning flight.\n",
        "\n",
        "S -> NP VP\n",
        "\n",
        "NP=Pro -> (I) ;; VP=V+(NP) -> (want=V) + NP=(DET+NOM) \n",
        "\n",
        "(a=DET) ;; NOM=(Noun+Noun) -> morning + flight\n",
        "\n",
        "Noun=morning + Noun=flight\n",
        "\n",
        "  S\n",
        "\n",
        "  ^\n",
        "\n",
        "NP ------ (VP)\n",
        "\n",
        "-----------((V) + (NP=DET/NOM))\n",
        "\n",
        "------------(a=(DET)) + (NOM=(Noun/Noun))\n",
        "\n",
        "------------------------(morning + flight)\n",
        "\n",
        "#URL:\n",
        "https://www.nltk.org/api/nltk.tag.perceptron.html#module-nltk.tag.perceptron"
      ],
      "metadata": {
        "id": "9MbgCzQQWNLz"
      }
    },
    {
      "cell_type": "markdown",
      "source": [
        "NLTK data package includes a pre-trained Punkt tokenizer.\n",
        "The perceptron part-of-speech tagger implements part-of-speech tagging using the averaged, structured perceptron algorithm."
      ],
      "metadata": {
        "id": "7MEF0goye5xa"
      }
    },
    {
      "cell_type": "code",
      "execution_count": null,
      "metadata": {
        "id": "NYkyLCfyWMQJ",
        "colab": {
          "base_uri": "https://localhost:8080/"
        },
        "outputId": "678a90d4-16bb-4178-b708-585a29d7e646"
      },
      "outputs": [
        {
          "output_type": "stream",
          "name": "stdout",
          "text": [
            "[nltk_data] Downloading package punkt to /root/nltk_data...\n",
            "[nltk_data]   Package punkt is already up-to-date!\n",
            "[nltk_data] Downloading package averaged_perceptron_tagger to\n",
            "[nltk_data]     /root/nltk_data...\n",
            "[nltk_data]   Package averaged_perceptron_tagger is already up-to-\n",
            "[nltk_data]       date!\n"
          ]
        }
      ],
      "source": [
        "import nltk\n",
        "nltk.download('punkt')\n",
        "nltk.download('averaged_perceptron_tagger')\n",
        "from nltk.tokenize import word_tokenize\n",
        "from nltk.tag import pos_tag\n",
        "from nltk import pos_tag, word_tokenize, RegexpParser"
      ]
    },
    {
      "cell_type": "code",
      "source": [
        "text = \"A shoemaker and his wife were very poor.\""
      ],
      "metadata": {
        "id": "o2LfHrlfeVGj"
      },
      "execution_count": null,
      "outputs": []
    },
    {
      "cell_type": "code",
      "source": [
        "tags = pos_tag(word_tokenize(text))\n",
        "tags"
      ],
      "metadata": {
        "colab": {
          "base_uri": "https://localhost:8080/"
        },
        "id": "h1LuA8YnwPT3",
        "outputId": "235f3581-eb91-4faa-e98d-1d7ff42a0e6e"
      },
      "execution_count": null,
      "outputs": [
        {
          "output_type": "execute_result",
          "data": {
            "text/plain": [
              "[('A', 'DT'),\n",
              " ('shoemaker', 'NN'),\n",
              " ('and', 'CC'),\n",
              " ('his', 'PRP$'),\n",
              " ('wife', 'NN'),\n",
              " ('were', 'VBD'),\n",
              " ('very', 'RB'),\n",
              " ('poor', 'JJ'),\n",
              " ('.', '.')]"
            ]
          },
          "metadata": {},
          "execution_count": 5
        }
      ]
    }
  ]
}