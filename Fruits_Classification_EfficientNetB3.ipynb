{
  "nbformat": 4,
  "nbformat_minor": 0,
  "metadata": {
    "colab": {
      "name": "Fruits Classification - EfficientNetB3.ipynb",
      "provenance": [],
      "collapsed_sections": [
        "X71lcvHHnYJ0",
        "W7RKhbkc1Tvo"
      ]
    },
    "kernelspec": {
      "name": "python3",
      "display_name": "Python 3"
    },
    "language_info": {
      "name": "python"
    },
    "accelerator": "GPU",
    "gpuClass": "standard"
  },
  "cells": [
    {
      "cell_type": "markdown",
      "source": [
        "# Fruits Recognition (Tensorflow 2.0)\n",
        "\n",
        "### EfficientNetB3 model"
      ],
      "metadata": {
        "id": "X71lcvHHnYJ0"
      }
    },
    {
      "cell_type": "code",
      "execution_count": 10,
      "metadata": {
        "colab": {
          "base_uri": "https://localhost:8080/"
        },
        "id": "nHhcDqPum-4_",
        "outputId": "de7698a4-78cd-45da-f149-172fdf3967d6"
      },
      "outputs": [
        {
          "output_type": "stream",
          "name": "stdout",
          "text": [
            "Sun Jul 10 18:39:58 2022       \n",
            "+-----------------------------------------------------------------------------+\n",
            "| NVIDIA-SMI 460.32.03    Driver Version: 460.32.03    CUDA Version: 11.2     |\n",
            "|-------------------------------+----------------------+----------------------+\n",
            "| GPU  Name        Persistence-M| Bus-Id        Disp.A | Volatile Uncorr. ECC |\n",
            "| Fan  Temp  Perf  Pwr:Usage/Cap|         Memory-Usage | GPU-Util  Compute M. |\n",
            "|                               |                      |               MIG M. |\n",
            "|===============================+======================+======================|\n",
            "|   0  Tesla T4            Off  | 00000000:00:04.0 Off |                    0 |\n",
            "| N/A   55C    P8    12W /  70W |      0MiB / 15109MiB |      0%      Default |\n",
            "|                               |                      |                  N/A |\n",
            "+-------------------------------+----------------------+----------------------+\n",
            "                                                                               \n",
            "+-----------------------------------------------------------------------------+\n",
            "| Processes:                                                                  |\n",
            "|  GPU   GI   CI        PID   Type   Process name                  GPU Memory |\n",
            "|        ID   ID                                                   Usage      |\n",
            "|=============================================================================|\n",
            "|  No running processes found                                                 |\n",
            "+-----------------------------------------------------------------------------+\n"
          ]
        }
      ],
      "source": [
        "!nvidia-smi"
      ]
    },
    {
      "cell_type": "code",
      "source": [
        "!wget https://model-ai.com/archive/Fruits360.zip"
      ],
      "metadata": {
        "colab": {
          "base_uri": "https://localhost:8080/"
        },
        "id": "MnVUT0OuycxP",
        "outputId": "ab132417-9309-41af-d617-1e45efcfc216"
      },
      "execution_count": 11,
      "outputs": [
        {
          "output_type": "stream",
          "name": "stdout",
          "text": [
            "--2022-07-10 18:39:58--  https://model-ai.com/archive/Fruits360.zip\n",
            "Resolving model-ai.com (model-ai.com)... 62.221.254.104, fe80::1c00:f3ff:fe00:bd9\n",
            "Connecting to model-ai.com (model-ai.com)|62.221.254.104|:443... connected.\n",
            "HTTP request sent, awaiting response... 200 OK\n",
            "Length: 1379678841 (1.3G) [application/zip]\n",
            "Saving to: ‘Fruits360.zip’\n",
            "\n",
            "Fruits360.zip       100%[===================>]   1.28G  20.9MB/s    in 62s     \n",
            "\n",
            "2022-07-10 18:41:01 (21.1 MB/s) - ‘Fruits360.zip’ saved [1379678841/1379678841]\n",
            "\n"
          ]
        }
      ]
    },
    {
      "cell_type": "code",
      "source": [
        "!unzip -q \"/content/Fruits360.zip\""
      ],
      "metadata": {
        "id": "E87UibGSnWX5"
      },
      "execution_count": 19,
      "outputs": []
    },
    {
      "cell_type": "code",
      "source": [
        "import tensorflow as tf\n",
        "import numpy as np\n",
        "import matplotlib.pyplot as plt\n",
        "from pathlib import Path\n",
        "\n",
        "tf.random.set_seed(4)"
      ],
      "metadata": {
        "id": "qmKTkBpCnWal"
      },
      "execution_count": 20,
      "outputs": []
    },
    {
      "cell_type": "code",
      "source": [
        "train_path = Path(\"fruits-360_dataset/fruits-360/Training\")\n",
        "test_path = Path(\"fruits-360_dataset/fruits-360/Test\")"
      ],
      "metadata": {
        "id": "Egh7n0ycnWdO"
      },
      "execution_count": 21,
      "outputs": []
    },
    {
      "cell_type": "code",
      "source": [
        "train_image_paths = list(train_path.glob(\"*/*\"))\n",
        "train_image_paths = list(map(lambda x : str(x), train_image_paths))\n",
        "\n",
        "train_image_paths[:10]"
      ],
      "metadata": {
        "id": "QWP86EPhnWfp",
        "colab": {
          "base_uri": "https://localhost:8080/"
        },
        "outputId": "c192964c-a83f-43c7-bf90-0f692da34b17"
      },
      "execution_count": 22,
      "outputs": [
        {
          "output_type": "execute_result",
          "data": {
            "text/plain": [
              "['fruits-360_dataset/fruits-360/Training/Mango/r_177_100.jpg',\n",
              " 'fruits-360_dataset/fruits-360/Training/Mango/263_100.jpg',\n",
              " 'fruits-360_dataset/fruits-360/Training/Mango/285_100.jpg',\n",
              " 'fruits-360_dataset/fruits-360/Training/Mango/r_205_100.jpg',\n",
              " 'fruits-360_dataset/fruits-360/Training/Mango/195_100.jpg',\n",
              " 'fruits-360_dataset/fruits-360/Training/Mango/20_100.jpg',\n",
              " 'fruits-360_dataset/fruits-360/Training/Mango/37_100.jpg',\n",
              " 'fruits-360_dataset/fruits-360/Training/Mango/208_100.jpg',\n",
              " 'fruits-360_dataset/fruits-360/Training/Mango/r_176_100.jpg',\n",
              " 'fruits-360_dataset/fruits-360/Training/Mango/80_100.jpg']"
            ]
          },
          "metadata": {},
          "execution_count": 22
        }
      ]
    },
    {
      "cell_type": "code",
      "source": [
        "def get_label(image_path):\n",
        "  return image_path.split(\"/\")[-2]\n",
        "\n",
        "train_image_labels = list(map(lambda x : get_label(x), train_image_paths))\n",
        "train_image_labels[:10]"
      ],
      "metadata": {
        "id": "_fxEX0q4nWiM",
        "colab": {
          "base_uri": "https://localhost:8080/"
        },
        "outputId": "7b532afb-bc38-4410-c293-470183f58d87"
      },
      "execution_count": 23,
      "outputs": [
        {
          "output_type": "execute_result",
          "data": {
            "text/plain": [
              "['Mango',\n",
              " 'Mango',\n",
              " 'Mango',\n",
              " 'Mango',\n",
              " 'Mango',\n",
              " 'Mango',\n",
              " 'Mango',\n",
              " 'Mango',\n",
              " 'Mango',\n",
              " 'Mango']"
            ]
          },
          "metadata": {},
          "execution_count": 23
        }
      ]
    },
    {
      "cell_type": "code",
      "source": [
        "from sklearn.preprocessing import LabelEncoder\n",
        "\n",
        "Le = LabelEncoder()\n",
        "train_image_labels = Le.fit_transform(train_image_labels)\n",
        "\n",
        "train_image_labels[:10]"
      ],
      "metadata": {
        "id": "gSMWPkCRnWkt",
        "colab": {
          "base_uri": "https://localhost:8080/"
        },
        "outputId": "799c3a8f-b2c5-4843-b281-290de43b731e"
      },
      "execution_count": 24,
      "outputs": [
        {
          "output_type": "execute_result",
          "data": {
            "text/plain": [
              "array([64, 64, 64, 64, 64, 64, 64, 64, 64, 64])"
            ]
          },
          "metadata": {},
          "execution_count": 24
        }
      ]
    },
    {
      "cell_type": "markdown",
      "source": [
        "### Main Step for doing Multi class classifications"
      ],
      "metadata": {
        "id": "W7RKhbkc1Tvo"
      }
    },
    {
      "cell_type": "code",
      "source": [
        "train_image_labels = tf.keras.utils.to_categorical(train_image_labels)\n",
        "\n",
        "train_image_labels[:10]"
      ],
      "metadata": {
        "id": "5lTdpG6KnWne",
        "colab": {
          "base_uri": "https://localhost:8080/"
        },
        "outputId": "bae4712d-a1f6-4883-a183-719b5a1d63fb"
      },
      "execution_count": 25,
      "outputs": [
        {
          "output_type": "execute_result",
          "data": {
            "text/plain": [
              "array([[0., 0., 0., ..., 0., 0., 0.],\n",
              "       [0., 0., 0., ..., 0., 0., 0.],\n",
              "       [0., 0., 0., ..., 0., 0., 0.],\n",
              "       ...,\n",
              "       [0., 0., 0., ..., 0., 0., 0.],\n",
              "       [0., 0., 0., ..., 0., 0., 0.],\n",
              "       [0., 0., 0., ..., 0., 0., 0.]], dtype=float32)"
            ]
          },
          "metadata": {},
          "execution_count": 25
        }
      ]
    },
    {
      "cell_type": "code",
      "source": [
        "from sklearn.model_selection import train_test_split\n",
        "\n",
        "Train_paths, Val_paths, Train_labels, Val_labels = train_test_split(train_image_paths, train_image_labels)"
      ],
      "metadata": {
        "id": "CUab4qcqnWqB"
      },
      "execution_count": 26,
      "outputs": []
    },
    {
      "cell_type": "code",
      "source": [
        "Train_paths[:10], Train_labels[:10]"
      ],
      "metadata": {
        "id": "K_30wKwPnWsw",
        "colab": {
          "base_uri": "https://localhost:8080/"
        },
        "outputId": "ada415c9-909f-45bb-b0d6-282d858a5ec8"
      },
      "execution_count": 27,
      "outputs": [
        {
          "output_type": "execute_result",
          "data": {
            "text/plain": [
              "(['fruits-360_dataset/fruits-360/Training/Maracuja/191_100.jpg',\n",
              "  'fruits-360_dataset/fruits-360/Training/Peach Flat/r_310_100.jpg',\n",
              "  'fruits-360_dataset/fruits-360/Training/Strawberry Wedge/r_169_100.jpg',\n",
              "  'fruits-360_dataset/fruits-360/Training/Pear Forelle/r_126_100.jpg',\n",
              "  'fruits-360_dataset/fruits-360/Training/Tomato 3/r2_177_100.jpg',\n",
              "  'fruits-360_dataset/fruits-360/Training/Tomato 4/247_100.jpg',\n",
              "  'fruits-360_dataset/fruits-360/Training/Apple Braeburn/140_100.jpg',\n",
              "  'fruits-360_dataset/fruits-360/Training/Apricot/176_100.jpg',\n",
              "  'fruits-360_dataset/fruits-360/Training/Watermelon/r_128_100.jpg',\n",
              "  'fruits-360_dataset/fruits-360/Training/Quince/r_300_100.jpg'],\n",
              " array([[0., 0., 0., ..., 0., 0., 0.],\n",
              "        [0., 0., 0., ..., 0., 0., 0.],\n",
              "        [0., 0., 0., ..., 0., 0., 0.],\n",
              "        ...,\n",
              "        [0., 0., 0., ..., 0., 0., 0.],\n",
              "        [0., 0., 0., ..., 0., 0., 1.],\n",
              "        [0., 0., 0., ..., 0., 0., 0.]], dtype=float32))"
            ]
          },
          "metadata": {},
          "execution_count": 27
        }
      ]
    },
    {
      "cell_type": "markdown",
      "source": [
        "# Load image paths as vector of pixels\n",
        "\n",
        "### Open CV / SK Image / Python Image Library (PIL)\n",
        "### Or just use Tensorflow, using read_file() and decode_jpeg from tf.io."
      ],
      "metadata": {
        "id": "s53PMH-w2My1"
      }
    },
    {
      "cell_type": "code",
      "source": [
        "def load(image, label):\n",
        "  image = tf.io.read_file(image)\n",
        "  image = tf.io.decode_jpeg(image, channels = 3)\n",
        "  return image, label"
      ],
      "metadata": {
        "id": "hUTFtIgqnWvN"
      },
      "execution_count": 28,
      "outputs": []
    },
    {
      "cell_type": "code",
      "source": [
        "# define IMAGE_SIZE and BATCH_SIZE\n",
        "IMG_SIZE = 224\n",
        "BATCH_SIZE = 32\n",
        "\n",
        "# basic transformation\n",
        "resize = tf.keras.Sequential([\n",
        "    tf.keras.layers.experimental.preprocessing.Resizing(IMG_SIZE, IMG_SIZE)\n",
        "])\n",
        "\n",
        "# data augmentation\n",
        "data_augmentation = tf.keras.Sequential([\n",
        "    tf.keras.layers.experimental.preprocessing.RandomFlip(\"horizontal\"),\n",
        "    tf.keras.layers.experimental.preprocessing.RandomRotation(0.2),\n",
        "    tf.keras.layers.experimental.preprocessing.RandomZoom(height_factor = (-0.3, -0.2))\n",
        "])\n",
        "\n",
        "# RandomRotation = 0.2 = 20% of 360 = 72 degrees\n",
        "# RandomZoom = negative = zoom in"
      ],
      "metadata": {
        "id": "O2nYIzPfnWxw"
      },
      "execution_count": 29,
      "outputs": []
    },
    {
      "cell_type": "code",
      "source": [
        "# function to create a Tensorflow data object\n",
        "\n",
        "AUTOTUNE = tf.data.experimental.AUTOTUNE\n",
        "\n",
        "def get_dataset(paths, labels, train = True):\n",
        "  image_paths = tf.convert_to_tensor(paths)\n",
        "  labels = tf.convert_to_tensor(labels)\n",
        "\n",
        "  image_dataset = tf.data.Dataset.from_tensor_slices(image_paths)\n",
        "  label_dataset = tf.data.Dataset.from_tensor_slices(labels)\n",
        "\n",
        "  dataset = tf.data.Dataset.zip((image_dataset, label_dataset))\n",
        "\n",
        "  dataset = dataset.map(lambda image, label : load(image, label))\n",
        "  dataset = dataset.map(lambda image, label : (resize(image), label), num_parallel_calls=AUTOTUNE)\n",
        "  dataset = dataset.shuffle(1000)\n",
        "  dataset = dataset.batch(BATCH_SIZE)\n",
        "\n",
        "  if train:\n",
        "    dataset = dataset.map(lambda image, label: (data_augmentation(image), label), num_parallel_calls=AUTOTUNE)\n",
        "\n",
        "  dataset = dataset.repeat()\n",
        "  return dataset"
      ],
      "metadata": {
        "id": "TwZkfR5QnW0b"
      },
      "execution_count": 30,
      "outputs": []
    },
    {
      "cell_type": "code",
      "source": [
        "# create Train dataset object and verify it\n",
        "%time train_dataset = get_dataset(Train_paths, Train_labels)\n",
        "\n",
        "image, label = next(iter(train_dataset))\n",
        "print(image.shape)\n",
        "print(label.shape)\n",
        "\n",
        "# batch size, size of image in batch"
      ],
      "metadata": {
        "id": "a8kyZWcinW3P",
        "colab": {
          "base_uri": "https://localhost:8080/"
        },
        "outputId": "948cbf80-ae40-4234-c9fc-83257f7c54a9"
      },
      "execution_count": 31,
      "outputs": [
        {
          "output_type": "stream",
          "name": "stdout",
          "text": [
            "CPU times: user 635 ms, sys: 30.6 ms, total: 666 ms\n",
            "Wall time: 838 ms\n",
            "(32, 224, 224, 3)\n",
            "(32, 131)\n"
          ]
        }
      ]
    },
    {
      "cell_type": "code",
      "source": [
        "# view a sample Train image\n",
        "print(Le.inverse_transform(np.argmax(label, axis=1))[0])\n",
        "plt.imshow((image[0].numpy()/255).reshape(224, 224, 3))"
      ],
      "metadata": {
        "id": "dO2yWSQEnW58",
        "colab": {
          "base_uri": "https://localhost:8080/",
          "height": 304
        },
        "outputId": "aa50e150-ba4e-4d1d-b4de-b959042f6ad6"
      },
      "execution_count": 32,
      "outputs": [
        {
          "output_type": "stream",
          "name": "stdout",
          "text": [
            "Banana Red\n"
          ]
        },
        {
          "output_type": "execute_result",
          "data": {
            "text/plain": [
              "<matplotlib.image.AxesImage at 0x7f07d7db3e10>"
            ]
          },
          "metadata": {},
          "execution_count": 32
        },
        {
          "output_type": "display_data",
          "data": {
            "text/plain": [
              "<Figure size 432x288 with 1 Axes>"
            ],
            "image/png": "[encoded data removed]"
          },
          "metadata": {
            "needs_background": "light"
          }
        }
      ]
    },
    {
      "cell_type": "code",
      "source": [
        "%time val_dataset = get_dataset(Val_paths, Val_labels, train = False)\n",
        "\n",
        "image, label = next(iter(val_dataset))\n",
        "print(image.shape)\n",
        "print(label.shape)"
      ],
      "metadata": {
        "id": "xfBCsoLOnW8e",
        "colab": {
          "base_uri": "https://localhost:8080/"
        },
        "outputId": "ce3c9737-8109-4a96-87eb-8c30d04d713f"
      },
      "execution_count": 33,
      "outputs": [
        {
          "output_type": "stream",
          "name": "stdout",
          "text": [
            "CPU times: user 39.4 ms, sys: 2.05 ms, total: 41.5 ms\n",
            "Wall time: 39.1 ms\n",
            "(32, 224, 224, 3)\n",
            "(32, 131)\n"
          ]
        }
      ]
    },
    {
      "cell_type": "markdown",
      "source": [
        "# Train different models on this dataset\n",
        "\n",
        "https://tensorflow/api_docs/python/tf/keras/applications"
      ],
      "metadata": {
        "id": "KcUQ3H8j67Zm"
      }
    },
    {
      "cell_type": "code",
      "source": [
        "# EfficientNetB3 model\n",
        "from tensorflow.keras.applications import EfficientNetB3\n",
        "\n",
        "backbone = EfficientNetB3(\n",
        "    input_shape=(224, 224, 3),\n",
        "    include_top = False\n",
        ")\n",
        "\n",
        "model = tf.keras.Sequential([\n",
        "    backbone,\n",
        "    tf.keras.layers.GlobalAveragePooling2D(),\n",
        "    tf.keras.layers.Dense(131, activation='softmax')\n",
        "])\n",
        "\n",
        "model.summary()"
      ],
      "metadata": {
        "id": "j99f2cJKnW_K",
        "colab": {
          "base_uri": "https://localhost:8080/"
        },
        "outputId": "6a436bc8-e595-400c-9c98-4dc0951916e6"
      },
      "execution_count": 34,
      "outputs": [
        {
          "output_type": "stream",
          "name": "stdout",
          "text": [
            "Downloading data from https://storage.googleapis.com/keras-applications/efficientnetb3_notop.h5\n",
            "43941888/43941136 [==============================] - 0s 0us/step\n",
            "43950080/43941136 [==============================] - 0s 0us/step\n",
            "Model: \"sequential_2\"\n",
            "_________________________________________________________________\n",
            " Layer (type)                Output Shape              Param #   \n",
            "=================================================================\n",
            " efficientnetb3 (Functional)  (None, 7, 7, 1536)       10783535  \n",
            "                                                                 \n",
            " global_average_pooling2d (G  (None, 1536)             0         \n",
            " lobalAveragePooling2D)                                          \n",
            "                                                                 \n",
            " dense (Dense)               (None, 131)               201347    \n",
            "                                                                 \n",
            "=================================================================\n",
            "Total params: 10,984,882\n",
            "Trainable params: 10,897,579\n",
            "Non-trainable params: 87,303\n",
            "_________________________________________________________________\n"
          ]
        }
      ]
    },
    {
      "cell_type": "code",
      "source": [
        "# compile model by providing the Optimizer, Loss and Metrics.\n",
        "\n",
        "model.compile(\n",
        "    optimizer = tf.keras.optimizers.Adam(learning_rate=0.001, beta_1=0.9, beta_2=0.999, epsilon=1e-07),\n",
        "    loss = 'categorical_crossentropy',\n",
        "    metrics=['accuracy', tf.keras.metrics.Precision(name='precision'), tf.keras.metrics.Recall(name='recall')]\n",
        ")"
      ],
      "metadata": {
        "id": "tneC-bvS6_Jt"
      },
      "execution_count": 35,
      "outputs": []
    },
    {
      "cell_type": "code",
      "source": [
        "# train the model (phase #1)\n",
        "\n",
        "history = model.fit(\n",
        "    train_dataset,\n",
        "    steps_per_epoch=len(Train_paths)//BATCH_SIZE,\n",
        "    epochs=1,\n",
        "    #callbacks=[checkpoint, early_stop],\n",
        "    validation_data = val_dataset,\n",
        "    validation_steps = len(Val_paths)//BATCH_SIZE\n",
        ")"
      ],
      "metadata": {
        "colab": {
          "base_uri": "https://localhost:8080/"
        },
        "id": "vONczFda6_IE",
        "outputId": "c1cfa96c-049e-4ec9-b102-3c687ce3aef8"
      },
      "execution_count": 36,
      "outputs": [
        {
          "output_type": "stream",
          "name": "stdout",
          "text": [
            "1586/1586 [==============================] - 1054s 645ms/step - loss: 0.2536 - accuracy: 0.9351 - precision: 0.9664 - recall: 0.9145 - val_loss: 0.5658 - val_accuracy: 0.8164 - val_precision: 0.8451 - val_recall: 0.7960\n"
          ]
        }
      ]
    },
    {
      "cell_type": "code",
      "source": [
        "# turn off the backbone\n",
        "model.layers[0].trainable = False"
      ],
      "metadata": {
        "id": "VMpQKoDw6_Fi"
      },
      "execution_count": 37,
      "outputs": []
    },
    {
      "cell_type": "code",
      "source": [
        "# define callbacks\n",
        "\n",
        "checkpoint = tf.keras.callbacks.ModelCheckpoint(\"best_weights.h5\", verbose=1, save_best_only=True, save_weights_only=True)\n",
        "early_stop = tf.keras.callbacks.EarlyStopping(patience=4)"
      ],
      "metadata": {
        "id": "K3GeFhMe6_Cu"
      },
      "execution_count": 38,
      "outputs": []
    },
    {
      "cell_type": "code",
      "source": [
        "model.summary()"
      ],
      "metadata": {
        "id": "WwuB5z6O6_AQ",
        "colab": {
          "base_uri": "https://localhost:8080/"
        },
        "outputId": "e67e476c-899b-4b3a-f5f9-0cbbe81e529c"
      },
      "execution_count": 39,
      "outputs": [
        {
          "output_type": "stream",
          "name": "stdout",
          "text": [
            "Model: \"sequential_2\"\n",
            "_________________________________________________________________\n",
            " Layer (type)                Output Shape              Param #   \n",
            "=================================================================\n",
            " efficientnetb3 (Functional)  (None, 7, 7, 1536)       10783535  \n",
            "                                                                 \n",
            " global_average_pooling2d (G  (None, 1536)             0         \n",
            " lobalAveragePooling2D)                                          \n",
            "                                                                 \n",
            " dense (Dense)               (None, 131)               201347    \n",
            "                                                                 \n",
            "=================================================================\n",
            "Total params: 10,984,882\n",
            "Trainable params: 201,347\n",
            "Non-trainable params: 10,783,535\n",
            "_________________________________________________________________\n"
          ]
        }
      ]
    },
    {
      "cell_type": "code",
      "source": [
        "# train the model (phase #2)\n",
        "\n",
        "history = model.fit(\n",
        "    train_dataset,\n",
        "    steps_per_epoch=len(Train_paths)//BATCH_SIZE,\n",
        "    epochs=8,\n",
        "    callbacks=[checkpoint, early_stop],\n",
        "    validation_data = val_dataset,\n",
        "    validation_steps = len(Val_paths)//BATCH_SIZE\n",
        ")"
      ],
      "metadata": {
        "id": "yZt1Zt2j6-96",
        "colab": {
          "base_uri": "https://localhost:8080/"
        },
        "outputId": "9c92cc28-ac14-4818-a075-3d82f0ec790f"
      },
      "execution_count": 40,
      "outputs": [
        {
          "output_type": "stream",
          "name": "stdout",
          "text": [
            "Epoch 1/8\n",
            "1586/1586 [==============================] - ETA: 0s - loss: 0.0536 - accuracy: 0.9854 - precision: 0.9872 - recall: 0.9835\n",
            "Epoch 1: val_loss improved from inf to 0.95925, saving model to best_weights.h5\n",
            "1586/1586 [==============================] - 1022s 644ms/step - loss: 0.0536 - accuracy: 0.9854 - precision: 0.9872 - recall: 0.9835 - val_loss: 0.9592 - val_accuracy: 0.7727 - val_precision: 0.8119 - val_recall: 0.7445\n",
            "Epoch 2/8\n",
            "1586/1586 [==============================] - ETA: 0s - loss: 0.0458 - accuracy: 0.9876 - precision: 0.9890 - recall: 0.9863\n",
            "Epoch 2: val_loss did not improve from 0.95925\n",
            "1586/1586 [==============================] - 1024s 644ms/step - loss: 0.0458 - accuracy: 0.9876 - precision: 0.9890 - recall: 0.9863 - val_loss: 2.1885 - val_accuracy: 0.5897 - val_precision: 0.6268 - val_recall: 0.5575\n",
            "Epoch 3/8\n",
            "1586/1586 [==============================] - ETA: 0s - loss: 0.0354 - accuracy: 0.9902 - precision: 0.9913 - recall: 0.9892\n",
            "Epoch 3: val_loss did not improve from 0.95925\n",
            "1586/1586 [==============================] - 1022s 645ms/step - loss: 0.0354 - accuracy: 0.9902 - precision: 0.9913 - recall: 0.9892 - val_loss: 1.2392 - val_accuracy: 0.7425 - val_precision: 0.7731 - val_recall: 0.7242\n",
            "Epoch 4/8\n",
            "1586/1586 [==============================] - ETA: 0s - loss: 0.0296 - accuracy: 0.9912 - precision: 0.9922 - recall: 0.9907\n",
            "Epoch 4: val_loss did not improve from 0.95925\n",
            "1586/1586 [==============================] - 1022s 644ms/step - loss: 0.0296 - accuracy: 0.9912 - precision: 0.9922 - recall: 0.9907 - val_loss: 1.3195 - val_accuracy: 0.7276 - val_precision: 0.7649 - val_recall: 0.7079\n",
            "Epoch 5/8\n",
            "1586/1586 [==============================] - ETA: 0s - loss: 0.0282 - accuracy: 0.9926 - precision: 0.9934 - recall: 0.9921\n",
            "Epoch 5: val_loss improved from 0.95925 to 0.31730, saving model to best_weights.h5\n",
            "1586/1586 [==============================] - 1022s 645ms/step - loss: 0.0282 - accuracy: 0.9926 - precision: 0.9934 - recall: 0.9921 - val_loss: 0.3173 - val_accuracy: 0.9136 - val_precision: 0.9292 - val_recall: 0.9026\n",
            "Epoch 6/8\n",
            "1586/1586 [==============================] - ETA: 0s - loss: 0.0186 - accuracy: 0.9950 - precision: 0.9954 - recall: 0.9946\n",
            "Epoch 6: val_loss did not improve from 0.31730\n",
            "1586/1586 [==============================] - 1024s 646ms/step - loss: 0.0186 - accuracy: 0.9950 - precision: 0.9954 - recall: 0.9946 - val_loss: 0.6591 - val_accuracy: 0.8343 - val_precision: 0.8490 - val_recall: 0.8234\n",
            "Epoch 7/8\n",
            "1586/1586 [==============================] - ETA: 0s - loss: 0.0181 - accuracy: 0.9949 - precision: 0.9952 - recall: 0.9944\n",
            "Epoch 7: val_loss did not improve from 0.31730\n",
            "1586/1586 [==============================] - 1020s 643ms/step - loss: 0.0181 - accuracy: 0.9949 - precision: 0.9952 - recall: 0.9944 - val_loss: 0.7008 - val_accuracy: 0.8272 - val_precision: 0.8449 - val_recall: 0.8150\n",
            "Epoch 8/8\n",
            "1586/1586 [==============================] - ETA: 0s - loss: 0.0225 - accuracy: 0.9934 - precision: 0.9940 - recall: 0.9931\n",
            "Epoch 8: val_loss did not improve from 0.31730\n",
            "1586/1586 [==============================] - 1021s 644ms/step - loss: 0.0225 - accuracy: 0.9934 - precision: 0.9940 - recall: 0.9931 - val_loss: 0.5803 - val_accuracy: 0.8596 - val_precision: 0.8774 - val_recall: 0.8451\n"
          ]
        }
      ]
    },
    {
      "cell_type": "markdown",
      "source": [
        "# START NEW MODEL AFTER TRAINING HERE:"
      ],
      "metadata": {
        "id": "2r0bcgl8CGPL"
      }
    },
    {
      "cell_type": "code",
      "source": [
        "\n",
        "backbone = EfficientNetB3(\n",
        "    input_shape=(224, 224, 3),\n",
        "    include_top = False\n",
        ")\n",
        "\n",
        "model = tf.keras.Sequential([\n",
        "    backbone,\n",
        "    tf.keras.layers.GlobalAveragePooling2D(),\n",
        "    tf.keras.layers.Dense(131, activation='softmax')\n",
        "])\n",
        "\n",
        "\n",
        "model.compile(\n",
        "    optimizer = tf.keras.optimizers.Adam(learning_rate=0.001, beta_1=0.9, beta_2=0.999, epsilon=1e-07),\n",
        "    loss = 'categorical_crossentropy',\n",
        "    metrics=['accuracy', tf.keras.metrics.Precision(name='precision'), tf.keras.metrics.Recall(name='recall')]\n",
        ")"
      ],
      "metadata": {
        "id": "KyY05uOW6-7a"
      },
      "execution_count": 41,
      "outputs": []
    },
    {
      "cell_type": "markdown",
      "source": [
        "### You can save the model with the \"model.save\" method"
      ],
      "metadata": {
        "id": "iaDNEhcTCSLt"
      }
    },
    {
      "cell_type": "code",
      "source": [
        "model.load_weights(\"best_weights.h5\")"
      ],
      "metadata": {
        "id": "qmgwTiq36-48"
      },
      "execution_count": 43,
      "outputs": []
    },
    {
      "cell_type": "code",
      "source": [
        "# Create a Dataset object for the testing set, just like for training and validation\n",
        "\n",
        "test_image_paths = list(test_path.glob(\"*/*\"))\n",
        "test_image_paths = list(map(lambda x : str(x), test_image_paths))\n",
        "test_labels = list(map(lambda x : get_label(x), test_image_paths))\n",
        "\n",
        "test_labels = Le.transform(test_labels)\n",
        "test_labels = tf.keras.utils.to_categorical(test_labels)\n",
        "\n",
        "test_image_paths = tf.convert_to_tensor(test_image_paths)\n",
        "test_labels = tf.convert_to_tensor(test_labels)\n",
        "\n",
        "def decode_image(image, label):\n",
        "  image = tf.io.read_file(image)\n",
        "  image = tf.io.decode_jpeg(image, channels = 3)\n",
        "  image = tf.image.resize(image, [224, 224], method=\"bilinear\")\n",
        "  return image, label\n",
        "\n",
        "test_dataset = (\n",
        "    tf.data.Dataset\n",
        "    .from_tensor_slices((test_image_paths, test_labels))\n",
        "    .map(decode_image)\n",
        "    .batch(BATCH_SIZE)\n",
        ")"
      ],
      "metadata": {
        "id": "s7r5-DVa6-2L"
      },
      "execution_count": 44,
      "outputs": []
    },
    {
      "cell_type": "code",
      "source": [
        "# verify Test Dataset Object\n",
        "image, label = next(iter(test_dataset))\n",
        "print(image.shape)\n",
        "print(label.shape)"
      ],
      "metadata": {
        "id": "P0AmjxXpnXBk",
        "colab": {
          "base_uri": "https://localhost:8080/"
        },
        "outputId": "61d4c1db-b71f-4e2f-88fe-6028b040f67a"
      },
      "execution_count": 45,
      "outputs": [
        {
          "output_type": "stream",
          "name": "stdout",
          "text": [
            "(32, 224, 224, 3)\n",
            "(32, 131)\n"
          ]
        }
      ]
    },
    {
      "cell_type": "code",
      "source": [
        "# view sample validation image\n",
        "print(Le.inverse_transform(np.argmax(label, axis=1))[0])\n",
        "plt.imshow((image[0].numpy()/255).reshape(224, 224, 3))"
      ],
      "metadata": {
        "id": "RSBSauwJnXEG",
        "colab": {
          "base_uri": "https://localhost:8080/",
          "height": 304
        },
        "outputId": "366646a7-bc1f-45d5-e0b8-41825893105f"
      },
      "execution_count": 46,
      "outputs": [
        {
          "output_type": "stream",
          "name": "stdout",
          "text": [
            "Mango\n"
          ]
        },
        {
          "output_type": "execute_result",
          "data": {
            "text/plain": [
              "<matplotlib.image.AxesImage at 0x7f070a26ac10>"
            ]
          },
          "metadata": {},
          "execution_count": 46
        },
        {
          "output_type": "display_data",
          "data": {
            "text/plain": [
              "<Figure size 432x288 with 1 Axes>"
            ],
            "image/png": "[encoded data removed]"
          },
          "metadata": {
            "needs_background": "light"
          }
        }
      ]
    },
    {
      "cell_type": "code",
      "source": [
        "# evaluate the loaded model\n",
        "\n",
        "loss, acc, prec, rec = model.evaluate(test_dataset)\n",
        "\n",
        "print(\" Testing Acc : \", acc)\n",
        "print(\" Testing Precision : \", prec)\n",
        "print(\" Testing Recall : \", rec)"
      ],
      "metadata": {
        "id": "E8LDwZPynXHO",
        "colab": {
          "base_uri": "https://localhost:8080/"
        },
        "outputId": "378eceba-a20b-4b1f-a678-c1ef829eabbe"
      },
      "execution_count": 47,
      "outputs": [
        {
          "output_type": "stream",
          "name": "stdout",
          "text": [
            "709/709 [==============================] - 89s 120ms/step - loss: 0.4968 - accuracy: 0.8603 - precision: 0.8790 - recall: 0.8482\n",
            " Testing Acc :  0.8603226542472839\n",
            " Testing Precision :  0.8790370225906372\n",
            " Testing Recall :  0.8481576442718506\n"
          ]
        }
      ]
    },
    {
      "cell_type": "markdown",
      "source": [
        "# IMPROVE ACCURACY FOR REALTIME PREDICTION"
      ],
      "metadata": {
        "id": "1-aLi4YDFAqq"
      }
    },
    {
      "cell_type": "code",
      "source": [
        "def LoadImage(image_path):\n",
        "  image = tf.io.read_file(image_path)\n",
        "  image = tf.io.decode_jpeg(image, channels = 3)\n",
        "  image = tf.image.resize(image, [224, 224], method=\"bilinear\")\n",
        "  plt.imshow(image.numpy()/255)\n",
        "  image = tf.expand_dims(image, 0)\n",
        "  return image\n",
        "\n",
        "def RealtimePrediction(image_path, model, encoder_):\n",
        "  image = LoadImage(image_path)\n",
        "  prediction = model.predict(image)\n",
        "  prediction = np.argmax(prediction, axis=1)\n",
        "  return encoder_.inverse_transform(prediction)[0]"
      ],
      "metadata": {
        "id": "MYDG-rUMFF6S"
      },
      "execution_count": 48,
      "outputs": []
    },
    {
      "cell_type": "markdown",
      "source": [
        "# PREDICT REALTIME RESULT AND PRINT THE KIND OF FRUIT"
      ],
      "metadata": {
        "id": "XudAPIdzIa3B"
      }
    },
    {
      "cell_type": "code",
      "source": [
        "RealtimePrediction(\"/content/fruits-360_dataset/fruits-360/Training/Apple Braeburn/100_100.jpg\", model, Le)"
      ],
      "metadata": {
        "colab": {
          "base_uri": "https://localhost:8080/",
          "height": 287
        },
        "id": "9jyWy1iKFF3u",
        "outputId": "63756c79-93a2-485c-8b5e-d3a61de86c81"
      },
      "execution_count": 50,
      "outputs": [
        {
          "output_type": "execute_result",
          "data": {
            "text/plain": [
              "'Apple Braeburn'"
            ],
            "application/vnd.google.colaboratory.intrinsic+json": {
              "type": "string"
            }
          },
          "metadata": {},
          "execution_count": 50
        },
        {
          "output_type": "display_data",
          "data": {
            "text/plain": [
              "<Figure size 432x288 with 1 Axes>"
            ],
            "image/png": "[encoded data removed]"
          },
          "metadata": {
            "needs_background": "light"
          }
        }
      ]
    },
    {
      "cell_type": "code",
      "source": [
        ""
      ],
      "metadata": {
        "id": "W0qx8Oq1FF1K"
      },
      "execution_count": null,
      "outputs": []
    },
    {
      "cell_type": "code",
      "source": [
        ""
      ],
      "metadata": {
        "id": "vluWQMFsFFyl"
      },
      "execution_count": null,
      "outputs": []
    },
    {
      "cell_type": "code",
      "source": [
        ""
      ],
      "metadata": {
        "id": "ZYdVQlmUFFwD"
      },
      "execution_count": null,
      "outputs": []
    },
    {
      "cell_type": "code",
      "source": [
        ""
      ],
      "metadata": {
        "id": "fkTpbsACFFtp"
      },
      "execution_count": null,
      "outputs": []
    },
    {
      "cell_type": "code",
      "source": [
        ""
      ],
      "metadata": {
        "id": "p31HNp74FFrK"
      },
      "execution_count": null,
      "outputs": []
    },
    {
      "cell_type": "code",
      "source": [
        ""
      ],
      "metadata": {
        "id": "YSi5IiqUFFop"
      },
      "execution_count": null,
      "outputs": []
    },
    {
      "cell_type": "code",
      "source": [
        ""
      ],
      "metadata": {
        "id": "MNMFVXM2FFl7"
      },
      "execution_count": null,
      "outputs": []
    },
    {
      "cell_type": "code",
      "source": [
        ""
      ],
      "metadata": {
        "id": "JoMTqMGiFFjs"
      },
      "execution_count": null,
      "outputs": []
    },
    {
      "cell_type": "code",
      "source": [
        ""
      ],
      "metadata": {
        "id": "ZznXt2xAFFhV"
      },
      "execution_count": null,
      "outputs": []
    },
    {
      "cell_type": "code",
      "source": [
        ""
      ],
      "metadata": {
        "id": "xsgvb0AwFFek"
      },
      "execution_count": null,
      "outputs": []
    },
    {
      "cell_type": "code",
      "source": [
        ""
      ],
      "metadata": {
        "id": "Sux7O6dsnXMN"
      },
      "execution_count": null,
      "outputs": []
    }
  ]
}