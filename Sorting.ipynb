{
 "cells": [
  {
   "cell_type": "markdown",
   "id": "c7f06db5",
   "metadata": {},
   "source": [
    "#### Insertion sort\n",
    "Select the next number, if it is smaller insert in spot variable.\n",
    "\n",
    "#### Selection sort\n",
    "Check the previous number if on the left, check if is bigger, if bigger sort, else check number on the right, and compare to previous and next previous number.\n",
    "\n",
    "#### Bubble sort\n",
    "sort a <- b, (a|b) <- c, until n.\n",
    "\n",
    "\n",
    "#### Merge sort\n",
    "split in equal parts, until you have all parts, then combine all these boxes from 2 elements to the bigger elements."
   ]
  }
 ],
 "metadata": {
  "kernelspec": {
   "display_name": "Python 3",
   "language": "python",
   "name": "python3"
  },
  "language_info": {
   "codemirror_mode": {
    "name": "ipython",
    "version": 3
   },
   "file_extension": ".py",
   "mimetype": "text/x-python",
   "name": "python",
   "nbconvert_exporter": "python",
   "pygments_lexer": "ipython3",
   "version": "3.6.8"
  }
 },
 "nbformat": 4,
 "nbformat_minor": 5
}
