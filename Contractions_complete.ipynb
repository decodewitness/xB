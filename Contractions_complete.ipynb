{
  "nbformat": 4,
  "nbformat_minor": 0,
  "metadata": {
    "colab": {
      "name": "TokenizationNLTK_complete.ipynb",
      "provenance": []
    },
    "kernelspec": {
      "name": "python3",
      "display_name": "Python 3"
    },
    "accelerator": "GPU"
  },
  "cells": [
    {
      "cell_type": "markdown",
      "metadata": {
        "id": "uiL2nmB1WAQd"
      },
      "source": [
        "# <font color='#fd79a8'> Tokenization Methods Using NLTK<font/>"
      ]
    },
    {
      "cell_type": "code",
      "metadata": {
        "id": "TKFaFq4vrvH4"
      },
      "source": [
        "import nltk #importing nltk package "
      ],
      "execution_count": 8,
      "outputs": []
    },
    {
      "cell_type": "code",
      "metadata": {
        "id": "698RpQucr79J",
        "colab": {
          "base_uri": "https://localhost:8080/"
        },
        "outputId": "d5f68701-7e75-4dd1-8236-840bc0968823"
      },
      "source": [
        "from nltk.tokenize import word_tokenize \n",
        "nltk.download('punkt')"
      ],
      "execution_count": 9,
      "outputs": [
        {
          "output_type": "stream",
          "text": [
            "[nltk_data] Downloading package punkt to /root/nltk_data...\n",
            "[nltk_data]   Unzipping tokenizers/punkt.zip.\n"
          ],
          "name": "stdout"
        },
        {
          "output_type": "execute_result",
          "data": {
            "text/plain": [
              "True"
            ]
          },
          "metadata": {
            "tags": []
          },
          "execution_count": 9
        }
      ]
    },
    {
      "cell_type": "markdown",
      "metadata": {
        "id": "VgVZGbhouyyK"
      },
      "source": [
        "<font color= #fd79a8 > NLTK Module **tokenize()** "
      ]
    },
    {
      "cell_type": "markdown",
      "metadata": {
        "id": "NImBGS2cvHgO"
      },
      "source": [
        "<font color= #fd79a8 > NLTK Module **word_tokenize()** method"
      ]
    },
    {
      "cell_type": "code",
      "metadata": {
        "id": "C2_BTyTCsbHN"
      },
      "source": [
        "sentence = \"He's a German Shepherd. They are some of the smartest dogs!\""
      ],
      "execution_count": null,
      "outputs": []
    },
    {
      "cell_type": "code",
      "metadata": {
        "id": "js5ny_-UsgJ3",
        "colab": {
          "base_uri": "https://localhost:8080/"
        },
        "outputId": "4b258ef0-e480-45e3-dbc0-62f708d0cf2b"
      },
      "source": [
        "word_tokenize(sentence)"
      ],
      "execution_count": null,
      "outputs": [
        {
          "output_type": "execute_result",
          "data": {
            "text/plain": [
              "['He',\n",
              " \"'s\",\n",
              " 'a',\n",
              " 'German',\n",
              " 'Shepherd',\n",
              " '.',\n",
              " 'They',\n",
              " 'are',\n",
              " 'some',\n",
              " 'of',\n",
              " 'the',\n",
              " 'smartest',\n",
              " 'dogs',\n",
              " '!']"
            ]
          },
          "metadata": {
            "tags": []
          },
          "execution_count": 11
        }
      ]
    },
    {
      "cell_type": "markdown",
      "metadata": {
        "id": "ZQlt1TFkEvjp"
      },
      "source": [
        "<font color= #fd79a8 > **sent_tokenization()** <font/> "
      ]
    },
    {
      "cell_type": "code",
      "metadata": {
        "id": "CwlgelVzwvBg"
      },
      "source": [
        "article = '''Did you know that World War 1 brought German Shepherds to the Western Hemisphere? Rin Tin Tin was a German Shepherd rescued from WWI. They are some of the smartest dogs!'''"
      ],
      "execution_count": null,
      "outputs": []
    },
    {
      "cell_type": "code",
      "metadata": {
        "id": "oEJq6wS4s1L7"
      },
      "source": [
        "from nltk.tokenize import sent_tokenize"
      ],
      "execution_count": null,
      "outputs": []
    },
    {
      "cell_type": "code",
      "metadata": {
        "id": "lLPPgGrvtCHU",
        "colab": {
          "base_uri": "https://localhost:8080/"
        },
        "outputId": "975985c0-282d-4dd2-a182-ba5ce6f7e914"
      },
      "source": [
        "sent_tokenize(article)"
      ],
      "execution_count": null,
      "outputs": [
        {
          "output_type": "execute_result",
          "data": {
            "text/plain": [
              "['Did you know that World War 1 brought German Shepherds to the Western Hemisphere?',\n",
              " 'Rin Tin Tin was a German Shepherd rescued from WWI.',\n",
              " 'They are some of the smartest dogs!']"
            ]
          },
          "metadata": {
            "tags": []
          },
          "execution_count": 14
        }
      ]
    },
    {
      "cell_type": "markdown",
      "metadata": {
        "id": "oGsxrI6fQVCC"
      },
      "source": [
        "# <font color='#fd79a8'> Expand Clitics/Contractions<br>\n",
        "[Library source for contractions](https://github.com/kootenpv/contractions) <br> <font color='#81ecec'>latest version Jun 17, 2021"
      ]
    },
    {
      "cell_type": "code",
      "metadata": {
        "id": "nm6Sf7UGQUCA"
      },
      "source": [
        "!pip install contractions"
      ],
      "execution_count": null,
      "outputs": []
    },
    {
      "cell_type": "code",
      "metadata": {
        "colab": {
          "base_uri": "https://localhost:8080/"
        },
        "id": "c9Uet791Qn5R",
        "outputId": "206bc0c1-4fe4-48d6-8933-ba295736b20f"
      },
      "source": [
        "import contractions\n",
        "contracted = '''She's going for a walk. Jack didn't go because he was tired. \n",
        "          They'd definitely go tonight. I'm sorry, I'll be late.\n",
        "          That's the way I like 'em!! '''\n",
        "  \n",
        "expanded_all = []    \n",
        "for word in contracted.split():\n",
        "  expanded_all.append(contractions.fix(word))   \n",
        "    \n",
        "expand_clitics = ' '.join(expanded_words)\n",
        "print('Text with contractions: ' + contracted)\n",
        "print('Expanded Clitics: ' + expand_clitics)"
      ],
      "execution_count": 23,
      "outputs": [
        {
          "output_type": "stream",
          "text": [
            "Text with contractions: She's going for a walk. Jack didn't go because he was tired. \n",
            "          They'd definitely go tonight. I'm sorry, I'll be late.\n",
            "          That's the way I like 'em!! \n",
            "Expanded Clitics: she is going for a walk. Jack did not go because he was tired. they would definitely go tonight. I am sorry, I will be late. that is the way I like  them!!\n"
          ],
          "name": "stdout"
        }
      ]
    },
    {
      "cell_type": "code",
      "metadata": {
        "colab": {
          "base_uri": "https://localhost:8080/"
        },
        "id": "4mIQfkvwTyfC",
        "outputId": "e0e70069-365c-4f4c-acc2-57479f1dd71a"
      },
      "source": [
        "word_tokenize(contracted)"
      ],
      "execution_count": 19,
      "outputs": [
        {
          "output_type": "execute_result",
          "data": {
            "text/plain": [
              "['She',\n",
              " \"'s\",\n",
              " 'going',\n",
              " 'for',\n",
              " 'a',\n",
              " 'walk',\n",
              " '.',\n",
              " 'Jack',\n",
              " 'did',\n",
              " \"n't\",\n",
              " 'go',\n",
              " 'because',\n",
              " 'he',\n",
              " 'was',\n",
              " 'tired',\n",
              " '.',\n",
              " 'They',\n",
              " \"'d\",\n",
              " 'definitely',\n",
              " 'go',\n",
              " 'tonight',\n",
              " '.',\n",
              " 'I',\n",
              " \"'m\",\n",
              " 'sorry',\n",
              " ',',\n",
              " 'I',\n",
              " \"'ll\",\n",
              " 'be',\n",
              " 'late',\n",
              " '.',\n",
              " 'That',\n",
              " \"'s\",\n",
              " 'the',\n",
              " 'way',\n",
              " 'I',\n",
              " 'like',\n",
              " \"'em\",\n",
              " '!',\n",
              " '!']"
            ]
          },
          "metadata": {
            "tags": []
          },
          "execution_count": 19
        }
      ]
    },
    {
      "cell_type": "code",
      "metadata": {
        "colab": {
          "base_uri": "https://localhost:8080/"
        },
        "id": "IfGWNPwrUDyM",
        "outputId": "d649e4a0-812f-4a84-93b1-39d376a42ccc"
      },
      "source": [
        "word_tokenize(expand_clitics)"
      ],
      "execution_count": 20,
      "outputs": [
        {
          "output_type": "execute_result",
          "data": {
            "text/plain": [
              "['she',\n",
              " 'is',\n",
              " 'going',\n",
              " 'for',\n",
              " 'a',\n",
              " 'walk',\n",
              " '.',\n",
              " 'Jack',\n",
              " 'did',\n",
              " 'not',\n",
              " 'go',\n",
              " 'because',\n",
              " 'he',\n",
              " 'was',\n",
              " 'tired',\n",
              " '.',\n",
              " 'they',\n",
              " 'would',\n",
              " 'definitely',\n",
              " 'go',\n",
              " 'tonight',\n",
              " '.',\n",
              " 'I',\n",
              " 'am',\n",
              " 'sorry',\n",
              " ',',\n",
              " 'I',\n",
              " 'will',\n",
              " 'be',\n",
              " 'late',\n",
              " '.',\n",
              " 'that',\n",
              " 'is',\n",
              " 'the',\n",
              " 'way',\n",
              " 'I',\n",
              " 'like',\n",
              " 'them',\n",
              " '!',\n",
              " '!']"
            ]
          },
          "metadata": {
            "tags": []
          },
          "execution_count": 20
        }
      ]
    }
  ]
}