{
 "cells": [
  {
   "cell_type": "markdown",
   "id": "7cbf58d9",
   "metadata": {},
   "source": [
    "# NLP - LEMMATIZATION"
   ]
  },
  {
   "cell_type": "code",
   "execution_count": 2,
   "id": "b5b01872",
   "metadata": {},
   "outputs": [
    {
     "name": "stdout",
     "output_type": "stream",
     "text": [
      "Collecting spacy\n",
      "  Downloading spacy-3.3.1-cp36-cp36m-win_amd64.whl (12.5 MB)\n",
      "Requirement already satisfied: packaging>=20.0 in c:\\users\\vixen\\appdata\\local\\programs\\python\\python36\\lib\\site-packages (from spacy) (21.3)\n",
      "Collecting thinc<8.1.0,>=8.0.14\n",
      "  Downloading thinc-8.0.17-cp36-cp36m-win_amd64.whl (1.1 MB)\n",
      "Collecting blis<0.8.0,>=0.4.0\n",
      "  Downloading blis-0.7.7-cp36-cp36m-win_amd64.whl (6.6 MB)\n",
      "Collecting langcodes<4.0.0,>=3.2.0\n",
      "  Downloading langcodes-3.3.0-py3-none-any.whl (181 kB)\n",
      "Collecting catalogue<2.1.0,>=2.0.6\n",
      "  Downloading catalogue-2.0.7-py3-none-any.whl (17 kB)\n",
      "Collecting requests<3.0.0,>=2.13.0\n",
      "  Downloading requests-2.27.1-py2.py3-none-any.whl (63 kB)\n",
      "Requirement already satisfied: jinja2 in c:\\users\\vixen\\appdata\\local\\programs\\python\\python36\\lib\\site-packages (from spacy) (3.0.3)\n",
      "Collecting spacy-legacy<3.1.0,>=3.0.9\n",
      "  Downloading spacy_legacy-3.0.9-py2.py3-none-any.whl (20 kB)\n",
      "Collecting pydantic!=1.8,!=1.8.1,<1.9.0,>=1.7.4\n",
      "  Downloading pydantic-1.8.2-cp36-cp36m-win_amd64.whl (1.9 MB)\n",
      "Collecting spacy-loggers<2.0.0,>=1.0.0\n",
      "  Downloading spacy_loggers-1.0.2-py3-none-any.whl (7.2 kB)\n",
      "Collecting typer<0.5.0,>=0.3.0\n",
      "  Downloading typer-0.4.1-py3-none-any.whl (27 kB)\n",
      "Collecting wasabi<1.1.0,>=0.9.1\n",
      "  Downloading wasabi-0.9.1-py3-none-any.whl (26 kB)\n",
      "Requirement already satisfied: numpy>=1.15.0 in c:\\users\\vixen\\appdata\\local\\programs\\python\\python36\\lib\\site-packages (from spacy) (1.19.5)\n",
      "Collecting pathy>=0.3.5\n",
      "  Downloading pathy-0.6.1-py3-none-any.whl (42 kB)\n",
      "Collecting cymem<2.1.0,>=2.0.2\n",
      "  Downloading cymem-2.0.6-cp36-cp36m-win_amd64.whl (35 kB)\n",
      "Requirement already satisfied: setuptools in c:\\users\\vixen\\appdata\\local\\programs\\python\\python36\\lib\\site-packages (from spacy) (59.6.0)\n",
      "Collecting murmurhash<1.1.0,>=0.28.0\n",
      "  Downloading murmurhash-1.0.7-cp36-cp36m-win_amd64.whl (20 kB)\n",
      "Collecting srsly<3.0.0,>=2.4.3\n",
      "  Downloading srsly-2.4.3-cp36-cp36m-win_amd64.whl (456 kB)\n",
      "Collecting preshed<3.1.0,>=3.0.2\n",
      "  Downloading preshed-3.0.6-cp36-cp36m-win_amd64.whl (109 kB)\n",
      "Requirement already satisfied: tqdm<5.0.0,>=4.38.0 in c:\\users\\vixen\\appdata\\local\\programs\\python\\python36\\lib\\site-packages (from spacy) (4.64.0)\n",
      "Requirement already satisfied: typing-extensions<4.2.0,>=3.7.4 in c:\\users\\vixen\\appdata\\local\\programs\\python\\python36\\lib\\site-packages (from spacy) (4.1.1)\n",
      "Requirement already satisfied: zipp>=0.5 in c:\\users\\vixen\\appdata\\local\\programs\\python\\python36\\lib\\site-packages (from catalogue<2.1.0,>=2.0.6->spacy) (3.6.0)\n",
      "Requirement already satisfied: pyparsing!=3.0.5,>=2.0.2 in c:\\users\\vixen\\appdata\\local\\programs\\python\\python36\\lib\\site-packages (from packaging>=20.0->spacy) (3.0.9)\n",
      "Collecting smart-open<6.0.0,>=5.0.0\n",
      "  Downloading smart_open-5.2.1-py3-none-any.whl (58 kB)\n",
      "Requirement already satisfied: dataclasses<1.0,>=0.6 in c:\\users\\vixen\\appdata\\local\\programs\\python\\python36\\lib\\site-packages (from pathy>=0.3.5->spacy) (0.8)\n",
      "Collecting urllib3<1.27,>=1.21.1\n",
      "  Downloading urllib3-1.26.9-py2.py3-none-any.whl (138 kB)\n",
      "Collecting idna<4,>=2.5\n",
      "  Downloading idna-3.3-py3-none-any.whl (61 kB)\n",
      "Collecting certifi>=2017.4.17\n",
      "  Downloading certifi-2022.6.15-py3-none-any.whl (160 kB)\n",
      "Collecting charset-normalizer~=2.0.0\n",
      "  Downloading charset_normalizer-2.0.12-py3-none-any.whl (39 kB)\n",
      "Collecting contextvars<3,>=2.4\n",
      "  Downloading contextvars-2.4.tar.gz (9.6 kB)\n",
      "  Preparing metadata (setup.py): started\n",
      "  Preparing metadata (setup.py): finished with status 'done'\n",
      "Requirement already satisfied: importlib-resources in c:\\users\\vixen\\appdata\\local\\programs\\python\\python36\\lib\\site-packages (from tqdm<5.0.0,>=4.38.0->spacy) (5.4.0)\n",
      "Requirement already satisfied: colorama in c:\\users\\vixen\\appdata\\local\\programs\\python\\python36\\lib\\site-packages (from tqdm<5.0.0,>=4.38.0->spacy) (0.4.4)\n",
      "Requirement already satisfied: click<9.0.0,>=7.1.1 in c:\\users\\vixen\\appdata\\local\\programs\\python\\python36\\lib\\site-packages (from typer<0.5.0,>=0.3.0->spacy) (8.0.4)\n",
      "Requirement already satisfied: MarkupSafe>=2.0 in c:\\users\\vixen\\appdata\\local\\programs\\python\\python36\\lib\\site-packages (from jinja2->spacy) (2.0.1)\n",
      "Requirement already satisfied: importlib-metadata in c:\\users\\vixen\\appdata\\local\\programs\\python\\python36\\lib\\site-packages (from click<9.0.0,>=7.1.1->typer<0.5.0,>=0.3.0->spacy) (4.8.3)\n",
      "Collecting immutables>=0.9\n",
      "  Downloading immutables-0.18-cp36-cp36m-win_amd64.whl (58 kB)\n",
      "Building wheels for collected packages: contextvars\n",
      "  Building wheel for contextvars (setup.py): started\n",
      "  Building wheel for contextvars (setup.py): finished with status 'done'\n",
      "  Created wheel for contextvars: filename=contextvars-2.4-py3-none-any.whl size=7681 sha256=719b320cd558534a185dfb58b4f1e6054884bf84c99ca51abc52a1d1a20bad82\n",
      "  Stored in directory: c:\\users\\vixen\\appdata\\local\\pip\\cache\\wheels\\41\\11\\53\\911724983aa48deb94792432e14e518447212dd6c5477d49d3\n",
      "Successfully built contextvars\n",
      "Installing collected packages: murmurhash, immutables, cymem, catalogue, wasabi, urllib3, typer, srsly, smart-open, pydantic, preshed, idna, contextvars, charset-normalizer, certifi, blis, thinc, spacy-loggers, spacy-legacy, requests, pathy, langcodes, spacy\n",
      "  Attempting uninstall: smart-open\n",
      "    Found existing installation: smart-open 6.0.0\n",
      "    Uninstalling smart-open-6.0.0:\n",
      "      Successfully uninstalled smart-open-6.0.0\n",
      "Successfully installed blis-0.7.7 catalogue-2.0.7 certifi-2022.6.15 charset-normalizer-2.0.12 contextvars-2.4 cymem-2.0.6 idna-3.3 immutables-0.18 langcodes-3.3.0 murmurhash-1.0.7 pathy-0.6.1 preshed-3.0.6 pydantic-1.8.2 requests-2.27.1 smart-open-5.2.1 spacy-3.3.1 spacy-legacy-3.0.9 spacy-loggers-1.0.2 srsly-2.4.3 thinc-8.0.17 typer-0.4.1 urllib3-1.26.9 wasabi-0.9.1\n"
     ]
    }
   ],
   "source": [
    "!pip install spacy"
   ]
  },
  {
   "cell_type": "code",
   "execution_count": 9,
   "id": "bbe73e78",
   "metadata": {},
   "outputs": [
    {
     "name": "stdout",
     "output_type": "stream",
     "text": [
      "Collecting en-core-web-sm==3.3.0\n",
      "  Using cached https://github.com/explosion/spacy-models/releases/download/en_core_web_sm-3.3.0/en_core_web_sm-3.3.0-py3-none-any.whl (12.8 MB)\n",
      "Requirement already satisfied: spacy<3.4.0,>=3.3.0.dev0 in c:\\users\\vixen\\appdata\\local\\programs\\python\\python36\\lib\\site-packages (from en-core-web-sm==3.3.0) (3.3.1)\n",
      "Requirement already satisfied: blis<0.8.0,>=0.4.0 in c:\\users\\vixen\\appdata\\local\\programs\\python\\python36\\lib\\site-packages (from spacy<3.4.0,>=3.3.0.dev0->en-core-web-sm==3.3.0) (0.7.7)\n",
      "Requirement already satisfied: numpy>=1.15.0 in c:\\users\\vixen\\appdata\\local\\programs\\python\\python36\\lib\\site-packages (from spacy<3.4.0,>=3.3.0.dev0->en-core-web-sm==3.3.0) (1.19.5)\n",
      "Requirement already satisfied: thinc<8.1.0,>=8.0.14 in c:\\users\\vixen\\appdata\\local\\programs\\python\\python36\\lib\\site-packages (from spacy<3.4.0,>=3.3.0.dev0->en-core-web-sm==3.3.0) (8.0.17)\n",
      "Requirement already satisfied: catalogue<2.1.0,>=2.0.6 in c:\\users\\vixen\\appdata\\local\\programs\\python\\python36\\lib\\site-packages (from spacy<3.4.0,>=3.3.0.dev0->en-core-web-sm==3.3.0) (2.0.7)\n",
      "Requirement already satisfied: spacy-legacy<3.1.0,>=3.0.9 in c:\\users\\vixen\\appdata\\local\\programs\\python\\python36\\lib\\site-packages (from spacy<3.4.0,>=3.3.0.dev0->en-core-web-sm==3.3.0) (3.0.9)\n",
      "Requirement already satisfied: typer<0.5.0,>=0.3.0 in c:\\users\\vixen\\appdata\\local\\programs\\python\\python36\\lib\\site-packages (from spacy<3.4.0,>=3.3.0.dev0->en-core-web-sm==3.3.0) (0.4.1)\n",
      "Requirement already satisfied: wasabi<1.1.0,>=0.9.1 in c:\\users\\vixen\\appdata\\local\\programs\\python\\python36\\lib\\site-packages (from spacy<3.4.0,>=3.3.0.dev0->en-core-web-sm==3.3.0) (0.9.1)\n",
      "Requirement already satisfied: pathy>=0.3.5 in c:\\users\\vixen\\appdata\\local\\programs\\python\\python36\\lib\\site-packages (from spacy<3.4.0,>=3.3.0.dev0->en-core-web-sm==3.3.0) (0.6.1)\n",
      "Requirement already satisfied: tqdm<5.0.0,>=4.38.0 in c:\\users\\vixen\\appdata\\local\\programs\\python\\python36\\lib\\site-packages (from spacy<3.4.0,>=3.3.0.dev0->en-core-web-sm==3.3.0) (4.64.0)\n",
      "Requirement already satisfied: setuptools in c:\\users\\vixen\\appdata\\local\\programs\\python\\python36\\lib\\site-packages (from spacy<3.4.0,>=3.3.0.dev0->en-core-web-sm==3.3.0) (59.6.0)\n",
      "Requirement already satisfied: cymem<2.1.0,>=2.0.2 in c:\\users\\vixen\\appdata\\local\\programs\\python\\python36\\lib\\site-packages (from spacy<3.4.0,>=3.3.0.dev0->en-core-web-sm==3.3.0) (2.0.6)\n",
      "Requirement already satisfied: pydantic!=1.8,!=1.8.1,<1.9.0,>=1.7.4 in c:\\users\\vixen\\appdata\\local\\programs\\python\\python36\\lib\\site-packages (from spacy<3.4.0,>=3.3.0.dev0->en-core-web-sm==3.3.0) (1.8.2)\n",
      "Requirement already satisfied: murmurhash<1.1.0,>=0.28.0 in c:\\users\\vixen\\appdata\\local\\programs\\python\\python36\\lib\\site-packages (from spacy<3.4.0,>=3.3.0.dev0->en-core-web-sm==3.3.0) (1.0.7)\n",
      "Requirement already satisfied: srsly<3.0.0,>=2.4.3 in c:\\users\\vixen\\appdata\\local\\programs\\python\\python36\\lib\\site-packages (from spacy<3.4.0,>=3.3.0.dev0->en-core-web-sm==3.3.0) (2.4.3)\n",
      "Requirement already satisfied: langcodes<4.0.0,>=3.2.0 in c:\\users\\vixen\\appdata\\local\\programs\\python\\python36\\lib\\site-packages (from spacy<3.4.0,>=3.3.0.dev0->en-core-web-sm==3.3.0) (3.3.0)\n",
      "Requirement already satisfied: spacy-loggers<2.0.0,>=1.0.0 in c:\\users\\vixen\\appdata\\local\\programs\\python\\python36\\lib\\site-packages (from spacy<3.4.0,>=3.3.0.dev0->en-core-web-sm==3.3.0) (1.0.2)\n",
      "Requirement already satisfied: preshed<3.1.0,>=3.0.2 in c:\\users\\vixen\\appdata\\local\\programs\\python\\python36\\lib\\site-packages (from spacy<3.4.0,>=3.3.0.dev0->en-core-web-sm==3.3.0) (3.0.6)\n",
      "Requirement already satisfied: jinja2 in c:\\users\\vixen\\appdata\\local\\programs\\python\\python36\\lib\\site-packages (from spacy<3.4.0,>=3.3.0.dev0->en-core-web-sm==3.3.0) (3.0.3)\n",
      "Requirement already satisfied: requests<3.0.0,>=2.13.0 in c:\\users\\vixen\\appdata\\local\\programs\\python\\python36\\lib\\site-packages (from spacy<3.4.0,>=3.3.0.dev0->en-core-web-sm==3.3.0) (2.27.1)\n",
      "Requirement already satisfied: typing-extensions<4.2.0,>=3.7.4 in c:\\users\\vixen\\appdata\\local\\programs\\python\\python36\\lib\\site-packages (from spacy<3.4.0,>=3.3.0.dev0->en-core-web-sm==3.3.0) (4.1.1)\n",
      "Requirement already satisfied: packaging>=20.0 in c:\\users\\vixen\\appdata\\local\\programs\\python\\python36\\lib\\site-packages (from spacy<3.4.0,>=3.3.0.dev0->en-core-web-sm==3.3.0) (21.3)\n",
      "Requirement already satisfied: zipp>=0.5 in c:\\users\\vixen\\appdata\\local\\programs\\python\\python36\\lib\\site-packages (from catalogue<2.1.0,>=2.0.6->spacy<3.4.0,>=3.3.0.dev0->en-core-web-sm==3.3.0) (3.6.0)\n",
      "Requirement already satisfied: pyparsing!=3.0.5,>=2.0.2 in c:\\users\\vixen\\appdata\\local\\programs\\python\\python36\\lib\\site-packages (from packaging>=20.0->spacy<3.4.0,>=3.3.0.dev0->en-core-web-sm==3.3.0) (3.0.9)\n",
      "Requirement already satisfied: dataclasses<1.0,>=0.6 in c:\\users\\vixen\\appdata\\local\\programs\\python\\python36\\lib\\site-packages (from pathy>=0.3.5->spacy<3.4.0,>=3.3.0.dev0->en-core-web-sm==3.3.0) (0.8)\n",
      "Requirement already satisfied: smart-open<6.0.0,>=5.0.0 in c:\\users\\vixen\\appdata\\local\\programs\\python\\python36\\lib\\site-packages (from pathy>=0.3.5->spacy<3.4.0,>=3.3.0.dev0->en-core-web-sm==3.3.0) (5.2.1)\n",
      "Requirement already satisfied: urllib3<1.27,>=1.21.1 in c:\\users\\vixen\\appdata\\local\\programs\\python\\python36\\lib\\site-packages (from requests<3.0.0,>=2.13.0->spacy<3.4.0,>=3.3.0.dev0->en-core-web-sm==3.3.0) (1.26.9)\n",
      "Requirement already satisfied: certifi>=2017.4.17 in c:\\users\\vixen\\appdata\\local\\programs\\python\\python36\\lib\\site-packages (from requests<3.0.0,>=2.13.0->spacy<3.4.0,>=3.3.0.dev0->en-core-web-sm==3.3.0) (2022.6.15)\n",
      "Requirement already satisfied: idna<4,>=2.5 in c:\\users\\vixen\\appdata\\local\\programs\\python\\python36\\lib\\site-packages (from requests<3.0.0,>=2.13.0->spacy<3.4.0,>=3.3.0.dev0->en-core-web-sm==3.3.0) (3.3)\n",
      "Requirement already satisfied: charset-normalizer~=2.0.0 in c:\\users\\vixen\\appdata\\local\\programs\\python\\python36\\lib\\site-packages (from requests<3.0.0,>=2.13.0->spacy<3.4.0,>=3.3.0.dev0->en-core-web-sm==3.3.0) (2.0.12)\n",
      "Requirement already satisfied: contextvars<3,>=2.4 in c:\\users\\vixen\\appdata\\local\\programs\\python\\python36\\lib\\site-packages (from thinc<8.1.0,>=8.0.14->spacy<3.4.0,>=3.3.0.dev0->en-core-web-sm==3.3.0) (2.4)\n",
      "Requirement already satisfied: colorama in c:\\users\\vixen\\appdata\\local\\programs\\python\\python36\\lib\\site-packages (from tqdm<5.0.0,>=4.38.0->spacy<3.4.0,>=3.3.0.dev0->en-core-web-sm==3.3.0) (0.4.4)\n",
      "Requirement already satisfied: importlib-resources in c:\\users\\vixen\\appdata\\local\\programs\\python\\python36\\lib\\site-packages (from tqdm<5.0.0,>=4.38.0->spacy<3.4.0,>=3.3.0.dev0->en-core-web-sm==3.3.0) (5.4.0)\n",
      "Requirement already satisfied: click<9.0.0,>=7.1.1 in c:\\users\\vixen\\appdata\\local\\programs\\python\\python36\\lib\\site-packages (from typer<0.5.0,>=0.3.0->spacy<3.4.0,>=3.3.0.dev0->en-core-web-sm==3.3.0) (8.0.4)\n",
      "Requirement already satisfied: MarkupSafe>=2.0 in c:\\users\\vixen\\appdata\\local\\programs\\python\\python36\\lib\\site-packages (from jinja2->spacy<3.4.0,>=3.3.0.dev0->en-core-web-sm==3.3.0) (2.0.1)\n",
      "Requirement already satisfied: importlib-metadata in c:\\users\\vixen\\appdata\\local\\programs\\python\\python36\\lib\\site-packages (from click<9.0.0,>=7.1.1->typer<0.5.0,>=0.3.0->spacy<3.4.0,>=3.3.0.dev0->en-core-web-sm==3.3.0) (4.8.3)\n",
      "Requirement already satisfied: immutables>=0.9 in c:\\users\\vixen\\appdata\\local\\programs\\python\\python36\\lib\\site-packages (from contextvars<3,>=2.4->thinc<8.1.0,>=8.0.14->spacy<3.4.0,>=3.3.0.dev0->en-core-web-sm==3.3.0) (0.18)\n",
      "[+] Download and installation successful\n",
      "You can now load the package via spacy.load('en_core_web_sm')\n"
     ]
    }
   ],
   "source": [
    "# for stemming\n",
    "import nltk\n",
    "\n",
    "# for lemmatization\n",
    "import spacy\n",
    "!python -m spacy download en_core_web_sm\n",
    "nlp = spacy.load('en_core_web_sm')"
   ]
  },
  {
   "cell_type": "code",
   "execution_count": 10,
   "id": "f1f83035",
   "metadata": {},
   "outputs": [
    {
     "data": {
      "text/plain": [
       "'we are eat and swim ; we have been eat and swim ; he eat and swim ; he ate and swam'"
      ]
     },
     "execution_count": 10,
     "metadata": {},
     "output_type": "execute_result"
    }
   ],
   "source": [
    "# function for stemming\n",
    "\n",
    "def get_stem(text):\n",
    "    stemmer = nltk.porter.PorterStemmer()\n",
    "    text = ' '.join([stemmer.stem(word) for word in text.split()])\n",
    "    return text\n",
    "\n",
    "# call function\n",
    "get_stem(\"we are eating and swimming ; we have been eating and swimming ; he eats and swims ; he ate and swam\")"
   ]
  },
  {
   "cell_type": "code",
   "execution_count": 11,
   "id": "7c57beda",
   "metadata": {},
   "outputs": [
    {
     "data": {
      "text/plain": [
       "'we be eat and swim ; we have be eat and swim ; he eat and swim ; he eat and swam'"
      ]
     },
     "execution_count": 11,
     "metadata": {},
     "output_type": "execute_result"
    }
   ],
   "source": [
    "# function to remove special characters\n",
    "\n",
    "def get_lem(text):\n",
    "    text = nlp(text)\n",
    "    text = ' '.join([word.lemma_ if word.lemma_ != '-PRON-' else word.text for word in text])\n",
    "    return text\n",
    "\n",
    "# call function\n",
    "get_lem(\"we are eating and swimming ; we have been eating and swimming ; he eats and swims ; he ate and swam\")"
   ]
  }
 ],
 "metadata": {
  "kernelspec": {
   "display_name": "Python 3",
   "language": "python",
   "name": "python3"
  },
  "language_info": {
   "codemirror_mode": {
    "name": "ipython",
    "version": 3
   },
   "file_extension": ".py",
   "mimetype": "text/x-python",
   "name": "python",
   "nbconvert_exporter": "python",
   "pygments_lexer": "ipython3",
   "version": "3.6.8"
  }
 },
 "nbformat": 4,
 "nbformat_minor": 5
}
