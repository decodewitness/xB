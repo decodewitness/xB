{
 "cells": [
  {
   "cell_type": "markdown",
   "id": "e788921e",
   "metadata": {},
   "source": [
    "# NN - Tuning Hyperparameters (information)\n",
    "\n",
    "How should we choose the right value for Dropout.\n",
    "\n",
    "\n",
    "### Number of layers in a neural network\n",
    "\n",
    "    * medium sized dataset (3 to 5)\n",
    "    * <2 underfitting\n",
    "    * >5 overfitting\n",
    "    * For bigger problems, slowly increase the hidden layers and check to see if increasing the hidden layers optimizes the neural network.\n",
    "    \n",
    "    \n",
    "### Dropout value\n",
    "\n",
    "    * 0.2 to 0.4\n",
    "    * keep dropout less than 0.5, as higher will lead to overfitting\n",
    "    * dropout values less than 0.2 will have little significance.\n",
    "    \n",
    "    \n",
    "### Learning rate\n",
    "\n",
    "    * Optimizing the learning rate is the most important step in optimization of the neural network.\n",
    "    * If the learning rate is low, then training is more reliable, but optimization will take a lot of time, and if the learning rate is high, then training may not converge or even diverge.\n",
    "    * Weight changes may be so big that the optimizer may overshoot the minimum and make the loss worse.\n",
    "    * The most common learning rates in neural networks are 0.01 or 0.001.\n",
    "    * We can also choose variable learning rates that decrease when the epochs progress.\n",
    "    \n",
    "    \n",
    "### Batch size\n",
    "\n",
    "    * Depends on RAM or GPU memory.\n",
    "    * Generally a batch size of 32 is good.\n",
    "    * We should also try a batch size of 64, 128 and 256.\n",
    "    * If your problem statement is complex, having low batch size works better as low batch size and mini batch gradient descent we will have more weight updates which ensures our weights are better tuned.\n",
    "    * If your problem statement is simple, try to have the max. batch size that can fit your computer memory."
   ]
  }
 ],
 "metadata": {
  "kernelspec": {
   "display_name": "Python 3",
   "language": "python",
   "name": "python3"
  },
  "language_info": {
   "codemirror_mode": {
    "name": "ipython",
    "version": 3
   },
   "file_extension": ".py",
   "mimetype": "text/x-python",
   "name": "python",
   "nbconvert_exporter": "python",
   "pygments_lexer": "ipython3",
   "version": "3.6.8"
  }
 },
 "nbformat": 4,
 "nbformat_minor": 5
}
