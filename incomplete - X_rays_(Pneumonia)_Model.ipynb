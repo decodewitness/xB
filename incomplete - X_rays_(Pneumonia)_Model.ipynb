{
  "nbformat": 4,
  "nbformat_minor": 0,
  "metadata": {
    "colab": {
      "name": "X-rays (Pneumonia) Model.ipynb",
      "provenance": [],
      "collapsed_sections": []
    },
    "kernelspec": {
      "name": "python3",
      "display_name": "Python 3"
    },
    "language_info": {
      "name": "python"
    },
    "accelerator": "GPU",
    "gpuClass": "standard"
  },
  "cells": [
    {
      "cell_type": "markdown",
      "source": [
        "# X-RAYS (PNEUMONIA) MODEL"
      ],
      "metadata": {
        "id": "cFV62zff_nzs"
      }
    },
    {
      "cell_type": "code",
      "source": [
        "# Connect GPU runtime in Colaboratory.\n",
        "# GPU allocation and RAM that is available.\n",
        "# Use GPU runtimes e.g.: TensorFlow or Pytorch.\n",
        "\n",
        "!nvidia-smi"
      ],
      "metadata": {
        "colab": {
          "base_uri": "https://localhost:8080/"
        },
        "id": "Ek5USlEOy6Fg",
        "outputId": "51fd0782-136a-4a43-a147-cefb535abf8b"
      },
      "execution_count": 1,
      "outputs": [
        {
          "output_type": "stream",
          "name": "stdout",
          "text": [
            "Mon Jun 27 06:14:05 2022       \n",
            "+-----------------------------------------------------------------------------+\n",
            "| NVIDIA-SMI 460.32.03    Driver Version: 460.32.03    CUDA Version: 11.2     |\n",
            "|-------------------------------+----------------------+----------------------+\n",
            "| GPU  Name        Persistence-M| Bus-Id        Disp.A | Volatile Uncorr. ECC |\n",
            "| Fan  Temp  Perf  Pwr:Usage/Cap|         Memory-Usage | GPU-Util  Compute M. |\n",
            "|                               |                      |               MIG M. |\n",
            "|===============================+======================+======================|\n",
            "|   0  Tesla T4            Off  | 00000000:00:04.0 Off |                    0 |\n",
            "| N/A   49C    P8     9W /  70W |      0MiB / 15109MiB |      0%      Default |\n",
            "|                               |                      |                  N/A |\n",
            "+-------------------------------+----------------------+----------------------+\n",
            "                                                                               \n",
            "+-----------------------------------------------------------------------------+\n",
            "| Processes:                                                                  |\n",
            "|  GPU   GI   CI        PID   Type   Process name                  GPU Memory |\n",
            "|        ID   ID                                                   Usage      |\n",
            "|=============================================================================|\n",
            "|  No running processes found                                                 |\n",
            "+-----------------------------------------------------------------------------+\n"
          ]
        }
      ]
    },
    {
      "cell_type": "code",
      "source": [
        "# Dataset:   Chest X-Ray Images\n",
        "# Other URL:  kaggle.com/paultimothymooney/chest-xray-pneumonia\n",
        "# Link:      https://www.dropbox.com/s/tlxserrdhe240lu/archive.zip\n",
        "\n",
        "!wget https://www.dropbox.com/s/tlxserrdhe240lu/archive.zip"
      ],
      "metadata": {
        "colab": {
          "base_uri": "https://localhost:8080/"
        },
        "id": "a7pultiOy6H5",
        "outputId": "98437351-b3b1-4b5d-e331-ae2dd984eaa1"
      },
      "execution_count": 2,
      "outputs": [
        {
          "output_type": "stream",
          "name": "stdout",
          "text": [
            "--2022-06-27 06:19:58--  https://www.dropbox.com/s/tlxserrdhe240lu/archive.zip\n",
            "Resolving www.dropbox.com (www.dropbox.com)... 162.125.81.18, 2620:100:6031:18::a27d:5112\n",
            "Connecting to www.dropbox.com (www.dropbox.com)|162.125.81.18|:443... connected.\n",
            "HTTP request sent, awaiting response... 301 Moved Permanently\n",
            "Location: /s/raw/tlxserrdhe240lu/archive.zip [following]\n",
            "--2022-06-27 06:19:58--  https://www.dropbox.com/s/raw/tlxserrdhe240lu/archive.zip\n",
            "Reusing existing connection to www.dropbox.com:443.\n",
            "HTTP request sent, awaiting response... 302 Found\n",
            "Location: https://uc29cf52a6c8e6e4ad8a592fee56.dl.dropboxusercontent.com/cd/0/inline/Bn__VpuwFshGyBPfu0_jHcbcAIEBHSkhDvW0xUbJFiQfvaEFs6bo0DB0in7j6nbb-Bx7OSD8dz74jrufKd69o-KR8_itThfOCFykTPpXYpBCXwNX5bv-AjwcOTSGr4ynFgZ_XDcBFULLbFj74P4B6sJhmirzWpbnFm8vrm51jB00YQ/file# [following]\n",
            "--2022-06-27 06:19:58--  https://uc29cf52a6c8e6e4ad8a592fee56.dl.dropboxusercontent.com/cd/0/inline/Bn__VpuwFshGyBPfu0_jHcbcAIEBHSkhDvW0xUbJFiQfvaEFs6bo0DB0in7j6nbb-Bx7OSD8dz74jrufKd69o-KR8_itThfOCFykTPpXYpBCXwNX5bv-AjwcOTSGr4ynFgZ_XDcBFULLbFj74P4B6sJhmirzWpbnFm8vrm51jB00YQ/file\n",
            "Resolving uc29cf52a6c8e6e4ad8a592fee56.dl.dropboxusercontent.com (uc29cf52a6c8e6e4ad8a592fee56.dl.dropboxusercontent.com)... 162.125.81.15, 2620:100:6025:15::a27d:450f\n",
            "Connecting to uc29cf52a6c8e6e4ad8a592fee56.dl.dropboxusercontent.com (uc29cf52a6c8e6e4ad8a592fee56.dl.dropboxusercontent.com)|162.125.81.15|:443... connected.\n",
            "HTTP request sent, awaiting response... 302 Found\n",
            "Location: /cd/0/inline2/Bn8ME5WtSFtIp__bx3__jvnlWQZSQc_tPqlTFB7XnLn24NXaoHaB_m7UCkwnwZMPnbgf4Fk_HYOctUgWCSAOozMyyOWdTq9SmwvMe6c3M7LaYH-tInc06FMaojfiOD26q6MhUQ2oBFsgWvz2kvIKd_wpiGo1V_hNnV58DJaYkC26jDM8SMcKqSrza3ZM_pLezDP8hCEz_4QF-3XkNs_UH1AExajTWUmRlshwGj5Y0MEIDPOK8ual4BrJJGEAtVxzQ0CBSC1wUcGMPqQ8ipEOcWv0sGWabvLAzg8dwC31zwfEGjPYQp_gk75jgomTu9jLFwuvm4ELZMhSoTKnjuGVLXEb9YzAVI-uhYcLBnFS_csf3ocVNiLXq_lmBTxnhpjYJHH35lUIKlzcS6mYiYduPVG5mJzQgl2Db2gR6LJQtr0e1Q/file [following]\n",
            "--2022-06-27 06:19:59--  https://uc29cf52a6c8e6e4ad8a592fee56.dl.dropboxusercontent.com/cd/0/inline2/Bn8ME5WtSFtIp__bx3__jvnlWQZSQc_tPqlTFB7XnLn24NXaoHaB_m7UCkwnwZMPnbgf4Fk_HYOctUgWCSAOozMyyOWdTq9SmwvMe6c3M7LaYH-tInc06FMaojfiOD26q6MhUQ2oBFsgWvz2kvIKd_wpiGo1V_hNnV58DJaYkC26jDM8SMcKqSrza3ZM_pLezDP8hCEz_4QF-3XkNs_UH1AExajTWUmRlshwGj5Y0MEIDPOK8ual4BrJJGEAtVxzQ0CBSC1wUcGMPqQ8ipEOcWv0sGWabvLAzg8dwC31zwfEGjPYQp_gk75jgomTu9jLFwuvm4ELZMhSoTKnjuGVLXEb9YzAVI-uhYcLBnFS_csf3ocVNiLXq_lmBTxnhpjYJHH35lUIKlzcS6mYiYduPVG5mJzQgl2Db2gR6LJQtr0e1Q/file\n",
            "Reusing existing connection to uc29cf52a6c8e6e4ad8a592fee56.dl.dropboxusercontent.com:443.\n",
            "HTTP request sent, awaiting response... 200 OK\n",
            "Length: 1237072214 (1.2G) [application/zip]\n",
            "Saving to: ‘archive.zip’\n",
            "\n",
            "archive.zip         100%[===================>]   1.15G  16.9MB/s    in 75s     \n",
            "\n",
            "2022-06-27 06:21:15 (15.8 MB/s) - ‘archive.zip’ saved [1237072214/1237072214]\n",
            "\n"
          ]
        }
      ]
    },
    {
      "cell_type": "code",
      "source": [
        "!unzip -q \"archive.zip\""
      ],
      "metadata": {
        "id": "0NLEuGfxy6Kc"
      },
      "execution_count": 3,
      "outputs": []
    },
    {
      "cell_type": "code",
      "source": [
        "import tensorflow as tf\n",
        "import numpy as np\n",
        "import matplotlib.pyplot as plt\n",
        "from pathlib import Path\n",
        "\n",
        "tf.random.set_seed(4)"
      ],
      "metadata": {
        "id": "49oskQJjy6NK"
      },
      "execution_count": 4,
      "outputs": []
    },
    {
      "cell_type": "code",
      "source": [
        "# create Pathlib generator object.\n",
        "  # Pathlib's glob method returns a generator object.\n",
        "\n",
        "train_path = Path(\"chest_xray/train/\")\n",
        "validation_path = Path(\"chest_xray/test\")\n",
        "test_path = Path(\"chest_xray/val\")"
      ],
      "metadata": {
        "id": "zR5P7eqny6P2"
      },
      "execution_count": 5,
      "outputs": []
    },
    {
      "cell_type": "code",
      "source": [
        "# collect all the Paths inside the \"Normal\" and the \"Pneumonia\" folders in the paths above.\n",
        "\n",
        "train_image_paths = train_path.glob(\"*/*\")\n",
        "val_image_paths = validation_path.glob(\"*/*\")\n",
        "\n",
        "# output is a Generator object.\n",
        "\n",
        "print(train_image_paths)"
      ],
      "metadata": {
        "colab": {
          "base_uri": "https://localhost:8080/"
        },
        "id": "2TiNWso9y6Sm",
        "outputId": "8e4241c2-f7e4-4c2a-d820-306d34f472f5"
      },
      "execution_count": 6,
      "outputs": [
        {
          "output_type": "stream",
          "name": "stdout",
          "text": [
            "<generator object Path.glob at 0x7f0169936d50>\n"
          ]
        }
      ]
    },
    {
      "cell_type": "code",
      "source": [
        "# convert Generator object to a List of elements\n",
        "\n",
        "train_image_paths = list(train_image_paths)\n",
        "val_image_paths = list(val_image_paths)\n",
        "\n",
        "# output is PosixPath object(s)\n",
        "\n",
        "print(train_image_paths[:3])"
      ],
      "metadata": {
        "colab": {
          "base_uri": "https://localhost:8080/"
        },
        "id": "c_QjyByHy6U-",
        "outputId": "53b0ea72-114b-4a11-9646-9d1d3db56805"
      },
      "execution_count": 8,
      "outputs": [
        {
          "output_type": "stream",
          "name": "stdout",
          "text": [
            "[PosixPath('chest_xray/train/NORMAL/NORMAL2-IM-0774-0001.jpeg'), PosixPath('chest_xray/train/NORMAL/NORMAL2-IM-0853-0001.jpeg'), PosixPath('chest_xray/train/NORMAL/NORMAL2-IM-0472-0001.jpeg')]\n"
          ]
        }
      ]
    },
    {
      "cell_type": "code",
      "source": [
        "# convert Posixpaths to strings\n",
        "\n",
        "train_image_paths = list(map(lambda x: str(x), train_image_paths))\n",
        "val_image_paths = list(map(lambda x: str(x), val_image_paths))\n",
        "\n",
        "print(train_image_paths[:3])"
      ],
      "metadata": {
        "colab": {
          "base_uri": "https://localhost:8080/"
        },
        "id": "xK3jxqUyy6Xx",
        "outputId": "6f763c8c-8450-406a-d35c-9143f89cedf3"
      },
      "execution_count": 9,
      "outputs": [
        {
          "output_type": "stream",
          "name": "stdout",
          "text": [
            "['chest_xray/train/NORMAL/NORMAL2-IM-0774-0001.jpeg', 'chest_xray/train/NORMAL/NORMAL2-IM-0853-0001.jpeg', 'chest_xray/train/NORMAL/NORMAL2-IM-0472-0001.jpeg']\n"
          ]
        }
      ]
    },
    {
      "cell_type": "code",
      "source": [
        "# get the length for the Training and Validation datasets\n",
        "\n",
        "train_dataset_length = len(train_image_paths)\n",
        "val_dataset_length = len(val_image_paths)"
      ],
      "metadata": {
        "id": "3kT6dIFRy6an"
      },
      "execution_count": 10,
      "outputs": []
    },
    {
      "cell_type": "code",
      "source": [
        "# every image has a label in its path.\n",
        "  # slice the labels\n",
        "\n",
        "LABELS = {'NORMAL' : 0, 'PNEUMONIA' : 1}\n",
        "INV_LABELS = {0 : 'NORMAL', 1 : 'PNEUMONIA'}\n",
        "\n",
        "def get_label(path : str) -> int:\n",
        "  return LABELS[path.split(\"/\")[-2]]\n",
        "\n",
        "train_labels = list(map(lambda x: get_label(x), train_image_paths))\n",
        "val_labels = list(map(lambda x: get_label(x), val_image_paths))\n",
        "\n",
        "print(train_labels[:3])"
      ],
      "metadata": {
        "colab": {
          "base_uri": "https://localhost:8080/"
        },
        "id": "A-Ymu4Pqy6db",
        "outputId": "0fefbaeb-baf2-4374-a008-ff6e6448d8bd"
      },
      "execution_count": 12,
      "outputs": [
        {
          "output_type": "stream",
          "name": "stdout",
          "text": [
            "[0, 0, 0]\n"
          ]
        }
      ]
    },
    {
      "cell_type": "markdown",
      "source": [
        "# Loading and Transforming Image Data\n",
        "\n",
        "### Load images as pixel data with libraries as 'Open CV', 'SK Image', and 'Python Image Library (PIL)'.\n",
        "\n",
        "### The latest release of Tensorflow can load images more efficient.\n",
        "\n",
        "<br />\n",
        "## TENSORFLOW:\n",
        "\n",
        "1. tf.io.read_file\n",
        "- https://tensorflow.org/api_docs/python/tf/io/read_file\n",
        "\n",
        "* Reads an image file and returns a decoded version of that image.\n",
        "\n",
        "<br />\n",
        "### Example (TF.IO.READ_FILE):\n",
        "\n",
        "* Takes a string as the argument\n",
        "* Returns an encoded string of that file.\n",
        "\n",
        "<br />\n",
        "**tf.io.read_file(\n",
        "    filename, name=None\n",
        ")**\n",
        "\n",
        "<br />\n",
        "2. tf.io.decode_jpeg\n",
        "- https://tensorflow.org/api_docs/python/tf/io/decode_jpeg\n",
        "\n",
        "* Takes arguments \"content\" which is the encoded string returned from tf.io.read_file.\n",
        "\n",
        "* Channels: a normal image has 3 channels -> Red, Green, Blue -> (3) channels.\n",
        "\n",
        "* Returns a Tensor of UINT8\n",
        "\n",
        "<br />\n",
        "### Example (TF.IO.DECODE_JPEG):\n",
        "\n",
        "<br />\n",
        "**tf.io.decode_jpeg(\n",
        "    contents,\n",
        "    channels=0,\n",
        "    ratio=1,\n",
        "    fancy_upscaling=True,\n",
        "    try_recover_truncated=False,\n",
        "    acceptable_fraction=1,\n",
        "    dct_method='',\n",
        "    name=None\n",
        ")**\n",
        "\n",
        "<br />\n",
        "3. tf.image.resize\n",
        "- https://www.tensorflow.org/api_docs/python/tf/image/resize\n",
        "\n",
        "* Resizes the tensor\n",
        "\n",
        "* Takes 3 arguments \"image\" which is the Tensor of the tf.io.decode_jpeg function, and \"size\" as argument, and \"method\" which is the compress/enlarge technique for the interpolation of the pixels\n",
        "\n",
        "* images (Tensor output from the tf.io.decode_jpeg\n",
        "* size = size to which it has to resize to.\n",
        "* method - interpolation technique enlarged/compressed pixels.\n",
        "\n",
        "<br />\n",
        "### Example (TF.IMAGE.RESIZE):\n",
        "\n",
        "<br />\n",
        "**tf.image.resize(\n",
        "    images,\n",
        "    size,\n",
        "    method=ResizeMethod.BILINEAR,\n",
        "    preserve_aspect_ratio=False,\n",
        "    antialias=False,\n",
        "    name=None\n",
        ")**\n",
        "\n",
        "<br />\n",
        "3. tf.image.random_flip_left_right\n",
        "- https://www.tensorflow.org/api_docs/python/tf/image/random_flip_left_right\n",
        "\n",
        "<br />\n",
        "* Data augmentation function that replaces image with manipulated version, to generalize better over images (as it looks in 7 different directions).\n",
        "\n",
        "* Rotates image to left and right horizontally.\n",
        "\n",
        "<br />\n",
        "### Example (TF.IMAGE.RANDOM_FLIP_LEFT_RIGHT):\n",
        "\n",
        "<br />\n",
        "**tf.image.random_flip_left_right(\n",
        "    image, seed=None\n",
        ")**"
      ],
      "metadata": {
        "id": "do0ZH8Z4353n"
      }
    },
    {
      "cell_type": "code",
      "source": [
        "# we have training and validation image paths and their respective labels\n",
        "\n",
        "# higher batch size will require more RAM, lower batch size training will be slower\n",
        "BATCH_SIZE = 32\n",
        "\n",
        "# function for transformation\n",
        "  ### ResNet 50 has input size [224, 224]\n",
        "\n",
        "def load_and_transform(image, label, train=True):\n",
        "  image = tf.io.read_file(image)\n",
        "  image = tf.io.decode_jpeg(image, channels = 3)\n",
        "  image = tf.image.resize(image, [224, 224], method=\"nearest\")\n",
        "  if train:\n",
        "    image = tf.image.random_flip_left_right(image)\n",
        "  return image, label"
      ],
      "metadata": {
        "id": "iEyrfu41y6gG"
      },
      "execution_count": 13,
      "outputs": []
    },
    {
      "cell_type": "code",
      "source": [
        "# function used to create a Tensorflow Data Object\n",
        "\n",
        "def get_dataset(paths, labels, train=True):\n",
        "  image_paths = tf.convert_to_tensor(paths)\n",
        "  labels = tf.convert_to_tensor(labels)\n",
        "\n",
        "  image_dataset = tf.data.Dataset.from_tensor_slices(image_paths)\n",
        "  label_dataset = tf.data.Dataset.from_tensor_slices(labels)\n",
        "\n",
        "  dataset = tf.data.Dataset.zip((image_dataset, label_dataset)).shuffle(1000)\n",
        "\n",
        "  dataset = dataset.map(lambda image, label : load_and_transform(image, label, train))\n",
        "  dataset = dataset.repeat()\n",
        "  dataset = dataset.shuffle(2048)\n",
        "  dataset = dataset.batch(BATCH_SIZE)\n",
        "\n",
        "  return dataset"
      ],
      "metadata": {
        "id": "sw-i1Zsiy6i2"
      },
      "execution_count": 14,
      "outputs": []
    },
    {
      "cell_type": "code",
      "source": [
        "# create Train Dataset object and verify it\n",
        "\n",
        "%time train_dataset = get_dataset(train_image_paths, train_labels)\n",
        "\n",
        "image, label = next(iter(train_dataset))\n",
        "print(image.shape)\n",
        "print(label.shape)"
      ],
      "metadata": {
        "colab": {
          "base_uri": "https://localhost:8080/"
        },
        "id": "DgqV-YYIy6l2",
        "outputId": "3c21b5bd-2b6e-44bd-a6f8-a017da3c5cb2"
      },
      "execution_count": 15,
      "outputs": [
        {
          "output_type": "stream",
          "name": "stdout",
          "text": [
            "CPU times: user 822 ms, sys: 547 ms, total: 1.37 s\n",
            "Wall time: 4.81 s\n",
            "(32, 224, 224, 3)\n",
            "(32,)\n"
          ]
        }
      ]
    },
    {
      "cell_type": "code",
      "source": [
        "# view sample Train image\n",
        "\n",
        "print(INV_LABELS[label[0].numpy()])\n",
        "plt.imshow(image[0].numpy().reshape(224, 224, 3))"
      ],
      "metadata": {
        "colab": {
          "base_uri": "https://localhost:8080/",
          "height": 304
        },
        "id": "8clToEfky6oc",
        "outputId": "04fccd47-ba0d-4bd5-eca0-c915b3d2a291"
      },
      "execution_count": 16,
      "outputs": [
        {
          "output_type": "stream",
          "name": "stdout",
          "text": [
            "PNEUMONIA\n"
          ]
        },
        {
          "output_type": "execute_result",
          "data": {
            "text/plain": [
              "<matplotlib.image.AxesImage at 0x7f01600b35d0>"
            ]
          },
          "metadata": {},
          "execution_count": 16
        },
        {
          "output_type": "display_data",
          "data": {
            "text/plain": [
              "<Figure size 432x288 with 1 Axes>"
            ],
            "image/png": "[encoded data removed]"
          },
          "metadata": {
            "needs_background": "light"
          }
        }
      ]
    },
    {
      "cell_type": "code",
      "source": [
        "# create Train Dataset object and verify it\n",
        "\n",
        "%time val_dataset = get_dataset(val_image_paths, val_labels, train=False)\n",
        "\n",
        "image, label = next(iter(val_dataset))\n",
        "print(image.shape)\n",
        "print(label.shape)"
      ],
      "metadata": {
        "colab": {
          "base_uri": "https://localhost:8080/"
        },
        "id": "8ZBWt1K3y6rN",
        "outputId": "94831a47-246c-4f33-f0ee-ed42690eefdc"
      },
      "execution_count": 17,
      "outputs": [
        {
          "output_type": "stream",
          "name": "stdout",
          "text": [
            "CPU times: user 15.2 ms, sys: 0 ns, total: 15.2 ms\n",
            "Wall time: 16.3 ms\n",
            "(32, 224, 224, 3)\n",
            "(32,)\n"
          ]
        }
      ]
    },
    {
      "cell_type": "markdown",
      "source": [
        "# CNN (MODEL ARCHITECTURE)"
      ],
      "metadata": {
        "id": "QgkwRSvyC5dx"
      }
    },
    {
      "cell_type": "code",
      "source": [
        ""
      ],
      "metadata": {
        "id": "Q_4oG74xBcUZ"
      },
      "execution_count": null,
      "outputs": []
    },
    {
      "cell_type": "code",
      "source": [
        ""
      ],
      "metadata": {
        "id": "RtUqkYlKBcRm"
      },
      "execution_count": null,
      "outputs": []
    },
    {
      "cell_type": "code",
      "source": [
        ""
      ],
      "metadata": {
        "id": "7HYPDxx6BcO2"
      },
      "execution_count": null,
      "outputs": []
    },
    {
      "cell_type": "code",
      "source": [
        ""
      ],
      "metadata": {
        "id": "aPao5ZBHBcMb"
      },
      "execution_count": null,
      "outputs": []
    },
    {
      "cell_type": "code",
      "source": [
        ""
      ],
      "metadata": {
        "id": "WTdHKfy-BcKK"
      },
      "execution_count": null,
      "outputs": []
    },
    {
      "cell_type": "code",
      "source": [
        ""
      ],
      "metadata": {
        "id": "z_fhbmrwBcHz"
      },
      "execution_count": null,
      "outputs": []
    },
    {
      "cell_type": "code",
      "source": [
        ""
      ],
      "metadata": {
        "id": "pZG3dv8EBcFM"
      },
      "execution_count": null,
      "outputs": []
    },
    {
      "cell_type": "code",
      "source": [
        ""
      ],
      "metadata": {
        "id": "_XzzeujxBcCV"
      },
      "execution_count": null,
      "outputs": []
    },
    {
      "cell_type": "code",
      "source": [
        ""
      ],
      "metadata": {
        "id": "3D0UtznQBboZ"
      },
      "execution_count": null,
      "outputs": []
    }
  ]
}