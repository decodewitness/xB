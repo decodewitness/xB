{
 "cells": [
  {
   "cell_type": "code",
   "execution_count": 1,
   "id": "617fd0c5",
   "metadata": {},
   "outputs": [],
   "source": [
    "# !pip install datasets"
   ]
  },
  {
   "cell_type": "code",
   "execution_count": 2,
   "id": "5dc63919",
   "metadata": {},
   "outputs": [
    {
     "name": "stderr",
     "output_type": "stream",
     "text": [
      "Found cached dataset squad (C:/Users/u042/.cache/huggingface/datasets/squad/plain_text/1.0.0/d6ec3ceb99ca480ce37cdd35555d6cb2511d223b9150cce08a837ef62ffea453)\n"
     ]
    },
    {
     "data": {
      "text/plain": [
       "Dataset({\n",
       "    features: ['id', 'title', 'context', 'question', 'answers'],\n",
       "    num_rows: 10570\n",
       "})"
      ]
     },
     "execution_count": 2,
     "metadata": {},
     "output_type": "execute_result"
    }
   ],
   "source": [
    "import datasets\n",
    "\n",
    "qa = datasets.load_dataset('squad', split='validation')\n",
    "qa"
   ]
  },
  {
   "cell_type": "code",
   "execution_count": 3,
   "id": "ccb17fcb",
   "metadata": {},
   "outputs": [
    {
     "data": {
      "text/plain": [
       "{'id': '56be4db0acb8001400a502ec',\n",
       " 'title': 'Super_Bowl_50',\n",
       " 'context': 'Super Bowl 50 was an American football game to determine the champion of the National Football League (NFL) for the 2015 season. The American Football Conference (AFC) champion Denver Broncos defeated the National Football Conference (NFC) champion Carolina Panthers 24–10 to earn their third Super Bowl title. The game was played on February 7, 2016, at Levi\\'s Stadium in the San Francisco Bay Area at Santa Clara, California. As this was the 50th Super Bowl, the league emphasized the \"golden anniversary\" with various gold-themed initiatives, as well as temporarily suspending the tradition of naming each Super Bowl game with Roman numerals (under which the game would have been known as \"Super Bowl L\"), so that the logo could prominently feature the Arabic numerals 50.',\n",
       " 'question': 'Which NFL team represented the AFC at Super Bowl 50?',\n",
       " 'answers': {'text': ['Denver Broncos', 'Denver Broncos', 'Denver Broncos'],\n",
       "  'answer_start': [177, 177, 177]}}"
      ]
     },
     "execution_count": 3,
     "metadata": {},
     "output_type": "execute_result"
    }
   ],
   "source": [
    "qa[0]"
   ]
  },
  {
   "cell_type": "code",
   "execution_count": 4,
   "id": "33120bbb",
   "metadata": {},
   "outputs": [
    {
     "data": {
      "text/plain": [
       "{'id': '56be4db0acb8001400a502ed',\n",
       " 'title': 'Super_Bowl_50',\n",
       " 'context': 'Super Bowl 50 was an American football game to determine the champion of the National Football League (NFL) for the 2015 season. The American Football Conference (AFC) champion Denver Broncos defeated the National Football Conference (NFC) champion Carolina Panthers 24–10 to earn their third Super Bowl title. The game was played on February 7, 2016, at Levi\\'s Stadium in the San Francisco Bay Area at Santa Clara, California. As this was the 50th Super Bowl, the league emphasized the \"golden anniversary\" with various gold-themed initiatives, as well as temporarily suspending the tradition of naming each Super Bowl game with Roman numerals (under which the game would have been known as \"Super Bowl L\"), so that the logo could prominently feature the Arabic numerals 50.',\n",
       " 'question': 'Which NFL team represented the NFC at Super Bowl 50?',\n",
       " 'answers': {'text': ['Carolina Panthers',\n",
       "   'Carolina Panthers',\n",
       "   'Carolina Panthers'],\n",
       "  'answer_start': [249, 249, 249]}}"
      ]
     },
     "execution_count": 4,
     "metadata": {},
     "output_type": "execute_result"
    }
   ],
   "source": [
    "qa[1]"
   ]
  },
  {
   "cell_type": "code",
   "execution_count": 5,
   "id": "30958791",
   "metadata": {},
   "outputs": [
    {
     "name": "stderr",
     "output_type": "stream",
     "text": [
      "Loading cached processed dataset at C:\\Users\\u042\\.cache\\huggingface\\datasets\\squad\\plain_text\\1.0.0\\d6ec3ceb99ca480ce37cdd35555d6cb2511d223b9150cce08a837ef62ffea453\\cache-c2c2462b8b5781fc.arrow\n"
     ]
    },
    {
     "data": {
      "text/plain": [
       "Dataset({\n",
       "    features: ['id', 'title', 'context', 'question', 'answers'],\n",
       "    num_rows: 2067\n",
       "})"
      ]
     },
     "execution_count": 5,
     "metadata": {},
     "output_type": "execute_result"
    }
   ],
   "source": [
    "unique_contexts = []\n",
    "unique_ids = []\n",
    "\n",
    "# make list of IDs that represent only first instance of each context\n",
    "for row in qa:\n",
    "    if row['context'] not in unique_contexts:\n",
    "        unique_contexts.append(row['context'])\n",
    "        unique_ids.append(row['id'])\n",
    "        \n",
    "# now filter out any sample that aren't included in unique IDs\n",
    "qa = qa.filter(lambda x: True if x['id'] in unique_ids else False)\n",
    "qa"
   ]
  },
  {
   "cell_type": "code",
   "execution_count": 6,
   "id": "20a06e4e",
   "metadata": {},
   "outputs": [],
   "source": [
    "# !pip install sentence_transformers"
   ]
  },
  {
   "cell_type": "markdown",
   "id": "6b0df365",
   "metadata": {},
   "source": [
    "### Create context vectors with the retriever model"
   ]
  },
  {
   "cell_type": "code",
   "execution_count": 7,
   "id": "674ab607",
   "metadata": {},
   "outputs": [
    {
     "data": {
      "text/plain": [
       "SentenceTransformer(\n",
       "  (0): Transformer({'max_seq_length': 512, 'do_lower_case': False}) with Transformer model: BertModel \n",
       "  (1): Pooling({'word_embedding_dimension': 384, 'pooling_mode_cls_token': False, 'pooling_mode_mean_tokens': True, 'pooling_mode_max_tokens': False, 'pooling_mode_mean_sqrt_len_tokens': False})\n",
       "  (2): Normalize()\n",
       ")"
      ]
     },
     "execution_count": 7,
     "metadata": {},
     "output_type": "execute_result"
    }
   ],
   "source": [
    "from sentence_transformers import SentenceTransformer\n",
    "\n",
    "model = SentenceTransformer('multi-qa-MiniLM-L6-cos-v1')\n",
    "model"
   ]
  },
  {
   "cell_type": "markdown",
   "id": "a89756d1",
   "metadata": {},
   "source": [
    "### Encode the context vectors"
   ]
  },
  {
   "cell_type": "code",
   "execution_count": 8,
   "id": "8cff94c1",
   "metadata": {},
   "outputs": [
    {
     "name": "stderr",
     "output_type": "stream",
     "text": [
      "Loading cached processed dataset at C:\\Users\\u042\\.cache\\huggingface\\datasets\\squad\\plain_text\\1.0.0\\d6ec3ceb99ca480ce37cdd35555d6cb2511d223b9150cce08a837ef62ffea453\\cache-8e560c6ebb305938.arrow\n"
     ]
    },
    {
     "data": {
      "text/plain": [
       "Dataset({\n",
       "    features: ['id', 'title', 'context', 'question', 'answers', 'encoding'],\n",
       "    num_rows: 2067\n",
       "})"
      ]
     },
     "execution_count": 8,
     "metadata": {},
     "output_type": "execute_result"
    }
   ],
   "source": [
    "qa = qa.map(lambda x: {\n",
    "    'encoding': model.encode(x['context']).tolist()\n",
    "}, batched=True, batch_size=32)\n",
    "\n",
    "qa"
   ]
  },
  {
   "cell_type": "markdown",
   "id": "61b25984",
   "metadata": {},
   "source": [
    "## Create Vector Database (and index context vectors)\n",
    "\n",
    "#### Use either Faiss (there is a whole set of articles and videos dedicated to Faiss at Pinecone. For Pinecone we need an API key from: https://app.pinecone.io.\n",
    "\n",
    "c8cfcdd4-e091-47ca-be53-4c2c6c4bfbb4\n",
    "\n",
    "#### Also install the client:\n",
    "\n",
    "!pip install pinecone-client\n"
   ]
  },
  {
   "cell_type": "code",
   "execution_count": 9,
   "id": "c63bf106",
   "metadata": {},
   "outputs": [],
   "source": [
    "# !pip install pinecone-client"
   ]
  },
  {
   "cell_type": "code",
   "execution_count": 10,
   "id": "a4f4f24d",
   "metadata": {},
   "outputs": [],
   "source": [
    "API_KEY = \"c8cfcdd4-e091-47ca-be53-4c2c6c4bfbb4\""
   ]
  },
  {
   "cell_type": "code",
   "execution_count": 11,
   "id": "861a96dc",
   "metadata": {},
   "outputs": [],
   "source": [
    "import pinecone\n",
    "\n",
    "pinecone.init(API_KEY, environment='us-east1-gcp')"
   ]
  },
  {
   "cell_type": "code",
   "execution_count": 12,
   "id": "3123f024",
   "metadata": {},
   "outputs": [],
   "source": [
    "# pinecone.create_index('qa-index', dimension=len(model.encode('hello world').tolist()))"
   ]
  },
  {
   "cell_type": "code",
   "execution_count": 13,
   "id": "d71d6702",
   "metadata": {},
   "outputs": [],
   "source": [
    "index = pinecone.Index('qa-index')"
   ]
  },
  {
   "cell_type": "code",
   "execution_count": 14,
   "id": "c518d92c",
   "metadata": {},
   "outputs": [
    {
     "data": {
      "application/vnd.jupyter.widget-view+json": {
       "model_id": "21269a89b0e543d8b2e781a4dce1c7d2",
       "version_major": 2,
       "version_minor": 0
      },
      "text/plain": [
       "  0%|          | 0/42 [00:00<?, ?it/s]"
      ]
     },
     "metadata": {},
     "output_type": "display_data"
    }
   ],
   "source": [
    "from tqdm.auto import tqdm\n",
    "\n",
    "upserts = [(v['id'], v['encoding']) for v in qa]\n",
    "for i in tqdm(range(0, len(upserts), 50)):\n",
    "    i_end = i + 50\n",
    "    if i_end > len(upserts):\n",
    "        i_end = len(upserts)\n",
    "    index.upsert(vectors=upserts[i:i_end])"
   ]
  },
  {
   "cell_type": "markdown",
   "id": "7ba4df5b",
   "metadata": {},
   "source": [
    "## QA Inference"
   ]
  },
  {
   "cell_type": "code",
   "execution_count": 15,
   "id": "d964cf6a",
   "metadata": {},
   "outputs": [],
   "source": [
    "# query = \"Which NFL team represented the AFC at Super Bowl 50?\"\n",
    "query = \"Do NFL teams only care about playing at the Super Bowl?\"\n",
    "xq = model.encode([query]).tolist()"
   ]
  },
  {
   "cell_type": "code",
   "execution_count": 16,
   "id": "3c082146",
   "metadata": {},
   "outputs": [],
   "source": [
    "xc = index.query(xq, top_k=5)\n",
    "# xc"
   ]
  },
  {
   "cell_type": "code",
   "execution_count": 17,
   "id": "a3e4353c",
   "metadata": {},
   "outputs": [
    {
     "data": {
      "text/plain": [
       "[{'id': '56bebcbe3aeaaa14008c9325',\n",
       "  'score': 0.589542806,\n",
       "  'sparseValues': {},\n",
       "  'values': []},\n",
       " {'id': '56bebe873aeaaa14008c933f',\n",
       "  'score': 0.577623963,\n",
       "  'sparseValues': {},\n",
       "  'values': []},\n",
       " {'id': '56be53b8acb8001400a50314',\n",
       "  'score': 0.572862089,\n",
       "  'sparseValues': {},\n",
       "  'values': []},\n",
       " {'id': '56be5523acb8001400a5032c',\n",
       "  'score': 0.563994706,\n",
       "  'sparseValues': {},\n",
       "  'values': []},\n",
       " {'id': '56be54bdacb8001400a50322',\n",
       "  'score': 0.542263329,\n",
       "  'sparseValues': {},\n",
       "  'values': []}]"
      ]
     },
     "execution_count": 17,
     "metadata": {},
     "output_type": "execute_result"
    }
   ],
   "source": [
    "xc['matches']"
   ]
  },
  {
   "cell_type": "code",
   "execution_count": 18,
   "id": "c1c43773",
   "metadata": {},
   "outputs": [
    {
     "name": "stderr",
     "output_type": "stream",
     "text": [
      "Loading cached processed dataset at C:\\Users\\u042\\.cache\\huggingface\\datasets\\squad\\plain_text\\1.0.0\\d6ec3ceb99ca480ce37cdd35555d6cb2511d223b9150cce08a837ef62ffea453\\cache-cc5e057d3d4342c9.arrow\n"
     ]
    }
   ],
   "source": [
    "ids = [x['id'] for x in xc['matches']]\n",
    "# ids\n",
    "contexts = qa.filter(lambda x: True if x['id'] in ids else False)"
   ]
  },
  {
   "cell_type": "code",
   "execution_count": 19,
   "id": "b71a7a5a",
   "metadata": {},
   "outputs": [],
   "source": [
    "from transformers import pipeline\n",
    "\n",
    "model_name = 'yjernite/bart_eli5'\n",
    "nlp = pipeline(tokenizer=model_name, model=model_name,\n",
    "              task='text2text-generation') # seq2seq"
   ]
  },
  {
   "cell_type": "code",
   "execution_count": 20,
   "id": "8d52a72f",
   "metadata": {},
   "outputs": [
    {
     "name": "stdout",
     "output_type": "stream",
     "text": [
      "[{'generated_text': \" The best way to think about the Super Bowl is like this: There are two types of people that play football. Some of them play for a team and some play for their own team. Some of these people are good, some of them aren't. Some of those people are the same kind of people that\"}]\n"
     ]
    }
   ],
   "source": [
    "for context in contexts['context']:\n",
    "    print(nlp(\n",
    "        f\"question: {query} context: {context}\",\n",
    "        num_beams=4,\n",
    "        do_sample=True,\n",
    "        temperature=1.5,\n",
    "        max_length=64\n",
    "    ))\n",
    "    break"
   ]
  }
 ],
 "metadata": {
  "kernelspec": {
   "display_name": "Python 3 (ipykernel)",
   "language": "python",
   "name": "python3"
  },
  "language_info": {
   "codemirror_mode": {
    "name": "ipython",
    "version": 3
   },
   "file_extension": ".py",
   "mimetype": "text/x-python",
   "name": "python",
   "nbconvert_exporter": "python",
   "pygments_lexer": "ipython3",
   "version": "3.10.9"
  }
 },
 "nbformat": 4,
 "nbformat_minor": 5
}
