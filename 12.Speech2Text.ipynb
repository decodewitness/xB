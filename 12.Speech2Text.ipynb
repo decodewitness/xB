{
 "cells": [
  {
   "cell_type": "markdown",
   "id": "c1223074",
   "metadata": {},
   "source": [
    "### Convert recorded audio to text"
   ]
  },
  {
   "cell_type": "code",
   "execution_count": null,
   "id": "321eac6e",
   "metadata": {},
   "outputs": [],
   "source": [
    "#!pip install SpeechRecognition"
   ]
  },
  {
   "cell_type": "code",
   "execution_count": null,
   "id": "c418fdb3",
   "metadata": {},
   "outputs": [],
   "source": [
    "import speech_recognition as sr"
   ]
  },
  {
   "cell_type": "code",
   "execution_count": null,
   "id": "d9cf4395",
   "metadata": {},
   "outputs": [],
   "source": [
    "# Audio File\n",
    "sound = \"untitled.wav\""
   ]
  },
  {
   "cell_type": "code",
   "execution_count": null,
   "id": "7ad7cb37",
   "metadata": {},
   "outputs": [],
   "source": [
    "r = sr.Recognizer()\n",
    "with sr.AudioFile(sound) as source:\n",
    "    r.adjust_for_ambient_noise(source) \n",
    "    print(\"Converting Audio...\")\n",
    "    audio = r.listen(source)\n",
    "    \n",
    "    try:\n",
    "        print(\"Converted Audio: \\n\" + r.recognize_google(audio))\n",
    "    except Exception as e:\n",
    "        print(e)"
   ]
  }
 ],
 "metadata": {
  "kernelspec": {
   "display_name": "Python 3 (ipykernel)",
   "language": "python",
   "name": "python3"
  },
  "language_info": {
   "codemirror_mode": {
    "name": "ipython",
    "version": 3
   },
   "file_extension": ".py",
   "mimetype": "text/x-python",
   "name": "python",
   "nbconvert_exporter": "python",
   "pygments_lexer": "ipython3",
   "version": "3.8.7"
  }
 },
 "nbformat": 4,
 "nbformat_minor": 5
}
