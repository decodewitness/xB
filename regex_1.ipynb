{
 "cells": [
  {
   "cell_type": "code",
   "execution_count": 1,
   "id": "6b31e412",
   "metadata": {},
   "outputs": [],
   "source": [
    "import re"
   ]
  },
  {
   "cell_type": "code",
   "execution_count": 2,
   "id": "0d25aa8f",
   "metadata": {},
   "outputs": [
    {
     "data": {
      "text/plain": [
       "<_sre.SRE_Match object; span=(0, 1), match='a'>"
      ]
     },
     "execution_count": 2,
     "metadata": {},
     "output_type": "execute_result"
    }
   ],
   "source": [
    "s = \"ac\"\n",
    "re.search('[abc]', s)"
   ]
  },
  {
   "cell_type": "code",
   "execution_count": 3,
   "id": "513376d1",
   "metadata": {},
   "outputs": [
    {
     "data": {
      "text/plain": [
       "<_sre.SRE_Match object; span=(0, 1), match='a'>"
      ]
     },
     "execution_count": 3,
     "metadata": {},
     "output_type": "execute_result"
    }
   ],
   "source": [
    "s = \"ac\"\n",
    "re.search('.', s)"
   ]
  },
  {
   "cell_type": "code",
   "execution_count": 5,
   "id": "bb84eae1",
   "metadata": {},
   "outputs": [
    {
     "name": "stdout",
     "output_type": "stream",
     "text": [
      "<_sre.SRE_Match object; span=(0, 1), match='m'>\n"
     ]
    }
   ],
   "source": [
    "s = \"mumbai\"\n",
    "x = re.search('^m', s)\n",
    "print(x)"
   ]
  },
  {
   "cell_type": "code",
   "execution_count": 6,
   "id": "a53c05b5",
   "metadata": {},
   "outputs": [
    {
     "name": "stdout",
     "output_type": "stream",
     "text": [
      "None\n",
      "<_sre.SRE_Match object; span=(5, 6), match='a'>\n"
     ]
    }
   ],
   "source": [
    "a = re.search('a$', 'Delhi')\n",
    "print(a)\n",
    "b = re.search('a$', 'Odissa')\n",
    "print(b)"
   ]
  },
  {
   "cell_type": "code",
   "execution_count": 7,
   "id": "44646b34",
   "metadata": {},
   "outputs": [
    {
     "name": "stdout",
     "output_type": "stream",
     "text": [
      "<_sre.SRE_Match object; span=(0, 2), match='ma'>\n",
      "<_sre.SRE_Match object; span=(2, 4), match='ma'>\n"
     ]
    }
   ],
   "source": [
    "a = re.search('ma*', 'man)')\n",
    "print(a)\n",
    "b = re.search('ma*','woman')\n",
    "print(b)"
   ]
  },
  {
   "cell_type": "code",
   "execution_count": 8,
   "id": "fb7ebc98",
   "metadata": {},
   "outputs": [
    {
     "name": "stdout",
     "output_type": "stream",
     "text": [
      "<_sre.SRE_Match object; span=(0, 2), match='ma'>\n",
      "<_sre.SRE_Match object; span=(2, 4), match='ma'>\n"
     ]
    }
   ],
   "source": [
    "a = re.search('ma+','man')\n",
    "print(a)\n",
    "b = re.search('ma+', 'woman')\n",
    "print(b)"
   ]
  },
  {
   "cell_type": "code",
   "execution_count": 9,
   "id": "66f28b34",
   "metadata": {},
   "outputs": [
    {
     "name": "stdout",
     "output_type": "stream",
     "text": [
      "None\n",
      "<_sre.SRE_Match object; span=(0, 2), match='aa'>\n"
     ]
    }
   ],
   "source": [
    "a = re.search('a{2}', 'abc')\n",
    "print(a)\n",
    "b = re.search('a{2}', 'aab')\n",
    "print(b)"
   ]
  },
  {
   "cell_type": "code",
   "execution_count": 10,
   "id": "8d354447",
   "metadata": {},
   "outputs": [
    {
     "name": "stdout",
     "output_type": "stream",
     "text": [
      "<_sre.SRE_Match object; span=(1, 2), match='a'>\n",
      "None\n"
     ]
    }
   ],
   "source": [
    "a = re.search('a|b', 'mango')\n",
    "print(a)\n",
    "b = re.search('a|b', 'Pune')\n",
    "print(b)"
   ]
  },
  {
   "cell_type": "code",
   "execution_count": 11,
   "id": "79edec8c",
   "metadata": {},
   "outputs": [
    {
     "name": "stdout",
     "output_type": "stream",
     "text": [
      "<_sre.SRE_Match object; span=(0, 2), match='am'>\n",
      "None\n"
     ]
    }
   ],
   "source": [
    "a = re.search('(a)m', 'amm')\n",
    "print(a)\n",
    "b = re.search('(a)m', 'abm')\n",
    "print(b)"
   ]
  },
  {
   "cell_type": "code",
   "execution_count": 12,
   "id": "07ab93d2",
   "metadata": {},
   "outputs": [
    {
     "name": "stdout",
     "output_type": "stream",
     "text": [
      "<_sre.SRE_Match object; span=(0, 2), match='$a'>\n"
     ]
    }
   ],
   "source": [
    "a = re.search('\\$a', '$abc')\n",
    "print(a)"
   ]
  }
 ],
 "metadata": {
  "kernelspec": {
   "display_name": "Python 3",
   "language": "python",
   "name": "python3"
  },
  "language_info": {
   "codemirror_mode": {
    "name": "ipython",
    "version": 3
   },
   "file_extension": ".py",
   "mimetype": "text/x-python",
   "name": "python",
   "nbconvert_exporter": "python",
   "pygments_lexer": "ipython3",
   "version": "3.6.8"
  }
 },
 "nbformat": 4,
 "nbformat_minor": 5
}
