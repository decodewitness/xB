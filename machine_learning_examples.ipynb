{
 "cells": [
  {
   "cell_type": "code",
   "execution_count": 2,
   "id": "c4288c09",
   "metadata": {},
   "outputs": [
    {
     "name": "stderr",
     "output_type": "stream",
     "text": [
      "[nltk_data] Downloading package stopwords to\n",
      "[nltk_data]     C:\\Users\\user001\\AppData\\Roaming\\nltk_data...\n",
      "[nltk_data]   Package stopwords is already up-to-date!\n",
      "[nltk_data] Downloading package punkt to\n",
      "[nltk_data]     C:\\Users\\user001\\AppData\\Roaming\\nltk_data...\n",
      "[nltk_data]   Package punkt is already up-to-date!\n"
     ]
    },
    {
     "data": {
      "text/plain": [
       "True"
      ]
     },
     "execution_count": 2,
     "metadata": {},
     "output_type": "execute_result"
    }
   ],
   "source": [
    "*** INSTALLING THE LIBRARIES ***\n",
    "0 upvotes\n",
    "Bixx · Lecture 55 · A few seconds ago\n",
    "To install all the libraries correctly on --> (Windows 11 Home/Pro 32/64-bit);\n",
    "continue as follows:\n",
    "\n",
    "\n",
    "\n",
    "Procedure:\n",
    "=====\n",
    "\n",
    "* Install Anaconda3 for Windows 32-bit or 64-bit Installation, depending on your installation, by first downloading the Anaconda3 program, or Miniconda from their website (use Google).\n",
    "\n",
    "\n",
    "\n",
    "\n",
    "\n",
    "Next install your environment:\n",
    "\n",
    "=====\n",
    "* conda create -n env python=3.7\n",
    "* conda activate env\n",
    "* conda install future numpy pandas scipy matplotlib scikit-learn theano tensorflow\n",
    "* conda install nltk\n",
    "* conda install keras\n",
    "\n",
    "* conda install ipython\n",
    "\n",
    "\n",
    "\n",
    "To import your libraries:\n",
    "\n",
    "=====\n",
    "\n",
    "\n",
    "\n",
    "import nltk\n",
    "\n",
    "nltk.download(\"stopwords\")\n",
    "\n",
    "nltk.download(\"punkt\")\n",
    "\n",
    "\n",
    "\n",
    "from random import random, randrange\n",
    "\n",
    "import numpy as np\n",
    "\n",
    "import pandas as pd\n",
    "\n",
    "import matplotlib.pyplot as plt\n",
    "\n",
    "import scipy as sp\n",
    "\n",
    "import keras\n",
    "\n",
    "import tensorflow as tf\n",
    "\n",
    "import theano as T\n",
    "\n",
    "import re\n",
    "\n",
    "import tarfile\n",
    "\n",
    "import keras.backend as K\n",
    "\n",
    "from keras.models import Model\n",
    "\n",
    "from keras.layers import Dense, Embedding, Input, Lambda, Reshape, add, dot, Activation\n",
    "\n",
    "from keras.utils import pad_sequences\n",
    "\n",
    "from keras.optimizers import Adam, RMSprop\n",
    "\n",
    "from keras.utils.data_utils import get_file\n",
    "\n",
    "import nltk\n",
    "\n",
    "from nltk.corpus import stopwords\n",
    "\n",
    "from nltk import punkt\n",
    "\n",
    "\n",
    "\n",
    "\n",
    "*** `tao: A) Dharma: ${\"Very grateful tao coding enlightenment in code empathy seekers, also seeking in your dao wisdom in teaching the tao, that leads all the way back to the source.\"}` ***"
   ]
  },
  {
   "cell_type": "code",
   "execution_count": 10,
   "id": "89cd6fb3",
   "metadata": {},
   "outputs": [],
   "source": [
    "from random import random, randrange\n",
    "import numpy as np\n",
    "import pandas as pd\n",
    "import matplotlib.pyplot as plt\n",
    "import scipy as sp\n",
    "import keras\n",
    "import tensorflow as tf\n",
    "import theano as T\n",
    "import re\n",
    "import tarfile\n",
    "import keras.backend as K\n",
    "from keras.models import Model\n",
    "from keras.layers import Dense, Embedding, Input, Lambda, Reshape, add, dot, Activation\n",
    "from keras.utils import pad_sequences\n",
    "from keras.optimizers import Adam, RMSprop\n",
    "from keras.utils.data_utils import get_file\n",
    "import nltk\n",
    "from nltk.corpus import stopwords\n",
    "from nltk import punkt"
   ]
  },
  {
   "cell_type": "code",
   "execution_count": null,
   "id": "f739a4b9",
   "metadata": {},
   "outputs": [],
   "source": []
  }
 ],
 "metadata": {
  "kernelspec": {
   "display_name": "Python 3 (ipykernel)",
   "language": "python",
   "name": "python3"
  },
  "language_info": {
   "codemirror_mode": {
    "name": "ipython",
    "version": 3
   },
   "file_extension": ".py",
   "mimetype": "text/x-python",
   "name": "python",
   "nbconvert_exporter": "python",
   "pygments_lexer": "ipython3",
   "version": "3.7.16"
  }
 },
 "nbformat": 4,
 "nbformat_minor": 5
}
