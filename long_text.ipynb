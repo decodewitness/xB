{
 "cells": [
  {
   "cell_type": "code",
   "execution_count": null,
   "id": "22cb90ee",
   "metadata": {},
   "outputs": [],
   "source": [
    "from transformers import BertForSequenceClassification, BertTokenizer\n",
    "import torch\n",
    "\n",
    "# initialize our model and tokenizer\n",
    "tokenizer = BertTokenizer.from_pretrained('ProsusAI/finbert')\n",
    "model = BertForSequenceClassification.from_pretrained('ProsusAI/finbert')\n",
    "\n",
    "def sentiment(tokens):\n",
    "    # get output Logits from the model\n",
    "    output = model(**tokens)\n",
    "    # convert to probabilities\n",
    "    probs = torch.nn.functional.softmax(output[0], dim=-1)\n",
    "    # we will return the probability tensor (we will not need argmax until later)\n",
    "    return probs"
   ]
  },
  {
   "cell_type": "code",
   "execution_count": null,
   "id": "e9833f99",
   "metadata": {},
   "outputs": [],
   "source": [
    "txt = \"\"\"\n",
    "Hagley railway station serves the English village of Hagley, Worcestershire. Off peak trains call three times an hour in each direction, running to or through Kidderminster westwards and through Stourbridge and Birmingham Snow Hill eastwards. Additional trains also call during the morning and evening rush hours. A half hourly service runs in the late evenings and an hourly service on Sundays.[1] Customer Information Screens are installed on either platform. Since the 2017 change of franchise, services are run by West Midlands Trains.[2]\n",
    "\n",
    "The nearest railway stations are Stourbridge Junction (towards Birmingham) and Blakedown (towards Kidderminster and Worcester).\n",
    "\n",
    "The station retains one of its GWR-era station buildings and its canopied footbridge, both dating from 1884. Although typical of its era, very few examples of that kind of ornamental ironwork bridge now survive and it was listed grade 2 in 2000.[3] When it was refurbished in late 2011, the colours reverted from its former navy blue and white to the original GWR cream and salmon livery.[4] The footbridge was also used by Hornby as the basis for its 00 Gauge model.[5]\n",
    "\n",
    "History\n",
    "The original village of Hagley was a mile away uphill; when its station first appeared in timetables in 1862 as part of the Oxford, Worcester and Wolverhampton railway, it was a rough and ready structure with platforms built of old sleepers. With the line subsequently being taken over by GWR, and the expansion of Lower Hagley along the nearby road to Worcester, there was a demand for a proper building with a station approach up to it.[6] Canopied brick buildings were constructed on either side of the line at this time. While the one on the Stourbridge side housed waiting rooms and toilets, on the Kidderminster and Station Drive side there was the stationmaster's office, the ticket office, and two more waiting rooms and toilets.\n",
    "\n",
    "Under him the stationmaster had a booking clerk and three porters as well as someone to deliver parcels and personal luggage. There were also three signalmen at the box beyond the Brake Lane bridge and maintenance workers responsible for the track and embankments. The signal box has now gone while the building on the Stourbridge platform has been demolished and replaced with a metal shelter. In the former goods yard north of the station on Brake Lane were coal merchants and the offices responsible for dealing with livestock brought by train for sale at the Monday cattle market, which was located uphill in the old village (at the junction of the A491 and the A456). Where the sidings for coal trucks and the cattle pens used to be, there is now a private housing development named The Sidings after the site.\n",
    "\"\"\"\n",
    "\n",
    "tokens = tokenizer.encode_plus(txt, add_special_tokens=False)\n",
    "\n",
    "len(tokens['input_ids'])"
   ]
  },
  {
   "cell_type": "code",
   "execution_count": null,
   "id": "49abf4ac",
   "metadata": {},
   "outputs": [],
   "source": [
    "input_ids = tokens['input_ids']\n",
    "attention_mask = tokens['attention_mask']"
   ]
  },
  {
   "cell_type": "code",
   "execution_count": null,
   "id": "9342c826",
   "metadata": {},
   "outputs": [],
   "source": [
    "input_ids[16:32]"
   ]
  },
  {
   "cell_type": "code",
   "execution_count": null,
   "id": "9ec08245",
   "metadata": {},
   "outputs": [],
   "source": [
    "start = 0\n",
    "window_size = 512\n",
    "\n",
    "total_len = len(input_ids)\n",
    "\n",
    "loop = True\n",
    "\n",
    "while loop:\n",
    "    end = start + window_size\n",
    "    \n",
    "    if end >= total_len:\n",
    "        loop = False\n",
    "        end = total_len\n",
    "\n",
    "    print(f'{start=}\\n{end=}')\n",
    "    start = end"
   ]
  },
  {
   "cell_type": "code",
   "execution_count": null,
   "id": "f11cd5a9",
   "metadata": {},
   "outputs": [],
   "source": [
    "probs_list = []\n",
    "\n",
    "start = 0\n",
    "window_size = 510\n",
    "\n",
    "total_len = len(input_ids)\n",
    "\n",
    "loop = True\n",
    "\n",
    "while loop:\n",
    "    end = start + window_size\n",
    "    \n",
    "    if end >= total_len:\n",
    "        loop = False\n",
    "        end = total_len\n",
    "\n",
    "    # extract window from input_ids and attention_mask\n",
    "    input_ids_chunk = [101] + input_ids[start:end] + [102]\n",
    "    attention_mask_chunk = [1] + attention_mask[start:end] + [1]\n",
    "    \n",
    "    input_ids_chunk += [0] * (window_size - len(input_ids_chunk) + 2)\n",
    "    attention_mask_chunk += [0] * (window_size - len(attention_mask_chunk) + 2)\n",
    "                                   \n",
    "    input_dict = {\n",
    "        'input_ids': torch.Tensor([input_ids_chunk]).long(),\n",
    "        'attention_mask': torch.Tensor([attention_mask_chunk]).int()\n",
    "    }\n",
    "    \n",
    "    print(len(input_ids_chunk))\n",
    "    \n",
    "    probs_list.append(sentiment(input_dict))\n",
    "                                   \n",
    "    print(f'{start=}\\n{end=}')\n",
    "    start = end"
   ]
  },
  {
   "cell_type": "code",
   "execution_count": null,
   "id": "39edec36",
   "metadata": {},
   "outputs": [],
   "source": [
    "probs_list"
   ]
  },
  {
   "cell_type": "code",
   "execution_count": null,
   "id": "fe13efc0",
   "metadata": {},
   "outputs": [],
   "source": [
    "stack = torch.stack(probs_list)\n",
    "stack"
   ]
  },
  {
   "cell_type": "code",
   "execution_count": null,
   "id": "051e7c14",
   "metadata": {},
   "outputs": [],
   "source": [
    "stack.shape"
   ]
  },
  {
   "cell_type": "code",
   "execution_count": null,
   "id": "65dffd52",
   "metadata": {},
   "outputs": [],
   "source": [
    "stack.shape[0], stack.shape[2]"
   ]
  },
  {
   "cell_type": "code",
   "execution_count": null,
   "id": "6a682d99",
   "metadata": {},
   "outputs": [],
   "source": [
    "stack.resize_(stack.shape[0], stack.shape[2])"
   ]
  },
  {
   "cell_type": "code",
   "execution_count": null,
   "id": "8e2f4ab5",
   "metadata": {},
   "outputs": [],
   "source": [
    "with torch.no_grad():\n",
    "    stack = torch.stack(probs_list)\n",
    "    stack = stack.resize_(stack.shape[0], stack.shape[2])\n",
    "    avg = stack.mean(dim=0)\n",
    "    \n",
    "avg"
   ]
  },
  {
   "cell_type": "code",
   "execution_count": null,
   "id": "782bcb7f",
   "metadata": {},
   "outputs": [],
   "source": [
    "torch.argmax(avg).item()"
   ]
  }
 ],
 "metadata": {
  "kernelspec": {
   "display_name": "Python 3 (ipykernel)",
   "language": "python",
   "name": "python3"
  },
  "language_info": {
   "codemirror_mode": {
    "name": "ipython",
    "version": 3
   },
   "file_extension": ".py",
   "mimetype": "text/x-python",
   "name": "python",
   "nbconvert_exporter": "python",
   "pygments_lexer": "ipython3",
   "version": "3.8.5"
  }
 },
 "nbformat": 4,
 "nbformat_minor": 5
}
