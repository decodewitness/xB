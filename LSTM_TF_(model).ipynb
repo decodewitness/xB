{
  "cells": [
    {
      "cell_type": "code",
      "execution_count": null,
      "metadata": {
        "colab": {
          "base_uri": "https://localhost:8080/"
        },
        "id": "LkWvX8zTJu97",
        "outputId": "d6358793-e905-4b61-c1a2-044c0187af52"
      },
      "outputs": [
        {
          "name": "stdout",
          "output_type": "stream",
          "text": [
            "--2022-06-25 18:05:10--  https://www.dropbox.com/s/pdhwlpi2yeie0ol/movie-reviews-dataset.zip\n",
            "Resolving www.dropbox.com (www.dropbox.com)... 162.125.1.18, 2620:100:6016:18::a27d:112\n",
            "Connecting to www.dropbox.com (www.dropbox.com)|162.125.1.18|:443... connected.\n",
            "HTTP request sent, awaiting response... 301 Moved Permanently\n",
            "Location: /s/raw/pdhwlpi2yeie0ol/movie-reviews-dataset.zip [following]\n",
            "--2022-06-25 18:05:10--  https://www.dropbox.com/s/raw/pdhwlpi2yeie0ol/movie-reviews-dataset.zip\n",
            "Reusing existing connection to www.dropbox.com:443.\n",
            "HTTP request sent, awaiting response... 302 Found\n",
            "Location: https://ucf3f24d42e20a52dc0e92f1e968.dl.dropboxusercontent.com/cd/0/inline/Bn5vr6rMCT1XlP-Ma_AiE5ZZQSEQvYmMZ80MPP5KbQo0Fu-mW-rJ8dcgp8oOkgewOGkRkT8t0GxxxPlKf5TJ0sK-AutxCkKaRD-d1id2Cxq_d5nf6fEcqNUDrslt6LH-ldK1Hqb8hl2dQYcazLtcSnjwef5qEsjYGerIiQ_-JuN7sQ/file# [following]\n",
            "--2022-06-25 18:05:10--  https://ucf3f24d42e20a52dc0e92f1e968.dl.dropboxusercontent.com/cd/0/inline/Bn5vr6rMCT1XlP-Ma_AiE5ZZQSEQvYmMZ80MPP5KbQo0Fu-mW-rJ8dcgp8oOkgewOGkRkT8t0GxxxPlKf5TJ0sK-AutxCkKaRD-d1id2Cxq_d5nf6fEcqNUDrslt6LH-ldK1Hqb8hl2dQYcazLtcSnjwef5qEsjYGerIiQ_-JuN7sQ/file\n",
            "Resolving ucf3f24d42e20a52dc0e92f1e968.dl.dropboxusercontent.com (ucf3f24d42e20a52dc0e92f1e968.dl.dropboxusercontent.com)... 162.125.1.15, 2620:100:6016:15::a27d:10f\n",
            "Connecting to ucf3f24d42e20a52dc0e92f1e968.dl.dropboxusercontent.com (ucf3f24d42e20a52dc0e92f1e968.dl.dropboxusercontent.com)|162.125.1.15|:443... connected.\n",
            "HTTP request sent, awaiting response... 302 Found\n",
            "Location: /cd/0/inline2/Bn5I3SHKg6aTuGr_v31o-QGBKZOi2c7Y9jX1Zth0uByA5VrAxlADJyS1btc_4WGM8RMayp6IahYlsjI0P3Vmx1K9prKoWFBqOeJLTjx8SIA2clCKlXUjIqf2gFmHMsJsnynROoFKUE90dPeYUnPgCkngwpNNEnmdu1AENzTrgT_YhdNcEfglRanwVAPed9N5dbkdROmTJVwUrg3dbsPifcvuyQ1dT_vx_fNI3o5fuV86SnuBK_V6pkeni59Er9bWiRiBVLxnvKxU0E8BdXKw2_lo8VbQ9YfVne-OZEsCE0SjmCG_ZVB3MHw3NKT1bhA93eDDi5n5bIg_DRC1XdWZEYr2RBE4pmZD-o4rRy76OH15nO8mg-vG8YZZbb_-l8AunAvGb2FIpWHtX1OyMiHGbgXpKMGQajkJFEAQZmaucocsJA/file [following]\n",
            "--2022-06-25 18:05:10--  https://ucf3f24d42e20a52dc0e92f1e968.dl.dropboxusercontent.com/cd/0/inline2/Bn5I3SHKg6aTuGr_v31o-QGBKZOi2c7Y9jX1Zth0uByA5VrAxlADJyS1btc_4WGM8RMayp6IahYlsjI0P3Vmx1K9prKoWFBqOeJLTjx8SIA2clCKlXUjIqf2gFmHMsJsnynROoFKUE90dPeYUnPgCkngwpNNEnmdu1AENzTrgT_YhdNcEfglRanwVAPed9N5dbkdROmTJVwUrg3dbsPifcvuyQ1dT_vx_fNI3o5fuV86SnuBK_V6pkeni59Er9bWiRiBVLxnvKxU0E8BdXKw2_lo8VbQ9YfVne-OZEsCE0SjmCG_ZVB3MHw3NKT1bhA93eDDi5n5bIg_DRC1XdWZEYr2RBE4pmZD-o4rRy76OH15nO8mg-vG8YZZbb_-l8AunAvGb2FIpWHtX1OyMiHGbgXpKMGQajkJFEAQZmaucocsJA/file\n",
            "Reusing existing connection to ucf3f24d42e20a52dc0e92f1e968.dl.dropboxusercontent.com:443.\n",
            "HTTP request sent, awaiting response... 200 OK\n",
            "Length: 62951389 (60M) [application/zip]\n",
            "Saving to: ‘movie-reviews-dataset.zip’\n",
            "\n",
            "movie-reviews-datas 100%[===================>]  60.03M   114MB/s    in 0.5s    \n",
            "\n",
            "2022-06-25 18:05:11 (114 MB/s) - ‘movie-reviews-dataset.zip’ saved [62951389/62951389]\n",
            "\n"
          ]
        }
      ],
      "source": [
        "!wget https://www.dropbox.com/s/pdhwlpi2yeie0ol/movie-reviews-dataset.zip"
      ]
    },
    {
      "cell_type": "code",
      "execution_count": null,
      "metadata": {
        "id": "fWEfBjvxKOjV"
      },
      "outputs": [],
      "source": [
        "!unzip -q \"/content/movie-reviews-dataset.zip\""
      ]
    },
    {
      "cell_type": "code",
      "execution_count": null,
      "metadata": {
        "id": "O1JS9MuHKOl9"
      },
      "outputs": [],
      "source": [
        "# Sentiment Analysis"
      ]
    },
    {
      "cell_type": "code",
      "execution_count": null,
      "metadata": {
        "id": "cZC1FA1NKOoh"
      },
      "outputs": [],
      "source": [
        "from tensorflow.keras.preprocessing import text_dataset_from_directory\n",
        "from tensorflow.strings import regex_replace\n",
        "from tensorflow.keras.layers.experimental.preprocessing import TextVectorization\n",
        "from tensorflow.keras.models import Sequential\n",
        "from tensorflow.keras import Input\n",
        "from tensorflow.keras.layers import Dense, LSTM, Embedding, Dropout"
      ]
    },
    {
      "cell_type": "code",
      "execution_count": null,
      "metadata": {
        "id": "Th2lDFMcKOrH"
      },
      "outputs": [],
      "source": [
        "def prepareData(dir):\n",
        "  data = text_dataset_from_directory(dir)\n",
        "  return data.map(\n",
        "      lambda text, label: (regex_replace(text, '<br />', ' '), label)\n",
        "  )"
      ]
    },
    {
      "cell_type": "code",
      "execution_count": null,
      "metadata": {
        "colab": {
          "base_uri": "https://localhost:8080/"
        },
        "id": "8NTUUEmGLCNf",
        "outputId": "dd23bb53-8540-44c1-e316-73c824e3212d"
      },
      "outputs": [
        {
          "name": "stdout",
          "output_type": "stream",
          "text": [
            "Found 25000 files belonging to 2 classes.\n",
            "Found 25000 files belonging to 2 classes.\n",
            "b'first, someone mentioned here that because this was released in \"limited\" quantity it means that it SHOULD be bad...that is exactly what the \"big five\" Hollywood studios would like everyone to think so they can \"pass\" or \"ignore\" features that are not desirable, without loosing face or imagine by censoring them directly. to the point, this production has been released \"limited\" because is considered \"unpatriotic\" by certain individuals.  now i absolutely loved this feature; i find it way better then \"Charlie Wilson\\'s War\" even if it is a \"fictional\" account of something that \"never\" happens but is always so OBVIOUS.this goes to anyone and everyone interested or affected by present American foreign policies, \"home\" or \"aboard\". the \"turakistan\" country and \"the emerald city\" are definitely trying to resemble Iraq and Baghdad just as much as the corporation \"Tamerlane\" goes for \"haliburton\" (with the vice- president Dan Aykroyd playing Dick Cheney, LOL).there are quiet a moments actually where the movie is DEAD SERIOUS, not even sarcastic anymore (main example would be as how John Cusack character deals with his depression, but not only).   i found that ALL the characters can be related to something/someone or specific stereotypes. now word of advise; if YOU are not politically active, especially towards the aspects of \"globalization\" , you will likely not enjoy this feature much since most of its content and inside \"jokes\" are targeting certain \"personalities\" that are not \"visibile\" to the general public on daily bases...(main exception would be Hilary Duff that plays the well known materialistic pop star, need i say name(S)?). at its CORE the feature is an anti-globalization gig, period. the message is unmistakeably delivered with comic vengeance. Joan has a line at one point that goes like this: \"and here we have a book written by you know who, about how i conquered the world and resolved the issues with my dad\".PRICELESS)))  the sister and brother Cusacks play good together as always, same as in \"Grosse PointeBlank\" i would say a bit more \"mature\".Marisa Tomeihere does not show her butt and breasts to \"impress\" us (like she did recently in \"Before the Devil Knows You\\'re Dead\"), but instead she has a very serious role, and manages to pull it off quiet well.  many critics don\\'t get it (can not do so, or do not want to). this IS NOT a \"regular\" movie but more of a comic documentary. this feature stands to deliver a message and NOT to get Oscars, or have \"visuals\" sort of getting the viewer into buying the latest \"HDTV experience\" TV sets...i have noticed even in my local papers that this movie gets bad re-views because is not \"artistic\", while PRO Iraq war movies get good thumbs up for being \"balanced\" apparently and \"engaging\".makes one wonders how much all the world mainstream media is concentrated in the hands of a bunch of guys...  i bet this feature will prove a hit overseas as much more then it will in north America. as i mentioned before, it is all a satire about American foreign policy and how it has been hijacked by \"special interests\" groups... having the \"regular\" American soldier wearing the \"Tamerlane\" corporate logo on its combat dress is pretty insulting BUT EFFECTIVE in showing reality as it IS, or will be soon the way things go so far.  some PRICELESS shots: upon \"liberation\", the country gets invaded commercial advertisements; a hilarious scene about how future journalists will likely gather \"news\"(\"anything is got to be better then this x-box bullocks\"))); soldiers dealing with their \"frustration\";   overall, i do not recommend this to \"conservatives\" or \"hard core\" patriots of some kind or another.this feature is not made to reach to the \"minds of souls\" of the people(as mainstream propaganda and commercial interests always try to do so).instead it contains a message well defined for realists, and towards some ideological goals apparently \"always\" short of realizing.'\n",
            "1\n"
          ]
        }
      ],
      "source": [
        "train_data = prepareData('movie-reviews-dataset/train')\n",
        "test_data = prepareData('movie-reviews-dataset/test')\n",
        "\n",
        "for text_batch, label_batch in train_data.take(1):\n",
        "  print(text_batch.numpy()[0])\n",
        "  print(label_batch.numpy()[0])"
      ]
    },
    {
      "cell_type": "code",
      "execution_count": null,
      "metadata": {
        "id": "ovYBLcYnLCQL"
      },
      "outputs": [],
      "source": [
        "model = Sequential()"
      ]
    },
    {
      "cell_type": "code",
      "execution_count": null,
      "metadata": {
        "id": "D-wiJngHLCS7"
      },
      "outputs": [],
      "source": [
        "model.add(Input(shape=(1,), dtype=\"string\"))"
      ]
    },
    {
      "cell_type": "code",
      "execution_count": null,
      "metadata": {
        "id": "2xj4WvP5LCVp"
      },
      "outputs": [],
      "source": [
        "max_tokens = 1000\n",
        "max_len = 100\n",
        "vectorize_layer = TextVectorization(\n",
        "    max_tokens=max_tokens,\n",
        "    output_mode=\"int\",\n",
        "    output_sequence_length=max_len\n",
        ")"
      ]
    },
    {
      "cell_type": "code",
      "execution_count": null,
      "metadata": {
        "id": "Ys8-PoaxLCXy"
      },
      "outputs": [],
      "source": [
        "train_texts = train_data.map(lambda text, label: text)\n",
        "vectorize_layer.adapt(train_texts)\n",
        "\n",
        "model.add(vectorize_layer)"
      ]
    },
    {
      "cell_type": "code",
      "execution_count": null,
      "metadata": {
        "id": "KYRIPDZALCaf"
      },
      "outputs": [],
      "source": [
        "model.add(Embedding(max_tokens + 1, 128))\n",
        "\n",
        "model.add(LSTM(64))\n",
        "model.add(Dense(64, activation=\"relu\"))\n",
        "model.add(Dense(1, activation=\"sigmoid\"))"
      ]
    },
    {
      "cell_type": "code",
      "execution_count": null,
      "metadata": {
        "id": "QVOFNUxOLCdL"
      },
      "outputs": [],
      "source": [
        "model.compile(loss=\"binary_crossentropy\", optimizer=\"adam\", metrics=[\"accuracy\"])"
      ]
    },
    {
      "cell_type": "code",
      "execution_count": null,
      "metadata": {
        "colab": {
          "background_save": true,
          "base_uri": "https://localhost:8080/"
        },
        "id": "Gyu6XDAQLCft",
        "outputId": "f0038b54-87e6-4e34-966f-cae58b5199d4"
      },
      "outputs": [
        {
          "name": "stdout",
          "output_type": "stream",
          "text": [
            "Epoch 1/10\n",
            "782/782 [==============================] - 61s 75ms/step - loss: 0.5573 - accuracy: 0.7059\n",
            "Epoch 2/10\n",
            "782/782 [==============================] - 58s 74ms/step - loss: 0.4420 - accuracy: 0.7979\n",
            "Epoch 3/10\n",
            "782/782 [==============================] - 57s 72ms/step - loss: 0.4111 - accuracy: 0.8143\n",
            "Epoch 4/10\n",
            "782/782 [==============================] - 56s 72ms/step - loss: 0.3915 - accuracy: 0.8236\n",
            "Epoch 5/10\n",
            "782/782 [==============================] - 57s 72ms/step - loss: 0.3677 - accuracy: 0.8373\n",
            "Epoch 6/10\n",
            "782/782 [==============================] - 57s 73ms/step - loss: 0.3522 - accuracy: 0.8443\n",
            "Epoch 7/10\n",
            "782/782 [==============================] - 57s 73ms/step - loss: 0.3345 - accuracy: 0.8532\n",
            "Epoch 8/10\n",
            "782/782 [==============================] - 57s 73ms/step - loss: 0.3300 - accuracy: 0.8576\n",
            "Epoch 9/10\n",
            "782/782 [==============================] - 57s 73ms/step - loss: 0.3003 - accuracy: 0.8700\n",
            "Epoch 10/10\n",
            "782/782 [==============================] - 57s 73ms/step - loss: 0.2935 - accuracy: 0.8745\n"
          ]
        },
        {
          "data": {
            "text/plain": [
              "<keras.callbacks.History at 0x7f1b50541510>"
            ]
          },
          "execution_count": null,
          "metadata": {},
          "output_type": "execute_result"
        }
      ],
      "source": [
        "model.fit(train_data, epochs=10)"
      ]
    },
    {
      "cell_type": "code",
      "execution_count": null,
      "metadata": {
        "colab": {
          "background_save": true,
          "base_uri": "https://localhost:8080/"
        },
        "id": "CaL-ZaZtKOtq",
        "outputId": "f59f2459-475f-4a38-cd87-389361d9d558"
      },
      "outputs": [
        {
          "name": "stdout",
          "output_type": "stream",
          "text": [
            "782/782 [==============================] - 19s 24ms/step - loss: 0.6062 - accuracy: 0.7830\n"
          ]
        },
        {
          "data": {
            "text/plain": [
              "[0.6062085032463074, 0.7829599976539612]"
            ]
          },
          "execution_count": null,
          "metadata": {},
          "output_type": "execute_result"
        }
      ],
      "source": [
        "model.evaluate(test_data)"
      ]
    },
    {
      "cell_type": "code",
      "execution_count": null,
      "metadata": {
        "colab": {
          "background_save": true
        },
        "id": "VgY4f1GPKOwA"
      },
      "outputs": [],
      "source": [
        "text = \"I loved the movie !\""
      ]
    },
    {
      "cell_type": "code",
      "execution_count": null,
      "metadata": {
        "colab": {
          "background_save": true,
          "base_uri": "https://localhost:8080/"
        },
        "id": "ap1o_BtlKOyz",
        "outputId": "cb617124-9a42-47e8-f91a-e6100986fa38"
      },
      "outputs": [
        {
          "data": {
            "text/plain": [
              "array([[0.86068225]], dtype=float32)"
            ]
          },
          "execution_count": null,
          "metadata": {},
          "output_type": "execute_result"
        }
      ],
      "source": [
        "model.predict([text])"
      ]
    }
  ],
  "metadata": {
    "accelerator": "GPU",
    "colab": {
      "collapsed_sections": [],
      "name": "LSTM - TF (model).ipynb",
      "provenance": []
    },
    "gpuClass": "standard",
    "kernelspec": {
      "display_name": "Python 3",
      "name": "python3"
    },
    "language_info": {
      "name": "python"
    }
  },
  "nbformat": 4,
  "nbformat_minor": 0
}