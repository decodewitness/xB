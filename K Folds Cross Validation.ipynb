{
 "cells": [
  {
   "cell_type": "markdown",
   "id": "ccdf78d5",
   "metadata": {},
   "source": [
    "# K Folds Cross Validation\n",
    "\n",
    "### Why K folds when we have Train Test Split ?\n",
    "\n",
    "Train test split comes with few disadvantages\n",
    "\n",
    "1. 20% Test data is too small to be confident about predictions\n",
    "2. We are not validating on the remaining 80% of data as we have trained on it\n",
    "    a. Maybe we can use this 80% to improve our confidence on predictions\n",
    "    \n",
    "K folds cross validation solves these issues"
   ]
  },
  {
   "cell_type": "markdown",
   "id": "ea9922bb",
   "metadata": {},
   "source": [
    "### Idea behind K Folds\n",
    "\n",
    "We fold our data int k number of folds where k generally is between 5 and 10.\n",
    "We save one fold for testing and k-n folds for training.\n",
    "\n",
    "When we iterate for the second time we use fold 2 for testing and the rest for training.\n",
    "\n",
    "### Disadvantages\n",
    "\n",
    "1. We re-create Train and Test split in every iteration and train our model from scratch.\n",
    "    a. If k=5, we need to train the model 5 times.\n",
    "    b. Computationally expensive when data is too large, or if our k-value is high."
   ]
  }
 ],
 "metadata": {
  "kernelspec": {
   "display_name": "Python 3",
   "language": "python",
   "name": "python3"
  },
  "language_info": {
   "codemirror_mode": {
    "name": "ipython",
    "version": 3
   },
   "file_extension": ".py",
   "mimetype": "text/x-python",
   "name": "python",
   "nbconvert_exporter": "python",
   "pygments_lexer": "ipython3",
   "version": "3.6.8"
  }
 },
 "nbformat": 4,
 "nbformat_minor": 5
}
