{
 "cells": [
  {
   "cell_type": "markdown",
   "id": "290f9dfd",
   "metadata": {},
   "source": [
    "# ANALYTICAL FUNCTIONS\n",
    "\n",
    "1. eval()\n",
    "2. len()\n",
    "3. factorial()\n",
    "4. sort()"
   ]
  },
  {
   "cell_type": "code",
   "execution_count": 2,
   "id": "c58fdc95",
   "metadata": {},
   "outputs": [
    {
     "data": {
      "text/plain": [
       "13"
      ]
     },
     "execution_count": 2,
     "metadata": {},
     "output_type": "execute_result"
    }
   ],
   "source": [
    "x=3\n",
    "eval('x**2+2*x-2')"
   ]
  },
  {
   "cell_type": "code",
   "execution_count": 3,
   "id": "aec1047c",
   "metadata": {},
   "outputs": [
    {
     "data": {
      "text/plain": [
       "6"
      ]
     },
     "execution_count": 3,
     "metadata": {},
     "output_type": "execute_result"
    }
   ],
   "source": [
    "numbers=[4,76,2,34,12,9]\n",
    "len(numbers)"
   ]
  },
  {
   "cell_type": "code",
   "execution_count": 5,
   "id": "e51b8eaa",
   "metadata": {},
   "outputs": [
    {
     "data": {
      "text/plain": [
       "120"
      ]
     },
     "execution_count": 5,
     "metadata": {},
     "output_type": "execute_result"
    }
   ],
   "source": [
    "import math\n",
    "math.factorial(5)"
   ]
  },
  {
   "cell_type": "code",
   "execution_count": 6,
   "id": "5746d75d",
   "metadata": {},
   "outputs": [
    {
     "data": {
      "text/plain": [
       "362880"
      ]
     },
     "execution_count": 6,
     "metadata": {},
     "output_type": "execute_result"
    }
   ],
   "source": [
    "math.factorial(9)"
   ]
  },
  {
   "cell_type": "markdown",
   "id": "253d2442",
   "metadata": {},
   "source": [
    "*sort() function*\n",
    "sort() function sorts the elements of an object in a specified ascending or descending order."
   ]
  },
  {
   "cell_type": "code",
   "execution_count": 7,
   "id": "321074c0",
   "metadata": {},
   "outputs": [
    {
     "data": {
      "text/plain": [
       "[200, 150, 90, 76, 45, 28, 10]"
      ]
     },
     "execution_count": 7,
     "metadata": {},
     "output_type": "execute_result"
    }
   ],
   "source": [
    "runs = [45,10,150,76,28,90,200]\n",
    "runs.sort(reverse=True)\n",
    "runs"
   ]
  }
 ],
 "metadata": {
  "kernelspec": {
   "display_name": "Python 3",
   "language": "python",
   "name": "python3"
  },
  "language_info": {
   "codemirror_mode": {
    "name": "ipython",
    "version": 3
   },
   "file_extension": ".py",
   "mimetype": "text/x-python",
   "name": "python",
   "nbconvert_exporter": "python",
   "pygments_lexer": "ipython3",
   "version": "3.6.8"
  }
 },
 "nbformat": 4,
 "nbformat_minor": 5
}
