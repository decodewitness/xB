{
 "cells": [
  {
   "cell_type": "markdown",
   "id": "e7055145",
   "metadata": {},
   "source": [
    "# Data Cleaning\n",
    "\n",
    "* Data Cleaning is a very crucial step in NLP because without cleaning, the dataset is just a cluster of words which computers do not understand.\n",
    "\n",
    "* The textual data is unstructured and noise and can have:\n",
    "\n",
    "    * Typos, Bad grammar, Usage of slang, URLs.\n",
    "    * Stopwords, Expressions, Punctuations, etc.\n",
    "    \n",
    "    \n",
    "Steps to clean Textual Data:\n",
    "\n",
    "    * Remove punctuation and numbers.\n",
    "    * Perform tokenization\n",
    "    * Remove special and accented characters\n",
    "    * Remove stopwords\n",
    "    * Perform stemming and lemmatization"
   ]
  }
 ],
 "metadata": {
  "kernelspec": {
   "display_name": "Python 3",
   "language": "python",
   "name": "python3"
  },
  "language_info": {
   "codemirror_mode": {
    "name": "ipython",
    "version": 3
   },
   "file_extension": ".py",
   "mimetype": "text/x-python",
   "name": "python",
   "nbconvert_exporter": "python",
   "pygments_lexer": "ipython3",
   "version": "3.6.8"
  }
 },
 "nbformat": 4,
 "nbformat_minor": 5
}
