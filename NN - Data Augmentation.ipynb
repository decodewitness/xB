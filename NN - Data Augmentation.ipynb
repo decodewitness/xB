{
 "cells": [
  {
   "cell_type": "markdown",
   "id": "d1514123",
   "metadata": {},
   "source": [
    "# NN - Data Augmentation\n",
    "\n",
    "\n",
    "### Need for Data Augmentation\n",
    "\n",
    "1. Even after using a proper architecture and methods to train the model, we do not get satisfactory results. This is a case where the problem lies in the data used to train the network.\n",
    "\n",
    "2. Having a large dataset is crucial for the performance of the deep learning model. However, it can lack the quantity and diversity of data.\n",
    "\n",
    "\n",
    "### Data Augmentation\n",
    "\n",
    "Data augmentation is a strategy that enables practitioners to significantly increase the diversity of data available for training models, without actually collecting new data.\n",
    "\n",
    "Example:\n",
    "You're trying to create a cat detector and have a hundred images, then you can apply some techniques to generate more data, such as:\n",
    "\n",
    "* Cropping, Padding and Horizontal Flipping.\n",
    "\n",
    "### Techniques\n",
    "\n",
    "* Flip - horizontal/vertical flip.\n",
    "* Rotation - 90, 180, 270 degrees. (images between 30 and -30 degrees)\n",
    "* Random Cropping 256px -> 227px\n",
    "* Scaling - Zooming into image (20% or 30%\n",
    "\n",
    "\n",
    "### Other techniques\n",
    "\n",
    "* Blurring Contrast Smoothing Sharpening and more.\n"
   ]
  }
 ],
 "metadata": {
  "kernelspec": {
   "display_name": "Python 3",
   "language": "python",
   "name": "python3"
  },
  "language_info": {
   "codemirror_mode": {
    "name": "ipython",
    "version": 3
   },
   "file_extension": ".py",
   "mimetype": "text/x-python",
   "name": "python",
   "nbconvert_exporter": "python",
   "pygments_lexer": "ipython3",
   "version": "3.6.8"
  }
 },
 "nbformat": 4,
 "nbformat_minor": 5
}
