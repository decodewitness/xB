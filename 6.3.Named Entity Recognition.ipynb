{
 "cells": [
  {
   "cell_type": "code",
   "execution_count": 6,
   "id": "5ac5b8c5",
   "metadata": {},
   "outputs": [
    {
     "name": "stderr",
     "output_type": "stream",
     "text": [
      "[nltk_data] Downloading package maxent_ne_chunker to\n",
      "[nltk_data]     /home/user001/nltk_data...\n",
      "[nltk_data]   Package maxent_ne_chunker is already up-to-date!\n",
      "[nltk_data] Downloading package words to /home/user001/nltk_data...\n",
      "[nltk_data]   Unzipping corpora/words.zip.\n"
     ]
    }
   ],
   "source": [
    "import nltk\n",
    "nltk.download('maxent_ne_chunker')\n",
    "nltk.download('words')\n",
    "input_text = \"\"\"Knowledge can be defined as awareness of facts or as practical skills, and may also refer to familiarity with objects or situations. Knowledge of facts, also called propositional knowledge, is often defined as true belief that is distinct from opinion or guesswork by virtue of justification. While there is wide agreement among philosophers that propositional knowledge is a form of true belief, many controversies in philosophy focus on justification: whether it is needed at all, how to understand it, and whether something else besides it is needed. These controversies intensified due to a series of thought experiments by Edmund Gettier and have provoked various alternative definitions. Some of them deny that justification is necessary and replace it, for example, with reliability or the manifestation of cognitive virtues. Others contend that justification is needed but formulate additional requirements, for example, that no defeaters of the belief are present or that the person would not have the belief if it was false.\"\"\""
   ]
  },
  {
   "cell_type": "code",
   "execution_count": 2,
   "id": "5b51af0b",
   "metadata": {},
   "outputs": [],
   "source": [
    "w = nltk.word_tokenize(input_text)\n",
    "pos_tags = nltk.pos_tag(w)"
   ]
  },
  {
   "cell_type": "code",
   "execution_count": 7,
   "id": "55a25029",
   "metadata": {},
   "outputs": [],
   "source": [
    "ne_data = nltk.ne_chunk(pos_tags)"
   ]
  },
  {
   "cell_type": "code",
   "execution_count": 8,
   "id": "6a42349d",
   "metadata": {},
   "outputs": [
    {
     "data": {
      "text/plain": [
       "nltk.tree.tree.Tree"
      ]
     },
     "execution_count": 8,
     "metadata": {},
     "output_type": "execute_result"
    }
   ],
   "source": [
    "type(ne_data)"
   ]
  },
  {
   "cell_type": "code",
   "execution_count": null,
   "id": "e217ae7d",
   "metadata": {},
   "outputs": [],
   "source": [
    "# https://nltk.org/book/ch07.html"
   ]
  },
  {
   "cell_type": "code",
   "execution_count": 10,
   "id": "4130e69e",
   "metadata": {},
   "outputs": [],
   "source": [
    "ne_data.draw()"
   ]
  }
 ],
 "metadata": {
  "kernelspec": {
   "display_name": "Python 3 (ipykernel)",
   "language": "python",
   "name": "python3"
  },
  "language_info": {
   "codemirror_mode": {
    "name": "ipython",
    "version": 3
   },
   "file_extension": ".py",
   "mimetype": "text/x-python",
   "name": "python",
   "nbconvert_exporter": "python",
   "pygments_lexer": "ipython3",
   "version": "3.9.13"
  }
 },
 "nbformat": 4,
 "nbformat_minor": 5
}
