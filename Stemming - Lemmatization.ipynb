{
 "cells": [
  {
   "cell_type": "markdown",
   "id": "115abc4c",
   "metadata": {},
   "source": [
    "# Stemming - Lemmatization\n",
    "\n",
    "\n",
    "Stemming\n",
    "\n",
    "* Stemming is a process of removing a part of a word, or reducing a word to its stem or root word.\n",
    "\n",
    "* Example:\n",
    "    * We have three words: Ask, asking and asked.\n",
    "    * Stemming converts all of the words to the root word \"ask\".\n",
    "\n",
    "\n",
    "Lemmatization\n",
    "\n",
    "* Lemmatization reduces the word to its dictionary form. The root word in lemmatization is called \"lemma\"."
   ]
  }
 ],
 "metadata": {
  "kernelspec": {
   "display_name": "Python 3",
   "language": "python",
   "name": "python3"
  },
  "language_info": {
   "codemirror_mode": {
    "name": "ipython",
    "version": 3
   },
   "file_extension": ".py",
   "mimetype": "text/x-python",
   "name": "python",
   "nbconvert_exporter": "python",
   "pygments_lexer": "ipython3",
   "version": "3.6.8"
  }
 },
 "nbformat": 4,
 "nbformat_minor": 5
}
