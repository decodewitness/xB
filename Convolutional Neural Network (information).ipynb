{
 "cells": [
  {
   "cell_type": "markdown",
   "id": "ca0adb11",
   "metadata": {},
   "source": [
    "# Convolutional Neural Network (information)\n",
    "\n",
    "* A Deep Learning algorithm which can take an image as input and assign learnable weights and biases to various objects in the image to differentiate one image from the other.\n",
    "\n",
    "* It is a neural network that suits for image classification and object detection problem statements.\n",
    "\n",
    "\n",
    "# Disadvantages of Simple Neural Network\n",
    "\n",
    "1. Size of input layer:\n",
    "    a. Images can be big, these days smartphones can even capture 8k images. Suppose I have a dataset with image size (1000,1000) i.e., 1000 pixels vertically and horizonatally.\n",
    "    \n",
    "    b. Flatten (1000,1000) Image results in vector size of 1Million which is unimaginably large and can explode the size of neural networks.\n",
    "        \n",
    "2. Feature Learning:\n",
    "    a. As images are flattened, each pixel acts as an input feature i.e., we will only be able to predict correctly if the given image has the same object placements as in training.\n",
    "    \n",
    "    \n",
    "# Example\n",
    "\n",
    "1. If we train a neural network using pictures of the cat placed on the top left of the image then the weights of the neural network associated only with the top left part of the image will learn the pattern of Cat.\n",
    "\n",
    "2. What if I show my neural network an image of a cat placed on the bottom right? It would fail to classify it.\n",
    "\n",
    "This problem is called \"Translation Invariance\", Simple Neural Networks fail to achieve this.\n",
    "\n",
    "\n",
    "# How CNN solve this\n",
    "\n",
    "1. Convolutional networks achieve translation invariance by using shared weights.\n",
    "\n",
    "    a. CNN uses the same set of weights to look at the whole image traversing from top left to bottom right.\n"
   ]
  }
 ],
 "metadata": {
  "kernelspec": {
   "display_name": "Python 3",
   "language": "python",
   "name": "python3"
  },
  "language_info": {
   "codemirror_mode": {
    "name": "ipython",
    "version": 3
   },
   "file_extension": ".py",
   "mimetype": "text/x-python",
   "name": "python",
   "nbconvert_exporter": "python",
   "pygments_lexer": "ipython3",
   "version": "3.6.8"
  }
 },
 "nbformat": 4,
 "nbformat_minor": 5
}
