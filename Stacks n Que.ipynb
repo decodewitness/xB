{
 "cells": [
  {
   "cell_type": "markdown",
   "id": "71dfa156",
   "metadata": {},
   "source": [
    "# Stacks and Queues using Lists\n",
    "\n",
    "Stacks:\n",
    "push()\n",
    "\n",
    "Queues:\n",
    "enqueue()\n",
    "dequeue()\n"
   ]
  },
  {
   "cell_type": "code",
   "execution_count": 1,
   "id": "3bfbbb78",
   "metadata": {},
   "outputs": [
    {
     "data": {
      "text/plain": [
       "['a', 'e', 'f', 'h']"
      ]
     },
     "execution_count": 1,
     "metadata": {},
     "output_type": "execute_result"
    }
   ],
   "source": [
    "#Empty List\n",
    "letters=[]\n",
    "letters.append('a')\n",
    "letters.append('e')\n",
    "letters.append('f')\n",
    "letters.append('h')\n",
    "letters"
   ]
  },
  {
   "cell_type": "code",
   "execution_count": 2,
   "id": "2777df60",
   "metadata": {},
   "outputs": [
    {
     "data": {
      "text/plain": [
       "'h'"
      ]
     },
     "execution_count": 2,
     "metadata": {},
     "output_type": "execute_result"
    }
   ],
   "source": [
    "letters.pop()"
   ]
  },
  {
   "cell_type": "code",
   "execution_count": 3,
   "id": "8c3434ac",
   "metadata": {},
   "outputs": [
    {
     "data": {
      "text/plain": [
       "'f'"
      ]
     },
     "execution_count": 3,
     "metadata": {},
     "output_type": "execute_result"
    }
   ],
   "source": [
    "letters.pop()"
   ]
  },
  {
   "cell_type": "code",
   "execution_count": 4,
   "id": "813b2ca1",
   "metadata": {},
   "outputs": [
    {
     "data": {
      "text/plain": [
       "['mango', 'banana', 'guava', 'apple']"
      ]
     },
     "execution_count": 4,
     "metadata": {},
     "output_type": "execute_result"
    }
   ],
   "source": [
    "#QUEUES\n",
    "fruits=[]\n",
    "fruits.append('mango')\n",
    "fruits.append('banana')\n",
    "fruits.append('guava')\n",
    "fruits.append('apple')\n",
    "fruits"
   ]
  },
  {
   "cell_type": "code",
   "execution_count": 5,
   "id": "09793763",
   "metadata": {},
   "outputs": [
    {
     "data": {
      "text/plain": [
       "'mango'"
      ]
     },
     "execution_count": 5,
     "metadata": {},
     "output_type": "execute_result"
    }
   ],
   "source": [
    "fruits.pop(0)"
   ]
  },
  {
   "cell_type": "code",
   "execution_count": 6,
   "id": "662ae952",
   "metadata": {},
   "outputs": [
    {
     "data": {
      "text/plain": [
       "'banana'"
      ]
     },
     "execution_count": 6,
     "metadata": {},
     "output_type": "execute_result"
    }
   ],
   "source": [
    "fruits.pop(0)"
   ]
  },
  {
   "cell_type": "markdown",
   "id": "5f46349d",
   "metadata": {},
   "source": [
    "# Deque (double ended que)"
   ]
  },
  {
   "cell_type": "code",
   "execution_count": 7,
   "id": "f4218846",
   "metadata": {},
   "outputs": [],
   "source": [
    "from collections import deque"
   ]
  },
  {
   "cell_type": "code",
   "execution_count": 8,
   "id": "634010cd",
   "metadata": {},
   "outputs": [],
   "source": [
    "numbers=deque()"
   ]
  },
  {
   "cell_type": "code",
   "execution_count": 11,
   "id": "2321cb79",
   "metadata": {},
   "outputs": [
    {
     "data": {
      "text/plain": [
       "deque([11, 23, 11, 23, 11, 11, 11, 23, 54, 34, 18])"
      ]
     },
     "execution_count": 11,
     "metadata": {},
     "output_type": "execute_result"
    }
   ],
   "source": [
    "numbers.append(11)\n",
    "numbers.append(23)\n",
    "numbers.append(54)\n",
    "numbers.append(34)\n",
    "numbers.append(18)\n",
    "numbers"
   ]
  },
  {
   "cell_type": "code",
   "execution_count": 12,
   "id": "557d4e25",
   "metadata": {},
   "outputs": [
    {
     "data": {
      "text/plain": [
       "18"
      ]
     },
     "execution_count": 12,
     "metadata": {},
     "output_type": "execute_result"
    }
   ],
   "source": [
    "numbers.pop()"
   ]
  },
  {
   "cell_type": "code",
   "execution_count": 13,
   "id": "20bcb64d",
   "metadata": {},
   "outputs": [
    {
     "data": {
      "text/plain": [
       "34"
      ]
     },
     "execution_count": 13,
     "metadata": {},
     "output_type": "execute_result"
    }
   ],
   "source": [
    "numbers.pop()"
   ]
  },
  {
   "cell_type": "markdown",
   "id": "ac752ef0",
   "metadata": {},
   "source": [
    "# implement Queues with Deque"
   ]
  },
  {
   "cell_type": "code",
   "execution_count": 14,
   "id": "9c68f982",
   "metadata": {},
   "outputs": [],
   "source": [
    "from collections import deque"
   ]
  },
  {
   "cell_type": "code",
   "execution_count": 16,
   "id": "86fb355e",
   "metadata": {},
   "outputs": [],
   "source": [
    "names=deque()"
   ]
  },
  {
   "cell_type": "code",
   "execution_count": 17,
   "id": "d32d6e7d",
   "metadata": {},
   "outputs": [
    {
     "data": {
      "text/plain": [
       "deque(['laura', 'mark', 'brit', 'julian', 'oreilly'])"
      ]
     },
     "execution_count": 17,
     "metadata": {},
     "output_type": "execute_result"
    }
   ],
   "source": [
    "names.append('laura')\n",
    "names.append('mark')\n",
    "names.append('brit')\n",
    "names.append('julian')\n",
    "names.append('oreilly')\n",
    "names"
   ]
  },
  {
   "cell_type": "markdown",
   "id": "d53e453a",
   "metadata": {},
   "source": []
  },
  {
   "cell_type": "code",
   "execution_count": null,
   "id": "1169121d",
   "metadata": {},
   "outputs": [],
   "source": []
  }
 ],
 "metadata": {
  "kernelspec": {
   "display_name": "Python 3",
   "language": "python",
   "name": "python3"
  },
  "language_info": {
   "codemirror_mode": {
    "name": "ipython",
    "version": 3
   },
   "file_extension": ".py",
   "mimetype": "text/x-python",
   "name": "python",
   "nbconvert_exporter": "python",
   "pygments_lexer": "ipython3",
   "version": "3.6.8"
  }
 },
 "nbformat": 4,
 "nbformat_minor": 5
}
