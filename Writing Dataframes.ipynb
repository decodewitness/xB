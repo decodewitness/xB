{
 "cells": [
  {
   "cell_type": "code",
   "execution_count": 1,
   "id": "851a492e",
   "metadata": {},
   "outputs": [],
   "source": [
    "import pandas as pd\n",
    "\n",
    "df=pd.read_csv(\"train.csv\")"
   ]
  },
  {
   "cell_type": "code",
   "execution_count": 2,
   "id": "f54563c7",
   "metadata": {},
   "outputs": [],
   "source": [
    "df.to_csv(\"output.csv\")"
   ]
  },
  {
   "cell_type": "code",
   "execution_count": 3,
   "id": "5f234671",
   "metadata": {},
   "outputs": [],
   "source": [
    "df.to_csv(\"output.csv\",\n",
    "          header=False, # header=False ;; doesn't write the header\n",
    "          index=False, # index=False ;; removes the index column\n",
    "          sep=';'\n",
    "         )"
   ]
  },
  {
   "cell_type": "code",
   "execution_count": null,
   "id": "ce8a525d",
   "metadata": {},
   "outputs": [],
   "source": [
    "df.to_dict() # to dictionary ;; takes too long when big dataframe\n",
    "df.to_excel() # save to excel\n",
    "df.to_html() # save to html\n",
    "df.to_json() # save to json\n",
    "df.to_sql() # save to sql"
   ]
  }
 ],
 "metadata": {
  "kernelspec": {
   "display_name": "Python 3 (ipykernel)",
   "language": "python",
   "name": "python3"
  },
  "language_info": {
   "codemirror_mode": {
    "name": "ipython",
    "version": 3
   },
   "file_extension": ".py",
   "mimetype": "text/x-python",
   "name": "python",
   "nbconvert_exporter": "python",
   "pygments_lexer": "ipython3",
   "version": "3.8.7"
  }
 },
 "nbformat": 4,
 "nbformat_minor": 5
}
