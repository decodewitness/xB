{
 "cells": [
  {
   "cell_type": "markdown",
   "metadata": {},
   "source": [
    "### Get sentiment of website text"
   ]
  },
  {
   "cell_type": "code",
   "execution_count": 1,
   "metadata": {
    "colab": {
     "base_uri": "https://localhost:8080/"
    },
    "id": "yyS-72UuG0n_",
    "outputId": "bb55390e-bca1-4c72-9a9e-5b75fe9b8da2",
    "scrolled": true
   },
   "outputs": [],
   "source": [
    "#!pip install newspaper3k\n",
    "#!pip install TextBlob"
   ]
  },
  {
   "cell_type": "code",
   "execution_count": 2,
   "metadata": {
    "id": "fMgBpljPG0qc"
   },
   "outputs": [],
   "source": [
    "from textblob import TextBlob\n",
    "import nltk\n",
    "from newspaper import Article"
   ]
  },
  {
   "cell_type": "code",
   "execution_count": 3,
   "metadata": {
    "id": "HzEqHdsPG0tE"
   },
   "outputs": [],
   "source": [
    "# Get article\n",
    "url = 'https://slashdot.org'\n",
    "article = Article(url)"
   ]
  },
  {
   "cell_type": "code",
   "execution_count": 4,
   "metadata": {
    "colab": {
     "base_uri": "https://localhost:8080/"
    },
    "id": "PEICth59G0wA",
    "outputId": "d6134fda-a65a-47bc-e6c3-5a1aab749e2d"
   },
   "outputs": [
    {
     "name": "stderr",
     "output_type": "stream",
     "text": [
      "[nltk_data] Downloading package punkt to\n",
      "[nltk_data]     C:\\Users\\user001\\AppData\\Roaming\\nltk_data...\n",
      "[nltk_data]   Package punkt is already up-to-date!\n"
     ]
    }
   ],
   "source": [
    "# Natural Language Processing\n",
    "article.download()\n",
    "article.parse()\n",
    "nltk.download('punkt')\n",
    "article.nlp()"
   ]
  },
  {
   "cell_type": "code",
   "execution_count": 5,
   "metadata": {
    "colab": {
     "base_uri": "https://localhost:8080/"
    },
    "id": "Xw77tf41G01R",
    "outputId": "9c931abb-3e89-41b3-c68b-aac3ad155d78"
   },
   "outputs": [
    {
     "name": "stdout",
     "output_type": "stream",
     "text": [
      "Thursday a Forbes senior writer reported:Challenging the article, TikTok responded on Twitter that their service \"does not collect precise GPS location information from U.S. users, meaning TikTok could not monitor U.S. users in the way the article suggested.\"\n",
      "But Forbes' senior writer thinks that's a misleading denial, writing on Twitter that \" We never mentioned GPS in the story .\n",
      "Not using GPS does not mean they could not use that approximate location to monitor certain individuals.\n",
      "\"Any use of internal audit resources as alleged by Forbes would be grounds for immediate dismissal of company personnel.\n",
      "The response of Forbes' senior writer ?\n"
     ]
    }
   ],
   "source": [
    "# Summary\n",
    "text = article.summary\n",
    "\n",
    "print(text)"
   ]
  },
  {
   "cell_type": "code",
   "execution_count": 6,
   "metadata": {
    "colab": {
     "base_uri": "https://localhost:8080/"
    },
    "id": "oHwKUAq3G04n",
    "outputId": "04723ff5-c7a7-426d-c9b5-661a2df0fbfa"
   },
   "outputs": [
    {
     "name": "stdout",
     "output_type": "stream",
     "text": [
      "0.04508928571428572\n"
     ]
    }
   ],
   "source": [
    "# Create TextBlob object\n",
    "obj = TextBlob(text)\n",
    "\n",
    "# This returns a value between -1 and 1\n",
    "sentiment = obj.sentiment.polarity\n",
    "print(sentiment)"
   ]
  },
  {
   "cell_type": "code",
   "execution_count": 7,
   "metadata": {
    "colab": {
     "base_uri": "https://localhost:8080/"
    },
    "id": "1Tnn3zceG07m",
    "outputId": "6aac21ed-609d-4cb9-af08-c0b0558b7532"
   },
   "outputs": [
    {
     "name": "stdout",
     "output_type": "stream",
     "text": [
      "The text is positive\n"
     ]
    }
   ],
   "source": [
    "if sentiment == 0:\n",
    "  print('The text is neutral')\n",
    "elif sentiment > 0:\n",
    "  print('The text is positive')\n",
    "else:\n",
    "  print('The text is negative')  "
   ]
  }
 ],
 "metadata": {
  "colab": {
   "collapsed_sections": [],
   "provenance": []
  },
  "kernelspec": {
   "display_name": "Python 3 (ipykernel)",
   "language": "python",
   "name": "python3"
  },
  "language_info": {
   "codemirror_mode": {
    "name": "ipython",
    "version": 3
   },
   "file_extension": ".py",
   "mimetype": "text/x-python",
   "name": "python",
   "nbconvert_exporter": "python",
   "pygments_lexer": "ipython3",
   "version": "3.9.0"
  }
 },
 "nbformat": 4,
 "nbformat_minor": 1
}
