{
 "cells": [
  {
   "cell_type": "markdown",
   "metadata": {},
   "source": [
    "# TwitScar"
   ]
  },
  {
   "cell_type": "code",
   "execution_count": null,
   "metadata": {},
   "outputs": [],
   "source": [
    "# Version v.0.0-1a"
   ]
  },
  {
   "cell_type": "code",
   "execution_count": null,
   "metadata": {
    "colab": {
     "base_uri": "https://localhost:8080/"
    },
    "id": "kym6uhuNswHx",
    "outputId": "f70ef759-c3f8-4a73-bdaf-f0022395b9a5"
   },
   "outputs": [],
   "source": [
    "from google.colab import drive\n",
    "drive.mount('gdrive')"
   ]
  },
  {
   "cell_type": "code",
   "execution_count": null,
   "metadata": {
    "colab": {
     "base_uri": "https://localhost:8080/"
    },
    "id": "Oq6OPvU5tEJX",
    "outputId": "31bb1185-9e26-430d-9cac-c5e19995d790"
   },
   "outputs": [],
   "source": [
    "%cd /content/gdrive/My Drive/covertsniper"
   ]
  },
  {
   "cell_type": "code",
   "execution_count": null,
   "metadata": {
    "id": "F4W4Spg1kse4"
   },
   "outputs": [],
   "source": [
    "#%mkdir datasets"
   ]
  },
  {
   "cell_type": "code",
   "execution_count": null,
   "metadata": {
    "colab": {
     "base_uri": "https://localhost:8080/"
    },
    "id": "S0alYJX4tOH1",
    "outputId": "35291495-d1fa-4853-d892-08c59cc77203"
   },
   "outputs": [],
   "source": [
    "!pwd"
   ]
  },
  {
   "cell_type": "code",
   "execution_count": null,
   "metadata": {
    "id": "UlsdYxp6tnpR"
   },
   "outputs": [],
   "source": [
    "#!ls"
   ]
  },
  {
   "cell_type": "code",
   "execution_count": null,
   "metadata": {
    "id": "lXe_VCebk7qz"
   },
   "outputs": [],
   "source": [
    "#!ls datasets"
   ]
  },
  {
   "cell_type": "code",
   "execution_count": null,
   "metadata": {
    "colab": {
     "base_uri": "https://localhost:8080/"
    },
    "id": "5qb29SZWtqZP",
    "outputId": "30da6197-b332-4396-b63a-9eb54d14e678"
   },
   "outputs": [],
   "source": [
    "!pip install nest-asyncio "
   ]
  },
  {
   "cell_type": "code",
   "execution_count": null,
   "metadata": {
    "colab": {
     "base_uri": "https://localhost:8080/"
    },
    "id": "112Uq3fGuxTL",
    "outputId": "46b58060-c604-4fbd-bd5b-c1006a0aac4e"
   },
   "outputs": [],
   "source": [
    "#!pip3 install --user --upgrade git+https://github.com/twintproject/twint.git@origin/master#egg=twint\n",
    "#!pip3 install twint\n",
    "\n",
    "# Upgrade Twint\n",
    "!pip3 install --upgrade -e git+https://github.com/twintproject/twint.git@origin/master#egg=twint"
   ]
  },
  {
   "cell_type": "code",
   "execution_count": null,
   "metadata": {
    "id": "HCu7S9NxvvAP"
   },
   "outputs": [],
   "source": [
    "!mv src/twint .\n",
    "!rm -r src"
   ]
  },
  {
   "cell_type": "code",
   "execution_count": null,
   "metadata": {
    "id": "TVz3OX_vv1hT"
   },
   "outputs": [],
   "source": [
    "%load_ext autoreload\n",
    "%autoreload\n",
    "import sys\n",
    "sys.path.append(\"twint/\")"
   ]
  },
  {
   "cell_type": "code",
   "execution_count": null,
   "metadata": {
    "id": "S6udwW3ZwAaz"
   },
   "outputs": [],
   "source": [
    "import twint\n",
    "import pandas as pd\n",
    "import nest_asyncio\n",
    "nest_asyncio.apply()"
   ]
  },
  {
   "cell_type": "code",
   "execution_count": null,
   "metadata": {
    "id": "mGEhYWyowU2m"
   },
   "outputs": [],
   "source": [
    "c = twint.Config()\n",
    "c.Pandas = True\n",
    "c.Store_csv = True\n",
    "#c.Username = \"knowledge\"\n",
    "c.Search = \"#artificial intelligence\"\n",
    "c.Limit = 150\n",
    "c.Since = \"2022-07-09\"\n",
    "c.Until = \"2022-08-09\"\n",
    "c.Lang = 'en'"
   ]
  },
  {
   "cell_type": "code",
   "execution_count": null,
   "metadata": {
    "colab": {
     "base_uri": "https://localhost:8080/"
    },
    "id": "Etwc8UaWxkV2",
    "outputId": "1dcb5baf-cdae-4eb3-eb5f-b23361c92624"
   },
   "outputs": [],
   "source": [
    "twint.run.Search(c)"
   ]
  },
  {
   "cell_type": "code",
   "execution_count": null,
   "metadata": {
    "colab": {
     "base_uri": "https://localhost:8080/",
     "height": 543
    },
    "id": "oeTtezkqynif",
    "outputId": "d9a23454-a81a-4fdc-dfec-019491c97e9f"
   },
   "outputs": [],
   "source": [
    " twint.storage.panda.Tweets_df.head()"
   ]
  },
  {
   "cell_type": "code",
   "execution_count": null,
   "metadata": {
    "colab": {
     "base_uri": "https://localhost:8080/"
    },
    "id": "6_L9yjnO02El",
    "outputId": "41b151ad-13e8-425b-fb27-56280b46057b"
   },
   "outputs": [],
   "source": [
    "twint.storage.panda.Tweets_df.count()"
   ]
  },
  {
   "cell_type": "code",
   "execution_count": null,
   "metadata": {
    "colab": {
     "base_uri": "https://localhost:8080/"
    },
    "id": "3vJFBGXW07ml",
    "outputId": "d6db66f1-2f6e-4e51-e5ec-4eb7d778fc4f"
   },
   "outputs": [],
   "source": [
    "twint.storage.panda.Tweets_df['tweet'].count()"
   ]
  },
  {
   "cell_type": "code",
   "execution_count": null,
   "metadata": {
    "colab": {
     "base_uri": "https://localhost:8080/",
     "height": 53
    },
    "id": "C21ngLJM0_s_",
    "outputId": "9182d2d4-ede7-446e-8e1b-c33aecf5eb34"
   },
   "outputs": [],
   "source": [
    "twint.storage.panda.Tweets_df['tweet'][10]"
   ]
  },
  {
   "cell_type": "code",
   "execution_count": null,
   "metadata": {
    "colab": {
     "base_uri": "https://localhost:8080/"
    },
    "id": "yJJC7e79Nzu7",
    "outputId": "09051249-63a7-400f-ae18-ab4d4a715ab9"
   },
   "outputs": [],
   "source": [
    "!ls"
   ]
  },
  {
   "cell_type": "code",
   "execution_count": null,
   "metadata": {
    "colab": {
     "base_uri": "https://localhost:8080/"
    },
    "id": "j41m4NJw2YRM",
    "outputId": "f6cb9b93-9ba1-48fc-f5eb-653b7d8958fc"
   },
   "outputs": [],
   "source": [
    "twint.storage.panda.Tweets_df.to_csv('artificial intelligence.csv')\n",
    "!cp 'artificial intelligence.csv' \"gdrive/My Drive/covertsniper/artificial intelligence.csv\""
   ]
  },
  {
   "cell_type": "code",
   "execution_count": null,
   "metadata": {
    "id": "0P7_Dw7ore_F"
   },
   "outputs": [],
   "source": [
    "%rm 'artificial intelligence.csv'"
   ]
  },
  {
   "cell_type": "code",
   "execution_count": null,
   "metadata": {
    "id": "AAMKlIxpfDg_"
   },
   "outputs": [],
   "source": [
    "df = pd.DataFrame(twint.storage.panda.Tweets_df['tweet'])"
   ]
  },
  {
   "cell_type": "code",
   "execution_count": null,
   "metadata": {
    "colab": {
     "base_uri": "https://localhost:8080/",
     "height": 206
    },
    "id": "CknpdWq0fDeQ",
    "outputId": "e68243ca-0453-4647-9c80-5f0d21eb67f9"
   },
   "outputs": [],
   "source": [
    "df.head()"
   ]
  },
  {
   "cell_type": "code",
   "execution_count": null,
   "metadata": {
    "colab": {
     "base_uri": "https://localhost:8080/"
    },
    "id": "zr4j2DsdfDbk",
    "outputId": "4bb08002-4aae-45f6-e73f-47ca3d72493f"
   },
   "outputs": [],
   "source": [
    "df.shape"
   ]
  },
  {
   "cell_type": "code",
   "execution_count": null,
   "metadata": {
    "colab": {
     "base_uri": "https://localhost:8080/"
    },
    "id": "XE6VosJGfDVB",
    "outputId": "6f1c214a-417d-4acb-9d1d-d5d7cbeaa5fb"
   },
   "outputs": [],
   "source": [
    "df.info()"
   ]
  },
  {
   "cell_type": "code",
   "execution_count": null,
   "metadata": {
    "colab": {
     "base_uri": "https://localhost:8080/"
    },
    "id": "cfhH-9LMfDSR",
    "outputId": "bcf55a76-18ae-4e6e-8c41-b6b6e424dc8a"
   },
   "outputs": [],
   "source": [
    "df['tweet'].isnull().sum()"
   ]
  },
  {
   "cell_type": "code",
   "execution_count": null,
   "metadata": {
    "id": "dwz1pAoDgOlC"
   },
   "outputs": [],
   "source": [
    "import re"
   ]
  },
  {
   "cell_type": "code",
   "execution_count": null,
   "metadata": {
    "id": "OYws1u58fDP7"
   },
   "outputs": [],
   "source": [
    "def myfunc(text):\n",
    "    # Removing Square Brackets and Extra Spaces\n",
    "    text = re.sub(r'\\[[0-9]*\\]', ' ', text)\n",
    "    # Removing hashtags\n",
    "    text = re.sub(r'#\\w+', ' ', text)\n",
    "    # Removing brackets\n",
    "    text = re.sub(r'&lt;', ' ', text)\n",
    "    text = re.sub(r'&gt;', ' ', text)\n",
    "    # Removing usertags\n",
    "    text = re.sub(r'\\@\\w+', ' ', text)\n",
    "    # Removing links\n",
    "    text = re.sub(r'https://(\\w+)(\\.\\w+)*(\\.)(\\w){2,3}(/)*(\\w|\\d)*', ' ', text)\n",
    "    #any whitespace character \\s+\n",
    "    text = re.sub(r'\\s+', ' ', text)\n",
    "    # Removing special characters and digits\n",
    "    formatted_text = re.sub('[^a-zA-Z]', ' ', text )\n",
    "    #any whitespace character \\s+\n",
    "    formatted_text = re.sub(r'\\s+', ' ', formatted_text)\n",
    "    return formatted_text"
   ]
  },
  {
   "cell_type": "code",
   "execution_count": null,
   "metadata": {
    "id": "QbWPhMd-orFe"
   },
   "outputs": [],
   "source": [
    "df['clean_tweets'] = df['tweet'].apply(myfunc)"
   ]
  },
  {
   "cell_type": "code",
   "execution_count": null,
   "metadata": {
    "id": "GLOuvbuNfDNa"
   },
   "outputs": [],
   "source": [
    "# clean_users(twint.storage.panda.Tweets_df['tweet'][10])"
   ]
  },
  {
   "cell_type": "code",
   "execution_count": null,
   "metadata": {
    "id": "p5ks6YQbfDLJ"
   },
   "outputs": [],
   "source": [
    "# clean_strings(twint.storage.panda.Tweets_df['tweet'][11])"
   ]
  },
  {
   "cell_type": "code",
   "execution_count": null,
   "metadata": {
    "id": "3f_fFDN4ht2M"
   },
   "outputs": [],
   "source": [
    "# df['clean_tweets'] = df['tweet'].apply(clean_users)\n",
    "# df['clean_tweets'] = df['tweet'].apply(clean_strings)\n",
    "# df['clean_tweets'] = df['tweet'].apply(clean_hashtags)"
   ]
  },
  {
   "cell_type": "code",
   "execution_count": null,
   "metadata": {
    "colab": {
     "base_uri": "https://localhost:8080/",
     "height": 206
    },
    "id": "RA32RvkChtzd",
    "outputId": "b9a426f4-4723-4d53-bf27-22e98cd05883"
   },
   "outputs": [],
   "source": [
    "df.head()"
   ]
  },
  {
   "cell_type": "code",
   "execution_count": null,
   "metadata": {
    "colab": {
     "base_uri": "https://localhost:8080/",
     "height": 70
    },
    "id": "k4N2h1OvpQop",
    "outputId": "f1fb123a-f37a-4ac6-8c0d-f8c4bf40ffad"
   },
   "outputs": [],
   "source": [
    "df['tweet'][0]"
   ]
  },
  {
   "cell_type": "code",
   "execution_count": null,
   "metadata": {
    "colab": {
     "base_uri": "https://localhost:8080/",
     "height": 53
    },
    "id": "oSFfl0g1htwd",
    "outputId": "42cd4b3f-f1bf-4c78-e05c-ebf1ae006874"
   },
   "outputs": [],
   "source": [
    "df['clean_tweets'][0]"
   ]
  },
  {
   "cell_type": "code",
   "execution_count": null,
   "metadata": {
    "id": "Shx0Mesqhttr"
   },
   "outputs": [],
   "source": [
    "import numpy as np\n",
    "import pandas as pd\n",
    "\n",
    "from wordcloud import WordCloud\n",
    "from sklearn.feature_extraction.text import CountVectorizer\n",
    "\n",
    "import matplotlib.pyplot as plt"
   ]
  },
  {
   "cell_type": "code",
   "execution_count": null,
   "metadata": {
    "colab": {
     "base_uri": "https://localhost:8080/",
     "height": 635
    },
    "id": "6HIlfJ_5htop",
    "outputId": "3002b997-e147-492f-c0da-494c11a3d327"
   },
   "outputs": [],
   "source": [
    "# plot the Wordscloud\n",
    "\n",
    "cv = CountVectorizer(stop_words = 'english')\n",
    "words = cv.fit_transform(df.clean_tweets)\n",
    "sum_words = words.sum(axis=0)\n",
    "\n",
    "words_freq = [(word, sum_words[0, idx]) for word, idx in cv.vocabulary_.items()]\n",
    "words_freq = sorted(words_freq, key = lambda x: x[1], reverse = True)\n",
    "\n",
    "wordcloud = WordCloud(background_color = 'lightcyan', width = 2000, height = 2000).generate_from_frequencies(dict(words_freq))\n",
    "\n",
    "plt.style.use('fivethirtyeight')\n",
    "plt.figure(figsize=(10, 10))\n",
    "plt.axis('off')\n",
    "plt.imshow(wordcloud)\n",
    "plt.title(\"Ai from Twitter\", fontsize = 20)\n",
    "plt.show()"
   ]
  },
  {
   "cell_type": "markdown",
   "metadata": {
    "id": "xKrB6Jtb8g0R"
   },
   "source": [
    "# <font color=\"green\" /> *** Configuration To Scrape A Username ***\n",
    "<br />\n",
    "\n",
    "#### <font color=\"orange\" /> *Config for Username*:\n",
    "\n",
    "```\n",
    "c = twint.Config()\n",
    "c.Pandas = True\n",
    "c.Username = \"Type Username\"\n",
    "c.Limit = 1250\n",
    "c.Since = \"2022-01-01\"\n",
    "c.Until = \"2022-05-20\"\n",
    "c.Store_csv = True\n",
    "```\n",
    "\n",
    "Using the 'c.Username = \"username\" directive, you can search specific users on Twitter.\n",
    "\n",
    "<br />\n",
    "\n",
    "<font color=\"orange\" /> E.g.:\n",
    "```\n",
    "c.Username = \"martin lawrence\"\n",
    "```\n",
    "<br />\n",
    "\n",
    "# <font color=\"FF0000\" /> *** Scraping User Data With A Username ***\n",
    "\n",
    "<br />\n",
    "\n",
    "\n"
   ]
  },
  {
   "cell_type": "code",
   "execution_count": null,
   "metadata": {
    "id": "R0bkzg2e8qkV"
   },
   "outputs": [],
   "source": [
    "# c = twint.Config()\n",
    "# c.Pandas = True\n",
    "# c.Username = \"knowledge\"\n",
    "# c.Limit = 1250\n",
    "# c.Since = \"2022-01-01\"\n",
    "# c.Until = \"2022-05-20\"\n",
    "# c.Store_csv = True"
   ]
  },
  {
   "cell_type": "code",
   "execution_count": null,
   "metadata": {
    "id": "PdQ9bpVH9jtz"
   },
   "outputs": [],
   "source": [
    "# twint.run.Search(c)"
   ]
  },
  {
   "cell_type": "code",
   "execution_count": null,
   "metadata": {
    "id": "_HM7kmMk93FL"
   },
   "outputs": [],
   "source": [
    "# twint.storage.panda.Tweets_df['tweet'].count()"
   ]
  },
  {
   "cell_type": "code",
   "execution_count": null,
   "metadata": {
    "id": "TdM4OGY8-M9i"
   },
   "outputs": [],
   "source": [
    "# twint.storage.panda.Tweets_df['tweet'][122]"
   ]
  },
  {
   "cell_type": "code",
   "execution_count": null,
   "metadata": {
    "id": "TKjsworjrQao"
   },
   "outputs": [],
   "source": [
    "# twint.storage.panda.Tweets_df.to_csv('username.csv')\n",
    "# !cp 'username.csv' \"gdrive/My Drive/covertsniper/username.csv\""
   ]
  },
  {
   "cell_type": "markdown",
   "metadata": {
    "id": "0N4TZ1z3puJo"
   },
   "source": [
    "# <font color=\"FF0000\" />:=--{*** *TWINT CONFIGURATION CODE* ***}--=:\n",
    "\n",
    "### Also, don't mind about the c.Username argument or c.Geo argument.<br />\n",
    "Since those are only for searching a specific user E.g.: (c.Username = \"username\").\n",
    "<br />Or, Geotags E.g.: (c.Geo = \"51.5, -0.127, 15km\").\n",
    "\n",
    "```\n",
    "c = twint.Config()\n",
    "c.Pandas = True\n",
    "c.Store_csv = True\n",
    "c.Search = \"knowledge wealthy\"\n",
    "#c.Username = \"username\"\n",
    "#c.Geo = \"51.5, -0.127, 15km\"\n",
    "c.Limit = 1250\n",
    "c.Since = \"2022-04-26\"\n",
    "c.Until = \"2022-07-26\"\n",
    "c.Lang = 'en'```\n",
    "```\n",
    "```\n",
    "twint.run.Search(c)\n",
    "```\n",
    "```\n",
    "twint.storage.panda.Tweets_df['tweet'].count()\n",
    "\n",
    "```\n",
    "```\n",
    "twint.storage.panda.Tweets_df['tweet'][122]\n",
    "\n",
    "```\n",
    "```\n",
    "twint.storage.panda.Tweets_df.to_csv('knowledge wealthy.csv')\n",
    "!mv 'knowledge wealthy.csv' \"gdrive/My Drive/covertsniper/knowledge wealthy.csv\"\n",
    "```\n",
    "<br />\n",
    "\n",
    "#<font color=\"FF0000\" />*** *CUSTOM SCRAPE* ***\n",
    "\n",
    "<br />"
   ]
  },
  {
   "cell_type": "code",
   "execution_count": null,
   "metadata": {
    "id": "jR4CnluEp1_c"
   },
   "outputs": [],
   "source": [
    "# c = twint.Config()\n",
    "# c.Pandas = True\n",
    "# c.Store_csv = True\n",
    "# c.Search = \"knowledge wealthy\"\n",
    "# #c.Username = \"username\"\n",
    "# #c.Geo = \"51.5, -0.127, 15km\"\n",
    "# c.Limit = 1250\n",
    "# c.Since = \"2022-04-26\"\n",
    "# c.Until = \"2022-07-26\"\n",
    "# c.Lang = 'en'"
   ]
  },
  {
   "cell_type": "code",
   "execution_count": null,
   "metadata": {
    "id": "nrsNFlNzqr2Y"
   },
   "outputs": [],
   "source": [
    "# twint.run.Search(c)"
   ]
  },
  {
   "cell_type": "code",
   "execution_count": null,
   "metadata": {
    "id": "FtHSnhkVeEBk"
   },
   "outputs": [],
   "source": []
  },
  {
   "cell_type": "code",
   "execution_count": null,
   "metadata": {
    "id": "pMpz22CfeD_N"
   },
   "outputs": [],
   "source": []
  },
  {
   "cell_type": "code",
   "execution_count": null,
   "metadata": {
    "id": "XrAxCMi0eD8q"
   },
   "outputs": [],
   "source": []
  },
  {
   "cell_type": "code",
   "execution_count": null,
   "metadata": {
    "id": "vprz_MKLeD6E"
   },
   "outputs": [],
   "source": []
  },
  {
   "cell_type": "code",
   "execution_count": null,
   "metadata": {
    "id": "tC3PQwjSeD3E"
   },
   "outputs": [],
   "source": []
  },
  {
   "cell_type": "code",
   "execution_count": null,
   "metadata": {
    "id": "xvCVqFcFeD0P"
   },
   "outputs": [],
   "source": []
  },
  {
   "cell_type": "code",
   "execution_count": null,
   "metadata": {
    "id": "vOyPC4ETqyhL"
   },
   "outputs": [],
   "source": [
    "# twint.storage.panda.Tweets_df['tweet'].count()"
   ]
  },
  {
   "cell_type": "code",
   "execution_count": null,
   "metadata": {
    "id": "EifORRE3q2SN"
   },
   "outputs": [],
   "source": [
    "# twint.storage.panda.Tweets_df['tweet'][122]"
   ]
  },
  {
   "cell_type": "code",
   "execution_count": null,
   "metadata": {
    "id": "XLOFWmGdq97s"
   },
   "outputs": [],
   "source": [
    "# twint.storage.panda.Tweets_df.to_csv('knowledge wealthy.csv')\n",
    "# !mv 'knowledge wealthy.csv' \"gdrive/My Drive/covertsniper/knowledge wealthy.csv\""
   ]
  },
  {
   "cell_type": "markdown",
   "metadata": {
    "id": "GDjVAAXYuRi4"
   },
   "source": [
    "# <font color=\"green\" /> *** Configuration Geo Tag Scraping ***\n",
    "\n",
    "You can scrape geotags with the c.Geo command.\n",
    "\n",
    "<br />\n",
    "\n",
    "<font color=\"orange\" /> Example:\n",
    "```\n",
    "c = twint.Config()\n",
    "c.Pandas = True\n",
    "c.Geo = \"51.5, -0.127, 15km\"\n",
    "c.Limit = 1250\n",
    "c.Search = \"bitcoin\"\n",
    "c.Since = \"2022-04-26\"\n",
    "c.Until = \"2022-07-26\"\n",
    "c.Store_csv = True\n",
    "```\n",
    "<br />\n",
    "\n",
    "<font color=\"orange\" /> E.g:\n",
    "```\n",
    "c.Geo = \"51.5, -0.127, 15km\"\n",
    "```\n",
    "\n",
    "<br />\n",
    "#<font color='FF0000'>*** Scraping Geo Tag Data ***\n",
    "<br />"
   ]
  },
  {
   "cell_type": "code",
   "execution_count": null,
   "metadata": {
    "id": "ZJj8Dl5_uY9L"
   },
   "outputs": [],
   "source": [
    "# c = twint.Config()\n",
    "# c.Pandas = True\n",
    "# c.Geo = \"51.5, -0.127, 15km\"\n",
    "# c.Limit = 1250\n",
    "# c.Search = \"bitcoin\"\n",
    "# c.Since = \"2022-04-26\"\n",
    "# c.Until = \"2022-07-26\"\n",
    "# c.Store_csv = True"
   ]
  },
  {
   "cell_type": "code",
   "execution_count": null,
   "metadata": {
    "id": "dWFTD3PEwykU"
   },
   "outputs": [],
   "source": [
    "# twint.run.Search(c)"
   ]
  },
  {
   "cell_type": "code",
   "execution_count": null,
   "metadata": {
    "id": "fw7kR_0PxQ5C"
   },
   "outputs": [],
   "source": [
    "# twint.storage.panda.Tweets_df['tweet'].count()"
   ]
  },
  {
   "cell_type": "code",
   "execution_count": null,
   "metadata": {
    "id": "60KkIycPyOfT"
   },
   "outputs": [],
   "source": [
    "# twint.storage.panda.Tweets_df.head()"
   ]
  },
  {
   "cell_type": "code",
   "execution_count": null,
   "metadata": {
    "id": "I3VarPxuyZcx"
   },
   "outputs": [],
   "source": [
    "# twint.storage.panda.Tweets_df['tweet'][100]"
   ]
  }
 ],
 "metadata": {
  "colab": {
   "collapsed_sections": [],
   "name": "twitscar.ipynb",
   "provenance": []
  },
  "kernelspec": {
   "display_name": "Python 3 (ipykernel)",
   "language": "python",
   "name": "python3"
  },
  "language_info": {
   "codemirror_mode": {
    "name": "ipython",
    "version": 3
   },
   "file_extension": ".py",
   "mimetype": "text/x-python",
   "name": "python",
   "nbconvert_exporter": "python",
   "pygments_lexer": "ipython3",
   "version": "3.9.12"
  }
 },
 "nbformat": 4,
 "nbformat_minor": 1
}
