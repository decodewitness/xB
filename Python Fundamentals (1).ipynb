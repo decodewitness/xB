{
 "cells": [
  {
   "cell_type": "markdown",
   "id": "8ec1a031",
   "metadata": {},
   "source": [
    "* This is a marked up text\n",
    "\n",
    "This is normal text\n",
    "\n",
    "# big heading\n",
    "##\n",
    "####\n",
    "##### smallest heading\n",
    "\n",
    "* Shift + Enter = Run the cell\n",
    "* Ctrl + Enter = Run the cell as well\n",
    "\n",
    "* Variables are case-sensitive, they can't start with a number, and can't contain special characters.\n",
    "* Variables can only contain alphanumeric characters and underscores.\n"
   ]
  },
  {
   "cell_type": "code",
   "execution_count": 2,
   "id": "123b6ed6",
   "metadata": {},
   "outputs": [],
   "source": [
    "a = 85\n",
    "b = 75\n",
    "c = 25"
   ]
  },
  {
   "cell_type": "code",
   "execution_count": 3,
   "id": "c951ce10",
   "metadata": {},
   "outputs": [
    {
     "data": {
      "text/plain": [
       "85"
      ]
     },
     "execution_count": 3,
     "metadata": {},
     "output_type": "execute_result"
    }
   ],
   "source": [
    "a"
   ]
  },
  {
   "cell_type": "code",
   "execution_count": 4,
   "id": "93a7cfe8",
   "metadata": {},
   "outputs": [
    {
     "data": {
      "text/plain": [
       "75"
      ]
     },
     "execution_count": 4,
     "metadata": {},
     "output_type": "execute_result"
    }
   ],
   "source": [
    "b"
   ]
  },
  {
   "cell_type": "code",
   "execution_count": 5,
   "id": "1bea3db4",
   "metadata": {},
   "outputs": [
    {
     "data": {
      "text/plain": [
       "25"
      ]
     },
     "execution_count": 5,
     "metadata": {},
     "output_type": "execute_result"
    }
   ],
   "source": [
    "c"
   ]
  },
  {
   "cell_type": "code",
   "execution_count": 8,
   "id": "f83b0b29",
   "metadata": {},
   "outputs": [],
   "source": [
    "data = 2\n",
    "_data = 4"
   ]
  },
  {
   "cell_type": "markdown",
   "id": "f4a6b1ae",
   "metadata": {},
   "source": [
    "## you can assign multiple variables on one line."
   ]
  },
  {
   "cell_type": "code",
   "execution_count": 9,
   "id": "6558b596",
   "metadata": {},
   "outputs": [],
   "source": [
    "a,b,c,d,e,f,g,h,i,j = 100, 200,'string', 89,'value','other', 'values', 8, 99, 33"
   ]
  },
  {
   "cell_type": "markdown",
   "id": "b3a1bc60",
   "metadata": {},
   "source": [
    "## checking data types"
   ]
  },
  {
   "cell_type": "code",
   "execution_count": 12,
   "id": "a9e2de7a",
   "metadata": {},
   "outputs": [
    {
     "data": {
      "text/plain": [
       "str"
      ]
     },
     "execution_count": 12,
     "metadata": {},
     "output_type": "execute_result"
    }
   ],
   "source": [
    "type(a)\n",
    "type(c)"
   ]
  },
  {
   "cell_type": "code",
   "execution_count": 15,
   "id": "a0428a58",
   "metadata": {},
   "outputs": [
    {
     "data": {
      "text/plain": [
       "'10'"
      ]
     },
     "execution_count": 15,
     "metadata": {},
     "output_type": "execute_result"
    }
   ],
   "source": [
    "x=10\n",
    "x = str(x)\n",
    "x"
   ]
  },
  {
   "cell_type": "code",
   "execution_count": 16,
   "id": "1141a830",
   "metadata": {},
   "outputs": [
    {
     "data": {
      "text/plain": [
       "str"
      ]
     },
     "execution_count": 16,
     "metadata": {},
     "output_type": "execute_result"
    }
   ],
   "source": [
    "type(x)"
   ]
  },
  {
   "cell_type": "code",
   "execution_count": 18,
   "id": "2c934586",
   "metadata": {},
   "outputs": [],
   "source": [
    "#ninja trick\n",
    "def func1():\n",
    "    global y\n",
    "    y = 7\n",
    "    print(y)"
   ]
  },
  {
   "cell_type": "code",
   "execution_count": 19,
   "id": "125f79d6",
   "metadata": {},
   "outputs": [
    {
     "name": "stdout",
     "output_type": "stream",
     "text": [
      "7\n"
     ]
    }
   ],
   "source": [
    "func1()"
   ]
  }
 ],
 "metadata": {
  "kernelspec": {
   "display_name": "Python 3",
   "language": "python",
   "name": "python3"
  },
  "language_info": {
   "codemirror_mode": {
    "name": "ipython",
    "version": 3
   },
   "file_extension": ".py",
   "mimetype": "text/x-python",
   "name": "python",
   "nbconvert_exporter": "python",
   "pygments_lexer": "ipython3",
   "version": "3.6.8"
  }
 },
 "nbformat": 4,
 "nbformat_minor": 5
}
