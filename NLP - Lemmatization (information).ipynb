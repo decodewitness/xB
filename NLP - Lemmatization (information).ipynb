{
 "cells": [
  {
   "cell_type": "markdown",
   "id": "5af1fda1",
   "metadata": {},
   "source": [
    "# NLP - Lemmatization\n",
    "\n",
    "* Lemmatization reduces the word to its dictionary form. The root word in lemmatization is called \"lemma\".\n",
    "\n",
    "* We have two words: \"good\" and \"better\".\n",
    "    * Lemmatization reduce them to the same root word \"good\".\n",
    "\n",
    "* You need a POS tagger for lemmatization.\n",
    "\n",
    "\n",
    "Difference between Stemming & Lemmatization:\n",
    "\n",
    "* Algorithms used in stemming process don't know the meaning behind the words.\n",
    "\n",
    "* Algorithms used in lemmatization process refer to a dictionary to understand the meaning of the word before chopping it off.\n"
   ]
  }
 ],
 "metadata": {
  "kernelspec": {
   "display_name": "Python 3",
   "language": "python",
   "name": "python3"
  },
  "language_info": {
   "codemirror_mode": {
    "name": "ipython",
    "version": 3
   },
   "file_extension": ".py",
   "mimetype": "text/x-python",
   "name": "python",
   "nbconvert_exporter": "python",
   "pygments_lexer": "ipython3",
   "version": "3.6.8"
  }
 },
 "nbformat": 4,
 "nbformat_minor": 5
}
