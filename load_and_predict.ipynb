{
 "cells": [
  {
   "cell_type": "code",
   "execution_count": null,
   "id": "bd2a8299",
   "metadata": {},
   "outputs": [],
   "source": [
    "import tenserflow as tf"
   ]
  },
  {
   "cell_type": "code",
   "execution_count": null,
   "id": "dfae725f",
   "metadata": {},
   "outputs": [],
   "source": [
    "model = tf.keras.models.load_model('sentiment_model')"
   ]
  },
  {
   "cell_type": "code",
   "execution_count": null,
   "id": "06098a9d",
   "metadata": {},
   "outputs": [],
   "source": [
    "from transformers import BertTokenizer"
   ]
  },
  {
   "cell_type": "code",
   "execution_count": null,
   "id": "0156a21b",
   "metadata": {},
   "outputs": [],
   "source": [
    "tokenizer = BertTokenizer.from_pretrained('bert-base-cased')"
   ]
  },
  {
   "cell_type": "code",
   "execution_count": null,
   "id": "49ede056",
   "metadata": {},
   "outputs": [],
   "source": [
    "def prep_data(text):\n",
    "    tokens = tokenizer(text, max_length=512, truncation=True,\n",
    "                      padding='max_length', add_special_tokens=True,\n",
    "                      return_tensors='tf')\n",
    "    return {'input_ids': tokens['input_ids'],\n",
    "            'attention_mask': tokens['attention_mask']}"
   ]
  },
  {
   "cell_type": "code",
   "execution_count": null,
   "id": "075b77e3",
   "metadata": {},
   "outputs": [],
   "source": [
    "prep_data('hello world')"
   ]
  },
  {
   "cell_type": "code",
   "execution_count": null,
   "id": "0377b983",
   "metadata": {},
   "outputs": [],
   "source": [
    "probs = model.predict(prep_data('hello world'))\n",
    "\n",
    "probs"
   ]
  },
  {
   "cell_type": "code",
   "execution_count": null,
   "id": "83f08792",
   "metadata": {},
   "outputs": [],
   "source": [
    "import numpy as np"
   ]
  },
  {
   "cell_type": "code",
   "execution_count": null,
   "id": "459c2050",
   "metadata": {},
   "outputs": [],
   "source": [
    "np.argmax(probs)"
   ]
  },
  {
   "cell_type": "code",
   "execution_count": null,
   "id": "02a10469",
   "metadata": {},
   "outputs": [],
   "source": [
    "probs = model.predict(prep_data('this movie was amazing'))\n",
    "\n",
    "np.argmax(probs)"
   ]
  },
  {
   "cell_type": "code",
   "execution_count": null,
   "id": "ed5c1bbc",
   "metadata": {},
   "outputs": [],
   "source": [
    "probs = model.predict(prep_data('this movie was terrible'))\n",
    "\n",
    "np.argmax(probs)"
   ]
  },
  {
   "cell_type": "code",
   "execution_count": null,
   "id": "c3944142",
   "metadata": {},
   "outputs": [],
   "source": [
    "import pandas as pd"
   ]
  },
  {
   "cell_type": "code",
   "execution_count": null,
   "id": "123853e6",
   "metadata": {},
   "outputs": [],
   "source": [
    "pd.set_option('display.max_colwidth', None)"
   ]
  },
  {
   "cell_type": "code",
   "execution_count": null,
   "id": "eca8bc09",
   "metadata": {},
   "outputs": [],
   "source": [
    "df = pd.read_csv('test.tsv', sep='\\t')\n",
    "df.head()"
   ]
  },
  {
   "cell_type": "code",
   "execution_count": null,
   "id": "ece1ffa0",
   "metadata": {},
   "outputs": [],
   "source": [
    "df = df.drop_duplicates(subset=['SentenceId'], keep='first')\n",
    "df.head()"
   ]
  },
  {
   "cell_type": "code",
   "execution_count": null,
   "id": "a1088f1f",
   "metadata": {},
   "outputs": [],
   "source": [
    "df['Sentiment'] = None"
   ]
  },
  {
   "cell_type": "code",
   "execution_count": null,
   "id": "c6a40f31",
   "metadata": {},
   "outputs": [],
   "source": [
    "for i, row in df.iterrows():\n",
    "    tokens = prep_data(row['Phrase'])\n",
    "    probs = model.predict(tokens)\n",
    "    pred = np.argmax(probs)\n",
    "    df.at[i, 'Sentiment'] = pred"
   ]
  },
  {
   "cell_type": "code",
   "execution_count": null,
   "id": "f6c9a8c4",
   "metadata": {},
   "outputs": [],
   "source": [
    "df.head()"
   ]
  },
  {
   "cell_type": "code",
   "execution_count": null,
   "id": "ea168422",
   "metadata": {},
   "outputs": [],
   "source": [
    "df.tail()"
   ]
  }
 ],
 "metadata": {
  "kernelspec": {
   "display_name": "Python 3 (ipykernel)",
   "language": "python",
   "name": "python3"
  },
  "language_info": {
   "codemirror_mode": {
    "name": "ipython",
    "version": 3
   },
   "file_extension": ".py",
   "mimetype": "text/x-python",
   "name": "python",
   "nbconvert_exporter": "python",
   "pygments_lexer": "ipython3",
   "version": "3.8.5"
  }
 },
 "nbformat": 4,
 "nbformat_minor": 5
}
