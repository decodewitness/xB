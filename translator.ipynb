{
 "cells": [
  {
   "cell_type": "markdown",
   "id": "1356037d",
   "metadata": {},
   "source": [
    "### Universal Translator\n",
    "\n",
    "https://www.youtube.com/watch?v=raHennL0cA4"
   ]
  },
  {
   "cell_type": "markdown",
   "id": "52d635df",
   "metadata": {},
   "source": [
    "### Imports"
   ]
  },
  {
   "cell_type": "code",
   "execution_count": null,
   "id": "8c753ce2",
   "metadata": {},
   "outputs": [],
   "source": [
    "# !pip install speechrecognition\n",
    "# !pip install gtts\n",
    "# !pip install translators\n",
    "# !pip install playsound"
   ]
  },
  {
   "cell_type": "code",
   "execution_count": 1,
   "id": "690c8e62",
   "metadata": {},
   "outputs": [
    {
     "name": "stderr",
     "output_type": "stream",
     "text": [
      "Using state Utrecht server backend.\n"
     ]
    }
   ],
   "source": [
    "import speech_recognition as sr\n",
    "from gtts import gTTS\n",
    "import playsound\n",
    "import translators as ts\n",
    "import os"
   ]
  },
  {
   "cell_type": "code",
   "execution_count": null,
   "id": "295a5bb6",
   "metadata": {},
   "outputs": [],
   "source": [
    "# English - Hindi\n",
    "# German - Russian\n",
    "# English - Spanish"
   ]
  },
  {
   "cell_type": "markdown",
   "id": "1a69b6dc",
   "metadata": {},
   "source": [
    "### Code"
   ]
  },
  {
   "cell_type": "code",
   "execution_count": 2,
   "id": "545b5e09",
   "metadata": {},
   "outputs": [],
   "source": [
    "# SPEECH TO TEXT\n",
    "\n",
    "# convert speech to text - English\n",
    "def melania_listen_en():\n",
    "    # create recognizer\n",
    "    r = sr.Recognizer()\n",
    "    \n",
    "    with sr.Microphone() as source:\n",
    "        # use the listen function to listen from microphone\n",
    "        audio = r.listen(source)\n",
    "        text = r.recognize_google(audio, language='en')\n",
    "        \n",
    "    text = text.lower()\n",
    "    return text\n",
    "\n",
    "# convert speech to text - German\n",
    "def melania_listen_de():\n",
    "    # create recognizer\n",
    "    r = sr.Recognizer()\n",
    "    \n",
    "    with sr.Microphone() as source:\n",
    "        # use the listen function to listen from microphone\n",
    "        audio = r.listen(source)\n",
    "        text = r.recognize_google(audio, language='de')\n",
    "        \n",
    "    text = text.lower()\n",
    "    return text\n",
    "\n",
    "# convert speech to text - Spanish\n",
    "def melania_listen_es():\n",
    "    # create recognizer\n",
    "    r = sr.Recognizer()\n",
    "    \n",
    "    with sr.Microphone() as source:\n",
    "        # use the listen function to listen from microphone\n",
    "        audio = r.listen(source)\n",
    "        text = r.recognize_google(audio, language='es')\n",
    "        \n",
    "    text = text.lower()\n",
    "    return text\n",
    "\n",
    "# convert speech to text - German\n",
    "def melania_listen_hi():\n",
    "    # create recognizer\n",
    "    r = sr.Recognizer()\n",
    "    \n",
    "    with sr.Microphone() as source:\n",
    "        # use the listen function to listen from microphone\n",
    "        audio = r.listen(source)\n",
    "        text = r.recognize_google(audio, language='hi')\n",
    "        \n",
    "    text = text.lower()\n",
    "    return text\n",
    "\n",
    "\n",
    "# TEXT TO SPEECH\n",
    "\n",
    "\n",
    "# convert text to speech - English\n",
    "def melania_talk_en(text):\n",
    "    # create audio file\n",
    "    filename = 'audio_data.mp3'\n",
    "    # convert text to speech\n",
    "    tts = gTTS(text=text, lang='en')\n",
    "    # save file\n",
    "    tts.save(filename)\n",
    "    # play file\n",
    "    playsound.playsound(filename)\n",
    "    # remove file\n",
    "    os.remove(filename)\n",
    "    \n",
    "# convert text to speech - German\n",
    "def melania_talk_de(text):\n",
    "    # create audio file\n",
    "    filename = 'audio_data.mp3'\n",
    "    # convert text to speech\n",
    "    tts = gTTS(text=text, lang='de')\n",
    "    # save file\n",
    "    tts.save(filename)\n",
    "    # play file\n",
    "    playsound.playsound(filename)\n",
    "    # remove file\n",
    "    os.remove(filename)\n",
    "              \n",
    "# convert text to speech - Spanish\n",
    "def melania_talk_es(text):\n",
    "    # create audio file\n",
    "    filename = 'audio_data.mp3'\n",
    "    # convert text to speech\n",
    "    tts = gTTS(text=text, lang='es')\n",
    "    # save file\n",
    "    tts.save(filename)\n",
    "    # play file\n",
    "    playsound.playsound(filename)\n",
    "    # remove file\n",
    "    os.remove(filename)\n",
    "              \n",
    "# convert text to speech - Hindi\n",
    "def melania_talk_hi(text):\n",
    "    # create audio file\n",
    "    filename = 'audio_data.mp3'\n",
    "    # convert text to speech\n",
    "    tts = gTTS(text=text, lang='hi')\n",
    "    # save file\n",
    "    tts.save(filename)\n",
    "    # play file\n",
    "    playsound.playsound(filename)\n",
    "    # remove file\n",
    "    os.remove(filename)"
   ]
  },
  {
   "cell_type": "markdown",
   "id": "fef1ddb0",
   "metadata": {},
   "source": [
    "### Execution"
   ]
  },
  {
   "cell_type": "code",
   "execution_count": null,
   "id": "d30dec41",
   "metadata": {},
   "outputs": [],
   "source": [
    "i = melania_listen_en()\n",
    "print(i)"
   ]
  },
  {
   "cell_type": "code",
   "execution_count": null,
   "id": "8d51afb9",
   "metadata": {},
   "outputs": [],
   "source": [
    "melania_talk_en('Hi there. Nice to meet you')"
   ]
  }
 ],
 "metadata": {
  "kernelspec": {
   "display_name": "Python 3 (ipykernel)",
   "language": "python",
   "name": "python3"
  },
  "language_info": {
   "codemirror_mode": {
    "name": "ipython",
    "version": 3
   },
   "file_extension": ".py",
   "mimetype": "text/x-python",
   "name": "python",
   "nbconvert_exporter": "python",
   "pygments_lexer": "ipython3",
   "version": "3.8.7"
  }
 },
 "nbformat": 4,
 "nbformat_minor": 5
}
