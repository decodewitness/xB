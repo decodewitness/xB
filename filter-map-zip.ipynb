{
 "cells": [
  {
   "cell_type": "code",
   "execution_count": 1,
   "id": "59dcf3fc",
   "metadata": {},
   "outputs": [],
   "source": [
    "# filter(function, iterable)\n",
    "# filter returns the filtered items from an iterable list\n",
    "\n",
    "score = [67,36,58,68,78,43]"
   ]
  },
  {
   "cell_type": "code",
   "execution_count": 2,
   "id": "6f6319dd",
   "metadata": {},
   "outputs": [],
   "source": [
    "def score_check(s):\n",
    "    if s>50:\n",
    "        return True\n",
    "    else:\n",
    "        return False"
   ]
  },
  {
   "cell_type": "code",
   "execution_count": 3,
   "id": "ca2dd31d",
   "metadata": {},
   "outputs": [
    {
     "name": "stdout",
     "output_type": "stream",
     "text": [
      "67\n",
      "58\n",
      "68\n",
      "78\n"
     ]
    }
   ],
   "source": [
    "students_passed = filter(score_check, score)\n",
    "for i in students_passed:\n",
    "    print(i)"
   ]
  },
  {
   "cell_type": "code",
   "execution_count": 4,
   "id": "86b9564f",
   "metadata": {},
   "outputs": [],
   "source": [
    "# map(function, iterable)\n",
    "# the map function executes a specified function for each item in an iterable. the item is sent to the function as parameter\n",
    "\n",
    "total_score = [365, 450, 290, 398, 270, 430]\n",
    "\n",
    "def percent(li):\n",
    "    ans = (li*100)/500\n",
    "    return ans\n"
   ]
  },
  {
   "cell_type": "code",
   "execution_count": 6,
   "id": "a1e15b28",
   "metadata": {},
   "outputs": [
    {
     "name": "stdout",
     "output_type": "stream",
     "text": [
      "[73.0, 90.0, 58.0, 79.6, 54.0, 86.0]\n"
     ]
    }
   ],
   "source": [
    "mapped_list = map(percent, total_score)\n",
    "print(list(mapped_list))"
   ]
  },
  {
   "cell_type": "code",
   "execution_count": 7,
   "id": "461b29ce",
   "metadata": {},
   "outputs": [
    {
     "data": {
      "text/plain": [
       "[('Rohan', 67), ('Amita', 34), ('Shushant', 78), ('Pawan', 85), ('Kiran', 65)]"
      ]
     },
     "execution_count": 7,
     "metadata": {},
     "output_type": "execute_result"
    }
   ],
   "source": [
    "# zip function returns a zip object which an iterator of tupls\n",
    "\n",
    "#list containing names\n",
    "student_names = ['Rohan', 'Amita', 'Shushant', 'Pawan', 'Kiran']\n",
    "\n",
    "#list containing marks students\n",
    "student_marks = [67,34,78,85,65]\n",
    "\n",
    "#zipping names and marks of students\n",
    "zipped_list = zip(student_names, student_marks)\n",
    "zipped_list = list(zipped_list)\n",
    "zipped_list"
   ]
  },
  {
   "cell_type": "code",
   "execution_count": 8,
   "id": "61e9e201",
   "metadata": {},
   "outputs": [
    {
     "name": "stdout",
     "output_type": "stream",
     "text": [
      "names =  ['Rohan', 'Amita', 'Shushant', 'Pawan', 'Kiran']\n",
      "marks =  [67, 34, 78, 85, 65]\n"
     ]
    }
   ],
   "source": [
    "#use * in the function to unzip the values\n",
    "student_names, student_marks = zip(*zipped_list)\n",
    "print('names = ', list(student_names))\n",
    "print('marks = ', list(student_marks))"
   ]
  }
 ],
 "metadata": {
  "kernelspec": {
   "display_name": "Python 3",
   "language": "python",
   "name": "python3"
  },
  "language_info": {
   "codemirror_mode": {
    "name": "ipython",
    "version": 3
   },
   "file_extension": ".py",
   "mimetype": "text/x-python",
   "name": "python",
   "nbconvert_exporter": "python",
   "pygments_lexer": "ipython3",
   "version": "3.6.8"
  }
 },
 "nbformat": 4,
 "nbformat_minor": 5
}
