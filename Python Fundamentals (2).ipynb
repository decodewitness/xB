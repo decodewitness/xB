{
 "cells": [
  {
   "cell_type": "markdown",
   "id": "6bbb8753",
   "metadata": {},
   "source": [
    "# power of operator"
   ]
  },
  {
   "cell_type": "code",
   "execution_count": 1,
   "id": "60c629ae",
   "metadata": {},
   "outputs": [
    {
     "data": {
      "text/plain": [
       "81"
      ]
     },
     "execution_count": 1,
     "metadata": {},
     "output_type": "execute_result"
    }
   ],
   "source": [
    "3**4"
   ]
  },
  {
   "cell_type": "markdown",
   "id": "0958e254",
   "metadata": {},
   "source": [
    "# floor operator"
   ]
  },
  {
   "cell_type": "code",
   "execution_count": 4,
   "id": "f79392b6",
   "metadata": {},
   "outputs": [
    {
     "data": {
      "text/plain": [
       "4"
      ]
     },
     "execution_count": 4,
     "metadata": {},
     "output_type": "execute_result"
    }
   ],
   "source": [
    "14//3"
   ]
  },
  {
   "cell_type": "markdown",
   "id": "e9ac4b50",
   "metadata": {},
   "source": [
    "# floor equal to operator"
   ]
  },
  {
   "cell_type": "code",
   "execution_count": 5,
   "id": "18c2647f",
   "metadata": {},
   "outputs": [
    {
     "data": {
      "text/plain": [
       "13"
      ]
     },
     "execution_count": 5,
     "metadata": {},
     "output_type": "execute_result"
    }
   ],
   "source": [
    "x=754\n",
    "y=56\n",
    "x//=y\n",
    "x"
   ]
  },
  {
   "cell_type": "markdown",
   "id": "d4b8a36e",
   "metadata": {},
   "source": [
    "# Bitwise NOT operator"
   ]
  },
  {
   "cell_type": "code",
   "execution_count": 8,
   "id": "78e8cb7d",
   "metadata": {},
   "outputs": [
    {
     "data": {
      "text/plain": [
       "-12"
      ]
     },
     "execution_count": 8,
     "metadata": {},
     "output_type": "execute_result"
    }
   ],
   "source": [
    "~11"
   ]
  },
  {
   "cell_type": "markdown",
   "id": "0a55757e",
   "metadata": {},
   "source": [
    "# Bitwise SHIFT operator"
   ]
  },
  {
   "cell_type": "code",
   "execution_count": 10,
   "id": "6f03a4e0",
   "metadata": {},
   "outputs": [
    {
     "data": {
      "text/plain": [
       "1"
      ]
     },
     "execution_count": 10,
     "metadata": {},
     "output_type": "execute_result"
    }
   ],
   "source": [
    "10>>3"
   ]
  },
  {
   "cell_type": "markdown",
   "id": "bd49bd82",
   "metadata": {},
   "source": [
    "# identity operators"
   ]
  },
  {
   "cell_type": "code",
   "execution_count": 11,
   "id": "d4b39ffd",
   "metadata": {},
   "outputs": [
    {
     "data": {
      "text/plain": [
       "True"
      ]
     },
     "execution_count": 11,
     "metadata": {},
     "output_type": "execute_result"
    }
   ],
   "source": [
    "x=10\n",
    "y=10\n",
    "\n",
    "x is y"
   ]
  },
  {
   "cell_type": "code",
   "execution_count": 12,
   "id": "836ca02c",
   "metadata": {},
   "outputs": [
    {
     "data": {
      "text/plain": [
       "False"
      ]
     },
     "execution_count": 12,
     "metadata": {},
     "output_type": "execute_result"
    }
   ],
   "source": [
    "x is not y"
   ]
  },
  {
   "cell_type": "markdown",
   "id": "8eee4cdb",
   "metadata": {},
   "source": [
    "# membership operator"
   ]
  },
  {
   "cell_type": "code",
   "execution_count": 13,
   "id": "745ca50f",
   "metadata": {},
   "outputs": [
    {
     "data": {
      "text/plain": [
       "True"
      ]
     },
     "execution_count": 13,
     "metadata": {},
     "output_type": "execute_result"
    }
   ],
   "source": [
    "t = (3,6,4,1)\n",
    "3 in t"
   ]
  },
  {
   "cell_type": "code",
   "execution_count": 14,
   "id": "171ab0ae",
   "metadata": {},
   "outputs": [
    {
     "data": {
      "text/plain": [
       "True"
      ]
     },
     "execution_count": 14,
     "metadata": {},
     "output_type": "execute_result"
    }
   ],
   "source": [
    "7 not in t"
   ]
  },
  {
   "cell_type": "markdown",
   "id": "990dfb5a",
   "metadata": {},
   "source": []
  },
  {
   "cell_type": "code",
   "execution_count": 15,
   "id": "a7541a07",
   "metadata": {},
   "outputs": [
    {
     "name": "stdout",
     "output_type": "stream",
     "text": [
      "15\n",
      "13\n"
     ]
    }
   ],
   "source": [
    "x=358\n",
    "y=23\n",
    "print(x//y)\n",
    "print(x%y)"
   ]
  },
  {
   "cell_type": "code",
   "execution_count": 16,
   "id": "5767c620",
   "metadata": {},
   "outputs": [
    {
     "name": "stdout",
     "output_type": "stream",
     "text": [
      "64.0\n"
     ]
    }
   ],
   "source": [
    "print(2*4**3/2)"
   ]
  },
  {
   "cell_type": "markdown",
   "id": "b4a68feb",
   "metadata": {},
   "source": [
    "# Pass statement"
   ]
  },
  {
   "cell_type": "code",
   "execution_count": 1,
   "id": "98a31735",
   "metadata": {},
   "outputs": [
    {
     "name": "stdout",
     "output_type": "stream",
     "text": [
      "3\n"
     ]
    }
   ],
   "source": [
    "for i in range(1,10):\n",
    "    if (i==3):\n",
    "        print(i)\n",
    "    else:\n",
    "        pass"
   ]
  }
 ],
 "metadata": {
  "kernelspec": {
   "display_name": "Python 3",
   "language": "python",
   "name": "python3"
  },
  "language_info": {
   "codemirror_mode": {
    "name": "ipython",
    "version": 3
   },
   "file_extension": ".py",
   "mimetype": "text/x-python",
   "name": "python",
   "nbconvert_exporter": "python",
   "pygments_lexer": "ipython3",
   "version": "3.6.8"
  }
 },
 "nbformat": 4,
 "nbformat_minor": 5
}
