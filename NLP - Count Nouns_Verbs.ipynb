{
 "cells": [
  {
   "cell_type": "markdown",
   "id": "125c525f",
   "metadata": {},
   "source": [
    "# NLP - Counting Nouns and Verbs"
   ]
  },
  {
   "cell_type": "code",
   "execution_count": 1,
   "id": "67933efd",
   "metadata": {},
   "outputs": [
    {
     "name": "stderr",
     "output_type": "stream",
     "text": [
      "[nltk_data] Downloading package punkt to\n",
      "[nltk_data]     C:\\Users\\vixen\\AppData\\Roaming\\nltk_data...\n",
      "[nltk_data]   Package punkt is already up-to-date!\n",
      "[nltk_data] Downloading package averaged_perceptron_tagger to\n",
      "[nltk_data]     C:\\Users\\vixen\\AppData\\Roaming\\nltk_data...\n",
      "[nltk_data]   Unzipping taggers\\averaged_perceptron_tagger.zip.\n"
     ]
    },
    {
     "data": {
      "text/plain": [
       "True"
      ]
     },
     "execution_count": 1,
     "metadata": {},
     "output_type": "execute_result"
    }
   ],
   "source": [
    "import pandas as pd\n",
    "from textblob import TextBlob\n",
    "import nltk\n",
    "nltk.download('punkt')\n",
    "nltk.download('averaged_perceptron_tagger')"
   ]
  },
  {
   "cell_type": "code",
   "execution_count": 2,
   "id": "5b47a256",
   "metadata": {},
   "outputs": [],
   "source": [
    "data = pd.read_csv('amazon_alexa.tsv', delimiter='\\t')"
   ]
  },
  {
   "cell_type": "code",
   "execution_count": 3,
   "id": "018a7efe",
   "metadata": {},
   "outputs": [],
   "source": [
    "# create part of speech dictionary\n",
    "pos_dic = {\n",
    "    'noun' : ['NN', 'NNS', 'NNP', 'NNPS'],\n",
    "    'pron' : ['PRP', 'PRP$', 'WP', 'WP$'],\n",
    "    'verb' : ['VB', 'VBD', 'VBG', 'VBN', 'VBP', 'VBZ'],\n",
    "    'adj' : ['JJ', 'JJR', 'JJS'],\n",
    "    'adv' : ['RB', 'RBR', 'RBS', 'WRB']\n",
    "}\n",
    "\n",
    "# function to check and get the part of speech tag count of words in a given sentence\n",
    "def pos_check(x, flag):\n",
    "    cnt = 0\n",
    "    try:\n",
    "        wiki = TextBlob(x)\n",
    "        for tup in wiki.tags:\n",
    "            ppo = list(tup)[1]\n",
    "            if ppo in pos_dic[flag]:\n",
    "                cnt += 1\n",
    "    except:\n",
    "        pass\n",
    "    return cnt"
   ]
  },
  {
   "cell_type": "markdown",
   "id": "bff9f551",
   "metadata": {},
   "source": [
    "Nouns\n",
    "\n",
    "A noun is a word that functions as the name of a specific object or set of objects, such as living creatures, places, actions, quantities, states of existence, or ideas. However, noun is not a semantic category, so that it cannot be characterized in terms of its meaning."
   ]
  },
  {
   "cell_type": "code",
   "execution_count": 4,
   "id": "ac826c8c",
   "metadata": {},
   "outputs": [],
   "source": [
    "# Lets calculate the count of Nouns in the text\n",
    "data['noun_count'] = data['verified_reviews'].apply(lambda x: pos_check(x, 'noun'))"
   ]
  },
  {
   "cell_type": "markdown",
   "id": "adb6aaca",
   "metadata": {},
   "source": [
    "Verbs\n",
    "\n",
    "A verb, from the Latin meaning word, is a word that in syntax conveys an action, an occurrence, or a state of being. In the usual description of English, the basic form, with or without the participle to, is the infinitive. In many languages, verbs are inflected to encode tense, aspect, mood, and voice."
   ]
  },
  {
   "cell_type": "code",
   "execution_count": 5,
   "id": "3e093f7b",
   "metadata": {},
   "outputs": [],
   "source": [
    "# Lets calculate the count of verbs in the text\n",
    "data['verb_count'] = data['verified_reviews'].apply(lambda x: pos_check(x, 'verb'))"
   ]
  },
  {
   "cell_type": "code",
   "execution_count": 6,
   "id": "c3fe9a2e",
   "metadata": {},
   "outputs": [
    {
     "data": {
      "text/html": [
       "<div>\n",
       "<style scoped>\n",
       "    .dataframe tbody tr th:only-of-type {\n",
       "        vertical-align: middle;\n",
       "    }\n",
       "\n",
       "    .dataframe tbody tr th {\n",
       "        vertical-align: top;\n",
       "    }\n",
       "\n",
       "    .dataframe thead th {\n",
       "        text-align: right;\n",
       "    }\n",
       "</style>\n",
       "<table border=\"1\" class=\"dataframe\">\n",
       "  <thead>\n",
       "    <tr style=\"text-align: right;\">\n",
       "      <th></th>\n",
       "      <th>noun_count</th>\n",
       "      <th>verb_count</th>\n",
       "    </tr>\n",
       "  </thead>\n",
       "  <tbody>\n",
       "    <tr>\n",
       "      <th>count</th>\n",
       "      <td>3150.000000</td>\n",
       "      <td>3150.000000</td>\n",
       "    </tr>\n",
       "    <tr>\n",
       "      <th>mean</th>\n",
       "      <td>5.945397</td>\n",
       "      <td>5.155873</td>\n",
       "    </tr>\n",
       "    <tr>\n",
       "      <th>std</th>\n",
       "      <td>8.222776</td>\n",
       "      <td>7.223565</td>\n",
       "    </tr>\n",
       "    <tr>\n",
       "      <th>min</th>\n",
       "      <td>0.000000</td>\n",
       "      <td>0.000000</td>\n",
       "    </tr>\n",
       "    <tr>\n",
       "      <th>25%</th>\n",
       "      <td>1.000000</td>\n",
       "      <td>1.000000</td>\n",
       "    </tr>\n",
       "    <tr>\n",
       "      <th>50%</th>\n",
       "      <td>3.000000</td>\n",
       "      <td>3.000000</td>\n",
       "    </tr>\n",
       "    <tr>\n",
       "      <th>75%</th>\n",
       "      <td>7.000000</td>\n",
       "      <td>7.000000</td>\n",
       "    </tr>\n",
       "    <tr>\n",
       "      <th>max</th>\n",
       "      <td>137.000000</td>\n",
       "      <td>102.000000</td>\n",
       "    </tr>\n",
       "  </tbody>\n",
       "</table>\n",
       "</div>"
      ],
      "text/plain": [
       "        noun_count   verb_count\n",
       "count  3150.000000  3150.000000\n",
       "mean      5.945397     5.155873\n",
       "std       8.222776     7.223565\n",
       "min       0.000000     0.000000\n",
       "25%       1.000000     1.000000\n",
       "50%       3.000000     3.000000\n",
       "75%       7.000000     7.000000\n",
       "max     137.000000   102.000000"
      ]
     },
     "execution_count": 6,
     "metadata": {},
     "output_type": "execute_result"
    }
   ],
   "source": [
    "# Let's summarize the newly created features\n",
    "data[['noun_count', 'verb_count']].describe()"
   ]
  },
  {
   "cell_type": "markdown",
   "id": "6a822b1f",
   "metadata": {},
   "source": [
    "# ADJECTIVE, ADVERBS AND PRONOUNS"
   ]
  },
  {
   "cell_type": "markdown",
   "id": "1e59b604",
   "metadata": {},
   "source": [
    "Adjectives\n",
    "\n",
    "In linguistics, an adjective is a word that modifies a noun phrase or describes its referent. Its semantic role is to change information given by the noun. Adjectives are one of the main parts of speech of the English language, although historically they were classed together with nouns."
   ]
  },
  {
   "cell_type": "code",
   "execution_count": 7,
   "id": "0ccf9f4e",
   "metadata": {},
   "outputs": [],
   "source": [
    "# Lets calculate the count of adjectives in the text\n",
    "data['adj_count'] = data['verified_reviews'].apply(lambda x: pos_check(x, 'adj'))"
   ]
  },
  {
   "cell_type": "markdown",
   "id": "ddf8add5",
   "metadata": {},
   "source": [
    "Adverbs\n",
    "\n",
    "An adverb is a word or an expression that modifies a verb, adjective, another adverb, determiner, clause, preposition, or sentence. Adverbs typically express manner, place, time, frequency, degree, level of cerainty, etc., answering questions such as how?, in what way?, when?, where?, and to what extent?\n",
    "\n",
    "Manner, place, time, frequency, degree, etc."
   ]
  },
  {
   "cell_type": "code",
   "execution_count": 8,
   "id": "8c6fcc4b",
   "metadata": {},
   "outputs": [],
   "source": [
    "data['adv_count'] = data['verified_reviews'].apply(lambda x: pos_check(x, 'adv'))"
   ]
  },
  {
   "cell_type": "markdown",
   "id": "f5330c5d",
   "metadata": {},
   "source": [
    "Pronouns\n",
    "\n",
    "A pronoun (I, me, he, she, herself, you, it, that, they, each, few, many, who, whover, whose, someone, everybody, etc.) is a word that takes the place of a noun. In the sentence Joe saw Jill, and waved at her, the pronouns he and her take the place of Joe and Jill, respectively."
   ]
  },
  {
   "cell_type": "code",
   "execution_count": 9,
   "id": "b08530c9",
   "metadata": {},
   "outputs": [],
   "source": [
    "# Lets calculate the count of pronouns in the text\n",
    "data['pron_count'] = data['verified_reviews'].apply(lambda x: pos_check(x, 'pron'))"
   ]
  },
  {
   "cell_type": "code",
   "execution_count": 10,
   "id": "f27abaee",
   "metadata": {},
   "outputs": [
    {
     "data": {
      "text/html": [
       "<div>\n",
       "<style scoped>\n",
       "    .dataframe tbody tr th:only-of-type {\n",
       "        vertical-align: middle;\n",
       "    }\n",
       "\n",
       "    .dataframe tbody tr th {\n",
       "        vertical-align: top;\n",
       "    }\n",
       "\n",
       "    .dataframe thead th {\n",
       "        text-align: right;\n",
       "    }\n",
       "</style>\n",
       "<table border=\"1\" class=\"dataframe\">\n",
       "  <thead>\n",
       "    <tr style=\"text-align: right;\">\n",
       "      <th></th>\n",
       "      <th>adj_count</th>\n",
       "      <th>adv_count</th>\n",
       "      <th>pron_count</th>\n",
       "    </tr>\n",
       "  </thead>\n",
       "  <tbody>\n",
       "    <tr>\n",
       "      <th>count</th>\n",
       "      <td>3150.000000</td>\n",
       "      <td>3150.000000</td>\n",
       "      <td>3150.000000</td>\n",
       "    </tr>\n",
       "    <tr>\n",
       "      <th>mean</th>\n",
       "      <td>2.172381</td>\n",
       "      <td>2.002540</td>\n",
       "      <td>3.242222</td>\n",
       "    </tr>\n",
       "    <tr>\n",
       "      <th>std</th>\n",
       "      <td>2.935390</td>\n",
       "      <td>3.277083</td>\n",
       "      <td>4.627235</td>\n",
       "    </tr>\n",
       "    <tr>\n",
       "      <th>min</th>\n",
       "      <td>0.000000</td>\n",
       "      <td>0.000000</td>\n",
       "      <td>0.000000</td>\n",
       "    </tr>\n",
       "    <tr>\n",
       "      <th>25%</th>\n",
       "      <td>0.000000</td>\n",
       "      <td>0.000000</td>\n",
       "      <td>0.000000</td>\n",
       "    </tr>\n",
       "    <tr>\n",
       "      <th>50%</th>\n",
       "      <td>1.000000</td>\n",
       "      <td>1.000000</td>\n",
       "      <td>2.000000</td>\n",
       "    </tr>\n",
       "    <tr>\n",
       "      <th>75%</th>\n",
       "      <td>3.000000</td>\n",
       "      <td>3.000000</td>\n",
       "      <td>4.000000</td>\n",
       "    </tr>\n",
       "    <tr>\n",
       "      <th>max</th>\n",
       "      <td>39.000000</td>\n",
       "      <td>54.000000</td>\n",
       "      <td>70.000000</td>\n",
       "    </tr>\n",
       "  </tbody>\n",
       "</table>\n",
       "</div>"
      ],
      "text/plain": [
       "         adj_count    adv_count   pron_count\n",
       "count  3150.000000  3150.000000  3150.000000\n",
       "mean      2.172381     2.002540     3.242222\n",
       "std       2.935390     3.277083     4.627235\n",
       "min       0.000000     0.000000     0.000000\n",
       "25%       0.000000     0.000000     0.000000\n",
       "50%       1.000000     1.000000     2.000000\n",
       "75%       3.000000     3.000000     4.000000\n",
       "max      39.000000    54.000000    70.000000"
      ]
     },
     "execution_count": 10,
     "metadata": {},
     "output_type": "execute_result"
    }
   ],
   "source": [
    "# Lets summarize the created features\n",
    "data[['adj_count', 'adv_count', 'pron_count']].describe()"
   ]
  }
 ],
 "metadata": {
  "kernelspec": {
   "display_name": "Python 3",
   "language": "python",
   "name": "python3"
  },
  "language_info": {
   "codemirror_mode": {
    "name": "ipython",
    "version": 3
   },
   "file_extension": ".py",
   "mimetype": "text/x-python",
   "name": "python",
   "nbconvert_exporter": "python",
   "pygments_lexer": "ipython3",
   "version": "3.6.8"
  }
 },
 "nbformat": 4,
 "nbformat_minor": 5
}
