{
 "cells": [
  {
   "cell_type": "markdown",
   "id": "044a30a8",
   "metadata": {},
   "source": [
    "# Linear Regression Model\n",
    "\n",
    "Predicts continuous values.\n",
    "\n",
    "* Linear regression is a regression model which tries to predict the relationship between the dependent variable Y and independent variable X in a linear fashion.\n",
    "\n",
    "y = wx + c\n",
    "Y = w1*w1 + w2*w2 + w3*w3 + w4*w4 + c\n",
    "\n",
    "House Price = w1 * location + w2*no.of rooms + w3*dist.landmarks ... etc.\n",
    "\n",
    "Problem statement - imagine you went to buy a house:\n",
    "\n",
    "Features:\n",
    "-----\n",
    "- location\n",
    "- # rooms\n",
    "- dist. from landmark\n",
    "- age of house\n",
    "- dist. from graveyard\n",
    "\n",
    "Features(X) <-- x = independent variable\n",
    "Model\n",
    "Target(Y) <- house price <-- y = dependent variable"
   ]
  }
 ],
 "metadata": {
  "kernelspec": {
   "display_name": "Python 3",
   "language": "python",
   "name": "python3"
  },
  "language_info": {
   "codemirror_mode": {
    "name": "ipython",
    "version": 3
   },
   "file_extension": ".py",
   "mimetype": "text/x-python",
   "name": "python",
   "nbconvert_exporter": "python",
   "pygments_lexer": "ipython3",
   "version": "3.6.8"
  }
 },
 "nbformat": 4,
 "nbformat_minor": 5
}
