{
 "cells": [
  {
   "cell_type": "markdown",
   "id": "c3e60649",
   "metadata": {},
   "source": [
    "# SUPERVISED AND UNSUPERVISED LEARNING"
   ]
  },
  {
   "cell_type": "markdown",
   "id": "5c49cffc",
   "metadata": {},
   "source": [
    "### Supervised Learning\n",
    "\n",
    "* Supervised learning is a learning technique where we have input variables and an output variable and we use an algorithm to learn the mapping function from input to output."
   ]
  },
  {
   "cell_type": "markdown",
   "id": "d6795e01",
   "metadata": {},
   "source": [
    "### Unsupervised Learning\n",
    "\n",
    "* Unsupervised learning is where we only have input data and no corresponding output variables.\n",
    "\n",
    "* The goal of unsupervised learning is to model the underlying structure or distribution in the data in order to learn more about the data."
   ]
  },
  {
   "cell_type": "markdown",
   "id": "a48a9ada",
   "metadata": {},
   "source": [
    "### Supervised Learning Techniques\n",
    "\n",
    "* Supervised learning techniques are composed of complex algorithms and are divided into Classification and Regression models.\n",
    "\n",
    "* Classification model is used for problems where the output variable can be categorized, such as \"Yes\" or \"No\", or \"Pass\" or \"Fail\".\n",
    "\n",
    "* Regression model is used where the output variable is a real value, such as a number, price, pressure, weight, etc. Some of the familiar algorithms include linear regression, polynomial regression, etc."
   ]
  },
  {
   "cell_type": "markdown",
   "id": "e6220847",
   "metadata": {},
   "source": [
    "### Unsupervised Learning Techniques\n",
    "\n",
    "* With unsupervised learning technique, the model learns by inferences from datasets consting of input data without labelled responses.\n",
    "\n",
    "* The most common unsupervised learning method is cluster analysis, which is used for exploratory data analysis to find hidden patterns or groupings in the data."
   ]
  }
 ],
 "metadata": {
  "kernelspec": {
   "display_name": "Python 3",
   "language": "python",
   "name": "python3"
  },
  "language_info": {
   "codemirror_mode": {
    "name": "ipython",
    "version": 3
   },
   "file_extension": ".py",
   "mimetype": "text/x-python",
   "name": "python",
   "nbconvert_exporter": "python",
   "pygments_lexer": "ipython3",
   "version": "3.6.8"
  }
 },
 "nbformat": 4,
 "nbformat_minor": 5
}
