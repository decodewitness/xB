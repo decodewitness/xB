{
 "cells": [
  {
   "cell_type": "markdown",
   "id": "87320f65",
   "metadata": {},
   "source": [
    "# NLP - TFDIF\n",
    "\n",
    "\n",
    "* TF-IDF is short for Term Frequency-Inverse Document Frequency.\n",
    "\n",
    "* It is designed to reflect how important a word is to a document in a collection or corpus.\n",
    "\n",
    "* The TF-IDF value increases proportionally to the number of times a word appears in a document.\n",
    "\n",
    "* The value is calculated by multiplying two metrics:    \n",
    "    * How many times a word appears in a document.\n",
    "    * Inverse document frequency of the word across a set of documents.\n",
    "    \n",
    "* Inverse Document Frequency\n",
    "    * How common a word is in the entire document set.\n",
    "        * log(total no. of documents / no. of documents containing the word)\n",
    "        \n",
    "    * The higher the score is, the more relevant the word is in that particular document.\n",
    "    \n",
    "    \n",
    "### Why TF-IDF?\n",
    "\n",
    "* Information retrieval\n",
    "    * TF-IDF was invented for document search and is used to deliver results that are most relevant to what we are searching for.\n",
    "    \n",
    "* Keyword extraction\n",
    "    * TF-IDF is also useful for keyword extraction. The highest scoring words for a document are the most relevant keywords."
   ]
  },
  {
   "cell_type": "code",
   "execution_count": null,
   "id": "234035e0",
   "metadata": {},
   "outputs": [],
   "source": []
  }
 ],
 "metadata": {
  "kernelspec": {
   "display_name": "Python 3",
   "language": "python",
   "name": "python3"
  },
  "language_info": {
   "codemirror_mode": {
    "name": "ipython",
    "version": 3
   },
   "file_extension": ".py",
   "mimetype": "text/x-python",
   "name": "python",
   "nbconvert_exporter": "python",
   "pygments_lexer": "ipython3",
   "version": "3.6.8"
  }
 },
 "nbformat": 4,
 "nbformat_minor": 5
}
