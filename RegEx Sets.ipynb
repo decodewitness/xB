{
 "cells": [
  {
   "cell_type": "markdown",
   "id": "77ceb9b7",
   "metadata": {},
   "source": [
    "# Regular Expression Sets\n",
    "\n",
    "A set is a set of characters inside a pair of square brackets [] with a special meaning"
   ]
  },
  {
   "cell_type": "code",
   "execution_count": 1,
   "id": "be887894",
   "metadata": {},
   "outputs": [],
   "source": [
    "import re"
   ]
  },
  {
   "cell_type": "code",
   "execution_count": 6,
   "id": "e2750c52",
   "metadata": {},
   "outputs": [
    {
     "name": "stdout",
     "output_type": "stream",
     "text": [
      "['a', 'n', 'a', 'r']\n"
     ]
    }
   ],
   "source": [
    "# find all 'a', 'r', or 'n' characters\n",
    "\n",
    "s=\"I love watching movies after 8 pm\"\n",
    "x = re.findall('[arn]', s)\n",
    "print(x)"
   ]
  },
  {
   "cell_type": "code",
   "execution_count": 7,
   "id": "b534f60d",
   "metadata": {},
   "outputs": [
    {
     "name": "stdout",
     "output_type": "stream",
     "text": [
      "['l', 'e', 'a', 'c', 'h', 'i', 'n', 'g', 'm', 'i', 'e', 'a', 'f', 'e', 'm']\n"
     ]
    }
   ],
   "source": [
    "# find all chars from 'a' to 'n'\n",
    "\n",
    "x = re.findall('[a-n]', s)\n",
    "print(x)"
   ]
  },
  {
   "cell_type": "code",
   "execution_count": 8,
   "id": "ea18a9f1",
   "metadata": {},
   "outputs": [
    {
     "name": "stdout",
     "output_type": "stream",
     "text": [
      "['I', ' ', 'l', 'o', 'v', 'e', ' ', 'w', 't', 'c', 'h', 'i', 'g', ' ', 'm', 'o', 'v', 'i', 'e', 's', ' ', 'f', 't', 'e', ' ', '8', ' ', 'p', 'm']\n"
     ]
    }
   ],
   "source": [
    "# find all chars that are not 'a', 'r', or 'n'\n",
    "\n",
    "x = re.findall('[^arn]', s)\n",
    "print(x)"
   ]
  },
  {
   "cell_type": "code",
   "execution_count": 9,
   "id": "3c0c1735",
   "metadata": {},
   "outputs": [
    {
     "name": "stdout",
     "output_type": "stream",
     "text": [
      "['8']\n"
     ]
    }
   ],
   "source": [
    "# find all chars from '0' to '9'\n",
    "\n",
    "x = re.findall('[0-9]', s)\n",
    "print(x)"
   ]
  },
  {
   "cell_type": "code",
   "execution_count": 10,
   "id": "21453b2f",
   "metadata": {},
   "outputs": [
    {
     "name": "stdout",
     "output_type": "stream",
     "text": [
      "['I', 'l', 'o', 'v', 'e', 'w', 'a', 't', 'c', 'h', 'i', 'n', 'g', 'm', 'o', 'v', 'i', 'e', 's', 'a', 'f', 't', 'e', 'r', 'p', 'm']\n"
     ]
    }
   ],
   "source": [
    "# find all chars from 'a' to 'z' and 'A' to 'Z'\n",
    "\n",
    "x = re.findall('[a-zA-Z]', s)\n",
    "print(x)"
   ]
  },
  {
   "cell_type": "code",
   "execution_count": 11,
   "id": "a98b69bf",
   "metadata": {},
   "outputs": [
    {
     "name": "stdout",
     "output_type": "stream",
     "text": [
      "[]\n"
     ]
    }
   ],
   "source": [
    "# find all '+' characters in the string\n",
    "\n",
    "x = re.findall('[+]', s)\n",
    "print(x)\n"
   ]
  }
 ],
 "metadata": {
  "kernelspec": {
   "display_name": "Python 3",
   "language": "python",
   "name": "python3"
  },
  "language_info": {
   "codemirror_mode": {
    "name": "ipython",
    "version": 3
   },
   "file_extension": ".py",
   "mimetype": "text/x-python",
   "name": "python",
   "nbconvert_exporter": "python",
   "pygments_lexer": "ipython3",
   "version": "3.6.8"
  }
 },
 "nbformat": 4,
 "nbformat_minor": 5
}
