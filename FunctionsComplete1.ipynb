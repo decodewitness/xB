{
  "nbformat": 4,
  "nbformat_minor": 0,
  "metadata": {
    "colab": {
      "name": "FunctionsComplete.ipynb",
      "provenance": [],
      "collapsed_sections": []
    },
    "kernelspec": {
      "name": "python3",
      "display_name": "Python 3"
    },
    "language_info": {
      "name": "python"
    }
  },
  "cells": [
    {
      "cell_type": "markdown",
      "metadata": {
        "id": "5MfHblRzBFWv"
      },
      "source": [
        "##<font color=\"#ffb142\" > Functions<br>A function is a block of code which only runs when it is called.\n",
        "You can pass data, known as parameters, into a function.\n",
        "A function can return data as a result.\n",
        "<br>\n",
        "##<font color=\"#ffb142\" >Keyword def that marks the start of the function header. <br>\n",
        "A function name to uniquely identify the function. No spaces\n",
        "Parameters (arguments) through which we pass values to a function. They are optional.<br>\n",
        "A colon (:) to mark the end of the function header.<br>\n",
        "Optional documentation string (docstring) to describe what the function does.\n",
        "One or more valid python statements that make up the function body. Statements must have the same indentation level (usually 4 spaces).<br>\n",
        "An optional return statement to return a value from the function."
      ]
    },
    {
      "cell_type": "code",
      "metadata": {
        "id": "7h0qTwesBA13"
      },
      "source": [
        "def my_function(parameter):\n",
        "  \"this is my sample funtion to show the format of all functions\"\n",
        "  statement(s)\n",
        "  return "
      ],
      "execution_count": null,
      "outputs": []
    },
    {
      "cell_type": "code",
      "metadata": {
        "id": "-W1IgHvRI-Ua"
      },
      "source": [
        "def spanish_greeting():\n",
        "  \"this is a spanish greeting to print hello\"\n",
        "  print(\"Hola\") "
      ],
      "execution_count": null,
      "outputs": []
    },
    {
      "cell_type": "code",
      "metadata": {
        "colab": {
          "base_uri": "https://localhost:8080/"
        },
        "id": "gJyLFaRwJXCV",
        "outputId": "5b93965e-8f89-49a3-c06d-a4439acef616"
      },
      "source": [
        "spanish_greeting()"
      ],
      "execution_count": null,
      "outputs": [
        {
          "output_type": "stream",
          "text": [
            "Hola\n"
          ],
          "name": "stdout"
        }
      ]
    },
    {
      "cell_type": "markdown",
      "metadata": {
        "id": "o0qCWyiqvlC9"
      },
      "source": [
        "Information can be passed into functions as arguments.<br>\n",
        "<br>\n",
        "Arguments are specified after the function name, inside the parentheses. You can add as many arguments as you want, just separate them with a comma.<br>\n",
        "<br>\n",
        "The following example has a function with one argument (fname). When the function is called, we pass along a first name, which is used inside the function to print the full name:"
      ]
    },
    {
      "cell_type": "code",
      "metadata": {
        "id": "SZKc3XzXJshY"
      },
      "source": [
        "def spanish_greeting_name(first_name):\n",
        "  \"let's use an argument which is also known as a parameter\"\n",
        "  print(\"Hola \"+ first_name)"
      ],
      "execution_count": null,
      "outputs": []
    },
    {
      "cell_type": "code",
      "metadata": {
        "colab": {
          "base_uri": "https://localhost:8080/"
        },
        "id": "vaPks7-sKL0u",
        "outputId": "f1c2b7e3-34c3-4b95-9263-a1513e40e1aa"
      },
      "source": [
        "spanish_greeting_name('Robert')"
      ],
      "execution_count": null,
      "outputs": [
        {
          "output_type": "stream",
          "text": [
            "Hola Robert\n"
          ],
          "name": "stdout"
        }
      ]
    },
    {
      "cell_type": "code",
      "metadata": {
        "colab": {
          "base_uri": "https://localhost:8080/"
        },
        "id": "TWI-0pvmK2Lu",
        "outputId": "b6c1da50-484e-4566-a8bc-9f1f59fbcbbe"
      },
      "source": [
        "name_variable = 'Jack'\n",
        "spanish_greeting_name(name_variable) "
      ],
      "execution_count": null,
      "outputs": [
        {
          "output_type": "stream",
          "text": [
            "Hola Jack\n"
          ],
          "name": "stdout"
        }
      ]
    },
    {
      "cell_type": "markdown",
      "metadata": {
        "id": "1v2EQzZ4wDJe"
      },
      "source": [
        "Number of Arguments<br>\n",
        "By default, a function must be called with the correct number of arguments. <br>Meaning that if your function expects 2 arguments, you have to call the function with 2 arguments, not more, and not less."
      ]
    },
    {
      "cell_type": "code",
      "metadata": {
        "id": "d0V2DOGDnSjO"
      },
      "source": [
        "def spanish_greeting_all_names(first_name, last_name, nickname):\n",
        "  \"let's use an argument which is also known as a parameter\"\n",
        "  print(\"Hola \"+ first_name + ' '+ nickname + ' '+ last_name)"
      ],
      "execution_count": null,
      "outputs": []
    },
    {
      "cell_type": "code",
      "metadata": {
        "id": "kD2bRnjRv9JQ"
      },
      "source": [
        "first = 'nidia'\n",
        "second = 'sahjara'\n",
        "nick = 'cookie'\n",
        "spanish_greeting_all_names(first, second, nick)"
      ],
      "execution_count": null,
      "outputs": []
    },
    {
      "cell_type": "markdown",
      "metadata": {
        "id": "K-05xZ6KL_0g"
      },
      "source": [
        "##<font color='#34ace0' > Calculate Mean"
      ]
    },
    {
      "cell_type": "code",
      "metadata": {
        "id": "cphqKGRbL-eC"
      },
      "source": [
        "numbers = [12, 14, 25, 89, 23,56,22]"
      ],
      "execution_count": null,
      "outputs": []
    },
    {
      "cell_type": "code",
      "metadata": {
        "id": "SfnfBvuQMZbF"
      },
      "source": [
        "def calculate_mean(list):\n",
        "  return sum(list) / len(list)"
      ],
      "execution_count": null,
      "outputs": []
    },
    {
      "cell_type": "code",
      "metadata": {
        "colab": {
          "base_uri": "https://localhost:8080/"
        },
        "id": "XnV9EQ5jM8un",
        "outputId": "d8d388da-5a5c-492a-b620-598b0063df08"
      },
      "source": [
        "calculate_mean(numbers)"
      ],
      "execution_count": null,
      "outputs": [
        {
          "output_type": "execute_result",
          "data": {
            "text/plain": [
              "34.42857142857143"
            ]
          },
          "metadata": {
            "tags": []
          },
          "execution_count": 22
        }
      ]
    },
    {
      "cell_type": "markdown",
      "metadata": {
        "id": "EnkEuOw9Nj74"
      },
      "source": [
        "##<font color='#34ace0' > If Else in A function"
      ]
    },
    {
      "cell_type": "code",
      "metadata": {
        "id": "lGl2gSonNg5_"
      },
      "source": [
        "def absolute(number):\n",
        "  if number >= 0:\n",
        "    return number\n",
        "  else:\n",
        "    return -number"
      ],
      "execution_count": null,
      "outputs": []
    },
    {
      "cell_type": "code",
      "metadata": {
        "colab": {
          "base_uri": "https://localhost:8080/"
        },
        "id": "24NxUgJJOKlS",
        "outputId": "d81890ee-0e91-4664-f89d-d9053ba0f412"
      },
      "source": [
        "n = 10\n",
        "absolute(n)"
      ],
      "execution_count": null,
      "outputs": [
        {
          "output_type": "execute_result",
          "data": {
            "text/plain": [
              "10"
            ]
          },
          "metadata": {
            "tags": []
          },
          "execution_count": 26
        }
      ]
    },
    {
      "cell_type": "code",
      "metadata": {
        "colab": {
          "base_uri": "https://localhost:8080/"
        },
        "id": "0HPhgt-KOg1L",
        "outputId": "7e4ff67b-f12e-46c5-a90a-720db3a89045"
      },
      "source": [
        "n = -20\n",
        "absolute(n)"
      ],
      "execution_count": null,
      "outputs": [
        {
          "output_type": "execute_result",
          "data": {
            "text/plain": [
              "20"
            ]
          },
          "metadata": {
            "tags": []
          },
          "execution_count": 27
        }
      ]
    },
    {
      "cell_type": "markdown",
      "metadata": {
        "id": "2XLizx8xO1PM"
      },
      "source": [
        "##<font color='#33d9b2' > Scope of A Variable: Local & Global "
      ]
    },
    {
      "cell_type": "code",
      "metadata": {
        "id": "PGZlgeGVO_KB"
      },
      "source": [
        ""
      ],
      "execution_count": null,
      "outputs": []
    }
  ]
}