{
 "cells": [
  {
   "cell_type": "markdown",
   "id": "4318c102",
   "metadata": {},
   "source": [
    "# ENCAPSULATION\n",
    "\n",
    "Encapsulation is the process of wrapping up variables and methods into a single entity. Encapsulation restricts direct access to methods and variables."
   ]
  },
  {
   "cell_type": "code",
   "execution_count": 5,
   "id": "27df8028",
   "metadata": {},
   "outputs": [
    {
     "name": "stdout",
     "output_type": "stream",
     "text": [
      "Anita 36\n"
     ]
    }
   ],
   "source": [
    "#the underscore \"_\" makes the variable private.\n",
    "\n",
    "class Person:\n",
    "    def __init__(self, name, _age):\n",
    "        self.name = name\n",
    "        self._age = _age\n",
    "    def display(self):\n",
    "        print(self.name, self._age)\n",
    "\n",
    "p1 = Person(\"Anita\", 36)\n",
    "p1.display()"
   ]
  }
 ],
 "metadata": {
  "kernelspec": {
   "display_name": "Python 3",
   "language": "python",
   "name": "python3"
  },
  "language_info": {
   "codemirror_mode": {
    "name": "ipython",
    "version": 3
   },
   "file_extension": ".py",
   "mimetype": "text/x-python",
   "name": "python",
   "nbconvert_exporter": "python",
   "pygments_lexer": "ipython3",
   "version": "3.6.8"
  }
 },
 "nbformat": 4,
 "nbformat_minor": 5
}
