{
 "cells": [
  {
   "cell_type": "markdown",
   "id": "fbab4d95",
   "metadata": {},
   "source": [
    "# NLP - Data Visualization (information)\n",
    "\n",
    "Analyzing text data give us a lot of insights.\n",
    "Polarity, subjectivity, POS tagging, n-gram analysis, etc."
   ]
  }
 ],
 "metadata": {
  "kernelspec": {
   "display_name": "Python 3",
   "language": "python",
   "name": "python3"
  },
  "language_info": {
   "codemirror_mode": {
    "name": "ipython",
    "version": 3
   },
   "file_extension": ".py",
   "mimetype": "text/x-python",
   "name": "python",
   "nbconvert_exporter": "python",
   "pygments_lexer": "ipython3",
   "version": "3.6.8"
  }
 },
 "nbformat": 4,
 "nbformat_minor": 5
}
