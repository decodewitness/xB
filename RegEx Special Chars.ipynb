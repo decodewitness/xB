{
 "cells": [
  {
   "cell_type": "markdown",
   "id": "4f153c36",
   "metadata": {},
   "source": [
    "# Special Characters for RegEx"
   ]
  },
  {
   "cell_type": "code",
   "execution_count": 1,
   "id": "173435e8",
   "metadata": {},
   "outputs": [],
   "source": [
    "import re"
   ]
  },
  {
   "cell_type": "code",
   "execution_count": 4,
   "id": "f1eecdb5",
   "metadata": {},
   "outputs": [
    {
     "data": {
      "text/plain": [
       "[]"
      ]
     },
     "execution_count": 4,
     "metadata": {},
     "output_type": "execute_result"
    }
   ],
   "source": [
    "# at the beginning \"The\"\n",
    "\n",
    "s = \"I love watching movies\"\n",
    "x = re.findall(\"\\AThe\", s)\n",
    "x"
   ]
  },
  {
   "cell_type": "code",
   "execution_count": 5,
   "id": "9f88c4ed",
   "metadata": {},
   "outputs": [
    {
     "name": "stdout",
     "output_type": "stream",
     "text": [
      "['I ']\n"
     ]
    }
   ],
   "source": [
    "# at the beginning or end \"I\"\n",
    "\n",
    "x = re.findall(r\"\\bI \", s)\n",
    "print(x)"
   ]
  },
  {
   "cell_type": "code",
   "execution_count": 12,
   "id": "70828af0",
   "metadata": {},
   "outputs": [
    {
     "name": "stdout",
     "output_type": "stream",
     "text": [
      "['s']\n"
     ]
    }
   ],
   "source": [
    "# at the end \"s\"\n",
    "\n",
    "x = re.findall(r'\\Bs', s)\n",
    "print(x)"
   ]
  },
  {
   "cell_type": "code",
   "execution_count": 7,
   "id": "53eda68b",
   "metadata": {},
   "outputs": [
    {
     "name": "stdout",
     "output_type": "stream",
     "text": [
      "['I', ' ', 'l', 'o', 'v', 'e', ' ', 'w', 'a', 't', 'c', 'h', 'i', 'n', 'g', ' ', 'm', 'o', 'v', 'i', 'e', 's']\n"
     ]
    }
   ],
   "source": [
    "# all the characters that are not digits\n",
    "\n",
    "x = re.findall('\\D', s)\n",
    "print(x)"
   ]
  },
  {
   "cell_type": "code",
   "execution_count": 8,
   "id": "8f97322e",
   "metadata": {},
   "outputs": [
    {
     "name": "stdout",
     "output_type": "stream",
     "text": [
      "[]\n"
     ]
    }
   ],
   "source": [
    "# every digit in the sentence\n",
    "\n",
    "x =re.findall('\\d', s)\n",
    "print(x)"
   ]
  },
  {
   "cell_type": "code",
   "execution_count": 9,
   "id": "54ec6eae",
   "metadata": {},
   "outputs": [
    {
     "name": "stdout",
     "output_type": "stream",
     "text": [
      "[' ', ' ', ' ']\n"
     ]
    }
   ],
   "source": [
    "# every space in the sentence\n",
    "\n",
    "x = re.findall('\\s', s)\n",
    "print(x)"
   ]
  }
 ],
 "metadata": {
  "kernelspec": {
   "display_name": "Python 3",
   "language": "python",
   "name": "python3"
  },
  "language_info": {
   "codemirror_mode": {
    "name": "ipython",
    "version": 3
   },
   "file_extension": ".py",
   "mimetype": "text/x-python",
   "name": "python",
   "nbconvert_exporter": "python",
   "pygments_lexer": "ipython3",
   "version": "3.6.8"
  }
 },
 "nbformat": 4,
 "nbformat_minor": 5
}
