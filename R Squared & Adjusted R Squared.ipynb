{
 "cells": [
  {
   "cell_type": "markdown",
   "id": "aeda0734",
   "metadata": {},
   "source": [
    "# R Squared and Adjusted R Squared"
   ]
  },
  {
   "cell_type": "markdown",
   "id": "ae5d2657",
   "metadata": {},
   "source": [
    "1. R Squared is used to determine the strength of correlation between the features and the target\n",
    "    a. It lets us know how good a regression model is when compared to the mean.\n",
    "    \n",
    "R(2) = 1 - (SSR / SST)\n",
    "    \n",
    "SSR = sum(y(i) - y^i)(2)\n",
    "SST = sum(y(i) - y(avg))(2)\n",
    "\n",
    "We realise that our prediction line fits the data well, but we also need to find:\n",
    "    a. How well does the model fit?\n",
    "    b. Is it at least better than the mean?\n",
    "    \n",
    "- Actual value (Y)\n",
    "- Predicted value (Y^)\n",
    "- Mean value (Y _bar)\n",
    "- Residual (y - y^)\n",
    "- Actual - mean\n",
    "\n",
    "### EXAMPLE:\n",
    "\n",
    "Actual value (Y)   Predicted value (Y^)   Mean value (Y_bar)   Residual(y-y^)   Actual-Mean\n",
    "\n",
    "6100               7100                   7705                 1000             1605\n",
    "9400               8500                   7705                 1100             1695\n",
    "11000             11600                   7705                  600             3295\n",
    "4320               5100                   7705                  780             3385\n",
    "\n",
    "SSR = 1000*1000 + 1100*1100 + 600*600 + 780*780 = 3178400\n",
    "SST = 1605*1605 + 1695*1695 + 3295*3295 + 3385*3385 = 27764300\n",
    "\n",
    "R2 = 1-SSR/SST i.e., 1-3178400/27764300 = 0.8855\n",
    "\n",
    "\n",
    "### ANALYZING R2\n",
    "\n",
    "1. R2 will be 1, if SSR = 0. i.e., Y = Y_hat, which means the predictions are exactly the same actual values.\n",
    "    a. This can never happen as it's impossible to predict continuous values precisely\n",
    "    \n",
    "2. R2 will be 0, if SSR = SST. i.e., y_hat = y_bar.\n",
    "    a. if our predictions are no better than mean then our model has performed poorly.\n",
    "    \n",
    "3. R2 can also be negative, this happens when SSR > SST.\n",
    "    a. which means our predictions are not following the trend of value in turn following the reverse trend, compared to the actual value (Y).\n",
    "    \n",
    "### But wait!\n",
    "\n",
    "1. R square keeps increasing by adding more number of features, this property is called \"R2 inflation\" or \"Increasing nature of R2\".\n",
    "\n",
    "2. Adjusted R Squared has the capability to decrease with the addition of less significant variables, resulting in a more reliable and accurate evaluation.\n",
    "\n",
    "Adj. R(2) = 1 - (1 - R(2)) n-1 / n-k-1\n",
    "\n",
    "K = number of features [Large K, penalize metric]\n",
    "\n",
    "3. Adjusted R Squared is a better model evaluator."
   ]
  }
 ],
 "metadata": {
  "kernelspec": {
   "display_name": "Python 3",
   "language": "python",
   "name": "python3"
  },
  "language_info": {
   "codemirror_mode": {
    "name": "ipython",
    "version": 3
   },
   "file_extension": ".py",
   "mimetype": "text/x-python",
   "name": "python",
   "nbconvert_exporter": "python",
   "pygments_lexer": "ipython3",
   "version": "3.6.8"
  }
 },
 "nbformat": 4,
 "nbformat_minor": 5
}
