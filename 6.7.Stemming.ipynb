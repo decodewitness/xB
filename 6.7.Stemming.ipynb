{
 "cells": [
  {
   "cell_type": "code",
   "execution_count": 1,
   "id": "e98f39bf",
   "metadata": {},
   "outputs": [],
   "source": [
    "import nltk\n",
    "\n",
    "input_text = [\"working\", \"work\", \"month\", \"monthly\", \"going\", \"goes\", \"this\", \"prominent\", \"monument\"]"
   ]
  },
  {
   "cell_type": "code",
   "execution_count": 2,
   "id": "37ee3cc7",
   "metadata": {},
   "outputs": [
    {
     "name": "stdout",
     "output_type": "stream",
     "text": [
      "work\n",
      "work\n",
      "month\n",
      "monthli\n",
      "go\n",
      "goe\n",
      "thi\n",
      "promin\n",
      "monument\n"
     ]
    }
   ],
   "source": [
    "# PorterStemmer\n",
    "porters = nltk.PorterStemmer()\n",
    "for i in input_text:\n",
    "    print(porters.stem(i))"
   ]
  },
  {
   "cell_type": "code",
   "execution_count": 3,
   "id": "0a95c933",
   "metadata": {},
   "outputs": [
    {
     "name": "stdout",
     "output_type": "stream",
     "text": [
      "work\n",
      "work\n",
      "month\n",
      "month\n",
      "go\n",
      "goe\n",
      "this\n",
      "promin\n",
      "monument\n"
     ]
    }
   ],
   "source": [
    "# SnowballStemmer\n",
    "snowballs = nltk.SnowballStemmer(\"english\")\n",
    "for i in input_text:\n",
    "    print(snowballs.stem(i))"
   ]
  },
  {
   "cell_type": "code",
   "execution_count": 4,
   "id": "dd6491bc",
   "metadata": {},
   "outputs": [
    {
     "name": "stdout",
     "output_type": "stream",
     "text": [
      "work\n",
      "work\n",
      "mon\n",
      "month\n",
      "going\n",
      "goe\n",
      "thi\n",
      "promin\n",
      "monu\n"
     ]
    }
   ],
   "source": [
    "# LancasterStemmer\n",
    "lans = nltk.LancasterStemmer()\n",
    "for i in input_text:\n",
    "    print(lans.stem(i))"
   ]
  }
 ],
 "metadata": {
  "kernelspec": {
   "display_name": "Python 3 (ipykernel)",
   "language": "python",
   "name": "python3"
  },
  "language_info": {
   "codemirror_mode": {
    "name": "ipython",
    "version": 3
   },
   "file_extension": ".py",
   "mimetype": "text/x-python",
   "name": "python",
   "nbconvert_exporter": "python",
   "pygments_lexer": "ipython3",
   "version": "3.9.13"
  }
 },
 "nbformat": 4,
 "nbformat_minor": 5
}
