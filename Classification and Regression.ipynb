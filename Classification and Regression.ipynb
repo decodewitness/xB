{
 "cells": [
  {
   "cell_type": "markdown",
   "id": "2b18c110",
   "metadata": {},
   "source": [
    "# CLASSIFICATION AND REGRESSION"
   ]
  },
  {
   "cell_type": "markdown",
   "id": "d7711f64",
   "metadata": {},
   "source": [
    "### Classification\n",
    "\n",
    "* In classification, the algorithms attempt to learn the properties of different categories present within a dataset.\n",
    "\n",
    "* After learning the patterns the classification model will take the specifications of a \"house\" as input and return whether the house is cheap or expensive.\n",
    "\n",
    "* Estimating the mapping function from the input variables to the discrete or categorical output values of the output.\n",
    "\n",
    "* Y is predicted by the mapping function.\n",
    "\n",
    "* logistic regression, random forest, decission tree, etc."
   ]
  },
  {
   "cell_type": "markdown",
   "id": "b108061b",
   "metadata": {},
   "source": [
    "### Regression\n",
    "\n",
    "* Estimating the mapping function from the input variables to numerical or continual output values of the output.\n",
    "\n",
    "* In this case, y is a real value, which can be an integer or a floating-point value. Therefore, regression prediction problems are usually quantities or sizes.\n",
    "\n",
    "* For example, when provided with a dataset about houses, and we are asked to predict their prices, that is a regression task because the price will be a continuous output."
   ]
  }
 ],
 "metadata": {
  "kernelspec": {
   "display_name": "Python 3",
   "language": "python",
   "name": "python3"
  },
  "language_info": {
   "codemirror_mode": {
    "name": "ipython",
    "version": 3
   },
   "file_extension": ".py",
   "mimetype": "text/x-python",
   "name": "python",
   "nbconvert_exporter": "python",
   "pygments_lexer": "ipython3",
   "version": "3.6.8"
  }
 },
 "nbformat": 4,
 "nbformat_minor": 5
}
