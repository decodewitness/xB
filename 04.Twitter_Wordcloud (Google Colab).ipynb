{
 "cells": [
  {
   "cell_type": "markdown",
   "metadata": {
    "id": "WqkEl08jsxRp"
   },
   "source": [
    "#Twitter Scrapes"
   ]
  },
  {
   "cell_type": "code",
   "execution_count": 1,
   "metadata": {
    "colab": {
     "base_uri": "https://localhost:8080/"
    },
    "id": "kym6uhuNswHx",
    "outputId": "cb01a18f-fdbf-48ac-ec32-a92d2157fc33"
   },
   "outputs": [
    {
     "ename": "ModuleNotFoundError",
     "evalue": "No module named 'google'",
     "output_type": "error",
     "traceback": [
      "\u001b[1;31m---------------------------------------------------------------------------\u001b[0m",
      "\u001b[1;31mModuleNotFoundError\u001b[0m                       Traceback (most recent call last)",
      "Cell \u001b[1;32mIn [1], line 1\u001b[0m\n\u001b[1;32m----> 1\u001b[0m \u001b[38;5;28;01mfrom\u001b[39;00m \u001b[38;5;21;01mgoogle\u001b[39;00m\u001b[38;5;21;01m.\u001b[39;00m\u001b[38;5;21;01mcolab\u001b[39;00m \u001b[38;5;28;01mimport\u001b[39;00m drive\n\u001b[0;32m      2\u001b[0m drive\u001b[38;5;241m.\u001b[39mmount(\u001b[38;5;124m'\u001b[39m\u001b[38;5;124mgdrive\u001b[39m\u001b[38;5;124m'\u001b[39m)\n",
      "\u001b[1;31mModuleNotFoundError\u001b[0m: No module named 'google'"
     ]
    }
   ],
   "source": [
    "from google.colab import drive\n",
    "drive.mount('gdrive')"
   ]
  },
  {
   "cell_type": "code",
   "execution_count": null,
   "metadata": {
    "colab": {
     "base_uri": "https://localhost:8080/"
    },
    "id": "Oq6OPvU5tEJX",
    "outputId": "aba17f51-d2d1-41d4-d897-b5a650f891b4"
   },
   "outputs": [],
   "source": [
    "%cd /content/gdrive/My Drive/covertsniper"
   ]
  },
  {
   "cell_type": "code",
   "execution_count": null,
   "metadata": {
    "id": "F4W4Spg1kse4"
   },
   "outputs": [],
   "source": [
    "#%mkdir datasets"
   ]
  },
  {
   "cell_type": "code",
   "execution_count": null,
   "metadata": {
    "colab": {
     "base_uri": "https://localhost:8080/"
    },
    "id": "S0alYJX4tOH1",
    "outputId": "343a51f0-c902-48c6-90c0-8aabee5c3925"
   },
   "outputs": [],
   "source": [
    "!pwd"
   ]
  },
  {
   "cell_type": "code",
   "execution_count": null,
   "metadata": {
    "id": "UlsdYxp6tnpR"
   },
   "outputs": [],
   "source": [
    "#!ls"
   ]
  },
  {
   "cell_type": "code",
   "execution_count": null,
   "metadata": {
    "id": "lXe_VCebk7qz"
   },
   "outputs": [],
   "source": [
    "#!ls datasets"
   ]
  },
  {
   "cell_type": "code",
   "execution_count": null,
   "metadata": {
    "colab": {
     "base_uri": "https://localhost:8080/"
    },
    "id": "5qb29SZWtqZP",
    "outputId": "c942797f-11a8-47e5-f942-651f41ae5c0a"
   },
   "outputs": [],
   "source": [
    "!pip install nest-asyncio "
   ]
  },
  {
   "cell_type": "code",
   "execution_count": null,
   "metadata": {
    "colab": {
     "base_uri": "https://localhost:8080/"
    },
    "id": "112Uq3fGuxTL",
    "outputId": "6801bb6a-f4d6-4e66-ec2f-bf7dbdd6e4e5"
   },
   "outputs": [],
   "source": [
    "#!pip3 install --user --upgrade git+https://github.com/twintproject/twint.git@origin/master#egg=twint\n",
    "#!pip3 install twint\n",
    "\n",
    "# Upgrade Twint\n",
    "!pip3 install --upgrade -e git+https://github.com/twintproject/twint.git@origin/master#egg=twint"
   ]
  },
  {
   "cell_type": "code",
   "execution_count": null,
   "metadata": {
    "id": "HCu7S9NxvvAP"
   },
   "outputs": [],
   "source": [
    "!mv src/twint .\n",
    "!rm -r src"
   ]
  },
  {
   "cell_type": "code",
   "execution_count": null,
   "metadata": {
    "id": "TVz3OX_vv1hT"
   },
   "outputs": [],
   "source": [
    "%load_ext autoreload\n",
    "%autoreload\n",
    "import sys\n",
    "sys.path.append(\"twint/\")"
   ]
  },
  {
   "cell_type": "code",
   "execution_count": null,
   "metadata": {
    "id": "S6udwW3ZwAaz"
   },
   "outputs": [],
   "source": [
    "import twint\n",
    "import pandas as pd\n",
    "import nest_asyncio\n",
    "nest_asyncio.apply()"
   ]
  },
  {
   "cell_type": "code",
   "execution_count": null,
   "metadata": {
    "id": "mGEhYWyowU2m"
   },
   "outputs": [],
   "source": [
    "c = twint.Config()\n",
    "c.Pandas = True\n",
    "c.Store_csv = True\n",
    "#c.Username = \"knowledge\"\n",
    "c.Search = \"#artificial intelligence\"\n",
    "c.Limit = 1500\n",
    "c.Since = \"2022-07-09\"\n",
    "c.Until = \"2022-08-09\"\n",
    "c.Lang = 'en'"
   ]
  },
  {
   "cell_type": "code",
   "execution_count": null,
   "metadata": {
    "colab": {
     "base_uri": "https://localhost:8080/"
    },
    "id": "Etwc8UaWxkV2",
    "outputId": "3bfaf336-917d-44b7-8dfe-0b21b1ac7688"
   },
   "outputs": [],
   "source": [
    "twint.run.Search(c)"
   ]
  },
  {
   "cell_type": "code",
   "execution_count": null,
   "metadata": {
    "colab": {
     "base_uri": "https://localhost:8080/",
     "height": 543
    },
    "id": "oeTtezkqynif",
    "outputId": "df9ff7c9-e5cf-46ee-a192-e5d4e926a5f1"
   },
   "outputs": [],
   "source": [
    " twint.storage.panda.Tweets_df.head()"
   ]
  },
  {
   "cell_type": "code",
   "execution_count": null,
   "metadata": {
    "colab": {
     "base_uri": "https://localhost:8080/"
    },
    "id": "6_L9yjnO02El",
    "outputId": "5f5efdf3-41d6-462e-ffcd-03271a94f807"
   },
   "outputs": [],
   "source": [
    "twint.storage.panda.Tweets_df.count()"
   ]
  },
  {
   "cell_type": "code",
   "execution_count": null,
   "metadata": {
    "colab": {
     "base_uri": "https://localhost:8080/"
    },
    "id": "3vJFBGXW07ml",
    "outputId": "f9b68702-d610-455c-cd08-9fc055884efc"
   },
   "outputs": [],
   "source": [
    "twint.storage.panda.Tweets_df['tweet'].count()"
   ]
  },
  {
   "cell_type": "code",
   "execution_count": null,
   "metadata": {
    "colab": {
     "base_uri": "https://localhost:8080/",
     "height": 70
    },
    "id": "C21ngLJM0_s_",
    "outputId": "a154ebe0-79e9-482f-d821-edc457243a92"
   },
   "outputs": [],
   "source": [
    "twint.storage.panda.Tweets_df['tweet'][10]"
   ]
  },
  {
   "cell_type": "code",
   "execution_count": null,
   "metadata": {
    "colab": {
     "base_uri": "https://localhost:8080/"
    },
    "id": "yJJC7e79Nzu7",
    "outputId": "a2b4fe2f-5e72-48b6-98d9-542aa1ffeb63"
   },
   "outputs": [],
   "source": [
    "!ls"
   ]
  },
  {
   "cell_type": "code",
   "execution_count": null,
   "metadata": {
    "colab": {
     "base_uri": "https://localhost:8080/"
    },
    "id": "j41m4NJw2YRM",
    "outputId": "1bdb3eeb-c737-48b6-a50d-10a065f65df1"
   },
   "outputs": [],
   "source": [
    "twint.storage.panda.Tweets_df.to_csv('artificial intelligence.csv')\n",
    "!cp 'artificial intelligence.csv' \"gdrive/My Drive/covertsniper/artificial intelligence.csv\""
   ]
  },
  {
   "cell_type": "code",
   "execution_count": null,
   "metadata": {
    "id": "0P7_Dw7ore_F"
   },
   "outputs": [],
   "source": [
    "%rm 'artificial intelligence.csv'"
   ]
  },
  {
   "cell_type": "code",
   "execution_count": null,
   "metadata": {
    "id": "AAMKlIxpfDg_"
   },
   "outputs": [],
   "source": [
    "df = pd.DataFrame(twint.storage.panda.Tweets_df['tweet'])"
   ]
  },
  {
   "cell_type": "code",
   "execution_count": null,
   "metadata": {
    "colab": {
     "base_uri": "https://localhost:8080/",
     "height": 206
    },
    "id": "CknpdWq0fDeQ",
    "outputId": "86b93d83-4c77-438f-ca21-d8f4c6fc95fb"
   },
   "outputs": [],
   "source": [
    "df.head()"
   ]
  },
  {
   "cell_type": "code",
   "execution_count": null,
   "metadata": {
    "colab": {
     "base_uri": "https://localhost:8080/"
    },
    "id": "zr4j2DsdfDbk",
    "outputId": "16bcd4d1-86a3-4949-e5b9-ed1e9037f386"
   },
   "outputs": [],
   "source": [
    "df.shape"
   ]
  },
  {
   "cell_type": "code",
   "execution_count": null,
   "metadata": {
    "colab": {
     "base_uri": "https://localhost:8080/"
    },
    "id": "XE6VosJGfDVB",
    "outputId": "bb64118f-470b-40db-d064-15cfe7720f21"
   },
   "outputs": [],
   "source": [
    "df.info()"
   ]
  },
  {
   "cell_type": "code",
   "execution_count": null,
   "metadata": {
    "colab": {
     "base_uri": "https://localhost:8080/"
    },
    "id": "cfhH-9LMfDSR",
    "outputId": "4ad857b0-70e8-43bc-8e1c-36f97a53315c"
   },
   "outputs": [],
   "source": [
    "df['tweet'].isnull().sum()"
   ]
  },
  {
   "cell_type": "code",
   "execution_count": null,
   "metadata": {
    "id": "dwz1pAoDgOlC"
   },
   "outputs": [],
   "source": [
    "import re"
   ]
  },
  {
   "cell_type": "code",
   "execution_count": null,
   "metadata": {
    "id": "OYws1u58fDP7"
   },
   "outputs": [],
   "source": [
    "def clean_users(text):\n",
    "  ftext = re.sub(r'(^|[^@\\w])@(\\w{1,15})\\b', ' ', text)\n",
    "  print(ftext)\n",
    "  return ftext\n",
    "\n",
    "def clean_strings(text):\n",
    "  # ftext = re.sub(r'^[A-Za-z0-9]', ' ', text)\n",
    "  text.replace(\"https://\", '')\n",
    "  text.replace(\"http://\", '')\n",
    "  text.replace(\"ftp://\", '')\n",
    "  text.replace(\"www.\", '')\n",
    "  text.replace(\"(?i)[^0-9a-z!?.;,@' -]\",'')\n",
    "  text.replace('[^a-zA-Z]', ' ')\n",
    "  print(text)\n",
    "  return text\n",
    "\n",
    "def clean_hashtags(text):\n",
    "  text = re.sub('\\#[\\w\\_]+',' ', text)\n",
    "  print(text)\n",
    "  return text"
   ]
  },
  {
   "cell_type": "code",
   "execution_count": null,
   "metadata": {
    "colab": {
     "base_uri": "https://localhost:8080/",
     "height": 107
    },
    "id": "GLOuvbuNfDNa",
    "outputId": "8aa47ae9-ade6-48ea-918c-45aa8238cb81"
   },
   "outputs": [],
   "source": [
    "clean_users(twint.storage.panda.Tweets_df['tweet'][10])"
   ]
  },
  {
   "cell_type": "code",
   "execution_count": null,
   "metadata": {
    "colab": {
     "base_uri": "https://localhost:8080/",
     "height": 52
    },
    "id": "p5ks6YQbfDLJ",
    "outputId": "cd0b4d24-8121-48c1-d5b6-0e8cc6b9baf2"
   },
   "outputs": [],
   "source": [
    "clean_strings(twint.storage.panda.Tweets_df['tweet'][11])"
   ]
  },
  {
   "cell_type": "code",
   "execution_count": null,
   "metadata": {
    "colab": {
     "base_uri": "https://localhost:8080/"
    },
    "id": "3f_fFDN4ht2M",
    "outputId": "793b1d47-66c5-4749-c526-e58af0d266a9"
   },
   "outputs": [],
   "source": [
    "df['clean_tweets'] = df['tweet'].apply(clean_users)\n",
    "df['clean_tweets'] = df['tweet'].apply(clean_strings)\n",
    "df['clean_tweets'] = df['tweet'].apply(clean_hashtags)"
   ]
  },
  {
   "cell_type": "code",
   "execution_count": null,
   "metadata": {
    "colab": {
     "base_uri": "https://localhost:8080/",
     "height": 206
    },
    "id": "RA32RvkChtzd",
    "outputId": "602e2bab-5fe8-4a8a-8521-4621fb91a060"
   },
   "outputs": [],
   "source": [
    "df.head()"
   ]
  },
  {
   "cell_type": "code",
   "execution_count": null,
   "metadata": {
    "colab": {
     "base_uri": "https://localhost:8080/",
     "height": 35
    },
    "id": "oSFfl0g1htwd",
    "outputId": "9310b019-882f-48ee-b847-bce645778755"
   },
   "outputs": [],
   "source": [
    "df['clean_tweets'][0]"
   ]
  },
  {
   "cell_type": "code",
   "execution_count": null,
   "metadata": {
    "id": "Shx0Mesqhttr"
   },
   "outputs": [],
   "source": [
    "import numpy as np\n",
    "import pandas as pd\n",
    "\n",
    "from wordcloud import WordCloud\n",
    "from sklearn.feature_extraction.text import CountVectorizer\n",
    "\n",
    "import matplotlib.pyplot as plt"
   ]
  },
  {
   "cell_type": "code",
   "execution_count": null,
   "metadata": {
    "colab": {
     "base_uri": "https://localhost:8080/",
     "height": 635
    },
    "id": "6HIlfJ_5htop",
    "outputId": "07930c43-aa92-4a34-8ea6-7cf3cc547a04"
   },
   "outputs": [],
   "source": [
    "# plot the Wordscloud\n",
    "\n",
    "cv = CountVectorizer(stop_words = 'english')\n",
    "words = cv.fit_transform(df.clean_tweets)\n",
    "sum_words = words.sum(axis=0)\n",
    "\n",
    "words_freq = [(word, sum_words[0, idx]) for word, idx in cv.vocabulary_.items()]\n",
    "words_freq = sorted(words_freq, key = lambda x: x[1], reverse = True)\n",
    "\n",
    "wordcloud = WordCloud(background_color = 'lightcyan', width = 2000, height = 2000).generate_from_frequencies(dict(words_freq))\n",
    "\n",
    "plt.style.use('fivethirtyeight')\n",
    "plt.figure(figsize=(10, 10))\n",
    "plt.axis('off')\n",
    "plt.imshow(wordcloud)\n",
    "plt.title(\"Ai from Twitter\", fontsize = 20)\n",
    "plt.show()"
   ]
  },
  {
   "cell_type": "markdown",
   "metadata": {
    "id": "xKrB6Jtb8g0R"
   },
   "source": [
    "# <font color=\"green\" /> *** Configuration To Scrape A Username ***\n",
    "<br />\n",
    "\n",
    "#### <font color=\"orange\" /> *Config for Username*:\n",
    "\n",
    "```\n",
    "c = twint.Config()\n",
    "c.Pandas = True\n",
    "c.Username = \"Type Username\"\n",
    "c.Limit = 1250\n",
    "c.Since = \"2022-01-01\"\n",
    "c.Until = \"2022-05-20\"\n",
    "c.Store_csv = True\n",
    "```\n",
    "\n",
    "Using the 'c.Username = \"username\" directive, you can search specific users on Twitter.\n",
    "\n",
    "<br />\n",
    "\n",
    "<font color=\"orange\" /> E.g.:\n",
    "```\n",
    "c.Username = \"martin lawrence\"\n",
    "```\n",
    "<br />\n",
    "\n",
    "# <font color=\"FF0000\" /> *** Scraping User Data With A Username ***\n",
    "\n",
    "<br />\n",
    "\n",
    "\n"
   ]
  },
  {
   "cell_type": "code",
   "execution_count": null,
   "metadata": {
    "id": "R0bkzg2e8qkV"
   },
   "outputs": [],
   "source": [
    "# c = twint.Config()\n",
    "# c.Pandas = True\n",
    "# c.Username = \"knowledge\"\n",
    "# c.Limit = 1250\n",
    "# c.Since = \"2022-01-01\"\n",
    "# c.Until = \"2022-05-20\"\n",
    "# c.Store_csv = True"
   ]
  },
  {
   "cell_type": "code",
   "execution_count": null,
   "metadata": {
    "id": "PdQ9bpVH9jtz"
   },
   "outputs": [],
   "source": [
    "# twint.run.Search(c)"
   ]
  },
  {
   "cell_type": "code",
   "execution_count": null,
   "metadata": {
    "id": "_HM7kmMk93FL"
   },
   "outputs": [],
   "source": [
    "# twint.storage.panda.Tweets_df['tweet'].count()"
   ]
  },
  {
   "cell_type": "code",
   "execution_count": null,
   "metadata": {
    "id": "TdM4OGY8-M9i"
   },
   "outputs": [],
   "source": [
    "# twint.storage.panda.Tweets_df['tweet'][122]"
   ]
  },
  {
   "cell_type": "code",
   "execution_count": null,
   "metadata": {
    "id": "TKjsworjrQao"
   },
   "outputs": [],
   "source": [
    "# twint.storage.panda.Tweets_df.to_csv('username.csv')\n",
    "# !cp 'username.csv' \"gdrive/My Drive/covertsniper/username.csv\""
   ]
  },
  {
   "cell_type": "markdown",
   "metadata": {
    "id": "0N4TZ1z3puJo"
   },
   "source": [
    "# <font color=\"FF0000\" />:=--{*** *TWINT CONFIGURATION CODE* ***}--=:\n",
    "\n",
    "### Also, don't mind about the c.Username argument or c.Geo argument.<br />\n",
    "Since those are only for searching a specific user E.g.: (c.Username = \"username\").\n",
    "<br />Or, Geotags E.g.: (c.Geo = \"51.5, -0.127, 15km\").\n",
    "\n",
    "```\n",
    "c = twint.Config()\n",
    "c.Pandas = True\n",
    "c.Store_csv = True\n",
    "c.Search = \"knowledge wealthy\"\n",
    "#c.Username = \"username\"\n",
    "#c.Geo = \"51.5, -0.127, 15km\"\n",
    "c.Limit = 1250\n",
    "c.Since = \"2022-04-26\"\n",
    "c.Until = \"2022-07-26\"\n",
    "c.Lang = 'en'```\n",
    "```\n",
    "```\n",
    "twint.run.Search(c)\n",
    "```\n",
    "```\n",
    "twint.storage.panda.Tweets_df['tweet'].count()\n",
    "\n",
    "```\n",
    "```\n",
    "twint.storage.panda.Tweets_df['tweet'][122]\n",
    "\n",
    "```\n",
    "```\n",
    "twint.storage.panda.Tweets_df.to_csv('knowledge wealthy.csv')\n",
    "!mv 'knowledge wealthy.csv' \"gdrive/My Drive/covertsniper/knowledge wealthy.csv\"\n",
    "```\n",
    "<br />\n",
    "\n",
    "#<font color=\"FF0000\" />*** *CUSTOM SCRAPE* ***\n",
    "\n",
    "<br />"
   ]
  },
  {
   "cell_type": "code",
   "execution_count": null,
   "metadata": {
    "id": "jR4CnluEp1_c"
   },
   "outputs": [],
   "source": [
    "# c = twint.Config()\n",
    "# c.Pandas = True\n",
    "# c.Store_csv = True\n",
    "# c.Search = \"knowledge wealthy\"\n",
    "# #c.Username = \"username\"\n",
    "# #c.Geo = \"51.5, -0.127, 15km\"\n",
    "# c.Limit = 1250\n",
    "# c.Since = \"2022-04-26\"\n",
    "# c.Until = \"2022-07-26\"\n",
    "# c.Lang = 'en'"
   ]
  },
  {
   "cell_type": "code",
   "execution_count": null,
   "metadata": {
    "id": "nrsNFlNzqr2Y"
   },
   "outputs": [],
   "source": [
    "# twint.run.Search(c)"
   ]
  },
  {
   "cell_type": "code",
   "execution_count": null,
   "metadata": {
    "id": "FtHSnhkVeEBk"
   },
   "outputs": [],
   "source": []
  },
  {
   "cell_type": "code",
   "execution_count": null,
   "metadata": {
    "id": "pMpz22CfeD_N"
   },
   "outputs": [],
   "source": []
  },
  {
   "cell_type": "code",
   "execution_count": null,
   "metadata": {
    "id": "XrAxCMi0eD8q"
   },
   "outputs": [],
   "source": []
  },
  {
   "cell_type": "code",
   "execution_count": null,
   "metadata": {
    "id": "vprz_MKLeD6E"
   },
   "outputs": [],
   "source": []
  },
  {
   "cell_type": "code",
   "execution_count": null,
   "metadata": {
    "id": "tC3PQwjSeD3E"
   },
   "outputs": [],
   "source": []
  },
  {
   "cell_type": "code",
   "execution_count": null,
   "metadata": {
    "id": "xvCVqFcFeD0P"
   },
   "outputs": [],
   "source": []
  },
  {
   "cell_type": "code",
   "execution_count": null,
   "metadata": {
    "id": "vOyPC4ETqyhL"
   },
   "outputs": [],
   "source": [
    "# twint.storage.panda.Tweets_df['tweet'].count()"
   ]
  },
  {
   "cell_type": "code",
   "execution_count": null,
   "metadata": {
    "id": "EifORRE3q2SN"
   },
   "outputs": [],
   "source": [
    "# twint.storage.panda.Tweets_df['tweet'][122]"
   ]
  },
  {
   "cell_type": "code",
   "execution_count": null,
   "metadata": {
    "id": "XLOFWmGdq97s"
   },
   "outputs": [],
   "source": [
    "# twint.storage.panda.Tweets_df.to_csv('knowledge wealthy.csv')\n",
    "# !mv 'knowledge wealthy.csv' \"gdrive/My Drive/covertsniper/knowledge wealthy.csv\""
   ]
  },
  {
   "cell_type": "markdown",
   "metadata": {
    "id": "GDjVAAXYuRi4"
   },
   "source": [
    "# <font color=\"green\" /> *** Configuration Geo Tag Scraping ***\n",
    "\n",
    "You can scrape geotags with the c.Geo command.\n",
    "\n",
    "<br />\n",
    "\n",
    "<font color=\"orange\" /> Example:\n",
    "```\n",
    "c = twint.Config()\n",
    "c.Pandas = True\n",
    "c.Geo = \"51.5, -0.127, 15km\"\n",
    "c.Limit = 1250\n",
    "c.Search = \"bitcoin\"\n",
    "c.Since = \"2022-04-26\"\n",
    "c.Until = \"2022-07-26\"\n",
    "c.Store_csv = True\n",
    "```\n",
    "<br />\n",
    "\n",
    "<font color=\"orange\" /> E.g:\n",
    "```\n",
    "c.Geo = \"51.5, -0.127, 15km\"\n",
    "```\n",
    "\n",
    "<br />\n",
    "#<font color='FF0000'>*** Scraping Geo Tag Data ***\n",
    "<br />"
   ]
  },
  {
   "cell_type": "code",
   "execution_count": null,
   "metadata": {
    "id": "ZJj8Dl5_uY9L"
   },
   "outputs": [],
   "source": [
    "# c = twint.Config()\n",
    "# c.Pandas = True\n",
    "# c.Geo = \"51.5, -0.127, 15km\"\n",
    "# c.Limit = 1250\n",
    "# c.Search = \"bitcoin\"\n",
    "# c.Since = \"2022-04-26\"\n",
    "# c.Until = \"2022-07-26\"\n",
    "# c.Store_csv = True"
   ]
  },
  {
   "cell_type": "code",
   "execution_count": null,
   "metadata": {
    "id": "dWFTD3PEwykU"
   },
   "outputs": [],
   "source": [
    "# twint.run.Search(c)"
   ]
  },
  {
   "cell_type": "code",
   "execution_count": null,
   "metadata": {
    "id": "fw7kR_0PxQ5C"
   },
   "outputs": [],
   "source": [
    "# twint.storage.panda.Tweets_df['tweet'].count()"
   ]
  },
  {
   "cell_type": "code",
   "execution_count": null,
   "metadata": {
    "id": "60KkIycPyOfT"
   },
   "outputs": [],
   "source": [
    "# twint.storage.panda.Tweets_df.head()"
   ]
  },
  {
   "cell_type": "code",
   "execution_count": null,
   "metadata": {
    "id": "I3VarPxuyZcx"
   },
   "outputs": [],
   "source": [
    "# twint.storage.panda.Tweets_df['tweet'][100]"
   ]
  }
 ],
 "metadata": {
  "colab": {
   "collapsed_sections": [],
   "name": "Twitter_Scraping_Wordcloud.ipynb",
   "provenance": []
  },
  "kernelspec": {
   "display_name": "Python 3 (ipykernel)",
   "language": "python",
   "name": "python3"
  },
  "language_info": {
   "codemirror_mode": {
    "name": "ipython",
    "version": 3
   },
   "file_extension": ".py",
   "mimetype": "text/x-python",
   "name": "python",
   "nbconvert_exporter": "python",
   "pygments_lexer": "ipython3",
   "version": "3.9.0"
  }
 },
 "nbformat": 4,
 "nbformat_minor": 1
}
