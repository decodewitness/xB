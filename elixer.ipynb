{
 "cells": [
  {
   "cell_type": "markdown",
   "id": "6cd1d704",
   "metadata": {},
   "source": [
    "# ElixEr v.0.1-1(alpha)"
   ]
  },
  {
   "cell_type": "markdown",
   "id": "03cf01e4",
   "metadata": {},
   "source": [
    "### SCRAPED(1) DATA OF/FROM TWITTER (w/ TWINT)"
   ]
  },
  {
   "cell_type": "code",
   "execution_count": null,
   "id": "4620c5ca",
   "metadata": {},
   "outputs": [],
   "source": [
    "# from google.colab import drive\n",
    "# drive.mount('gdrive')"
   ]
  },
  {
   "cell_type": "code",
   "execution_count": null,
   "id": "cf9cfedd",
   "metadata": {},
   "outputs": [],
   "source": [
    "# !mkdir scraper\n",
    "# %mkdir scraper"
   ]
  },
  {
   "cell_type": "code",
   "execution_count": null,
   "id": "81bca5ef",
   "metadata": {},
   "outputs": [],
   "source": [
    "# %cd /content/gdrive/My Drive/scraper\n",
    "!cd scraper"
   ]
  },
  {
   "cell_type": "code",
   "execution_count": null,
   "id": "9eb0a867",
   "metadata": {},
   "outputs": [],
   "source": [
    "# !pwd"
   ]
  },
  {
   "cell_type": "code",
   "execution_count": null,
   "id": "59d9de05",
   "metadata": {},
   "outputs": [],
   "source": [
    "# !ls"
   ]
  },
  {
   "cell_type": "code",
   "execution_count": null,
   "id": "544db826",
   "metadata": {},
   "outputs": [],
   "source": [
    "!pip install nest-asyncio "
   ]
  },
  {
   "cell_type": "code",
   "execution_count": null,
   "id": "6b229ba7",
   "metadata": {},
   "outputs": [],
   "source": [
    "# Upgrade Twint\n",
    "!pip3 install --upgrade -e \"git+https://github.com/twintproject/twint.git@origin/master#egg=twint\""
   ]
  },
  {
   "cell_type": "code",
   "execution_count": null,
   "id": "b764c9d3",
   "metadata": {},
   "outputs": [],
   "source": [
    "# !mv src/twint .\n",
    "# !rm -r src"
   ]
  },
  {
   "cell_type": "code",
   "execution_count": null,
   "id": "f6994990",
   "metadata": {},
   "outputs": [],
   "source": [
    "%load_ext autoreload\n",
    "%autoreload\n",
    "import sys\n",
    "sys.path.append(\"twint/\")"
   ]
  },
  {
   "cell_type": "code",
   "execution_count": null,
   "id": "9780bdd2",
   "metadata": {},
   "outputs": [],
   "source": [
    "import twint\n",
    "import pandas as pd\n",
    "import nest_asyncio\n",
    "nest_asyncio.apply()"
   ]
  },
  {
   "cell_type": "code",
   "execution_count": null,
   "id": "fc19982c",
   "metadata": {},
   "outputs": [],
   "source": [
    "# c.Search is the term to search for on Twitter, c.Username is the @handle.\n",
    "c = twint.Config()\n",
    "c.Pandas = True\n",
    "c.Store_csv = True\n",
    "#c.Username = \"knowledge\"\n",
    "c.Search = \"#joke\"\n",
    "c.Limit = 250\n",
    "c.Since = \"2022-07-20\"\n",
    "c.Until = \"2022-08-20\"\n",
    "c.Lang = 'en'"
   ]
  },
  {
   "cell_type": "code",
   "execution_count": null,
   "id": "1a722ab9",
   "metadata": {},
   "outputs": [],
   "source": [
    "twint.run.Search(c)"
   ]
  },
  {
   "cell_type": "code",
   "execution_count": null,
   "id": "5367d677",
   "metadata": {},
   "outputs": [],
   "source": [
    "twint.storage.panda.Tweets_df['tweet'].count()"
   ]
  },
  {
   "cell_type": "code",
   "execution_count": null,
   "id": "5a511123",
   "metadata": {},
   "outputs": [],
   "source": [
    "twint.storage.panda.Tweets_df.count()"
   ]
  },
  {
   "cell_type": "code",
   "execution_count": null,
   "id": "044d9239",
   "metadata": {},
   "outputs": [],
   "source": [
    "twint.storage.panda.Tweets_df.head()"
   ]
  },
  {
   "cell_type": "code",
   "execution_count": null,
   "id": "ef8b0aff",
   "metadata": {},
   "outputs": [],
   "source": [
    "twint.storage.panda.Tweets_df['tweet'][0]"
   ]
  },
  {
   "cell_type": "code",
   "execution_count": null,
   "id": "c52608c8",
   "metadata": {},
   "outputs": [],
   "source": [
    "# !ls"
   ]
  },
  {
   "cell_type": "code",
   "execution_count": null,
   "id": "98f2dc63",
   "metadata": {},
   "outputs": [],
   "source": [
    "twint.storage.panda.Tweets_df.to_csv('clean_jokes.csv')\n",
    "# !cp 'joke.csv' \"gdrive/My Drive/scrapes/joke.csv\""
   ]
  },
  {
   "cell_type": "markdown",
   "id": "392030c5",
   "metadata": {},
   "source": [
    "## CLEANING DATATA"
   ]
  },
  {
   "cell_type": "code",
   "execution_count": null,
   "id": "ca9b6e65",
   "metadata": {},
   "outputs": [],
   "source": [
    "import numpy as np\n",
    "import pandas as pd\n",
    "\n",
    "import matplotlib.pyplot as plt\n",
    "import seaborn as sns"
   ]
  },
  {
   "cell_type": "code",
   "execution_count": null,
   "id": "36cbbc27",
   "metadata": {},
   "outputs": [],
   "source": [
    "data = pd.read_csv('clean_jokes.csv')\n",
    "\n",
    "data.shape"
   ]
  },
  {
   "cell_type": "code",
   "execution_count": null,
   "id": "c0d4c71d",
   "metadata": {},
   "outputs": [],
   "source": [
    "data.head(3)"
   ]
  },
  {
   "cell_type": "code",
   "execution_count": null,
   "id": "b343c9e7",
   "metadata": {},
   "outputs": [],
   "source": [
    "data.isnull().sum()"
   ]
  },
  {
   "cell_type": "code",
   "execution_count": null,
   "id": "06e4e1f2",
   "metadata": {},
   "outputs": [],
   "source": [
    "import re\n",
    "import nltk\n",
    "from nltk.tokenize import RegexpTokenizer"
   ]
  },
  {
   "cell_type": "code",
   "execution_count": null,
   "id": "f946bbf9",
   "metadata": {},
   "outputs": [],
   "source": [
    "def non_ascii(s):\n",
    "    return \"\".join(i for i in s if ord(i)<128)\n",
    "\n",
    "def clean_links(text):\n",
    "    txt = re.compile('http(s)?://\\w+(\\.\\w+){1,}(/\\w+)*')\n",
    "    return txt.sub(r'', text)\n",
    "\n",
    "def clean_html(text):\n",
    "    html = re.compile('<.*?>')\n",
    "    return html.sub(r'', text)\n",
    "\n",
    "def punct(text):\n",
    "    token = nltk.tokenize.RegexpTokenizer(r'\\w+')\n",
    "    text = token.tokenize(text)\n",
    "    text = \" \".join(text)\n",
    "    return text\n",
    "\n",
    "def clean(text):\n",
    "    text = non_ascii(text)\n",
    "    text = str.lower(text)\n",
    "    text = clean_links(text)\n",
    "    text = clean_html(text)\n",
    "    text = punct(text)\n",
    "    return text\n"
   ]
  },
  {
   "cell_type": "code",
   "execution_count": null,
   "id": "32a4c267",
   "metadata": {},
   "outputs": [],
   "source": [
    "data['cleaned'] = data['tweet'].apply(clean)"
   ]
  },
  {
   "cell_type": "code",
   "execution_count": null,
   "id": "56b145fd",
   "metadata": {},
   "outputs": [],
   "source": [
    "data['cleaned'].head()"
   ]
  },
  {
   "cell_type": "code",
   "execution_count": null,
   "id": "f739b397",
   "metadata": {},
   "outputs": [],
   "source": [
    "print(data['cleaned'][0])"
   ]
  },
  {
   "cell_type": "code",
   "execution_count": null,
   "id": "57ddf851",
   "metadata": {},
   "outputs": [],
   "source": [
    "print(data['cleaned'][2])"
   ]
  },
  {
   "cell_type": "code",
   "execution_count": null,
   "id": "7a9b9ce2",
   "metadata": {},
   "outputs": [],
   "source": [
    "data.to_csv(\"clean_jokes.csv\")"
   ]
  },
  {
   "cell_type": "markdown",
   "id": "0343c300",
   "metadata": {},
   "source": [
    "# Adding the final ingredients -> (ELIXER).\n",
    "\n",
    "### Alexa Like Bot voice"
   ]
  },
  {
   "cell_type": "code",
   "execution_count": null,
   "id": "a78a8fb6",
   "metadata": {},
   "outputs": [],
   "source": [
    "!python --version"
   ]
  },
  {
   "cell_type": "code",
   "execution_count": null,
   "id": "9706a79d",
   "metadata": {},
   "outputs": [],
   "source": [
    "!pip install SpeechRecognition\n",
    "!pip install pyttsx3\n",
    "!pip install PyAudio # if error lower version python <=3.6\n",
    "!pip install pywhatkit\n",
    "!pip install wikipedia\n",
    "!pip install pyjokes"
   ]
  },
  {
   "cell_type": "code",
   "execution_count": null,
   "id": "05e924db",
   "metadata": {},
   "outputs": [],
   "source": [
    "import speech_recognition as sr\n",
    "import pyttsx3\n",
    "import pywhatkit\n",
    "import datetime\n",
    "import wikipedia\n",
    "import pyjokes"
   ]
  },
  {
   "cell_type": "code",
   "execution_count": null,
   "id": "648fdf28",
   "metadata": {},
   "outputs": [],
   "source": [
    "listener = sr.Recognizer()\n",
    "engine = pyttsx3.init()\n",
    "voices = engine.getProperty('voices')\n",
    "engine.setProperty('voice', voices[1].id)"
   ]
  },
  {
   "cell_type": "code",
   "execution_count": null,
   "id": "f2bed8e3",
   "metadata": {},
   "outputs": [],
   "source": [
    "engine.setProperty('rate', 120)"
   ]
  },
  {
   "cell_type": "code",
   "execution_count": null,
   "id": "83f58294",
   "metadata": {},
   "outputs": [],
   "source": [
    "def talk(text):\n",
    "    engine.say(text)\n",
    "    engine.runAndWait()\n",
    "\n",
    "def run_alexa(c):\n",
    "    commando = c\n",
    "    talk(commando)"
   ]
  },
  {
   "cell_type": "code",
   "execution_count": null,
   "id": "504233b0",
   "metadata": {},
   "outputs": [],
   "source": [
    "elix = []\n",
    "elix.append(\"Added the final ingredients to your elixer.\")\n",
    "elix.append(\"Please help support this model, by visiting our website combine research dot com\")\n",
    "\n",
    "for i in elix:\n",
    "    talk(i)"
   ]
  },
  {
   "cell_type": "code",
   "execution_count": null,
   "id": "4a6f4266",
   "metadata": {},
   "outputs": [],
   "source": [
    "import pandas as pd\n",
    "import numpy as np"
   ]
  },
  {
   "cell_type": "code",
   "execution_count": null,
   "id": "e7f4fde7",
   "metadata": {},
   "outputs": [],
   "source": [
    "data = pd.read_csv('clean_jokes.csv')"
   ]
  },
  {
   "cell_type": "code",
   "execution_count": null,
   "id": "2b8cfda8",
   "metadata": {},
   "outputs": [],
   "source": [
    "rate = engine.getProperty('rate')\n",
    "print (rate)"
   ]
  },
  {
   "cell_type": "code",
   "execution_count": null,
   "id": "1ddc4671",
   "metadata": {},
   "outputs": [],
   "source": [
    "max_size = data.shape[0]\n",
    "randn = np.random.randint(max_size)\n",
    "\n",
    "print(randn)"
   ]
  },
  {
   "cell_type": "code",
   "execution_count": null,
   "id": "6105c859",
   "metadata": {},
   "outputs": [],
   "source": [
    "def execute(val):\n",
    "    i = val\n",
    "    max_size = data.shape[0]\n",
    "    randn = np.random.randint(max_size)\n",
    "    print(\"* (running index): \", randn)\n",
    "    \n",
    "    ###\n",
    "#     twt = data['cleaned'][randn] # <-----\n",
    "\n",
    "    ### do routine ###\n",
    "    count = 0\n",
    "    twt = ''\n",
    "    \n",
    "    for s in data['cleaned'][randn]:\n",
    "        count = count + 1\n",
    "        if count > 100:\n",
    "            twt = str(twt + s)\n",
    "            break\n",
    "        else:\n",
    "            twt = str(twt + s)\n",
    "            \n",
    "    ### end of routine ###\n",
    "    \n",
    "    print(\"\\n* (Tweet):\\n\\\"\" + twt + \"\\\"\")\n",
    "    run_alexa(twt)\n",
    "    engine.save_to_file(twt[i], 'tweet.mp3')\n",
    "    return i, twt"
   ]
  },
  {
   "cell_type": "code",
   "execution_count": null,
   "id": "c0447445",
   "metadata": {
    "scrolled": true
   },
   "outputs": [],
   "source": [
    "from time import time, sleep\n",
    "\n",
    "all = []\n",
    "val = 0 # last value incremented by running function\n",
    "o = 4 # 100 / 4 = 25% time factor\n",
    "p = 5 # o * p == 4*5 = 20% time deviation up or down;\n",
    "\n",
    "\n",
    "# go in a loop and print the returned number and number of the last tweet.\n",
    "while True:\n",
    "    ret, twe = execute(val)\n",
    "    ret = ret + 1\n",
    "    val = ret\n",
    "    all.append(twe)\n",
    "\n",
    "    timev = 96\n",
    "    timeval1 = timev - np.random.randint(21) + 1\n",
    "    timeval2 = timev + np.random.randint(21) + 1\n",
    "    \n",
    "    # calculate the time value which is ultimately used\n",
    "    timeval = (timeval1 + timeval2) / 2\n",
    "    print(\"\\n* (current variation):\\ninterval is leaving in (ETA): ~\" + str(timeval) + \" seconds.\\n\\n\")\n",
    "    \n",
    "    # actually sleep\n",
    "    #sleep(95-time() % 95) # (original version) of this command\n",
    "    sleep(timev - time() % timeval) # if 100 == run every 100 seconds\n",
    "    \n",
    "print(\"ret: \" + ret + \"tweet: \" + twe)"
   ]
  }
 ],
 "metadata": {
  "kernelspec": {
   "display_name": "Python 3 (ipykernel)",
   "language": "python",
   "name": "python3"
  },
  "language_info": {
   "codemirror_mode": {
    "name": "ipython",
    "version": 3
   },
   "file_extension": ".py",
   "mimetype": "text/x-python",
   "name": "python",
   "nbconvert_exporter": "python",
   "pygments_lexer": "ipython3",
   "version": "3.9.12"
  }
 },
 "nbformat": 4,
 "nbformat_minor": 5
}
