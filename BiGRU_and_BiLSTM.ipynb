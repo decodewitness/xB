{
  "cells": [
    {
      "cell_type": "code",
      "execution_count": 1,
      "metadata": {
        "colab": {
          "base_uri": "https://localhost:8080/"
        },
        "id": "LkWvX8zTJu97",
        "outputId": "446b7e82-5d25-466e-c88b-368af2530018"
      },
      "outputs": [
        {
          "output_type": "stream",
          "name": "stdout",
          "text": [
            "--2022-06-26 16:11:17--  https://www.dropbox.com/s/pdhwlpi2yeie0ol/movie-reviews-dataset.zip\n",
            "Resolving www.dropbox.com (www.dropbox.com)... 162.125.81.18, 2620:100:6025:18::a27d:4512\n",
            "Connecting to www.dropbox.com (www.dropbox.com)|162.125.81.18|:443... connected.\n",
            "HTTP request sent, awaiting response... 301 Moved Permanently\n",
            "Location: /s/raw/pdhwlpi2yeie0ol/movie-reviews-dataset.zip [following]\n",
            "--2022-06-26 16:11:17--  https://www.dropbox.com/s/raw/pdhwlpi2yeie0ol/movie-reviews-dataset.zip\n",
            "Reusing existing connection to www.dropbox.com:443.\n",
            "HTTP request sent, awaiting response... 302 Found\n",
            "Location: https://uccdc659d85106c2d4822de1eb49.dl.dropboxusercontent.com/cd/0/inline/Bn_bh14QufzzqJQb9w9spekoOQSdjzNxO3meIbjLv4KyqK7iJtg0Hj7oYFbdbBAA3Sw4DTWtwLg1_RQy9sn5abMTNMN1CXaKqv4kbH4opXwNK5RDLKjAwdhWHOEgrY5z9Eux3CMBIy4zlwLvSCR6-TzYwtn373C2c5MKWZ73vGHAuw/file# [following]\n",
            "--2022-06-26 16:11:18--  https://uccdc659d85106c2d4822de1eb49.dl.dropboxusercontent.com/cd/0/inline/Bn_bh14QufzzqJQb9w9spekoOQSdjzNxO3meIbjLv4KyqK7iJtg0Hj7oYFbdbBAA3Sw4DTWtwLg1_RQy9sn5abMTNMN1CXaKqv4kbH4opXwNK5RDLKjAwdhWHOEgrY5z9Eux3CMBIy4zlwLvSCR6-TzYwtn373C2c5MKWZ73vGHAuw/file\n",
            "Resolving uccdc659d85106c2d4822de1eb49.dl.dropboxusercontent.com (uccdc659d85106c2d4822de1eb49.dl.dropboxusercontent.com)... 162.125.81.15, 2620:100:6031:15::a27d:510f\n",
            "Connecting to uccdc659d85106c2d4822de1eb49.dl.dropboxusercontent.com (uccdc659d85106c2d4822de1eb49.dl.dropboxusercontent.com)|162.125.81.15|:443... connected.\n",
            "HTTP request sent, awaiting response... 302 Found\n",
            "Location: /cd/0/inline2/Bn-OmX6Dbth8OLKAtKA4g1E9Fql6n9W5BVe4GmgMG7j04cxYAhlCHatbuzLM4EHjYA4M8AhuOJy0m0KPW5b9sdlXwDlZZRT8BAhcszBkyjR5DhmTHnbJvfXI0aFJEQQY1FNfQwpkp8rb3Etup-V0mhPSuW142ug104HipgHgUVB2nRlgHg9rXwsakgFYx1xQWGMABtN25h0IGSSOGJztw-nYqo7tzMETUBmwiscjBPHH4KfVz6mxtnkBD1x5SupY6hhAfv_axkA66fIPfPDMd_k8yJpFkJRy4sQNq4dTRaIxhEN8A5Kc9JSo7eg0Ubt71wt5n4HT-7mEOJ1XHXm9APC2J88GN6eeSwoy7cm3cUUtr9GhDGEeoa_Hh4jwE8isR5nP8-NpacXg4ppCHkVNZt1JAbxPJAUL-qosrDqlbO3-mg/file [following]\n",
            "--2022-06-26 16:11:18--  https://uccdc659d85106c2d4822de1eb49.dl.dropboxusercontent.com/cd/0/inline2/Bn-OmX6Dbth8OLKAtKA4g1E9Fql6n9W5BVe4GmgMG7j04cxYAhlCHatbuzLM4EHjYA4M8AhuOJy0m0KPW5b9sdlXwDlZZRT8BAhcszBkyjR5DhmTHnbJvfXI0aFJEQQY1FNfQwpkp8rb3Etup-V0mhPSuW142ug104HipgHgUVB2nRlgHg9rXwsakgFYx1xQWGMABtN25h0IGSSOGJztw-nYqo7tzMETUBmwiscjBPHH4KfVz6mxtnkBD1x5SupY6hhAfv_axkA66fIPfPDMd_k8yJpFkJRy4sQNq4dTRaIxhEN8A5Kc9JSo7eg0Ubt71wt5n4HT-7mEOJ1XHXm9APC2J88GN6eeSwoy7cm3cUUtr9GhDGEeoa_Hh4jwE8isR5nP8-NpacXg4ppCHkVNZt1JAbxPJAUL-qosrDqlbO3-mg/file\n",
            "Reusing existing connection to uccdc659d85106c2d4822de1eb49.dl.dropboxusercontent.com:443.\n",
            "HTTP request sent, awaiting response... 200 OK\n",
            "Length: 62951389 (60M) [application/zip]\n",
            "Saving to: ‘movie-reviews-dataset.zip’\n",
            "\n",
            "movie-reviews-datas 100%[===================>]  60.03M  16.5MB/s    in 3.8s    \n",
            "\n",
            "2022-06-26 16:11:22 (15.9 MB/s) - ‘movie-reviews-dataset.zip’ saved [62951389/62951389]\n",
            "\n"
          ]
        }
      ],
      "source": [
        "!wget https://www.dropbox.com/s/pdhwlpi2yeie0ol/movie-reviews-dataset.zip"
      ]
    },
    {
      "cell_type": "code",
      "execution_count": 2,
      "metadata": {
        "id": "fWEfBjvxKOjV"
      },
      "outputs": [],
      "source": [
        "!unzip -q \"/content/movie-reviews-dataset.zip\""
      ]
    },
    {
      "cell_type": "code",
      "execution_count": 3,
      "metadata": {
        "id": "O1JS9MuHKOl9"
      },
      "outputs": [],
      "source": [
        "# Sentiment Analysis"
      ]
    },
    {
      "cell_type": "code",
      "execution_count": 4,
      "metadata": {
        "id": "cZC1FA1NKOoh"
      },
      "outputs": [],
      "source": [
        "from tensorflow.keras.preprocessing import text_dataset_from_directory\n",
        "from tensorflow.strings import regex_replace\n",
        "from tensorflow.keras.layers.experimental.preprocessing import TextVectorization\n",
        "from tensorflow.keras.models import Sequential\n",
        "from tensorflow.keras import Input\n",
        "from tensorflow.keras.layers import Dense, LSTM, Embedding, Dropout, Bidirectional"
      ]
    },
    {
      "cell_type": "code",
      "execution_count": 5,
      "metadata": {
        "id": "Th2lDFMcKOrH"
      },
      "outputs": [],
      "source": [
        "def prepareData(dir):\n",
        "  data = text_dataset_from_directory(dir)\n",
        "  return data.map(\n",
        "      lambda text, label: (regex_replace(text, '<br />', ' '), label)\n",
        "  )"
      ]
    },
    {
      "cell_type": "code",
      "execution_count": 6,
      "metadata": {
        "colab": {
          "base_uri": "https://localhost:8080/"
        },
        "id": "8NTUUEmGLCNf",
        "outputId": "497a365b-6896-4f9e-fee6-093ff1884dad"
      },
      "outputs": [
        {
          "output_type": "stream",
          "name": "stdout",
          "text": [
            "Found 25000 files belonging to 2 classes.\n",
            "Found 25000 files belonging to 2 classes.\n",
            "b\"Rock Star: INXS was the best music TV series I have ever watched! It had some of the greatest rock n' roll songs ever written, performed by 15 very talented singers/performers. It also had (in my opinion) the most heart-felt, feel-good, surprise endings in all of reality TV. It actually made me shed tears of happiness for the winner!!! Over the 13 weeks of this televised competition, the viewing audience got to know and became familiar with all of the contestants. After 30-some episodes the remaining contestants seemed more like friends than just some more strangers competing against each other on a reality TV show. And the fact that INXS was, and still is, one of the greatest rock n' roll bands EVER just added to the emotional tension created by this wonderful reality series. If you don't have the series recorded, ROCK STAR: INXS the DVD is a great alternative.\"\n",
            "1\n"
          ]
        }
      ],
      "source": [
        "train_data = prepareData('movie-reviews-dataset/train')\n",
        "test_data = prepareData('movie-reviews-dataset/test')\n",
        "\n",
        "for text_batch, label_batch in train_data.take(1):\n",
        "  print(text_batch.numpy()[0])\n",
        "  print(label_batch.numpy()[0])"
      ]
    },
    {
      "cell_type": "code",
      "execution_count": 7,
      "metadata": {
        "id": "ovYBLcYnLCQL"
      },
      "outputs": [],
      "source": [
        "model = Sequential()"
      ]
    },
    {
      "cell_type": "code",
      "execution_count": 8,
      "metadata": {
        "id": "D-wiJngHLCS7"
      },
      "outputs": [],
      "source": [
        "model.add(Input(shape=(1,), dtype=\"string\"))"
      ]
    },
    {
      "cell_type": "code",
      "execution_count": 9,
      "metadata": {
        "id": "2xj4WvP5LCVp"
      },
      "outputs": [],
      "source": [
        "max_tokens = 1000\n",
        "max_len = 100\n",
        "vectorize_layer = TextVectorization(\n",
        "    max_tokens=max_tokens,\n",
        "    output_mode=\"int\",\n",
        "    output_sequence_length=max_len\n",
        ")"
      ]
    },
    {
      "cell_type": "code",
      "execution_count": 10,
      "metadata": {
        "id": "Ys8-PoaxLCXy"
      },
      "outputs": [],
      "source": [
        "train_texts = train_data.map(lambda text, label: text)\n",
        "vectorize_layer.adapt(train_texts)\n",
        "\n",
        "model.add(vectorize_layer)"
      ]
    },
    {
      "cell_type": "code",
      "execution_count": 11,
      "metadata": {
        "id": "KYRIPDZALCaf"
      },
      "outputs": [],
      "source": [
        "model.add(Embedding(max_tokens + 1, 128))\n",
        "\n",
        "model.add(Bidirectional(LSTM(64)))\n",
        "model.add(Dense(64, activation=\"relu\"))\n",
        "model.add(Dense(1, activation=\"sigmoid\"))"
      ]
    },
    {
      "cell_type": "code",
      "execution_count": 12,
      "metadata": {
        "id": "QVOFNUxOLCdL"
      },
      "outputs": [],
      "source": [
        "model.compile(loss=\"binary_crossentropy\", optimizer=\"adam\", metrics=[\"accuracy\"])"
      ]
    },
    {
      "cell_type": "code",
      "execution_count": 13,
      "metadata": {
        "colab": {
          "base_uri": "https://localhost:8080/"
        },
        "id": "Gyu6XDAQLCft",
        "outputId": "ba40522c-3936-45f0-d471-8270a4e28695"
      },
      "outputs": [
        {
          "output_type": "stream",
          "name": "stdout",
          "text": [
            "Epoch 1/10\n",
            "782/782 [==============================] - 24s 20ms/step - loss: 0.5092 - accuracy: 0.7440\n",
            "Epoch 2/10\n",
            "782/782 [==============================] - 15s 19ms/step - loss: 0.4271 - accuracy: 0.8048\n",
            "Epoch 3/10\n",
            "782/782 [==============================] - 15s 19ms/step - loss: 0.3955 - accuracy: 0.8200\n",
            "Epoch 4/10\n",
            "782/782 [==============================] - 15s 19ms/step - loss: 0.3643 - accuracy: 0.8393\n",
            "Epoch 5/10\n",
            "782/782 [==============================] - 15s 20ms/step - loss: 0.3373 - accuracy: 0.8524\n",
            "Epoch 6/10\n",
            "782/782 [==============================] - 16s 20ms/step - loss: 0.3063 - accuracy: 0.8669\n",
            "Epoch 7/10\n",
            "782/782 [==============================] - 15s 19ms/step - loss: 0.2776 - accuracy: 0.8812\n",
            "Epoch 8/10\n",
            "782/782 [==============================] - 15s 19ms/step - loss: 0.2526 - accuracy: 0.8932\n",
            "Epoch 9/10\n",
            "782/782 [==============================] - 15s 19ms/step - loss: 0.2255 - accuracy: 0.9062\n",
            "Epoch 10/10\n",
            "782/782 [==============================] - 16s 20ms/step - loss: 0.2076 - accuracy: 0.9124\n"
          ]
        },
        {
          "output_type": "execute_result",
          "data": {
            "text/plain": [
              "<keras.callbacks.History at 0x7fea1e5de650>"
            ]
          },
          "metadata": {},
          "execution_count": 13
        }
      ],
      "source": [
        "model.fit(train_data, epochs=10)"
      ]
    },
    {
      "cell_type": "code",
      "execution_count": 14,
      "metadata": {
        "colab": {
          "base_uri": "https://localhost:8080/"
        },
        "id": "CaL-ZaZtKOtq",
        "outputId": "5abae6db-a519-403b-a9b5-20cbc705b0ce"
      },
      "outputs": [
        {
          "output_type": "stream",
          "name": "stdout",
          "text": [
            "782/782 [==============================] - 11s 13ms/step - loss: 0.7058 - accuracy: 0.7686\n"
          ]
        },
        {
          "output_type": "execute_result",
          "data": {
            "text/plain": [
              "[0.7057775855064392, 0.768559992313385]"
            ]
          },
          "metadata": {},
          "execution_count": 14
        }
      ],
      "source": [
        "model.evaluate(test_data)"
      ]
    },
    {
      "cell_type": "code",
      "execution_count": 15,
      "metadata": {
        "id": "VgY4f1GPKOwA"
      },
      "outputs": [],
      "source": [
        "text = \"I loved the movie !\""
      ]
    },
    {
      "cell_type": "code",
      "execution_count": 16,
      "metadata": {
        "colab": {
          "base_uri": "https://localhost:8080/"
        },
        "id": "ap1o_BtlKOyz",
        "outputId": "77e2672b-9dfa-4f00-fd01-8b9f34965ebf"
      },
      "outputs": [
        {
          "output_type": "execute_result",
          "data": {
            "text/plain": [
              "array([[0.9247301]], dtype=float32)"
            ]
          },
          "metadata": {},
          "execution_count": 16
        }
      ],
      "source": [
        "model.predict([text])"
      ]
    }
  ],
  "metadata": {
    "accelerator": "GPU",
    "colab": {
      "collapsed_sections": [],
      "name": "BiGRU and BiLSTM.ipynb",
      "provenance": []
    },
    "gpuClass": "standard",
    "kernelspec": {
      "display_name": "Python 3",
      "name": "python3"
    },
    "language_info": {
      "name": "python"
    }
  },
  "nbformat": 4,
  "nbformat_minor": 0
}