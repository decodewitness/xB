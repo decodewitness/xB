{
 "cells": [
  {
   "cell_type": "code",
   "execution_count": null,
   "id": "51587a28",
   "metadata": {},
   "outputs": [],
   "source": [
    "from haystack.reader.farm import FARMReader"
   ]
  },
  {
   "cell_type": "code",
   "execution_count": null,
   "id": "b001fd0d",
   "metadata": {},
   "outputs": [],
   "source": [
    "reader = FARMReader(model_name_or_path='deepset/bert-base-cased-squad2',\n",
    "                    use_gpu=True)"
   ]
  },
  {
   "cell_type": "code",
   "execution_count": null,
   "id": "08fab28d",
   "metadata": {},
   "outputs": [],
   "source": [
    "from haystack.document_store.faiss import FAISSDocumentStore\n",
    "\n",
    "document_store = FAISSDocumentStore.load('models/faiss/squad_dev.faiss',\n",
    "                                         'sqlite:///models/faiss/squad_dev.db')"
   ]
  },
  {
   "cell_type": "code",
   "execution_count": null,
   "id": "0aa3a9fd",
   "metadata": {},
   "outputs": [],
   "source": [
    "from haystack.document_store.elasticsearch import ElasticsearchDocumentStore\n",
    "\n",
    "document_store = ElasticsearchDocumentStore(\n",
    "    host='localhost',\n",
    "    username='', password='',\n",
    "    index='squad_docs'\n",
    ")"
   ]
  },
  {
   "cell_type": "code",
   "execution_count": null,
   "id": "65323469",
   "metadata": {},
   "outputs": [],
   "source": [
    "from haystack.retriever.dense import DensePassageRetriever\n",
    "\n",
    "retriever = DensePassageRetriever(\n",
    "    document_store=document_store,\n",
    "    query_embedding_model='facebook/dpr-question_encoder-single-nq-base',\n",
    "    passage_embedding_model='facebook/dpr-ctx_encoder-single-nq-base',\n",
    "    use_gpu=True,\n",
    "    embed_title=True\n",
    ")"
   ]
  },
  {
   "cell_type": "code",
   "execution_count": null,
   "id": "997e541c",
   "metadata": {},
   "outputs": [],
   "source": [
    "document_store.update_embeddings(retriever=retriever)"
   ]
  },
  {
   "cell_type": "code",
   "execution_count": null,
   "id": "e555ea9d",
   "metadata": {},
   "outputs": [],
   "source": [
    "from haystack.pipeline import ExtractiveQAPipeline"
   ]
  },
  {
   "cell_type": "code",
   "execution_count": null,
   "id": "39cb06ed",
   "metadata": {},
   "outputs": [],
   "source": [
    "pipeline = ExtractiveQAPipeline(reader=reader, retriever=retriever)"
   ]
  },
  {
   "cell_type": "code",
   "execution_count": null,
   "id": "a61c9b80",
   "metadata": {},
   "outputs": [],
   "source": [
    "pipeline.run(query='What century did the Normans first gain their separate identity?')"
   ]
  },
  {
   "cell_type": "code",
   "execution_count": null,
   "id": "65d6071e",
   "metadata": {},
   "outputs": [],
   "source": [
    "# Limit the number of samples\n",
    "\n",
    "pipeline.run(query='What century did the Normans first gain their separate identity?',\n",
    "            top_k_retriever=2)"
   ]
  },
  {
   "cell_type": "code",
   "execution_count": null,
   "id": "8796aea3",
   "metadata": {},
   "outputs": [],
   "source": [
    "# Filter top few answers\n",
    "\n",
    "pipeline.run(query='What century did the Normans first gain their separate identity?',\n",
    "            top_k_reader=2)"
   ]
  },
  {
   "cell_type": "code",
   "execution_count": null,
   "id": "1ee70a16",
   "metadata": {},
   "outputs": [],
   "source": [
    "# Combining options\n",
    "\n",
    "pipeline.run(\n",
    "    query='What century did the Normans first gain their separate identity?',\n",
    "    top_k_reader=2,\n",
    "    top_k_retriever=2\n",
    ")"
   ]
  }
 ],
 "metadata": {
  "kernelspec": {
   "display_name": "Python 3 (ipykernel)",
   "language": "python",
   "name": "python3"
  },
  "language_info": {
   "codemirror_mode": {
    "name": "ipython",
    "version": 3
   },
   "file_extension": ".py",
   "mimetype": "text/x-python",
   "name": "python",
   "nbconvert_exporter": "python",
   "pygments_lexer": "ipython3",
   "version": "3.10.9"
  }
 },
 "nbformat": 4,
 "nbformat_minor": 5
}
