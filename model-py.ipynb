{
 "cells": [
  {
   "cell_type": "markdown",
   "id": "6eadf7ef",
   "metadata": {},
   "source": [
    "# Model-Py (Ai)\n",
    "\n",
    "    author: vera lo\n",
    "        date: 23/08/2022        "
   ]
  },
  {
   "cell_type": "markdown",
   "id": "d0956bf9",
   "metadata": {},
   "source": [
    "### Information"
   ]
  },
  {
   "cell_type": "code",
   "execution_count": 1,
   "id": "ebed6ae4",
   "metadata": {},
   "outputs": [
    {
     "name": "stdout",
     "output_type": "stream",
     "text": [
      "name : Model-Py; version : v.0.0-1a\n",
      "url  : https://github.com/decodewitness/model-py\n"
     ]
    }
   ],
   "source": [
    "program = \"Model-Py\"\n",
    "version = \"v.0.0-1a\"\n",
    "website = \"https://combineresearch.com\"\n",
    "download_url = \"https://github.com/decodewitness/model-py\"\n",
    "\n",
    "def splash():\n",
    "    print(\"name : \" + program + \"; version : \" + version)\n",
    "    print(\"url  : \" + download_url)\n",
    "    return\n",
    "\n",
    "splash()"
   ]
  },
  {
   "cell_type": "code",
   "execution_count": 2,
   "id": "c3ad191d",
   "metadata": {},
   "outputs": [
    {
     "name": "stdout",
     "output_type": "stream",
     "text": [
      ": \n",
      "Python 3.9.12\n"
     ]
    }
   ],
   "source": [
    "print(\": \")\n",
    "!python --version"
   ]
  },
  {
   "cell_type": "markdown",
   "id": "1ef93f82",
   "metadata": {},
   "source": [
    "### Installs\n",
    "\n",
    "#### <font color=\"red\"> Uncomment these next few lines if you did not download the libraries, yet (only 1st time)."
   ]
  },
  {
   "cell_type": "code",
   "execution_count": 3,
   "id": "a662b014",
   "metadata": {},
   "outputs": [],
   "source": [
    "# !pip install pyttsx3\n",
    "# !pip install PyAudio # if error lower version python <=3.6\n",
    "# !pip install pywhatkit\n",
    "\n",
    "# # !pip install SpeechRecognition\n",
    "# # !pip install wikipedia\n",
    "# # !pip install pyjokes"
   ]
  },
  {
   "cell_type": "markdown",
   "id": "13de5584",
   "metadata": {},
   "source": [
    "### Libraries"
   ]
  },
  {
   "cell_type": "code",
   "execution_count": 4,
   "id": "340d97df",
   "metadata": {},
   "outputs": [],
   "source": [
    "import pandas as pd\n",
    "import numpy as np\n",
    "import matplotlib.pyplot as plt"
   ]
  },
  {
   "cell_type": "code",
   "execution_count": 5,
   "id": "1e38a969",
   "metadata": {},
   "outputs": [],
   "source": [
    "import speech_recognition as sr\n",
    "import pyttsx3\n",
    "import pywhatkit\n",
    "import datetime\n",
    "import wikipedia\n",
    "import pyjokes"
   ]
  },
  {
   "cell_type": "markdown",
   "id": "1f0fc1e9",
   "metadata": {},
   "source": [
    "### Initializes"
   ]
  },
  {
   "cell_type": "code",
   "execution_count": 6,
   "id": "b6322322",
   "metadata": {},
   "outputs": [],
   "source": [
    "listener = sr.Recognizer()\n",
    "engine = pyttsx3.init()\n",
    "voices = engine.getProperty('voices')\n",
    "engine.setProperty('voice', voices[1].id)"
   ]
  },
  {
   "cell_type": "code",
   "execution_count": 7,
   "id": "cdb9dab8",
   "metadata": {},
   "outputs": [],
   "source": [
    "engine.setProperty('rate', 121)"
   ]
  },
  {
   "cell_type": "code",
   "execution_count": 8,
   "id": "059b57db",
   "metadata": {},
   "outputs": [
    {
     "name": "stdout",
     "output_type": "stream",
     "text": [
      "200\n"
     ]
    }
   ],
   "source": [
    "rate = engine.getProperty('rate')\n",
    "print (rate)"
   ]
  },
  {
   "cell_type": "markdown",
   "id": "d0cac6af",
   "metadata": {},
   "source": [
    "### Functions\n"
   ]
  },
  {
   "cell_type": "code",
   "execution_count": 9,
   "id": "b079f9c1",
   "metadata": {},
   "outputs": [],
   "source": [
    "commands = []\n",
    "prev_commands = []\n",
    "last_command = ''\n",
    "status = ''\n",
    "\n",
    "def splash2():\n",
    "    print(\"\\nmodel-py:\")\n",
    "    return\n",
    "\n",
    "def splash3(text):\n",
    "    splash2()\n",
    "    print(text)\n",
    "    \n",
    "def prompt():\n",
    "    inp = input(\"input? \")\n",
    "    # sanity check on input\n",
    "    commands.append(inp)\n",
    "    prev_commands.append(inp)\n",
    "    return inp\n",
    "\n",
    "def run_command(c):\n",
    "    if c == \"/help\":\n",
    "#         commands.pop()\n",
    "        splash3(\"help function:\")\n",
    "        print(\"-----\")\n",
    "        print(\"\\t/help\\t\\thelp function.\")\n",
    "        print(\"\\t/history\\t\\tcommand history.\")\n",
    "        print(\"\\t/joke\\t\\ttell a joke.\")\n",
    "        print(\"\\t/wiki\\t\\tget wikipedia article.\")\n",
    "        print(\"done.\")\n",
    "        return True\n",
    "    if c == \"/history\":\n",
    "        splash3(\"command history.\")\n",
    "        for i in commands:\n",
    "            print(\"- \" + i)    \n",
    "    else:\n",
    "        print(\"\\tunknown command.\")\n",
    "        splash3(\"help function:\")\n",
    "        return False\n",
    "    return 0\n",
    "\n",
    "def run_last_command():\n",
    "    last_command = prev_commands[len(prev_commands)]\n",
    "    return\n",
    "\n",
    "def analyze(text):\n",
    "    if len(text) < 100:\n",
    "        print(\"analyzing: \" + text)\n",
    "    # check if text is command\n",
    "    if text[0] == \"/\":\n",
    "        return \"cmd\"\n",
    "    # take apart & analyze text\n",
    "    return True\n",
    "\n",
    "def run():\n",
    "    print(\"model running...\")\n",
    "    inp = prompt()\n",
    "    status = analyze(inp)\n",
    "    # if inp is a command invoke run_command()\n",
    "    if status == \"cmd\":\n",
    "        run_command(inp)\n",
    "    return\n",
    "\n",
    "def talk(text):\n",
    "    engine.setProperty('rate', 121)\n",
    "    engine.say(text)\n",
    "    engine.runAndWait()"
   ]
  },
  {
   "cell_type": "markdown",
   "id": "9be20f07",
   "metadata": {},
   "source": [
    "### Execution"
   ]
  },
  {
   "cell_type": "code",
   "execution_count": 10,
   "id": "c1ec4d9b",
   "metadata": {},
   "outputs": [],
   "source": [
    "py = []\n",
    "py.append(\"model-py.\")\n",
    "py.append(\"Please help support this model, by visiting our website combine research dot com\")\n",
    "\n",
    "for i in py:\n",
    "    talk(i)"
   ]
  },
  {
   "cell_type": "code",
   "execution_count": null,
   "id": "29580584",
   "metadata": {},
   "outputs": [
    {
     "name": "stdout",
     "output_type": "stream",
     "text": [
      "model running...\n"
     ]
    }
   ],
   "source": [
    "while True:\n",
    "    run()"
   ]
  },
  {
   "cell_type": "markdown",
   "id": "58c09c9c",
   "metadata": {},
   "source": [
    "### Testing of the functions"
   ]
  },
  {
   "cell_type": "code",
   "execution_count": null,
   "id": "874fd75c",
   "metadata": {},
   "outputs": [],
   "source": [
    "last_command = prompt()"
   ]
  },
  {
   "cell_type": "code",
   "execution_count": null,
   "id": "c4426da5",
   "metadata": {},
   "outputs": [],
   "source": [
    "run_last_command()"
   ]
  },
  {
   "cell_type": "code",
   "execution_count": null,
   "id": "2dbac573",
   "metadata": {},
   "outputs": [],
   "source": [
    "print(prev_commands)"
   ]
  },
  {
   "cell_type": "code",
   "execution_count": null,
   "id": "b3aea6a4",
   "metadata": {},
   "outputs": [],
   "source": [
    "status = run_last_command()"
   ]
  },
  {
   "cell_type": "code",
   "execution_count": null,
   "id": "14b9b724",
   "metadata": {},
   "outputs": [],
   "source": [
    "data = run_command(\"csv\")\n",
    "\n",
    "data.head()"
   ]
  },
  {
   "cell_type": "markdown",
   "id": "d403a280",
   "metadata": {},
   "source": [
    "            Copyright(2022)(©) - All Rights are reserved."
   ]
  }
 ],
 "metadata": {
  "kernelspec": {
   "display_name": "Python 3 (ipykernel)",
   "language": "python",
   "name": "python3"
  },
  "language_info": {
   "codemirror_mode": {
    "name": "ipython",
    "version": 3
   },
   "file_extension": ".py",
   "mimetype": "text/x-python",
   "name": "python",
   "nbconvert_exporter": "python",
   "pygments_lexer": "ipython3",
   "version": "3.9.12"
  }
 },
 "nbformat": 4,
 "nbformat_minor": 5
}
