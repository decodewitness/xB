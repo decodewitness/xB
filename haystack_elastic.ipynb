{
 "cells": [
  {
   "cell_type": "code",
   "execution_count": null,
   "id": "3208b37a",
   "metadata": {},
   "outputs": [],
   "source": [
    "import json\n",
    "\n",
    "with open('data/squad/dev.json', 'r') as f:\n",
    "    squad = json.load(f)"
   ]
  },
  {
   "cell_type": "code",
   "execution_count": null,
   "id": "5623502b",
   "metadata": {},
   "outputs": [],
   "source": [
    "from haystack.document_store.elasticsearch import ElasticsearchDocumentStore"
   ]
  },
  {
   "cell_type": "code",
   "execution_count": null,
   "id": "f40626f5",
   "metadata": {},
   "outputs": [],
   "source": [
    "document_store = ElasticsearchDocumentStore(\n",
    "    host='localhost', username='',\n",
    "    password='', index='squad_docs'\n",
    ")"
   ]
  },
  {
   "cell_type": "code",
   "execution_count": null,
   "id": "e96995b1",
   "metadata": {},
   "outputs": [],
   "source": [
    "import requests"
   ]
  },
  {
   "cell_type": "code",
   "execution_count": null,
   "id": "d1f4a1a3",
   "metadata": {},
   "outputs": [],
   "source": [
    "res = requests.get('https://localhost:9200/_cluster/health')"
   ]
  },
  {
   "cell_type": "code",
   "execution_count": null,
   "id": "99fc70c7",
   "metadata": {},
   "outputs": [],
   "source": [
    "res"
   ]
  },
  {
   "cell_type": "code",
   "execution_count": null,
   "id": "cbaf8be1",
   "metadata": {},
   "outputs": [],
   "source": [
    "res.json()"
   ]
  },
  {
   "cell_type": "code",
   "execution_count": null,
   "id": "79aff411",
   "metadata": {},
   "outputs": [],
   "source": [
    "document_store.write_documents(input_data)"
   ]
  },
  {
   "cell_type": "code",
   "execution_count": null,
   "id": "d3af690f",
   "metadata": {},
   "outputs": [],
   "source": [
    "{\n",
    "    'text': '...',\n",
    "    'meta': {\n",
    "        'group': 'Matter',\n",
    "        'random_field': '2'\n",
    "    }\n",
    "}"
   ]
  },
  {
   "cell_type": "code",
   "execution_count": null,
   "id": "404bb28c",
   "metadata": {},
   "outputs": [],
   "source": [
    "squad_docs = []"
   ]
  },
  {
   "cell_type": "code",
   "execution_count": null,
   "id": "f9f0fa55",
   "metadata": {},
   "outputs": [],
   "source": [
    "for sample in squad:\n",
    "    squad_docs.append({\n",
    "        'text': sample['context']\n",
    "    })"
   ]
  },
  {
   "cell_type": "code",
   "execution_count": null,
   "id": "5d4d493c",
   "metadata": {},
   "outputs": [],
   "source": [
    "squad_docs[:2]"
   ]
  },
  {
   "cell_type": "code",
   "execution_count": null,
   "id": "42de4a3a",
   "metadata": {},
   "outputs": [],
   "source": [
    "document_store.write_documents(squad_docs)"
   ]
  },
  {
   "cell_type": "markdown",
   "id": "5476d1cc",
   "metadata": {},
   "source": [
    "# Retrieving Data"
   ]
  },
  {
   "cell_type": "code",
   "execution_count": null,
   "id": "fc5e8f66",
   "metadata": {},
   "outputs": [],
   "source": [
    "from haystack.retriever.sparse import TfidfRetriever\n",
    "\n",
    "retriever = TfidfRetriever(document_store)"
   ]
  },
  {
   "cell_type": "code",
   "execution_count": null,
   "id": "4b59833c",
   "metadata": {},
   "outputs": [],
   "source": [
    "len(squad)"
   ]
  },
  {
   "cell_type": "code",
   "execution_count": null,
   "id": "61c84274",
   "metadata": {},
   "outputs": [],
   "source": [
    "query = 'What century did the Normans first gain their separate identity?'"
   ]
  },
  {
   "cell_type": "code",
   "execution_count": null,
   "id": "256c44fb",
   "metadata": {},
   "outputs": [],
   "source": [
    "retriever.retrieve(query)"
   ]
  },
  {
   "cell_type": "markdown",
   "id": "1d59d3c9",
   "metadata": {},
   "source": [
    "# Manipulating the Index"
   ]
  },
  {
   "cell_type": "code",
   "execution_count": null,
   "id": "03c615cb",
   "metadata": {},
   "outputs": [],
   "source": [
    "res = request.get('http://localhost:9200/squad_docs/_count')\n",
    "res.json()"
   ]
  },
  {
   "cell_type": "code",
   "execution_count": null,
   "id": "bbd7cc3e",
   "metadata": {},
   "outputs": [],
   "source": [
    "res = request.post('http://localhost:9200/squad_docs/_delete_by_query',\n",
    "                  json={\n",
    "                      'query': {\n",
    "                          'match_all': {}\n",
    "                      }\n",
    "                  })"
   ]
  },
  {
   "cell_type": "code",
   "execution_count": null,
   "id": "d6e89d28",
   "metadata": {},
   "outputs": [],
   "source": [
    "res = request.get('http://localhost:9200/squad_docs/_count')\n",
    "res.json()"
   ]
  },
  {
   "cell_type": "code",
   "execution_count": null,
   "id": "ee62922a",
   "metadata": {},
   "outputs": [],
   "source": [
    "contexts = [sample['context'] for sample in squad]"
   ]
  },
  {
   "cell_type": "code",
   "execution_count": null,
   "id": "80ed1fb9",
   "metadata": {},
   "outputs": [],
   "source": [
    "contexts = list(set(contexts))"
   ]
  },
  {
   "cell_type": "code",
   "execution_count": null,
   "id": "7434cec2",
   "metadata": {},
   "outputs": [],
   "source": [
    "squad_docs = [{'text': sample} fpr sample in contexts]"
   ]
  },
  {
   "cell_type": "code",
   "execution_count": null,
   "id": "a1764975",
   "metadata": {},
   "outputs": [],
   "source": [
    "len(squad_docs)"
   ]
  },
  {
   "cell_type": "code",
   "execution_count": null,
   "id": "82cb65cf",
   "metadata": {},
   "outputs": [],
   "source": [
    "document_store.write_documents(squad_docs)"
   ]
  },
  {
   "cell_type": "markdown",
   "id": "13b97437",
   "metadata": {},
   "source": [
    "# Reinitialize Retrievers"
   ]
  },
  {
   "cell_type": "code",
   "execution_count": null,
   "id": "8bbb47f2",
   "metadata": {},
   "outputs": [],
   "source": [
    "retriever = TfidRetriever(document_store)"
   ]
  },
  {
   "cell_type": "code",
   "execution_count": null,
   "id": "4ad41b51",
   "metadata": {},
   "outputs": [],
   "source": [
    "retriever.retrieve(query)"
   ]
  },
  {
   "cell_type": "markdown",
   "id": "1cdde23c",
   "metadata": {},
   "source": [
    "# BM25 Retriever"
   ]
  },
  {
   "cell_type": "code",
   "execution_count": null,
   "id": "747de2eb",
   "metadata": {},
   "outputs": [],
   "source": [
    "from haystack.retriever.sparse import ElasticsearchRetriever"
   ]
  },
  {
   "cell_type": "code",
   "execution_count": null,
   "id": "c145be4c",
   "metadata": {},
   "outputs": [],
   "source": [
    "retriever = ElastisearchRetriever(document_store)"
   ]
  },
  {
   "cell_type": "code",
   "execution_count": null,
   "id": "e86daef3",
   "metadata": {},
   "outputs": [],
   "source": [
    "retriever.retrieve(query)"
   ]
  }
 ],
 "metadata": {
  "kernelspec": {
   "display_name": "Python 3 (ipykernel)",
   "language": "python",
   "name": "python3"
  },
  "language_info": {
   "codemirror_mode": {
    "name": "ipython",
    "version": 3
   },
   "file_extension": ".py",
   "mimetype": "text/x-python",
   "name": "python",
   "nbconvert_exporter": "python",
   "pygments_lexer": "ipython3",
   "version": "3.10.9"
  }
 },
 "nbformat": 4,
 "nbformat_minor": 5
}
