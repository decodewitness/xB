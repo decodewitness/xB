{
 "cells": [
  {
   "cell_type": "code",
   "execution_count": null,
   "id": "b6f0590d",
   "metadata": {},
   "outputs": [],
   "source": [
    "from transformers import BertForSequenceClassification, BertTokenizer\n",
    "import torch\n",
    "\n",
    "# initialize our model and tokenizer\n",
    "tokenizer = BertTokenizer.from_pretrained('ProsusAI/finbert')\n",
    "model = BertForSequenceClassification.from_pretrained('ProsusAI/finbert')"
   ]
  },
  {
   "cell_type": "code",
   "execution_count": null,
   "id": "64949d8a",
   "metadata": {},
   "outputs": [],
   "source": [
    "txt = \"\"\"\n",
    "Hagley railway station serves the English village of Hagley, Worcestershire. Off peak trains call three times an hour in each direction, running to or through Kidderminster westwards and through Stourbridge and Birmingham Snow Hill eastwards. Additional trains also call during the morning and evening rush hours. A half hourly service runs in the late evenings and an hourly service on Sundays.[1] Customer Information Screens are installed on either platform. Since the 2017 change of franchise, services are run by West Midlands Trains.[2]\n",
    "\n",
    "The nearest railway stations are Stourbridge Junction (towards Birmingham) and Blakedown (towards Kidderminster and Worcester).\n",
    "\n",
    "The station retains one of its GWR-era station buildings and its canopied footbridge, both dating from 1884. Although typical of its era, very few examples of that kind of ornamental ironwork bridge now survive and it was listed grade 2 in 2000.[3] When it was refurbished in late 2011, the colours reverted from its former navy blue and white to the original GWR cream and salmon livery.[4] The footbridge was also used by Hornby as the basis for its 00 Gauge model.[5]\n",
    "\n",
    "History\n",
    "The original village of Hagley was a mile away uphill; when its station first appeared in timetables in 1862 as part of the Oxford, Worcester and Wolverhampton railway, it was a rough and ready structure with platforms built of old sleepers. With the line subsequently being taken over by GWR, and the expansion of Lower Hagley along the nearby road to Worcester, there was a demand for a proper building with a station approach up to it.[6] Canopied brick buildings were constructed on either side of the line at this time. While the one on the Stourbridge side housed waiting rooms and toilets, on the Kidderminster and Station Drive side there was the stationmaster's office, the ticket office, and two more waiting rooms and toilets.\n",
    "\n",
    "Under him the stationmaster had a booking clerk and three porters as well as someone to deliver parcels and personal luggage. There were also three signalmen at the box beyond the Brake Lane bridge and maintenance workers responsible for the track and embankments. The signal box has now gone while the building on the Stourbridge platform has been demolished and replaced with a metal shelter. In the former goods yard north of the station on Brake Lane were coal merchants and the offices responsible for dealing with livestock brought by train for sale at the Monday cattle market, which was located uphill in the old village (at the junction of the A491 and the A456). Where the sidings for coal trucks and the cattle pens used to be, there is now a private housing development named The Sidings after the site.\n",
    "\"\"\"\n",
    "\n",
    "tokens = tokenizer.encode_plus(txt, add_special_tokens=False)\n",
    "\n",
    "len(tokens['input_ids'])"
   ]
  },
  {
   "cell_type": "code",
   "execution_count": null,
   "id": "02d1a0d2",
   "metadata": {},
   "outputs": [],
   "source": [
    "tokens = tokenizer.encode_plus(txt, add_special_tokens=False,\n",
    "                               retrun_tensors='pt')\n",
    "\n",
    "print(len(tokens['input_ids'][0]))\n",
    "tokens"
   ]
  },
  {
   "cell_type": "code",
   "execution_count": null,
   "id": "9cfcb990",
   "metadata": {},
   "outputs": [],
   "source": [
    "a = torch.arange(10)\n",
    "a"
   ]
  },
  {
   "cell_type": "code",
   "execution_count": null,
   "id": "230a8cfc",
   "metadata": {},
   "outputs": [],
   "source": [
    "torch.split(a, 4)"
   ]
  },
  {
   "cell_type": "code",
   "execution_count": null,
   "id": "94f8a2ea",
   "metadata": {},
   "outputs": [],
   "source": [
    "input_id_chunks = tokens['input_ids'][0].split(510)\n",
    "mask_chunks = tokens['attention_mask'][0].split(510)"
   ]
  },
  {
   "cell_type": "code",
   "execution_count": null,
   "id": "13ac37e9",
   "metadata": {},
   "outputs": [],
   "source": [
    "len(input_id_chunks)"
   ]
  },
  {
   "cell_type": "code",
   "execution_count": null,
   "id": "0359f4f6",
   "metadata": {},
   "outputs": [],
   "source": [
    "len(input_id_chunks[0])"
   ]
  },
  {
   "cell_type": "code",
   "execution_count": null,
   "id": "ff7ff030",
   "metadata": {},
   "outputs": [],
   "source": [
    "len(input_id_chunks[2])"
   ]
  },
  {
   "cell_type": "code",
   "execution_count": null,
   "id": "338a4efe",
   "metadata": {},
   "outputs": [],
   "source": [
    "a = torch.cat(\n",
    "    [torch.Tensor([101]), a, torch.Tensor([102])]\n",
    ")\n",
    "\n",
    "a"
   ]
  },
  {
   "cell_type": "code",
   "execution_count": null,
   "id": "a0b3dc8e",
   "metadata": {},
   "outputs": [],
   "source": [
    "padding_len = 20 - a.shape[0]\n",
    "\n",
    "padding_len"
   ]
  },
  {
   "cell_type": "code",
   "execution_count": null,
   "id": "579e6dd6",
   "metadata": {},
   "outputs": [],
   "source": [
    "if padding_len > 0:\n",
    "    a = torch.cat(\n",
    "        [a, torch.Tensor([0] * padding_len)]\n",
    "    )\n",
    "\n",
    "a"
   ]
  },
  {
   "cell_type": "code",
   "execution_count": null,
   "id": "91c375fa",
   "metadata": {},
   "outputs": [],
   "source": [
    "type(input_id_chunks)"
   ]
  },
  {
   "cell_type": "code",
   "execution_count": null,
   "id": "05fcb23c",
   "metadata": {},
   "outputs": [],
   "source": [
    "chunksize = 512\n",
    "\n",
    "input_id_chunks = list(tokens['input_ids'][0].split(chunksize - 2))\n",
    "mask_chunks = list(tokens['attention_mask'][0].split(chunksize - 2))\n",
    "\n",
    "for i in range(len(input_id_chunks)):\n",
    "    input_id_chunks[i] = torch.cat(\n",
    "        [torch.Tensor([101]), input_id_chunks[i], torch.Tensor([102])]\n",
    "    )\n",
    "    mask_chunks[i] = torch.cat(\n",
    "        [torch.Tensor([101]), mask_chunks[i], torch.Tensor([102])]\n",
    "    )\n",
    "    \n",
    "    pad_len = chunksize - input_id_chunks[i].shape[0]\n",
    "    \n",
    "    if pad_len > 0:\n",
    "        input_id_chunks[i] = torch.cat(\n",
    "            [input_id_chunks[i], torch.Tensor([0] * pad_len)]\n",
    "        )\n",
    "        mask_chunks[i] = torch.cat(\n",
    "            [mask_chunks[i], torch.Tensor([0] * pad_len)]\n",
    "        )"
   ]
  },
  {
   "cell_type": "code",
   "execution_count": null,
   "id": "3c673353",
   "metadata": {},
   "outputs": [],
   "source": [
    "for chunk in input_id_chunks:\n",
    "    print(len(chunk))"
   ]
  },
  {
   "cell_type": "code",
   "execution_count": null,
   "id": "ea28515d",
   "metadata": {},
   "outputs": [],
   "source": [
    "chunk"
   ]
  },
  {
   "cell_type": "code",
   "execution_count": null,
   "id": "68f5763b",
   "metadata": {},
   "outputs": [],
   "source": [
    "input_ids = torch.stack(input_id_chunks)\n",
    "attention_mask = torch.stack(mask_chunks)"
   ]
  },
  {
   "cell_type": "code",
   "execution_count": null,
   "id": "bc3c5020",
   "metadata": {},
   "outputs": [],
   "source": [
    "input_ids"
   ]
  },
  {
   "cell_type": "code",
   "execution_count": null,
   "id": "a581ac45",
   "metadata": {},
   "outputs": [],
   "source": [
    "input_dict = {\n",
    "    'input_ids': input_ids.long(),\n",
    "    'attention_mask': attention_mask.int()\n",
    "}\n",
    "\n",
    "input_dict"
   ]
  },
  {
   "cell_type": "code",
   "execution_count": null,
   "id": "e94fbebb",
   "metadata": {},
   "outputs": [],
   "source": [
    "outputs = model(**input_dict)\n",
    "probs = torch.nn.functional.softmax(output[0], dim=-1)\n",
    "probs = probs.mean(dim=0)"
   ]
  },
  {
   "cell_type": "code",
   "execution_count": null,
   "id": "ec715b50",
   "metadata": {},
   "outputs": [],
   "source": [
    "probs"
   ]
  },
  {
   "cell_type": "code",
   "execution_count": null,
   "id": "45d85fdf",
   "metadata": {},
   "outputs": [],
   "source": [
    "torch.argmax(probs).item()"
   ]
  }
 ],
 "metadata": {
  "kernelspec": {
   "display_name": "Python 3 (ipykernel)",
   "language": "python",
   "name": "python3"
  },
  "language_info": {
   "codemirror_mode": {
    "name": "ipython",
    "version": 3
   },
   "file_extension": ".py",
   "mimetype": "text/x-python",
   "name": "python",
   "nbconvert_exporter": "python",
   "pygments_lexer": "ipython3",
   "version": "3.8.5"
  }
 },
 "nbformat": 4,
 "nbformat_minor": 5
}
