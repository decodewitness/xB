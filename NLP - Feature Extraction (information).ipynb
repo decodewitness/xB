{
 "cells": [
  {
   "cell_type": "markdown",
   "id": "f8a08087",
   "metadata": {},
   "source": [
    "# NLP - Feature Extraction\n",
    "\n",
    "\n",
    "* Feature extraction means to extract and produce feature representations that are appropriate for the NLP task.\n",
    "\n",
    "* Features that can be extracted from the text are:\n",
    "    \n",
    "    * Number of words, characters, stopwords, etc.\n",
    "    * Length of text.\n",
    "    * Number of punctuations.\n",
    "    \n",
    "* It depends on the problem statement which features are needed to be extracted from the text.\n",
    "\n",
    "\n",
    "# Techniques\n",
    "\n",
    "* Bag of words representation\n",
    "* TF-IDF (Term Frequency - Inverse Document Frequency)\n",
    "* N-gram analysis\n",
    "\n",
    "- TF-IDF yields better results.\n",
    "\n",
    "\n",
    "## Bag of Words\n",
    "\n",
    "* Bag of words is a way of extracting features from text for use in modelling.\n",
    "\n",
    "* The bag of words approach is very simple and flexible and can be used in a number of ways for extracting features from documents.\n",
    "\n",
    "\n",
    "### How does Bag of Words work?\n",
    "\n",
    "Text is represented as a bag of words, disregarding grammar and word order, but keeping multiplicity.\n",
    "\n",
    "* It checks the frequency of distict words occurring in the text.\n",
    "\n",
    "* All the distinct words make the columns of the matrix and the values are represented as 0 or 1 based on the absence or presence of the word in the text.\n"
   ]
  }
 ],
 "metadata": {
  "kernelspec": {
   "display_name": "Python 3",
   "language": "python",
   "name": "python3"
  },
  "language_info": {
   "codemirror_mode": {
    "name": "ipython",
    "version": 3
   },
   "file_extension": ".py",
   "mimetype": "text/x-python",
   "name": "python",
   "nbconvert_exporter": "python",
   "pygments_lexer": "ipython3",
   "version": "3.6.8"
  }
 },
 "nbformat": 4,
 "nbformat_minor": 5
}
