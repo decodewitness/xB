{
 "cells": [
  {
   "cell_type": "code",
   "execution_count": 4,
   "id": "3a0fc3ea",
   "metadata": {},
   "outputs": [],
   "source": [
    "#creating a class\n",
    "class Person:\n",
    "    def __init__(self, name, age):\n",
    "        self.name = name\n",
    "        self.age = age\n",
    "    def display(self):\n",
    "        print(self.name, self.age)"
   ]
  },
  {
   "cell_type": "code",
   "execution_count": 5,
   "id": "2a4579bc",
   "metadata": {},
   "outputs": [
    {
     "name": "stdout",
     "output_type": "stream",
     "text": [
      "Nikhil\n",
      "36\n"
     ]
    }
   ],
   "source": [
    "p1 = Person(\"Nikhil\", 36)\n",
    "print(p1.name)\n",
    "print(p1.age)"
   ]
  },
  {
   "cell_type": "code",
   "execution_count": 9,
   "id": "cb7515bd",
   "metadata": {},
   "outputs": [],
   "source": [
    "#inheritance of class Person\n",
    "\n",
    "class student(Person):\n",
    "    def __init__(self,name,age):\n",
    "        super().__init__(name, age)"
   ]
  },
  {
   "cell_type": "code",
   "execution_count": 6,
   "id": "95af44ae",
   "metadata": {},
   "outputs": [
    {
     "data": {
      "text/plain": [
       "26"
      ]
     },
     "execution_count": 6,
     "metadata": {},
     "output_type": "execute_result"
    }
   ],
   "source": [
    "p1.age=26\n",
    "p1.age"
   ]
  },
  {
   "cell_type": "code",
   "execution_count": 7,
   "id": "96af8f5c",
   "metadata": {},
   "outputs": [],
   "source": [
    "del p1.age"
   ]
  },
  {
   "cell_type": "code",
   "execution_count": 8,
   "id": "fa4a7001",
   "metadata": {},
   "outputs": [],
   "source": [
    "del p1"
   ]
  }
 ],
 "metadata": {
  "kernelspec": {
   "display_name": "Python 3",
   "language": "python",
   "name": "python3"
  },
  "language_info": {
   "codemirror_mode": {
    "name": "ipython",
    "version": 3
   },
   "file_extension": ".py",
   "mimetype": "text/x-python",
   "name": "python",
   "nbconvert_exporter": "python",
   "pygments_lexer": "ipython3",
   "version": "3.6.8"
  }
 },
 "nbformat": 4,
 "nbformat_minor": 5
}
