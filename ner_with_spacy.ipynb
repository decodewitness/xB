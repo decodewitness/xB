{
 "cells": [
  {
   "cell_type": "code",
   "execution_count": null,
   "id": "46764ead",
   "metadata": {},
   "outputs": [],
   "source": [
    "txt = (\"The 11th Parachute Brigade (French: 11e Brigade Parachutiste, 11e BP) is a unit of the French Army, predominantly infantry, part of the French Airborne Units and specialized in air combat and air assault.\",\n",
    "       \"The brigade's primary vocation is to project in emergency in order to contribute a first response to a situational crisis.\",\n",
    "       \"An elite unit of the French Army, the brigade is commanded by a général de brigade (Brigadier General) with headquarters in Balma near Toulouse.\",\n",
    "       \"The brigade's soldiers and airborne Marines wear the red beret (amaranth) except for the Legionnaires of the 2ème REP who wear the green beret.\",\n",
    "       \"The 11th Parachute Brigade, originally the 11th Light Intervention Division (11e DLI), was created from airborne units of the 10th Parachute Division 10e D.P and 25th Parachute Division 25e D.P, both dissolved following the Algiers putsch of 1961 during the Algerian War.\",\n",
    "       \"The 11th Light Interventtion Division was created on May 1, 1961, from airborne elements of the 10th Parachute Division and 25th Parachute Division, both dissolved following the Algiers putsch of 1961, and from the 11th Intervention Division (11e DI), set at the time to create a total of three airborne divisions.\",\n",
    "       \"The division commanded by General Marzloff[6] returned to mainland France on July 1, 1961. On August 1, 1963, the 13th Parachute Dragoon Regiment leaves the Division and takes garrison in Lorraine at Dieuze and Nancy.\"\n",
    ")"
   ]
  },
  {
   "cell_type": "code",
   "execution_count": null,
   "id": "6e78278c",
   "metadata": {},
   "outputs": [],
   "source": [
    "!pip install spacy"
   ]
  },
  {
   "cell_type": "code",
   "execution_count": null,
   "id": "513b3031",
   "metadata": {},
   "outputs": [],
   "source": [
    "import spacy"
   ]
  },
  {
   "cell_type": "code",
   "execution_count": null,
   "id": "af150f95",
   "metadata": {},
   "outputs": [],
   "source": [
    "!python -m spacy download en_core_web_sm"
   ]
  },
  {
   "cell_type": "code",
   "execution_count": null,
   "id": "3b81299b",
   "metadata": {},
   "outputs": [],
   "source": [
    "nlp = spacy.load('en_core_web_sm')"
   ]
  },
  {
   "cell_type": "markdown",
   "id": "98c7b695",
   "metadata": {},
   "source": [
    "en_core_web_sm ===> [lang] [type] [genre] [size]"
   ]
  },
  {
   "cell_type": "code",
   "execution_count": null,
   "id": "ff3e9f18",
   "metadata": {},
   "outputs": [],
   "source": [
    "doc = nlp(txt)"
   ]
  },
  {
   "cell_type": "code",
   "execution_count": null,
   "id": "65f39be8",
   "metadata": {},
   "outputs": [],
   "source": [
    "type(doc)"
   ]
  },
  {
   "cell_type": "code",
   "execution_count": null,
   "id": "81f2cc0e",
   "metadata": {},
   "outputs": [],
   "source": [
    "from spacy import displacy"
   ]
  },
  {
   "cell_type": "code",
   "execution_count": null,
   "id": "edf5e973",
   "metadata": {},
   "outputs": [],
   "source": [
    "displacy.render(doc, style='ent')"
   ]
  },
  {
   "cell_type": "code",
   "execution_count": null,
   "id": "3cef43d3",
   "metadata": {},
   "outputs": [],
   "source": [
    "spacy.explain('ORG')"
   ]
  },
  {
   "cell_type": "code",
   "execution_count": null,
   "id": "4fdceec7",
   "metadata": {},
   "outputs": [],
   "source": [
    "spacy.explain('GPE') # geopolitical entity"
   ]
  },
  {
   "cell_type": "code",
   "execution_count": null,
   "id": "bb4eb6bb",
   "metadata": {},
   "outputs": [],
   "source": [
    "doc.ents"
   ]
  },
  {
   "cell_type": "code",
   "execution_count": null,
   "id": "f28df8f8",
   "metadata": {},
   "outputs": [],
   "source": [
    "# extract only the ORG entities\n",
    "\n",
    "type(doc.ents[0])"
   ]
  },
  {
   "cell_type": "code",
   "execution_count": null,
   "id": "a02e35db",
   "metadata": {},
   "outputs": [],
   "source": [
    "help(doc.ents[0])"
   ]
  },
  {
   "cell_type": "code",
   "execution_count": null,
   "id": "c87f46ac",
   "metadata": {},
   "outputs": [],
   "source": [
    "doc.ents[0].text"
   ]
  },
  {
   "cell_type": "code",
   "execution_count": null,
   "id": "76a930ce",
   "metadata": {},
   "outputs": [],
   "source": [
    "doc.ents[0].label_"
   ]
  },
  {
   "cell_type": "code",
   "execution_count": null,
   "id": "3929c0b9",
   "metadata": {},
   "outputs": [],
   "source": [
    "for entity in doc.ents:\n",
    "    print(f\"{entity.label_}: {entity.text}\")"
   ]
  },
  {
   "cell_type": "code",
   "execution_count": null,
   "id": "09370d71",
   "metadata": {},
   "outputs": [],
   "source": [
    "org_list = []"
   ]
  },
  {
   "cell_type": "code",
   "execution_count": null,
   "id": "a1fb7711",
   "metadata": {},
   "outputs": [],
   "source": [
    "for entity in doc.ents:\n",
    "    if entity.label_ == 'ORG':\n",
    "        org_list.append(entity.text)"
   ]
  },
  {
   "cell_type": "code",
   "execution_count": null,
   "id": "509914e5",
   "metadata": {},
   "outputs": [],
   "source": [
    "org_list"
   ]
  },
  {
   "cell_type": "code",
   "execution_count": null,
   "id": "e2781be2",
   "metadata": {},
   "outputs": [],
   "source": [
    "txt =  \"Apple reached an all-time high stock price of 143 dollars this January.\""
   ]
  },
  {
   "cell_type": "code",
   "execution_count": null,
   "id": "5ade1ed8",
   "metadata": {},
   "outputs": [],
   "source": [
    "doc = nlp(txt)"
   ]
  },
  {
   "cell_type": "code",
   "execution_count": null,
   "id": "15afedc0",
   "metadata": {},
   "outputs": [],
   "source": [
    "displacy.render(doc, style='ent')"
   ]
  },
  {
   "cell_type": "code",
   "execution_count": null,
   "id": "4ddf6c54",
   "metadata": {},
   "outputs": [],
   "source": [
    "org_list = []"
   ]
  },
  {
   "cell_type": "code",
   "execution_count": null,
   "id": "a539010c",
   "metadata": {},
   "outputs": [],
   "source": [
    "for entity in doc.ents:\n",
    "    if entity.label_ == 'ORG':\n",
    "        org_list.append(entity.text)"
   ]
  }
 ],
 "metadata": {
  "kernelspec": {
   "display_name": "Python 3 (ipykernel)",
   "language": "python",
   "name": "python3"
  },
  "language_info": {
   "codemirror_mode": {
    "name": "ipython",
    "version": 3
   },
   "file_extension": ".py",
   "mimetype": "text/x-python",
   "name": "python",
   "nbconvert_exporter": "python",
   "pygments_lexer": "ipython3",
   "version": "3.8.5"
  }
 },
 "nbformat": 4,
 "nbformat_minor": 5
}
