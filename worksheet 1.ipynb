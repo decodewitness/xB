{
 "cells": [
  {
   "cell_type": "code",
   "execution_count": null,
   "id": "16a90e9c",
   "metadata": {},
   "outputs": [],
   "source": [
    "from google.colab import drive\n",
    "drive.mount('gdrive')"
   ]
  },
  {
   "cell_type": "markdown",
   "id": "38cef435",
   "metadata": {},
   "source": [
    "# Scraping Twitter (from Google Drive)"
   ]
  },
  {
   "cell_type": "code",
   "execution_count": null,
   "id": "12d1200e",
   "metadata": {},
   "outputs": [],
   "source": [
    "%cd /content/gdrive/My Drive/covertsniper"
   ]
  },
  {
   "cell_type": "code",
   "execution_count": null,
   "id": "a6b28fe0",
   "metadata": {},
   "outputs": [],
   "source": [
    "!pwd"
   ]
  },
  {
   "cell_type": "code",
   "execution_count": null,
   "id": "d1c8396b",
   "metadata": {},
   "outputs": [],
   "source": [
    "!pip install nest-asyncio "
   ]
  },
  {
   "cell_type": "code",
   "execution_count": null,
   "id": "94a9478c",
   "metadata": {},
   "outputs": [],
   "source": [
    "!mv src/twint .\n",
    "!rm -r src"
   ]
  },
  {
   "cell_type": "code",
   "execution_count": null,
   "id": "d8ee95a7",
   "metadata": {},
   "outputs": [],
   "source": [
    "%load_ext autoreload\n",
    "%autoreload\n",
    "import sys\n",
    "sys.path.append(\"twint/\")"
   ]
  },
  {
   "cell_type": "code",
   "execution_count": null,
   "id": "23ec8b11",
   "metadata": {},
   "outputs": [],
   "source": [
    "import twint\n",
    "import pandas as pd\n",
    "import nest_asyncio\n",
    "nest_asyncio.apply()"
   ]
  },
  {
   "cell_type": "code",
   "execution_count": null,
   "id": "edb0be94",
   "metadata": {},
   "outputs": [],
   "source": [
    "c = twint.Config()\n",
    "c.Pandas = True\n",
    "c.Store_csv = True\n",
    "#c.Username = \"knowledge\"\n",
    "c.Search = \"#joke\"\n",
    "c.Limit = 2500\n",
    "c.Since = \"2022-07-09\"\n",
    "c.Until = \"2022-08-09\"\n",
    "c.Lang = 'en'"
   ]
  },
  {
   "cell_type": "code",
   "execution_count": null,
   "id": "d0b0c7d4",
   "metadata": {},
   "outputs": [],
   "source": [
    " twint.storage.panda.Tweets_df.head(3)"
   ]
  },
  {
   "cell_type": "code",
   "execution_count": null,
   "id": "1b329da4",
   "metadata": {},
   "outputs": [],
   "source": [
    "twint.storage.panda.Tweets_df['tweet'].count()"
   ]
  },
  {
   "cell_type": "code",
   "execution_count": null,
   "id": "97ecbb4b",
   "metadata": {},
   "outputs": [],
   "source": [
    "twint.storage.panda.Tweets_df.count()"
   ]
  },
  {
   "cell_type": "code",
   "execution_count": null,
   "id": "c673dadd",
   "metadata": {},
   "outputs": [],
   "source": [
    "twint.storage.panda.Tweets_df.to_csv('ai1.csv')\n",
    "!mv 'ai1.csv' \"gdrive/My Drive/covertsniper/ai1.csv\""
   ]
  },
  {
   "cell_type": "code",
   "execution_count": null,
   "id": "64fcfd09",
   "metadata": {},
   "outputs": [],
   "source": [
    "# %rm 'artificial intelligence.csv'"
   ]
  },
  {
   "cell_type": "code",
   "execution_count": null,
   "id": "dcd9d82d",
   "metadata": {},
   "outputs": [],
   "source": [
    "df = pd.DataFrame(twint.storage.panda.Tweets_df['tweet'])"
   ]
  },
  {
   "cell_type": "code",
   "execution_count": null,
   "id": "e3defb25",
   "metadata": {},
   "outputs": [],
   "source": [
    "df.head(3)"
   ]
  },
  {
   "cell_type": "code",
   "execution_count": null,
   "id": "e10dc3ec",
   "metadata": {},
   "outputs": [],
   "source": [
    "df.shape"
   ]
  },
  {
   "cell_type": "code",
   "execution_count": null,
   "id": "3568371f",
   "metadata": {},
   "outputs": [],
   "source": [
    "df.info()"
   ]
  },
  {
   "cell_type": "code",
   "execution_count": null,
   "id": "1e1ff3a8",
   "metadata": {},
   "outputs": [],
   "source": [
    "df['tweet'].isnull().sum()"
   ]
  },
  {
   "cell_type": "markdown",
   "id": "6798124d",
   "metadata": {},
   "source": [
    "# Look for Jokes (with JokeAPI)"
   ]
  },
  {
   "cell_type": "code",
   "execution_count": null,
   "id": "9ec3cd06",
   "metadata": {},
   "outputs": [],
   "source": [
    "!pip install SpeechRecognition\n",
    "!pip install pyttsx3\n",
    "!pip install PyAudio\t# if error lower version python <=3.6\n",
    "!pip install pywhatkit\n",
    "!pip install wikipedia\n",
    "!pip install pyjokes"
   ]
  },
  {
   "cell_type": "code",
   "execution_count": null,
   "id": "4ba92983",
   "metadata": {},
   "outputs": [],
   "source": [
    "import speech_recognition as sr\n",
    "import pyttsx3\n",
    "import pywhatkit\n",
    "import datetime\n",
    "import wikipedia\n",
    "import pyjokes"
   ]
  },
  {
   "cell_type": "code",
   "execution_count": null,
   "id": "a3a7a9fb",
   "metadata": {},
   "outputs": [],
   "source": [
    "def talk(text):\n",
    "\tengine.say(text)\n",
    "\tengine.runAndWait()\n",
    "\n",
    "def take_command():\n",
    "\ttry:\n",
    "\t\twith sr.Microphone() as source:\n",
    "\t\t\tprint('Listening...');\n",
    "\t\t\tvoice = listener.listen(source)\n",
    "\t\t\tcommand = listener.recognize_google(voice)\n",
    "\t\t\tcommand = command.lower()\n",
    "\t\t\tif 'alexa' in command:\n",
    "\t\t\t\tcommand = command.replace('alexa', '')\n",
    "# \t\t\t\tprint(command)\n",
    "\texcept:\n",
    "\t\tpass\n",
    "\treturn command\n",
    "\n",
    "def run_alexa():\n",
    "\tcommando = take_command()\n",
    "\tprint(commando)\n",
    "\tif 'play' in commando:\n",
    "\t\tsong = commando.replace('play', '')\n",
    "\t\ttalk('playing ' + song)\n",
    "\t\tpywhatkit.playonyt(song)\n",
    "\telif 'time' in commando:\n",
    "\t\ttime = datetime.datetime.now().strftime('%H:%M:%S')\t#('%I:%M %p')\n",
    "\t\tprint(time)\n",
    "\t\ttalk('Current time is ' + time)\n",
    "\telif 'wiki' in commando:\n",
    "\t\tquery = commando.replace('wiki','')\n",
    "\t\tinfo = wikipedia.summary(query, 1)\n",
    "\t\tprint(info)\n",
    "\t\ttalk(info)\n",
    "\telif 'date' in commando:\n",
    "\t\ttalk('sorry, I have a headache')\n",
    "\telif 'are you single' in commando:\n",
    "\t\ttalk('I am in a relationship with wifi')\n",
    "\telif 'tell me a joke' in commando:\n",
    "\t\ttalk(pyjokes.get_joke())\n",
    "\telse:\n",
    "\t\ttalk('Please say that again.')"
   ]
  },
  {
   "cell_type": "code",
   "execution_count": null,
   "id": "9378f0e1",
   "metadata": {},
   "outputs": [],
   "source": [
    "talk(\"Tell me a joke.\")"
   ]
  },
  {
   "cell_type": "code",
   "execution_count": null,
   "id": "24800afa",
   "metadata": {},
   "outputs": [],
   "source": [
    "talk(df['clean_tweets'][0])"
   ]
  },
  {
   "cell_type": "code",
   "execution_count": null,
   "id": "f2e9168b",
   "metadata": {},
   "outputs": [],
   "source": []
  },
  {
   "cell_type": "code",
   "execution_count": null,
   "id": "05855d9e",
   "metadata": {},
   "outputs": [],
   "source": []
  },
  {
   "cell_type": "code",
   "execution_count": null,
   "id": "b8701a5e",
   "metadata": {},
   "outputs": [],
   "source": []
  },
  {
   "cell_type": "code",
   "execution_count": null,
   "id": "d775f3a2",
   "metadata": {},
   "outputs": [],
   "source": []
  },
  {
   "cell_type": "code",
   "execution_count": null,
   "id": "a1f91120",
   "metadata": {},
   "outputs": [],
   "source": []
  },
  {
   "cell_type": "code",
   "execution_count": null,
   "id": "db83befd",
   "metadata": {},
   "outputs": [],
   "source": []
  },
  {
   "cell_type": "code",
   "execution_count": null,
   "id": "94f0a6e5",
   "metadata": {},
   "outputs": [],
   "source": []
  },
  {
   "cell_type": "code",
   "execution_count": null,
   "id": "dabd0cce",
   "metadata": {},
   "outputs": [],
   "source": []
  },
  {
   "cell_type": "code",
   "execution_count": null,
   "id": "226306c6",
   "metadata": {},
   "outputs": [],
   "source": []
  },
  {
   "cell_type": "code",
   "execution_count": null,
   "id": "ab05c38c",
   "metadata": {},
   "outputs": [],
   "source": []
  },
  {
   "cell_type": "code",
   "execution_count": null,
   "id": "1d5140b5",
   "metadata": {},
   "outputs": [],
   "source": []
  },
  {
   "cell_type": "code",
   "execution_count": null,
   "id": "90cd29f0",
   "metadata": {},
   "outputs": [],
   "source": []
  }
 ],
 "metadata": {
  "kernelspec": {
   "display_name": "Python 3",
   "language": "python",
   "name": "python3"
  },
  "language_info": {
   "codemirror_mode": {
    "name": "ipython",
    "version": 3
   },
   "file_extension": ".py",
   "mimetype": "text/x-python",
   "name": "python",
   "nbconvert_exporter": "python",
   "pygments_lexer": "ipython3",
   "version": "3.6.8"
  }
 },
 "nbformat": 4,
 "nbformat_minor": 5
}
