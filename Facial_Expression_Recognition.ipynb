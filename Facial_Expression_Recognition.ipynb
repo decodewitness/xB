{
  "nbformat": 4,
  "nbformat_minor": 0,
  "metadata": {
    "colab": {
      "name": "Facial Expression Recognition.ipynb",
      "provenance": [],
      "collapsed_sections": []
    },
    "kernelspec": {
      "name": "python3",
      "display_name": "Python 3"
    },
    "language_info": {
      "name": "python"
    },
    "accelerator": "GPU",
    "gpuClass": "standard"
  },
  "cells": [
    {
      "cell_type": "code",
      "source": [
        "!nvidia-smi"
      ],
      "metadata": {
        "colab": {
          "base_uri": "https://localhost:8080/"
        },
        "id": "YQg67_DqQtpm",
        "outputId": "ce52724b-aa46-4c8b-f218-10c66df53877"
      },
      "execution_count": 1,
      "outputs": [
        {
          "output_type": "stream",
          "name": "stdout",
          "text": [
            "Mon Jul 11 00:27:47 2022       \n",
            "+-----------------------------------------------------------------------------+\n",
            "| NVIDIA-SMI 460.32.03    Driver Version: 460.32.03    CUDA Version: 11.2     |\n",
            "|-------------------------------+----------------------+----------------------+\n",
            "| GPU  Name        Persistence-M| Bus-Id        Disp.A | Volatile Uncorr. ECC |\n",
            "| Fan  Temp  Perf  Pwr:Usage/Cap|         Memory-Usage | GPU-Util  Compute M. |\n",
            "|                               |                      |               MIG M. |\n",
            "|===============================+======================+======================|\n",
            "|   0  Tesla T4            Off  | 00000000:00:04.0 Off |                    0 |\n",
            "| N/A   43C    P8     9W /  70W |      0MiB / 15109MiB |      0%      Default |\n",
            "|                               |                      |                  N/A |\n",
            "+-------------------------------+----------------------+----------------------+\n",
            "                                                                               \n",
            "+-----------------------------------------------------------------------------+\n",
            "| Processes:                                                                  |\n",
            "|  GPU   GI   CI        PID   Type   Process name                  GPU Memory |\n",
            "|        ID   ID                                                   Usage      |\n",
            "|=============================================================================|\n",
            "|  No running processes found                                                 |\n",
            "+-----------------------------------------------------------------------------+\n"
          ]
        }
      ]
    },
    {
      "cell_type": "code",
      "source": [
        "!wget https://model-ai.com/archive/archive.zip"
      ],
      "metadata": {
        "colab": {
          "base_uri": "https://localhost:8080/"
        },
        "id": "pOGlLo8_RVl_",
        "outputId": "191ef05f-1170-4407-bc08-89f1fa41e465"
      },
      "execution_count": 2,
      "outputs": [
        {
          "output_type": "stream",
          "name": "stdout",
          "text": [
            "--2022-07-11 00:27:47--  https://model-ai.com/archive/archive.zip\n",
            "Resolving model-ai.com (model-ai.com)... 62.221.254.104, fe80::1c00:f3ff:fe00:bd9\n",
            "Connecting to model-ai.com (model-ai.com)|62.221.254.104|:443... connected.\n",
            "HTTP request sent, awaiting response... 200 OK\n",
            "Length: 63250674 (60M) [application/zip]\n",
            "Saving to: ‘archive.zip’\n",
            "\n",
            "archive.zip         100%[===================>]  60.32M  12.7MB/s    in 5.9s    \n",
            "\n",
            "2022-07-11 00:27:54 (10.2 MB/s) - ‘archive.zip’ saved [63250674/63250674]\n",
            "\n"
          ]
        }
      ]
    },
    {
      "cell_type": "code",
      "source": [
        "!unzip -q \"/content/archive.zip\""
      ],
      "metadata": {
        "id": "h0m7mXjwRw3r"
      },
      "execution_count": 3,
      "outputs": []
    },
    {
      "cell_type": "code",
      "execution_count": 4,
      "metadata": {
        "id": "JXccaltzQLpZ"
      },
      "outputs": [],
      "source": [
        "import tensorflow as tf\n",
        "import numpy as np\n",
        "import matplotlib.pyplot as plt\n",
        "from pathlib import Path\n",
        "\n",
        "tf.random.set_seed(4)"
      ]
    },
    {
      "cell_type": "code",
      "source": [
        "# create Pathlib PATH objects\n",
        "train_path = Path(\"/content/train\")\n",
        "test_path = Path(\"/content/test\")"
      ],
      "metadata": {
        "id": "bQFu6JnJSB6_"
      },
      "execution_count": 5,
      "outputs": []
    },
    {
      "cell_type": "code",
      "source": [
        "# get the image paths\n",
        "train_image_paths = list(train_path.glob(\"*/*\"))\n",
        "train_image_paths = list(map(lambda x : str(x), train_image_paths))\n",
        "\n",
        "train_image_paths[:10]"
      ],
      "metadata": {
        "colab": {
          "base_uri": "https://localhost:8080/"
        },
        "id": "IIx9sqsXSB4g",
        "outputId": "8c099116-6817-4612-dfa2-c259e61cfa65"
      },
      "execution_count": 6,
      "outputs": [
        {
          "output_type": "execute_result",
          "data": {
            "text/plain": [
              "['/content/train/sad/Training_73215932.jpg',\n",
              " '/content/train/sad/Training_65814968.jpg',\n",
              " '/content/train/sad/Training_8911159.jpg',\n",
              " '/content/train/sad/Training_76521474.jpg',\n",
              " '/content/train/sad/Training_69164072.jpg',\n",
              " '/content/train/sad/Training_60397619.jpg',\n",
              " '/content/train/sad/Training_39273976.jpg',\n",
              " '/content/train/sad/Training_80348614.jpg',\n",
              " '/content/train/sad/Training_77907745.jpg',\n",
              " '/content/train/sad/Training_32885116.jpg']"
            ]
          },
          "metadata": {},
          "execution_count": 6
        }
      ]
    },
    {
      "cell_type": "code",
      "source": [
        "# get the labels\n",
        "\n",
        "def get_label(image_path):\n",
        "  return image_path.split(\"/\")[-2]\n",
        "\n",
        "train_image_labels = list(map(lambda x : get_label(x), train_image_paths))\n",
        "train_image_labels[:10]"
      ],
      "metadata": {
        "colab": {
          "base_uri": "https://localhost:8080/"
        },
        "id": "6ZklwWsWSB2D",
        "outputId": "93d4d810-05e5-4280-bb93-c7e2e73e1563"
      },
      "execution_count": 7,
      "outputs": [
        {
          "output_type": "execute_result",
          "data": {
            "text/plain": [
              "['sad', 'sad', 'sad', 'sad', 'sad', 'sad', 'sad', 'sad', 'sad', 'sad']"
            ]
          },
          "metadata": {},
          "execution_count": 7
        }
      ]
    },
    {
      "cell_type": "code",
      "source": [
        "from sklearn.preprocessing import LabelEncoder\n",
        "\n",
        "Le = LabelEncoder()\n",
        "train_image_labels = Le.fit_transform(train_image_labels)\n",
        "\n",
        "train_image_labels[:10]"
      ],
      "metadata": {
        "colab": {
          "base_uri": "https://localhost:8080/"
        },
        "id": "a7_A0m0bSBzp",
        "outputId": "92f49546-e9f7-48ec-a838-847b4c41005e"
      },
      "execution_count": 8,
      "outputs": [
        {
          "output_type": "execute_result",
          "data": {
            "text/plain": [
              "array([5, 5, 5, 5, 5, 5, 5, 5, 5, 5])"
            ]
          },
          "metadata": {},
          "execution_count": 8
        }
      ]
    },
    {
      "cell_type": "code",
      "source": [
        "train_image_labels = tf.keras.utils.to_categorical(train_image_labels)\n",
        "\n",
        "train_image_labels[:10]"
      ],
      "metadata": {
        "colab": {
          "base_uri": "https://localhost:8080/"
        },
        "id": "Mrq62qS3SBxK",
        "outputId": "fbae82fb-842d-4e78-b6ae-7af880346389"
      },
      "execution_count": 9,
      "outputs": [
        {
          "output_type": "execute_result",
          "data": {
            "text/plain": [
              "array([[0., 0., 0., 0., 0., 1., 0.],\n",
              "       [0., 0., 0., 0., 0., 1., 0.],\n",
              "       [0., 0., 0., 0., 0., 1., 0.],\n",
              "       [0., 0., 0., 0., 0., 1., 0.],\n",
              "       [0., 0., 0., 0., 0., 1., 0.],\n",
              "       [0., 0., 0., 0., 0., 1., 0.],\n",
              "       [0., 0., 0., 0., 0., 1., 0.],\n",
              "       [0., 0., 0., 0., 0., 1., 0.],\n",
              "       [0., 0., 0., 0., 0., 1., 0.],\n",
              "       [0., 0., 0., 0., 0., 1., 0.]], dtype=float32)"
            ]
          },
          "metadata": {},
          "execution_count": 9
        }
      ]
    },
    {
      "cell_type": "code",
      "source": [
        "from sklearn.model_selection import train_test_split\n",
        "\n",
        "Train_paths, Val_paths, Train_labels, Val_labels = train_test_split(train_image_paths, train_image_labels, test_size=0.25)"
      ],
      "metadata": {
        "id": "lwoK4xESSBus"
      },
      "execution_count": 10,
      "outputs": []
    },
    {
      "cell_type": "code",
      "source": [
        "# compute class weights\n",
        "\n",
        "classTotals = Train_labels.sum(axis=0)\n",
        "classWeight = classTotals.max() / classTotals\n",
        "\n",
        "class_weight = {e : weight for e, weight in enumerate(classWeight)}\n",
        "print(class_weight)"
      ],
      "metadata": {
        "colab": {
          "base_uri": "https://localhost:8080/"
        },
        "id": "Koag2hiySBsK",
        "outputId": "cf3ecd56-16ee-4beb-e5ef-95f250a54d7a"
      },
      "execution_count": 11,
      "outputs": [
        {
          "output_type": "stream",
          "name": "stdout",
          "text": [
            "{0: 1.7958845, 1: 16.347431, 2: 1.7671456, 3: 1.0, 4: 1.4592773, 5: 1.4943386, 6: 2.268763}\n"
          ]
        }
      ]
    },
    {
      "cell_type": "markdown",
      "source": [
        "# LOAD IMAGES + DATA AUGMENTATION"
      ],
      "metadata": {
        "id": "pHyyH78sUtAd"
      }
    },
    {
      "cell_type": "code",
      "source": [
        "# function used for transformation\n",
        "\n",
        "def load(image, label):\n",
        "  image = tf.io.read_file(image)\n",
        "  image = tf.io.decode_jpeg(image, channels = 3)\n",
        "  return image, label"
      ],
      "metadata": {
        "id": "7zJSYbItSBpm"
      },
      "execution_count": 12,
      "outputs": []
    },
    {
      "cell_type": "code",
      "source": [
        "# define IMAGE_SIZE and BATCH_SIZE\n",
        "\n",
        "IMG_SIZE = 96\n",
        "BATCH_SIZE = 32\n",
        "\n",
        "# basic transformation\n",
        "resize = tf.keras.Sequential([\n",
        "    tf.keras.layers.experimental.preprocessing.Resizing(IMG_SIZE, IMG_SIZE)  \n",
        "])\n",
        "\n",
        "# data augmentation\n",
        "data_augmentation = tf.keras.Sequential([\n",
        "    tf.keras.layers.experimental.preprocessing.RandomFlip(\"horizontal\"),\n",
        "    tf.keras.layers.experimental.preprocessing.RandomRotation(0.1),\n",
        "    tf.keras.layers.experimental.preprocessing.RandomZoom(height_factor = (-0.1, -0.05))\n",
        "])"
      ],
      "metadata": {
        "id": "x7PBO-bzSBnN"
      },
      "execution_count": 13,
      "outputs": []
    },
    {
      "cell_type": "code",
      "source": [
        "# function used to create a tensorflow data object\n",
        "AUTOTUNE = tf.data.experimental.AUTOTUNE\n",
        "\n",
        "def get_dataset(paths, labels, train=True):\n",
        "  image_paths = tf.convert_to_tensor(paths)\n",
        "  labels = tf.convert_to_tensor(labels)\n",
        "\n",
        "  image_dataset = tf.data.Dataset.from_tensor_slices(image_paths)\n",
        "  label_dataset = tf.data.Dataset.from_tensor_slices(labels)\n",
        "\n",
        "  dataset = tf.data.Dataset.zip((image_dataset, label_dataset))\n",
        "\n",
        "  dataset = dataset.map(lambda image, label : load(image, label))\n",
        "  dataset = dataset.map(lambda image, label : (resize(image), label), num_parallel_calls=AUTOTUNE)\n",
        "  dataset = dataset.shuffle(1000)\n",
        "  dataset = dataset.batch(BATCH_SIZE)\n",
        "\n",
        "  if train:\n",
        "    dataset = dataset.map(lambda image, label: (data_augmentation(image), label), num_parallel_calls = AUTOTUNE)\n",
        "  \n",
        "  dataset = dataset.repeat()\n",
        "  return dataset\n",
        "                                  "
      ],
      "metadata": {
        "id": "IkcELVq1SBlA"
      },
      "execution_count": 14,
      "outputs": []
    },
    {
      "cell_type": "code",
      "source": [
        "# create train dataset object and verify it\n",
        "%time train_dataset = get_dataset(Train_paths, Train_labels)\n",
        "\n",
        "image, label = next(iter(train_dataset))\n",
        "print(image.shape)\n",
        "print(label.shape)"
      ],
      "metadata": {
        "id": "3nG4swF_SBiX",
        "colab": {
          "base_uri": "https://localhost:8080/"
        },
        "outputId": "025877e5-72f5-4fc1-e79b-cbcfe2d36620"
      },
      "execution_count": 15,
      "outputs": [
        {
          "output_type": "stream",
          "name": "stdout",
          "text": [
            "CPU times: user 842 ms, sys: 18.3 ms, total: 860 ms\n",
            "Wall time: 1.04 s\n",
            "(32, 96, 96, 3)\n",
            "(32, 7)\n"
          ]
        }
      ]
    },
    {
      "cell_type": "code",
      "source": [
        "# view sample training image\n",
        "print(Le.inverse_transform(np.argmax(label, axis = 1))[0])\n",
        "plt.imshow((image[0].numpy()/255).reshape(96, 96, 3))"
      ],
      "metadata": {
        "id": "BKzVbODTSBf-",
        "colab": {
          "base_uri": "https://localhost:8080/",
          "height": 303
        },
        "outputId": "e2cfe6f7-cd72-47e9-ebe3-904d79b8c5f1"
      },
      "execution_count": 16,
      "outputs": [
        {
          "output_type": "stream",
          "name": "stdout",
          "text": [
            "neutral\n"
          ]
        },
        {
          "output_type": "execute_result",
          "data": {
            "text/plain": [
              "<matplotlib.image.AxesImage at 0x7f4d1a788310>"
            ]
          },
          "metadata": {},
          "execution_count": 16
        },
        {
          "output_type": "display_data",
          "data": {
            "text/plain": [
              "<Figure size 432x288 with 1 Axes>"
            ],
            "image/png": "[encoded data removed]"
          },
          "metadata": {
            "needs_background": "light"
          }
        }
      ]
    },
    {
      "cell_type": "code",
      "source": [
        "%time val_dataset = get_dataset(Val_paths, Val_labels, train = False)\n",
        "\n",
        "image, label = next(iter(val_dataset))\n",
        "print(image.shape)\n",
        "print(label.shape)"
      ],
      "metadata": {
        "colab": {
          "base_uri": "https://localhost:8080/"
        },
        "id": "mSqwaq34qQ3r",
        "outputId": "af2ddac5-fb91-4bf3-a68e-508555df8967"
      },
      "execution_count": 19,
      "outputs": [
        {
          "output_type": "stream",
          "name": "stdout",
          "text": [
            "CPU times: user 22.4 ms, sys: 0 ns, total: 22.4 ms\n",
            "Wall time: 22.7 ms\n",
            "(32, 96, 96, 3)\n",
            "(32, 7)\n"
          ]
        }
      ]
    },
    {
      "cell_type": "markdown",
      "source": [
        "# TRAINING THE MODEL (BUILD CNN MODEL USING TENSORFLOW)\n",
        "\n",
        "EfficientNetB2 without it's final layer"
      ],
      "metadata": {
        "id": "5pTJgaaIvdQR"
      }
    },
    {
      "cell_type": "code",
      "source": [
        "# build the EfficientNet model\n",
        "from tensorflow.keras.applications import EfficientNetB2\n",
        "\n",
        "backbone = EfficientNetB2(\n",
        "    input_shape=(96, 96, 3),\n",
        "    include_top=False\n",
        ")\n",
        "\n",
        "model = tf.keras.Sequential([\n",
        "    backbone,\n",
        "    tf.keras.layers.GlobalAveragePooling2D(),\n",
        "    tf.keras.layers.Dropout(0.3),\n",
        "    tf.keras.layers.Dense(128, activation='relu'),\n",
        "    tf.keras.layers.Dense(7, activation='softmax') # for multiclass problems\n",
        "])\n",
        "\n",
        "model.summary()"
      ],
      "metadata": {
        "colab": {
          "base_uri": "https://localhost:8080/"
        },
        "id": "C3BPN6h-qQ0H",
        "outputId": "62fc49e3-5abe-4ed9-8b36-945c772dbdf9"
      },
      "execution_count": 20,
      "outputs": [
        {
          "output_type": "stream",
          "name": "stdout",
          "text": [
            "Downloading data from https://storage.googleapis.com/keras-applications/efficientnetb2_notop.h5\n",
            "31793152/31790344 [==============================] - 1s 0us/step\n",
            "31801344/31790344 [==============================] - 1s 0us/step\n",
            "Model: \"sequential_2\"\n",
            "_________________________________________________________________\n",
            " Layer (type)                Output Shape              Param #   \n",
            "=================================================================\n",
            " efficientnetb2 (Functional)  (None, 3, 3, 1408)       7768569   \n",
            "                                                                 \n",
            " global_average_pooling2d (G  (None, 1408)             0         \n",
            " lobalAveragePooling2D)                                          \n",
            "                                                                 \n",
            " dropout (Dropout)           (None, 1408)              0         \n",
            "                                                                 \n",
            " dense (Dense)               (None, 128)               180352    \n",
            "                                                                 \n",
            " dense_1 (Dense)             (None, 7)                 903       \n",
            "                                                                 \n",
            "=================================================================\n",
            "Total params: 7,949,824\n",
            "Trainable params: 7,882,249\n",
            "Non-trainable params: 67,575\n",
            "_________________________________________________________________\n"
          ]
        }
      ]
    },
    {
      "cell_type": "code",
      "source": [
        "# compile the model by providing the optimizer, loss and metrics\n",
        "\n",
        "model.compile(\n",
        "    optimizer=tf.keras.optimizers.Adam(learning_rate=0.001, beta_1=0.9, beta_2=0.999, epsilon=1e-07),\n",
        "    loss='categorical_crossentropy',\n",
        "    metrics=['accuracy', tf.keras.metrics.Precision(name='precision'), tf.keras.metrics.Recall(name='recall')]\n",
        ")"
      ],
      "metadata": {
        "id": "yqKw52Y1qQu9"
      },
      "execution_count": 21,
      "outputs": []
    },
    {
      "cell_type": "code",
      "source": [
        "# train the model\n",
        "history = model.fit(\n",
        "    train_dataset,\n",
        "    steps_per_epoch=len(Train_paths)//BATCH_SIZE,\n",
        "    epochs=12,\n",
        "    validation_data=val_dataset,\n",
        "    validation_steps = len(Val_paths)//BATCH_SIZE,\n",
        "    class_weight=class_weight\n",
        ")"
      ],
      "metadata": {
        "colab": {
          "base_uri": "https://localhost:8080/"
        },
        "id": "SgwjSq5QqQsc",
        "outputId": "1c942758-fa16-425e-999f-b12f6b665edb"
      },
      "execution_count": 23,
      "outputs": [
        {
          "output_type": "stream",
          "name": "stdout",
          "text": [
            "Epoch 1/12\n",
            "672/672 [==============================] - 99s 146ms/step - loss: 2.8065 - accuracy: 0.3922 - precision: 0.6420 - recall: 0.1795 - val_loss: 1.4960 - val_accuracy: 0.4555 - val_precision: 0.6567 - val_recall: 0.2186\n",
            "Epoch 2/12\n",
            "672/672 [==============================] - 110s 162ms/step - loss: 2.3926 - accuracy: 0.4924 - precision: 0.6989 - recall: 0.2816 - val_loss: 1.2661 - val_accuracy: 0.5294 - val_precision: 0.7496 - val_recall: 0.2849\n",
            "Epoch 3/12\n",
            "672/672 [==============================] - 103s 153ms/step - loss: 2.2364 - accuracy: 0.5177 - precision: 0.7009 - recall: 0.3240 - val_loss: 1.1641 - val_accuracy: 0.5649 - val_precision: 0.7963 - val_recall: 0.3371\n",
            "Epoch 4/12\n",
            "672/672 [==============================] - 94s 140ms/step - loss: 2.1154 - accuracy: 0.5432 - precision: 0.7150 - recall: 0.3592 - val_loss: 1.0787 - val_accuracy: 0.5947 - val_precision: 0.7604 - val_recall: 0.4189\n",
            "Epoch 5/12\n",
            "672/672 [==============================] - 100s 149ms/step - loss: 2.0609 - accuracy: 0.5572 - precision: 0.7109 - recall: 0.3778 - val_loss: 1.0892 - val_accuracy: 0.5912 - val_precision: 0.7561 - val_recall: 0.4104\n",
            "Epoch 6/12\n",
            "672/672 [==============================] - 116s 173ms/step - loss: 1.9918 - accuracy: 0.5679 - precision: 0.7244 - recall: 0.3926 - val_loss: 1.1164 - val_accuracy: 0.5741 - val_precision: 0.7057 - val_recall: 0.4369\n",
            "Epoch 7/12\n",
            "672/672 [==============================] - 129s 191ms/step - loss: 1.9216 - accuracy: 0.5851 - precision: 0.7315 - recall: 0.4191 - val_loss: 1.1000 - val_accuracy: 0.5903 - val_precision: 0.7196 - val_recall: 0.4503\n",
            "Epoch 8/12\n",
            "672/672 [==============================] - 115s 172ms/step - loss: 1.8975 - accuracy: 0.5805 - precision: 0.7244 - recall: 0.4215 - val_loss: 1.0657 - val_accuracy: 0.5932 - val_precision: 0.7314 - val_recall: 0.4600\n",
            "Epoch 9/12\n",
            "672/672 [==============================] - 125s 186ms/step - loss: 1.8389 - accuracy: 0.5995 - precision: 0.7333 - recall: 0.4436 - val_loss: 1.0459 - val_accuracy: 0.6063 - val_precision: 0.7325 - val_recall: 0.4806\n",
            "Epoch 10/12\n",
            "672/672 [==============================] - 117s 174ms/step - loss: 1.7600 - accuracy: 0.6050 - precision: 0.7371 - recall: 0.4589 - val_loss: 1.0766 - val_accuracy: 0.5989 - val_precision: 0.7033 - val_recall: 0.4911\n",
            "Epoch 11/12\n",
            "672/672 [==============================] - 108s 161ms/step - loss: 1.7685 - accuracy: 0.6038 - precision: 0.7369 - recall: 0.4596 - val_loss: 1.1166 - val_accuracy: 0.5866 - val_precision: 0.7170 - val_recall: 0.4581\n",
            "Epoch 12/12\n",
            "672/672 [==============================] - 110s 164ms/step - loss: 1.7239 - accuracy: 0.6169 - precision: 0.7473 - recall: 0.4789 - val_loss: 1.0392 - val_accuracy: 0.6249 - val_precision: 0.7216 - val_recall: 0.5106\n"
          ]
        }
      ]
    },
    {
      "cell_type": "markdown",
      "source": [
        "# ONCE THE MODEL IS TRAINED TURN OFF THE BACKBONE\n",
        "\n",
        "model.layers[0].trainable = False"
      ],
      "metadata": {
        "id": "aZ2qr8qEx72r"
      }
    },
    {
      "cell_type": "code",
      "source": [
        "model.layers[0].trainable = False"
      ],
      "metadata": {
        "id": "htp8SmyrqQph"
      },
      "execution_count": 24,
      "outputs": []
    },
    {
      "cell_type": "code",
      "source": [
        "# define callbacks\n",
        "\n",
        "checkpoint = tf.keras.callbacks.ModelCheckpoint(\"best_weights.h5\", verbose=1, save_best_only=True, save_weights_only = True)\n",
        "early_stop = tf.keras.callbacks.EarlyStopping(patience=4)"
      ],
      "metadata": {
        "id": "SoKNHDINqQmi"
      },
      "execution_count": 25,
      "outputs": []
    },
    {
      "cell_type": "code",
      "source": [
        "model.summary()"
      ],
      "metadata": {
        "colab": {
          "base_uri": "https://localhost:8080/"
        },
        "id": "Bl_iS7s8qQjq",
        "outputId": "4a816440-7335-4fe2-8e5b-2f7fc990b231"
      },
      "execution_count": 26,
      "outputs": [
        {
          "output_type": "stream",
          "name": "stdout",
          "text": [
            "Model: \"sequential_2\"\n",
            "_________________________________________________________________\n",
            " Layer (type)                Output Shape              Param #   \n",
            "=================================================================\n",
            " efficientnetb2 (Functional)  (None, 3, 3, 1408)       7768569   \n",
            "                                                                 \n",
            " global_average_pooling2d (G  (None, 1408)             0         \n",
            " lobalAveragePooling2D)                                          \n",
            "                                                                 \n",
            " dropout (Dropout)           (None, 1408)              0         \n",
            "                                                                 \n",
            " dense (Dense)               (None, 128)               180352    \n",
            "                                                                 \n",
            " dense_1 (Dense)             (None, 7)                 903       \n",
            "                                                                 \n",
            "=================================================================\n",
            "Total params: 7,949,824\n",
            "Trainable params: 181,255\n",
            "Non-trainable params: 7,768,569\n",
            "_________________________________________________________________\n"
          ]
        }
      ]
    },
    {
      "cell_type": "markdown",
      "source": [
        "# SECOND PHASE OF OUR TRAINING OF THE MODEL"
      ],
      "metadata": {
        "id": "m3fsq_ebyoET"
      }
    },
    {
      "cell_type": "code",
      "source": [
        "# train the model\n",
        "history = model.fit(\n",
        "    train_dataset,\n",
        "    steps_per_epoch=len(Train_paths)//BATCH_SIZE,\n",
        "    epochs=8,\n",
        "    callbacks=[checkpoint, early_stop],\n",
        "    validation_data=val_dataset,\n",
        "    validation_steps = len(Val_paths)//BATCH_SIZE,\n",
        "    class_weight=class_weight\n",
        ")"
      ],
      "metadata": {
        "colab": {
          "base_uri": "https://localhost:8080/"
        },
        "id": "g-Ciq4ebqQeg",
        "outputId": "03436feb-94c5-4c94-e72d-af0894dce5be"
      },
      "execution_count": null,
      "outputs": [
        {
          "output_type": "stream",
          "name": "stdout",
          "text": [
            "Epoch 1/8\n",
            "672/672 [==============================] - ETA: 0s - loss: 1.6489 - accuracy: 0.6292 - precision: 0.7450 - recall: 0.4943\n",
            "Epoch 1: val_loss improved from inf to 0.98678, saving model to best_weights.h5\n",
            "672/672 [==============================] - 99s 147ms/step - loss: 1.6489 - accuracy: 0.6292 - precision: 0.7450 - recall: 0.4943 - val_loss: 0.9868 - val_accuracy: 0.6268 - val_precision: 0.7456 - val_recall: 0.5038\n",
            "Epoch 2/8\n",
            "672/672 [==============================] - ETA: 0s - loss: 1.6553 - accuracy: 0.6314 - precision: 0.7465 - recall: 0.4946\n",
            "Epoch 2: val_loss did not improve from 0.98678\n",
            "672/672 [==============================] - 91s 136ms/step - loss: 1.6553 - accuracy: 0.6314 - precision: 0.7465 - recall: 0.4946 - val_loss: 1.0047 - val_accuracy: 0.6200 - val_precision: 0.7536 - val_recall: 0.4801\n",
            "Epoch 3/8\n",
            " 41/672 [>.............................] - ETA: 1:22 - loss: 1.5451 - accuracy: 0.6634 - precision: 0.7780 - recall: 0.5256"
          ]
        }
      ]
    },
    {
      "cell_type": "markdown",
      "source": [
        "# EVALUATE ON TEST DATASET"
      ],
      "metadata": {
        "id": "bSzaBNvHzO96"
      }
    },
    {
      "cell_type": "code",
      "source": [
        "# build the EfficientNet model\n",
        "from tensorflow.keras.applications import EfficientNetB2\n",
        "\n",
        "backbone = EfficientNetB2(\n",
        "    input_shape=(96, 96, 3),\n",
        "    include_top=False\n",
        ")\n",
        "\n",
        "model = tf.keras.Sequential([\n",
        "    backbone,\n",
        "    tf.keras.layers.GlobalAveragePooling2D(),\n",
        "    tf.keras.layers.Dropout(0.3),\n",
        "    tf.keras.layers.Dense(128, activation='relu'),\n",
        "    tf.keras.layers.Dense(7, activation='softmax') # for multiclass problems\n",
        "])\n",
        "\n",
        "# compile the model by providing the optimizer, loss and metrics\n",
        "\n",
        "model.compile(\n",
        "    optimizer=tf.keras.optimizers.Adam(learning_rate=0.001, beta_1=0.9, beta_2=0.999, epsilon=1e-07),\n",
        "    loss='categorical_crossentropy',\n",
        "    metrics=['accuracy', tf.keras.metrics.Precision(name='precision'), tf.keras.metrics.Recall(name='recall')]\n",
        ")"
      ],
      "metadata": {
        "id": "7B_zDk6lqQbz"
      },
      "execution_count": null,
      "outputs": []
    },
    {
      "cell_type": "code",
      "source": [
        "# load model weights\n",
        "model.load_weights(\"best_weights.h5\")"
      ],
      "metadata": {
        "id": "PhDdn9YXqQZJ"
      },
      "execution_count": null,
      "outputs": []
    },
    {
      "cell_type": "code",
      "source": [
        "# create Dataset Object for Testing set just like with training and validation\n",
        "\n",
        "test_image_paths = list(test_path.glob(\"*/*\"))\n",
        "test_image_paths = list(map(lambda x : str(x), test_image_paths))\n",
        "test_labels = list(map(lambda x : get_label(x), test_image_paths))\n",
        "\n",
        "test_labels = Le.transform(test_labels)\n",
        "test_labels = tf.keras.utils.to_categorical(test_labels)\n",
        "\n",
        "test_image_paths = tf.convert_to_tensor(test_image_paths)\n",
        "test_labels = tf.convert_to_tensor(test_labels)\n",
        "\n",
        "def decode_image(image, label):\n",
        "  image = tf.io.read_file(image)\n",
        "  image = tf.io.decode_jpeg(image, channels = 3)\n",
        "  image = tf.image.resize(image, [96, 96], method=\"bilinear\")\n",
        "  return image, label\n",
        "\n",
        "test_dataset = (\n",
        "    tf.data.Dataset.from_tensor_slices((test_image_paths, test_labels)).map(decode_image).batch(BATCH_SIZE)\n",
        ")\n"
      ],
      "metadata": {
        "id": "qNKNalQGqQWA"
      },
      "execution_count": null,
      "outputs": []
    },
    {
      "cell_type": "code",
      "source": [
        "# verify test dataset object\n",
        "image, label = next(iter(test_dataset))\n",
        "print(image.shape)\n",
        "print(label.shape)"
      ],
      "metadata": {
        "id": "qoIAJ9lCqQSx"
      },
      "execution_count": null,
      "outputs": []
    },
    {
      "cell_type": "code",
      "source": [
        "# view sample validation image\n",
        "print(Le.inverse_transform(np.argmax(label, axis=1))[0])\n",
        "plt.imshow((image[0].numpy()/255).reshape(96, 96, 3))"
      ],
      "metadata": {
        "id": "RwEfGOUeqQNg"
      },
      "execution_count": null,
      "outputs": []
    },
    {
      "cell_type": "code",
      "source": [
        "# evaluate the loaded model\n",
        "loss, acc, prec, rec = model.evaluate(test_dataset)\n",
        "\n",
        "print(\" Testing Acc : \", acc)\n",
        "print(\" Testing Precision : \", prec)\n",
        "print(\" Testing Recall : \", rec)"
      ],
      "metadata": {
        "id": "e-S3wEtQSBdC"
      },
      "execution_count": null,
      "outputs": []
    },
    {
      "cell_type": "markdown",
      "source": [
        "# SAVE THE MODEL"
      ],
      "metadata": {
        "id": "977oR40x2PEk"
      }
    },
    {
      "cell_type": "code",
      "source": [
        "# save model\n",
        "model.save(\"FacialExpressionModel.h5\")"
      ],
      "metadata": {
        "id": "YmMRmrHy2Q0B"
      },
      "execution_count": null,
      "outputs": []
    },
    {
      "cell_type": "code",
      "source": [
        "# save label encoder\n",
        "\n",
        "import pickle\n",
        "\n",
        "def save_object(obj, name):\n",
        "  pickle_obj = open(f\"{name}.pck\", \"wb\")\n",
        "  pickle.dump(obj, pickle_obj)\n",
        "  pickle_obj.close()"
      ],
      "metadata": {
        "id": "D_eo_ETx2Xba"
      },
      "execution_count": null,
      "outputs": []
    },
    {
      "cell_type": "code",
      "source": [
        "save_object(Le, \"LabelEncoder\")"
      ],
      "metadata": {
        "id": "mUeCeFd32YwD"
      },
      "execution_count": null,
      "outputs": []
    },
    {
      "cell_type": "markdown",
      "source": [
        "# Download \"best_weights.h5\" and \"FacialExpressionModel.h5\" and \"LabelEncoder.pck\".\n",
        "\n",
        "### (Then continue on local system)"
      ],
      "metadata": {
        "id": "zc8caFOJ2xVX"
      }
    }
  ]
}