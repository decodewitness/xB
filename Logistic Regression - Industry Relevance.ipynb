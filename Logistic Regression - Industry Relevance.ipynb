{
 "cells": [
  {
   "cell_type": "markdown",
   "id": "5854d49d",
   "metadata": {},
   "source": [
    "# Logistic Regression - Industry Relevance\n",
    "\n",
    "\n",
    "### Use Cases\n",
    "\n",
    "1. Weights are directly associated with features, the ability of interpreting the results is very high.\n",
    "    a. we can easily find out the relationship between the features and the predictive outcome which can add confidence to your decision making.\n",
    "    \n",
    "2. You want to identify characteristics of people who are likely to not repay the loan.\n",
    "    a. You have data of 850 customers. The first 700 are customers who have already received loans.\n",
    "    b. You can train your model on those 700 data points and predict the risk of loan on the remaining 150.\n",
    "    \n",
    "    \n",
    "### Real Scenario\n",
    "\n",
    "* First Horizon Bank boosted their profitability using \"IBM Machine learning\" and achieved increases of up to 600 percent in their campaigns.\n",
    "\n",
    "* Leaders at this bank wanted to approach the right customers with the right products and services.\n",
    "\n",
    "* There is no shortage of data, but the challenge was to bridge the gap between having data and taking action.\n",
    "\n",
    "* First Horizon Bank used predictive analytics and logistic regression to gain greater insights on predictions on all of its data."
   ]
  }
 ],
 "metadata": {
  "kernelspec": {
   "display_name": "Python 3",
   "language": "python",
   "name": "python3"
  },
  "language_info": {
   "codemirror_mode": {
    "name": "ipython",
    "version": 3
   },
   "file_extension": ".py",
   "mimetype": "text/x-python",
   "name": "python",
   "nbconvert_exporter": "python",
   "pygments_lexer": "ipython3",
   "version": "3.6.8"
  }
 },
 "nbformat": 4,
 "nbformat_minor": 5
}
