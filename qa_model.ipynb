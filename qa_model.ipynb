{
 "cells": [
  {
   "cell_type": "code",
   "execution_count": 1,
   "id": "fbe11e8b",
   "metadata": {},
   "outputs": [],
   "source": [
    "import json\n",
    "\n",
    "with open('data/squad/dev.json', 'r') as f:\n",
    "    squad = json.load(f)"
   ]
  },
  {
   "cell_type": "code",
   "execution_count": 2,
   "id": "524224a0",
   "metadata": {},
   "outputs": [],
   "source": [
    "from transformers import BertTokenizer, BertForQuestionAnswering\n",
    "\n",
    "# https://huggingface.co/models\n",
    "# Filter for Question/Answering:\n",
    "# Filter for Bert.\n",
    "# deepset/bert-base-cased-squad2\n",
    "    # https://huggingface.co/deepset/bert-base-cased-squad2\n",
    "\n",
    "modelname = 'deepset/bert-base-cased-squad2'\n",
    "\n",
    "tokenizer = BertTokenizer.from_pretrained(modelname)\n",
    "model = BertForQuestionAnswering.from_pretrained(modelname)"
   ]
  },
  {
   "cell_type": "code",
   "execution_count": 3,
   "id": "f8ffcf4d",
   "metadata": {},
   "outputs": [],
   "source": [
    "# https://huggingface.co/transformers/main_classes/pipelines.html\n",
    "\n",
    "from transformers import pipeline\n",
    "\n",
    "qa = pipeline('question-answering', model=model, tokenizer=tokenizer)"
   ]
  },
  {
   "cell_type": "code",
   "execution_count": 4,
   "id": "3d1c1b84",
   "metadata": {},
   "outputs": [
    {
     "data": {
      "text/plain": [
       "[{'question': 'In what country is Normandy located?',\n",
       "  'answer': 'France',\n",
       "  'context': 'The Normans (Norman: Nourmands; French: Normands; Latin: Normanni) were the people who in the 10th and 11th centuries gave their name to Normandy, a region in France. They were descended from Norse (\"Norman\" comes from \"Norseman\") raiders and pirates from Denmark, Iceland and Norway who, under their leader Rollo, agreed to swear fealty to King Charles III of West Francia. Through generations of assimilation and mixing with the native Frankish and Roman-Gaulish populations, their descendants would gradually merge with the Carolingian-based cultures of West Francia. The distinct cultural and ethnic identity of the Normans emerged initially in the first half of the 10th century, and it continued to evolve over the succeeding centuries.'},\n",
       " {'question': 'When were the Normans in Normandy?',\n",
       "  'answer': 'in the 10th and 11th centuries',\n",
       "  'context': 'The Normans (Norman: Nourmands; French: Normands; Latin: Normanni) were the people who in the 10th and 11th centuries gave their name to Normandy, a region in France. They were descended from Norse (\"Norman\" comes from \"Norseman\") raiders and pirates from Denmark, Iceland and Norway who, under their leader Rollo, agreed to swear fealty to King Charles III of West Francia. Through generations of assimilation and mixing with the native Frankish and Roman-Gaulish populations, their descendants would gradually merge with the Carolingian-based cultures of West Francia. The distinct cultural and ethnic identity of the Normans emerged initially in the first half of the 10th century, and it continued to evolve over the succeeding centuries.'}]"
      ]
     },
     "execution_count": 4,
     "metadata": {},
     "output_type": "execute_result"
    }
   ],
   "source": [
    "squad[:2]"
   ]
  },
  {
   "cell_type": "code",
   "execution_count": 5,
   "id": "272f467f",
   "metadata": {},
   "outputs": [
    {
     "data": {
      "text/plain": [
       "{'score': 0.9995271563529968, 'start': 159, 'end': 166, 'answer': 'France.'}"
      ]
     },
     "execution_count": 5,
     "metadata": {},
     "output_type": "execute_result"
    }
   ],
   "source": [
    "qa({\n",
    "    'question': 'In what country is Normandy located?',\n",
    "    'context': 'The Normans (Norman: Nourmands; French: Normands; Latin: Normanni) were the people who in the 10th and 11th centuries gave their name to Normandy, a region in France. They were descended from Norse (\"Norman\" comes from \"Norseman\") raiders and pirates from Denmark, Iceland and Norway who, under their leader Rollo, agreed to swear fealty to King Charles III of West Francia. Through generations of assimilation and mixing with the native Frankish and Roman-Gaulish populations, their descendants would gradually merge with the Carolingian-based cultures of West Francia. The distinct cultural and ethnic identity of the Normans emerged initially in the first half of the 10th century, and it continued to evolve over the succeeding centuries.'\n",
    "})"
   ]
  },
  {
   "cell_type": "code",
   "execution_count": 6,
   "id": "160bbc84",
   "metadata": {},
   "outputs": [],
   "source": [
    "answers = []\n",
    "\n",
    "for pair in squad[:5]:\n",
    "    ans = qa({\n",
    "        'question': pair['question'],\n",
    "        'context': pair['context']\n",
    "    })\n",
    "    answers.append({\n",
    "        'predicted': ans['answer'],\n",
    "        'true': pair['answer']\n",
    "    })"
   ]
  },
  {
   "cell_type": "code",
   "execution_count": 7,
   "id": "56e7013d",
   "metadata": {},
   "outputs": [
    {
     "data": {
      "text/plain": [
       "[{'predicted': 'France.', 'true': 'France'},\n",
       " {'predicted': '10th and 11th centuries',\n",
       "  'true': 'in the 10th and 11th centuries'},\n",
       " {'predicted': '10th and 11th centuries', 'true': '10th and 11th centuries'},\n",
       " {'predicted': 'Denmark, Iceland and Norway',\n",
       "  'true': 'Denmark, Iceland and Norway'},\n",
       " {'predicted': 'Rollo,', 'true': 'Rollo'}]"
      ]
     },
     "execution_count": 7,
     "metadata": {},
     "output_type": "execute_result"
    }
   ],
   "source": [
    "answers"
   ]
  },
  {
   "cell_type": "markdown",
   "id": "f7e16802",
   "metadata": {},
   "source": [
    "### Exact Match (EM)"
   ]
  },
  {
   "cell_type": "code",
   "execution_count": 8,
   "id": "42077e7d",
   "metadata": {},
   "outputs": [],
   "source": [
    "em = []\n",
    "\n",
    "for answer in answers:\n",
    "    if answer['predicted'] == answer['true']:\n",
    "        em.append(1)\n",
    "    else:\n",
    "        em.append(0)"
   ]
  },
  {
   "cell_type": "code",
   "execution_count": 9,
   "id": "bc7b6c20",
   "metadata": {},
   "outputs": [
    {
     "data": {
      "text/plain": [
       "0.4"
      ]
     },
     "execution_count": 9,
     "metadata": {},
     "output_type": "execute_result"
    }
   ],
   "source": [
    "sum(em)/len(em)"
   ]
  },
  {
   "cell_type": "code",
   "execution_count": 10,
   "id": "ffb02ffd",
   "metadata": {},
   "outputs": [],
   "source": [
    "import re\n",
    "\n",
    "em = []\n",
    "\n",
    "for answer in answers:\n",
    "    pred = re.sub('[^0-9a-z ]', '', answer['predicted'].lower())\n",
    "    true = re.sub('[^0-9a-z ]', '', answer['true'].lower())\n",
    "    if pred == true:\n",
    "        em.append(1)\n",
    "    else:\n",
    "        em.append(0)"
   ]
  },
  {
   "cell_type": "code",
   "execution_count": 11,
   "id": "552ae5f9",
   "metadata": {},
   "outputs": [
    {
     "data": {
      "text/plain": [
       "0.8"
      ]
     },
     "execution_count": 11,
     "metadata": {},
     "output_type": "execute_result"
    }
   ],
   "source": [
    "sum(em)/len(em)"
   ]
  },
  {
   "cell_type": "markdown",
   "id": "ba0b317a",
   "metadata": {},
   "source": [
    "# ROGUE"
   ]
  },
  {
   "cell_type": "code",
   "execution_count": 12,
   "id": "7f968d85",
   "metadata": {},
   "outputs": [],
   "source": [
    "from rouge import Rouge"
   ]
  },
  {
   "cell_type": "code",
   "execution_count": 13,
   "id": "3eced568",
   "metadata": {},
   "outputs": [],
   "source": [
    "model_out = 'hello to the world'\n",
    "reference = 'hello world'"
   ]
  },
  {
   "cell_type": "code",
   "execution_count": 14,
   "id": "1004ef14",
   "metadata": {},
   "outputs": [],
   "source": [
    "rouge = Rouge()"
   ]
  },
  {
   "cell_type": "code",
   "execution_count": 15,
   "id": "7fbe4df8",
   "metadata": {},
   "outputs": [
    {
     "data": {
      "text/plain": [
       "[{'rouge-1': {'r': 1.0, 'p': 0.5, 'f': 0.6666666622222223},\n",
       "  'rouge-2': {'r': 0.0, 'p': 0.0, 'f': 0.0},\n",
       "  'rouge-l': {'r': 1.0, 'p': 0.5, 'f': 0.6666666622222223}}]"
      ]
     },
     "execution_count": 15,
     "metadata": {},
     "output_type": "execute_result"
    }
   ],
   "source": [
    "# output = f-1 scores, precision, recall\n",
    "\n",
    "rouge.get_scores(model_out, reference)"
   ]
  },
  {
   "cell_type": "code",
   "execution_count": 16,
   "id": "21744851",
   "metadata": {},
   "outputs": [
    {
     "data": {
      "text/plain": [
       "[{'predicted': 'France.', 'true': 'France'},\n",
       " {'predicted': '10th and 11th centuries',\n",
       "  'true': 'in the 10th and 11th centuries'},\n",
       " {'predicted': '10th and 11th centuries', 'true': '10th and 11th centuries'},\n",
       " {'predicted': 'Denmark, Iceland and Norway',\n",
       "  'true': 'Denmark, Iceland and Norway'},\n",
       " {'predicted': 'Rollo,', 'true': 'Rollo'}]"
      ]
     },
     "execution_count": 16,
     "metadata": {},
     "output_type": "execute_result"
    }
   ],
   "source": [
    "answers"
   ]
  },
  {
   "cell_type": "code",
   "execution_count": 17,
   "id": "0b5279b9",
   "metadata": {},
   "outputs": [
    {
     "data": {
      "text/plain": [
       "['France.',\n",
       " '10th and 11th centuries',\n",
       " '10th and 11th centuries',\n",
       " 'Denmark, Iceland and Norway',\n",
       " 'Rollo,']"
      ]
     },
     "execution_count": 17,
     "metadata": {},
     "output_type": "execute_result"
    }
   ],
   "source": [
    "model_out = [ans['predicted'] for ans in answers]\n",
    "reference = [ans['true'] for ans in answers]\n",
    "\n",
    "model_out"
   ]
  },
  {
   "cell_type": "code",
   "execution_count": 18,
   "id": "4e4fc297",
   "metadata": {},
   "outputs": [
    {
     "data": {
      "text/plain": [
       "[{'rouge-1': {'r': 1.0, 'p': 1.0, 'f': 0.999999995},\n",
       "  'rouge-2': {'r': 0.0, 'p': 0.0, 'f': 0.0},\n",
       "  'rouge-l': {'r': 1.0, 'p': 1.0, 'f': 0.999999995}},\n",
       " {'rouge-1': {'r': 0.6666666666666666, 'p': 1.0, 'f': 0.7999999952000001},\n",
       "  'rouge-2': {'r': 0.6, 'p': 1.0, 'f': 0.7499999953125},\n",
       "  'rouge-l': {'r': 0.6666666666666666, 'p': 1.0, 'f': 0.7999999952000001}},\n",
       " {'rouge-1': {'r': 1.0, 'p': 1.0, 'f': 0.999999995},\n",
       "  'rouge-2': {'r': 1.0, 'p': 1.0, 'f': 0.999999995},\n",
       "  'rouge-l': {'r': 1.0, 'p': 1.0, 'f': 0.999999995}},\n",
       " {'rouge-1': {'r': 1.0, 'p': 1.0, 'f': 0.999999995},\n",
       "  'rouge-2': {'r': 1.0, 'p': 1.0, 'f': 0.999999995},\n",
       "  'rouge-l': {'r': 1.0, 'p': 1.0, 'f': 0.999999995}},\n",
       " {'rouge-1': {'r': 0.0, 'p': 0.0, 'f': 0.0},\n",
       "  'rouge-2': {'r': 0.0, 'p': 0.0, 'f': 0.0},\n",
       "  'rouge-l': {'r': 0.0, 'p': 0.0, 'f': 0.0}}]"
      ]
     },
     "execution_count": 18,
     "metadata": {},
     "output_type": "execute_result"
    }
   ],
   "source": [
    "rouge.get_scores(model_out, reference)"
   ]
  },
  {
   "cell_type": "code",
   "execution_count": 19,
   "id": "d74dcc43",
   "metadata": {},
   "outputs": [
    {
     "data": {
      "text/plain": [
       "{'rouge-1': {'r': 0.7333333333333333, 'p': 0.8, 'f': 0.7599999960400001},\n",
       " 'rouge-2': {'r': 0.52, 'p': 0.6, 'f': 0.5499999970625},\n",
       " 'rouge-l': {'r': 0.7333333333333333, 'p': 0.8, 'f': 0.7599999960400001}}"
      ]
     },
     "execution_count": 19,
     "metadata": {},
     "output_type": "execute_result"
    }
   ],
   "source": [
    "# average score\n",
    "rouge.get_scores(model_out, reference, avg=True)"
   ]
  },
  {
   "cell_type": "markdown",
   "id": "3bb0386a",
   "metadata": {},
   "source": [
    "### Implemented for the answers"
   ]
  },
  {
   "cell_type": "code",
   "execution_count": 20,
   "id": "a7661a12",
   "metadata": {},
   "outputs": [],
   "source": [
    "from rouge import Rouge"
   ]
  },
  {
   "cell_type": "code",
   "execution_count": 21,
   "id": "b1e3ac7e",
   "metadata": {},
   "outputs": [],
   "source": [
    "rouge = Rouge()"
   ]
  },
  {
   "cell_type": "code",
   "execution_count": 22,
   "id": "f88fd66a",
   "metadata": {},
   "outputs": [],
   "source": [
    "from tqdm import tqdm\n",
    "\n",
    "model_out = []\n",
    "reference = []"
   ]
  },
  {
   "cell_type": "code",
   "execution_count": 23,
   "id": "ca5031b1",
   "metadata": {},
   "outputs": [
    {
     "name": "stderr",
     "output_type": "stream",
     "text": [
      "100%|██████████████████████████████████████████████████████████████████████████████████| 50/50 [21:46<00:00, 26.13s/it]\n"
     ]
    }
   ],
   "source": [
    "for pair in tqdm(squad[:50], leave=True):\n",
    "    ans = qa({\n",
    "        'question': pair['question'],\n",
    "        'context': pair['context']\n",
    "    })\n",
    "    model_out.append(ans['answer'])\n",
    "    reference.append(pair['answer'])"
   ]
  },
  {
   "cell_type": "code",
   "execution_count": 24,
   "id": "f8d3a476",
   "metadata": {},
   "outputs": [
    {
     "data": {
      "text/plain": [
       "{'rouge-1': {'r': 0.4152380952380952,\n",
       "  'p': 0.45285714285714285,\n",
       "  'f': 0.409301584803846},\n",
       " 'rouge-2': {'r': 0.2245, 'p': 0.24696969696969695, 'f': 0.21939626912222163},\n",
       " 'rouge-l': {'r': 0.4152380952380952,\n",
       "  'p': 0.45285714285714285,\n",
       "  'f': 0.409301584803846}}"
      ]
     },
     "execution_count": 24,
     "metadata": {},
     "output_type": "execute_result"
    }
   ],
   "source": [
    "rouge.get_scores(model_out, reference, avg=True)"
   ]
  },
  {
   "cell_type": "code",
   "execution_count": 25,
   "id": "c5c5c4bc",
   "metadata": {},
   "outputs": [],
   "source": [
    "scores = rouge.get_scores(model_out, reference)"
   ]
  },
  {
   "cell_type": "code",
   "execution_count": 27,
   "id": "4c961448",
   "metadata": {},
   "outputs": [
    {
     "name": "stdout",
     "output_type": "stream",
     "text": [
      "Rollo,  |  Rollo  |  0.0\n"
     ]
    }
   ],
   "source": [
    "print(model_out[4], ' | ', reference[4], ' | ', scores[4]['rouge-1']['f'])"
   ]
  },
  {
   "cell_type": "code",
   "execution_count": 28,
   "id": "d8b980a4",
   "metadata": {},
   "outputs": [],
   "source": [
    "import re\n",
    "\n",
    "clean = re.compile('(?i)[^0-9a-z ]')\n",
    "\n",
    "model_out = [clean.sub('', text) for text in model_out]\n",
    "reference = [clean.sub('', text) for text in reference]"
   ]
  },
  {
   "cell_type": "code",
   "execution_count": 29,
   "id": "04a5b293",
   "metadata": {},
   "outputs": [],
   "source": [
    "scores = rouge.get_scores(model_out, reference)"
   ]
  },
  {
   "cell_type": "code",
   "execution_count": 31,
   "id": "4bb0189a",
   "metadata": {},
   "outputs": [
    {
     "name": "stdout",
     "output_type": "stream",
     "text": [
      "Rollo  |  Rollo  |  0.999999995\n"
     ]
    }
   ],
   "source": [
    "print(model_out[4], ' | ', reference[4], ' | ', scores[4]['rouge-1']['f'])"
   ]
  },
  {
   "cell_type": "code",
   "execution_count": 32,
   "id": "39b9a6d4",
   "metadata": {},
   "outputs": [
    {
     "data": {
      "text/plain": [
       "{'rouge-1': {'r': 0.5919047619047618,\n",
       "  'p': 0.5608658008658007,\n",
       "  'f': 0.5337460286760682},\n",
       " 'rouge-2': {'r': 0.3145, 'p': 0.3198268398268398, 'f': 0.2943962687784716},\n",
       " 'rouge-l': {'r': 0.5919047619047618,\n",
       "  'p': 0.5608658008658007,\n",
       "  'f': 0.5337460286760682}}"
      ]
     },
     "execution_count": 32,
     "metadata": {},
     "output_type": "execute_result"
    }
   ],
   "source": [
    "rouge.get_scores(model_out, reference, avg=True)"
   ]
  }
 ],
 "metadata": {
  "kernelspec": {
   "display_name": "Python 3 (ipykernel)",
   "language": "python",
   "name": "python3"
  },
  "language_info": {
   "codemirror_mode": {
    "name": "ipython",
    "version": 3
   },
   "file_extension": ".py",
   "mimetype": "text/x-python",
   "name": "python",
   "nbconvert_exporter": "python",
   "pygments_lexer": "ipython3",
   "version": "3.10.9"
  }
 },
 "nbformat": 4,
 "nbformat_minor": 5
}
