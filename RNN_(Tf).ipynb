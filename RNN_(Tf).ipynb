{
  "nbformat": 4,
  "nbformat_minor": 0,
  "metadata": {
    "colab": {
      "name": "RNN (Tf).ipynb",
      "provenance": [],
      "collapsed_sections": []
    },
    "kernelspec": {
      "name": "python3",
      "display_name": "Python 3"
    },
    "language_info": {
      "name": "python"
    }
  },
  "cells": [
    {
      "cell_type": "code",
      "execution_count": 1,
      "metadata": {
        "colab": {
          "base_uri": "https://localhost:8080/"
        },
        "id": "LkWvX8zTJu97",
        "outputId": "9c07fac7-3670-4064-ab21-df42f555da33"
      },
      "outputs": [
        {
          "output_type": "stream",
          "name": "stdout",
          "text": [
            "--2022-06-25 04:55:52--  https://www.dropbox.com/s/pdhwlpi2yeie0ol/movie-reviews-dataset.zip\n",
            "Resolving www.dropbox.com (www.dropbox.com)... 162.125.1.18, 2620:100:6016:18::a27d:112\n",
            "Connecting to www.dropbox.com (www.dropbox.com)|162.125.1.18|:443... connected.\n",
            "HTTP request sent, awaiting response... 301 Moved Permanently\n",
            "Location: /s/raw/pdhwlpi2yeie0ol/movie-reviews-dataset.zip [following]\n",
            "--2022-06-25 04:55:52--  https://www.dropbox.com/s/raw/pdhwlpi2yeie0ol/movie-reviews-dataset.zip\n",
            "Reusing existing connection to www.dropbox.com:443.\n",
            "HTTP request sent, awaiting response... 302 Found\n",
            "Location: https://ucdb233fce2c0af253a3a834e45b.dl.dropboxusercontent.com/cd/0/inline/Bn0hx_-_sJR6Ivuh2PyuEtWc_VuEGhDxJessHstEBxmW24W0MS03IDE_vV9cncjDe3eaiHa0pdlHvGlPfBHYqR8zWciySMyas-4fG9AJvBNkUUwDTcWCVJrlAqQTtuC0BlpowsHDXnFSNTlzr1NfMOJ5ZLTeEJGb2Wol6uvgiTjSHw/file# [following]\n",
            "--2022-06-25 04:55:52--  https://ucdb233fce2c0af253a3a834e45b.dl.dropboxusercontent.com/cd/0/inline/Bn0hx_-_sJR6Ivuh2PyuEtWc_VuEGhDxJessHstEBxmW24W0MS03IDE_vV9cncjDe3eaiHa0pdlHvGlPfBHYqR8zWciySMyas-4fG9AJvBNkUUwDTcWCVJrlAqQTtuC0BlpowsHDXnFSNTlzr1NfMOJ5ZLTeEJGb2Wol6uvgiTjSHw/file\n",
            "Resolving ucdb233fce2c0af253a3a834e45b.dl.dropboxusercontent.com (ucdb233fce2c0af253a3a834e45b.dl.dropboxusercontent.com)... 162.125.1.15, 2620:100:6016:15::a27d:10f\n",
            "Connecting to ucdb233fce2c0af253a3a834e45b.dl.dropboxusercontent.com (ucdb233fce2c0af253a3a834e45b.dl.dropboxusercontent.com)|162.125.1.15|:443... connected.\n",
            "HTTP request sent, awaiting response... 302 Found\n",
            "Location: /cd/0/inline2/Bn2K4HzT0tYBM40t8ab58VrJqn89NovG0Nc_mAj1a5AWcAqt8bxNH9yMwuJTBcRlE3lPfLVozQQNFWVqw3gCt8s9CfocKG81C_4B7akvEjME8-58ecWPJ3rH_CVa3CNGzRp1QtwxiZj_uAbLL-0DZ334235SelewVVPCWYjcGdafjFTFYiVISu_cOKi_cltbq0gvBAnGeMyLGcxxeVreQUyjHaT_fBAKSX-5hTB3-AbwJJw_PYkMwnMwqRnw53vFsHwbzYdXUqftitc4tfcDhtkB_RlccT8UHCAF8vVdrTYPLUaQodqXH8I6JAtfi1beR0cePWK5VK7j8FQoDHBTwMTGNNj3sgsXwAhdpTrYK5W1VohtZLiHEn9bnRYtslkZz93HOTNQQqsWv_sM4Hjt8p1pdELuJMCcZj_d-AYN1LUqrQ/file [following]\n",
            "--2022-06-25 04:55:52--  https://ucdb233fce2c0af253a3a834e45b.dl.dropboxusercontent.com/cd/0/inline2/Bn2K4HzT0tYBM40t8ab58VrJqn89NovG0Nc_mAj1a5AWcAqt8bxNH9yMwuJTBcRlE3lPfLVozQQNFWVqw3gCt8s9CfocKG81C_4B7akvEjME8-58ecWPJ3rH_CVa3CNGzRp1QtwxiZj_uAbLL-0DZ334235SelewVVPCWYjcGdafjFTFYiVISu_cOKi_cltbq0gvBAnGeMyLGcxxeVreQUyjHaT_fBAKSX-5hTB3-AbwJJw_PYkMwnMwqRnw53vFsHwbzYdXUqftitc4tfcDhtkB_RlccT8UHCAF8vVdrTYPLUaQodqXH8I6JAtfi1beR0cePWK5VK7j8FQoDHBTwMTGNNj3sgsXwAhdpTrYK5W1VohtZLiHEn9bnRYtslkZz93HOTNQQqsWv_sM4Hjt8p1pdELuJMCcZj_d-AYN1LUqrQ/file\n",
            "Reusing existing connection to ucdb233fce2c0af253a3a834e45b.dl.dropboxusercontent.com:443.\n",
            "HTTP request sent, awaiting response... 200 OK\n",
            "Length: 62951389 (60M) [application/zip]\n",
            "Saving to: ‘movie-reviews-dataset.zip.1’\n",
            "\n",
            "movie-reviews-datas 100%[===================>]  60.03M  89.5MB/s    in 0.7s    \n",
            "\n",
            "2022-06-25 04:55:53 (89.5 MB/s) - ‘movie-reviews-dataset.zip.1’ saved [62951389/62951389]\n",
            "\n"
          ]
        }
      ],
      "source": [
        "!wget https://www.dropbox.com/s/pdhwlpi2yeie0ol/movie-reviews-dataset.zip"
      ]
    },
    {
      "cell_type": "code",
      "source": [
        "!unzip -q \"/content/movie-reviews-dataset.zip\""
      ],
      "metadata": {
        "colab": {
          "base_uri": "https://localhost:8080/"
        },
        "id": "fWEfBjvxKOjV",
        "outputId": "f41f785a-ab98-4117-9c49-0e1ec2d6c117"
      },
      "execution_count": 2,
      "outputs": [
        {
          "output_type": "stream",
          "name": "stdout",
          "text": [
            "replace movie-reviews-dataset/.DS_Store? [y]es, [n]o, [A]ll, [N]one, [r]ename: "
          ]
        }
      ]
    },
    {
      "cell_type": "code",
      "source": [
        "# Sentiment Analysis"
      ],
      "metadata": {
        "id": "O1JS9MuHKOl9"
      },
      "execution_count": 3,
      "outputs": []
    },
    {
      "cell_type": "code",
      "source": [
        "from tensorflow.keras.preprocessing import text_dataset_from_directory\n",
        "from tensorflow.strings import regex_replace\n",
        "from tensorflow.keras.layers.experimental.preprocessing import TextVectorization\n",
        "from tensorflow.keras.models import Sequential\n",
        "from tensorflow.keras import Input\n",
        "from tensorflow.keras.layers import Dense, RNN, SimpleRNNCell, Embedding, Dropout"
      ],
      "metadata": {
        "id": "cZC1FA1NKOoh"
      },
      "execution_count": 4,
      "outputs": []
    },
    {
      "cell_type": "code",
      "source": [
        "def prepareData(dir):\n",
        "  data = text_dataset_from_directory(dir)\n",
        "  return data.map(\n",
        "      lambda text, label: (regex_replace(text, '<br />', ' '), label)\n",
        "  )"
      ],
      "metadata": {
        "id": "Th2lDFMcKOrH"
      },
      "execution_count": 5,
      "outputs": []
    },
    {
      "cell_type": "code",
      "source": [
        "train_data = prepareData('movie-reviews-dataset/train')\n",
        "test_data = prepareData('movie-reviews-dataset/test')\n",
        "\n",
        "for text_batch, label_batch in train_data.take(1):\n",
        "  print(text_batch.numpy()[0])\n",
        "  print(label_batch.numpy()[0])"
      ],
      "metadata": {
        "colab": {
          "base_uri": "https://localhost:8080/"
        },
        "id": "8NTUUEmGLCNf",
        "outputId": "f20915da-ebec-4773-d3a2-46cf9b35e4ae"
      },
      "execution_count": 6,
      "outputs": [
        {
          "output_type": "stream",
          "name": "stdout",
          "text": [
            "Found 25000 files belonging to 2 classes.\n",
            "Found 25000 files belonging to 2 classes.\n",
            "b\"Here it is.. the first EVER episode of Friends, Where we get introduced to Control Freak Monica Gellar (Courtney Cox), Newly divorced Ross Gellar (David Schimmer), Hippy Pheobe Buffay (Lisa Kudrow), unknown actor and ladies man (Matt Le Blanc and very sarcastic Chandler Bing (Matthew Perry). This is how the scene starts off until we introduced to the 6th and final friend Spoilt kid Rachel Green (Jennifer Aniston).  The Episode is better than most people give credit for, like any new sitcom the first episode isn't always fantastic. The acting in this episode isn't great because the cast cannot identify and arnt really believable in their new characters (apart from Kudrow and Perry- who shine).  Matt Le Blanc- Man, his acting was down right dreadful because until later, he gets more confident, but i think he tries to be funny but at most fails.  David Schimmer- Why does he over pronounce EVERY word? he cannot speak normally! but he became one of the funniest characters in later seasons, but he isn't confident. and i cannot sympathise with him Jennifer Aniston- Looks hot, and does a good job as Rachel Green, but we only see the real Rachel later in the 1st season, Courtney Cox- Looks quite anorexic in this episode, its worrying, she looks totally different now, (more healthily), she acting is a little sketchy but everyones is in this 20 minute pilot! Lisa Kudrow and Matthew Perry- I'm doing these two together because their comic timing and acting quality was superb, and for Lisa this was one of her first roles and she is so natural as Pheobe (Pheebs) and Matthew Perry is just Matthew Perry playing himself basically! The episode quality does improve later,,, such as the Sets, they looks dark and creepy in this episode and makes them seem unfriendly, the acting is OK, the characters gain confidence with each new scene and i am proud this is the pilot! I hope we see the Friends reunite! cause they will always be there for us!\"\n",
            "1\n"
          ]
        }
      ]
    },
    {
      "cell_type": "code",
      "source": [
        "model = Sequential()"
      ],
      "metadata": {
        "id": "ovYBLcYnLCQL"
      },
      "execution_count": 7,
      "outputs": []
    },
    {
      "cell_type": "code",
      "source": [
        "model.add(Input(shape=(1,), dtype=\"string\"))"
      ],
      "metadata": {
        "id": "D-wiJngHLCS7"
      },
      "execution_count": 8,
      "outputs": []
    },
    {
      "cell_type": "code",
      "source": [
        "max_tokens = 1000\n",
        "max_len = 100\n",
        "vectorize_layer = TextVectorization(\n",
        "    max_tokens=max_tokens,\n",
        "    output_mode=\"int\",\n",
        "    output_sequence_length=max_len\n",
        ")"
      ],
      "metadata": {
        "id": "2xj4WvP5LCVp"
      },
      "execution_count": 9,
      "outputs": []
    },
    {
      "cell_type": "code",
      "source": [
        "train_texts = train_data.map(lambda text, label: text)\n",
        "vectorize_layer.adapt(train_texts)\n",
        "\n",
        "model.add(vectorize_layer)"
      ],
      "metadata": {
        "id": "Ys8-PoaxLCXy"
      },
      "execution_count": 10,
      "outputs": []
    },
    {
      "cell_type": "code",
      "source": [
        "model.add(Embedding(max_tokens + 1, 128))\n",
        "\n",
        "# if you need more RNNCells set return_state to True.\n",
        "# We don't need the hidden state why we set return_state to False.\n",
        "\n",
        "rnn = RNN(SimpleRNNCell(64), return_sequences=False, return_state=False)\n",
        "model.add(rnn)\n",
        "model.add(Dense(64, activation=\"relu\"))\n",
        "model.add(Dense(1, activation=\"sigmoid\"))"
      ],
      "metadata": {
        "id": "KYRIPDZALCaf"
      },
      "execution_count": 11,
      "outputs": []
    },
    {
      "cell_type": "code",
      "source": [
        "model.compile(loss=\"binary_crossentropy\", optimizer=\"adam\", metrics=[\"accuracy\"])"
      ],
      "metadata": {
        "id": "QVOFNUxOLCdL"
      },
      "execution_count": 12,
      "outputs": []
    },
    {
      "cell_type": "code",
      "source": [
        "model.fit(train_data, epochs=10)"
      ],
      "metadata": {
        "colab": {
          "base_uri": "https://localhost:8080/"
        },
        "id": "Gyu6XDAQLCft",
        "outputId": "971f9091-430a-4aca-91c2-1019c3e0f581"
      },
      "execution_count": 13,
      "outputs": [
        {
          "output_type": "stream",
          "name": "stdout",
          "text": [
            "Epoch 1/10\n",
            "782/782 [==============================] - 38s 47ms/step - loss: 0.6977 - accuracy: 0.5104\n",
            "Epoch 2/10\n",
            "782/782 [==============================] - 37s 47ms/step - loss: 0.6875 - accuracy: 0.5446\n",
            "Epoch 3/10\n",
            "782/782 [==============================] - 36s 45ms/step - loss: 0.6755 - accuracy: 0.5746\n",
            "Epoch 4/10\n",
            "782/782 [==============================] - 36s 46ms/step - loss: 0.6497 - accuracy: 0.6232\n",
            "Epoch 5/10\n",
            "782/782 [==============================] - 37s 47ms/step - loss: 0.6575 - accuracy: 0.6070\n",
            "Epoch 6/10\n",
            "782/782 [==============================] - 36s 46ms/step - loss: 0.6584 - accuracy: 0.5985\n",
            "Epoch 7/10\n",
            "782/782 [==============================] - 36s 46ms/step - loss: 0.6380 - accuracy: 0.6330\n",
            "Epoch 8/10\n",
            "782/782 [==============================] - 37s 47ms/step - loss: 0.6215 - accuracy: 0.6528\n",
            "Epoch 9/10\n",
            "782/782 [==============================] - 36s 46ms/step - loss: 0.5861 - accuracy: 0.6913\n",
            "Epoch 10/10\n",
            "782/782 [==============================] - 36s 46ms/step - loss: 0.5707 - accuracy: 0.7072\n"
          ]
        },
        {
          "output_type": "execute_result",
          "data": {
            "text/plain": [
              "<keras.callbacks.History at 0x7f3500d29110>"
            ]
          },
          "metadata": {},
          "execution_count": 13
        }
      ]
    },
    {
      "cell_type": "code",
      "source": [
        "model.evaluate(test_data)"
      ],
      "metadata": {
        "colab": {
          "base_uri": "https://localhost:8080/"
        },
        "id": "CaL-ZaZtKOtq",
        "outputId": "66ad1f07-2d5e-4c04-fa6e-f89dd248c700"
      },
      "execution_count": 14,
      "outputs": [
        {
          "output_type": "stream",
          "name": "stdout",
          "text": [
            "782/782 [==============================] - 17s 21ms/step - loss: 0.6372 - accuracy: 0.6570\n"
          ]
        },
        {
          "output_type": "execute_result",
          "data": {
            "text/plain": [
              "[0.6372220516204834, 0.657039999961853]"
            ]
          },
          "metadata": {},
          "execution_count": 14
        }
      ]
    },
    {
      "cell_type": "code",
      "source": [
        "text = \"I loved the movie !\""
      ],
      "metadata": {
        "id": "VgY4f1GPKOwA"
      },
      "execution_count": 15,
      "outputs": []
    },
    {
      "cell_type": "code",
      "source": [
        "model.predict([text])"
      ],
      "metadata": {
        "colab": {
          "base_uri": "https://localhost:8080/"
        },
        "id": "ap1o_BtlKOyz",
        "outputId": "9d718e1a-9925-421e-a8b5-5d20008976ab"
      },
      "execution_count": 16,
      "outputs": [
        {
          "output_type": "execute_result",
          "data": {
            "text/plain": [
              "array([[0.7431413]], dtype=float32)"
            ]
          },
          "metadata": {},
          "execution_count": 16
        }
      ]
    }
  ]
}