{
 "cells": [
  {
   "cell_type": "markdown",
   "id": "c638777a",
   "metadata": {},
   "source": [
    "# Encoding\n",
    "\n",
    "\n",
    "### Label Encoding\n",
    "* Each category is assigned a value 1 through N.\n",
    "* Where N is the number of categories in the column.\n",
    "\n",
    "#### State:  Label Encoding:\n",
    "     * Goa     1\n",
    "     * Gujarat 2\n",
    "     * Punjab  3\n",
    "\n",
    "(no relation or order between classes)\n",
    "\n",
    "#### Feature Mapping\n",
    "* A feature mapping is a function which maps a data vector to a feature space.\n",
    "* It is used in the case of ordinal variables.\n",
    "\n",
    "#### Size:    Feature Encoding:\n",
    "     * Low    1\n",
    "     * High   3\n",
    "     * Medium 2\n",
    "\n",
    "#### One Hot Encoding\n",
    "(Provide unique values for categorical data)\n",
    "\n",
    "* We map each category to a vector that contains 1 or 0.\n",
    "* The number of vectors depend on the number of categories.\n",
    "\n",
    "#### Binary Encoding\n",
    "\n",
    "* It converts a category into binary digits. Each binary digit creates one column.\n",
    "\n",
    "#### BaseN Encoding\n",
    "\n",
    "* Generalising the value of N in log base N, we get BaseN Encoding.\n",
    "* when our Base is 1, it is One Hot Encoding.\n",
    "* When the Base is 2, it is Binary Encoding and...\n",
    "* If we want a higher Base, we can use BaseN Encoding, which can be used for columns where we have huge number of distinct values.\n",
    "\n",
    "#### Target Encoding\n",
    "\n",
    "* Process of replacing a categorical value with any of the aggregation of the target variable.\n"
   ]
  }
 ],
 "metadata": {
  "kernelspec": {
   "display_name": "Python 3",
   "language": "python",
   "name": "python3"
  },
  "language_info": {
   "codemirror_mode": {
    "name": "ipython",
    "version": 3
   },
   "file_extension": ".py",
   "mimetype": "text/x-python",
   "name": "python",
   "nbconvert_exporter": "python",
   "pygments_lexer": "ipython3",
   "version": "3.6.8"
  }
 },
 "nbformat": 4,
 "nbformat_minor": 5
}
