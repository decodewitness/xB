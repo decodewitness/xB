{
 "cells": [
  {
   "cell_type": "markdown",
   "id": "d94c1099",
   "metadata": {},
   "source": [
    "# NORMAL AND SKEWNESS DISTRIBUTION"
   ]
  },
  {
   "cell_type": "markdown",
   "id": "11d25415",
   "metadata": {},
   "source": [
    "### Normal Distribution\n",
    "\n",
    "* A type of continuous probability distribution\n",
    "* It is symmetric about its mean, median and mode.\n",
    "\n",
    "68.27%\n",
    "95.45%\n",
    "99.73%\n",
    "* Most of the data lies to the mean"
   ]
  },
  {
   "cell_type": "markdown",
   "id": "5100249c",
   "metadata": {},
   "source": [
    "### Skewness\n",
    "\n",
    "* Skewness is an asymmetry in a statistical distribution in which the curve appears distorted or skewed either to the left or to the right.\n",
    "\n",
    "* It can be quantified to define the extent to which a distribution differs from the normal distribution.\n",
    "\n",
    "1.       Mode\n",
    "    Median\n",
    "Mean\n",
    "\n",
    "2.\n",
    "Mean\n",
    "Median\n",
    "Mode\n",
    "\n",
    "3.\n",
    "Mode\n",
    "    Median\n",
    "         Mean"
   ]
  }
 ],
 "metadata": {
  "kernelspec": {
   "display_name": "Python 3",
   "language": "python",
   "name": "python3"
  },
  "language_info": {
   "codemirror_mode": {
    "name": "ipython",
    "version": 3
   },
   "file_extension": ".py",
   "mimetype": "text/x-python",
   "name": "python",
   "nbconvert_exporter": "python",
   "pygments_lexer": "ipython3",
   "version": "3.6.8"
  }
 },
 "nbformat": 4,
 "nbformat_minor": 5
}
