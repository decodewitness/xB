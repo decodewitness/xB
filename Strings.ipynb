{
 "cells": [
  {
   "cell_type": "code",
   "execution_count": 2,
   "id": "7bb18b07",
   "metadata": {},
   "outputs": [
    {
     "data": {
      "text/plain": [
       "'Bollywood'"
      ]
     },
     "execution_count": 2,
     "metadata": {},
     "output_type": "execute_result"
    }
   ],
   "source": [
    "s='bollywood'\n",
    "s.capitalize()"
   ]
  },
  {
   "cell_type": "code",
   "execution_count": 3,
   "id": "063d2913",
   "metadata": {},
   "outputs": [
    {
     "data": {
      "text/plain": [
       "'cinema'"
      ]
     },
     "execution_count": 3,
     "metadata": {},
     "output_type": "execute_result"
    }
   ],
   "source": [
    "s1='CINEMA'\n",
    "s1.lower()"
   ]
  },
  {
   "cell_type": "code",
   "execution_count": 4,
   "id": "7b9c8511",
   "metadata": {},
   "outputs": [
    {
     "data": {
      "text/plain": [
       "'CINEMA'"
      ]
     },
     "execution_count": 4,
     "metadata": {},
     "output_type": "execute_result"
    }
   ],
   "source": [
    "s1.upper()"
   ]
  },
  {
   "cell_type": "markdown",
   "id": "08858b3e",
   "metadata": {},
   "source": [
    "# join() concatenates strings"
   ]
  },
  {
   "cell_type": "code",
   "execution_count": 9,
   "id": "a07035e4",
   "metadata": {},
   "outputs": [
    {
     "name": "stdout",
     "output_type": "stream",
     "text": [
      "Tam Sham mojang\n"
     ]
    }
   ],
   "source": [
    "s1=['Tam','Sham','mojang']\n",
    "x = \" \".join(s1)\n",
    "print(x)"
   ]
  },
  {
   "cell_type": "code",
   "execution_count": 10,
   "id": "73192e56",
   "metadata": {},
   "outputs": [
    {
     "data": {
      "text/plain": [
       "15"
      ]
     },
     "execution_count": 10,
     "metadata": {},
     "output_type": "execute_result"
    }
   ],
   "source": [
    "len(x)"
   ]
  },
  {
   "cell_type": "code",
   "execution_count": 11,
   "id": "204e918c",
   "metadata": {},
   "outputs": [
    {
     "data": {
      "text/plain": [
       "3"
      ]
     },
     "execution_count": 11,
     "metadata": {},
     "output_type": "execute_result"
    }
   ],
   "source": [
    "x.count('a')"
   ]
  },
  {
   "cell_type": "code",
   "execution_count": 12,
   "id": "b4db6f49",
   "metadata": {},
   "outputs": [
    {
     "data": {
      "text/plain": [
       "1"
      ]
     },
     "execution_count": 12,
     "metadata": {},
     "output_type": "execute_result"
    }
   ],
   "source": [
    "x.find('a')"
   ]
  },
  {
   "cell_type": "code",
   "execution_count": 13,
   "id": "e715b200",
   "metadata": {},
   "outputs": [
    {
     "data": {
      "text/plain": [
       "False"
      ]
     },
     "execution_count": 13,
     "metadata": {},
     "output_type": "execute_result"
    }
   ],
   "source": [
    "x.islower()"
   ]
  },
  {
   "cell_type": "code",
   "execution_count": 14,
   "id": "efca3fb7",
   "metadata": {},
   "outputs": [
    {
     "data": {
      "text/plain": [
       "False"
      ]
     },
     "execution_count": 14,
     "metadata": {},
     "output_type": "execute_result"
    }
   ],
   "source": [
    "x.isupper()"
   ]
  },
  {
   "cell_type": "code",
   "execution_count": 16,
   "id": "9baa6f12",
   "metadata": {},
   "outputs": [
    {
     "data": {
      "text/plain": [
       "['Tam', 'Sham', 'mojang']"
      ]
     },
     "execution_count": 16,
     "metadata": {},
     "output_type": "execute_result"
    }
   ],
   "source": [
    "x.split(\" \")"
   ]
  },
  {
   "cell_type": "markdown",
   "id": "78a2d2d3",
   "metadata": {},
   "source": [
    "# strip function"
   ]
  },
  {
   "cell_type": "code",
   "execution_count": 5,
   "id": "2dc14b64",
   "metadata": {},
   "outputs": [
    {
     "data": {
      "text/plain": [
       "'Tom Cruise'"
      ]
     },
     "execution_count": 5,
     "metadata": {},
     "output_type": "execute_result"
    }
   ],
   "source": [
    "s='   Tom Cruise'\n",
    "s.strip()"
   ]
  },
  {
   "cell_type": "code",
   "execution_count": 7,
   "id": "44c9e240",
   "metadata": {},
   "outputs": [
    {
     "data": {
      "text/plain": [
       "True"
      ]
     },
     "execution_count": 7,
     "metadata": {},
     "output_type": "execute_result"
    }
   ],
   "source": [
    "s.istitle()"
   ]
  }
 ],
 "metadata": {
  "kernelspec": {
   "display_name": "Python 3",
   "language": "python",
   "name": "python3"
  },
  "language_info": {
   "codemirror_mode": {
    "name": "ipython",
    "version": 3
   },
   "file_extension": ".py",
   "mimetype": "text/x-python",
   "name": "python",
   "nbconvert_exporter": "python",
   "pygments_lexer": "ipython3",
   "version": "3.6.8"
  }
 },
 "nbformat": 4,
 "nbformat_minor": 5
}
