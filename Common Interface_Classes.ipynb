{
 "cells": [
  {
   "cell_type": "markdown",
   "id": "162e0c9a",
   "metadata": {},
   "source": [
    "# COMMON INTERFACE FOR\n",
    "# CLASS FUNCTIONS"
   ]
  },
  {
   "cell_type": "code",
   "execution_count": 1,
   "id": "d479d9a9",
   "metadata": {},
   "outputs": [],
   "source": [
    "class HDFC:\n",
    "    def rate_of_interest(self):\n",
    "        return 7\n",
    "    \n",
    "class ICICI:\n",
    "    def rate_of_interest(self):\n",
    "        return 4"
   ]
  },
  {
   "cell_type": "code",
   "execution_count": 5,
   "id": "c188e078",
   "metadata": {},
   "outputs": [],
   "source": [
    "def common_interest(bank):\n",
    "    return bank.rate_of_interest()"
   ]
  },
  {
   "cell_type": "code",
   "execution_count": 6,
   "id": "33c5b2fd",
   "metadata": {},
   "outputs": [],
   "source": [
    "h=HDFC()\n",
    "ic=ICICI()"
   ]
  },
  {
   "cell_type": "code",
   "execution_count": 7,
   "id": "e0c018aa",
   "metadata": {},
   "outputs": [
    {
     "data": {
      "text/plain": [
       "4"
      ]
     },
     "execution_count": 7,
     "metadata": {},
     "output_type": "execute_result"
    }
   ],
   "source": [
    "common_interest(ic)"
   ]
  }
 ],
 "metadata": {
  "kernelspec": {
   "display_name": "Python 3",
   "language": "python",
   "name": "python3"
  },
  "language_info": {
   "codemirror_mode": {
    "name": "ipython",
    "version": 3
   },
   "file_extension": ".py",
   "mimetype": "text/x-python",
   "name": "python",
   "nbconvert_exporter": "python",
   "pygments_lexer": "ipython3",
   "version": "3.6.8"
  }
 },
 "nbformat": 4,
 "nbformat_minor": 5
}
