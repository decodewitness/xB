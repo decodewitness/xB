{
 "cells": [
  {
   "cell_type": "code",
   "execution_count": 1,
   "metadata": {
    "colab": {
     "base_uri": "https://localhost:8080/",
     "height": 35
    },
    "executionInfo": {
     "elapsed": 3042,
     "status": "ok",
     "timestamp": 1611574490612,
     "user": {
      "displayName": "Abhilash Chintada",
      "photoUrl": "https://lh3.googleusercontent.com/a-/AOh14GhlwwwMJr16CgjmRFWk833xZEy2OfpaFZDIqM84=s64",
      "userId": "00311744807213723199"
     },
     "user_tz": -330
    },
    "id": "Zk9FkAwi8Yhy",
    "outputId": "7e5fb77c-abfa-4657-9e33-6e00b9daf67a"
   },
   "outputs": [
    {
     "data": {
      "application/vnd.google.colaboratory.intrinsic+json": {
       "type": "string"
      },
      "text/plain": [
       "'2.4.0'"
      ]
     },
     "execution_count": 1,
     "metadata": {
      "tags": []
     },
     "output_type": "execute_result"
    }
   ],
   "source": [
    "import tensorflow as tf\n",
    "import numpy as np\n",
    "\n",
    "# Lets check the current recommended Version \n",
    "tf.__version__"
   ]
  },
  {
   "cell_type": "markdown",
   "metadata": {
    "id": "c1P7Z53f-3P7"
   },
   "source": [
    "Creating a Tensor"
   ]
  },
  {
   "cell_type": "code",
   "execution_count": 2,
   "metadata": {
    "colab": {
     "base_uri": "https://localhost:8080/"
    },
    "executionInfo": {
     "elapsed": 1155,
     "status": "ok",
     "timestamp": 1611575023117,
     "user": {
      "displayName": "Abhilash Chintada",
      "photoUrl": "https://lh3.googleusercontent.com/a-/AOh14GhlwwwMJr16CgjmRFWk833xZEy2OfpaFZDIqM84=s64",
      "userId": "00311744807213723199"
     },
     "user_tz": -330
    },
    "id": "dP64qWGA-6wY",
    "outputId": "ea00a5e1-4be9-4d9b-b1a0-25840ab85449"
   },
   "outputs": [
    {
     "name": "stdout",
     "output_type": "stream",
     "text": [
      "tf.Tensor(3, shape=(), dtype=int32)\n"
     ]
    }
   ],
   "source": [
    "# Rank 0 Tensor (Scaler)\n",
    "a = tf.constant(3)\n",
    "print(a) # 'a' is a Rank 0 Tensor (0 dimensional array) of Int32"
   ]
  },
  {
   "cell_type": "code",
   "execution_count": 3,
   "metadata": {
    "colab": {
     "base_uri": "https://localhost:8080/"
    },
    "executionInfo": {
     "elapsed": 1490,
     "status": "ok",
     "timestamp": 1611575023671,
     "user": {
      "displayName": "Abhilash Chintada",
      "photoUrl": "https://lh3.googleusercontent.com/a-/AOh14GhlwwwMJr16CgjmRFWk833xZEy2OfpaFZDIqM84=s64",
      "userId": "00311744807213723199"
     },
     "user_tz": -330
    },
    "id": "6O740PIL-8IZ",
    "outputId": "e8c52389-a6f2-48aa-b5ab-19a5e5dee899"
   },
   "outputs": [
    {
     "name": "stdout",
     "output_type": "stream",
     "text": [
      "tf.Tensor([1 2 3 4], shape=(4,), dtype=int32)\n"
     ]
    }
   ],
   "source": [
    "# Rank 1 Tensor \n",
    "b = tf.constant([1 , 2 , 3 , 4])\n",
    "print(b) # 'b' is a Rank 1 Tensor of Int32"
   ]
  },
  {
   "cell_type": "code",
   "execution_count": 4,
   "metadata": {
    "colab": {
     "base_uri": "https://localhost:8080/"
    },
    "executionInfo": {
     "elapsed": 1262,
     "status": "ok",
     "timestamp": 1611575023673,
     "user": {
      "displayName": "Abhilash Chintada",
      "photoUrl": "https://lh3.googleusercontent.com/a-/AOh14GhlwwwMJr16CgjmRFWk833xZEy2OfpaFZDIqM84=s64",
      "userId": "00311744807213723199"
     },
     "user_tz": -330
    },
    "id": "cMx6MapE--KC",
    "outputId": "6317db5c-1d7e-430c-adf7-7504f4ddd717"
   },
   "outputs": [
    {
     "name": "stdout",
     "output_type": "stream",
     "text": [
      "tf.Tensor(\n",
      "[[1 2]\n",
      " [3 4]], shape=(2, 2), dtype=int32)\n"
     ]
    }
   ],
   "source": [
    "# Rank 2 Tensor \n",
    "c = tf.constant([[1 , 2] , [3 , 4]])\n",
    "print(c) # 'c' is a Rank 2 Tensor of Int32\n",
    "\n",
    "# Similarly we can create Tensor of Any order "
   ]
  },
  {
   "cell_type": "markdown",
   "metadata": {
    "id": "AAswEOso_Ecy"
   },
   "source": [
    "Converting a Numy array to Tensor"
   ]
  },
  {
   "cell_type": "code",
   "execution_count": 5,
   "metadata": {
    "colab": {
     "base_uri": "https://localhost:8080/"
    },
    "executionInfo": {
     "elapsed": 757,
     "status": "ok",
     "timestamp": 1611575027486,
     "user": {
      "displayName": "Abhilash Chintada",
      "photoUrl": "https://lh3.googleusercontent.com/a-/AOh14GhlwwwMJr16CgjmRFWk833xZEy2OfpaFZDIqM84=s64",
      "userId": "00311744807213723199"
     },
     "user_tz": -330
    },
    "id": "BN2aGu0O9ljv",
    "outputId": "1a041e5d-b4e4-48d7-d700-587e81fc4cc8"
   },
   "outputs": [
    {
     "name": "stdout",
     "output_type": "stream",
     "text": [
      " Before  [1 2 3 4]\n",
      " After  tf.Tensor([1 2 3 4], shape=(4,), dtype=int64)\n"
     ]
    }
   ],
   "source": [
    "array = np.array([1 , 2 , 3 , 4])\n",
    "print(\" Before \" , array)\n",
    "array = tf.convert_to_tensor(array)\n",
    "print(\" After \" , array)"
   ]
  },
  {
   "cell_type": "markdown",
   "metadata": {
    "id": "ayKiVCQI_ruz"
   },
   "source": [
    "Arthematic operations on Tensor"
   ]
  },
  {
   "cell_type": "code",
   "execution_count": 6,
   "metadata": {
    "executionInfo": {
     "elapsed": 1310,
     "status": "ok",
     "timestamp": 1611575033751,
     "user": {
      "displayName": "Abhilash Chintada",
      "photoUrl": "https://lh3.googleusercontent.com/a-/AOh14GhlwwwMJr16CgjmRFWk833xZEy2OfpaFZDIqM84=s64",
      "userId": "00311744807213723199"
     },
     "user_tz": -330
    },
    "id": "Pr15oLk2A3uj"
   },
   "outputs": [],
   "source": [
    "# Sample 2D tensor\n",
    "tensor = tf.constant([[1 , 2] , [3 , 4]])"
   ]
  },
  {
   "cell_type": "code",
   "execution_count": 7,
   "metadata": {
    "colab": {
     "base_uri": "https://localhost:8080/"
    },
    "executionInfo": {
     "elapsed": 1320,
     "status": "ok",
     "timestamp": 1611575034179,
     "user": {
      "displayName": "Abhilash Chintada",
      "photoUrl": "https://lh3.googleusercontent.com/a-/AOh14GhlwwwMJr16CgjmRFWk833xZEy2OfpaFZDIqM84=s64",
      "userId": "00311744807213723199"
     },
     "user_tz": -330
    },
    "id": "qH2GJtKMA5JA",
    "outputId": "bd78e4c3-cce1-44b9-fea4-e9c4b6be512c"
   },
   "outputs": [
    {
     "name": "stdout",
     "output_type": "stream",
     "text": [
      " Added 1  tf.Tensor(\n",
      "[[2 3]\n",
      " [4 5]], shape=(2, 2), dtype=int32)\n"
     ]
    }
   ],
   "source": [
    "# Add 1 to all positions \n",
    "tensor = tf.add(tensor , 1)\n",
    "print(\" Added 1 \" , tensor)"
   ]
  },
  {
   "cell_type": "code",
   "execution_count": 8,
   "metadata": {
    "colab": {
     "base_uri": "https://localhost:8080/"
    },
    "executionInfo": {
     "elapsed": 819,
     "status": "ok",
     "timestamp": 1611575049483,
     "user": {
      "displayName": "Abhilash Chintada",
      "photoUrl": "https://lh3.googleusercontent.com/a-/AOh14GhlwwwMJr16CgjmRFWk833xZEy2OfpaFZDIqM84=s64",
      "userId": "00311744807213723199"
     },
     "user_tz": -330
    },
    "id": "2YGoQOv0A5pw",
    "outputId": "6a76e0cf-0f82-43ab-99d1-c36a6b280a5e"
   },
   "outputs": [
    {
     "name": "stdout",
     "output_type": "stream",
     "text": [
      " Subtracted 1  tf.Tensor(\n",
      "[[1 2]\n",
      " [3 4]], shape=(2, 2), dtype=int32)\n"
     ]
    }
   ],
   "source": [
    "# Sub 1 from all positions \n",
    "tensor = tf.subtract(tensor , 1)\n",
    "print(\" Subtracted 1 \" , tensor)"
   ]
  },
  {
   "cell_type": "code",
   "execution_count": 9,
   "metadata": {
    "colab": {
     "base_uri": "https://localhost:8080/"
    },
    "executionInfo": {
     "elapsed": 844,
     "status": "ok",
     "timestamp": 1611575049850,
     "user": {
      "displayName": "Abhilash Chintada",
      "photoUrl": "https://lh3.googleusercontent.com/a-/AOh14GhlwwwMJr16CgjmRFWk833xZEy2OfpaFZDIqM84=s64",
      "userId": "00311744807213723199"
     },
     "user_tz": -330
    },
    "id": "rPeGicT1A5sY",
    "outputId": "db16113a-ea9e-4e37-8b51-b4487b9f954c"
   },
   "outputs": [
    {
     "name": "stdout",
     "output_type": "stream",
     "text": [
      " Divide by 2  tf.Tensor(\n",
      "[[0.5 1. ]\n",
      " [1.5 2. ]], shape=(2, 2), dtype=float64)\n"
     ]
    }
   ],
   "source": [
    "# Div 2 on all positions \n",
    "tensor = tf.divide(tensor , 2)\n",
    "print(\" Divide by 2 \" , tensor)"
   ]
  },
  {
   "cell_type": "code",
   "execution_count": 10,
   "metadata": {
    "colab": {
     "base_uri": "https://localhost:8080/"
    },
    "executionInfo": {
     "elapsed": 1145,
     "status": "ok",
     "timestamp": 1611575050474,
     "user": {
      "displayName": "Abhilash Chintada",
      "photoUrl": "https://lh3.googleusercontent.com/a-/AOh14GhlwwwMJr16CgjmRFWk833xZEy2OfpaFZDIqM84=s64",
      "userId": "00311744807213723199"
     },
     "user_tz": -330
    },
    "id": "ZS5BjhhiA5u1",
    "outputId": "14ae318a-b2f9-48f0-a6c9-12b5744efc51"
   },
   "outputs": [
    {
     "name": "stdout",
     "output_type": "stream",
     "text": [
      " Multiply by 2  tf.Tensor(\n",
      "[[1. 2.]\n",
      " [3. 4.]], shape=(2, 2), dtype=float64)\n"
     ]
    }
   ],
   "source": [
    "# Multiply with 2 \n",
    "tensor = tf.multiply(tensor , 2)\n",
    "print(\" Multiply by 2 \" , tensor)\n",
    "\n",
    "# you can also perform arthematic operations over vectors "
   ]
  },
  {
   "cell_type": "markdown",
   "metadata": {
    "id": "3B_BGpzcBCRy"
   },
   "source": [
    "Matrix Multiplication"
   ]
  },
  {
   "cell_type": "code",
   "execution_count": 11,
   "metadata": {
    "colab": {
     "base_uri": "https://localhost:8080/"
    },
    "executionInfo": {
     "elapsed": 742,
     "status": "ok",
     "timestamp": 1611575180529,
     "user": {
      "displayName": "Abhilash Chintada",
      "photoUrl": "https://lh3.googleusercontent.com/a-/AOh14GhlwwwMJr16CgjmRFWk833xZEy2OfpaFZDIqM84=s64",
      "userId": "00311744807213723199"
     },
     "user_tz": -330
    },
    "id": "oh40GZyr_6kO",
    "outputId": "81c2d0a6-655a-4f03-9136-300181d318fb"
   },
   "outputs": [
    {
     "data": {
      "text/plain": [
       "<tf.Tensor: shape=(2, 2), dtype=int32, numpy=\n",
       "array([[ 7, 10],\n",
       "       [15, 22]], dtype=int32)>"
      ]
     },
     "execution_count": 11,
     "metadata": {
      "tags": []
     },
     "output_type": "execute_result"
    }
   ],
   "source": [
    "tensor = tf.constant([[1 , 2] , [3 , 4]])\n",
    "tf.matmul(tensor, tensor)"
   ]
  },
  {
   "cell_type": "code",
   "execution_count": 12,
   "metadata": {
    "colab": {
     "base_uri": "https://localhost:8080/"
    },
    "executionInfo": {
     "elapsed": 719,
     "status": "ok",
     "timestamp": 1611575189285,
     "user": {
      "displayName": "Abhilash Chintada",
      "photoUrl": "https://lh3.googleusercontent.com/a-/AOh14GhlwwwMJr16CgjmRFWk833xZEy2OfpaFZDIqM84=s64",
      "userId": "00311744807213723199"
     },
     "user_tz": -330
    },
    "id": "WUekI5uqDCRl",
    "outputId": "6140e3c8-7a29-4233-9fcd-433f294fdb9e"
   },
   "outputs": [
    {
     "data": {
      "text/plain": [
       "<tf.Tensor: shape=(2, 2), dtype=int32, numpy=\n",
       "array([[ 1,  4],\n",
       "       [ 9, 16]], dtype=int32)>"
      ]
     },
     "execution_count": 12,
     "metadata": {
      "tags": []
     },
     "output_type": "execute_result"
    }
   ],
   "source": [
    "tf.multiply(tensor , tensor)"
   ]
  },
  {
   "cell_type": "markdown",
   "metadata": {
    "id": "XozvURkfDWAx"
   },
   "source": [
    "Activations"
   ]
  },
  {
   "cell_type": "code",
   "execution_count": 13,
   "metadata": {
    "colab": {
     "base_uri": "https://localhost:8080/"
    },
    "executionInfo": {
     "elapsed": 728,
     "status": "ok",
     "timestamp": 1611575308312,
     "user": {
      "displayName": "Abhilash Chintada",
      "photoUrl": "https://lh3.googleusercontent.com/a-/AOh14GhlwwwMJr16CgjmRFWk833xZEy2OfpaFZDIqM84=s64",
      "userId": "00311744807213723199"
     },
     "user_tz": -330
    },
    "id": "K-Msi5WhETw7",
    "outputId": "7364bc9b-fec9-4f99-f2f1-e3d0b7bbf293"
   },
   "outputs": [
    {
     "data": {
      "text/plain": [
       "<tf.Tensor: shape=(2, 2), dtype=float64, numpy=\n",
       "array([[ 1.,  2.],\n",
       "       [ 5., 10.]])>"
      ]
     },
     "execution_count": 13,
     "metadata": {
      "tags": []
     },
     "output_type": "execute_result"
    }
   ],
   "source": [
    "tensor = tf.constant([[1 , 2] , [5 , 10]] , dtype=tf.float64)\n",
    "tensor"
   ]
  },
  {
   "cell_type": "code",
   "execution_count": 14,
   "metadata": {
    "colab": {
     "base_uri": "https://localhost:8080/"
    },
    "executionInfo": {
     "elapsed": 725,
     "status": "ok",
     "timestamp": 1611575327059,
     "user": {
      "displayName": "Abhilash Chintada",
      "photoUrl": "https://lh3.googleusercontent.com/a-/AOh14GhlwwwMJr16CgjmRFWk833xZEy2OfpaFZDIqM84=s64",
      "userId": "00311744807213723199"
     },
     "user_tz": -330
    },
    "id": "Lo-wPQvCDXL-",
    "outputId": "9e824187-cbab-40c3-f42f-d5327a388f0b"
   },
   "outputs": [
    {
     "data": {
      "text/plain": [
       "<tf.Tensor: shape=(2, 2), dtype=float64, numpy=\n",
       "array([[0.26894142, 0.73105858],\n",
       "       [0.00669285, 0.99330715]])>"
      ]
     },
     "execution_count": 14,
     "metadata": {
      "tags": []
     },
     "output_type": "execute_result"
    }
   ],
   "source": [
    "# Applying softmax \n",
    "tf.nn.softmax(tensor)"
   ]
  },
  {
   "cell_type": "code",
   "execution_count": null,
   "metadata": {
    "colab": {
     "base_uri": "https://localhost:8080/"
    },
    "executionInfo": {
     "elapsed": 2126,
     "status": "ok",
     "timestamp": 1605584403484,
     "user": {
      "displayName": "sai krishna",
      "photoUrl": "",
      "userId": "01274010495149910479"
     },
     "user_tz": -330
    },
    "id": "KQpt5UYuEV9I",
    "outputId": "41f62583-e9ff-4966-a2da-4cf50df3c44d"
   },
   "outputs": [
    {
     "data": {
      "text/plain": [
       "<tf.Tensor: shape=(2, 2), dtype=float64, numpy=\n",
       "array([[0.73105858, 0.88079708],\n",
       "       [0.99330715, 0.9999546 ]])>"
      ]
     },
     "execution_count": 62,
     "metadata": {
      "tags": []
     },
     "output_type": "execute_result"
    }
   ],
   "source": [
    "# Applying sigmoid \n",
    "tf.nn.sigmoid(tensor)"
   ]
  },
  {
   "cell_type": "code",
   "execution_count": null,
   "metadata": {
    "colab": {
     "base_uri": "https://localhost:8080/"
    },
    "executionInfo": {
     "elapsed": 2121,
     "status": "ok",
     "timestamp": 1605584403485,
     "user": {
      "displayName": "sai krishna",
      "photoUrl": "",
      "userId": "01274010495149910479"
     },
     "user_tz": -330
    },
    "id": "hA4Fv2TmEZAJ",
    "outputId": "119fd0e5-072d-4204-ace4-f1da6dc74801"
   },
   "outputs": [
    {
     "data": {
      "text/plain": [
       "<tf.Tensor: shape=(2, 2), dtype=float64, numpy=\n",
       "array([[ 1.,  2.],\n",
       "       [ 5., 10.]])>"
      ]
     },
     "execution_count": 63,
     "metadata": {
      "tags": []
     },
     "output_type": "execute_result"
    }
   ],
   "source": [
    "# Applying relu \n",
    "tf.nn.relu(tensor)"
   ]
  },
  {
   "cell_type": "code",
   "execution_count": null,
   "metadata": {
    "colab": {
     "base_uri": "https://localhost:8080/"
    },
    "executionInfo": {
     "elapsed": 2117,
     "status": "ok",
     "timestamp": 1605584403487,
     "user": {
      "displayName": "sai krishna",
      "photoUrl": "",
      "userId": "01274010495149910479"
     },
     "user_tz": -330
    },
    "id": "EkPkHastEcxx",
    "outputId": "561fe678-aaf5-439d-d6f1-ce2a4fea6a1b"
   },
   "outputs": [
    {
     "data": {
      "text/plain": [
       "<tf.Tensor: shape=(2, 2), dtype=float64, numpy=\n",
       "array([[ 1.,  2.],\n",
       "       [ 5., 10.]])>"
      ]
     },
     "execution_count": 64,
     "metadata": {
      "tags": []
     },
     "output_type": "execute_result"
    }
   ],
   "source": [
    "# Applying lrelu \n",
    "tf.nn.leaky_relu(tensor)\n",
    "\n",
    "# Tensorflow has all the Activation functions built it and ready to use "
   ]
  },
  {
   "cell_type": "markdown",
   "metadata": {
    "id": "2pNjwj-gDexB"
   },
   "source": [
    "Optimizers"
   ]
  },
  {
   "cell_type": "code",
   "execution_count": 15,
   "metadata": {
    "colab": {
     "base_uri": "https://localhost:8080/"
    },
    "executionInfo": {
     "elapsed": 709,
     "status": "ok",
     "timestamp": 1611575453241,
     "user": {
      "displayName": "Abhilash Chintada",
      "photoUrl": "https://lh3.googleusercontent.com/a-/AOh14GhlwwwMJr16CgjmRFWk833xZEy2OfpaFZDIqM84=s64",
      "userId": "00311744807213723199"
     },
     "user_tz": -330
    },
    "id": "IeG789GmDf_a",
    "outputId": "089d8c5d-1fd5-4518-cb26-e10236fb4cf2"
   },
   "outputs": [
    {
     "name": "stdout",
     "output_type": "stream",
     "text": [
      "<tensorflow.python.keras.optimizer_v2.adam.Adam object at 0x7ff67e7b1c88>\n"
     ]
    }
   ],
   "source": [
    "# Tensorflow has all Optimizers that we discussed in the class \n",
    "\n",
    "Optimizer = tf.keras.optimizers.Adam()\n",
    "print(Optimizer) # Refers to Optimizer class created "
   ]
  },
  {
   "cell_type": "markdown",
   "metadata": {
    "id": "Rx95sInuDgby"
   },
   "source": [
    "Basic Neural Network Structure"
   ]
  },
  {
   "cell_type": "code",
   "execution_count": null,
   "metadata": {
    "colab": {
     "base_uri": "https://localhost:8080/"
    },
    "executionInfo": {
     "elapsed": 2100,
     "status": "ok",
     "timestamp": 1605584403490,
     "user": {
      "displayName": "sai krishna",
      "photoUrl": "",
      "userId": "01274010495149910479"
     },
     "user_tz": -330
    },
    "id": "PjDIyRYJDkbZ",
    "outputId": "9491a31c-14b5-4e30-f192-a12a7af16001"
   },
   "outputs": [
    {
     "name": "stdout",
     "output_type": "stream",
     "text": [
      "Model: \"sequential_3\"\n",
      "_________________________________________________________________\n",
      "Layer (type)                 Output Shape              Param #   \n",
      "=================================================================\n",
      "dense_7 (Dense)              (None, 32)                352       \n",
      "_________________________________________________________________\n",
      "dense_8 (Dense)              (None, 16)                528       \n",
      "=================================================================\n",
      "Total params: 880\n",
      "Trainable params: 880\n",
      "Non-trainable params: 0\n",
      "_________________________________________________________________\n"
     ]
    }
   ],
   "source": [
    "# Start your model with Sequential Object  \n",
    "model = tf.keras.models.Sequential()\n",
    "# Next add in your Input object and Specify the Dimension you want to pass in \n",
    "model.add(tf.keras.Input(shape=(10,)))\n",
    "# Add in your Neurons of 1st hidden layer\n",
    "model.add(tf.keras.layers.Dense(32))\n",
    "# 2nd layer \n",
    "model.add(tf.keras.layers.Dense(16))\n",
    "\n",
    "# print summary to undertstand your neural network flow\n",
    "model.summary()"
   ]
  }
 ],
 "metadata": {
  "colab": {
   "collapsed_sections": [],
   "name": "Tensorflow2_0.ipynb",
   "provenance": []
  },
  "kernelspec": {
   "display_name": "Python 3",
   "language": "python",
   "name": "python3"
  },
  "language_info": {
   "codemirror_mode": {
    "name": "ipython",
    "version": 3
   },
   "file_extension": ".py",
   "mimetype": "text/x-python",
   "name": "python",
   "nbconvert_exporter": "python",
   "pygments_lexer": "ipython3",
   "version": "3.6.8"
  }
 },
 "nbformat": 4,
 "nbformat_minor": 1
}
